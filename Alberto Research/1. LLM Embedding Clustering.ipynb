{
 "cells": [
  {
   "cell_type": "code",
   "execution_count": 170,
   "metadata": {},
   "outputs": [],
   "source": [
    "import pandas as pd \n",
    "import numpy as np\n",
    "import matplotlib.pyplot as plt"
   ]
  },
  {
   "cell_type": "code",
   "execution_count": 171,
   "metadata": {},
   "outputs": [
    {
     "data": {
      "text/html": [
       "<div>\n",
       "<style scoped>\n",
       "    .dataframe tbody tr th:only-of-type {\n",
       "        vertical-align: middle;\n",
       "    }\n",
       "\n",
       "    .dataframe tbody tr th {\n",
       "        vertical-align: top;\n",
       "    }\n",
       "\n",
       "    .dataframe thead th {\n",
       "        text-align: right;\n",
       "    }\n",
       "</style>\n",
       "<table border=\"1\" class=\"dataframe\">\n",
       "  <thead>\n",
       "    <tr style=\"text-align: right;\">\n",
       "      <th></th>\n",
       "      <th>doc_id</th>\n",
       "      <th>url</th>\n",
       "      <th>cache</th>\n",
       "      <th>fulltext</th>\n",
       "      <th>nature</th>\n",
       "      <th>published</th>\n",
       "      <th>entity_name</th>\n",
       "      <th>entity_type</th>\n",
       "      <th>geo_path</th>\n",
       "      <th>extracted_text</th>\n",
       "    </tr>\n",
       "  </thead>\n",
       "  <tbody>\n",
       "    <tr>\n",
       "      <th>0</th>\n",
       "      <td>2713/e87b2_Plan_Action_CASGBS.pdf</td>\n",
       "      <td>https://www.saintgermainbouclesdeseine.fr/wp-c...</td>\n",
       "      <td>https://datapolitics-public.s3.gra.io.cloud.ov...</td>\n",
       "      <td>https://datapolitics-public.s3.gra.io.cloud.ov...</td>\n",
       "      <td>NaN</td>\n",
       "      <td>2023-01-01 00:00:00</td>\n",
       "      <td>CA Saint Germain Boucles de Seine (78)</td>\n",
       "      <td>Intercommunalité</td>\n",
       "      <td>CA Saint Germain Boucles de Seine (78)/Yveline...</td>\n",
       "      <td>COMMUNAUTÉ D’AGGLOMERATION SAINT GERMAIN BOUCL...</td>\n",
       "    </tr>\n",
       "    <tr>\n",
       "      <th>1</th>\n",
       "      <td>2713/9eef1_Resume_Non_Techniques_CASGBS.pdf</td>\n",
       "      <td>https://www.saintgermainbouclesdeseine.fr/wp-c...</td>\n",
       "      <td>https://datapolitics-public.s3.gra.io.cloud.ov...</td>\n",
       "      <td>https://datapolitics-public.s3.gra.io.cloud.ov...</td>\n",
       "      <td>NaN</td>\n",
       "      <td>2023-01-01 00:00:00</td>\n",
       "      <td>CA Saint Germain Boucles de Seine (78)</td>\n",
       "      <td>Intercommunalité</td>\n",
       "      <td>CA Saint Germain Boucles de Seine (78)/Yveline...</td>\n",
       "      <td>COMMUNAUTÉ D’AGGLOMÉRATION SAINT GERMAIN BOUCL...</td>\n",
       "    </tr>\n",
       "    <tr>\n",
       "      <th>2</th>\n",
       "      <td>2713/e3f75_Evaluation_Environnementale_Strateg...</td>\n",
       "      <td>https://www.saintgermainbouclesdeseine.fr/wp-c...</td>\n",
       "      <td>https://datapolitics-public.s3.gra.io.cloud.ov...</td>\n",
       "      <td>https://datapolitics-public.s3.gra.io.cloud.ov...</td>\n",
       "      <td>NaN</td>\n",
       "      <td>2023-01-01 00:00:00</td>\n",
       "      <td>CA Saint Germain Boucles de Seine (78)</td>\n",
       "      <td>Intercommunalité</td>\n",
       "      <td>CA Saint Germain Boucles de Seine (78)/Yveline...</td>\n",
       "      <td>COMMUNAUTÉ D’AGGLOMÉRATION SAINT GERMAIN BOUCL...</td>\n",
       "    </tr>\n",
       "    <tr>\n",
       "      <th>3</th>\n",
       "      <td>2713/6ed88_Rapport-Strategique_CASGBS.pdf</td>\n",
       "      <td>https://www.saintgermainbouclesdeseine.fr/wp-c...</td>\n",
       "      <td>https://datapolitics-public.s3.gra.io.cloud.ov...</td>\n",
       "      <td>https://datapolitics-public.s3.gra.io.cloud.ov...</td>\n",
       "      <td>NaN</td>\n",
       "      <td>2023-01-01 00:00:00</td>\n",
       "      <td>CA Saint Germain Boucles de Seine (78)</td>\n",
       "      <td>Intercommunalité</td>\n",
       "      <td>CA Saint Germain Boucles de Seine (78)/Yveline...</td>\n",
       "      <td>COMMUNAUTÉ D’AGGLOMÉRATION SAINT GERMAIN BOUCL...</td>\n",
       "    </tr>\n",
       "    <tr>\n",
       "      <th>4</th>\n",
       "      <td>1796/69a6d_chinon_actus_octobre_2022_stc.pdf</td>\n",
       "      <td>https://www.ville-chinon.com/fileadmin/contenu...</td>\n",
       "      <td>https://datapolitics-public.s3.gra.io.cloud.ov...</td>\n",
       "      <td>https://datapolitics-public.s3.gra.io.cloud.ov...</td>\n",
       "      <td>NaN</td>\n",
       "      <td>2023-01-01 00:00:00</td>\n",
       "      <td>Chinon</td>\n",
       "      <td>Commune</td>\n",
       "      <td>Chinon/CC Chinon, Vienne et Loire/Indre-et-Loi...</td>\n",
       "      <td>chinon le mag MAgazine MUNICIPAL / octobre 202...</td>\n",
       "    </tr>\n",
       "  </tbody>\n",
       "</table>\n",
       "</div>"
      ],
      "text/plain": [
       "                                              doc_id  \\\n",
       "0                  2713/e87b2_Plan_Action_CASGBS.pdf   \n",
       "1        2713/9eef1_Resume_Non_Techniques_CASGBS.pdf   \n",
       "2  2713/e3f75_Evaluation_Environnementale_Strateg...   \n",
       "3          2713/6ed88_Rapport-Strategique_CASGBS.pdf   \n",
       "4       1796/69a6d_chinon_actus_octobre_2022_stc.pdf   \n",
       "\n",
       "                                                 url  \\\n",
       "0  https://www.saintgermainbouclesdeseine.fr/wp-c...   \n",
       "1  https://www.saintgermainbouclesdeseine.fr/wp-c...   \n",
       "2  https://www.saintgermainbouclesdeseine.fr/wp-c...   \n",
       "3  https://www.saintgermainbouclesdeseine.fr/wp-c...   \n",
       "4  https://www.ville-chinon.com/fileadmin/contenu...   \n",
       "\n",
       "                                               cache  \\\n",
       "0  https://datapolitics-public.s3.gra.io.cloud.ov...   \n",
       "1  https://datapolitics-public.s3.gra.io.cloud.ov...   \n",
       "2  https://datapolitics-public.s3.gra.io.cloud.ov...   \n",
       "3  https://datapolitics-public.s3.gra.io.cloud.ov...   \n",
       "4  https://datapolitics-public.s3.gra.io.cloud.ov...   \n",
       "\n",
       "                                            fulltext nature  \\\n",
       "0  https://datapolitics-public.s3.gra.io.cloud.ov...    NaN   \n",
       "1  https://datapolitics-public.s3.gra.io.cloud.ov...    NaN   \n",
       "2  https://datapolitics-public.s3.gra.io.cloud.ov...    NaN   \n",
       "3  https://datapolitics-public.s3.gra.io.cloud.ov...    NaN   \n",
       "4  https://datapolitics-public.s3.gra.io.cloud.ov...    NaN   \n",
       "\n",
       "             published                             entity_name  \\\n",
       "0  2023-01-01 00:00:00  CA Saint Germain Boucles de Seine (78)   \n",
       "1  2023-01-01 00:00:00  CA Saint Germain Boucles de Seine (78)   \n",
       "2  2023-01-01 00:00:00  CA Saint Germain Boucles de Seine (78)   \n",
       "3  2023-01-01 00:00:00  CA Saint Germain Boucles de Seine (78)   \n",
       "4  2023-01-01 00:00:00                                  Chinon   \n",
       "\n",
       "        entity_type                                           geo_path  \\\n",
       "0  Intercommunalité  CA Saint Germain Boucles de Seine (78)/Yveline...   \n",
       "1  Intercommunalité  CA Saint Germain Boucles de Seine (78)/Yveline...   \n",
       "2  Intercommunalité  CA Saint Germain Boucles de Seine (78)/Yveline...   \n",
       "3  Intercommunalité  CA Saint Germain Boucles de Seine (78)/Yveline...   \n",
       "4           Commune  Chinon/CC Chinon, Vienne et Loire/Indre-et-Loi...   \n",
       "\n",
       "                                      extracted_text  \n",
       "0  COMMUNAUTÉ D’AGGLOMERATION SAINT GERMAIN BOUCL...  \n",
       "1  COMMUNAUTÉ D’AGGLOMÉRATION SAINT GERMAIN BOUCL...  \n",
       "2  COMMUNAUTÉ D’AGGLOMÉRATION SAINT GERMAIN BOUCL...  \n",
       "3  COMMUNAUTÉ D’AGGLOMÉRATION SAINT GERMAIN BOUCL...  \n",
       "4  chinon le mag MAgazine MUNICIPAL / octobre 202...  "
      ]
     },
     "execution_count": 171,
     "metadata": {},
     "output_type": "execute_result"
    }
   ],
   "source": [
    "data = pd.read_csv(\"../dataset_full_texts.csv\")\n",
    "data.head()"
   ]
  },
  {
   "cell_type": "code",
   "execution_count": 172,
   "metadata": {},
   "outputs": [
    {
     "data": {
      "text/plain": [
       "(16172, 10)"
      ]
     },
     "execution_count": 172,
     "metadata": {},
     "output_type": "execute_result"
    }
   ],
   "source": [
    "data.shape"
   ]
  },
  {
   "cell_type": "code",
   "execution_count": 173,
   "metadata": {},
   "outputs": [
    {
     "data": {
      "text/plain": [
       "nature\n",
       "comm              3688\n",
       "pv.cr             2755\n",
       "dlao.plu          2573\n",
       "acte.delib        1168\n",
       "other              694\n",
       "acte.arrete        518\n",
       "pv.full            434\n",
       "bdj                269\n",
       "dlao.autres        174\n",
       "acte.raa            35\n",
       "mp.reglement         3\n",
       "bdj.annexes          2\n",
       "rapport              2\n",
       "mp.annonce           1\n",
       "comm.demarches       1\n",
       "Name: count, dtype: int64"
      ]
     },
     "execution_count": 173,
     "metadata": {},
     "output_type": "execute_result"
    }
   ],
   "source": [
    "data[\"nature\"].value_counts()"
   ]
  },
  {
   "cell_type": "code",
   "execution_count": 174,
   "metadata": {},
   "outputs": [],
   "source": [
    "data_sample_comm = data[data[\"nature\"] == \"comm\"].sample(2000, random_state=42)"
   ]
  },
  {
   "cell_type": "code",
   "execution_count": 175,
   "metadata": {},
   "outputs": [],
   "source": [
    "data_sample_comm.to_csv(\"data_experiments.csv\", index=False)"
   ]
  },
  {
   "cell_type": "markdown",
   "metadata": {},
   "source": [
    "## Computing Text Embeddings"
   ]
  },
  {
   "cell_type": "code",
   "execution_count": 176,
   "metadata": {},
   "outputs": [],
   "source": [
    "import torch\n",
    "device = torch.device(\"cuda\")"
   ]
  },
  {
   "cell_type": "code",
   "execution_count": 177,
   "metadata": {},
   "outputs": [],
   "source": [
    "from sentence_transformers import SentenceTransformer\n",
    "\n",
    "model =  SentenceTransformer(\"dangvantuan/sentence-camembert-base\")"
   ]
  },
  {
   "cell_type": "code",
   "execution_count": 178,
   "metadata": {},
   "outputs": [],
   "source": [
    "# look for better embedding workflow?\n",
    "data_sample_comm[\"embeddings\"] = data_sample_comm[\"extracted_text\"].apply(lambda text: model.encode(text))"
   ]
  },
  {
   "cell_type": "markdown",
   "metadata": {},
   "source": [
    "## Clustering"
   ]
  },
  {
   "cell_type": "code",
   "execution_count": 179,
   "metadata": {},
   "outputs": [],
   "source": [
    "text_embeddings = data_sample_comm[\"embeddings\"].to_list()"
   ]
  },
  {
   "cell_type": "code",
   "execution_count": 180,
   "metadata": {},
   "outputs": [],
   "source": [
    "from sklearn.cluster import KMeans, AgglomerativeClustering\n",
    "from sklearn.neighbors import NearestCentroid\n",
    "from sklearn.metrics import silhouette_score, calinski_harabasz_score\n",
    "from scipy.spatial.distance import cdist"
   ]
  },
  {
   "cell_type": "code",
   "execution_count": 181,
   "metadata": {},
   "outputs": [],
   "source": [
    "def create_evaluate_cluster(clustering_algorithm, X, n_clusters, nearest_centroid=False):\n",
    "    \n",
    "    clustering_algorithm.fit(X)\n",
    "    labels = clustering_algorithm.labels_\n",
    "    \n",
    "    sil_score = silhouette_score(X, labels, random_state=42)\n",
    "    cal_score = calinski_harabasz_score(X, labels)\n",
    "\n",
    "    if nearest_centroid == True:\n",
    "        cluster_centers = NearestCentroid().fit(X, labels).centroids_\n",
    "    else:\n",
    "        cluster_centers = clustering_algorithm.cluster_centers_\n",
    "        \n",
    "    distorsion = sum(np.min(cdist(X, cluster_centers, 'euclidean'), axis=1)) / len(X)\n",
    "\n",
    "    print(f\"Clustering Algorithm: {clustering_algorithm}\")\n",
    "    print(f\"Number of clusters: {n_clusters}\")\n",
    "    print(f\"Silhouette score: {sil_score}\")\n",
    "    print(f\"Calinski score: {cal_score}\")\n",
    "    print()\n",
    "    \n",
    "    return clustering_algorithm, sil_score, cal_score, distorsion, labels\n",
    "    "
   ]
  },
  {
   "cell_type": "code",
   "execution_count": 182,
   "metadata": {},
   "outputs": [
    {
     "name": "stdout",
     "output_type": "stream",
     "text": [
      "[2, 3, 4, 5]\n"
     ]
    }
   ],
   "source": [
    "import numpy as np\n",
    "ns_clusters = list(np.arange(2, 6, 1))\n",
    "print(ns_clusters)"
   ]
  },
  {
   "cell_type": "code",
   "execution_count": 183,
   "metadata": {},
   "outputs": [
    {
     "name": "stdout",
     "output_type": "stream",
     "text": [
      "Clustering Algorithm: KMeans(n_clusters=2, random_state=40)\n",
      "Number of clusters: 2\n",
      "Silhouette score: 0.3049520254135132\n",
      "Calinski score: 315.8850559851284\n",
      "\n",
      "Clustering Algorithm: KMeans(n_clusters=3, random_state=40)\n",
      "Number of clusters: 3\n",
      "Silhouette score: 0.08006773144006729\n",
      "Calinski score: 214.9238428614833\n",
      "\n",
      "Clustering Algorithm: KMeans(n_clusters=4, random_state=40)\n",
      "Number of clusters: 4\n",
      "Silhouette score: 0.0840320885181427\n",
      "Calinski score: 183.7164214194589\n",
      "\n",
      "Clustering Algorithm: KMeans(n_clusters=5, random_state=40)\n",
      "Number of clusters: 5\n",
      "Silhouette score: 0.0730104148387909\n",
      "Calinski score: 149.91712080226665\n",
      "\n"
     ]
    }
   ],
   "source": [
    "k_silhouette_scores = []\n",
    "K_calinski_scores = []\n",
    "k_distorsions = []\n",
    "k_labels = []\n",
    "\n",
    "for n_clusters in ns_clusters:\n",
    "    kmeans, sil_score, cal_score, distorsion, labels = create_evaluate_cluster(KMeans(n_clusters=n_clusters, random_state=40), text_embeddings, n_clusters)\n",
    "    k_silhouette_scores.append(sil_score)\n",
    "    K_calinski_scores.append(cal_score)\n",
    "    k_distorsions.append(distorsion)\n",
    "    k_labels.append(labels)"
   ]
  },
  {
   "cell_type": "code",
   "execution_count": 184,
   "metadata": {},
   "outputs": [
    {
     "name": "stdout",
     "output_type": "stream",
     "text": [
      "Clustering Algorithm: AgglomerativeClustering(compute_distances=True)\n",
      "Number of clusters: 2\n",
      "Silhouette score: 0.3033903241157532\n",
      "Calinski score: 314.9338211235616\n",
      "\n",
      "Clustering Algorithm: AgglomerativeClustering(compute_distances=True, n_clusters=3)\n",
      "Number of clusters: 3\n",
      "Silhouette score: 0.07417340576648712\n",
      "Calinski score: 206.6358260788697\n",
      "\n",
      "Clustering Algorithm: AgglomerativeClustering(compute_distances=True, n_clusters=4)\n",
      "Number of clusters: 4\n",
      "Silhouette score: 0.07212809473276138\n",
      "Calinski score: 166.89704250583236\n",
      "\n",
      "Clustering Algorithm: AgglomerativeClustering(compute_distances=True, n_clusters=5)\n",
      "Number of clusters: 5\n",
      "Silhouette score: 0.0660490021109581\n",
      "Calinski score: 135.73531146024482\n",
      "\n"
     ]
    }
   ],
   "source": [
    "ag_silhouette_scores = []\n",
    "ag_calinski_scores = []\n",
    "ag_distorsions = []\n",
    "agg_labels = []\n",
    "\n",
    "for n_clusters in ns_clusters:\n",
    "    agg_cluster, sil_score, cal_score, distorsion, labels = create_evaluate_cluster(AgglomerativeClustering(n_clusters=n_clusters, compute_distances=True), text_embeddings, n_clusters, nearest_centroid=True)\n",
    "    ag_silhouette_scores.append(sil_score)\n",
    "    ag_calinski_scores.append(cal_score)\n",
    "    ag_distorsions.append(distorsion)\n",
    "    agg_labels.append(labels)"
   ]
  },
  {
   "cell_type": "code",
   "execution_count": 185,
   "metadata": {},
   "outputs": [],
   "source": [
    "data_sample_comm[\"km_cluster_labels\"] = k_labels[0]\n",
    "data_sample_comm[\"agg_cluster_labels\"] = agg_labels[0]"
   ]
  },
  {
   "cell_type": "code",
   "execution_count": 186,
   "metadata": {},
   "outputs": [
    {
     "data": {
      "text/plain": [
       "km_cluster_labels\n",
       "0    1870\n",
       "1     130\n",
       "Name: count, dtype: int64"
      ]
     },
     "execution_count": 186,
     "metadata": {},
     "output_type": "execute_result"
    }
   ],
   "source": [
    "data_sample_comm[\"km_cluster_labels\"].value_counts()"
   ]
  },
  {
   "cell_type": "code",
   "execution_count": 187,
   "metadata": {},
   "outputs": [
    {
     "data": {
      "text/plain": [
       "agg_cluster_labels\n",
       "0    1871\n",
       "1     129\n",
       "Name: count, dtype: int64"
      ]
     },
     "execution_count": 187,
     "metadata": {},
     "output_type": "execute_result"
    }
   ],
   "source": [
    "data_sample_comm[\"agg_cluster_labels\"].value_counts()"
   ]
  },
  {
   "cell_type": "code",
   "execution_count": 188,
   "metadata": {},
   "outputs": [
    {
     "data": {
      "text/html": [
       "<div>\n",
       "<style scoped>\n",
       "    .dataframe tbody tr th:only-of-type {\n",
       "        vertical-align: middle;\n",
       "    }\n",
       "\n",
       "    .dataframe tbody tr th {\n",
       "        vertical-align: top;\n",
       "    }\n",
       "\n",
       "    .dataframe thead th {\n",
       "        text-align: right;\n",
       "    }\n",
       "</style>\n",
       "<table border=\"1\" class=\"dataframe\">\n",
       "  <thead>\n",
       "    <tr style=\"text-align: right;\">\n",
       "      <th></th>\n",
       "      <th>doc_id</th>\n",
       "      <th>url</th>\n",
       "      <th>cache</th>\n",
       "      <th>fulltext</th>\n",
       "      <th>nature</th>\n",
       "      <th>published</th>\n",
       "      <th>entity_name</th>\n",
       "      <th>entity_type</th>\n",
       "      <th>geo_path</th>\n",
       "      <th>extracted_text</th>\n",
       "      <th>embeddings</th>\n",
       "      <th>km_cluster_labels</th>\n",
       "      <th>agg_cluster_labels</th>\n",
       "    </tr>\n",
       "  </thead>\n",
       "  <tbody>\n",
       "    <tr>\n",
       "      <th>13211</th>\n",
       "      <td>2578/f4d9e5fbe7bfa06e463483bdfa643382590a812f_...</td>\n",
       "      <td>https://domme-villefranche-du-perigord.fr/wp-c...</td>\n",
       "      <td>https://datapolitics-public.s3.gra.io.cloud.ov...</td>\n",
       "      <td>https://datapolitics-public.s3.gra.io.cloud.ov...</td>\n",
       "      <td>comm</td>\n",
       "      <td>2024-06-01 00:00:00</td>\n",
       "      <td>CC de Domme-Villefranche du Périgord</td>\n",
       "      <td>Intercommunalité</td>\n",
       "      <td>CC de Domme-Villefranche du Périgord/Dordogne/...</td>\n",
       "      <td>PROJET D’AMÉNAGEMENT ET DE DÉVELOPPEMENT DURAB...</td>\n",
       "      <td>[-0.004360735, 0.027144723, 0.017031213, 0.053...</td>\n",
       "      <td>1</td>\n",
       "      <td>0</td>\n",
       "    </tr>\n",
       "  </tbody>\n",
       "</table>\n",
       "</div>"
      ],
      "text/plain": [
       "                                                  doc_id  \\\n",
       "13211  2578/f4d9e5fbe7bfa06e463483bdfa643382590a812f_...   \n",
       "\n",
       "                                                     url  \\\n",
       "13211  https://domme-villefranche-du-perigord.fr/wp-c...   \n",
       "\n",
       "                                                   cache  \\\n",
       "13211  https://datapolitics-public.s3.gra.io.cloud.ov...   \n",
       "\n",
       "                                                fulltext nature  \\\n",
       "13211  https://datapolitics-public.s3.gra.io.cloud.ov...   comm   \n",
       "\n",
       "                 published                           entity_name  \\\n",
       "13211  2024-06-01 00:00:00  CC de Domme-Villefranche du Périgord   \n",
       "\n",
       "            entity_type                                           geo_path  \\\n",
       "13211  Intercommunalité  CC de Domme-Villefranche du Périgord/Dordogne/...   \n",
       "\n",
       "                                          extracted_text  \\\n",
       "13211  PROJET D’AMÉNAGEMENT ET DE DÉVELOPPEMENT DURAB...   \n",
       "\n",
       "                                              embeddings  km_cluster_labels  \\\n",
       "13211  [-0.004360735, 0.027144723, 0.017031213, 0.053...                  1   \n",
       "\n",
       "       agg_cluster_labels  \n",
       "13211                   0  "
      ]
     },
     "execution_count": 188,
     "metadata": {},
     "output_type": "execute_result"
    }
   ],
   "source": [
    "# samples where they differ\n",
    "data_sample_comm[(data_sample_comm[\"km_cluster_labels\"] == 1 ) & (data_sample_comm[\"agg_cluster_labels\"] != 1)]"
   ]
  },
  {
   "cell_type": "markdown",
   "metadata": {},
   "source": [
    "### Qualitative Results"
   ]
  },
  {
   "cell_type": "code",
   "execution_count": 189,
   "metadata": {},
   "outputs": [],
   "source": [
    "from sklearn.feature_extraction.text import TfidfVectorizer\n",
    "import spacy\n",
    "\n",
    "nlp = spacy.load(\"fr_core_news_sm\")\n",
    "\n",
    "def preprocess_tokenize(text):\n",
    "    doc = nlp(text)\n",
    "    tokens = [token.lemma_.lower() for token in doc if token.is_stop == False and token.is_alpha]\n",
    "    return tokens\n",
    "\n",
    "tf = TfidfVectorizer(tokenizer=preprocess_tokenize, max_features=5000)\n",
    "X = data_sample_comm[\"extracted_text\"]"
   ]
  },
  {
   "cell_type": "code",
   "execution_count": 190,
   "metadata": {},
   "outputs": [
    {
     "name": "stderr",
     "output_type": "stream",
     "text": [
      "c:\\Users\\alber\\AppData\\Local\\Programs\\Python\\Python312\\Lib\\site-packages\\sklearn\\feature_extraction\\text.py:525: UserWarning: The parameter 'token_pattern' will not be used since 'tokenizer' is not None'\n",
      "  warnings.warn(\n"
     ]
    }
   ],
   "source": [
    "tf_matrix = tf.fit_transform(X)\n",
    "feature_names = tf.get_feature_names_out()"
   ]
  },
  {
   "cell_type": "code",
   "execution_count": 191,
   "metadata": {},
   "outputs": [],
   "source": [
    "tf_idf_matrix_df = pd.DataFrame(tf_matrix.toarray(), columns=feature_names)"
   ]
  },
  {
   "cell_type": "code",
   "execution_count": 192,
   "metadata": {},
   "outputs": [
    {
     "data": {
      "text/plain": [
       "(2000, 5000)"
      ]
     },
     "execution_count": 192,
     "metadata": {},
     "output_type": "execute_result"
    }
   ],
   "source": [
    "tf_idf_matrix_df.shape"
   ]
  },
  {
   "cell_type": "code",
   "execution_count": 193,
   "metadata": {},
   "outputs": [
    {
     "data": {
      "text/plain": [
       "(2000, 13)"
      ]
     },
     "execution_count": 193,
     "metadata": {},
     "output_type": "execute_result"
    }
   ],
   "source": [
    "data_sample_comm.shape"
   ]
  },
  {
   "cell_type": "code",
   "execution_count": 194,
   "metadata": {},
   "outputs": [
    {
     "data": {
      "text/plain": [
       "(2000, 5013)"
      ]
     },
     "execution_count": 194,
     "metadata": {},
     "output_type": "execute_result"
    }
   ],
   "source": [
    "df_tfidf = pd.concat([data_sample_comm.reset_index(drop=True), tf_idf_matrix_df.reset_index(drop=True)], axis=1)\n",
    "df_tfidf.shape"
   ]
  },
  {
   "cell_type": "code",
   "execution_count": 195,
   "metadata": {},
   "outputs": [],
   "source": [
    "df_tfidf.to_csv(\"tf_matrix_comm_sample.csv\", index=False)"
   ]
  },
  {
   "cell_type": "markdown",
   "metadata": {},
   "source": [
    "## Classifier to perform SHAP"
   ]
  },
  {
   "cell_type": "code",
   "execution_count": null,
   "metadata": {},
   "outputs": [],
   "source": []
  }
 ],
 "metadata": {
  "kernelspec": {
   "display_name": "Python 3",
   "language": "python",
   "name": "python3"
  },
  "language_info": {
   "codemirror_mode": {
    "name": "ipython",
    "version": 3
   },
   "file_extension": ".py",
   "mimetype": "text/x-python",
   "name": "python",
   "nbconvert_exporter": "python",
   "pygments_lexer": "ipython3",
   "version": "3.12.0"
  }
 },
 "nbformat": 4,
 "nbformat_minor": 2
}
