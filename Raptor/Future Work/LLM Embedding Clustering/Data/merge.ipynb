{
 "cells": [
  {
   "cell_type": "code",
   "execution_count": 6,
   "metadata": {},
   "outputs": [],
   "source": [
    "import pandas as pd \n",
    "import os\n",
    "\n",
    "files_ = os.listdir()\n",
    "files_ = [file_ for file_ in files_ if \"annotated\" in file_]"
   ]
  },
  {
   "cell_type": "code",
   "execution_count": 7,
   "metadata": {},
   "outputs": [
    {
     "data": {
      "text/plain": [
       "['data_acte_arrete_annotated.csv',\n",
       " 'data_acte_delib_annotated.csv',\n",
       " 'data_acte_raa_annotated.csv',\n",
       " 'data_bdj_annotated.csv',\n",
       " 'data_comm_annotated.csv',\n",
       " 'data_dlao_autres_annotated.csv',\n",
       " 'data_dlao_plu_annotated.csv',\n",
       " 'data_experiments_annotated.csv',\n",
       " 'data_other_annotated.csv',\n",
       " 'data_pv_cr_annotated.csv',\n",
       " 'data_pv_full_annotated.csv']"
      ]
     },
     "execution_count": 7,
     "metadata": {},
     "output_type": "execute_result"
    }
   ],
   "source": [
    "files_"
   ]
  },
  {
   "cell_type": "code",
   "execution_count": 8,
   "metadata": {},
   "outputs": [],
   "source": [
    "data_merged = pd.DataFrame()"
   ]
  },
  {
   "cell_type": "code",
   "execution_count": 9,
   "metadata": {},
   "outputs": [],
   "source": [
    "for file_ in files_:\n",
    "    df = pd.read_csv(file_)\n",
    "    data_merged = pd.concat([data_merged, df], axis=0)"
   ]
  },
  {
   "cell_type": "code",
   "execution_count": 10,
   "metadata": {},
   "outputs": [
    {
     "data": {
      "text/html": [
       "<div>\n",
       "<style scoped>\n",
       "    .dataframe tbody tr th:only-of-type {\n",
       "        vertical-align: middle;\n",
       "    }\n",
       "\n",
       "    .dataframe tbody tr th {\n",
       "        vertical-align: top;\n",
       "    }\n",
       "\n",
       "    .dataframe thead th {\n",
       "        text-align: right;\n",
       "    }\n",
       "</style>\n",
       "<table border=\"1\" class=\"dataframe\">\n",
       "  <thead>\n",
       "    <tr style=\"text-align: right;\">\n",
       "      <th></th>\n",
       "      <th>Unnamed: 0</th>\n",
       "      <th>doc_id</th>\n",
       "      <th>url</th>\n",
       "      <th>cache</th>\n",
       "      <th>fulltext</th>\n",
       "      <th>nature</th>\n",
       "      <th>published</th>\n",
       "      <th>entity_name</th>\n",
       "      <th>entity_type</th>\n",
       "      <th>geo_path</th>\n",
       "      <th>extracted_text</th>\n",
       "      <th>embeddings</th>\n",
       "      <th>typed_embeddings</th>\n",
       "      <th>km_cluster_labels</th>\n",
       "    </tr>\n",
       "  </thead>\n",
       "  <tbody>\n",
       "    <tr>\n",
       "      <th>0</th>\n",
       "      <td>94.0</td>\n",
       "      <td>1058/fb940_2023.020.pdf</td>\n",
       "      <td>https://www.ermont.fr/fileadmin/www.ermont.fr/...</td>\n",
       "      <td>https://datapolitics-public.s3.gra.io.cloud.ov...</td>\n",
       "      <td>https://datapolitics-public.s3.gra.io.cloud.ov...</td>\n",
       "      <td>acte.arrete</td>\n",
       "      <td>2023-02-17 00:00:00</td>\n",
       "      <td>Ermont</td>\n",
       "      <td>Commune</td>\n",
       "      <td>Ermont/CA Val Parisis/Val-d'Oise/Île-de-France</td>\n",
       "      <td>* REPUBLIQUE FRANÇAISE DEPARTEMENT du VAL D'OI...</td>\n",
       "      <td>[-5.00864536e-02  1.34651005e-01 -7.00120330e-...</td>\n",
       "      <td>[-0.0500864536, 0.134651005, -0.070012033, 0.1...</td>\n",
       "      <td>1.0</td>\n",
       "    </tr>\n",
       "    <tr>\n",
       "      <th>1</th>\n",
       "      <td>178.0</td>\n",
       "      <td>6763/bb9f0990f8ed563f586d881c42df16d7df699606_...</td>\n",
       "      <td>https://www.correze.gouv.fr/contenu/telecharge...</td>\n",
       "      <td>https://datapolitics-public.s3.gra.io.cloud.ov...</td>\n",
       "      <td>https://datapolitics-public.s3.gra.io.cloud.ov...</td>\n",
       "      <td>acte.arrete</td>\n",
       "      <td>2023-01-13 00:00:00</td>\n",
       "      <td>Préfecture - Corrèze</td>\n",
       "      <td>Préfecture</td>\n",
       "      <td>Corrèze/Nouvelle-Aquitaine</td>\n",
       "      <td>PRÉFET DE LA CORRÈZE RECUEIL DES ACTES ADMINIS...</td>\n",
       "      <td>[-4.19478863e-02  1.81751396e-03 -1.92429498e-...</td>\n",
       "      <td>[-0.0419478863, 0.00181751396, -0.0192429498, ...</td>\n",
       "      <td>0.0</td>\n",
       "    </tr>\n",
       "    <tr>\n",
       "      <th>2</th>\n",
       "      <td>179.0</td>\n",
       "      <td>6767/0ae0df0f3596ad4687621b7753a150fe55e75883_...</td>\n",
       "      <td>https://www.creuse.gouv.fr/contenu/telechargem...</td>\n",
       "      <td>https://datapolitics-public.s3.gra.io.cloud.ov...</td>\n",
       "      <td>https://datapolitics-public.s3.gra.io.cloud.ov...</td>\n",
       "      <td>acte.arrete</td>\n",
       "      <td>2023-01-16 00:00:00</td>\n",
       "      <td>Préfecture - Creuse</td>\n",
       "      <td>Préfecture</td>\n",
       "      <td>Creuse/Nouvelle-Aquitaine</td>\n",
       "      <td>PRÉFÈTE DE LA CREUSE RECUEIL DES ACTES ADMINIS...</td>\n",
       "      <td>[-3.28501053e-02  1.09066427e-01 -1.61550164e-...</td>\n",
       "      <td>[-0.0328501053, 0.109066427, -0.161550164, 0.1...</td>\n",
       "      <td>0.0</td>\n",
       "    </tr>\n",
       "    <tr>\n",
       "      <th>3</th>\n",
       "      <td>200.0</td>\n",
       "      <td>2212/df590_CCPF_RSanc_approuve.pdf</td>\n",
       "      <td>https://www.cc-paysdefayence.fr/wp-content/upl...</td>\n",
       "      <td>https://datapolitics-public.s3.gra.io.cloud.ov...</td>\n",
       "      <td>https://datapolitics-public.s3.gra.io.cloud.ov...</td>\n",
       "      <td>acte.arrete</td>\n",
       "      <td>2023-03-01 00:00:00</td>\n",
       "      <td>CC du Pays de Fayence</td>\n",
       "      <td>Intercommunalité</td>\n",
       "      <td>CC du Pays de Fayence/Var/Provence-Alpes-Côte ...</td>\n",
       "      <td>Eau et Assainissement REGIE DES EAUX DU PAYS D...</td>\n",
       "      <td>[ 3.24184373e-02 -1.52655896e-02 -3.54909562e-...</td>\n",
       "      <td>[0.0324184373, -0.0152655896, -0.0354909562, 0...</td>\n",
       "      <td>0.0</td>\n",
       "    </tr>\n",
       "    <tr>\n",
       "      <th>4</th>\n",
       "      <td>244.0</td>\n",
       "      <td>3395/bfdd09c728391ba9f29bf516a68553dedcd243cd_...</td>\n",
       "      <td>https://www.soisy-sous-montmorency.fr/wp-conte...</td>\n",
       "      <td>https://datapolitics-public.s3.gra.io.cloud.ov...</td>\n",
       "      <td>https://datapolitics-public.s3.gra.io.cloud.ov...</td>\n",
       "      <td>acte.arrete</td>\n",
       "      <td>2023-03-09 00:00:00</td>\n",
       "      <td>Soisy-sous-Montmorency</td>\n",
       "      <td>Commune</td>\n",
       "      <td>Soisy-sous-Montmorency/CA Plaine Vallée/Val-d'...</td>\n",
       "      <td>REPUBLIQUE FRANCAISE DECISION DU MAIRE PRISE L...</td>\n",
       "      <td>[-8.80177468e-02 -6.38791397e-02  1.20596491e-...</td>\n",
       "      <td>[-0.0880177468, -0.0638791397, 0.120596491, 0....</td>\n",
       "      <td>1.0</td>\n",
       "    </tr>\n",
       "  </tbody>\n",
       "</table>\n",
       "</div>"
      ],
      "text/plain": [
       "   Unnamed: 0                                             doc_id  \\\n",
       "0        94.0                            1058/fb940_2023.020.pdf   \n",
       "1       178.0  6763/bb9f0990f8ed563f586d881c42df16d7df699606_...   \n",
       "2       179.0  6767/0ae0df0f3596ad4687621b7753a150fe55e75883_...   \n",
       "3       200.0                 2212/df590_CCPF_RSanc_approuve.pdf   \n",
       "4       244.0  3395/bfdd09c728391ba9f29bf516a68553dedcd243cd_...   \n",
       "\n",
       "                                                 url  \\\n",
       "0  https://www.ermont.fr/fileadmin/www.ermont.fr/...   \n",
       "1  https://www.correze.gouv.fr/contenu/telecharge...   \n",
       "2  https://www.creuse.gouv.fr/contenu/telechargem...   \n",
       "3  https://www.cc-paysdefayence.fr/wp-content/upl...   \n",
       "4  https://www.soisy-sous-montmorency.fr/wp-conte...   \n",
       "\n",
       "                                               cache  \\\n",
       "0  https://datapolitics-public.s3.gra.io.cloud.ov...   \n",
       "1  https://datapolitics-public.s3.gra.io.cloud.ov...   \n",
       "2  https://datapolitics-public.s3.gra.io.cloud.ov...   \n",
       "3  https://datapolitics-public.s3.gra.io.cloud.ov...   \n",
       "4  https://datapolitics-public.s3.gra.io.cloud.ov...   \n",
       "\n",
       "                                            fulltext       nature  \\\n",
       "0  https://datapolitics-public.s3.gra.io.cloud.ov...  acte.arrete   \n",
       "1  https://datapolitics-public.s3.gra.io.cloud.ov...  acte.arrete   \n",
       "2  https://datapolitics-public.s3.gra.io.cloud.ov...  acte.arrete   \n",
       "3  https://datapolitics-public.s3.gra.io.cloud.ov...  acte.arrete   \n",
       "4  https://datapolitics-public.s3.gra.io.cloud.ov...  acte.arrete   \n",
       "\n",
       "             published             entity_name       entity_type  \\\n",
       "0  2023-02-17 00:00:00                  Ermont           Commune   \n",
       "1  2023-01-13 00:00:00    Préfecture - Corrèze        Préfecture   \n",
       "2  2023-01-16 00:00:00     Préfecture - Creuse        Préfecture   \n",
       "3  2023-03-01 00:00:00   CC du Pays de Fayence  Intercommunalité   \n",
       "4  2023-03-09 00:00:00  Soisy-sous-Montmorency           Commune   \n",
       "\n",
       "                                            geo_path  \\\n",
       "0     Ermont/CA Val Parisis/Val-d'Oise/Île-de-France   \n",
       "1                         Corrèze/Nouvelle-Aquitaine   \n",
       "2                          Creuse/Nouvelle-Aquitaine   \n",
       "3  CC du Pays de Fayence/Var/Provence-Alpes-Côte ...   \n",
       "4  Soisy-sous-Montmorency/CA Plaine Vallée/Val-d'...   \n",
       "\n",
       "                                      extracted_text  \\\n",
       "0  * REPUBLIQUE FRANÇAISE DEPARTEMENT du VAL D'OI...   \n",
       "1  PRÉFET DE LA CORRÈZE RECUEIL DES ACTES ADMINIS...   \n",
       "2  PRÉFÈTE DE LA CREUSE RECUEIL DES ACTES ADMINIS...   \n",
       "3  Eau et Assainissement REGIE DES EAUX DU PAYS D...   \n",
       "4  REPUBLIQUE FRANCAISE DECISION DU MAIRE PRISE L...   \n",
       "\n",
       "                                          embeddings  \\\n",
       "0  [-5.00864536e-02  1.34651005e-01 -7.00120330e-...   \n",
       "1  [-4.19478863e-02  1.81751396e-03 -1.92429498e-...   \n",
       "2  [-3.28501053e-02  1.09066427e-01 -1.61550164e-...   \n",
       "3  [ 3.24184373e-02 -1.52655896e-02 -3.54909562e-...   \n",
       "4  [-8.80177468e-02 -6.38791397e-02  1.20596491e-...   \n",
       "\n",
       "                                    typed_embeddings  km_cluster_labels  \n",
       "0  [-0.0500864536, 0.134651005, -0.070012033, 0.1...                1.0  \n",
       "1  [-0.0419478863, 0.00181751396, -0.0192429498, ...                0.0  \n",
       "2  [-0.0328501053, 0.109066427, -0.161550164, 0.1...                0.0  \n",
       "3  [0.0324184373, -0.0152655896, -0.0354909562, 0...                0.0  \n",
       "4  [-0.0880177468, -0.0638791397, 0.120596491, 0....                1.0  "
      ]
     },
     "execution_count": 10,
     "metadata": {},
     "output_type": "execute_result"
    }
   ],
   "source": [
    "data_merged.head()"
   ]
  },
  {
   "cell_type": "code",
   "execution_count": 11,
   "metadata": {},
   "outputs": [
    {
     "data": {
      "text/plain": [
       "(14308, 14)"
      ]
     },
     "execution_count": 11,
     "metadata": {},
     "output_type": "execute_result"
    }
   ],
   "source": [
    "data_merged.shape"
   ]
  },
  {
   "cell_type": "code",
   "execution_count": 12,
   "metadata": {},
   "outputs": [],
   "source": [
    "data_merged.drop(columns=[\"Unnamed: 0\"], inplace=True)"
   ]
  },
  {
   "cell_type": "code",
   "execution_count": 13,
   "metadata": {},
   "outputs": [],
   "source": [
    "data_merged.to_csv(\"../data_annotated.csv\", index=False)"
   ]
  }
 ],
 "metadata": {
  "kernelspec": {
   "display_name": "Python 3",
   "language": "python",
   "name": "python3"
  },
  "language_info": {
   "codemirror_mode": {
    "name": "ipython",
    "version": 3
   },
   "file_extension": ".py",
   "mimetype": "text/x-python",
   "name": "python",
   "nbconvert_exporter": "python",
   "pygments_lexer": "ipython3",
   "version": "3.12.0"
  }
 },
 "nbformat": 4,
 "nbformat_minor": 2
}
