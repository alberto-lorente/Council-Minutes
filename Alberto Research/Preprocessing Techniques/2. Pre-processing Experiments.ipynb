{
  "cells": [
    {
      "cell_type": "markdown",
      "metadata": {
        "id": "nxcHZC7EaxIO"
      },
      "source": [
        "REQUIREMENTS.TXT\n",
        "\n",
        "EXAMPLE_MD_TO_TEXT.TXT\n",
        "\n",
        "example.pdf\n",
        "\n",
        "HF_TOKEN.txt\n",
        "\n",
        "GROQ_TOKEN.txt\n"
      ]
    },
    {
      "cell_type": "code",
      "execution_count": 16,
      "metadata": {
        "id": "P_9551bjnMHb"
      },
      "outputs": [],
      "source": [
        "with open(\"example_md_to_text.txt\", \"r\", encoding=\"latin-1\") as f: # TO DO: check proper encoding for .md files\n",
        "    markdown_example = f.read()\n",
        "\n",
        "with open(\"example.pdf\", \"rb\") as f:\n",
        "    pdf = f.read()\n",
        "\n",
        "with open(\"HF_TOKEN.txt\", \"r\") as f:\n",
        "    hf_token = f.read()\n",
        "\n",
        "with open(\"GROQ_KEY.txt\", \"r\") as f:\n",
        "    groq_token = f.read()"
      ]
    },
    {
      "cell_type": "code",
      "execution_count": 2,
      "metadata": {
        "colab": {
          "base_uri": "https://localhost:8080/"
        },
        "id": "Nzh65usQ4gyd",
        "outputId": "580ef70d-e46b-46e6-f6ff-ae01188f1abf"
      },
      "outputs": [
        {
          "name": "stdout",
          "output_type": "stream",
          "text": [
            "Requirement already satisfied: aiohappyeyeballs==2.4.4 in /usr/local/lib/python3.11/dist-packages (from -r requirements.txt (line 1)) (2.4.4)\n",
            "Collecting aiohttp==3.11.11 (from -r requirements.txt (line 2))\n",
            "  Downloading aiohttp-3.11.11-cp311-cp311-manylinux_2_17_x86_64.manylinux2014_x86_64.whl.metadata (7.7 kB)\n",
            "Requirement already satisfied: aiosignal==1.3.2 in /usr/local/lib/python3.11/dist-packages (from -r requirements.txt (line 3)) (1.3.2)\n",
            "Requirement already satisfied: annotated-types==0.7.0 in /usr/local/lib/python3.11/dist-packages (from -r requirements.txt (line 4)) (0.7.0)\n",
            "Collecting anyio==4.8.0 (from -r requirements.txt (line 5))\n",
            "  Downloading anyio-4.8.0-py3-none-any.whl.metadata (4.6 kB)\n",
            "Collecting asttokens==3.0.0 (from -r requirements.txt (line 6))\n",
            "  Downloading asttokens-3.0.0-py3-none-any.whl.metadata (4.7 kB)\n",
            "Collecting attrs==24.3.0 (from -r requirements.txt (line 7))\n",
            "  Downloading attrs-24.3.0-py3-none-any.whl.metadata (11 kB)\n",
            "Collecting certifi==2024.12.14 (from -r requirements.txt (line 8))\n",
            "  Downloading certifi-2024.12.14-py3-none-any.whl.metadata (2.3 kB)\n",
            "Requirement already satisfied: charset-normalizer==3.4.1 in /usr/local/lib/python3.11/dist-packages (from -r requirements.txt (line 9)) (3.4.1)\n",
            "Collecting colorama==0.4.6 (from -r requirements.txt (line 10))\n",
            "  Downloading colorama-0.4.6-py2.py3-none-any.whl.metadata (17 kB)\n",
            "Collecting comm==0.2.2 (from -r requirements.txt (line 11))\n",
            "  Downloading comm-0.2.2-py3-none-any.whl.metadata (3.7 kB)\n",
            "Collecting datasets==3.2.0 (from -r requirements.txt (line 12))\n",
            "  Downloading datasets-3.2.0-py3-none-any.whl.metadata (20 kB)\n",
            "Collecting debugpy==1.8.12 (from -r requirements.txt (line 13))\n",
            "  Downloading debugpy-1.8.12-cp311-cp311-manylinux_2_5_x86_64.manylinux1_x86_64.manylinux_2_17_x86_64.manylinux2014_x86_64.whl.metadata (1.3 kB)\n",
            "Collecting decorator==5.1.1 (from -r requirements.txt (line 14))\n",
            "  Downloading decorator-5.1.1-py3-none-any.whl.metadata (4.0 kB)\n",
            "Collecting dill==0.3.8 (from -r requirements.txt (line 15))\n",
            "  Downloading dill-0.3.8-py3-none-any.whl.metadata (10 kB)\n",
            "Collecting executing==2.1.0 (from -r requirements.txt (line 16))\n",
            "  Downloading executing-2.1.0-py2.py3-none-any.whl.metadata (8.9 kB)\n",
            "Collecting filelock==3.16.1 (from -r requirements.txt (line 17))\n",
            "  Downloading filelock-3.16.1-py3-none-any.whl.metadata (2.9 kB)\n",
            "Requirement already satisfied: frozenlist==1.5.0 in /usr/local/lib/python3.11/dist-packages (from -r requirements.txt (line 18)) (1.5.0)\n",
            "Collecting fsspec==2024.9.0 (from -r requirements.txt (line 19))\n",
            "  Downloading fsspec-2024.9.0-py3-none-any.whl.metadata (11 kB)\n",
            "Requirement already satisfied: h11==0.14.0 in /usr/local/lib/python3.11/dist-packages (from -r requirements.txt (line 20)) (0.14.0)\n",
            "Requirement already satisfied: httpcore==1.0.7 in /usr/local/lib/python3.11/dist-packages (from -r requirements.txt (line 21)) (1.0.7)\n",
            "Collecting httpx==0.27.2 (from -r requirements.txt (line 22))\n",
            "  Downloading httpx-0.27.2-py3-none-any.whl.metadata (7.1 kB)\n",
            "Collecting huggingface-hub==0.27.1 (from -r requirements.txt (line 23))\n",
            "  Downloading huggingface_hub-0.27.1-py3-none-any.whl.metadata (13 kB)\n",
            "Requirement already satisfied: idna==3.10 in /usr/local/lib/python3.11/dist-packages (from -r requirements.txt (line 24)) (3.10)\n",
            "Collecting ipykernel==6.29.5 (from -r requirements.txt (line 25))\n",
            "  Downloading ipykernel-6.29.5-py3-none-any.whl.metadata (6.3 kB)\n",
            "Collecting ipython==8.31.0 (from -r requirements.txt (line 26))\n",
            "  Downloading ipython-8.31.0-py3-none-any.whl.metadata (4.9 kB)\n",
            "Collecting jedi==0.19.2 (from -r requirements.txt (line 27))\n",
            "  Downloading jedi-0.19.2-py2.py3-none-any.whl.metadata (22 kB)\n",
            "Collecting Jinja2==3.1.3 (from -r requirements.txt (line 28))\n",
            "  Downloading Jinja2-3.1.3-py3-none-any.whl.metadata (3.3 kB)\n",
            "Collecting jupyter_client==8.6.3 (from -r requirements.txt (line 29))\n",
            "  Downloading jupyter_client-8.6.3-py3-none-any.whl.metadata (8.3 kB)\n",
            "Requirement already satisfied: jupyter_core==5.7.2 in /usr/local/lib/python3.11/dist-packages (from -r requirements.txt (line 30)) (5.7.2)\n",
            "Collecting MarkupSafe==2.1.5 (from -r requirements.txt (line 31))\n",
            "  Downloading MarkupSafe-2.1.5-cp311-cp311-manylinux_2_17_x86_64.manylinux2014_x86_64.whl.metadata (3.0 kB)\n",
            "Requirement already satisfied: matplotlib-inline==0.1.7 in /usr/local/lib/python3.11/dist-packages (from -r requirements.txt (line 32)) (0.1.7)\n",
            "Requirement already satisfied: mpmath==1.3.0 in /usr/local/lib/python3.11/dist-packages (from -r requirements.txt (line 33)) (1.3.0)\n",
            "Requirement already satisfied: multidict==6.1.0 in /usr/local/lib/python3.11/dist-packages (from -r requirements.txt (line 34)) (6.1.0)\n",
            "Collecting multiprocess==0.70.16 (from -r requirements.txt (line 35))\n",
            "  Downloading multiprocess-0.70.16-py311-none-any.whl.metadata (7.2 kB)\n",
            "Requirement already satisfied: nest-asyncio==1.6.0 in /usr/local/lib/python3.11/dist-packages (from -r requirements.txt (line 36)) (1.6.0)\n",
            "Collecting networkx==3.2.1 (from -r requirements.txt (line 37))\n",
            "  Downloading networkx-3.2.1-py3-none-any.whl.metadata (5.2 kB)\n",
            "Collecting numpy==2.2.1 (from -r requirements.txt (line 38))\n",
            "  Downloading numpy-2.2.1-cp311-cp311-manylinux_2_17_x86_64.manylinux2014_x86_64.whl.metadata (62 kB)\n",
            "\u001b[2K     \u001b[90m━━━━━━━━━━━━━━━━━━━━━━━━━━━━━━━━━━━━━━━━\u001b[0m \u001b[32m62.0/62.0 kB\u001b[0m \u001b[31m5.3 MB/s\u001b[0m eta \u001b[36m0:00:00\u001b[0m\n",
            "\u001b[?25hCollecting ollama==0.4.6 (from -r requirements.txt (line 39))\n",
            "  Downloading ollama-0.4.6-py3-none-any.whl.metadata (4.7 kB)\n",
            "Requirement already satisfied: packaging==24.2 in /usr/local/lib/python3.11/dist-packages (from -r requirements.txt (line 40)) (24.2)\n",
            "Collecting pandas==2.2.3 (from -r requirements.txt (line 41))\n",
            "  Downloading pandas-2.2.3-cp311-cp311-manylinux_2_17_x86_64.manylinux2014_x86_64.whl.metadata (89 kB)\n",
            "\u001b[2K     \u001b[90m━━━━━━━━━━━━━━━━━━━━━━━━━━━━━━━━━━━━━━━━\u001b[0m \u001b[32m89.9/89.9 kB\u001b[0m \u001b[31m8.6 MB/s\u001b[0m eta \u001b[36m0:00:00\u001b[0m\n",
            "\u001b[?25hRequirement already satisfied: parso==0.8.4 in /usr/local/lib/python3.11/dist-packages (from -r requirements.txt (line 42)) (0.8.4)\n",
            "Requirement already satisfied: platformdirs==4.3.6 in /usr/local/lib/python3.11/dist-packages (from -r requirements.txt (line 43)) (4.3.6)\n",
            "Collecting prompt_toolkit==3.0.49 (from -r requirements.txt (line 44))\n",
            "  Downloading prompt_toolkit-3.0.49-py3-none-any.whl.metadata (6.6 kB)\n",
            "Requirement already satisfied: propcache==0.2.1 in /usr/local/lib/python3.11/dist-packages (from -r requirements.txt (line 45)) (0.2.1)\n",
            "Collecting psutil==6.1.1 (from -r requirements.txt (line 46))\n",
            "  Downloading psutil-6.1.1-cp36-abi3-manylinux_2_12_x86_64.manylinux2010_x86_64.manylinux_2_17_x86_64.manylinux2014_x86_64.whl.metadata (22 kB)\n",
            "Collecting pure_eval==0.2.3 (from -r requirements.txt (line 47))\n",
            "  Downloading pure_eval-0.2.3-py3-none-any.whl.metadata (6.3 kB)\n",
            "Collecting pyarrow==18.1.0 (from -r requirements.txt (line 48))\n",
            "  Downloading pyarrow-18.1.0-cp311-cp311-manylinux_2_28_x86_64.whl.metadata (3.3 kB)\n",
            "Collecting pydantic==2.10.5 (from -r requirements.txt (line 49))\n",
            "  Downloading pydantic-2.10.5-py3-none-any.whl.metadata (30 kB)\n",
            "Requirement already satisfied: pydantic_core==2.27.2 in /usr/local/lib/python3.11/dist-packages (from -r requirements.txt (line 50)) (2.27.2)\n",
            "Collecting Pygments==2.19.1 (from -r requirements.txt (line 51))\n",
            "  Downloading pygments-2.19.1-py3-none-any.whl.metadata (2.5 kB)\n",
            "Collecting python-dateutil==2.9.0.post0 (from -r requirements.txt (line 52))\n",
            "  Downloading python_dateutil-2.9.0.post0-py2.py3-none-any.whl.metadata (8.4 kB)\n",
            "Collecting pytz==2024.2 (from -r requirements.txt (line 53))\n",
            "  Downloading pytz-2024.2-py2.py3-none-any.whl.metadata (22 kB)\n",
            "\u001b[31mERROR: Ignored the following versions that require a different python version: 1.21.2 Requires-Python >=3.7,<3.11; 1.21.3 Requires-Python >=3.7,<3.11; 1.21.4 Requires-Python >=3.7,<3.11; 1.21.5 Requires-Python >=3.7,<3.11; 1.21.6 Requires-Python >=3.7,<3.11\u001b[0m\u001b[31m\n",
            "\u001b[0m\u001b[31mERROR: Could not find a version that satisfies the requirement pywin32==308 (from versions: none)\u001b[0m\u001b[31m\n",
            "\u001b[0m\u001b[31mERROR: No matching distribution found for pywin32==308\u001b[0m\u001b[31m\n",
            "\u001b[0m"
          ]
        }
      ],
      "source": [
        "!pip install -r requirements.txt"
      ]
    },
    {
      "cell_type": "code",
      "execution_count": 3,
      "metadata": {
        "colab": {
          "base_uri": "https://localhost:8080/"
        },
        "id": "pdlNS5bAENlC",
        "outputId": "cc49a303-c97f-41a7-fbd2-330b9c2e8104"
      },
      "outputs": [
        {
          "name": "stdout",
          "output_type": "stream",
          "text": [
            "Collecting fr-core-news-sm==3.7.0\n",
            "  Downloading https://github.com/explosion/spacy-models/releases/download/fr_core_news_sm-3.7.0/fr_core_news_sm-3.7.0-py3-none-any.whl (16.3 MB)\n",
            "\u001b[2K     \u001b[90m━━━━━━━━━━━━━━━━━━━━━━━━━━━━━━━━━━━━━━━━\u001b[0m \u001b[32m16.3/16.3 MB\u001b[0m \u001b[31m68.6 MB/s\u001b[0m eta \u001b[36m0:00:00\u001b[0m\n",
            "\u001b[?25hRequirement already satisfied: spacy<3.8.0,>=3.7.0 in /usr/local/lib/python3.11/dist-packages (from fr-core-news-sm==3.7.0) (3.7.5)\n",
            "Requirement already satisfied: spacy-legacy<3.1.0,>=3.0.11 in /usr/local/lib/python3.11/dist-packages (from spacy<3.8.0,>=3.7.0->fr-core-news-sm==3.7.0) (3.0.12)\n",
            "Requirement already satisfied: spacy-loggers<2.0.0,>=1.0.0 in /usr/local/lib/python3.11/dist-packages (from spacy<3.8.0,>=3.7.0->fr-core-news-sm==3.7.0) (1.0.5)\n",
            "Requirement already satisfied: murmurhash<1.1.0,>=0.28.0 in /usr/local/lib/python3.11/dist-packages (from spacy<3.8.0,>=3.7.0->fr-core-news-sm==3.7.0) (1.0.12)\n",
            "Requirement already satisfied: cymem<2.1.0,>=2.0.2 in /usr/local/lib/python3.11/dist-packages (from spacy<3.8.0,>=3.7.0->fr-core-news-sm==3.7.0) (2.0.11)\n",
            "Requirement already satisfied: preshed<3.1.0,>=3.0.2 in /usr/local/lib/python3.11/dist-packages (from spacy<3.8.0,>=3.7.0->fr-core-news-sm==3.7.0) (3.0.9)\n",
            "Requirement already satisfied: thinc<8.3.0,>=8.2.2 in /usr/local/lib/python3.11/dist-packages (from spacy<3.8.0,>=3.7.0->fr-core-news-sm==3.7.0) (8.2.5)\n",
            "Requirement already satisfied: wasabi<1.2.0,>=0.9.1 in /usr/local/lib/python3.11/dist-packages (from spacy<3.8.0,>=3.7.0->fr-core-news-sm==3.7.0) (1.1.3)\n",
            "Requirement already satisfied: srsly<3.0.0,>=2.4.3 in /usr/local/lib/python3.11/dist-packages (from spacy<3.8.0,>=3.7.0->fr-core-news-sm==3.7.0) (2.5.1)\n",
            "Requirement already satisfied: catalogue<2.1.0,>=2.0.6 in /usr/local/lib/python3.11/dist-packages (from spacy<3.8.0,>=3.7.0->fr-core-news-sm==3.7.0) (2.0.10)\n",
            "Requirement already satisfied: weasel<0.5.0,>=0.1.0 in /usr/local/lib/python3.11/dist-packages (from spacy<3.8.0,>=3.7.0->fr-core-news-sm==3.7.0) (0.4.1)\n",
            "Requirement already satisfied: typer<1.0.0,>=0.3.0 in /usr/local/lib/python3.11/dist-packages (from spacy<3.8.0,>=3.7.0->fr-core-news-sm==3.7.0) (0.15.1)\n",
            "Requirement already satisfied: tqdm<5.0.0,>=4.38.0 in /usr/local/lib/python3.11/dist-packages (from spacy<3.8.0,>=3.7.0->fr-core-news-sm==3.7.0) (4.67.1)\n",
            "Requirement already satisfied: requests<3.0.0,>=2.13.0 in /usr/local/lib/python3.11/dist-packages (from spacy<3.8.0,>=3.7.0->fr-core-news-sm==3.7.0) (2.32.3)\n",
            "Requirement already satisfied: pydantic!=1.8,!=1.8.1,<3.0.0,>=1.7.4 in /usr/local/lib/python3.11/dist-packages (from spacy<3.8.0,>=3.7.0->fr-core-news-sm==3.7.0) (2.10.6)\n",
            "Requirement already satisfied: jinja2 in /usr/local/lib/python3.11/dist-packages (from spacy<3.8.0,>=3.7.0->fr-core-news-sm==3.7.0) (3.1.5)\n",
            "Requirement already satisfied: setuptools in /usr/local/lib/python3.11/dist-packages (from spacy<3.8.0,>=3.7.0->fr-core-news-sm==3.7.0) (75.1.0)\n",
            "Requirement already satisfied: packaging>=20.0 in /usr/local/lib/python3.11/dist-packages (from spacy<3.8.0,>=3.7.0->fr-core-news-sm==3.7.0) (24.2)\n",
            "Requirement already satisfied: langcodes<4.0.0,>=3.2.0 in /usr/local/lib/python3.11/dist-packages (from spacy<3.8.0,>=3.7.0->fr-core-news-sm==3.7.0) (3.5.0)\n",
            "Requirement already satisfied: numpy>=1.19.0 in /usr/local/lib/python3.11/dist-packages (from spacy<3.8.0,>=3.7.0->fr-core-news-sm==3.7.0) (1.26.4)\n",
            "Requirement already satisfied: language-data>=1.2 in /usr/local/lib/python3.11/dist-packages (from langcodes<4.0.0,>=3.2.0->spacy<3.8.0,>=3.7.0->fr-core-news-sm==3.7.0) (1.3.0)\n",
            "Requirement already satisfied: annotated-types>=0.6.0 in /usr/local/lib/python3.11/dist-packages (from pydantic!=1.8,!=1.8.1,<3.0.0,>=1.7.4->spacy<3.8.0,>=3.7.0->fr-core-news-sm==3.7.0) (0.7.0)\n",
            "Requirement already satisfied: pydantic-core==2.27.2 in /usr/local/lib/python3.11/dist-packages (from pydantic!=1.8,!=1.8.1,<3.0.0,>=1.7.4->spacy<3.8.0,>=3.7.0->fr-core-news-sm==3.7.0) (2.27.2)\n",
            "Requirement already satisfied: typing-extensions>=4.12.2 in /usr/local/lib/python3.11/dist-packages (from pydantic!=1.8,!=1.8.1,<3.0.0,>=1.7.4->spacy<3.8.0,>=3.7.0->fr-core-news-sm==3.7.0) (4.12.2)\n",
            "Requirement already satisfied: charset-normalizer<4,>=2 in /usr/local/lib/python3.11/dist-packages (from requests<3.0.0,>=2.13.0->spacy<3.8.0,>=3.7.0->fr-core-news-sm==3.7.0) (3.4.1)\n",
            "Requirement already satisfied: idna<4,>=2.5 in /usr/local/lib/python3.11/dist-packages (from requests<3.0.0,>=2.13.0->spacy<3.8.0,>=3.7.0->fr-core-news-sm==3.7.0) (3.10)\n",
            "Requirement already satisfied: urllib3<3,>=1.21.1 in /usr/local/lib/python3.11/dist-packages (from requests<3.0.0,>=2.13.0->spacy<3.8.0,>=3.7.0->fr-core-news-sm==3.7.0) (2.3.0)\n",
            "Requirement already satisfied: certifi>=2017.4.17 in /usr/local/lib/python3.11/dist-packages (from requests<3.0.0,>=2.13.0->spacy<3.8.0,>=3.7.0->fr-core-news-sm==3.7.0) (2025.1.31)\n",
            "Requirement already satisfied: blis<0.8.0,>=0.7.8 in /usr/local/lib/python3.11/dist-packages (from thinc<8.3.0,>=8.2.2->spacy<3.8.0,>=3.7.0->fr-core-news-sm==3.7.0) (0.7.11)\n",
            "Requirement already satisfied: confection<1.0.0,>=0.0.1 in /usr/local/lib/python3.11/dist-packages (from thinc<8.3.0,>=8.2.2->spacy<3.8.0,>=3.7.0->fr-core-news-sm==3.7.0) (0.1.5)\n",
            "Requirement already satisfied: click>=8.0.0 in /usr/local/lib/python3.11/dist-packages (from typer<1.0.0,>=0.3.0->spacy<3.8.0,>=3.7.0->fr-core-news-sm==3.7.0) (8.1.8)\n",
            "Requirement already satisfied: shellingham>=1.3.0 in /usr/local/lib/python3.11/dist-packages (from typer<1.0.0,>=0.3.0->spacy<3.8.0,>=3.7.0->fr-core-news-sm==3.7.0) (1.5.4)\n",
            "Requirement already satisfied: rich>=10.11.0 in /usr/local/lib/python3.11/dist-packages (from typer<1.0.0,>=0.3.0->spacy<3.8.0,>=3.7.0->fr-core-news-sm==3.7.0) (13.9.4)\n",
            "Requirement already satisfied: cloudpathlib<1.0.0,>=0.7.0 in /usr/local/lib/python3.11/dist-packages (from weasel<0.5.0,>=0.1.0->spacy<3.8.0,>=3.7.0->fr-core-news-sm==3.7.0) (0.20.0)\n",
            "Requirement already satisfied: smart-open<8.0.0,>=5.2.1 in /usr/local/lib/python3.11/dist-packages (from weasel<0.5.0,>=0.1.0->spacy<3.8.0,>=3.7.0->fr-core-news-sm==3.7.0) (7.1.0)\n",
            "Requirement already satisfied: MarkupSafe>=2.0 in /usr/local/lib/python3.11/dist-packages (from jinja2->spacy<3.8.0,>=3.7.0->fr-core-news-sm==3.7.0) (3.0.2)\n",
            "Requirement already satisfied: marisa-trie>=1.1.0 in /usr/local/lib/python3.11/dist-packages (from language-data>=1.2->langcodes<4.0.0,>=3.2.0->spacy<3.8.0,>=3.7.0->fr-core-news-sm==3.7.0) (1.2.1)\n",
            "Requirement already satisfied: markdown-it-py>=2.2.0 in /usr/local/lib/python3.11/dist-packages (from rich>=10.11.0->typer<1.0.0,>=0.3.0->spacy<3.8.0,>=3.7.0->fr-core-news-sm==3.7.0) (3.0.0)\n",
            "Requirement already satisfied: pygments<3.0.0,>=2.13.0 in /usr/local/lib/python3.11/dist-packages (from rich>=10.11.0->typer<1.0.0,>=0.3.0->spacy<3.8.0,>=3.7.0->fr-core-news-sm==3.7.0) (2.18.0)\n",
            "Requirement already satisfied: wrapt in /usr/local/lib/python3.11/dist-packages (from smart-open<8.0.0,>=5.2.1->weasel<0.5.0,>=0.1.0->spacy<3.8.0,>=3.7.0->fr-core-news-sm==3.7.0) (1.17.2)\n",
            "Requirement already satisfied: mdurl~=0.1 in /usr/local/lib/python3.11/dist-packages (from markdown-it-py>=2.2.0->rich>=10.11.0->typer<1.0.0,>=0.3.0->spacy<3.8.0,>=3.7.0->fr-core-news-sm==3.7.0) (0.1.2)\n",
            "Installing collected packages: fr-core-news-sm\n",
            "Successfully installed fr-core-news-sm-3.7.0\n",
            "\u001b[38;5;2m✔ Download and installation successful\u001b[0m\n",
            "You can now load the package via spacy.load('fr_core_news_sm')\n",
            "\u001b[38;5;3m⚠ Restart to reload dependencies\u001b[0m\n",
            "If you are in a Jupyter or Colab notebook, you may need to restart Python in\n",
            "order to load all the package's dependencies. You can do this by selecting the\n",
            "'Restart kernel' or 'Restart runtime' option.\n"
          ]
        }
      ],
      "source": [
        "! python -m spacy download fr_core_news_sm"
      ]
    },
    {
      "cell_type": "code",
      "execution_count": 4,
      "metadata": {
        "id": "Gr2NScMJ4gye"
      },
      "outputs": [],
      "source": [
        "from pprint import pprint\n",
        "import tqdm\n",
        "# pprint(markdown_example)"
      ]
    },
    {
      "cell_type": "markdown",
      "metadata": {
        "id": "oMquaPnI4gye"
      },
      "source": [
        "Basic OLlama Workflow"
      ]
    },
    {
      "cell_type": "code",
      "execution_count": 5,
      "metadata": {
        "id": "rmAT1Yjs4gye"
      },
      "outputs": [],
      "source": [
        "# import ollama"
      ]
    },
    {
      "cell_type": "code",
      "execution_count": 6,
      "metadata": {
        "id": "B0fIFS9d4gyf"
      },
      "outputs": [],
      "source": [
        "# # basic workflow of getting llama embeddings with ollama\n",
        "# ollama.embeddings(model=\"llama3.2:3b\",\n",
        "#                 prompt=\"Hello\")"
      ]
    },
    {
      "cell_type": "code",
      "execution_count": 7,
      "metadata": {
        "id": "BV0isCso4gyf"
      },
      "outputs": [],
      "source": [
        "# # basic workflow of generating responses with ollama\n",
        "# ollama.generate(model=\"llama3.2:3b\",\n",
        "#                 prompt=\"Whos is Obama\")"
      ]
    },
    {
      "cell_type": "markdown",
      "metadata": {
        "id": "5ImuB4zw4gyf"
      },
      "source": [
        "Loading HF to get Attention Masks"
      ]
    },
    {
      "cell_type": "code",
      "execution_count": 8,
      "metadata": {
        "id": "CETuQGDb4gyf"
      },
      "outputs": [],
      "source": [
        "with open(\"HF_TOKEN.txt\", \"r\") as f:\n",
        "    hf_token = f.read()"
      ]
    },
    {
      "cell_type": "code",
      "execution_count": 9,
      "metadata": {
        "colab": {
          "base_uri": "https://localhost:8080/"
        },
        "id": "XsbEhjmB4gyf",
        "outputId": "9e74ef9b-cda3-41c8-df10-08f6bb2219e8"
      },
      "outputs": [
        {
          "name": "stdout",
          "output_type": "stream",
          "text": [
            "alberto-lorente\n"
          ]
        },
        {
          "name": "stderr",
          "output_type": "stream",
          "text": [
            "/usr/local/lib/python3.11/dist-packages/huggingface_hub/utils/_auth.py:94: UserWarning: \n",
            "The secret `HF_TOKEN` does not exist in your Colab secrets.\n",
            "To authenticate with the Hugging Face Hub, create a token in your settings tab (https://huggingface.co/settings/tokens), set it as secret in your Google Colab and restart your session.\n",
            "You will be able to reuse this secret in all of your notebooks.\n",
            "Please note that authentication is recommended but still optional to access public models or datasets.\n",
            "  warnings.warn(\n"
          ]
        }
      ],
      "source": [
        "from huggingface_hub import HfFolder, whoami\n",
        "\n",
        "HfFolder.save_token(hf_token)\n",
        "print(whoami()[\"name\"])"
      ]
    },
    {
      "cell_type": "code",
      "execution_count": 10,
      "metadata": {
        "colab": {
          "base_uri": "https://localhost:8080/"
        },
        "id": "HFFEdmNL4gyg",
        "outputId": "76b173ae-b8d0-45ff-e5a5-6da53c2a86b1"
      },
      "outputs": [
        {
          "name": "stdout",
          "output_type": "stream",
          "text": [
            "Cuda available\n"
          ]
        }
      ],
      "source": [
        "import torch\n",
        "\n",
        "device = \"cpu\"\n",
        "if torch.cuda.is_available():\n",
        "  print(\"Cuda available\")\n",
        "  device = torch.device('cuda')"
      ]
    },
    {
      "cell_type": "code",
      "execution_count": 11,
      "metadata": {
        "colab": {
          "base_uri": "https://localhost:8080/",
          "height": 273,
          "referenced_widgets": [
            "205978ed6c164403b75a8dd2f13b7f75",
            "be1ba64b192b4a24bc6cf29e17701ece",
            "09d294795a4040f59d2a4697e4685bad",
            "f1adf199691d4af8833032accb6ee5bd",
            "c8c1263ee691442193382db3e77984a8",
            "a0149d1cbcee45d39e75fe5ad002c2c8",
            "dd433575917646f989670da8a16431c8",
            "721cbbe8ec7e43279d2d74f35426fde1",
            "f0a40b5a1449401a95d09dbbc47f19c9",
            "af7599d3e6d4441180bb7cd0fc4c5a4f",
            "04ef703346ca4d5f81ea64ba2597b98b",
            "5563c10de0334e3c92546dcc60ee35ca",
            "be247a59cdf44f38b2c501b33d657cd3",
            "b2bb2dfff0704f8fb425a37356cc2bf9",
            "8e606b6d652f40d29ebc5ec94c69d2a7",
            "00d64b71b8de4aa389ab708ddc21f94c",
            "0862a56908d646a49aea649e341a1793",
            "1e75dfcf604044dba18aaac1827225ca",
            "f650117f342b47d79508957cb7b76d56",
            "f1ea5429067c486a8bcf3b80ae1048c7",
            "5ec6bac660b44a77a6ec2ad8999fdb78",
            "c74ea3a6f5b640ca826cf93f8ff3a2a8",
            "6b1c59906c774c8ea97ab973a7717162",
            "b3ce3f36e2ec4e378f5fab024f2eb32c",
            "e308d6f202ff4da9801d17d5b5190561",
            "93d6efb4284544aab6ea9c804f53135f",
            "eae633fcef6245df8177a15b7180d526",
            "df5b316025c648a385fb953608f4c380",
            "84c291ccb40947759ff9169b169b0914",
            "39840a86d1734a3e82d4fb4492e8d33f",
            "0ce54fca82e34dcd9c756833a8cd8a1e",
            "cab8914cd8f94aa98baeb6edf2944587",
            "4f5f7dcd7a614ab0b780f68125b2a546",
            "89405c36ac6246a9bbfc97aeecfa812e",
            "4455b30de3814473a6d6a801d0c8a67d",
            "98c7b51b57af4a5a8c8da2ef283688f1",
            "6a8dd310fc644f85a9c62e48eaeae7a6",
            "09e0355244fd4d54ac09809cd37183f2",
            "3872552d87974cd389afe501a5a093fd",
            "c7eac2f1bf0146c5a3432924c9d670e3",
            "457dd347d39343d295db89371bc0d9df",
            "fe7de908414f41f2a87c36d3f5cd97a4",
            "b215a90647514e08911d30efdbd13cf2",
            "70cfe9c9f5684b8289c432dba16f9b87",
            "b3b8fa02607248ad8b7c6972db40bd9a",
            "0e347442ddf64c8faaf58152a0e8e961",
            "f2c5da9fa10040f09d958f36c2f3dcf7",
            "dc2a30886f5b4253a460dc7e670d9ec1",
            "239320641281479b9d612b374c346ae6",
            "e4470db2e4e94c92b1c039b41097820c",
            "7a99bbda72494559a29071929db19ae5",
            "c8b73aa0c3de4ef5b0c0776a66d784ac",
            "50f525336bb74741a46df1f033bdac87",
            "751bc5de15914eaa8595c0bbdfc40e3d",
            "236e7f22b26843918077a0f4d8af8fce",
            "6b9419c1cb8542fd9b069b3210d3e9aa",
            "7a766fd2c0bd4562a9ee66a04e8dd1ee",
            "08066e0c56fe4a1eb3c7d695a09bf87c",
            "0045812b85d74d90bb8862263db2a2e3",
            "c53b6b8b5d984892b2ec5b1b76ab1214",
            "39124a388be24355a0622fa68935a4cb",
            "ae460e49f40042dba6ab960e5a248b42",
            "510521ae0f504d31a25bf8ae404e8186",
            "4eb7d2c5ffba42b096bf2da8351a709e",
            "ecf83c047aa2472684c5c1371c32dfb8",
            "558feb6e7de341e9bfb556cb0c26460e",
            "fa934ab49ae942b1a1a0198890afb07f",
            "f8d94bfddff44fd7b0846ee306141cf8",
            "ea25646736234c5a929daed294f60157",
            "b6b0445f2e0b47b9b0aec8629930e711",
            "2ff54ec5c2ab414c8afb77e0edc10da6",
            "9cc08cec93b84fdcb5563fd50e21a3f4",
            "bf3a7629a0f148c7976ff79f34342494",
            "3fcbc8e23bd645379dd03ffadea90221",
            "d207e5e2a5fb439ea34eda3e30bd451a",
            "60a3dd43beb544d0ba56aa60337541d5",
            "a30186691bba48a69341e7d127f9229a",
            "f2eaa275020842bc85bbf5e92ba8a2e0",
            "7e7a941479004e2cb954de21958392ca",
            "944e2f8db9d0473b8647e6e110bc70e2",
            "e9d21574b4f54e31aab12c0f1dc32f23",
            "480ec05b4ef84077900cca9838cba7d7",
            "e22a5e44d3e248abb7460182eeee392e",
            "275e44bf87dd4752b3914b0d9bdf344c",
            "1f12c4076a9b4fec9ea97db924291818",
            "fec41819fa234aa5ab5895fe8da1a027",
            "9f7afe907d9740a9976be983d3827a21",
            "190260c10fed433c9ae0c485bbc2a25e"
          ]
        },
        "id": "hS2YU_nD4gyg",
        "outputId": "19092f62-f80a-4cc7-dfdf-4403c1b77924"
      },
      "outputs": [
        {
          "data": {
            "application/vnd.jupyter.widget-view+json": {
              "model_id": "205978ed6c164403b75a8dd2f13b7f75",
              "version_major": 2,
              "version_minor": 0
            },
            "text/plain": [
              "tokenizer_config.json:   0%|          | 0.00/1.63k [00:00<?, ?B/s]"
            ]
          },
          "metadata": {},
          "output_type": "display_data"
        },
        {
          "data": {
            "application/vnd.jupyter.widget-view+json": {
              "model_id": "5563c10de0334e3c92546dcc60ee35ca",
              "version_major": 2,
              "version_minor": 0
            },
            "text/plain": [
              "vocab.json:   0%|          | 0.00/2.78M [00:00<?, ?B/s]"
            ]
          },
          "metadata": {},
          "output_type": "display_data"
        },
        {
          "data": {
            "application/vnd.jupyter.widget-view+json": {
              "model_id": "6b1c59906c774c8ea97ab973a7717162",
              "version_major": 2,
              "version_minor": 0
            },
            "text/plain": [
              "merges.txt:   0%|          | 0.00/1.67M [00:00<?, ?B/s]"
            ]
          },
          "metadata": {},
          "output_type": "display_data"
        },
        {
          "data": {
            "application/vnd.jupyter.widget-view+json": {
              "model_id": "89405c36ac6246a9bbfc97aeecfa812e",
              "version_major": 2,
              "version_minor": 0
            },
            "text/plain": [
              "tokenizer.json:   0%|          | 0.00/7.03M [00:00<?, ?B/s]"
            ]
          },
          "metadata": {},
          "output_type": "display_data"
        },
        {
          "data": {
            "application/vnd.jupyter.widget-view+json": {
              "model_id": "b3b8fa02607248ad8b7c6972db40bd9a",
              "version_major": 2,
              "version_minor": 0
            },
            "text/plain": [
              "added_tokens.json:   0%|          | 0.00/80.0 [00:00<?, ?B/s]"
            ]
          },
          "metadata": {},
          "output_type": "display_data"
        },
        {
          "data": {
            "application/vnd.jupyter.widget-view+json": {
              "model_id": "6b9419c1cb8542fd9b069b3210d3e9aa",
              "version_major": 2,
              "version_minor": 0
            },
            "text/plain": [
              "special_tokens_map.json:   0%|          | 0.00/370 [00:00<?, ?B/s]"
            ]
          },
          "metadata": {},
          "output_type": "display_data"
        },
        {
          "data": {
            "application/vnd.jupyter.widget-view+json": {
              "model_id": "fa934ab49ae942b1a1a0198890afb07f",
              "version_major": 2,
              "version_minor": 0
            },
            "text/plain": [
              "config.json:   0%|          | 0.00/655 [00:00<?, ?B/s]"
            ]
          },
          "metadata": {},
          "output_type": "display_data"
        },
        {
          "data": {
            "application/vnd.jupyter.widget-view+json": {
              "model_id": "f2eaa275020842bc85bbf5e92ba8a2e0",
              "version_major": 2,
              "version_minor": 0
            },
            "text/plain": [
              "model.safetensors:   0%|          | 0.00/1.98G [00:00<?, ?B/s]"
            ]
          },
          "metadata": {},
          "output_type": "display_data"
        }
      ],
      "source": [
        "# using huggingface tokenizer for attettion layer\n",
        "# make sure you have GPU enabled\n",
        "# takes around 5 mins to load with TPUs\n",
        "\n",
        "from transformers import AutoTokenizer, AutoModel\n",
        "\n",
        "model_id = \"HIT-TMG/KaLM-embedding-multilingual-mini-v1\" # which model to use?\n",
        "tokenizer = AutoTokenizer.from_pretrained(pretrained_model_name_or_path=model_id)\n",
        "model = AutoModel.from_pretrained(model_id).to(device)"
      ]
    },
    {
      "cell_type": "code",
      "execution_count": 12,
      "metadata": {
        "colab": {
          "base_uri": "https://localhost:8080/"
        },
        "id": "gppC6FUl92qV",
        "outputId": "a7dd7581-60a8-4664-c57e-cd1d51ce980a"
      },
      "outputs": [
        {
          "data": {
            "text/plain": [
              "Qwen2Model(\n",
              "  (embed_tokens): Embedding(151936, 896)\n",
              "  (layers): ModuleList(\n",
              "    (0-23): 24 x Qwen2DecoderLayer(\n",
              "      (self_attn): Qwen2Attention(\n",
              "        (q_proj): Linear(in_features=896, out_features=896, bias=True)\n",
              "        (k_proj): Linear(in_features=896, out_features=128, bias=True)\n",
              "        (v_proj): Linear(in_features=896, out_features=128, bias=True)\n",
              "        (o_proj): Linear(in_features=896, out_features=896, bias=False)\n",
              "      )\n",
              "      (mlp): Qwen2MLP(\n",
              "        (gate_proj): Linear(in_features=896, out_features=4864, bias=False)\n",
              "        (up_proj): Linear(in_features=896, out_features=4864, bias=False)\n",
              "        (down_proj): Linear(in_features=4864, out_features=896, bias=False)\n",
              "        (act_fn): SiLU()\n",
              "      )\n",
              "      (input_layernorm): Qwen2RMSNorm((896,), eps=1e-06)\n",
              "      (post_attention_layernorm): Qwen2RMSNorm((896,), eps=1e-06)\n",
              "    )\n",
              "  )\n",
              "  (norm): Qwen2RMSNorm((896,), eps=1e-06)\n",
              "  (rotary_emb): Qwen2RotaryEmbedding()\n",
              ")"
            ]
          },
          "execution_count": 12,
          "metadata": {},
          "output_type": "execute_result"
        }
      ],
      "source": [
        "model"
      ]
    },
    {
      "cell_type": "markdown",
      "metadata": {
        "id": "nRgyr7oN4gyg"
      },
      "source": [
        "- text enriching with VLLM to add a little description of tables before hey appear?\n",
        "\n",
        "- embeddings that return attention layer\n",
        "\n",
        "- perform similarity on the attention layer -> cluster similar sentences\n",
        "\n",
        "- summarize the clusters\n",
        "\n",
        "- tree-based graph"
      ]
    },
    {
      "cell_type": "markdown",
      "metadata": {
        "id": "0GgAqGk6DSVO"
      },
      "source": [
        "## Splitting the text into sentences and paragraphs"
      ]
    },
    {
      "cell_type": "code",
      "execution_count": 13,
      "metadata": {
        "id": "wKRiK15oDdgY"
      },
      "outputs": [],
      "source": [
        "import spacy\n",
        "\n",
        "nlp = spacy.load(\"fr_core_news_sm\")"
      ]
    },
    {
      "cell_type": "code",
      "execution_count": 14,
      "metadata": {
        "id": "qn1F7NekDqc1"
      },
      "outputs": [],
      "source": [
        "doc = nlp(markdown_example)\n",
        "sents = [sent.text for sent in doc.sents]"
      ]
    },
    {
      "cell_type": "code",
      "execution_count": 15,
      "metadata": {
        "colab": {
          "base_uri": "https://localhost:8080/"
        },
        "id": "TVcXDS4_EYwr",
        "outputId": "1ea2f155-160d-41fc-a5a2-37a56d95c526"
      },
      "outputs": [
        {
          "data": {
            "text/plain": [
              "['# Séance publique\\n\\n\\n\\n# du jeudi 28 octobre 2021\\n\\n\\n\\n# à 18h00\\n\\n\\n\\n# Chorum',\n",
              " 'Alain Gilles',\n",
              " '- Halle Vacheresse\\n\\n\\n\\n#',\n",
              " 'Rue des Vernes à Roanne\\n\\n\\n\\n#',\n",
              " 'PROCES',\n",
              " 'VERBAL\\n\\n\\n\\n',\n",
              " \"L'an deux mille vingt et un, le 28 octobre à 18 h 00, les conseillers communautaires de Roannais Agglomération, se sont réunis à l\\x92Espace Chorum \\x96 Halle\",\n",
              " 'Vacheresse \\x96',\n",
              " 'Rue des Vernes à Roanne.\\n\\n\\n\\n',\n",
              " 'La convocation de tous les conseillers a été faite le 22 octobre 2021, dans les formes et délais prescrits par la loi, par Yves Nicolin, Président.\\n\\n\\n\\n']"
            ]
          },
          "execution_count": 15,
          "metadata": {},
          "output_type": "execute_result"
        }
      ],
      "source": [
        "sents[0:10]"
      ]
    },
    {
      "cell_type": "code",
      "execution_count": 16,
      "metadata": {
        "colab": {
          "base_uri": "https://localhost:8080/"
        },
        "id": "1CY9hPOfbsCL",
        "outputId": "385abc9c-940a-48d2-b019-7c0df878d32a"
      },
      "outputs": [
        {
          "name": "stdout",
          "output_type": "stream",
          "text": [
            "Total number of sents:  913\n",
            "Number of final chunks:  92\n"
          ]
        }
      ],
      "source": [
        "import numpy as np\n",
        "\n",
        "# to reconstruct based on sentences, we can iterate through the list with a range and\n",
        "# concat every 10 sents into a single string\n",
        "\n",
        "rang_sentence_union = np.arange(start=0, stop=len(sents), step=10)\n",
        "# print(rang)\n",
        "print(\"Total number of sents: \", len(sents))\n",
        "print(\"Number of final chunks: \", len(rang_sentence_union))\n"
      ]
    },
    {
      "cell_type": "code",
      "execution_count": 17,
      "metadata": {
        "id": "_QMgODsdbf9-"
      },
      "outputs": [],
      "source": [
        "paragraphs = []\n",
        "i = 0\n",
        "\n",
        "# merging sentences based on the ranges\n",
        "while i+1 < len(rang_sentence_union):\n",
        "  start = rang_sentence_union[i]\n",
        "  stop = rang_sentence_union[i+1]\n",
        "  # print(start, stop)\n",
        "\n",
        "  subset_to_join = sents[start : stop]\n",
        "  sent_union = \" \".join(subset_to_join)\n",
        "\n",
        "  paragraph_info = {\"paragraph_union\": sent_union,\n",
        "                    \"start_range\": start,\n",
        "                    \"stop_range\": stop,\n",
        "                    \"list_sents\":subset_to_join}\n",
        "\n",
        "  paragraphs.append(paragraph_info)\n",
        "\n",
        "  i += 1\n",
        "\n",
        "# if the stop of the range comes before the last sentence, we take those final couple of sentences\n",
        "# and add them to the last sentence of the paragraph list\n",
        "\n",
        "if stop != len(sents):\n",
        "\n",
        "  subset_to_join = sents[stop : len(sents)]\n",
        "  final_sents = \" \".join(subset_to_join)\n",
        "  para_to_edit = paragraphs.pop(-1)\n",
        "  final_union = para_to_edit[\"paragraph_union\"] + \" \" + final_sents\n",
        "\n",
        "  para_to_edit[\"paragraph_union\"] =  final_union\n",
        "  para_to_edit[\"stop_range\"] = len(sents)\n",
        "  para_to_edit[\"list_sents\"].extend(subset_to_join)\n",
        "\n",
        "  paragraphs.append(para_to_edit)"
      ]
    },
    {
      "cell_type": "code",
      "execution_count": 18,
      "metadata": {
        "colab": {
          "base_uri": "https://localhost:8080/"
        },
        "id": "-Vc93a6PgdPl",
        "outputId": "c7d08bdc-b55d-4919-ab90-2d4ab66d77ee"
      },
      "outputs": [
        {
          "data": {
            "text/plain": [
              "{'paragraph_union': '# Dotations aux amortissements et aux provisions : 47 000 \\x80\\n\\n\\n\\nAjustement provision pour dépréciation des actifs circulants (-26 k\\x80) et provision pour Compte Epargne Temps (73 k\\x80).\\n\\n\\n\\n# Virement à la section d\\x92investissement : 118 500 \\x80\\n\\n\\n\\n(autofinancement complémentaire)\\n\\n\\n\\n# Recettes :\\n\\n\\n\\n# Produits des services : -257 140 \\x80\\n\\n\\n\\n Il s\\x92agit principalement de la diminution des recettes du Nauticum en raison du COVID et de la mauvaise météo de cet été (-300 k\\x80) et des billetteries Pleine nature (-42,14 k\\x80) et culturelles (-41,47 k\\x80), d\\x92un complément pour les revenus des coupes de bois (59,07 k\\x80) et à l\\x92ajustement de refacturations (67,4 k\\x80).\\n\\n\\n\\n # Impôts et taxes : 3 600 \\x80\\n\\n\\n\\n Ajustement du reversement des taxes foncières par la commune de Mably sur les bâtiments situés dans la ZAC de Mably. \\n\\n\\n\\n # Subventions - Dotations : -45 060 \\x80\\n\\n\\n\\nAjustement',\n",
              " 'start_range': 900,\n",
              " 'stop_range': 913,\n",
              " 'list_sents': ['# Dotations aux amortissements et aux provisions :',\n",
              "  '47 000 \\x80\\n\\n\\n\\nAjustement provision pour dépréciation des actifs circulants (-26 k\\x80) et provision pour Compte Epargne Temps (73 k\\x80).\\n\\n\\n\\n#',\n",
              "  'Virement à la section d\\x92investissement : 118 500 \\x80\\n\\n\\n\\n(autofinancement complémentaire)\\n\\n\\n\\n#',\n",
              "  'Recettes :\\n\\n\\n\\n#',\n",
              "  'Produits des services :',\n",
              "  '-257 140 \\x80\\n\\n\\n\\n',\n",
              "  'Il s\\x92agit principalement de la diminution des recettes du Nauticum en raison du COVID et de la mauvaise météo de cet été (-300 k\\x80) et des billetteries Pleine nature (-42,14 k\\x80) et culturelles (-41,47 k\\x80), d\\x92un complément pour les revenus des coupes de bois (59,07 k\\x80) et à l\\x92ajustement de refacturations (67,4 k\\x80).\\n\\n\\n\\n',\n",
              "  '# Impôts et taxes : 3 600 \\x80\\n\\n\\n\\n',\n",
              "  'Ajustement du reversement des taxes foncières par la commune de Mably sur les bâtiments situés dans la ZAC de Mably.',\n",
              "  '\\n\\n\\n\\n',\n",
              "  '#',\n",
              "  'Subventions',\n",
              "  '- Dotations : -45 060 \\x80\\n\\n\\n\\nAjustement']}"
            ]
          },
          "execution_count": 18,
          "metadata": {},
          "output_type": "execute_result"
        }
      ],
      "source": [
        "paragraphs[-1]"
      ]
    },
    {
      "cell_type": "code",
      "execution_count": 19,
      "metadata": {
        "id": "rllvu1RFSDRc"
      },
      "outputs": [],
      "source": [
        "def split_markdown_to_paras(text, spacy_model=\"fr_core_news_sm\", n_sents_per_para=10):\n",
        "\n",
        "    nlp = spacy.load(spacy_model)\n",
        "    doc = nlp(text)\n",
        "    sents = [sent.text for sent in doc.sents]\n",
        "\n",
        "    rang_sentence_union = np.arange(start=0, stop=len(sents), step=n_sents_per_para)\n",
        "    # print(\"Total number of sents: \", len(sents))\n",
        "    # print(\"Number of final chunks: \", len(rang_sentence_union))\n",
        "\n",
        "\n",
        "    paragraphs = []\n",
        "    i = 0\n",
        "\n",
        "    # merging sentences based on the ranges\n",
        "    while i+1 < len(rang_sentence_union):\n",
        "        start = rang_sentence_union[i]\n",
        "        stop = rang_sentence_union[i+1]\n",
        "        # print(start, stop)\n",
        "\n",
        "        subset_to_join = sents[start : stop]\n",
        "        sent_union = \" \".join(subset_to_join)\n",
        "\n",
        "        paragraph_info = {\"paragraph_union\": sent_union,\n",
        "                        \"start_range\": start,\n",
        "                        \"stop_range\": stop,\n",
        "                        \"list_sents\":subset_to_join}\n",
        "\n",
        "        paragraphs.append(paragraph_info)\n",
        "\n",
        "        i += 1\n",
        "\n",
        "    # if the stop of the range comes before the last sentence, we take those final couple of sentences\n",
        "    # and add them to the last sentence of the paragraph list\n",
        "    if stop != len(sents):\n",
        "\n",
        "        subset_to_join = sents[stop : len(sents)]\n",
        "        final_sents = \" \".join(subset_to_join)\n",
        "        para_to_edit = paragraphs.pop(-1)\n",
        "        final_union = para_to_edit[\"paragraph_union\"] + \" \" + final_sents\n",
        "\n",
        "        para_to_edit[\"paragraph_union\"] =  final_union\n",
        "        para_to_edit[\"stop_range\"] = len(sents)\n",
        "        para_to_edit[\"list_sents\"].extend(subset_to_join)\n",
        "        paragraphs.append(para_to_edit)\n",
        "\n",
        "    return paragraphs"
      ]
    },
    {
      "cell_type": "markdown",
      "metadata": {
        "id": "K7WlBNr2gm8c"
      },
      "source": [
        "Now we have a list of dictionaries, one for each constructed paragraph. So far, each paragraph has the union string, start and end indexes as well as the list of individual sentences that were joined."
      ]
    },
    {
      "cell_type": "markdown",
      "metadata": {
        "id": "I_QjccTUBASV"
      },
      "source": [
        "## Getting the text embeddings\n"
      ]
    },
    {
      "cell_type": "markdown",
      "metadata": {
        "id": "Lc1xqf1_IC-t"
      },
      "source": [
        "NOTE: There is one important caveat. We are computing sentence embeddings. If we were to pass the whole doc, the attention mask for each token would look very different."
      ]
    },
    {
      "cell_type": "markdown",
      "metadata": {
        "id": "T2IsSD5IEm62"
      },
      "source": [
        "### Example for one piece of text"
      ]
    },
    {
      "cell_type": "code",
      "execution_count": 20,
      "metadata": {
        "id": "8grmXscv4gyg"
      },
      "outputs": [],
      "source": [
        "# dir(tokenizer)"
      ]
    },
    {
      "cell_type": "code",
      "execution_count": 21,
      "metadata": {
        "id": "oXyC3J8g4gyg"
      },
      "outputs": [],
      "source": [
        "tokenized_markdown = tokenizer(markdown_example, return_tensors=\"pt\").to(device)"
      ]
    },
    {
      "cell_type": "code",
      "execution_count": 22,
      "metadata": {
        "colab": {
          "base_uri": "https://localhost:8080/"
        },
        "id": "OqfU1Njp_T0B",
        "outputId": "d944c6d6-46e1-4a2c-8678-7256a3c6b285"
      },
      "outputs": [
        {
          "data": {
            "text/plain": [
              "20468"
            ]
          },
          "execution_count": 22,
          "metadata": {},
          "output_type": "execute_result"
        }
      ],
      "source": [
        "len(tokenized_markdown[0])"
      ]
    },
    {
      "cell_type": "code",
      "execution_count": 23,
      "metadata": {
        "id": "mvm7hSEq4gyg"
      },
      "outputs": [],
      "source": [
        "model.eval()\n",
        "with torch.no_grad():\n",
        "  # first batch (only one since we are processing one doc)\n",
        "  # final token\n",
        "    embeddings = model(**tokenized_markdown)[0][:, 0].squeeze(0)"
      ]
    },
    {
      "cell_type": "code",
      "execution_count": 24,
      "metadata": {
        "colab": {
          "base_uri": "https://localhost:8080/"
        },
        "id": "QaO-j34G_OeG",
        "outputId": "08879613-8113-46bf-e131-3604508b1224"
      },
      "outputs": [
        {
          "data": {
            "text/plain": [
              "torch.Size([896])"
            ]
          },
          "execution_count": 24,
          "metadata": {},
          "output_type": "execute_result"
        }
      ],
      "source": [
        "embeddings.shape"
      ]
    },
    {
      "cell_type": "markdown",
      "metadata": {
        "id": "Kfe2cySo_fGQ"
      },
      "source": [
        "We take the last token since it's the one which contains all the aggregate info?"
      ]
    },
    {
      "cell_type": "code",
      "execution_count": 25,
      "metadata": {
        "id": "r9Dz0XGjCnOC"
      },
      "outputs": [],
      "source": [
        "# embeddings"
      ]
    },
    {
      "cell_type": "code",
      "execution_count": 26,
      "metadata": {
        "id": "CZN2u5nI4gyh"
      },
      "outputs": [],
      "source": [
        "import torch.nn.functional as F\n",
        "\n",
        "normalized_embeddings = F.normalize(embeddings, p=2, dim=0)"
      ]
    },
    {
      "cell_type": "code",
      "execution_count": 27,
      "metadata": {
        "id": "75kj1dKJA4Uq"
      },
      "outputs": [],
      "source": [
        "# normalized_embeddings"
      ]
    },
    {
      "cell_type": "markdown",
      "metadata": {
        "id": "ZDRe1uk9Es4x"
      },
      "source": [
        "### For a list of sentences"
      ]
    },
    {
      "cell_type": "code",
      "execution_count": 28,
      "metadata": {
        "id": "OFOd5PChE7i_"
      },
      "outputs": [],
      "source": [
        "def compute_norm_embeddings(tokenizer, model, sentence):\n",
        "\n",
        "    tokenized_sentences = tokenizer(sentence, return_tensors=\"pt\", padding=True, truncation=True).to(device)\n",
        "\n",
        "    model.eval()\n",
        "    with torch.no_grad():\n",
        "        embeddings = model(**tokenized_sentences)[0][:, 0].squeeze(0) # to take out the unused dimension since we are not batching\n",
        "        # print(embeddings.shape)\n",
        "\n",
        "    normalized_embeddings = F.normalize(embeddings, p=2, dim=0)\n",
        "    detached_embeddings = normalized_embeddings.detach().cpu().numpy() # detached into cpu so that we can manipulate them for clustering\n",
        "\n",
        "    torch.cuda.empty_cache() # careful with running out of memory\n",
        "\n",
        "    return detached_embeddings"
      ]
    },
    {
      "cell_type": "code",
      "execution_count": 29,
      "metadata": {
        "id": "8_SapulEFWyk"
      },
      "outputs": [],
      "source": [
        "list_paras = [para[\"paragraph_union\"] for para in paragraphs]"
      ]
    },
    {
      "cell_type": "code",
      "execution_count": 30,
      "metadata": {
        "id": "cBZZuOCjix2e"
      },
      "outputs": [],
      "source": [
        "for paras, para_dict in zip(list_paras, paragraphs):\n",
        "    para_dict[\"para_embedding\"] = compute_norm_embeddings(tokenizer, model, paras)"
      ]
    },
    {
      "cell_type": "code",
      "execution_count": 31,
      "metadata": {
        "colab": {
          "base_uri": "https://localhost:8080/"
        },
        "id": "sjxS_QG8GiTj",
        "outputId": "090ae451-32ac-4193-c5a7-9bfa8ad4c21e"
      },
      "outputs": [
        {
          "data": {
            "text/plain": [
              "(896,)"
            ]
          },
          "execution_count": 31,
          "metadata": {},
          "output_type": "execute_result"
        }
      ],
      "source": [
        "paragraphs[0][\"para_embedding\"].shape"
      ]
    },
    {
      "cell_type": "markdown",
      "metadata": {
        "id": "RmGM9H8VlrGF"
      },
      "source": [
        "Now there is an extra key for the embeddings that we will use for the clsutering."
      ]
    },
    {
      "cell_type": "markdown",
      "metadata": {
        "id": "iSc1QSlJGloT"
      },
      "source": [
        "## Clustering"
      ]
    },
    {
      "cell_type": "code",
      "execution_count": 32,
      "metadata": {
        "id": "90kGMssB5sJq"
      },
      "outputs": [],
      "source": [
        "squeezeded_embeddings = [para_dict[\"para_embedding\"] for para_dict in paragraphs]"
      ]
    },
    {
      "cell_type": "code",
      "execution_count": 33,
      "metadata": {
        "id": "QolXy-Qc6MRu"
      },
      "outputs": [],
      "source": [
        "# squeezeded_embeddings[0:2]"
      ]
    },
    {
      "cell_type": "markdown",
      "metadata": {
        "id": "r9-Od8pg7Idk"
      },
      "source": [
        "### Example for one number of clusters"
      ]
    },
    {
      "cell_type": "code",
      "execution_count": 34,
      "metadata": {
        "id": "Z5bNPk2o7yHR"
      },
      "outputs": [],
      "source": [
        "from sklearn.mixture import GaussianMixture\n",
        "from sklearn.metrics import silhouette_score"
      ]
    },
    {
      "cell_type": "code",
      "execution_count": 35,
      "metadata": {
        "id": "W5XFk-ac5OEL"
      },
      "outputs": [],
      "source": [
        "gm = GaussianMixture(n_components=4, random_state=42)\n",
        "clusters = gm.fit_predict(squeezeded_embeddings)"
      ]
    },
    {
      "cell_type": "code",
      "execution_count": 36,
      "metadata": {
        "id": "Hy--nqom6Z_l"
      },
      "outputs": [],
      "source": [
        "# clusters # label assigned to each sentence"
      ]
    },
    {
      "cell_type": "code",
      "execution_count": 37,
      "metadata": {
        "colab": {
          "base_uri": "https://localhost:8080/"
        },
        "id": "IF4VmocF6lgg",
        "outputId": "6b808f29-1020-4f62-b31c-ea1a0ebe0d15"
      },
      "outputs": [
        {
          "name": "stdout",
          "output_type": "stream",
          "text": [
            "0.5186369\n"
          ]
        }
      ],
      "source": [
        "sil_sc = silhouette_score(squeezeded_embeddings, clusters)\n",
        "print(sil_sc) # the closer to 1 the better (how similar is an object to its cluster compared to the other clusters)"
      ]
    },
    {
      "cell_type": "code",
      "execution_count": 38,
      "metadata": {
        "colab": {
          "base_uri": "https://localhost:8080/"
        },
        "id": "T89-GhBlkiPU",
        "outputId": "4549f47a-a0cd-42aa-8a2f-c37ce117b074"
      },
      "outputs": [
        {
          "data": {
            "text/plain": [
              "array([0, 0, 0, 0, 0, 0, 0, 0, 2, 0, 3, 0, 0, 0, 0, 0, 0, 0, 0, 0, 0, 0,\n",
              "       0, 0, 0, 3, 0, 1, 3, 0, 3, 0, 0, 0, 0, 0, 0, 0, 0, 3, 3, 0, 0, 0,\n",
              "       0, 0, 3, 0, 3, 3, 3, 3, 1, 0, 0, 3, 3, 0, 0, 0, 0, 0, 0, 0, 0, 0,\n",
              "       0, 3, 0, 0, 0, 0, 0, 0, 1, 0, 0, 3, 3, 0, 0, 0, 0, 0, 0, 0, 0, 0,\n",
              "       0, 0, 0])"
            ]
          },
          "execution_count": 38,
          "metadata": {},
          "output_type": "execute_result"
        }
      ],
      "source": [
        "clusters"
      ]
    },
    {
      "cell_type": "markdown",
      "metadata": {
        "id": "ZT9ds5aY7Kdu"
      },
      "source": [
        "### Optimal number of clusters"
      ]
    },
    {
      "cell_type": "code",
      "execution_count": 39,
      "metadata": {
        "colab": {
          "base_uri": "https://localhost:8080/"
        },
        "id": "reomAYOP7Okn",
        "outputId": "48b62c33-2ede-44ed-c982-b12ecf0a9072"
      },
      "outputs": [
        {
          "name": "stdout",
          "output_type": "stream",
          "text": [
            "[3 4 5 6 7 8]\n"
          ]
        }
      ],
      "source": [
        "import numpy as np\n",
        "\n",
        "# initial number of clusters to try\n",
        "range_clusters = np.arange(start=3, stop=9, step=1)\n",
        "print(range_clusters)"
      ]
    },
    {
      "cell_type": "markdown",
      "metadata": {
        "id": "MQcSWEgK_4HA"
      },
      "source": [
        "We could compute jensenshannon distance as well."
      ]
    },
    {
      "cell_type": "code",
      "execution_count": 40,
      "metadata": {
        "id": "coeaWSg63QUT"
      },
      "outputs": [],
      "source": [
        "def cluster_n(cluster_model, n_clusters, embeddings, scoring_function):\n",
        "\n",
        "  clusters = cluster_model.fit_predict(embeddings)\n",
        "  sil_sc = scoring_function(embeddings, clusters)\n",
        "\n",
        "  print(\"Number of clusters: \", n_clusters)\n",
        "  print(\"Score: \", sil_sc)\n",
        "  print()\n",
        "\n",
        "  return clusters, sil_sc"
      ]
    },
    {
      "cell_type": "code",
      "execution_count": 41,
      "metadata": {
        "colab": {
          "base_uri": "https://localhost:8080/"
        },
        "id": "c8LKJOTk4ZDi",
        "outputId": "29942ee6-b2f9-475e-de3c-243ffa111c58"
      },
      "outputs": [
        {
          "name": "stdout",
          "output_type": "stream",
          "text": [
            "Number of clusters:  3\n",
            "Score:  0.5307558\n",
            "\n",
            "Number of clusters:  4\n",
            "Score:  0.5186369\n",
            "\n",
            "Number of clusters:  5\n",
            "Score:  0.35501358\n",
            "\n",
            "Number of clusters:  6\n",
            "Score:  0.35773662\n",
            "\n",
            "Number of clusters:  7\n",
            "Score:  0.3963203\n",
            "\n",
            "Number of clusters:  8\n",
            "Score:  0.47093514\n",
            "\n"
          ]
        }
      ],
      "source": [
        "silhouette_scores = []\n",
        "clusters_labels = []\n",
        "for n_cluster in range_clusters:\n",
        "  gm = GaussianMixture(n_components=n_cluster, random_state=42)\n",
        "  clusters, sil_sc = cluster_n(gm, n_cluster, squeezeded_embeddings, silhouette_score)\n",
        "  silhouette_scores.append(sil_sc)\n",
        "  clusters_labels.append(clusters)"
      ]
    },
    {
      "cell_type": "code",
      "execution_count": 42,
      "metadata": {
        "colab": {
          "base_uri": "https://localhost:8080/"
        },
        "id": "uLWh2rQz8RC2",
        "outputId": "864a943c-6f8b-4d6a-9ced-663e75441aa5"
      },
      "outputs": [
        {
          "name": "stdout",
          "output_type": "stream",
          "text": [
            "Index 0\n",
            "Optimal Number of Clusters 3\n"
          ]
        }
      ],
      "source": [
        "max = np.argmax(silhouette_scores)\n",
        "optimal_n = range_clusters[max]\n",
        "print(\"Index\", max)\n",
        "print(\"Optimal Number of Clusters\", optimal_n)"
      ]
    },
    {
      "cell_type": "code",
      "execution_count": 43,
      "metadata": {
        "id": "TRylDnIF8lOy"
      },
      "outputs": [],
      "source": [
        "final_clusters = clusters_labels[max]"
      ]
    },
    {
      "cell_type": "markdown",
      "metadata": {
        "id": "8eIyvmFl9sdO"
      },
      "source": [
        "## Logging Information, concatinating the text relating to each cluster and recomputing embeddings"
      ]
    },
    {
      "cell_type": "code",
      "execution_count": 44,
      "metadata": {
        "colab": {
          "base_uri": "https://localhost:8080/"
        },
        "id": "f6q0c0Upr0ec",
        "outputId": "643b2194-9ddc-4f7b-d08b-24192768c8e3"
      },
      "outputs": [
        {
          "data": {
            "text/plain": [
              "{'cluster_0': {'para_indexes': [], 'union_paras': ''},\n",
              " 'cluster_1': {'para_indexes': [], 'union_paras': ''},\n",
              " 'cluster_2': {'para_indexes': [], 'union_paras': ''}}"
            ]
          },
          "execution_count": 44,
          "metadata": {},
          "output_type": "execute_result"
        }
      ],
      "source": [
        "clusters_ids = {f\"cluster_{cluster_id}\": {\"para_indexes\": [],\n",
        "                                        \"union_paras\": \"\"} for cluster_id in np.arange(0, optimal_n, 1)}\n",
        "clusters_ids"
      ]
    },
    {
      "cell_type": "code",
      "execution_count": 45,
      "metadata": {
        "id": "z0bvr7rLlh9R"
      },
      "outputs": [],
      "source": [
        "# saving the cluster in the paragraphs dictionary\n",
        "# and the indexes of the paragraphs of cluster in another one\n",
        "\n",
        "i = 0\n",
        "\n",
        "for para_dict, cluster in zip(paragraphs, final_clusters):\n",
        "  cluster_n_string = f\"cluster_{cluster}\"\n",
        "  para_dict[\"para_cluster\"] = cluster_n_string\n",
        "  clusters_ids[cluster_n_string][\"para_indexes\"].append(i)\n",
        "  clusters_ids[cluster_n_string][\"union_paras\"] = clusters_ids[cluster_n_string][\"union_paras\"] + para_dict[\"paragraph_union\"]\n",
        "  i = i + 1"
      ]
    },
    {
      "cell_type": "code",
      "execution_count": 46,
      "metadata": {
        "id": "eNH8LVu-0DAy"
      },
      "outputs": [],
      "source": [
        "# depending on the post-processing techniques, we may not be using these embeddings\n",
        "# and we'll have to re-tokenize and embed with the model we use\n",
        "\n",
        "for cluster in clusters_ids.keys():\n",
        "  text = clusters_ids[cluster][\"union_paras\"]\n",
        "  cluster_embds = compute_norm_embeddings(tokenizer, model, text)\n",
        "  clusters_ids[cluster][\"cluster_embedding\"] = cluster_embds"
      ]
    },
    {
      "cell_type": "code",
      "execution_count": 47,
      "metadata": {
        "id": "c8VHpeFQsDjH"
      },
      "outputs": [],
      "source": [
        "# clusters_ids[\"cluster_0\"]\n",
        "# looking at this example, we can see that the clustering is mostly sequential"
      ]
    },
    {
      "cell_type": "code",
      "execution_count": 48,
      "metadata": {
        "colab": {
          "base_uri": "https://localhost:8080/"
        },
        "id": "6JbkudLLndDi",
        "outputId": "a1f46603-781a-46b8-85d5-8bd46edd26cd"
      },
      "outputs": [
        {
          "data": {
            "text/plain": [
              "dict_keys(['paragraph_union', 'start_range', 'stop_range', 'list_sents', 'para_embedding', 'para_cluster'])"
            ]
          },
          "execution_count": 48,
          "metadata": {},
          "output_type": "execute_result"
        }
      ],
      "source": [
        "paragraphs[0].keys()"
      ]
    },
    {
      "cell_type": "code",
      "execution_count": 49,
      "metadata": {
        "colab": {
          "base_uri": "https://localhost:8080/"
        },
        "id": "N3ioP6aysXKk",
        "outputId": "1918598e-7114-49ca-97d7-896d4a92a416"
      },
      "outputs": [
        {
          "data": {
            "text/plain": [
              "dict_keys(['cluster_0', 'cluster_1', 'cluster_2'])"
            ]
          },
          "execution_count": 49,
          "metadata": {},
          "output_type": "execute_result"
        }
      ],
      "source": [
        "clusters_ids.keys()"
      ]
    },
    {
      "cell_type": "code",
      "execution_count": 50,
      "metadata": {
        "colab": {
          "base_uri": "https://localhost:8080/"
        },
        "id": "IROnueIHz1X4",
        "outputId": "5f930b76-59b5-491f-8e02-3efd7ad816da"
      },
      "outputs": [
        {
          "data": {
            "text/plain": [
              "dict_keys(['para_indexes', 'union_paras', 'cluster_embedding'])"
            ]
          },
          "execution_count": 50,
          "metadata": {},
          "output_type": "execute_result"
        }
      ],
      "source": [
        "clusters_ids[\"cluster_0\"].keys()"
      ]
    },
    {
      "cell_type": "markdown",
      "metadata": {
        "id": "o1bz5hicTAU8"
      },
      "source": [
        "## Detecting tables and dates in the txt"
      ]
    },
    {
      "cell_type": "markdown",
      "metadata": {
        "id": "k9LB5sZ4WUC-"
      },
      "source": [
        "### Workflow with im2table"
      ]
    },
    {
      "cell_type": "code",
      "execution_count": 52,
      "metadata": {
        "colab": {
          "base_uri": "https://localhost:8080/",
          "height": 140
        },
        "id": "0kIacKp2TDff",
        "outputId": "072a41b9-51bb-490c-a262-f4e1a7616ca0"
      },
      "outputs": [
        {
          "data": {
            "application/vnd.google.colaboratory.intrinsic+json": {
              "type": "string"
            },
            "text/plain": [
              "\"# Séance publique\\n\\n\\n\\n# du jeudi 28 octobre 2021\\n\\n\\n\\n# à 18h00\\n\\n\\n\\n# Chorum Alain Gilles - Halle Vacheresse\\n\\n\\n\\n# Rue des Vernes à Roanne\\n\\n\\n\\n# PROCES VERBAL\\n\\n\\n\\nL'an deux mille vingt et un, le 28 octobre à 18 h 00, les conseillers communautaires de Roannais Agglomération, se sont réunis à l\\x92Espace Chorum \\x96 Halle Vacheresse \\x96 Rue des Vernes à Roanne.\\n\\n\\n\\nLa convocation de tous les conseillers a été faite le 22 octobre 2021, dans les formes et délais prescrits par la loi, par Yves Nicolin, Président.\\n\\n\\n\\n# Etaient présents :\\n\\n\\n\\nChristine Aranéo - Marcel Augier - Jean-Jacques Banchet - Pierre Barnet - Martine Barroso - Isabelle Berthelot - Franck Beysson - Jean-Yves Boire - Romain Bost - Michelle Bouchet - Edmond Bourgeon - Marie-Christine Bravo - Catherine Brun - Dominique Bruyère - Nicolas Chargueros - Jean-Luc Chervin - Christine Chevillard - Pierre Coissard - Patrick Collet - Sandra Creuzet - Hervé Daval - Jean-Paul Descombes - Pierre Devedeux - Christian Dorange - David Dozance - Catherine Dufossé - Christian Dupuis - Jacky Geneste - Annie Gerenton - Gilles Goutaudier - Patricia Goutorbe - Guy Lafay - Fabien Lambert - Hélène Lapalus - Sébastien Lassaigne - Christelle Lattat - Christian Laurent - Maryvonne Loughraieb - Adina Lupu Bratiloveanu - Muriel Marcellin - Jean-Luc Mardeuil - Eric Martin - Yves Meunier (Suppléant Laurence Boyer) - Véronique Mouiller - Lucien Murzi - Pascal Muzart - Nabih Nejjar (arrivé en cours de séance) - Yves Nicolin - Mahdi Nouibat - Gilles Passot (arrivé en cours de séance) - Philippe Perron - Jade Petit - Éric Peyron - Anne Pilato - Christophe Pion - Serge Pralas - Stéphane Raphaël - Clotilde Robin - Martine Roffat - Alain Rossetti - Sophie Rotkopf - Jean Smith - Jacques Troncy - Denis Vanhecke - Gilbert Varrenne - Antoine Vermorel-Marques.\\n\\n\\n\\n# Etaient absents :\\n\\n\\n\\nCf page suivante.\\n\\n\\n\\nPage 1 sur 49\\n\\n\\n\\n|Absents|Ni pouvoir|Suppléant|Pouvoir donné à\\x85|Ni suppléant|\\n\\n|---|---|---|---|---|\\n\\n|Jean-Marc Ambroise|X| | | |\\n\\n|Laurence Boyer| |Yves Meunier| | |\\n\\n|Marie-France Catheland| | |Muriel Marcellin| |\\n\\n|Yves Chambost| | |Clotilde Robin| |\\n\\n|Aimé Combaret|X| | | |\\n\\n|Marie-Laure Dana Burnichon| | |Edmond Bourgeon| |\\n\\n|-| | |Catherine Brun| |\\n\\n|Jean-Marc Detour| | | | |\\n\\n|Daniel Fréchet| | |Lucien Murzi| |\\n\\n|Quentin Guillermin|X| | | |\\n\\n|Jean-Paul Heyberger| | |Christelle Lattat| |\\n\\n|Franck Maupetit| | |Annie Gerenton| |\\n\\n|Patrick Meunier|X| | | |\\n\\n|Nabih Nejjar|X| | |(arrivé en cours de séance)|\\n\\n|Gilles Passot| | |Fabien Lambert|(arrivé en cours de séance)|\\n\\n|Marcel Peuillon|X| | | |\\n\\n|Didier Prunet| | |Christian Dupuis| |\\n\\n|Vickie Redeuilh| | |Hélène Lapalus| |\\n\\n|Marie-Hélène Riamon| | |Denis Vanhecke| |\\n\\n|Corinne Troncy| | |Maryvonne Loughraieb| |\\n\\n|Isabelle Valcourt| | |Jean-Luc Mardeuil| |\\n\\n\\n\\nSecrétaire de séance : Denis Vanhecke\\n\\n\\n\\n# Approbation des procès-verbaux des conseils communautaires des 24 juin et 22 juillet 2021.\\n\\n\\n\\nLes procès-verbaux des conseils communautaires des 24 juin et 22 juillet 2021 ne font l\\x92objet d\\x92aucune remarque particulière.\\n\\n\\n\\n# ASSEMBLEES\\n\\n\\n\\n# 1. Exercice des pouvoirs délégués au Président et au bureau \\x96 Compte-rendu.\\n\\n\\n\\nMonsieur le Président présente le compte rendu des pouvoirs délégués au Président et au Bureau.\\n\\n\\n\\nLe conseil communautaire de Roannais Agglomération a délégué au président et au bureau communautaire des attributions.\\n\\n\\n\\nL'article L.5211-10 du Code général des collectivités territoriales, stipule que le Président doit rendre compte de l'exercice des pouvoirs délégués, auprès de l'organe délibérant.\\n\\n\\n\\n# N° DP 2021-312 du 15 septembre 2021 - Espaces naturels - Domaine des Grands Murcins - Communes de Renaison, Arcon et Saint-André-d\\x92Apchon - Convention de chasse avec la Fédération Départementale des Chasseurs de la Loire\\n\\n\\n\\nLe Président décide :\\n\\n\\n\\n- d\\x92accorder à la Fédération Départementale des Chasseurs de la Loire, ayant son siège à la Maison de la Chasse et de la Nature, 10 impasse Saint-Exupéry à Andrézieux-Bouthéon, un droit de chasse pratiqué dans un but pédagogique et portant uniquement sur le grand gibier et les espèces nuisibles, aucun agrainage ne devant être réalisé sur le site ;\\n\\n- de préciser que ce droit de chasse est accordé sur les parcelles situées sur la commune d\\x92Arcon, cadastrées section A numéros 528, 530, 531, 532, 533, 540, 541, 542, 543, 544, 545, 546, 547, 548, 554 et 558, pour une superficie de 67,90 hectares environ, sur la parcelle située sur la commune de Saint-André-d\\x92Apchon cadastrée section B numéro 1655 pour une superficie de 0,84 hectare environ, et sur les parcelles situées sur la commune de Renaison cadastrées section B numéros 1129, 1130, 1131, 1132, 1133, 1134, 1142, 1143, 1151, 1152, 1153, 1155, 1161, 1165, 2044, 2045, 2046, 735 et 736, d\\x92une superficie de 53,33 hectares environ ;\\n\\n- d\\x92approuver la convention de chasse avec la Fédération Départementale des Chasseurs de la Loire ;\\n\\n- de dire que cette convention est consentie du 17 septembre 2021 pour se terminer le 16 septembre 2022 et sera renouvelable par tacite reconduction par période de un an, quatre fois maximum, soit une expiration au plus tard le 16 septembre 2026 ;\\n\\n- de préciser que cette convention est consentie à titre gratuit ;\\n\\n- d\\x92autoriser Eric PEYRON, Vice-Président délégué au patrimoine et à la voirie, à effectuer toutes les actions se rapportant à l\\x92exécution de cette décision, y compris les éventuels avenants et résiliation de la convention de chasse.\\n\\n\\n\\n# N° DP 2021-313 du 15 septembre 2021 - Culture - Saison culturelle 2021/2022 - CHOUET FESTIVAL 2022 - Demande de subvention\\n\\n\\n\\nLe Président décide :\\n\\n\\n\\n- de solliciter une subvention, auprès du Département de la Loire et de la Région Auvergne -Rhône Alpes, au titre du soutien « Festival » ;\\n\\n- de préciser que cette demande de subvention a pour objet de soutenir la réalisation du Festival jeune public « Chouet Festival 2022 », dans le cadre de la saison culturelle 2021/2022 et dont le coût s\\x92élève à 84 254 \\x80 TTC.\\n\\n\\n\\n# N° DP 2021-314 du 15 septembre 2021 - Clôture de la régie de recettes et d\\x92avances du Centre de Loisirs Ados au 15 septembre 2021 - Abrogation décision du Président n° DP 2016-237 du 30 août 2016\\n\\n\\n\\nLe Président décide :\\n\\n\\n\\n- d\\x92abroger la décision du Président n° DP 2016-237 du 30 août 2016 et de clôturer au 15 septembre 2021 la régie de recettes et d\\x92avances du Centre de loisirs ados ;\\n\\n- de dire que Monsieur le Président de Roannais Agglomération et Monsieur le Trésorier de la Trésorerie de Roanne Municipale sont chargés chacun en ce qui les concerne de l\\x92exécution de la présente décision et dont une ampliation sera adressée au régisseur titulaire et aux mandataires suppléants.\\n\\n\\n\\n# N° DP 2021-315 du 15 septembre 2021 - Développement économique - Aéroport de Roanne Saint-Léger-Sur-Roanne - Renouvellement de la décision constitutive de Dépôt Spécial de Carburant d\\x92Aviation du 17 octobre 2021 au 17 octobre 2026\\n\\n\\n\\nLe Président décide :\\n\\n\\n\\n- de demander le renouvellement de l\\x92autorisation, auprès des Douanes, pour la vente de carburant destiné aux aéronefs, à savoir la décision constitutive de Dépôt Spécial de Carburant d\\x92Aviation et de la soumission cautionnée associée par courrier ;\\n\\n- de préciser que cette autorisation administrative permettra de poursuivre l\\x92exploitation de la station d\\x92avitaillement de l\\x92aéroport de Roanne et notamment la possibilité de vente de kérosène détaxé aux titulaires de certificats de transporteurs aériens.\\n\\n\\n\\n# N° DP 2021-316 du 17 septembre 2021 - Communication - Fourniture, pose, maintenance et entretien d\\x92abris de bus et de mobiliers d\\x92information - Avenant n°3 avec la société JCDecaux France\\n\\n\\n\\nLe Président décide :\\n\\n\\n\\n- d\\x92approuver l\\x92avenant n°3 au marché de fourniture, pose, maintenance et entretien d\\x92abris de bus et de mobiliers d\\x92information avec la société JCDecaux France ;\\n\\n- de préciser que cet avenant a pour objet de prendre acte du changement de dénomination sociale du titulaire et de prolonger la durée du marché initiale de 15 ans à 16 ans et 18 jours, soit une échéance au 1er novembre 2022.\\n\\n- de préciser que cette modification n\\x92entraîne pas d\\x92incidence financière sur le montant du marché public (marché recetté sur les recettes publicitaires des abris de bus et mobiliers urbains).\\n\\n\\n\\n# N° DP 2021-317 du 17 septembre 2021 - Travaux de déconstruction et de construction d\\x92un Bâtiment d\\x92Enseignement Supérieur en vue du regroupement des formations sur le Campus Mendes France à Roanne\\n\\n\\n\\n# Phase 2 : travaux de construction - Lot 5 « Gros \\x9cuvre Maçonnerie » - Avenant n°2 Avec la société VALLORGE SAS\\n\\n\\n\\nLe Président décide :\\n\\n\\n\\n- d\\x92approuver l\\x92avenant n°2 au lot n°5 « Gros \\x9cuvre Maçonnerie » de l\\x92opération de construction d\\x92un bâtiment d\\x92Enseignement supérieur en vue du regroupement des formations sur le Campus Mendès-France à Roanne avec la société VALLORGE SAS ;\\n\\n- de préciser que cet avenant a pour objet de prendre en compte la simplification des fondations du mur mitoyen et sa reprise, non prévus au marché, mais nécessaires afin de garantir une homogénéité de l\\x92ensemble de l\\x92ouvrage ;\\n\\n- de préciser que cette modification entraîne une plus-value d\\x92un montant forfaitaire de 7 382,60 \\x80 HT, correspondant à une augmentation du lot de + 0,89 % et portant le lot 5 à 833 370,32 \\x80 HT.\\n\\n\\n\\n# N° DP 2021-318 du 17 septembre 2021 - Travaux de déconstruction et de construction d\\x92un Bâtiment d\\x92Enseignement Supérieur en vue du regroupement des formations sur le Campus Mendes France à Roanne\\n\\n\\n\\n# Phase 2 : travaux de construction - Lot 10 « Serrurerie » - Avenant n°1 Avec la société ROCHE SARL\\n\\n\\n\\nLe Président décide :\\n\\n\\n\\n- d\\x92approuver l\\x92avenant n°1 au lot n°10 « Serrurerie » des travaux de déconstruction et de construction d\\x92un Bâtiment d\\x92Enseignement Supérieur en vue du regroupement des formations sur le Campus Mendes France à Roanne (Phase 2 : travaux de construction) avec la société ROCHE SARL ;\\n\\n- de préciser que cet avenant a pour objet de prendre en compte des ajustements techniques pour un montant de + 6 047,00 \\x80 HT, correspondant à une plus-value du montant du lot de +9,2%, portant le montant du lot 10 à 71 564,60 \\x80 HT.\\n\\n\\n\\n# N° DP 2021-319 du 20 septembre 2021 - Aéroport - Etude de faisabilité pour la réfection de la piste de l\\x92aéroport de Roanne - Marché avec la société SOGETI INGENIERIE AIRPORTS\\n\\n\\n\\nLe Président décide :\\n\\n\\n\\n- d\\x92attribuer le marché portant « étude de faisabilité pour la réfection de la piste de l\\x92aéroport de Roanne » avec la société SOGETI INGENIERIE AIRPORTS pour un montant forfaitaire de 20 500 \\x80 HT ;\\n\\n- de préciser que ce marché prend effet à sa notification pour un délai de réalisation des études de dix semaines ;\\n\\n- de dire que les dépenses seront prélevées sur les crédits ouverts à cet effet sur le budget annexe « équipements de tourisme et de loisirs » - section investissement.\\n\\n\\n\\n# N° DP 2021-320 du 20 septembre 2021 - Numérique - Abonnement FAS (Frais d\\x92Accès au Service) Fibres optiques noires Pour l\\x92année 2021 - Marché négocié sans publicité ni mise en concurrence avec la société AXIONE\\n\\n\\n\\nLe Président décide :\\n\\n\\n\\n- d\\x92approuver le marché négocié sans publicité ni mise en concurrence, avec la société AXIONE, portant sur l\\x92abonnement au FAS, Frais d\\x92Accès au Service, fibres optiques noires ;\\n\\n- de préciser que ce marché est conclu pour l\\x92année 2021, pour un montant forfaitaire de 54 000,00 \\x80 HT ;\\n\\n- de dire que les dépenses seront prélevées sur les crédits ouverts au Budget Général \\x96 section de fonctionnement.\\n\\n\\n\\n# N° DP 2021-321 du 21 septembre 2021 - Assainissement - Exploitation des unités de traitement des effluents et ouvrages annexes - Avenant n°3 avec la société SUEZ EAU FRANCE\\n\\n\\n\\nLe Président décide :\\n\\n\\n\\n- d\\x92approuver l\\x92avenant n°3 au marché exploitation des unités de traitement des effluents et ouvrages annexes avec la société SUEZ EAU France ;\\n\\n- de préciser que cet avenant a pour objet la création de prix nouveaux ;\\n\\n- de préciser que cet avenant n\\x92a pas d\\x92incidence financière.\\n\\n\\n\\n# N° DP 2021-322 du 21 septembre 2021 - Transports Urbains - Cession de deux autobus (N°23 et N°73) à la société CAR CASSE 44 - Autobus N°23 Heuliez GX117 immatriculé DA 103 BM et Autobus N°73 Renault AGORA immatriculé CZ 382 AD\\n\\n\\n\\nLe Président décide :\\n\\n\\n\\n# Décisions du Président\\n\\n\\n\\n# N° DP 2021-322 du 21 septembre 2021 - Cession d\\x92autobus\\n\\n\\n\\n- d\\x92approuver la cession des autobus suivants :\\n\\n- - Autobus Heuliez GX117 N°23, immatriculé DA 103 BM, inventorié sous le numéro TU1186YH422001008, mis en circulation en 2001 ;\\n\\n- Autobus Renault AGORA N°73, immatriculé CZ 382 AD, inventorié sous le numéro VTU8366YX422003004, mis en circulation en 1999 ;\\n\\n\\n\\nde céder ces autobus à la société CAR CASSE 44, dont le siège est situé 3 ? rue de la Barbotte - 44117 SAINT-ANDRE-DES-EAUX, représentée par Monsieur Mickael VAIDIE en sa qualité de gérant, partenaire de CIDER Engineering ;\\n\\n- de préciser que cette cession est conclue pour un montant de 500 \\x80 nets par autobus, soit 1 000 \\x80 nets au total ;\\n\\n- d\\x92indiquer que ces véhicules sont vendus, en l\\x92état, sans contrôle technique et que l\\x92acquéreur se charge de leur enlèvement ;\\n\\n- de dire que ces véhicules seront retirés du patrimoine de Roannais Agglomération ;\\n\\n- de passer les écritures comptables pour supprimer ces véhicules de l\\x92état actif de Roannais Agglomération ;\\n\\n- de préciser que la recette sera encaissée sur le budget transport 2021 - chapitre 77 - nature 775.\\n\\n\\n\\n# N° DP 2021-323 du 22 septembre 2021 - Familles - Centre de loisirs intercommunal - Organisation d\\x92un mini-camp - Contrat de location avec la Mairie de Vivans pour l\\x92hébergement de groupe\\n\\n\\n\\n- d\\x92approuver le contrat de location à intervenir avec la Mairie de Vivans, pour un montant forfaitaire de 616,00 \\x80 TTC ;\\n\\n- de préciser que cette location porte sur la location du gîte situé sur la commune de Vivans, du mardi 26 octobre au jeudi 28 octobre 2021, pour l\\x92organisation d\\x92un mini-camp dans le cadre des projets jeunes.\\n\\n\\n\\n# N° DP 2021-324 du 23 septembre 2021 - Développement économique - Aéroport de Roanne Saint-Léger-Sur-Roanne - Convention Météo France Avenant n°1\\n\\n\\n\\n- d\\x92approuver l\\x92avenant à la convention météo France du 30 janvier 2020, pour la prise en charge, par Météo France, de l\\x92abonnement téléphonique de la station, le renouvellement des équipements, et pour la prise en compte de l\\x92évolution des coûts supportés par Météo-France.\\n\\n\\n\\n# N° DP 2021-325 du 24 septembre 2021 - Action culturelle - Saison culturelle 2020/2021 - Avenant au Contrat de Cession Spectacle « BoOm » - Programmé le samedi 16 et dimanche 17 octobre 2021 - Avec la Compagnie Entre Eux Deux Rives\\n\\n\\n\\n- d\\x92approuver l\\x92avenant au contrat de cession, avec la compagnie « Entre Eux Deux Rives », ayant pour objet le report de la date du spectacle intitulé « BoOm » les 16 et 17 octobre 2021 ;\\n\\n- de préciser que cet avenant n\\x92a aucune incidence financière.\\n\\n\\n\\n# N° DP 2021-326 du 29 septembre 2021 - Aéroport de Roanne - Convention de prêt de véhicule incendie avec la régie d\\x92exploitation - AEROPORT SAINT-ETIENNE LOIRE\\n\\n\\n\\n- d\\x92approuver la convention de prêt de véhicule incendie, proposée par le syndicat mixte Régie d\\x92exploitation Aéroport Saint-Etienne Loire, pour permettre d\\x92effectuer des atterrissages et des décollages sur sa plateforme aéroportuaire, nécessitant de pouvoir assurer le niveau SSLIA 4 requis d\\x92un aéronef, suite à la sollicitation d\\x92entreprises du Roannais ;\\n\\n- de préciser que cette mise à disposition, à titre onéreux, est consentie pour un montant de 1 200,00 \\x80 HT, pour quatre jours de prêt, soit du 1er octobre au 4 octobre 2021.\\n\\n\\n\\n# N° DP 2021-327 du 1er octobre 2021 - Numérique \\x96 Numeriparc - Commune de Roanne - Convention d\\x92occupation précaire - Phase pépinière et Convention de services et de prestations technologiques du 8 octobre 2021 au 1er septembre 2023 avec la Société F.L ENGINEERING\\n\\n\\n\\nPage 5 sur 49\\n\\n\\n\\n# Délibérations prises par le Président\\n\\n\\n\\n# N° DP 2021-328 du 7 octobre 2021 - Assainissement\\n\\n\\n\\nAccord-cadre de travaux de renouvellement et extension des réseaux « Lot n°1 - travaux de renouvellement et extension des réseaux de forte technicité »\\n\\n\\n\\n- Marché subséquent de mise en séparatif du réseau d\\x92assainissement, rue de Froideville sur la commune de la Pacaudière : Avenant n°1 au marché avec la société EUROVIA DALA - Agence LMTP\\n\\n\\n\\nLe Président décide :\\n\\n\\n\\n- d\\x92approuver l\\x92avenant n°1 au marché subséquent de mise en séparatif du réseau d\\x92assainissement, rue de Froideville sur la commune de la Pacaudière, de l\\x92accord-cadre de travaux de renouvellement et extension des réseaux - « Lot n°1 « travaux de renouvellement et extension des réseaux de forte technicité », avec la société EUROVIA DALA - agence LMTP,\\n\\n- de préciser que cet avenant a pour objet l\\x92augmentation du montant du marché de + 2 429, 60 \\x80 HT ;\\n\\n- de préciser que cette modification porte le montant estimatif du marché à 159 449, 60 \\x80 HT, soit une augmentation de +1, 55 % par rapport au montant du marché initial ;\\n\\n- de dire que les dépenses seront prélevées sur les crédits ouverts au budget « Assainissement ».\\n\\n\\n\\n# N° DP 2021-329 du 7 octobre 2021 - Service Solidarités\\n\\n\\n\\nPLIE du Roannais - Facilitateur des clauses sociales d\\x92insertion dans les marchés publics - Convention cadre de coopération avec OPHEOR pour la mise en \\x9cuvre et le suivi des clauses d\\x92insertion dans le cadre des marchés publics\\n\\n\\n\\nLe Président décide :\\n\\n\\n\\n- d\\x92approuver la convention cadre de coopération à intervenir avec OPHEOR ;\\n\\n- de préciser que cette convention de coopération a pour objet de fixer les règles de collaboration entre Roannais Agglomération et OPHEOR, dans le cadre de la mise en \\x9cuvre des clauses sociales d\\x92insertion relative à ses marchés publics.\\n\\n\\n\\n# N° DP 2021-330 du 7 octobre 2021 - Développement économique\\n\\n\\n\\nAéroport de Roanne - Protocole d\\x92accord pour la fourniture de données aéronautiques entre la DSNA et Roannais Agglomération - Avenant n°1\\n\\n\\n\\nLe Président décide :\\n\\n\\n\\n- d\\x92approuver l\\x92avenant n° 1 au protocole d\\x92accord pour la fourniture de données aéronautiques, entre la Direction des Services de la Navigation Aérienne et Roannais Agglomération, gestionnaire de l\\x92Aéroport de Roanne ;\\n\\n- de préciser que ce protocole d\\x92accord a pour objet l\\x92ajout de la responsabilité des exploitants dans la diffusion des données du Global Reporting Format, GRF, et de définir les modalités de transmission des données relatives à l\\x92état des surfaces de l\\x92aire de mouvement sous le nouveau format des SNOWTAM.\\n\\n\\n\\n# N° DP 2021-331 du 7 octobre 2021 - Développement économique\\n\\n\\n\\nAéroport de Roanne - Convention de mise à disposition de solution logicielle pour la gestion des vols de drones - Société CLEARANCE\\n\\n\\n\\nLe Président décide :\\n\\n\\n\\n- d\\x92approuver la convention de mise à disposition de solution logicielle pour la gestion des vols de drones sur l\\x92espace aérien contrôlé de l\\x92aérodrome de Roanne avec la société CLEARANCE, à titre expérimental, gratuitement et jusqu\\x92au 31 décembre 2021.\\n\\n\\n\\n# Délibérations prises par le Bureau Communautaire\\n\\n\\n\\n# Bureau communautaire du 23 septembre 2021\\n\\n\\n\\n# N° DBC 2021-082 - Stratégies et ressources foncières\\n\\n\\n\\nAEROPORT - Site aéroportuaire de Roanne Bâtiment à réhabiliter « Fox-Trot » : Convention d\\x92occupation temporaire du domaine public aéroportuaire constitutive de droits réels avec la société SUPERBE AILE FORMATION\\n\\n\\n\\nLe bureau communautaire, après en avoir délibéré à l\\x92unanimité :\\n\\n\\n\\nAccorde à la société SUPERBE AILE FORMATION, société par action simplifiée, ayant son siège social 1015 Route de Combray 42155 Saint-Léger-Sur-Roanne, l\\x92occupation du bâtiment à réhabiliter dénommé « Fox-Trot » situé sur le site aéroportuaire de Roanne-Bois de Pouilly - Commune de Saint-Léger-sur-Roanne ;\\n\\n\\n\\nApprouve la convention d\\x92occupation temporaire du domaine public aéroportuaire constitutive de droits réels avec la société SUPERBE AILE FORMATION ;\\n\\n\\n\\nPrécise que le bâtiment à réhabiliter dénommé « Fox-Trot », d\\x92une surface de 400 m², est situé sur le site aéroportuaire de Roanne tel qu\\x92implanté sur la parcelle cadastrée section AA numéro 13 \\x96 Commune de Saint-Léger-sur-Roanne ;\\n\\n\\n\\nFixe la durée de l\\x92occupation à 30 ans à compter du 15 octobre 2021 jusqu\\x92au 14 octobre 2051 inclus ;\\n\\n\\n\\nIndique que l\\x92objet de la convention d\\x92occupation temporaire est la réalisation de travaux ou constructions réhabilitant, étendant ou modifiant de façon substantielle les ouvrages, constructions et installations existantes, pour l\\x92installation d\\x92activités liées à l\\x92aéronautique, justifiant d\\x92un accès aux pistes et contribuant au développement et à l\\x92animation du site aéroportuaire, notamment :\\n\\n\\n\\n- La formation dans le domaine du pilotage aérien, l\\x92instruction en vol, la fourniture de leçons de pilotage, et la réalisation de prestations d\\x92enseignement dans le domaine du pilotage aérien ;\\n\\n- L\\x92acquisition, la vente et l\\x92exploitation d\\x92un ou plusieurs aéronefs ;\\n\\n- La location coque nue d\\x92aéronef, la location d\\x92aéronef avec fourniture du carburant nécessaire ;\\n\\n- Le négoce de pièces d\\x92avion ;\\n\\n\\n\\nDit que la redevance sera conforme à la grille tarifaire approuvée par le Conseil Communautaire et en vigueur à la prise d\\x92effet de la convention, et que la redevance sera révisable annuellement en application de la clause d\\x92indexation prévue dans la convention ;\\n\\n\\n\\nAutorise Monsieur le Président ou son représentant dûment habilité à effectuer toutes les actions se rapportant à l\\x92exécution de cette délibération y compris tout avenant ou résiliation à venir.\\n\\n\\n\\n# N° DBC 2021-083 - Stratégies et ressources foncières - GRANDS EQUIPEMENTS - Piscine Nauticum à Roanne - Résiliation amiable de la convention d\\x92occupation temporaire du domaine public non constitutive de droits réels avec Rémy FARGEAS\\n\\n\\n\\nLe bureau communautaire, après en avoir délibéré à l\\x92unanimité :\\n\\n\\n\\n- Accepte la résiliation amiable de la convention d\\x92occupation temporaire du domaine public non constitutive de droits réels en date du 29 juin 2020, consentie à Rémy FARGEAS, entrepreneur individuel à responsabilité limitée (EIRL), demeurant 231, Chemin du Perron à Villerest, à compter du 24 septembre 2021 ;\\n\\n- Indique que la convention d\\x92occupation temporaire du domaine public non constitutive de droits réels consentie à Rémy FARGEAS se rapporte à l\\x92occupation de l\\x92espace restauration au sein du centre nautique « Nauticum » situé rue Général Giraud à Roanne ;\\n\\n- Précise que cette résiliation est convenue sans aucune indemnité de part et d\\x92autre ;\\n\\n- Approuve l\\x92acte bilatéral de résiliation amiable ;\\n\\n- Autorise Monsieur le Président ou son représentant dûment habilité à effectuer toutes les actions se rapportant à l\\x92exécution de cette délibération.\\n\\n\\n\\n# N° DBC 2021-084 - Stratégies et ressources foncières - Saint-Germain-Lespinasse - Zone d\\x92activités « Les Odins » : Cession d\\x92un terrain à la SARL CAVER (Société CVS Agencement) Retrait de la délibération n° DBC 2019-070 du 3 juin 2019 approuvant la cession\\n\\n\\n\\nLe bureau communautaire, après en avoir délibéré à l\\x92unanimité :\\n\\n\\n\\n- Prend acte du fait que la SARL CAVER n\\x92a pas donné suite à la proposition de vente formulée en 2019 car son projet n\\x92était pas abouti ;\\n\\n- Procède au retrait de la délibération du Bureau Communautaire n° DBC 2019-070 du 3 juin 2019 approuvant la cession d\\x92un terrain constitué de la parcelle cadastrale 0A n° 1153 sur la commune de Saint Germain Lespinasse, Zone d\\x92activités « les Oddins », à la SARL CAVER.\\n\\n\\n\\n# N° DBC 2021-085 - Stratégies et ressources foncières - Acquisition de biens appartenant au Département de la Loire situés sur les communes de Commelle-Vernay, Parigny et Villerest : prise en compte du sinistre d\\x92un bien sur la commune de Villerest dans le montant des acquisitions\\n\\n\\n\\nLe bureau communautaire, après en avoir délibéré à l\\x92unanimité :\\n\\n\\n\\n- Complète la délibération du bureau communautaire n° DBC 2020-038 du 2 mars 2020 relative à l\\x92acquisition des biens appartenant au Département de la Loire situés sur les communes de Commelle-Vernay, Parigny et Villerest, correspondant aux emprises du contournement sud-ouest de l\\x92agglomération pour acter la diminution du prix d\\x92acquisition du montant de la remise en état du bien sinistré édifié sur la parcelle cadastrée section BH n° 37 sis 739 route de la Mirandole à Villerest dont le montant est estimé à 42 030,20 \\x80 HT ;\\n\\n\\n\\n- dit que le prix d\\x92acquisition est désormais fixé à 270 420,00 \\x80 sur lequel la TVA pourra être appliquée sur la totalité ou en partie, après vérification du régime fiscal applicable ;\\n\\n\\n\\n- autorise Monsieur le Président, ou son représentant dûment habilité, à signer les actes à intervenir relatif à la vente du bien, et toutes pièces nécessaires à la finalisation de cette opération.\\n\\n\\n\\n# N° DBC 2021-086 - Aménagement du territoire - Avis de Roannais Agglomération sur le projet de modification n° 1 du Plan Local d\\x92Urbanisme de la commune de Notre-Dame-de-Boisset\\n\\n\\n\\nLe bureau communautaire, après en avoir délibéré à l\\x92unanimité :\\n\\n\\n\\n- émet un avis favorable au projet de modification n° 1 du plan local d\\x92urbanisme de la commune de Notre-Dame-de-Boisset ;\\n\\n\\n\\n- recommande d\\x92abaisser dans le règlement, le seuil d\\x92implantation des activités commerciales à 300 m² de surface de plancher en zone de centralité et à 100 m² dans les secteurs pavillonnaires compte tenu des caractéristiques présentes sur la commune ;\\n\\n\\n\\n- dit, à titre d\\x92information, que certaines formulations du règlement sont de nature à poser des difficultés notamment dans la gestion des autorisations d\\x92urbanisme, à savoir :\\n\\n\\n\\nConcernant la desserte par les réseaux (toutes zones), la pièce n°11 correspond au schéma directeur de gestion des eaux pluviales et non au zonage pluvial établi par Roannaise de l\\x92Eau. Il convient donc renvoyer les dispositions de l\\x92article aux annexes correspondantes.\\n\\n\\n\\nConcernant les dispositions relatives aux annexes à l\\x92habitation en zone A et N, emprise au sol et localisation par rapport à la maison d\\x92habitation, celles-ci ne devraient pas s\\x92appliquer aux piscines. En effet, les piscines font l\\x92objet de dispositions spécifiques dans le règlement.\\n\\n\\n\\n- demande au Président, ou à son représentant, de transmettre l\\x92avis de Roannais Agglomération à la commune de Notre-Dame-de-Boisset.\\n\\n\\n\\n# N° DBC 2021-087 - Développement économique - Commune de VILLEREST - Site touristique Plage et Barrage de Villerest - Cession d\\x92un terrain à M. Johnny HINDERCHIED L\\x92Oberge du Barrage\\n\\n\\n\\nLe bureau communautaire, après en avoir délibéré à l\\x92unanimité :\\n\\n\\n\\n- approuve la cession à Monsieur Johnny HINDERCHIED, ou à toute personne morale qui se substituerait à lui, d\\x92un terrain d\\x92environ 1 540 m² à extraire de la parcelle cadastrée section CB n°21 située route de Seigne sur la commune de Villerest ;\\n\\n\\n\\n- dit que le prix de vente est fixé à 55,00 \\x80 net/m², soit pour 1 540 m², un prix total net de 84 700,00 \\x80 ;\\n\\n\\n\\n- dit que cette cession est conforme à l\\x92avis du domaine sur la valeur vénale, référencé n° 2021-42332-54880 en date du 13 août 2021 ;\\n\\n\\n\\n- procède à la sortie de l\\x92actif de Roannais Agglomération des biens précités ;\\n\\n\\n\\n- autorise Monsieur le Président, ou son représentant dûment habilité, à signer les actes à intervenir relatifs à la vente du bien, et toutes pièces nécessaires à la finalisation de cette opération ;\\n\\n\\n\\n- dit que la recette sera comptabilisée sur le budget général de l\\x92exercice concerné.\\n\\n\\n\\n# N° DBC 2021-088 - Développement économique - Subvention au titre de l\\x92aide au développement des petites entreprises du commerce, de l\\x92artisanat et des services avec point de vente - Subvention à l\\x92établissement Torréfaction de Cafés EURL CBLB Pouilly les Nonains\\n\\n\\n\\nLe bureau communautaire, après en avoir délibéré à l\\x92unanimité :\\n\\n\\n\\n- attribue la subvention à l\\x92établissement Torréfaction de Cafés EURL CBLB, représenté par M. Cyrille BAILLON et situé sur la commune de Pouilly-les-Nonains, pour un montant de 2 233 \\x80 maximum, représentant 10 % des dépenses éligibles ;\\n\\n\\n\\n- autorise Monsieur le Président, ou son représentant, à transmettre le dossier correspondant à la Région Auvergne Rhône-Alpes, celle-ci pouvant accorder une aide de 20 % en complément.\\n\\n\\n\\n# N° DBC 2021-089 - Développement économique - Subvention au titre de l\\x92aide au développement des petites entreprises du commerce, de l\\x92artisanat et des services avec point de vente - Subvention à l\\x92établissement Salon de Coiffure CHEVEUX D\\x92ANGE Pouilly les Nonains\\n\\n\\n\\nLe bureau communautaire, après en avoir délibéré à l\\x92unanimité :\\n\\n\\n\\n- attribue la subvention à l\\x92établissement Salon de Coiffure CHEVEUX D\\x92ANGE, représenté par Mme Angélique ZUCCONI et située sur la commune de Pouilly-les-Nonains, pour un montant de 2 900 \\x80 maximum, représentant 10 % des dépenses éligibles ;\\n\\n\\n\\n- autorise Monsieur le Président, ou son représentant, à transmettre le dossier correspondant à la Région Auvergne Rhône-Alpes, celle-ci pouvant accorder une aide de 20 % en complément.\\n\\n\\n\\nPage 8 sur 49\\n\\n\\n\\n# N° DBC 2021-090 - Développement économique\\n\\n\\n\\nSubvention au titre de l\\x92aide au développement des petites entreprises du commerce, de l\\x92artisanat et des services avec point de vente - Subvention à l\\x92établissement Boulangerie Pâtisserie CUCHERAT Renaison\\n\\n\\n\\nLe bureau communautaire, après en avoir délibéré à l\\x92unanimité :\\n\\n\\n\\n- attribue la subvention à l\\x92établissement Boulangerie Pâtisserie CUCHERAT, représenté par M. Pascal CUCHERAT et située sur la commune de Renaison, pour un montant de 4 850 \\x80 maximum, représentant 10 % des dépenses éligibles ;\\n\\n- autorise Monsieur le Président, ou son représentant, à transmettre le dossier correspondant à la Région Auvergne Rhône-Alpes, celle-ci pouvant accorder une aide de 20 % en complément.\\n\\n\\n\\n# N° DBC 2021-091 - Développement économique\\n\\n\\n\\nSubvention au titre de l\\x92aide au développement des petites entreprises du commerce, de l\\x92artisanat et des services avec point de vente - Subvention à l\\x92établissement Restaurant SARL LES GENS HEUREUX Renaison\\n\\n\\n\\nLe bureau communautaire, après en avoir délibéré à l\\x92unanimité :\\n\\n\\n\\n- attribue la subvention à l\\x92établissement Restaurant SARL LES GENS HEUREUX, représenté par M. Stéphane SUBRIN et Mme Sandrine FOUILLAND, situé sur la commune de Renaison, pour un montant de 5 000 \\x80 maximum, représentant 10 % des dépenses éligibles ;\\n\\n- autorise Monsieur le Président, ou son représentant, à transmettre le dossier correspondant à la Région Auvergne Rhône-Alpes, celle-ci pouvant accorder une aide de 20 % en complément.\\n\\n\\n\\n# N° DBC 2021-092 - Gens du voyage\\n\\n\\n\\nAvis sur le schéma départemental d\\x92accueil et d\\x92habitat des gens du voyage 2021-2026\\n\\n\\n\\nLe bureau communautaire, après en avoir délibéré à l\\x92unanimité :\\n\\n\\n\\n- émet un avis défavorable sur le Schéma départemental d\\x92accueil et d\\x92habitat des gens du voyage 2021-2026.\\n\\n\\n\\n# N° DBC 2021-093 - Agriculture \\x96 Espaces verts et naturels\\n\\n\\n\\nVignes relais - Soutien aux entreprises viticoles dans le cadre des calamités agricoles (gel) Aide économique aux viticulteurs Lucas LAPANDERY et Yannick PRAS\\n\\n\\n\\nLe bureau communautaire, après en avoir délibéré à l\\x92unanimité :\\n\\n\\n\\n- accorde une aide économique aux viticulteurs locataires des biens immobiliers de Roannais Agglomération, correspondant à leur redevance annuelle, comme suit :\\n\\n\\n\\n|Locataire viticulteur|Redevance exonérée|Période concernée|\\n\\n|---|---|---|\\n\\n|Lucas LAPANDERY|696,66 \\x80|15 janvier 2021 au 14 janvier 2022|\\n\\n|Yannick PRAS|1 315,77 \\x80|15 décembre 2020 au 14 décembre 2021|\\n\\n|TOTAL|2 012,43 \\x80| |\\n\\n\\n\\n- précise que cette aide économique est attribuée au titre des calamités agricoles survenues au printemps 2021, lesquelles ont fortement perturbé la culture et la future récolte des vignes des occupants des Vignes-relais de Saint-Haon-Le-Vieux ;\\n\\n- précise que l\\x92aide économique sera comptabilisée sur le budget général - chapitre 67.\\n\\n\\n\\n# N° DBC 2021-094 - Agriculture \\x96 Espaces verts et naturels\\n\\n\\n\\nEpisode de gel d\\x92avril 2021 - Attribution d\\x92une subvention exceptionnelle à l\\x92Association « Vignobles Forez Roannais, Aux Racines de la Loire»\\n\\n\\n\\nLe bureau communautaire, après en avoir délibéré à l\\x92unanimité :\\n\\n\\n\\n- attribue une subvention de 5 500 \\x80 à l\\x92association « Vignobles Forez Roannais, Aux Racines de la Loire », pour le territoire du vignoble Roannais ;\\n\\n- dit que les crédits sont prévus au budget général - chapitre 65.\\n\\n\\n\\n# N° DBC 2021-095 - Agriculture \\x96 Espaces verts et naturels\\n\\n\\n\\nGrands Murcins - Attribution d\\x92une subvention en numéraire et en nature à l\\x92association « Les Amis des Arbres de la Loire et de l\\x92Arboretum des Grands Murcins » pour l\\x92année 2021\\n\\n\\n\\nLe bureau communautaire, après en avoir délibéré à l\\x92unanimité :\\n\\n\\n\\n- attribue une subvention de 1 100 \\x80 à l\\x92association Les Amis des Arbres de la Loire et de l\\x92Arboretum des Grands Murcins, pour l\\x92année 2021 au titre de l\\x92action de gestion et d\\x92animation du site des Grands Murcins;\\n\\n\\n\\n# N° DBC 2021-096 - Santé - Activités Sport-santé - Adhésion à l\\x92association Loire Profession Sport\\n\\n\\n\\nLe bureau communautaire, après en avoir délibéré à l\\x92unanimité :\\n\\n\\n\\n- approuve l\\x92adhésion à l\\x92association « Loire Profession Sport » ;\\n\\n- précise que l\\x92adhésion est consentie à compter du 1er octobre 2021 ;\\n\\n- précise que le montant de l\\x92adhésion 2021 est de 30 \\x80, correspondant à un nombre d\\x92heures de mise à disposition de plus de 50 heures.\\n\\n\\n\\n# N° DBC 2021-097 - Promotion du territoire / Evénementiel - Attribution de la subvention 2021 (2ème session) à l\\x92Association Villerestoise d\\x92Animation Locale (AVAL)\\n\\n\\n\\nLe bureau communautaire, après en avoir délibéré à l\\x92unanimité :\\n\\n\\n\\n- attribue une subvention de 2 500 \\x80 à l\\x92association Villerestoise d\\x92Animation Locale (« AVAL ») dans le cadre de l\\x92organisation du marché de l\\x92écureuil les 6 et 7 novembre 2021 à Villerest, au titre de la promotion territoriale ;\\n\\n- précise que cette subvention est attribuée sous réserve de la réalisation de l\\x92événement.\\n\\n\\n\\n# N° DBC 2021-098 - Promotion du territoire / Evénementiel - Attribution de la subvention 2021 et approbation de la convention d\\x92objectifs et de financement avec l\\x92Association « les Tables Roannaises »\\n\\n\\n\\nLe bureau communautaire, après en avoir délibéré à l\\x92unanimité :\\n\\n\\n\\n- attribue une subvention de 16 540 \\x80 à l\\x92association « Les Tables Roannaises », dans le cadre de son activité de promotion de la gastronomie, et notamment sa participation à la soirée dégustation du festival Roanne Table Ouverte, qui aura lieu le lundi 4 octobre 2021 à Roanne, au titre de la promotion territoriale ;\\n\\n- précise que cette subvention est attribuée sous réserve de la réalisation de l\\x92événement ;\\n\\n- autorise le Président ou son représentant à signer la convention d\\x92objectifs et de financement avec l\\x92Association « Les Tables Roannaises ».\\n\\n\\n\\n# N° DBC 2021-099 - Energies - Prestations de maintenance des installations de chauffage, de climatisation, de ventilation et de production d\\x92eau chaude sanitaire des sites de Roannais Agglomération - Marchés avec la société HERVE THERMIQUE (lot 1 « compétence petite enfance », lot 2 « secteur Nord-Ouest »)\\n\\n\\n\\nLe bureau communautaire, après en avoir délibéré à l\\x92unanimité :\\n\\n\\n\\n- approuve les accords-cadres mono-attributaires à bons de commande pour les prestations de maintenance des installations de chauffage, de climatisation, de ventilation et de production d\\x92eau chaude sanitaire des sites de Roannais Agglomération comme suit :\\n\\n\\n\\n|N° et dénomination du lot|Attributaire(s) sous réserve transmission des PAA|Montant contractuel et rappel des montants minimum et maximum de l\\x92accord-cadre|Montant P2+P3 estimatif non-contractuel \\x80 HT sur la durée de 3 ans (à titre d\\x92information)|\\n\\n|---|---|---|---|\\n\\n|Lot 1 : Compétence Petite enfance|HERVE THERMIQUE|Sans montant minimum et montant maximum de 35 000 \\x80 HT sur la durée du marché de 3 ans|34 995 \\x80 HT|\\n\\n|Lot 2 : Secteur Nord-Ouest|HERVE THERMIQUE|Sans montant minimum et montant maximum de 26 000 \\x80 HT sur la durée du marché de 3 ans|16 365 \\x80 HT|\\n\\n\\n\\nLe bureau communautaire, après en avoir délibéré à l\\x92unanimité :\\n\\n\\n\\n- précise que les marchés sont attribués pour une durée de trois ans à compter du 1er octobre 2021 ;\\n\\n- autorise Monsieur le Président, ou son représentant, à signer lesdits marchés ;\\n\\n- dit que les dépenses seront prélevées sur les budgets concernés \\x96 sections de fonctionnement et d\\x92investissement.\\n\\n\\n\\n# N° DBC 2021-100 - Assainissement - Gestion dynamique du réseau d\\x92assainissement de Roanne - Travaux de construction de 4 chambres de vannes - Marché avec la société EUROVIA DALA Agence LMTP\\n\\n\\n\\nLe bureau communautaire, après en avoir délibéré à l\\x92unanimité :\\n\\n\\n\\n- approuve le marché de gestion dynamique du réseau d\\x92assainissement de Roanne - Travaux de construction de 4 chambres de vannes avec la société EUROVIA DALA Agence LMTP au vu des prix unitaires du bordereau des prix unitaires (montant estimatif non contractuel de 1 430 589 \\x80 HT) ;\\n\\n- autorise Monsieur le Président, ou son représentant, à signer ledit marché ;\\n\\n- dit que les dépenses seront prélevées sur les crédits ouverts à cet effet au budget annexe « Assainissement ».\\n\\n\\n\\nBureau communautaire du 14 octobre 2021\\n\\n\\n\\n# N° DBC 2021-101 - Transition numérique et systèmes d\\x92information - Prestation de migrations technique et fonctionnelle de la solution informatique de gestion des courriers (version 6), mise en \\x9cuvre de la solution au sein des services de Riorges et Villerest et hébergement en mode Saas de la solution Elise V6 - Marché négocié sans publicité ni mise en concurrence avec la société NEOLEDGE\\n\\n\\n\\nLe bureau communautaire, après en avoir délibéré à l\\x92unanimité :\\n\\n\\n\\n- approuve le marché public négocié sans publicité ni mise en concurrence préalable avec la société NEOLEDGE ayant pour objet les prestations de migrations techniques et fonctionnellement de de la solution informatique de gestion des courrier (version 6), la mise en \\x9cuvre de la solution au sein des services de Riorges et Villerest et l\\x92hébergement en mode Saas de la solution Elise V6 pour les entités membres de la DTNSI ;\\n\\n- précise que ce marché est conclu à compter de sa notification, comme suit :\\n\\n\\n\\n|Période concernée|Montant forfaitaire|\\n\\n|---|---|\\n\\n|1ère période : de la notification au 31/12/2022|97 725 \\x80 HT|\\n\\n|2ème période : du 1er /01/2022 au 31/12/2023|27 600 \\x80 HT|\\n\\n|3ème période : du 1er /01/2023 au 31/12/2024|27 600 \\x80 HT|\\n\\n|Total sur la durée du marché|152 925 \\x80 HT|\\n\\n\\n\\n- autorise Monsieur le Président, ou son représentant, à signer ledit marché ;\\n\\n- autorise Monsieur le Président ou son représentant à intervenir dans l'exécution et le règlement dudit marché ;\\n\\n- dit que les dépenses seront prélevées sur les crédits ouverts à cet effet au budget général, section de fonctionnement ;\\n\\n- dit que les recettes liées à la refacturation à Mably, Riorges, Roanne et Villerest seront prévues au budget général, section de fonctionnement.\\n\\n\\n\\n# N° DBC 2021-102 - Mutualisation - Avenant n°1 à la convention de prestation de services pour l\\x92organisation de sessions de formation entre Roannais Agglomération et Ambierle, Mably, OPHEOR, Ouches, Pouilly-les-Nonains, Roannaise de l\\x92Eau, Renaison, Riorges, Saint-Martin-d\\x92Estreaux, Saint-Romain-La-Motte, Saint-Alban-les-Eaux, Saint-André-d\\x92Apchon et Villerest\\n\\n\\n\\nLe bureau communautaire, après en avoir délibéré à l\\x92unanimité :\\n\\n\\n\\n- approuve l\\x92avenant n°1 aux conventions de prestation de services pour l\\x92organisation de sessions de formation entre Roannais Agglomération et Ambierle, Mably, OPHEOR, Ouches, Pouilly-les-Nonains, Roannaise de l\\x92Eau, Renaison, Riorges, Saint-Martin-d\\x92Estreaux, Saint-Romain-La-Motte, Saint-Alban-les-Eaux, Saint-André-d\\x92Apchon et Villerest ;\\n\\n- précise que cet avenant prendra effet le 26 octobre 2021 ;\\n\\n- dit que les conventions de prestation de services prendront fin au 31 décembre 2021 ;\\n\\n- autorise Monsieur le Président, ou son représentant, à signer cet avenant à la convention.\\n\\n\\n\\n# N° DBC 2021-103 - Mutualisation - Convention de prestation de services pour l\\x92organisation de sessions de formation avec la Ville du Coteau\\n\\n\\n\\nLe bureau communautaire, après en avoir délibéré à l\\x92unanimité :\\n\\n\\n\\n- approuve la convention de prestations de service avec la Ville du Coteau pour l\\x92organisation de sessions de formation ;\\n\\n- précise que la date d\\x92effet des conventions est fixée à la date de signature et prend fin au 31 décembre 2021 ;\\n\\n\\n\\n# N° DBC 2021-104 - Développement économique - Subvention au titre de l\\x92aide au développement des petites entreprises du commerce, de l\\x92artisanat et des services avec point de vente - Subvention à l\\x92établissement L\\x92AUDACIEUSE LINGERIE Renaison\\n\\n\\n\\nLe bureau communautaire, après en avoir délibéré à l\\x92unanimité :\\n\\n\\n\\n- attribue une subvention à l\\x92établissement L\\x92AUDACIEUSE LINGERIE, représenté par Mme Laëtitia SYBELIN, située sur la commune de Renaison, pour un montant de 3 383,00 \\x80 maximum, représentant 10 % des dépenses éligibles ;\\n\\n- autorise Monsieur le Président, ou son représentant, à transmettre le dossier correspondant à la Région Auvergne Rhône-Alpes, celle-ci pouvant accorder une aide de 20 % en complément.\\n\\n\\n\\n# N° DBC 2021-105 - Eau - Assainissement - Budget Annexe Assainissement - Constitution des provisions 2021\\n\\n\\n\\nLe bureau communautaire, après en avoir délibéré à l\\x92unanimité :\\n\\n\\n\\n- autorise les reprises des provisions pour factures impayées des exercices antérieurs pour 460 057,08 \\x80 ;\\n\\n- autorise les constitutions de provisions pour factures impayées des exercices antérieurs à 2021 pour 326 226,68 \\x80 ;\\n\\n- dit que ces sommes seront inscrites au budget annexe assainissement 2021 - chapitres 68 et 78.\\n\\n\\n\\n# N° DBC 2021-106 - Eau - Assainissement - Assainissement - Admission en non-valeur Année 2021\\n\\n\\n\\nLe bureau communautaire, après en avoir délibéré à l\\x92unanimité :\\n\\n\\n\\n- admet en non-valeur les sommes suivantes :\\n\\n- - Impayés sur les redevances d\\x92assainissement pour un montant total de 25 627,21 \\x80 HT sur les années 2012 à 2020 ;\\n\\n- Créances éteintes suite à des liquidations judiciaires ou surendettement pour un montant total de 6 972,24 \\x80 HT sur les années 2012 à 2019 ;\\n\\n\\n\\ndit que ces sommes seront imputées au budget annexe Assainissement 2021 - chapitre 65.\\n\\n\\n\\n# N° DBC 2021-107 - Action culturelle - Subventions 2021- Subvention à l\\x92association la Maison de Pays d\\x92Ambierle\\n\\n\\n\\nLe bureau communautaire, après en avoir délibéré à l\\x92unanimité :\\n\\n\\n\\n- attribue, au titre des évènementiels et programmations associatives, une subvention de 1 500 \\x80 à l\\x92association « la Maison de Pays d\\x92Ambierle » pour son projet culturel autour de l'\\x9cuvre d'Alice Taverne organisée au cours de l\\x92été 2021 ;\\n\\n- dit que la dépense sera prélevée sur les crédits ouverts au budget général 2021 \\x96 chapitre 65.\\n\\n\\n\\n# N° DBC 2021-108 - Stratégies et ressources foncières - Acquisition amiable de terrains aux consorts de Brosses au sein de la zone économique des Berges du Rhins sur la commune de Parigny\\n\\n\\n\\nLe bureau communautaire, après en avoir délibéré à l\\x92unanimité :\\n\\n\\n\\n- approuve l\\x92acquisition amiable à Madame Anne de BROSSES, épouse de JULIEN de ZELICOURT et Monsieur Charles de BROSSES du tènement foncier suivant :\\n\\n\\n\\n|Commune|Référence cadastrale|Surface en m²|Nature/description|\\n\\n|---|---|---|---|\\n\\n|Parigny|AC n°001|453 m²|Terrain nu|\\n\\n|Parigny|AC n° 101|5 705 m²|Terrain nu|\\n\\n|Parigny|AC n°100|950 m²|Accès voirie aménagé|\\n\\n|Total|Total|7 108 m²| |\\n\\n\\n\\n- dit que le prix d\\x92acquisition est fixé à 183 930,00 \\x80 net hors frais d\\x92acte ;\\n\\n- dit que cette acquisition a fait l\\x92objet d\\x92un avis des services des missions domaniales de la Direction générale des finances publiques n° 2021-42166-68525 en date du 22 septembre 2021 et que le prix est légèrement inférieur considérant que la parcelle AC n° 100 a été préalablement aménagé par une structure publique intercommunale ;\\n\\n- autorise Monsieur le Président, ou son représentant dûment habilité, à signer les actes à intervenir, et toutes pièces nécessaires à la finalisation de cette opération ;\\n\\n\\n\\n# Affaires Générales\\n\\n\\n\\n# 1. Rapport d\\x92activités 2020\\n\\n\\n\\nMonsieur le Président présente les grandes lignes du rapport d\\x92activité 2020.\\n\\n\\n\\n« L\\x92année 2020 a été marquée par :\\n\\n\\n\\n- le renouvellement des exécutifs communaux (mars et juin) et intercommunal (juillet),\\n\\n- le COVID, avec la crise sanitaire et économique.\\n\\n\\n\\nLa priorité a donc été donnée à l\\x92économie avec notamment :\\n\\n\\n\\n- la mise en place d\\x92un fonds de soutien aux entreprises,\\n\\n- la mise en place d\\x92une aide au secteur du tourisme,\\n\\n- la mobilisation des services en faveur de la protection des soignants et des personnes,\\n\\n- la poursuite du service public : ordures ménagères notamment.\\n\\n\\n\\nEn parallèle, nous avons tant bien que mal poursuivi nos actions dans les différents domaines de compétence. Les nouveautés de l\\x92année 2020 sont :\\n\\n\\n\\n- Transport : attribution de la DSP Transport à Transdev (flotte électrique),\\n\\n- Déchets ménagers : extension des consignes de tri, au 1er janvier 2020 et validation du ramassage en porte à porte des emballages et papiers,\\n\\n- Assainissement : adoption d\\x92un nouveau schéma directeur,\\n\\n- Culture : mise en réseau des médiathèques,\\n\\n- Santé : production de visières anti Covid\\n\\n- Grands équipements : validation de la réalisation du centre aqualudique.\\n\\n\\n\\nVu l\\x92arrêté préfectoral du 30 décembre 2019, portant statuts de Roannais Agglomération ;\\n\\n\\n\\nVu l\\x92article L5211-39 du CGCT qui prévoit que le Président de l'établissement public de coopération intercommunale adresse chaque année, au maire de chaque commune membre un rapport retraçant l'activité de l'établissement ;\\n\\n\\n\\nConsidérant que, préalablement, ce rapport fait l\\x92objet d\\x92une présentation en Conseil communautaire ;\\n\\n\\n\\nConsidérant que ledit rapport fait l'objet d'une communication, par le maire, au Conseil municipal en séance publique au cours de laquelle les représentants de la commune à l'organe délibérant de l'établissement public de coopération intercommunale sont entendus ;\\n\\n\\n\\nFranck Beysson fait plusieurs remarques sur ce rapport, et notamment sur l\\x92aéroport. « Nous sommes très contents de voir que nous allons avoir, via le programme AIRPORT CARBON ACCREDITATION, porté par l'association européenne des aéroports, un aéroport peut être écologique, avec des contrôles de gaz à effet de serre, où les 84 000 litres de carburant, qui correspondent à peu près à 1 600 pleins de voitures chaque année, vont sans doute devenir écologiques ou zéro carbone. Je dis cela avec ironie bien sûr. Mais, il y avait cependant une volonté dans la rédaction justement de marquer un aspect écologique que l\\x92on trouve cocasse. On a aussi pu constater que l'aéroport a été l'occasion d'accueillir l\\x92émission renommée de la carte aux trésors, émission renommée également pour son exemplaire bilan carbone, étant donné le principe même du jeu avec les hélicoptères.\\n\\n\\n\\nJ\\x92ai simplement essayé de regarder, pour avoir une note justement du contenu de ce rapport, la sémantique utilisée. J'ai quand même été un peu surpris de voir 0 fois le mot « Co2, dioxyde de carbone », une seule fois le mot « gaz à effet de serre », une seule fois le mot « pollution », une fois le mot « biodiversité », mais deux fois le mot « faune », une fois le mot « flore », quatre fois le mot « nature » et cinq fois seulement le mot « climat », là où dans le même temps, il y avait 40 fois le mot « économie », 23 fois le mot « attractivité », 70 fois le mot « entreprise », 22 fois le mot « Euros ». Voilà qui montre pour moi, qui donne une couleur et une indication sur les orientations qui sont prises.\\n\\n\\n\\nAlors, bien sûr, si je m'arrête là je serais quand même un petit peu trop subjectif dans mes lectures des choses puisqu\\x92il y a quand même des choses autour de l'environnement et du développement durable. On retrouve 24 fois le terme « développement durable », 11 fois le thème « rénovation » et puis il y a d'autres choses qui parlent de l'écologie et de l'environnement. D\\x92une manière plus générale, ce serait peut-être une suggestion, pour les prochains rapports d'activité de l'agglomération, c'est qu'en fait il y a beaucoup d'informations et de chiffres qui sont donnés dans tous les thèmes. Par contre, je trouve qu\\x92on a du mal à se rendre compte de ce que cela veut dire, de ce que cela signifie au regard des objectifs de l'ouverture des chantiers. On peut se dire qu\\x92il y a des centaines de choses qui sont faites à droite à gauche, mais par rapport à ce qu'il y a à faire, qu'est-ce que ça représente ? Je vous donne quelques exemples pour illustrer ce propos. Je ne parle pas des gaz à effet de serre parce que pour l'instant ils ne sont pas comptés, à part peut-être demain sur l'aéroport. Mais, en ce qui concerne les haies, vous nous annoncez qu\\x92il y a 11,4 km de haies qui sont replantées. C'est très bien, mais combien il y en a ? C'est quoi l'enjeu par rapport à la Roannais Agglomération ? Est-ce qu\\x92il y en a 20 à replanter, est-ce qu\\x92il y en a 100, 1 000, 10 000 ? Ce qui nous permettrait de nous donner un horizon et de voir si on est à la hauteur des enjeux. On pourrait avoir le même raisonnement avec 193 logements modestes. Aider dans la rénovation, c\\x92est aussi très bien mais combien y en-a-t-il au final ? Voilà, il y a 311 demandeurs d'emploi fragilisés qui ont été accompagnés. C'est très bien, mais combien y en aurait-il à accompagner ? Sans jugement de dire qu'il y en a beaucoup plus ou pas. Mais, en tout cas d\\x92avoir l'information de comparaison serait intéressante pour pouvoir se donner des ordres de grandeur ».\\n\\n\\n\\nM. le Président répond à Franck Beysson : « Vous avez employé un mot qui est celui de cocasse. Il est cocasse effectivement aussi de prendre un rapport d'activité d'une collectivité et d'aller compter les mots. De mon point de vue, si votre travail d'élu se contente d\\x92un travail d'épicier je vous en félicite. Mais, je ne suis pas sûr que cela fasse avancer les choses. Si vous voulez effectivement juger de la qualité des actions que nous menons, voire de leur quantité, au nombre de mots « Co2 » ou je ne sais trop quoi, je vous promets, qu'au prochain rapport, je mettrai en annexe un répertoire particulier et comme ça vous pourrez rajouter des statistiques dans votre lecture. Mais, franchement, cela ne me paraît pas très sérieux de réagir comme ça. Je pense que nous menons des actions de fond, qui ont lieu tout au long de l'année. Ses actions sont, je pense là-encore, saluées par beaucoup de personnalités ou de structures extérieures. Que nous n\\x92en fassions pas suffisamment, à votre goût, c'est certain et je ne suis pas là pour essayer de vous faire changer d'avis, ni d'opinion. Néanmoins, restez quand même objectif, et comparez avec ce qui se passe ailleurs. D'ailleurs, je vais m'amuser, à la fin du mandat, à faire des comparaisons avec des agglomérations de taille comparable qui sont dirigées par des gens de votre sensibilité. On verra effectivement si les bilans présentés par vos amis sont aussi flatteurs que ceux que nous pourrons nous mêmes présenter. Après, bien évidemment que l'aéroport consomme des carburants. Mais, Monsieur Beysson, chaque fois que vous mettez en marche votre micro, vous consommez de l'électricité, de l'énergie. Donc, si vous voulez en consommer moins, abstenez-vous. On en est tous là, nous utilisons tous des moyens. Effectivement, l'aviation utilise des avions, ces avions brûlent du kérosène. Néanmoins, ce que je remarque, c'est qu'aujourd'hui il y a des fabricants d'avions européens qui sont sur des productions d'aéronefs, qui eux-aussi font des efforts pour consommer moins de carburant\\x85 On ne vous dit pas que nous vivons dans un monde merveilleux mais je pense que notre pays, je dis bien notre pays, je ne parle pas de l'agglomération, n'a pas à rougir de ce qui se passe par rapport à tout le reste du monde. Si vous pensez qu'on va sauver la planète uniquement à partir de Roanne, je pense malheureusement que les jours nous sont comptés ».\\n\\n\\n\\nPage 14 sur 49\\n\\n\\n\\nFranck Beysson répond « Je trouve amusant que vous veniez me parler de sérieux quand j'essaie de regarder au niveau sémantique ce que donne le rapport de l'Agglomération et que vous venez m'attaquer sur l'histoire d'un micro qui était allumé et qu\\x92il fallait que je me taise. En ce qui concerne effectivement les comparatifs de fin de programme, je ne doute pas que vous le ferez. Nous verrons. Je n\\x92ai pas d'avis sur ce qui se fait ailleurs et si ailleurs ils font moins bien, cela ne veut pas dire que ce que nous faisons est suffisant. Cela veut dire qu\\x92ailleurs la marche est encore plus haute. La question que je me pose à travers ce rapport, et l'orientation que j'essaie de donner, c'est de dire - essayons de se donner des repères et des ordres de grandeur pour être sûr qu\\x92au regard de tout ce qui est fait, c\\x92est bien, mais est-ce qu'on agit à la hauteur des enjeux dans tous les domaines quels qu\\x92ils soient, par rapport à la situation du territoire. Voilà, et sans préjuger de ce qui se fait sur les autres territoires.\\n\\n\\n\\nM. le Président répond « Je ne veux pas faire trop de politique ici, parce que ce n'est pas mon habitude. Mais, si vous prenez le bilan, par exemple de la ville de Grenoble, où nous avons aux affaires quelqu'un qui est proche des écologistes, en tout cas dans l'affichage, et que vous regardez les bilans de la qualité de l'air, entre 2014 et 2021, ça s'est largement dégradé. Ce n\\x92est pas parce que l\\x92on s'affiche écologiste que l\\x92on est justement les meilleurs dans l'action ».\\n\\n\\n\\n# Le Conseil communautaire :\\n\\n\\n\\n- prend acte du rapport annuel 2020 relatif à l\\x92activité de Roannais Agglomération.\\n\\n\\n\\n# FINANCES\\n\\n\\n\\n# 3. Constitution et reprise de provisions - compte épargne temps (CET) - Année 2021\\n\\n\\n\\nJacques Troncy présente la constitution et reprise de provisions du compte épargne temps pour l\\x92année 2021.\\n\\n\\n\\nVu le décret n° 2010-531 du 20 mai 2010 modifiant certaines dispositions relatives au compte épargne-temps dans la fonction publique territoriale ;\\n\\n\\n\\nVu l\\x92arrêté du 28 août 2009 pris pour l'application du décret n° 2002-634 du 29 avril 2002 modifié portant création du compte épargne-temps dans la fonction publique de l'Etat et dans la magistrature ;\\n\\n\\n\\nConsidérant que le compte épargne-temps (CET) permet de conserver les jours de congés non pris sur plusieurs années, qu\\x92il est ouvert à la demande de l'agent qui est informé annuellement des droits épargnés et consommés et que les jours épargnés peuvent être, en tout ou partie, utilisés sous forme de congés ou, puisqu\\x92une délibération le prévoit, indemnisés.\\n\\n\\n\\nConsidérant que, dans le respect des principes comptables de régularité, de sincérité et d\\x92image fidèle, Roannais Agglomération doit reconnaître l\\x92engagement du CET dans son bilan et que cette dette est valorisée selon une méthode qui consiste à provisionner les jours accumulés sur le CET en les multipliant par le salaire journalier.\\n\\n\\n\\nConsidérant qu\\x92ainsi, tous les jours inscrits sur les CET sont provisionnés, que la provision correspond au nombre de jours enregistrés dans le CET valorisés et qu\\x92à chaque fin d\\x92exercice, il y a lieu d\\x92ajuster cette provision.\\n\\n\\n\\nConsidérant qu\\x92au 31 décembre 2020, une provision totale de 308 726 \\x80 tous budgets confondus a été constituée et que la valorisation des CET en 2021 s\\x92élève à 370 966 \\x80, il y a donc lieu d\\x92ajuster la provision par budget selon le tableau ci-dessous :\\n\\n\\n\\n|MONTANT PROVISION FIN D'EXERCICE 2020|REPRISE DE L'EXERCICE|DOTATION DE L'EXERCICE 2021|PROVISION FIN D'EXERCICE 2021|\\n\\n|---|---|---|---|\\n\\n|BUDGET GENERAL|285 517|72 848|358 365|\\n\\n|BUDGET ASSAINISSEMENT|9 035|9 035|0|\\n\\n|BUDGET EQUIPEMENT DE|12 486|853|11 633|\\n\\n\\n\\n# TOURISME ET LOISIRS\\n\\n\\n\\n# BUDGET\\n\\n\\n\\n|TRANSPORTS|1 688|720|968| |\\n\\n|---|---|---|---|---|\\n\\n|TOTAL|308 726|10 608|72 848|370 966|\\n\\n\\n\\nLe Conseil communautaire, après en avoir délibéré à l\\x92unanimité :\\n\\n\\n\\n- approuve la reprise de :\\n\\n- - 9 035 \\x80 sur le Budget Assainissement\\n\\n- 853 \\x80 sur le Budget Equipements de tourisme et de loisirs\\n\\n- 720 \\x80 sur le Budget le Budget Transports Publics\\n\\n\\n\\napprouve les dotations aux provisions au titre du CET comme suit :\\n\\n- - 72 848 \\x80 sur le Budget Général\\n\\n\\n\\ndit que ces sommes seront imputées en 2021 sur les chapitres 68 et 78 de chacun des budgets concernés.\\n\\n\\n\\n# 4. Création d\\x92une autorisation de programme - Budget général \\x96 « réorganisation de la collecte de déchets ménagers »\\n\\n\\n\\nJacques Troncy présente la création d\\x92une autorisation de programme pour la réorganisation de la collecte de déchets ménagers.\\n\\n\\n\\nVu l\\x92arrêté préfectoral du 30 décembre 2019 portant statuts de Roannais Agglomération ;\\n\\n\\n\\nVu le code Général des collectivités territoriales (CGCT) et notamment son article L2311-3 et R2311-9 ;\\n\\n\\n\\nVu l\\x92instruction budgétaire et comptable M14 ;\\n\\n\\n\\nConsidérant que l'instruction budgétaire et comptable M14 précise que les Autorisations de Programme correspondent à des dépenses à caractère pluriannuel se rapportant à une immobilisation ou à un ensemble d'immobilisations déterminées, acquises ou réalisées par la collectivité ou à des subventions versées à des tiers ;\\n\\n\\n\\nConsidérant que l\\x92autorisation de Programme (AP) constitue la limite supérieure des dépenses concourant à la réalisation d'un projet ou d'un ensemble de projets d'une même politique qui peuvent être engagées pour le financement des investissements ;\\n\\n\\n\\nConsidérant que les crédits de paiement (CP) constituent la limite supérieure des dépenses pouvant être mandatées durant l\\x92exercice, pour la couverture des engagements contractés dans le cadre des autorisations de programme correspondantes ;\\n\\n\\n\\nConsidérant la volonté de Roannais Agglomération de réorganiser la collecte des déchets ménagers ;\\n\\n\\n\\nJean-Yves Boire n\\x92a rien de particulier à ajouter, si ce n\\x92est le fait qu\\x92une délibération est également inscrite à cet ordre du jour pour relancer le premier gros marché relatif à l'approvisionnement en bacs. Il explique que, sur la répartition de ce budget sur l\\x92ensemble de l'année, il était effectivement important de prévoir cela sur le long terme et de le verrouiller, de façon à ce qu'une telle démarche, à partir du moment où elle est engagée, puisse aller à son terme. Il conclut que c\\x92est une précaution à prendre et qu\\x92elle est tout à fait louable.\\n\\n\\n\\nFranck Beysson profite de la présence de Jean-Yves Boire pour réitérer la question qu\\x92il avait posée lors du précédent conseil. Il aimerait savoir où en est l\\x92avancée des réflexions concernant le principe de collecte en porte à porte, avec la question d\\x92incitation ou pas. Il souhaiterait également un point sur l'avancée des réflexions autour du compostage.\\n\\n\\n\\nJean-Yves Boire confirme que les réflexions portant sur la collecte sont en cours et qu\\x92elles avancent bien. « Nous sommes tenus, à partir du 1er janvier 2024, de prévoir le tri à la source des biodéchets. Tous les paramètres ne sont pas complètement verrouillés et réglés pour l'instant parce qu'une enquête va démarrer pour un travail chirurgical, au cas par cas, où chaque ménage et chaque municipalité seront approchés. A partir de ce moment-là, on saura exactement où placer le curseur. Pour faire simple, il y a trois phases types pour travailler sur la fraction fermentescible :\\n\\n\\n\\n1. développer au maximum le compostage individuel ;\\n\\n\\n\\n# 2. Mise en place du compostage collectif\\n\\n\\n\\nMettre en place du compostage collectif, là où c'est possible et là où c\\x92est organisable, parce que c'est une technique qui nécessite d'être particulièrement vigilant et particulièrement motivé. Il y a donc un travail de communication et de suivi de ces sites ;\\n\\n\\n\\nMettre en place, sur une partie du territoire, la collecte en porte à porte de la fraction fermentescible. L\\x92issue de ces déchets fermentescibles, ce sera le compostage, c\\x92est sûr, soit individuel, soit pour la collecte sélective qui se fera dans une entreprise spécialisée, de façon à ce qu\\x92on ait un retour au sol le plus rapide possible ; ce qui n'est pas possible lorsqu'on fait un tri de la matière fermentescible depuis un centre de tri qui extrait ces matières fermentescibles des ordures ménagères, du fait d\\x92un risque de pollution. C\\x92est donc pour cela que le tri à la source va être exigé dès 2024. Normalement, nous serons en ordre de marche, dès janvier 2023. Vous dire aujourd\\x92hui le nombre de composteurs individuels, collectifs, et la part qui sera réellement collectée en porte à porte est encore un petit peu tôt. Il va falloir attendre les résultats de l'enquête, de façon à ajuster au mieux par rapport au territoire.\\n\\n\\n\\nM. le Président ajoute que la prochaine Commission Environnement aura lieu le 17 novembre 2021 et qu\\x92elle se penchera sur ces projets.\\n\\n\\n\\n# Franck Beysson s\\x92interroge\\n\\n\\n\\nFranck Beysson s\\x92interroge sur une éventuelle réflexion portant sur une plateforme de recyclage, en local, des matières pour raccourcir les distances et éviter des chaines d\\x92envoi lointaines. Jean-Yves Boire répond que pour l\\x92instant quelque chose existe. Il y a des ateliers solidaires, situés à Riorges, mais l\\x92ensemble des matériaux ne peut pas être intégré à ce type d\\x92activité car il y a une multitude de filières et ce serait très compliqué de gérer tout cela en local. Il explique que des choses se font et qu\\x92elles risquent effectivement d'évoluer dans le cadre de cette évolution de collecte. Aucune nouvelle plateforme n\\x92est prévue pour l'instant, hormis le projet du SEEDR, le Syndicat de traitement des déchets du Nord du département, où là une usine multi filières est prévue, de façon à ce que les déchets résiduels qui se trouvent dans le bac des ordures ménagères - « On sait qu'aujourd'hui on a encore 70 % de ces déchets qui ne devraient pas s'y trouver- », mais avec l'extension des consignes de tri, avec l'évolution des systèmes de collecte, cela devrait baisser. Jean-Yves Boire ajoute qu\\x92il y aura encore beaucoup à faire et que c'est bien le but de cette usine de tri que de séparer les matériaux, de façon à les mettre dans les bonnes filières et que l'on puisse en recycler un maximum. Il explique que ceux-ci seront soit recyclés, soit leur énergie sera récupérée car ils présentent l'avantage d'avoir un pouvoir calorifique inférieur (PCI) qui viendrait se substituer à l'utilisation de l'énergie fossile. C\\x92est ce que l\\x92on appelle les combustibles solides de récupération.\\n\\n\\n\\n# Conseil communautaire\\n\\n\\n\\nLe Conseil communautaire, après en avoir délibéré, avec 76 voix pour, 0 contre et 2 abstentions :\\n\\n\\n\\n- Approuve la création de l\\x92autorisation de programme 1040 intitulée « Réorganisation collecte déchets ménagers » sur le budget général pour un montant global de 9 000 000 \\x80 et la répartition prévisionnelle des crédits de paiement sur la période 2021-2025 comme suit :\\n\\n\\n\\n|Millésime|N° AP|Montant|CP 2021|CP 2022|CP 2023|CP 2024|CP 2025|\\n\\n|---|---|---|---|---|---|---|---|\\n\\n|2021|1040|9 000 000 \\x80|200 000 \\x80|5 600 000 \\x80|2 000 000 \\x80|600 000 \\x80|600 000 \\x80|\\n\\n\\n\\nIndique que les crédits de paiement (CP) de 2021 d\\x92un montant de 200 000 \\x80 seront inscrits à la prochaine Décision Modificative sur le Budget Général.\\n\\n\\n\\n# 5. Décision modificative - Exercice 2021 \\x96 Budget général \\x96 DM2\\n\\n\\n\\nJacques Troncy présente la décision modificative n° 2 du budget général pour l\\x92exercice 2021.\\n\\n\\n\\n# Les principaux éléments à retenir concernant la décision modificative n°2\\n\\n\\n\\nLa décision modificative proposée s\\x92équilibre à -68 000 \\x80 en fonctionnement et à -171 650 \\x80 en investissement.\\n\\n\\n\\nElle intègre essentiellement des ajustements de crédits et le transfert des résultats du budget assainissement 2013 de la commune du Crozet à Roannais Agglomération ainsi que des résultats de l\\x92exercice 2019 suite au transfert de la compétence eau de la commune des Noës à Roannais Agglomération qui seront reversés à la Roannaise de l\\x92eau. Ces transferts font l\\x92objet d\\x92un échelonnement sur 3 ans pour Le Crozet et de 10 ans pour Les Noës.\\n\\n\\n\\n# I \\x96 Fonctionnement\\n\\n\\n\\n# Dépenses :\\n\\n\\n\\nCharges à caractère général : 66 460 \\x80\\n\\n\\n\\nAugmentation tonnage marché collecte et transport des déchets ménagers (75 k\\x80), mise à jour ELISE : abonnement et hébergement (40 k\\x80), location copieurs (35 k\\x80), complément études solaires (24 k\\x80), ajustement de l\\x92entretien des véhicules (15 k\\x80), remise en place de bouches de ventilation dans amphithéâtre du CPMF (11,4 k\\x80), marquage routier RD 300 (11 k\\x80), CIRIL Finances : passage M57 (7,5 k\\x80), réparation de l\\x92arbre à vent (3 k\\x80), honoraires étude ABSS (-50 k\\x80), consommation eau et énergie Nauticum (-25 k\\x80) et piscine le Coteau (-20 k\\x80), annulation spectacles.\\n\\n\\n\\n# Page 18 sur 49\\n\\n\\n\\n# Conservatoire\\n\\n\\n\\n(-15 k\\x80), suppression de l\\x92ajout de sable sur la plage (-13 k\\x80), ajustement étude de veille foncière ZI Le Coteau (-11,06 k\\x80), report en 2022 de la dématérialisation des fiches de paie (-10 k\\x80) et ajustements divers (-11,38 k\\x80).\\n\\n\\n\\n# Atténuations de produits : 122 841 \\x80\\n\\n\\n\\nAjustement des attributions de compensation suite au transfert du CR4C à la Ville de Roanne (77,5 k\\x80) et ajustement FPIC (45,341 k\\x80).\\n\\n\\n\\n# Charges de gestion courante : -476 940 \\x80\\n\\n\\n\\nAjustement de la contribution au titre des eaux pluviales pour l\\x92opération Foch Sully (-400 k\\x80), des contributions au SEEDR pour le traitement des ordures ménagères (-189,84 k\\x80), des participations du budget général aux budgets annexes (48,5 k\\x80), de subventions diverses (19,4 k\\x80), des créances admises en non-valeur (-12 k\\x80) et changement de nature comptable (et de chapitre) à la demande de la trésorerie (57 k\\x80).\\n\\n\\n\\n# Charges exceptionnelles : 54 139 \\x80\\n\\n\\n\\nDépenses liées au fonctionnement du Centre de vaccination au Fuyant pour la période du 1er septembre au 31 décembre 2021 (80 k\\x80), changement de nature comptable (et de chapitre) à la demande de la trésorerie (-57 k\\x80), ajustement des dépenses liées au COVID (-9,78 k\\x80), remboursement des abonnements et cours au Nauticum (8 k\\x80), reversement du résultat de la commune Les Noës à la Roannaise de l\\x92Eau (2,8 k\\x80) et de divers dépenses exceptionnelles (30,119 k\\x80).\\n\\n\\n\\n# Dotations aux amortissements et aux provisions : 47 000 \\x80\\n\\n\\n\\nAjustement provision pour dépréciation des actifs circulants (-26 k\\x80) et provision pour Compte Epargne Temps (73 k\\x80).\\n\\n\\n\\n# Virement à la section d\\x92investissement : 118 500 \\x80\\n\\n\\n\\n(autofinancement complémentaire)\\n\\n\\n\\n# Recettes :\\n\\n\\n\\n# Produits des services : -257 140 \\x80\\n\\n\\n\\nIl s\\x92agit principalement de la diminution des recettes du Nauticum en raison du COVID et de la mauvaise météo de cet été (-300 k\\x80) et des billetteries Pleine nature (-42,14 k\\x80) et culturelles (-41,47 k\\x80), d\\x92un complément pour les revenus des coupes de bois (59,07 k\\x80) et à l\\x92ajustement de refacturations (67,4 k\\x80).\\n\\n\\n\\n# Impôts et taxes : 3 600 \\x80\\n\\n\\n\\nAjustement du reversement des taxes foncières par la commune de Mably sur les bâtiments situés dans la ZAC de Mably.\\n\\n\\n\\n# Subventions - Dotations : -45 060 \\x80\\n\\n\\n\\nAjustement \""
            ]
          },
          "execution_count": 52,
          "metadata": {},
          "output_type": "execute_result"
        }
      ],
      "source": [
        "markdown_example"
      ]
    },
    {
      "cell_type": "code",
      "execution_count": 56,
      "metadata": {
        "id": "SY1J4np6TKvP"
      },
      "outputs": [],
      "source": [
        "# when downloading pdfs, important to use the datapolitics endpoint\n",
        "link_pdf = \"https://datapolitics-public.s3.gra.io.cloud.ovh.net/LORIA/2289/2e442_PV_CC_2021_10_28.pdf\""
      ]
    },
    {
      "cell_type": "code",
      "execution_count": 57,
      "metadata": {
        "colab": {
          "base_uri": "https://localhost:8080/"
        },
        "id": "dXZCWkndcy_t",
        "outputId": "e6c510c0-24bc-4225-a845-d308861437be"
      },
      "outputs": [
        {
          "data": {
            "text/plain": [
              "200"
            ]
          },
          "execution_count": 57,
          "metadata": {},
          "output_type": "execute_result"
        }
      ],
      "source": [
        "import requests\n",
        "\n",
        "response = requests.get(link_pdf)\n",
        "response.status_code"
      ]
    },
    {
      "cell_type": "code",
      "execution_count": 58,
      "metadata": {
        "id": "sE3I0sfac5MW"
      },
      "outputs": [],
      "source": [
        "with open('example.pdf', 'wb') as file:\n",
        "        file.write(response.content)\n"
      ]
    },
    {
      "cell_type": "code",
      "execution_count": 63,
      "metadata": {
        "id": "l9GZqsEHcpWI"
      },
      "outputs": [],
      "source": [
        "from img2table.document import PDF\n",
        "\n",
        "pdf = PDF('example.pdf',\n",
        "          pages= [0,1],\n",
        "          detect_rotation=False,\n",
        "          pdf_text_extraction=True)"
      ]
    },
    {
      "cell_type": "code",
      "execution_count": 67,
      "metadata": {
        "id": "9IJtowthdyfO"
      },
      "outputs": [],
      "source": [
        "extracted_tables = pdf.extract_tables()"
      ]
    },
    {
      "cell_type": "code",
      "execution_count": 74,
      "metadata": {
        "colab": {
          "base_uri": "https://localhost:8080/"
        },
        "id": "kQyKlq-kd97X",
        "outputId": "28a6a05c-f3ce-45c1-bf70-0662811d1f36"
      },
      "outputs": [
        {
          "name": "stdout",
          "output_type": "stream",
          "text": [
            "<table>\n",
            " <tr>\n",
            "  <td colspan=\"1\" rowspan=\"1\">\n",
            "   Absents\n",
            "  </td>\n",
            "  <td colspan=\"1\" rowspan=\"1\">\n",
            "   Ni pouvoir\n",
            "   <br/>\n",
            "   Ni suppléant\n",
            "  </td>\n",
            "  <td colspan=\"1\" rowspan=\"1\">\n",
            "   Suppléant\n",
            "  </td>\n",
            "  <td colspan=\"1\" rowspan=\"1\">\n",
            "   Pouvoir donné à…\n",
            "  </td>\n",
            " </tr>\n",
            " <tr>\n",
            "  <td colspan=\"1\" rowspan=\"1\">\n",
            "   Jean-Marc Ambroise\n",
            "  </td>\n",
            "  <td colspan=\"1\" rowspan=\"1\">\n",
            "   X\n",
            "  </td>\n",
            "  <td colspan=\"1\" rowspan=\"1\">\n",
            "  </td>\n",
            "  <td colspan=\"1\" rowspan=\"1\">\n",
            "  </td>\n",
            " </tr>\n",
            " <tr>\n",
            "  <td colspan=\"1\" rowspan=\"1\">\n",
            "   Laurence Boyer\n",
            "  </td>\n",
            "  <td colspan=\"1\" rowspan=\"1\">\n",
            "  </td>\n",
            "  <td colspan=\"1\" rowspan=\"1\">\n",
            "   Yves Meunier\n",
            "  </td>\n",
            "  <td colspan=\"1\" rowspan=\"1\">\n",
            "  </td>\n",
            " </tr>\n",
            " <tr>\n",
            "  <td colspan=\"1\" rowspan=\"1\">\n",
            "   Marie-France Catheland\n",
            "  </td>\n",
            "  <td colspan=\"1\" rowspan=\"1\">\n",
            "  </td>\n",
            "  <td colspan=\"1\" rowspan=\"1\">\n",
            "  </td>\n",
            "  <td colspan=\"1\" rowspan=\"1\">\n",
            "   Muriel Marcellin\n",
            "  </td>\n",
            " </tr>\n",
            " <tr>\n",
            "  <td colspan=\"1\" rowspan=\"1\">\n",
            "   Yves Chambost\n",
            "  </td>\n",
            "  <td colspan=\"1\" rowspan=\"1\">\n",
            "  </td>\n",
            "  <td colspan=\"1\" rowspan=\"1\">\n",
            "  </td>\n",
            "  <td colspan=\"1\" rowspan=\"1\">\n",
            "   Clotilde Robin\n",
            "  </td>\n",
            " </tr>\n",
            " <tr>\n",
            "  <td colspan=\"1\" rowspan=\"1\">\n",
            "   Aimé Combaret\n",
            "  </td>\n",
            "  <td colspan=\"1\" rowspan=\"1\">\n",
            "   X\n",
            "  </td>\n",
            "  <td colspan=\"1\" rowspan=\"1\">\n",
            "  </td>\n",
            "  <td colspan=\"1\" rowspan=\"1\">\n",
            "  </td>\n",
            " </tr>\n",
            " <tr>\n",
            "  <td colspan=\"1\" rowspan=\"1\">\n",
            "   Marie-Laure Dana Burnichon\n",
            "  </td>\n",
            "  <td colspan=\"1\" rowspan=\"1\">\n",
            "  </td>\n",
            "  <td colspan=\"1\" rowspan=\"1\">\n",
            "  </td>\n",
            "  <td colspan=\"1\" rowspan=\"1\">\n",
            "   Edmond Bourgeon\n",
            "  </td>\n",
            " </tr>\n",
            " <tr>\n",
            "  <td colspan=\"1\" rowspan=\"1\">\n",
            "   -\n",
            "   <br/>\n",
            "   Jean-Marc Detour\n",
            "  </td>\n",
            "  <td colspan=\"1\" rowspan=\"1\">\n",
            "  </td>\n",
            "  <td colspan=\"1\" rowspan=\"1\">\n",
            "  </td>\n",
            "  <td colspan=\"1\" rowspan=\"1\">\n",
            "   Catherine Brun\n",
            "  </td>\n",
            " </tr>\n",
            " <tr>\n",
            "  <td colspan=\"1\" rowspan=\"1\">\n",
            "   Daniel Fréchet\n",
            "  </td>\n",
            "  <td colspan=\"1\" rowspan=\"1\">\n",
            "  </td>\n",
            "  <td colspan=\"1\" rowspan=\"1\">\n",
            "  </td>\n",
            "  <td colspan=\"1\" rowspan=\"1\">\n",
            "   Lucien Murzi\n",
            "  </td>\n",
            " </tr>\n",
            " <tr>\n",
            "  <td colspan=\"1\" rowspan=\"1\">\n",
            "   Quentin Guillermin\n",
            "  </td>\n",
            "  <td colspan=\"1\" rowspan=\"1\">\n",
            "   X\n",
            "  </td>\n",
            "  <td colspan=\"1\" rowspan=\"1\">\n",
            "  </td>\n",
            "  <td colspan=\"1\" rowspan=\"1\">\n",
            "  </td>\n",
            " </tr>\n",
            " <tr>\n",
            "  <td colspan=\"1\" rowspan=\"1\">\n",
            "   Jean-Paul Heyberger\n",
            "  </td>\n",
            "  <td colspan=\"1\" rowspan=\"1\">\n",
            "  </td>\n",
            "  <td colspan=\"1\" rowspan=\"1\">\n",
            "  </td>\n",
            "  <td colspan=\"1\" rowspan=\"1\">\n",
            "   Christelle Lattat\n",
            "  </td>\n",
            " </tr>\n",
            " <tr>\n",
            "  <td colspan=\"1\" rowspan=\"1\">\n",
            "   Franck Maupetit\n",
            "  </td>\n",
            "  <td colspan=\"1\" rowspan=\"1\">\n",
            "  </td>\n",
            "  <td colspan=\"1\" rowspan=\"1\">\n",
            "  </td>\n",
            "  <td colspan=\"1\" rowspan=\"1\">\n",
            "   Annie Gerenton\n",
            "  </td>\n",
            " </tr>\n",
            " <tr>\n",
            "  <td colspan=\"1\" rowspan=\"1\">\n",
            "   Patrick Meunier\n",
            "  </td>\n",
            "  <td colspan=\"1\" rowspan=\"1\">\n",
            "   X\n",
            "  </td>\n",
            "  <td colspan=\"1\" rowspan=\"1\">\n",
            "  </td>\n",
            "  <td colspan=\"1\" rowspan=\"1\">\n",
            "  </td>\n",
            " </tr>\n",
            " <tr>\n",
            "  <td colspan=\"1\" rowspan=\"1\">\n",
            "   Nabih Nejjar\n",
            "   <br/>\n",
            "   (arrivé en cours de séance)\n",
            "  </td>\n",
            "  <td colspan=\"1\" rowspan=\"1\">\n",
            "   X\n",
            "  </td>\n",
            "  <td colspan=\"1\" rowspan=\"1\">\n",
            "  </td>\n",
            "  <td colspan=\"1\" rowspan=\"1\">\n",
            "  </td>\n",
            " </tr>\n",
            " <tr>\n",
            "  <td colspan=\"1\" rowspan=\"1\">\n",
            "   Gilles Passot\n",
            "   <br/>\n",
            "   (arrivé en cours de séance)\n",
            "  </td>\n",
            "  <td colspan=\"1\" rowspan=\"1\">\n",
            "  </td>\n",
            "  <td colspan=\"1\" rowspan=\"1\">\n",
            "  </td>\n",
            "  <td colspan=\"1\" rowspan=\"1\">\n",
            "   Fabien Lambert\n",
            "  </td>\n",
            " </tr>\n",
            " <tr>\n",
            "  <td colspan=\"1\" rowspan=\"1\">\n",
            "   Marcel Peuillon\n",
            "  </td>\n",
            "  <td colspan=\"1\" rowspan=\"1\">\n",
            "   X\n",
            "  </td>\n",
            "  <td colspan=\"1\" rowspan=\"1\">\n",
            "  </td>\n",
            "  <td colspan=\"1\" rowspan=\"1\">\n",
            "  </td>\n",
            " </tr>\n",
            " <tr>\n",
            "  <td colspan=\"1\" rowspan=\"1\">\n",
            "   Didier Prunet\n",
            "  </td>\n",
            "  <td colspan=\"1\" rowspan=\"1\">\n",
            "  </td>\n",
            "  <td colspan=\"1\" rowspan=\"1\">\n",
            "  </td>\n",
            "  <td colspan=\"1\" rowspan=\"1\">\n",
            "   Christian Dupuis\n",
            "  </td>\n",
            " </tr>\n",
            " <tr>\n",
            "  <td colspan=\"1\" rowspan=\"1\">\n",
            "   Vickie Redeuilh\n",
            "  </td>\n",
            "  <td colspan=\"1\" rowspan=\"1\">\n",
            "  </td>\n",
            "  <td colspan=\"1\" rowspan=\"1\">\n",
            "  </td>\n",
            "  <td colspan=\"1\" rowspan=\"1\">\n",
            "   Hélène Lapalus\n",
            "  </td>\n",
            " </tr>\n",
            " <tr>\n",
            "  <td colspan=\"1\" rowspan=\"1\">\n",
            "   Marie-Hélène Riamon\n",
            "  </td>\n",
            "  <td colspan=\"1\" rowspan=\"1\">\n",
            "  </td>\n",
            "  <td colspan=\"1\" rowspan=\"1\">\n",
            "  </td>\n",
            "  <td colspan=\"1\" rowspan=\"1\">\n",
            "   Denis Vanhecke\n",
            "  </td>\n",
            " </tr>\n",
            " <tr>\n",
            "  <td colspan=\"1\" rowspan=\"1\">\n",
            "   Corinne Troncy\n",
            "  </td>\n",
            "  <td colspan=\"1\" rowspan=\"1\">\n",
            "  </td>\n",
            "  <td colspan=\"1\" rowspan=\"1\">\n",
            "  </td>\n",
            "  <td colspan=\"1\" rowspan=\"1\">\n",
            "   Maryvonne Loughraieb\n",
            "  </td>\n",
            " </tr>\n",
            " <tr>\n",
            "  <td colspan=\"1\" rowspan=\"1\">\n",
            "   Isabelle Valcourt\n",
            "  </td>\n",
            "  <td colspan=\"1\" rowspan=\"1\">\n",
            "  </td>\n",
            "  <td colspan=\"1\" rowspan=\"1\">\n",
            "  </td>\n",
            "  <td colspan=\"1\" rowspan=\"1\">\n",
            "   Jean-Luc Mardeuil\n",
            "  </td>\n",
            " </tr>\n",
            "</table>\n"
          ]
        }
      ],
      "source": [
        "print(extracted_tables[1][0].html)"
      ]
    },
    {
      "cell_type": "markdown",
      "metadata": {
        "id": "MQcdKxb0eZzd"
      },
      "source": [
        "Works well and can output HTML but it is VERY slow."
      ]
    },
    {
      "cell_type": "markdown",
      "metadata": {
        "id": "VPXjiKZ5eqSq"
      },
      "source": [
        "### Workflow with ColPali and Byaldi.\n",
        "\n",
        "Bare in mind ColPali only does image retrieval, it does not have chat support."
      ]
    },
    {
      "cell_type": "code",
      "execution_count": 3,
      "metadata": {
        "colab": {
          "base_uri": "https://localhost:8080/"
        },
        "id": "Eq3ZjcMeo5UT",
        "outputId": "0f6f99d1-e9a5-486b-943e-99df28851833"
      },
      "outputs": [
        {
          "name": "stdout",
          "output_type": "stream",
          "text": [
            "Reading package lists... Done\n",
            "Building dependency tree... Done\n",
            "Reading state information... Done\n",
            "The following NEW packages will be installed:\n",
            "  poppler-utils\n",
            "0 upgraded, 1 newly installed, 0 to remove and 20 not upgraded.\n",
            "Need to get 186 kB of archives.\n",
            "After this operation, 696 kB of additional disk space will be used.\n",
            "Get:1 http://archive.ubuntu.com/ubuntu jammy-updates/main amd64 poppler-utils amd64 22.02.0-2ubuntu0.6 [186 kB]\n",
            "Fetched 186 kB in 1s (354 kB/s)\n",
            "Selecting previously unselected package poppler-utils.\n",
            "(Reading database ... 124926 files and directories currently installed.)\n",
            "Preparing to unpack .../poppler-utils_22.02.0-2ubuntu0.6_amd64.deb ...\n",
            "Unpacking poppler-utils (22.02.0-2ubuntu0.6) ...\n",
            "Setting up poppler-utils (22.02.0-2ubuntu0.6) ...\n",
            "Processing triggers for man-db (2.10.2-1) ...\n"
          ]
        }
      ],
      "source": [
        "!apt-get install poppler-utils\n"
      ]
    },
    {
      "cell_type": "code",
      "execution_count": 1,
      "metadata": {
        "colab": {
          "base_uri": "https://localhost:8080/",
          "height": 260,
          "referenced_widgets": [
            "d36300b17cac4d019445474448566c41",
            "46637b65bd2c445991a80940fd64a78d",
            "0c2abb80145246008f4791e6327e68e5",
            "8a12304db3ad4912b18d672787f605c1",
            "c145433d741c4915a079149e36c497c2",
            "117573ff584249aeaaa28075a7949597",
            "6fc67dd7cf3140b686930cdb37e58da8",
            "b52a6501e6004ce2b33848f2bb3e81bf",
            "77576c20530149889f14f370d27c865f",
            "1955da0dc291443fb7e4f2b06da3e14d",
            "88df4a5a45364049bd5132cb486d8070"
          ]
        },
        "id": "1EmTMJ1Vmwti",
        "outputId": "5a16cefa-ba4a-4c70-af65-01c95b57546a"
      },
      "outputs": [
        {
          "name": "stdout",
          "output_type": "stream",
          "text": [
            "Verbosity is set to 1 (active). Pass verbose=0 to make quieter.\n"
          ]
        },
        {
          "name": "stderr",
          "output_type": "stream",
          "text": [
            "/usr/local/lib/python3.11/dist-packages/huggingface_hub/utils/_auth.py:94: UserWarning: \n",
            "The secret `HF_TOKEN` does not exist in your Colab secrets.\n",
            "To authenticate with the Hugging Face Hub, create a token in your settings tab (https://huggingface.co/settings/tokens), set it as secret in your Google Colab and restart your session.\n",
            "You will be able to reuse this secret in all of your notebooks.\n",
            "Please note that authentication is recommended but still optional to access public models or datasets.\n",
            "  warnings.warn(\n",
            "`config.hidden_act` is ignored, you should use `config.hidden_activation` instead.\n",
            "Gemma's activation function will be set to `gelu_pytorch_tanh`. Please, use\n",
            "`config.hidden_activation` if you want to override this behaviour.\n",
            "See https://github.com/huggingface/transformers/pull/29402 for more details.\n"
          ]
        },
        {
          "data": {
            "application/vnd.jupyter.widget-view+json": {
              "model_id": "d36300b17cac4d019445474448566c41",
              "version_major": 2,
              "version_minor": 0
            },
            "text/plain": [
              "Loading checkpoint shards:   0%|          | 0/2 [00:00<?, ?it/s]"
            ]
          },
          "metadata": {},
          "output_type": "display_data"
        }
      ],
      "source": [
        "from byaldi import RAGMultiModalModel\n",
        "\n",
        "# Initialize the model\n",
        "model = RAGMultiModalModel.from_pretrained(\"vidore/colpali\")"
      ]
    },
    {
      "cell_type": "code",
      "execution_count": 4,
      "metadata": {
        "colab": {
          "base_uri": "https://localhost:8080/"
        },
        "id": "0cxiQU1Rg-He",
        "outputId": "35257c18-f57e-4832-b92e-9d48f9aec449"
      },
      "outputs": [
        {
          "name": "stdout",
          "output_type": "stream",
          "text": [
            "Indexing file: /content/pdfs/example.pdf\n"
          ]
        },
        {
          "name": "stderr",
          "output_type": "stream",
          "text": [
            "You are passing both `text` and `images` to `PaliGemmaProcessor`. The processor expects special image tokens in the text, as many tokens as there are images per each text. It is recommended to add `<image>` tokens in the very beginning of your text. For this call, we will infer how many images each text has and add special tokens.\n",
            "You are passing both `text` and `images` to `PaliGemmaProcessor`. The processor expects special image tokens in the text, as many tokens as there are images per each text. It is recommended to add `<image>` tokens in the very beginning of your text. For this call, we will infer how many images each text has and add special tokens.\n"
          ]
        },
        {
          "name": "stdout",
          "output_type": "stream",
          "text": [
            "Added page 1 of document 0 to index.\n"
          ]
        },
        {
          "name": "stderr",
          "output_type": "stream",
          "text": [
            "You are passing both `text` and `images` to `PaliGemmaProcessor`. The processor expects special image tokens in the text, as many tokens as there are images per each text. It is recommended to add `<image>` tokens in the very beginning of your text. For this call, we will infer how many images each text has and add special tokens.\n"
          ]
        },
        {
          "name": "stdout",
          "output_type": "stream",
          "text": [
            "Added page 2 of document 0 to index.\n"
          ]
        },
        {
          "name": "stderr",
          "output_type": "stream",
          "text": [
            "You are passing both `text` and `images` to `PaliGemmaProcessor`. The processor expects special image tokens in the text, as many tokens as there are images per each text. It is recommended to add `<image>` tokens in the very beginning of your text. For this call, we will infer how many images each text has and add special tokens.\n"
          ]
        },
        {
          "name": "stdout",
          "output_type": "stream",
          "text": [
            "Added page 3 of document 0 to index.\n"
          ]
        },
        {
          "name": "stderr",
          "output_type": "stream",
          "text": [
            "You are passing both `text` and `images` to `PaliGemmaProcessor`. The processor expects special image tokens in the text, as many tokens as there are images per each text. It is recommended to add `<image>` tokens in the very beginning of your text. For this call, we will infer how many images each text has and add special tokens.\n"
          ]
        },
        {
          "name": "stdout",
          "output_type": "stream",
          "text": [
            "Added page 4 of document 0 to index.\n"
          ]
        },
        {
          "name": "stderr",
          "output_type": "stream",
          "text": [
            "You are passing both `text` and `images` to `PaliGemmaProcessor`. The processor expects special image tokens in the text, as many tokens as there are images per each text. It is recommended to add `<image>` tokens in the very beginning of your text. For this call, we will infer how many images each text has and add special tokens.\n"
          ]
        },
        {
          "name": "stdout",
          "output_type": "stream",
          "text": [
            "Added page 5 of document 0 to index.\n"
          ]
        },
        {
          "name": "stderr",
          "output_type": "stream",
          "text": [
            "You are passing both `text` and `images` to `PaliGemmaProcessor`. The processor expects special image tokens in the text, as many tokens as there are images per each text. It is recommended to add `<image>` tokens in the very beginning of your text. For this call, we will infer how many images each text has and add special tokens.\n"
          ]
        },
        {
          "name": "stdout",
          "output_type": "stream",
          "text": [
            "Added page 6 of document 0 to index.\n"
          ]
        },
        {
          "name": "stderr",
          "output_type": "stream",
          "text": [
            "You are passing both `text` and `images` to `PaliGemmaProcessor`. The processor expects special image tokens in the text, as many tokens as there are images per each text. It is recommended to add `<image>` tokens in the very beginning of your text. For this call, we will infer how many images each text has and add special tokens.\n"
          ]
        },
        {
          "name": "stdout",
          "output_type": "stream",
          "text": [
            "Added page 7 of document 0 to index.\n"
          ]
        },
        {
          "name": "stderr",
          "output_type": "stream",
          "text": [
            "You are passing both `text` and `images` to `PaliGemmaProcessor`. The processor expects special image tokens in the text, as many tokens as there are images per each text. It is recommended to add `<image>` tokens in the very beginning of your text. For this call, we will infer how many images each text has and add special tokens.\n"
          ]
        },
        {
          "name": "stdout",
          "output_type": "stream",
          "text": [
            "Added page 8 of document 0 to index.\n"
          ]
        },
        {
          "name": "stderr",
          "output_type": "stream",
          "text": [
            "You are passing both `text` and `images` to `PaliGemmaProcessor`. The processor expects special image tokens in the text, as many tokens as there are images per each text. It is recommended to add `<image>` tokens in the very beginning of your text. For this call, we will infer how many images each text has and add special tokens.\n"
          ]
        },
        {
          "name": "stdout",
          "output_type": "stream",
          "text": [
            "Added page 9 of document 0 to index.\n"
          ]
        },
        {
          "name": "stderr",
          "output_type": "stream",
          "text": [
            "You are passing both `text` and `images` to `PaliGemmaProcessor`. The processor expects special image tokens in the text, as many tokens as there are images per each text. It is recommended to add `<image>` tokens in the very beginning of your text. For this call, we will infer how many images each text has and add special tokens.\n"
          ]
        },
        {
          "name": "stdout",
          "output_type": "stream",
          "text": [
            "Added page 10 of document 0 to index.\n"
          ]
        },
        {
          "name": "stderr",
          "output_type": "stream",
          "text": [
            "You are passing both `text` and `images` to `PaliGemmaProcessor`. The processor expects special image tokens in the text, as many tokens as there are images per each text. It is recommended to add `<image>` tokens in the very beginning of your text. For this call, we will infer how many images each text has and add special tokens.\n"
          ]
        },
        {
          "name": "stdout",
          "output_type": "stream",
          "text": [
            "Added page 11 of document 0 to index.\n"
          ]
        },
        {
          "name": "stderr",
          "output_type": "stream",
          "text": [
            "You are passing both `text` and `images` to `PaliGemmaProcessor`. The processor expects special image tokens in the text, as many tokens as there are images per each text. It is recommended to add `<image>` tokens in the very beginning of your text. For this call, we will infer how many images each text has and add special tokens.\n"
          ]
        },
        {
          "name": "stdout",
          "output_type": "stream",
          "text": [
            "Added page 12 of document 0 to index.\n"
          ]
        },
        {
          "name": "stderr",
          "output_type": "stream",
          "text": [
            "You are passing both `text` and `images` to `PaliGemmaProcessor`. The processor expects special image tokens in the text, as many tokens as there are images per each text. It is recommended to add `<image>` tokens in the very beginning of your text. For this call, we will infer how many images each text has and add special tokens.\n"
          ]
        },
        {
          "name": "stdout",
          "output_type": "stream",
          "text": [
            "Added page 13 of document 0 to index.\n"
          ]
        },
        {
          "name": "stderr",
          "output_type": "stream",
          "text": [
            "You are passing both `text` and `images` to `PaliGemmaProcessor`. The processor expects special image tokens in the text, as many tokens as there are images per each text. It is recommended to add `<image>` tokens in the very beginning of your text. For this call, we will infer how many images each text has and add special tokens.\n"
          ]
        },
        {
          "name": "stdout",
          "output_type": "stream",
          "text": [
            "Added page 14 of document 0 to index.\n"
          ]
        },
        {
          "name": "stderr",
          "output_type": "stream",
          "text": [
            "You are passing both `text` and `images` to `PaliGemmaProcessor`. The processor expects special image tokens in the text, as many tokens as there are images per each text. It is recommended to add `<image>` tokens in the very beginning of your text. For this call, we will infer how many images each text has and add special tokens.\n"
          ]
        },
        {
          "name": "stdout",
          "output_type": "stream",
          "text": [
            "Added page 15 of document 0 to index.\n"
          ]
        },
        {
          "name": "stderr",
          "output_type": "stream",
          "text": [
            "You are passing both `text` and `images` to `PaliGemmaProcessor`. The processor expects special image tokens in the text, as many tokens as there are images per each text. It is recommended to add `<image>` tokens in the very beginning of your text. For this call, we will infer how many images each text has and add special tokens.\n"
          ]
        },
        {
          "name": "stdout",
          "output_type": "stream",
          "text": [
            "Added page 16 of document 0 to index.\n"
          ]
        },
        {
          "name": "stderr",
          "output_type": "stream",
          "text": [
            "You are passing both `text` and `images` to `PaliGemmaProcessor`. The processor expects special image tokens in the text, as many tokens as there are images per each text. It is recommended to add `<image>` tokens in the very beginning of your text. For this call, we will infer how many images each text has and add special tokens.\n"
          ]
        },
        {
          "name": "stdout",
          "output_type": "stream",
          "text": [
            "Added page 17 of document 0 to index.\n"
          ]
        },
        {
          "name": "stderr",
          "output_type": "stream",
          "text": [
            "You are passing both `text` and `images` to `PaliGemmaProcessor`. The processor expects special image tokens in the text, as many tokens as there are images per each text. It is recommended to add `<image>` tokens in the very beginning of your text. For this call, we will infer how many images each text has and add special tokens.\n"
          ]
        },
        {
          "name": "stdout",
          "output_type": "stream",
          "text": [
            "Added page 18 of document 0 to index.\n"
          ]
        },
        {
          "name": "stderr",
          "output_type": "stream",
          "text": [
            "You are passing both `text` and `images` to `PaliGemmaProcessor`. The processor expects special image tokens in the text, as many tokens as there are images per each text. It is recommended to add `<image>` tokens in the very beginning of your text. For this call, we will infer how many images each text has and add special tokens.\n"
          ]
        },
        {
          "name": "stdout",
          "output_type": "stream",
          "text": [
            "Added page 19 of document 0 to index.\n"
          ]
        },
        {
          "name": "stderr",
          "output_type": "stream",
          "text": [
            "You are passing both `text` and `images` to `PaliGemmaProcessor`. The processor expects special image tokens in the text, as many tokens as there are images per each text. It is recommended to add `<image>` tokens in the very beginning of your text. For this call, we will infer how many images each text has and add special tokens.\n"
          ]
        },
        {
          "name": "stdout",
          "output_type": "stream",
          "text": [
            "Added page 20 of document 0 to index.\n"
          ]
        },
        {
          "name": "stderr",
          "output_type": "stream",
          "text": [
            "You are passing both `text` and `images` to `PaliGemmaProcessor`. The processor expects special image tokens in the text, as many tokens as there are images per each text. It is recommended to add `<image>` tokens in the very beginning of your text. For this call, we will infer how many images each text has and add special tokens.\n"
          ]
        },
        {
          "name": "stdout",
          "output_type": "stream",
          "text": [
            "Added page 21 of document 0 to index.\n"
          ]
        },
        {
          "name": "stderr",
          "output_type": "stream",
          "text": [
            "You are passing both `text` and `images` to `PaliGemmaProcessor`. The processor expects special image tokens in the text, as many tokens as there are images per each text. It is recommended to add `<image>` tokens in the very beginning of your text. For this call, we will infer how many images each text has and add special tokens.\n"
          ]
        },
        {
          "name": "stdout",
          "output_type": "stream",
          "text": [
            "Added page 22 of document 0 to index.\n"
          ]
        },
        {
          "name": "stderr",
          "output_type": "stream",
          "text": [
            "You are passing both `text` and `images` to `PaliGemmaProcessor`. The processor expects special image tokens in the text, as many tokens as there are images per each text. It is recommended to add `<image>` tokens in the very beginning of your text. For this call, we will infer how many images each text has and add special tokens.\n"
          ]
        },
        {
          "name": "stdout",
          "output_type": "stream",
          "text": [
            "Added page 23 of document 0 to index.\n"
          ]
        },
        {
          "name": "stderr",
          "output_type": "stream",
          "text": [
            "You are passing both `text` and `images` to `PaliGemmaProcessor`. The processor expects special image tokens in the text, as many tokens as there are images per each text. It is recommended to add `<image>` tokens in the very beginning of your text. For this call, we will infer how many images each text has and add special tokens.\n"
          ]
        },
        {
          "name": "stdout",
          "output_type": "stream",
          "text": [
            "Added page 24 of document 0 to index.\n"
          ]
        },
        {
          "name": "stderr",
          "output_type": "stream",
          "text": [
            "You are passing both `text` and `images` to `PaliGemmaProcessor`. The processor expects special image tokens in the text, as many tokens as there are images per each text. It is recommended to add `<image>` tokens in the very beginning of your text. For this call, we will infer how many images each text has and add special tokens.\n"
          ]
        },
        {
          "name": "stdout",
          "output_type": "stream",
          "text": [
            "Added page 25 of document 0 to index.\n"
          ]
        },
        {
          "name": "stderr",
          "output_type": "stream",
          "text": [
            "You are passing both `text` and `images` to `PaliGemmaProcessor`. The processor expects special image tokens in the text, as many tokens as there are images per each text. It is recommended to add `<image>` tokens in the very beginning of your text. For this call, we will infer how many images each text has and add special tokens.\n"
          ]
        },
        {
          "name": "stdout",
          "output_type": "stream",
          "text": [
            "Added page 26 of document 0 to index.\n"
          ]
        },
        {
          "name": "stderr",
          "output_type": "stream",
          "text": [
            "You are passing both `text` and `images` to `PaliGemmaProcessor`. The processor expects special image tokens in the text, as many tokens as there are images per each text. It is recommended to add `<image>` tokens in the very beginning of your text. For this call, we will infer how many images each text has and add special tokens.\n"
          ]
        },
        {
          "name": "stdout",
          "output_type": "stream",
          "text": [
            "Added page 27 of document 0 to index.\n"
          ]
        },
        {
          "name": "stderr",
          "output_type": "stream",
          "text": [
            "You are passing both `text` and `images` to `PaliGemmaProcessor`. The processor expects special image tokens in the text, as many tokens as there are images per each text. It is recommended to add `<image>` tokens in the very beginning of your text. For this call, we will infer how many images each text has and add special tokens.\n"
          ]
        },
        {
          "name": "stdout",
          "output_type": "stream",
          "text": [
            "Added page 28 of document 0 to index.\n"
          ]
        },
        {
          "name": "stderr",
          "output_type": "stream",
          "text": [
            "You are passing both `text` and `images` to `PaliGemmaProcessor`. The processor expects special image tokens in the text, as many tokens as there are images per each text. It is recommended to add `<image>` tokens in the very beginning of your text. For this call, we will infer how many images each text has and add special tokens.\n"
          ]
        },
        {
          "name": "stdout",
          "output_type": "stream",
          "text": [
            "Added page 29 of document 0 to index.\n"
          ]
        },
        {
          "name": "stderr",
          "output_type": "stream",
          "text": [
            "You are passing both `text` and `images` to `PaliGemmaProcessor`. The processor expects special image tokens in the text, as many tokens as there are images per each text. It is recommended to add `<image>` tokens in the very beginning of your text. For this call, we will infer how many images each text has and add special tokens.\n"
          ]
        },
        {
          "name": "stdout",
          "output_type": "stream",
          "text": [
            "Added page 30 of document 0 to index.\n"
          ]
        },
        {
          "name": "stderr",
          "output_type": "stream",
          "text": [
            "You are passing both `text` and `images` to `PaliGemmaProcessor`. The processor expects special image tokens in the text, as many tokens as there are images per each text. It is recommended to add `<image>` tokens in the very beginning of your text. For this call, we will infer how many images each text has and add special tokens.\n"
          ]
        },
        {
          "name": "stdout",
          "output_type": "stream",
          "text": [
            "Added page 31 of document 0 to index.\n"
          ]
        },
        {
          "name": "stderr",
          "output_type": "stream",
          "text": [
            "You are passing both `text` and `images` to `PaliGemmaProcessor`. The processor expects special image tokens in the text, as many tokens as there are images per each text. It is recommended to add `<image>` tokens in the very beginning of your text. For this call, we will infer how many images each text has and add special tokens.\n"
          ]
        },
        {
          "name": "stdout",
          "output_type": "stream",
          "text": [
            "Added page 32 of document 0 to index.\n"
          ]
        },
        {
          "name": "stderr",
          "output_type": "stream",
          "text": [
            "You are passing both `text` and `images` to `PaliGemmaProcessor`. The processor expects special image tokens in the text, as many tokens as there are images per each text. It is recommended to add `<image>` tokens in the very beginning of your text. For this call, we will infer how many images each text has and add special tokens.\n"
          ]
        },
        {
          "name": "stdout",
          "output_type": "stream",
          "text": [
            "Added page 33 of document 0 to index.\n"
          ]
        },
        {
          "name": "stderr",
          "output_type": "stream",
          "text": [
            "You are passing both `text` and `images` to `PaliGemmaProcessor`. The processor expects special image tokens in the text, as many tokens as there are images per each text. It is recommended to add `<image>` tokens in the very beginning of your text. For this call, we will infer how many images each text has and add special tokens.\n"
          ]
        },
        {
          "name": "stdout",
          "output_type": "stream",
          "text": [
            "Added page 34 of document 0 to index.\n"
          ]
        },
        {
          "name": "stderr",
          "output_type": "stream",
          "text": [
            "You are passing both `text` and `images` to `PaliGemmaProcessor`. The processor expects special image tokens in the text, as many tokens as there are images per each text. It is recommended to add `<image>` tokens in the very beginning of your text. For this call, we will infer how many images each text has and add special tokens.\n"
          ]
        },
        {
          "name": "stdout",
          "output_type": "stream",
          "text": [
            "Added page 35 of document 0 to index.\n"
          ]
        },
        {
          "name": "stderr",
          "output_type": "stream",
          "text": [
            "You are passing both `text` and `images` to `PaliGemmaProcessor`. The processor expects special image tokens in the text, as many tokens as there are images per each text. It is recommended to add `<image>` tokens in the very beginning of your text. For this call, we will infer how many images each text has and add special tokens.\n"
          ]
        },
        {
          "name": "stdout",
          "output_type": "stream",
          "text": [
            "Added page 36 of document 0 to index.\n"
          ]
        },
        {
          "name": "stderr",
          "output_type": "stream",
          "text": [
            "You are passing both `text` and `images` to `PaliGemmaProcessor`. The processor expects special image tokens in the text, as many tokens as there are images per each text. It is recommended to add `<image>` tokens in the very beginning of your text. For this call, we will infer how many images each text has and add special tokens.\n"
          ]
        },
        {
          "name": "stdout",
          "output_type": "stream",
          "text": [
            "Added page 37 of document 0 to index.\n"
          ]
        },
        {
          "name": "stderr",
          "output_type": "stream",
          "text": [
            "You are passing both `text` and `images` to `PaliGemmaProcessor`. The processor expects special image tokens in the text, as many tokens as there are images per each text. It is recommended to add `<image>` tokens in the very beginning of your text. For this call, we will infer how many images each text has and add special tokens.\n"
          ]
        },
        {
          "name": "stdout",
          "output_type": "stream",
          "text": [
            "Added page 38 of document 0 to index.\n"
          ]
        },
        {
          "name": "stderr",
          "output_type": "stream",
          "text": [
            "You are passing both `text` and `images` to `PaliGemmaProcessor`. The processor expects special image tokens in the text, as many tokens as there are images per each text. It is recommended to add `<image>` tokens in the very beginning of your text. For this call, we will infer how many images each text has and add special tokens.\n"
          ]
        },
        {
          "name": "stdout",
          "output_type": "stream",
          "text": [
            "Added page 39 of document 0 to index.\n"
          ]
        },
        {
          "name": "stderr",
          "output_type": "stream",
          "text": [
            "You are passing both `text` and `images` to `PaliGemmaProcessor`. The processor expects special image tokens in the text, as many tokens as there are images per each text. It is recommended to add `<image>` tokens in the very beginning of your text. For this call, we will infer how many images each text has and add special tokens.\n"
          ]
        },
        {
          "name": "stdout",
          "output_type": "stream",
          "text": [
            "Added page 40 of document 0 to index.\n"
          ]
        },
        {
          "name": "stderr",
          "output_type": "stream",
          "text": [
            "You are passing both `text` and `images` to `PaliGemmaProcessor`. The processor expects special image tokens in the text, as many tokens as there are images per each text. It is recommended to add `<image>` tokens in the very beginning of your text. For this call, we will infer how many images each text has and add special tokens.\n"
          ]
        },
        {
          "name": "stdout",
          "output_type": "stream",
          "text": [
            "Added page 41 of document 0 to index.\n"
          ]
        },
        {
          "name": "stderr",
          "output_type": "stream",
          "text": [
            "You are passing both `text` and `images` to `PaliGemmaProcessor`. The processor expects special image tokens in the text, as many tokens as there are images per each text. It is recommended to add `<image>` tokens in the very beginning of your text. For this call, we will infer how many images each text has and add special tokens.\n"
          ]
        },
        {
          "name": "stdout",
          "output_type": "stream",
          "text": [
            "Added page 42 of document 0 to index.\n"
          ]
        },
        {
          "name": "stderr",
          "output_type": "stream",
          "text": [
            "You are passing both `text` and `images` to `PaliGemmaProcessor`. The processor expects special image tokens in the text, as many tokens as there are images per each text. It is recommended to add `<image>` tokens in the very beginning of your text. For this call, we will infer how many images each text has and add special tokens.\n"
          ]
        },
        {
          "name": "stdout",
          "output_type": "stream",
          "text": [
            "Added page 43 of document 0 to index.\n"
          ]
        },
        {
          "name": "stderr",
          "output_type": "stream",
          "text": [
            "You are passing both `text` and `images` to `PaliGemmaProcessor`. The processor expects special image tokens in the text, as many tokens as there are images per each text. It is recommended to add `<image>` tokens in the very beginning of your text. For this call, we will infer how many images each text has and add special tokens.\n"
          ]
        },
        {
          "name": "stdout",
          "output_type": "stream",
          "text": [
            "Added page 44 of document 0 to index.\n"
          ]
        },
        {
          "name": "stderr",
          "output_type": "stream",
          "text": [
            "You are passing both `text` and `images` to `PaliGemmaProcessor`. The processor expects special image tokens in the text, as many tokens as there are images per each text. It is recommended to add `<image>` tokens in the very beginning of your text. For this call, we will infer how many images each text has and add special tokens.\n"
          ]
        },
        {
          "name": "stdout",
          "output_type": "stream",
          "text": [
            "Added page 45 of document 0 to index.\n"
          ]
        },
        {
          "name": "stderr",
          "output_type": "stream",
          "text": [
            "You are passing both `text` and `images` to `PaliGemmaProcessor`. The processor expects special image tokens in the text, as many tokens as there are images per each text. It is recommended to add `<image>` tokens in the very beginning of your text. For this call, we will infer how many images each text has and add special tokens.\n"
          ]
        },
        {
          "name": "stdout",
          "output_type": "stream",
          "text": [
            "Added page 46 of document 0 to index.\n"
          ]
        },
        {
          "name": "stderr",
          "output_type": "stream",
          "text": [
            "You are passing both `text` and `images` to `PaliGemmaProcessor`. The processor expects special image tokens in the text, as many tokens as there are images per each text. It is recommended to add `<image>` tokens in the very beginning of your text. For this call, we will infer how many images each text has and add special tokens.\n"
          ]
        },
        {
          "name": "stdout",
          "output_type": "stream",
          "text": [
            "Added page 47 of document 0 to index.\n"
          ]
        },
        {
          "name": "stderr",
          "output_type": "stream",
          "text": [
            "You are passing both `text` and `images` to `PaliGemmaProcessor`. The processor expects special image tokens in the text, as many tokens as there are images per each text. It is recommended to add `<image>` tokens in the very beginning of your text. For this call, we will infer how many images each text has and add special tokens.\n"
          ]
        },
        {
          "name": "stdout",
          "output_type": "stream",
          "text": [
            "Added page 48 of document 0 to index.\n",
            "Added page 49 of document 0 to index.\n",
            "Index exported to .byaldi/your_index_name\n",
            "Index exported to .byaldi/your_index_name\n"
          ]
        },
        {
          "data": {
            "text/plain": [
              "{0: '/content/pdfs/example.pdf'}"
            ]
          },
          "execution_count": 4,
          "metadata": {},
          "output_type": "execute_result"
        }
      ],
      "source": [
        "# Index documents\n",
        "model.index(\n",
        "    input_path=\"/content/pdfs\",\n",
        "    index_name=\"your_index_name\",\n",
        "    store_collection_with_index=False,\n",
        "    overwrite=True\n",
        ")"
      ]
    },
    {
      "cell_type": "code",
      "execution_count": 5,
      "metadata": {
        "colab": {
          "base_uri": "https://localhost:8080/"
        },
        "id": "x3QgcL4Lm0o0",
        "outputId": "853311f9-1c30-4b0c-92f1-fde9796c76a6"
      },
      "outputs": [
        {
          "name": "stderr",
          "output_type": "stream",
          "text": [
            "You are passing both `text` and `images` to `PaliGemmaProcessor`. The processor expects special image tokens in the text, as many tokens as there are images per each text. It is recommended to add `<image>` tokens in the very beginning of your text. For this call, we will infer how many images each text has and add special tokens.\n"
          ]
        },
        {
          "name": "stdout",
          "output_type": "stream",
          "text": [
            "Doc ID: 0, Page: 1, Score: 14.5\n",
            "Doc ID: 0, Page: 2, Score: 13.3125\n",
            "Doc ID: 0, Page: 47, Score: 13.0\n",
            "Doc ID: 0, Page: 42, Score: 12.875\n",
            "Doc ID: 0, Page: 49, Score: 12.5625\n"
          ]
        }
      ],
      "source": [
        "# Perform a search\n",
        "query = \"Who was absent of the meeting\"\n",
        "results = model.search(query, k=5)\n",
        "\n",
        "# Print results\n",
        "for result in results:\n",
        "    print(f\"Doc ID: {result.doc_id}, Page: {result.page_num}, Score: {result.score}\")\n"
      ]
    },
    {
      "cell_type": "code",
      "execution_count": 8,
      "metadata": {
        "colab": {
          "base_uri": "https://localhost:8080/"
        },
        "id": "Ocyg4OcMpyot",
        "outputId": "930aa843-9415-4f38-9c51-247d9accb18a"
      },
      "outputs": [
        {
          "data": {
            "text/plain": [
              "{'doc_id': 0, 'page_num': 1, 'score': 14.5, 'metadata': {}, 'base64': None}"
            ]
          },
          "execution_count": 8,
          "metadata": {},
          "output_type": "execute_result"
        }
      ],
      "source": [
        "results[0]"
      ]
    },
    {
      "cell_type": "markdown",
      "metadata": {
        "id": "OKqMkaH7pW-u"
      },
      "source": [
        "Indexing the PDF pages takes a lot of time as well.\n",
        "A possible solution could be doing an initial query on the paragraph representation and index only those pages that match the query."
      ]
    },
    {
      "cell_type": "markdown",
      "metadata": {
        "id": "R4RS0cBNrbC8"
      },
      "source": [
        "### Workflow with Groq and Llama for Vision-Instruction"
      ]
    },
    {
      "cell_type": "markdown",
      "metadata": {
        "id": "aIhMA_WUvcCH"
      },
      "source": [
        "We could try to get some page number of where the tables are and index/query those pages only.\n",
        "\n",
        "Challenge: each pdf will produce many images and we'd have to iterate over all of them.\n",
        "\n",
        "Workaround (?): filter with Coli, query with Llama."
      ]
    },
    {
      "cell_type": "code",
      "execution_count": 14,
      "metadata": {
        "id": "60OSRFQHs596"
      },
      "outputs": [],
      "source": [
        "import base64\n",
        "from pdf2image import convert_from_path\n",
        "\n",
        "# converting pdf to image and saving each page\n",
        "images = convert_from_path('example.pdf')\n",
        "\n",
        "for i in range(len(images)):\n",
        "      # Save pages as images in the pdf\n",
        "    images[i].save('page'+ str(i) +'.jpg', 'JPEG')"
      ]
    },
    {
      "cell_type": "code",
      "execution_count": 15,
      "metadata": {
        "id": "irsAh-25v0t5"
      },
      "outputs": [],
      "source": [
        "# Function to encode the image\n",
        "def encode_image(image_path):\n",
        "  with open(image_path, \"rb\") as image_file:\n",
        "    return base64.b64encode(image_file.read()).decode('utf-8')\n",
        "\n",
        "# Path to your image\n",
        "image_path = \"page1.jpg\"\n",
        "\n",
        "# Getting the base64 string\n",
        "base64_image = encode_image(image_path)"
      ]
    },
    {
      "cell_type": "code",
      "execution_count": 19,
      "metadata": {
        "colab": {
          "base_uri": "https://localhost:8080/"
        },
        "id": "Bznx5wsZrapa",
        "outputId": "1228832e-47c3-4b56-b45f-1354e73d826b"
      },
      "outputs": [
        {
          "name": "stdout",
          "output_type": "stream",
          "text": [
            "According to the document, the following individuals were marked as absent from the meeting:\n",
            "\n",
            "1. Jean-Marie Ambrose\n",
            "2. Laurence Boyer\n",
            "3. Marie-Francoise Cathelard\n",
            "4. Yves Chanmot\n",
            "5. Aurie Combaret\n",
            "6. Marie-Laure Combaret\n",
            "7. Marie-Manana Burnichon\n",
            "8. Daniel Fretchet\n",
            "9. Quentin Gaffary\n",
            "10. Juan-Paul Merckel\n",
            "11. Patrick Merckel\n",
            "12. Nabih Nishler\n",
            "13. Giles Passos\n",
            "14. Marcel Peulon\n",
            "15. Didier Prunet\n",
            "16. Vickie Reddouth\n",
            "17. Corinne Trenicy\n",
            "18. Isabelle Valcourt\n",
            "\n",
            "These individuals are listed in the \"Absents\" section of the document, with an \"X\" symbol next to each name.\n"
          ]
        }
      ],
      "source": [
        "from groq import Groq\n",
        "\n",
        "client = Groq(api_key=groq_token)\n",
        "\n",
        "text_query = \"Who was absent of the meeting\"\n",
        "chat_completion = client.chat.completions.create(\n",
        "    messages=[\n",
        "        {\n",
        "            \"role\": \"user\",\n",
        "            \"content\": [\n",
        "                {\"type\": \"text\", \"text\": text_query},\n",
        "                {\n",
        "                    \"type\": \"image_url\",\n",
        "                    \"image_url\": {\n",
        "                        \"url\": f\"data:image/jpeg;base64,{base64_image}\",\n",
        "                    },\n",
        "                },\n",
        "            ],\n",
        "        }\n",
        "    ],\n",
        "    model=\"llama-3.2-11b-vision-preview\",\n",
        ")\n",
        "\n",
        "print(chat_completion.choices[0].message.content)"
      ]
    },
    {
      "cell_type": "markdown",
      "metadata": {
        "id": "1xXAdjDhxidI"
      },
      "source": [
        "Seems to work pretty well!"
      ]
    },
    {
      "cell_type": "markdown",
      "metadata": {
        "id": "0cPNekAS_KqF"
      },
      "source": [
        "### INITIAL PREPROCESSING RECAP\n",
        "\n",
        "So far for the text we have:\n",
        "- the reconstructed text based on the paragraph clusters.\n",
        "- the embeddings of the reconstructed clusters.\n",
        "- the reconstructed paragraphs in ranges of 10 sentences.\n",
        "- the embeddings of the paragraphs detached and squeezed.\n",
        "- the cluster each paragraph belongs to.\n",
        "- the indexes of the paragraphs of each cluster.\n",
        "- the actual sentences split from SpaCy, in case we need them after.\n",
        "\n",
        "For the images:\n",
        "- Index for the pdfs with ColPali that only return pages.\n",
        "- Querying images with Groq that seems pretty good."
      ]
    }
  ],
  "metadata": {
    "accelerator": "GPU",
    "colab": {
      "gpuType": "T4",
      "provenance": [],
      "toc_visible": true
    },
    "kernelspec": {
      "display_name": ".council-rag",
      "language": "python",
      "name": "python3"
    },
    "language_info": {
      "codemirror_mode": {
        "name": "ipython",
        "version": 3
      },
      "file_extension": ".py",
      "mimetype": "text/x-python",
      "name": "python",
      "nbconvert_exporter": "python",
      "pygments_lexer": "ipython3",
      "version": "3.12.0"
    },
    "widgets": {
      "application/vnd.jupyter.widget-state+json": {
        "0045812b85d74d90bb8862263db2a2e3": {
          "model_module": "@jupyter-widgets/controls",
          "model_module_version": "1.5.0",
          "model_name": "HTMLModel",
          "state": {
            "_dom_classes": [],
            "_model_module": "@jupyter-widgets/controls",
            "_model_module_version": "1.5.0",
            "_model_name": "HTMLModel",
            "_view_count": null,
            "_view_module": "@jupyter-widgets/controls",
            "_view_module_version": "1.5.0",
            "_view_name": "HTMLView",
            "description": "",
            "description_tooltip": null,
            "layout": "IPY_MODEL_ecf83c047aa2472684c5c1371c32dfb8",
            "placeholder": "​",
            "style": "IPY_MODEL_558feb6e7de341e9bfb556cb0c26460e",
            "value": " 370/370 [00:00&lt;00:00, 6.47kB/s]"
          }
        },
        "00d64b71b8de4aa389ab708ddc21f94c": {
          "model_module": "@jupyter-widgets/base",
          "model_module_version": "1.2.0",
          "model_name": "LayoutModel",
          "state": {
            "_model_module": "@jupyter-widgets/base",
            "_model_module_version": "1.2.0",
            "_model_name": "LayoutModel",
            "_view_count": null,
            "_view_module": "@jupyter-widgets/base",
            "_view_module_version": "1.2.0",
            "_view_name": "LayoutView",
            "align_content": null,
            "align_items": null,
            "align_self": null,
            "border": null,
            "bottom": null,
            "display": null,
            "flex": null,
            "flex_flow": null,
            "grid_area": null,
            "grid_auto_columns": null,
            "grid_auto_flow": null,
            "grid_auto_rows": null,
            "grid_column": null,
            "grid_gap": null,
            "grid_row": null,
            "grid_template_areas": null,
            "grid_template_columns": null,
            "grid_template_rows": null,
            "height": null,
            "justify_content": null,
            "justify_items": null,
            "left": null,
            "margin": null,
            "max_height": null,
            "max_width": null,
            "min_height": null,
            "min_width": null,
            "object_fit": null,
            "object_position": null,
            "order": null,
            "overflow": null,
            "overflow_x": null,
            "overflow_y": null,
            "padding": null,
            "right": null,
            "top": null,
            "visibility": null,
            "width": null
          }
        },
        "04ef703346ca4d5f81ea64ba2597b98b": {
          "model_module": "@jupyter-widgets/controls",
          "model_module_version": "1.5.0",
          "model_name": "DescriptionStyleModel",
          "state": {
            "_model_module": "@jupyter-widgets/controls",
            "_model_module_version": "1.5.0",
            "_model_name": "DescriptionStyleModel",
            "_view_count": null,
            "_view_module": "@jupyter-widgets/base",
            "_view_module_version": "1.2.0",
            "_view_name": "StyleView",
            "description_width": ""
          }
        },
        "08066e0c56fe4a1eb3c7d695a09bf87c": {
          "model_module": "@jupyter-widgets/controls",
          "model_module_version": "1.5.0",
          "model_name": "FloatProgressModel",
          "state": {
            "_dom_classes": [],
            "_model_module": "@jupyter-widgets/controls",
            "_model_module_version": "1.5.0",
            "_model_name": "FloatProgressModel",
            "_view_count": null,
            "_view_module": "@jupyter-widgets/controls",
            "_view_module_version": "1.5.0",
            "_view_name": "ProgressView",
            "bar_style": "success",
            "description": "",
            "description_tooltip": null,
            "layout": "IPY_MODEL_510521ae0f504d31a25bf8ae404e8186",
            "max": 370,
            "min": 0,
            "orientation": "horizontal",
            "style": "IPY_MODEL_4eb7d2c5ffba42b096bf2da8351a709e",
            "value": 370
          }
        },
        "0862a56908d646a49aea649e341a1793": {
          "model_module": "@jupyter-widgets/base",
          "model_module_version": "1.2.0",
          "model_name": "LayoutModel",
          "state": {
            "_model_module": "@jupyter-widgets/base",
            "_model_module_version": "1.2.0",
            "_model_name": "LayoutModel",
            "_view_count": null,
            "_view_module": "@jupyter-widgets/base",
            "_view_module_version": "1.2.0",
            "_view_name": "LayoutView",
            "align_content": null,
            "align_items": null,
            "align_self": null,
            "border": null,
            "bottom": null,
            "display": null,
            "flex": null,
            "flex_flow": null,
            "grid_area": null,
            "grid_auto_columns": null,
            "grid_auto_flow": null,
            "grid_auto_rows": null,
            "grid_column": null,
            "grid_gap": null,
            "grid_row": null,
            "grid_template_areas": null,
            "grid_template_columns": null,
            "grid_template_rows": null,
            "height": null,
            "justify_content": null,
            "justify_items": null,
            "left": null,
            "margin": null,
            "max_height": null,
            "max_width": null,
            "min_height": null,
            "min_width": null,
            "object_fit": null,
            "object_position": null,
            "order": null,
            "overflow": null,
            "overflow_x": null,
            "overflow_y": null,
            "padding": null,
            "right": null,
            "top": null,
            "visibility": null,
            "width": null
          }
        },
        "09d294795a4040f59d2a4697e4685bad": {
          "model_module": "@jupyter-widgets/controls",
          "model_module_version": "1.5.0",
          "model_name": "FloatProgressModel",
          "state": {
            "_dom_classes": [],
            "_model_module": "@jupyter-widgets/controls",
            "_model_module_version": "1.5.0",
            "_model_name": "FloatProgressModel",
            "_view_count": null,
            "_view_module": "@jupyter-widgets/controls",
            "_view_module_version": "1.5.0",
            "_view_name": "ProgressView",
            "bar_style": "success",
            "description": "",
            "description_tooltip": null,
            "layout": "IPY_MODEL_721cbbe8ec7e43279d2d74f35426fde1",
            "max": 1628,
            "min": 0,
            "orientation": "horizontal",
            "style": "IPY_MODEL_f0a40b5a1449401a95d09dbbc47f19c9",
            "value": 1628
          }
        },
        "09e0355244fd4d54ac09809cd37183f2": {
          "model_module": "@jupyter-widgets/base",
          "model_module_version": "1.2.0",
          "model_name": "LayoutModel",
          "state": {
            "_model_module": "@jupyter-widgets/base",
            "_model_module_version": "1.2.0",
            "_model_name": "LayoutModel",
            "_view_count": null,
            "_view_module": "@jupyter-widgets/base",
            "_view_module_version": "1.2.0",
            "_view_name": "LayoutView",
            "align_content": null,
            "align_items": null,
            "align_self": null,
            "border": null,
            "bottom": null,
            "display": null,
            "flex": null,
            "flex_flow": null,
            "grid_area": null,
            "grid_auto_columns": null,
            "grid_auto_flow": null,
            "grid_auto_rows": null,
            "grid_column": null,
            "grid_gap": null,
            "grid_row": null,
            "grid_template_areas": null,
            "grid_template_columns": null,
            "grid_template_rows": null,
            "height": null,
            "justify_content": null,
            "justify_items": null,
            "left": null,
            "margin": null,
            "max_height": null,
            "max_width": null,
            "min_height": null,
            "min_width": null,
            "object_fit": null,
            "object_position": null,
            "order": null,
            "overflow": null,
            "overflow_x": null,
            "overflow_y": null,
            "padding": null,
            "right": null,
            "top": null,
            "visibility": null,
            "width": null
          }
        },
        "0c2abb80145246008f4791e6327e68e5": {
          "model_module": "@jupyter-widgets/controls",
          "model_module_version": "1.5.0",
          "model_name": "FloatProgressModel",
          "state": {
            "_dom_classes": [],
            "_model_module": "@jupyter-widgets/controls",
            "_model_module_version": "1.5.0",
            "_model_name": "FloatProgressModel",
            "_view_count": null,
            "_view_module": "@jupyter-widgets/controls",
            "_view_module_version": "1.5.0",
            "_view_name": "ProgressView",
            "bar_style": "success",
            "description": "",
            "description_tooltip": null,
            "layout": "IPY_MODEL_b52a6501e6004ce2b33848f2bb3e81bf",
            "max": 2,
            "min": 0,
            "orientation": "horizontal",
            "style": "IPY_MODEL_77576c20530149889f14f370d27c865f",
            "value": 2
          }
        },
        "0ce54fca82e34dcd9c756833a8cd8a1e": {
          "model_module": "@jupyter-widgets/controls",
          "model_module_version": "1.5.0",
          "model_name": "ProgressStyleModel",
          "state": {
            "_model_module": "@jupyter-widgets/controls",
            "_model_module_version": "1.5.0",
            "_model_name": "ProgressStyleModel",
            "_view_count": null,
            "_view_module": "@jupyter-widgets/base",
            "_view_module_version": "1.2.0",
            "_view_name": "StyleView",
            "bar_color": null,
            "description_width": ""
          }
        },
        "0e347442ddf64c8faaf58152a0e8e961": {
          "model_module": "@jupyter-widgets/controls",
          "model_module_version": "1.5.0",
          "model_name": "HTMLModel",
          "state": {
            "_dom_classes": [],
            "_model_module": "@jupyter-widgets/controls",
            "_model_module_version": "1.5.0",
            "_model_name": "HTMLModel",
            "_view_count": null,
            "_view_module": "@jupyter-widgets/controls",
            "_view_module_version": "1.5.0",
            "_view_name": "HTMLView",
            "description": "",
            "description_tooltip": null,
            "layout": "IPY_MODEL_e4470db2e4e94c92b1c039b41097820c",
            "placeholder": "​",
            "style": "IPY_MODEL_7a99bbda72494559a29071929db19ae5",
            "value": "added_tokens.json: 100%"
          }
        },
        "117573ff584249aeaaa28075a7949597": {
          "model_module": "@jupyter-widgets/base",
          "model_module_version": "1.2.0",
          "model_name": "LayoutModel",
          "state": {
            "_model_module": "@jupyter-widgets/base",
            "_model_module_version": "1.2.0",
            "_model_name": "LayoutModel",
            "_view_count": null,
            "_view_module": "@jupyter-widgets/base",
            "_view_module_version": "1.2.0",
            "_view_name": "LayoutView",
            "align_content": null,
            "align_items": null,
            "align_self": null,
            "border": null,
            "bottom": null,
            "display": null,
            "flex": null,
            "flex_flow": null,
            "grid_area": null,
            "grid_auto_columns": null,
            "grid_auto_flow": null,
            "grid_auto_rows": null,
            "grid_column": null,
            "grid_gap": null,
            "grid_row": null,
            "grid_template_areas": null,
            "grid_template_columns": null,
            "grid_template_rows": null,
            "height": null,
            "justify_content": null,
            "justify_items": null,
            "left": null,
            "margin": null,
            "max_height": null,
            "max_width": null,
            "min_height": null,
            "min_width": null,
            "object_fit": null,
            "object_position": null,
            "order": null,
            "overflow": null,
            "overflow_x": null,
            "overflow_y": null,
            "padding": null,
            "right": null,
            "top": null,
            "visibility": null,
            "width": null
          }
        },
        "190260c10fed433c9ae0c485bbc2a25e": {
          "model_module": "@jupyter-widgets/controls",
          "model_module_version": "1.5.0",
          "model_name": "DescriptionStyleModel",
          "state": {
            "_model_module": "@jupyter-widgets/controls",
            "_model_module_version": "1.5.0",
            "_model_name": "DescriptionStyleModel",
            "_view_count": null,
            "_view_module": "@jupyter-widgets/base",
            "_view_module_version": "1.2.0",
            "_view_name": "StyleView",
            "description_width": ""
          }
        },
        "1955da0dc291443fb7e4f2b06da3e14d": {
          "model_module": "@jupyter-widgets/base",
          "model_module_version": "1.2.0",
          "model_name": "LayoutModel",
          "state": {
            "_model_module": "@jupyter-widgets/base",
            "_model_module_version": "1.2.0",
            "_model_name": "LayoutModel",
            "_view_count": null,
            "_view_module": "@jupyter-widgets/base",
            "_view_module_version": "1.2.0",
            "_view_name": "LayoutView",
            "align_content": null,
            "align_items": null,
            "align_self": null,
            "border": null,
            "bottom": null,
            "display": null,
            "flex": null,
            "flex_flow": null,
            "grid_area": null,
            "grid_auto_columns": null,
            "grid_auto_flow": null,
            "grid_auto_rows": null,
            "grid_column": null,
            "grid_gap": null,
            "grid_row": null,
            "grid_template_areas": null,
            "grid_template_columns": null,
            "grid_template_rows": null,
            "height": null,
            "justify_content": null,
            "justify_items": null,
            "left": null,
            "margin": null,
            "max_height": null,
            "max_width": null,
            "min_height": null,
            "min_width": null,
            "object_fit": null,
            "object_position": null,
            "order": null,
            "overflow": null,
            "overflow_x": null,
            "overflow_y": null,
            "padding": null,
            "right": null,
            "top": null,
            "visibility": null,
            "width": null
          }
        },
        "1e75dfcf604044dba18aaac1827225ca": {
          "model_module": "@jupyter-widgets/controls",
          "model_module_version": "1.5.0",
          "model_name": "DescriptionStyleModel",
          "state": {
            "_model_module": "@jupyter-widgets/controls",
            "_model_module_version": "1.5.0",
            "_model_name": "DescriptionStyleModel",
            "_view_count": null,
            "_view_module": "@jupyter-widgets/base",
            "_view_module_version": "1.2.0",
            "_view_name": "StyleView",
            "description_width": ""
          }
        },
        "1f12c4076a9b4fec9ea97db924291818": {
          "model_module": "@jupyter-widgets/base",
          "model_module_version": "1.2.0",
          "model_name": "LayoutModel",
          "state": {
            "_model_module": "@jupyter-widgets/base",
            "_model_module_version": "1.2.0",
            "_model_name": "LayoutModel",
            "_view_count": null,
            "_view_module": "@jupyter-widgets/base",
            "_view_module_version": "1.2.0",
            "_view_name": "LayoutView",
            "align_content": null,
            "align_items": null,
            "align_self": null,
            "border": null,
            "bottom": null,
            "display": null,
            "flex": null,
            "flex_flow": null,
            "grid_area": null,
            "grid_auto_columns": null,
            "grid_auto_flow": null,
            "grid_auto_rows": null,
            "grid_column": null,
            "grid_gap": null,
            "grid_row": null,
            "grid_template_areas": null,
            "grid_template_columns": null,
            "grid_template_rows": null,
            "height": null,
            "justify_content": null,
            "justify_items": null,
            "left": null,
            "margin": null,
            "max_height": null,
            "max_width": null,
            "min_height": null,
            "min_width": null,
            "object_fit": null,
            "object_position": null,
            "order": null,
            "overflow": null,
            "overflow_x": null,
            "overflow_y": null,
            "padding": null,
            "right": null,
            "top": null,
            "visibility": null,
            "width": null
          }
        },
        "205978ed6c164403b75a8dd2f13b7f75": {
          "model_module": "@jupyter-widgets/controls",
          "model_module_version": "1.5.0",
          "model_name": "HBoxModel",
          "state": {
            "_dom_classes": [],
            "_model_module": "@jupyter-widgets/controls",
            "_model_module_version": "1.5.0",
            "_model_name": "HBoxModel",
            "_view_count": null,
            "_view_module": "@jupyter-widgets/controls",
            "_view_module_version": "1.5.0",
            "_view_name": "HBoxView",
            "box_style": "",
            "children": [
              "IPY_MODEL_be1ba64b192b4a24bc6cf29e17701ece",
              "IPY_MODEL_09d294795a4040f59d2a4697e4685bad",
              "IPY_MODEL_f1adf199691d4af8833032accb6ee5bd"
            ],
            "layout": "IPY_MODEL_c8c1263ee691442193382db3e77984a8"
          }
        },
        "236e7f22b26843918077a0f4d8af8fce": {
          "model_module": "@jupyter-widgets/controls",
          "model_module_version": "1.5.0",
          "model_name": "DescriptionStyleModel",
          "state": {
            "_model_module": "@jupyter-widgets/controls",
            "_model_module_version": "1.5.0",
            "_model_name": "DescriptionStyleModel",
            "_view_count": null,
            "_view_module": "@jupyter-widgets/base",
            "_view_module_version": "1.2.0",
            "_view_name": "StyleView",
            "description_width": ""
          }
        },
        "239320641281479b9d612b374c346ae6": {
          "model_module": "@jupyter-widgets/base",
          "model_module_version": "1.2.0",
          "model_name": "LayoutModel",
          "state": {
            "_model_module": "@jupyter-widgets/base",
            "_model_module_version": "1.2.0",
            "_model_name": "LayoutModel",
            "_view_count": null,
            "_view_module": "@jupyter-widgets/base",
            "_view_module_version": "1.2.0",
            "_view_name": "LayoutView",
            "align_content": null,
            "align_items": null,
            "align_self": null,
            "border": null,
            "bottom": null,
            "display": null,
            "flex": null,
            "flex_flow": null,
            "grid_area": null,
            "grid_auto_columns": null,
            "grid_auto_flow": null,
            "grid_auto_rows": null,
            "grid_column": null,
            "grid_gap": null,
            "grid_row": null,
            "grid_template_areas": null,
            "grid_template_columns": null,
            "grid_template_rows": null,
            "height": null,
            "justify_content": null,
            "justify_items": null,
            "left": null,
            "margin": null,
            "max_height": null,
            "max_width": null,
            "min_height": null,
            "min_width": null,
            "object_fit": null,
            "object_position": null,
            "order": null,
            "overflow": null,
            "overflow_x": null,
            "overflow_y": null,
            "padding": null,
            "right": null,
            "top": null,
            "visibility": null,
            "width": null
          }
        },
        "275e44bf87dd4752b3914b0d9bdf344c": {
          "model_module": "@jupyter-widgets/controls",
          "model_module_version": "1.5.0",
          "model_name": "DescriptionStyleModel",
          "state": {
            "_model_module": "@jupyter-widgets/controls",
            "_model_module_version": "1.5.0",
            "_model_name": "DescriptionStyleModel",
            "_view_count": null,
            "_view_module": "@jupyter-widgets/base",
            "_view_module_version": "1.2.0",
            "_view_name": "StyleView",
            "description_width": ""
          }
        },
        "2ff54ec5c2ab414c8afb77e0edc10da6": {
          "model_module": "@jupyter-widgets/base",
          "model_module_version": "1.2.0",
          "model_name": "LayoutModel",
          "state": {
            "_model_module": "@jupyter-widgets/base",
            "_model_module_version": "1.2.0",
            "_model_name": "LayoutModel",
            "_view_count": null,
            "_view_module": "@jupyter-widgets/base",
            "_view_module_version": "1.2.0",
            "_view_name": "LayoutView",
            "align_content": null,
            "align_items": null,
            "align_self": null,
            "border": null,
            "bottom": null,
            "display": null,
            "flex": null,
            "flex_flow": null,
            "grid_area": null,
            "grid_auto_columns": null,
            "grid_auto_flow": null,
            "grid_auto_rows": null,
            "grid_column": null,
            "grid_gap": null,
            "grid_row": null,
            "grid_template_areas": null,
            "grid_template_columns": null,
            "grid_template_rows": null,
            "height": null,
            "justify_content": null,
            "justify_items": null,
            "left": null,
            "margin": null,
            "max_height": null,
            "max_width": null,
            "min_height": null,
            "min_width": null,
            "object_fit": null,
            "object_position": null,
            "order": null,
            "overflow": null,
            "overflow_x": null,
            "overflow_y": null,
            "padding": null,
            "right": null,
            "top": null,
            "visibility": null,
            "width": null
          }
        },
        "3872552d87974cd389afe501a5a093fd": {
          "model_module": "@jupyter-widgets/base",
          "model_module_version": "1.2.0",
          "model_name": "LayoutModel",
          "state": {
            "_model_module": "@jupyter-widgets/base",
            "_model_module_version": "1.2.0",
            "_model_name": "LayoutModel",
            "_view_count": null,
            "_view_module": "@jupyter-widgets/base",
            "_view_module_version": "1.2.0",
            "_view_name": "LayoutView",
            "align_content": null,
            "align_items": null,
            "align_self": null,
            "border": null,
            "bottom": null,
            "display": null,
            "flex": null,
            "flex_flow": null,
            "grid_area": null,
            "grid_auto_columns": null,
            "grid_auto_flow": null,
            "grid_auto_rows": null,
            "grid_column": null,
            "grid_gap": null,
            "grid_row": null,
            "grid_template_areas": null,
            "grid_template_columns": null,
            "grid_template_rows": null,
            "height": null,
            "justify_content": null,
            "justify_items": null,
            "left": null,
            "margin": null,
            "max_height": null,
            "max_width": null,
            "min_height": null,
            "min_width": null,
            "object_fit": null,
            "object_position": null,
            "order": null,
            "overflow": null,
            "overflow_x": null,
            "overflow_y": null,
            "padding": null,
            "right": null,
            "top": null,
            "visibility": null,
            "width": null
          }
        },
        "39124a388be24355a0622fa68935a4cb": {
          "model_module": "@jupyter-widgets/base",
          "model_module_version": "1.2.0",
          "model_name": "LayoutModel",
          "state": {
            "_model_module": "@jupyter-widgets/base",
            "_model_module_version": "1.2.0",
            "_model_name": "LayoutModel",
            "_view_count": null,
            "_view_module": "@jupyter-widgets/base",
            "_view_module_version": "1.2.0",
            "_view_name": "LayoutView",
            "align_content": null,
            "align_items": null,
            "align_self": null,
            "border": null,
            "bottom": null,
            "display": null,
            "flex": null,
            "flex_flow": null,
            "grid_area": null,
            "grid_auto_columns": null,
            "grid_auto_flow": null,
            "grid_auto_rows": null,
            "grid_column": null,
            "grid_gap": null,
            "grid_row": null,
            "grid_template_areas": null,
            "grid_template_columns": null,
            "grid_template_rows": null,
            "height": null,
            "justify_content": null,
            "justify_items": null,
            "left": null,
            "margin": null,
            "max_height": null,
            "max_width": null,
            "min_height": null,
            "min_width": null,
            "object_fit": null,
            "object_position": null,
            "order": null,
            "overflow": null,
            "overflow_x": null,
            "overflow_y": null,
            "padding": null,
            "right": null,
            "top": null,
            "visibility": null,
            "width": null
          }
        },
        "39840a86d1734a3e82d4fb4492e8d33f": {
          "model_module": "@jupyter-widgets/base",
          "model_module_version": "1.2.0",
          "model_name": "LayoutModel",
          "state": {
            "_model_module": "@jupyter-widgets/base",
            "_model_module_version": "1.2.0",
            "_model_name": "LayoutModel",
            "_view_count": null,
            "_view_module": "@jupyter-widgets/base",
            "_view_module_version": "1.2.0",
            "_view_name": "LayoutView",
            "align_content": null,
            "align_items": null,
            "align_self": null,
            "border": null,
            "bottom": null,
            "display": null,
            "flex": null,
            "flex_flow": null,
            "grid_area": null,
            "grid_auto_columns": null,
            "grid_auto_flow": null,
            "grid_auto_rows": null,
            "grid_column": null,
            "grid_gap": null,
            "grid_row": null,
            "grid_template_areas": null,
            "grid_template_columns": null,
            "grid_template_rows": null,
            "height": null,
            "justify_content": null,
            "justify_items": null,
            "left": null,
            "margin": null,
            "max_height": null,
            "max_width": null,
            "min_height": null,
            "min_width": null,
            "object_fit": null,
            "object_position": null,
            "order": null,
            "overflow": null,
            "overflow_x": null,
            "overflow_y": null,
            "padding": null,
            "right": null,
            "top": null,
            "visibility": null,
            "width": null
          }
        },
        "3fcbc8e23bd645379dd03ffadea90221": {
          "model_module": "@jupyter-widgets/base",
          "model_module_version": "1.2.0",
          "model_name": "LayoutModel",
          "state": {
            "_model_module": "@jupyter-widgets/base",
            "_model_module_version": "1.2.0",
            "_model_name": "LayoutModel",
            "_view_count": null,
            "_view_module": "@jupyter-widgets/base",
            "_view_module_version": "1.2.0",
            "_view_name": "LayoutView",
            "align_content": null,
            "align_items": null,
            "align_self": null,
            "border": null,
            "bottom": null,
            "display": null,
            "flex": null,
            "flex_flow": null,
            "grid_area": null,
            "grid_auto_columns": null,
            "grid_auto_flow": null,
            "grid_auto_rows": null,
            "grid_column": null,
            "grid_gap": null,
            "grid_row": null,
            "grid_template_areas": null,
            "grid_template_columns": null,
            "grid_template_rows": null,
            "height": null,
            "justify_content": null,
            "justify_items": null,
            "left": null,
            "margin": null,
            "max_height": null,
            "max_width": null,
            "min_height": null,
            "min_width": null,
            "object_fit": null,
            "object_position": null,
            "order": null,
            "overflow": null,
            "overflow_x": null,
            "overflow_y": null,
            "padding": null,
            "right": null,
            "top": null,
            "visibility": null,
            "width": null
          }
        },
        "4455b30de3814473a6d6a801d0c8a67d": {
          "model_module": "@jupyter-widgets/controls",
          "model_module_version": "1.5.0",
          "model_name": "HTMLModel",
          "state": {
            "_dom_classes": [],
            "_model_module": "@jupyter-widgets/controls",
            "_model_module_version": "1.5.0",
            "_model_name": "HTMLModel",
            "_view_count": null,
            "_view_module": "@jupyter-widgets/controls",
            "_view_module_version": "1.5.0",
            "_view_name": "HTMLView",
            "description": "",
            "description_tooltip": null,
            "layout": "IPY_MODEL_3872552d87974cd389afe501a5a093fd",
            "placeholder": "​",
            "style": "IPY_MODEL_c7eac2f1bf0146c5a3432924c9d670e3",
            "value": "tokenizer.json: 100%"
          }
        },
        "457dd347d39343d295db89371bc0d9df": {
          "model_module": "@jupyter-widgets/base",
          "model_module_version": "1.2.0",
          "model_name": "LayoutModel",
          "state": {
            "_model_module": "@jupyter-widgets/base",
            "_model_module_version": "1.2.0",
            "_model_name": "LayoutModel",
            "_view_count": null,
            "_view_module": "@jupyter-widgets/base",
            "_view_module_version": "1.2.0",
            "_view_name": "LayoutView",
            "align_content": null,
            "align_items": null,
            "align_self": null,
            "border": null,
            "bottom": null,
            "display": null,
            "flex": null,
            "flex_flow": null,
            "grid_area": null,
            "grid_auto_columns": null,
            "grid_auto_flow": null,
            "grid_auto_rows": null,
            "grid_column": null,
            "grid_gap": null,
            "grid_row": null,
            "grid_template_areas": null,
            "grid_template_columns": null,
            "grid_template_rows": null,
            "height": null,
            "justify_content": null,
            "justify_items": null,
            "left": null,
            "margin": null,
            "max_height": null,
            "max_width": null,
            "min_height": null,
            "min_width": null,
            "object_fit": null,
            "object_position": null,
            "order": null,
            "overflow": null,
            "overflow_x": null,
            "overflow_y": null,
            "padding": null,
            "right": null,
            "top": null,
            "visibility": null,
            "width": null
          }
        },
        "46637b65bd2c445991a80940fd64a78d": {
          "model_module": "@jupyter-widgets/controls",
          "model_module_version": "1.5.0",
          "model_name": "HTMLModel",
          "state": {
            "_dom_classes": [],
            "_model_module": "@jupyter-widgets/controls",
            "_model_module_version": "1.5.0",
            "_model_name": "HTMLModel",
            "_view_count": null,
            "_view_module": "@jupyter-widgets/controls",
            "_view_module_version": "1.5.0",
            "_view_name": "HTMLView",
            "description": "",
            "description_tooltip": null,
            "layout": "IPY_MODEL_117573ff584249aeaaa28075a7949597",
            "placeholder": "​",
            "style": "IPY_MODEL_6fc67dd7cf3140b686930cdb37e58da8",
            "value": "Loading checkpoint shards: 100%"
          }
        },
        "480ec05b4ef84077900cca9838cba7d7": {
          "model_module": "@jupyter-widgets/base",
          "model_module_version": "1.2.0",
          "model_name": "LayoutModel",
          "state": {
            "_model_module": "@jupyter-widgets/base",
            "_model_module_version": "1.2.0",
            "_model_name": "LayoutModel",
            "_view_count": null,
            "_view_module": "@jupyter-widgets/base",
            "_view_module_version": "1.2.0",
            "_view_name": "LayoutView",
            "align_content": null,
            "align_items": null,
            "align_self": null,
            "border": null,
            "bottom": null,
            "display": null,
            "flex": null,
            "flex_flow": null,
            "grid_area": null,
            "grid_auto_columns": null,
            "grid_auto_flow": null,
            "grid_auto_rows": null,
            "grid_column": null,
            "grid_gap": null,
            "grid_row": null,
            "grid_template_areas": null,
            "grid_template_columns": null,
            "grid_template_rows": null,
            "height": null,
            "justify_content": null,
            "justify_items": null,
            "left": null,
            "margin": null,
            "max_height": null,
            "max_width": null,
            "min_height": null,
            "min_width": null,
            "object_fit": null,
            "object_position": null,
            "order": null,
            "overflow": null,
            "overflow_x": null,
            "overflow_y": null,
            "padding": null,
            "right": null,
            "top": null,
            "visibility": null,
            "width": null
          }
        },
        "4eb7d2c5ffba42b096bf2da8351a709e": {
          "model_module": "@jupyter-widgets/controls",
          "model_module_version": "1.5.0",
          "model_name": "ProgressStyleModel",
          "state": {
            "_model_module": "@jupyter-widgets/controls",
            "_model_module_version": "1.5.0",
            "_model_name": "ProgressStyleModel",
            "_view_count": null,
            "_view_module": "@jupyter-widgets/base",
            "_view_module_version": "1.2.0",
            "_view_name": "StyleView",
            "bar_color": null,
            "description_width": ""
          }
        },
        "4f5f7dcd7a614ab0b780f68125b2a546": {
          "model_module": "@jupyter-widgets/controls",
          "model_module_version": "1.5.0",
          "model_name": "DescriptionStyleModel",
          "state": {
            "_model_module": "@jupyter-widgets/controls",
            "_model_module_version": "1.5.0",
            "_model_name": "DescriptionStyleModel",
            "_view_count": null,
            "_view_module": "@jupyter-widgets/base",
            "_view_module_version": "1.2.0",
            "_view_name": "StyleView",
            "description_width": ""
          }
        },
        "50f525336bb74741a46df1f033bdac87": {
          "model_module": "@jupyter-widgets/controls",
          "model_module_version": "1.5.0",
          "model_name": "ProgressStyleModel",
          "state": {
            "_model_module": "@jupyter-widgets/controls",
            "_model_module_version": "1.5.0",
            "_model_name": "ProgressStyleModel",
            "_view_count": null,
            "_view_module": "@jupyter-widgets/base",
            "_view_module_version": "1.2.0",
            "_view_name": "StyleView",
            "bar_color": null,
            "description_width": ""
          }
        },
        "510521ae0f504d31a25bf8ae404e8186": {
          "model_module": "@jupyter-widgets/base",
          "model_module_version": "1.2.0",
          "model_name": "LayoutModel",
          "state": {
            "_model_module": "@jupyter-widgets/base",
            "_model_module_version": "1.2.0",
            "_model_name": "LayoutModel",
            "_view_count": null,
            "_view_module": "@jupyter-widgets/base",
            "_view_module_version": "1.2.0",
            "_view_name": "LayoutView",
            "align_content": null,
            "align_items": null,
            "align_self": null,
            "border": null,
            "bottom": null,
            "display": null,
            "flex": null,
            "flex_flow": null,
            "grid_area": null,
            "grid_auto_columns": null,
            "grid_auto_flow": null,
            "grid_auto_rows": null,
            "grid_column": null,
            "grid_gap": null,
            "grid_row": null,
            "grid_template_areas": null,
            "grid_template_columns": null,
            "grid_template_rows": null,
            "height": null,
            "justify_content": null,
            "justify_items": null,
            "left": null,
            "margin": null,
            "max_height": null,
            "max_width": null,
            "min_height": null,
            "min_width": null,
            "object_fit": null,
            "object_position": null,
            "order": null,
            "overflow": null,
            "overflow_x": null,
            "overflow_y": null,
            "padding": null,
            "right": null,
            "top": null,
            "visibility": null,
            "width": null
          }
        },
        "5563c10de0334e3c92546dcc60ee35ca": {
          "model_module": "@jupyter-widgets/controls",
          "model_module_version": "1.5.0",
          "model_name": "HBoxModel",
          "state": {
            "_dom_classes": [],
            "_model_module": "@jupyter-widgets/controls",
            "_model_module_version": "1.5.0",
            "_model_name": "HBoxModel",
            "_view_count": null,
            "_view_module": "@jupyter-widgets/controls",
            "_view_module_version": "1.5.0",
            "_view_name": "HBoxView",
            "box_style": "",
            "children": [
              "IPY_MODEL_be247a59cdf44f38b2c501b33d657cd3",
              "IPY_MODEL_b2bb2dfff0704f8fb425a37356cc2bf9",
              "IPY_MODEL_8e606b6d652f40d29ebc5ec94c69d2a7"
            ],
            "layout": "IPY_MODEL_00d64b71b8de4aa389ab708ddc21f94c"
          }
        },
        "558feb6e7de341e9bfb556cb0c26460e": {
          "model_module": "@jupyter-widgets/controls",
          "model_module_version": "1.5.0",
          "model_name": "DescriptionStyleModel",
          "state": {
            "_model_module": "@jupyter-widgets/controls",
            "_model_module_version": "1.5.0",
            "_model_name": "DescriptionStyleModel",
            "_view_count": null,
            "_view_module": "@jupyter-widgets/base",
            "_view_module_version": "1.2.0",
            "_view_name": "StyleView",
            "description_width": ""
          }
        },
        "5ec6bac660b44a77a6ec2ad8999fdb78": {
          "model_module": "@jupyter-widgets/base",
          "model_module_version": "1.2.0",
          "model_name": "LayoutModel",
          "state": {
            "_model_module": "@jupyter-widgets/base",
            "_model_module_version": "1.2.0",
            "_model_name": "LayoutModel",
            "_view_count": null,
            "_view_module": "@jupyter-widgets/base",
            "_view_module_version": "1.2.0",
            "_view_name": "LayoutView",
            "align_content": null,
            "align_items": null,
            "align_self": null,
            "border": null,
            "bottom": null,
            "display": null,
            "flex": null,
            "flex_flow": null,
            "grid_area": null,
            "grid_auto_columns": null,
            "grid_auto_flow": null,
            "grid_auto_rows": null,
            "grid_column": null,
            "grid_gap": null,
            "grid_row": null,
            "grid_template_areas": null,
            "grid_template_columns": null,
            "grid_template_rows": null,
            "height": null,
            "justify_content": null,
            "justify_items": null,
            "left": null,
            "margin": null,
            "max_height": null,
            "max_width": null,
            "min_height": null,
            "min_width": null,
            "object_fit": null,
            "object_position": null,
            "order": null,
            "overflow": null,
            "overflow_x": null,
            "overflow_y": null,
            "padding": null,
            "right": null,
            "top": null,
            "visibility": null,
            "width": null
          }
        },
        "60a3dd43beb544d0ba56aa60337541d5": {
          "model_module": "@jupyter-widgets/base",
          "model_module_version": "1.2.0",
          "model_name": "LayoutModel",
          "state": {
            "_model_module": "@jupyter-widgets/base",
            "_model_module_version": "1.2.0",
            "_model_name": "LayoutModel",
            "_view_count": null,
            "_view_module": "@jupyter-widgets/base",
            "_view_module_version": "1.2.0",
            "_view_name": "LayoutView",
            "align_content": null,
            "align_items": null,
            "align_self": null,
            "border": null,
            "bottom": null,
            "display": null,
            "flex": null,
            "flex_flow": null,
            "grid_area": null,
            "grid_auto_columns": null,
            "grid_auto_flow": null,
            "grid_auto_rows": null,
            "grid_column": null,
            "grid_gap": null,
            "grid_row": null,
            "grid_template_areas": null,
            "grid_template_columns": null,
            "grid_template_rows": null,
            "height": null,
            "justify_content": null,
            "justify_items": null,
            "left": null,
            "margin": null,
            "max_height": null,
            "max_width": null,
            "min_height": null,
            "min_width": null,
            "object_fit": null,
            "object_position": null,
            "order": null,
            "overflow": null,
            "overflow_x": null,
            "overflow_y": null,
            "padding": null,
            "right": null,
            "top": null,
            "visibility": null,
            "width": null
          }
        },
        "6a8dd310fc644f85a9c62e48eaeae7a6": {
          "model_module": "@jupyter-widgets/controls",
          "model_module_version": "1.5.0",
          "model_name": "HTMLModel",
          "state": {
            "_dom_classes": [],
            "_model_module": "@jupyter-widgets/controls",
            "_model_module_version": "1.5.0",
            "_model_name": "HTMLModel",
            "_view_count": null,
            "_view_module": "@jupyter-widgets/controls",
            "_view_module_version": "1.5.0",
            "_view_name": "HTMLView",
            "description": "",
            "description_tooltip": null,
            "layout": "IPY_MODEL_b215a90647514e08911d30efdbd13cf2",
            "placeholder": "​",
            "style": "IPY_MODEL_70cfe9c9f5684b8289c432dba16f9b87",
            "value": " 7.03M/7.03M [00:00&lt;00:00, 13.7MB/s]"
          }
        },
        "6b1c59906c774c8ea97ab973a7717162": {
          "model_module": "@jupyter-widgets/controls",
          "model_module_version": "1.5.0",
          "model_name": "HBoxModel",
          "state": {
            "_dom_classes": [],
            "_model_module": "@jupyter-widgets/controls",
            "_model_module_version": "1.5.0",
            "_model_name": "HBoxModel",
            "_view_count": null,
            "_view_module": "@jupyter-widgets/controls",
            "_view_module_version": "1.5.0",
            "_view_name": "HBoxView",
            "box_style": "",
            "children": [
              "IPY_MODEL_b3ce3f36e2ec4e378f5fab024f2eb32c",
              "IPY_MODEL_e308d6f202ff4da9801d17d5b5190561",
              "IPY_MODEL_93d6efb4284544aab6ea9c804f53135f"
            ],
            "layout": "IPY_MODEL_eae633fcef6245df8177a15b7180d526"
          }
        },
        "6b9419c1cb8542fd9b069b3210d3e9aa": {
          "model_module": "@jupyter-widgets/controls",
          "model_module_version": "1.5.0",
          "model_name": "HBoxModel",
          "state": {
            "_dom_classes": [],
            "_model_module": "@jupyter-widgets/controls",
            "_model_module_version": "1.5.0",
            "_model_name": "HBoxModel",
            "_view_count": null,
            "_view_module": "@jupyter-widgets/controls",
            "_view_module_version": "1.5.0",
            "_view_name": "HBoxView",
            "box_style": "",
            "children": [
              "IPY_MODEL_7a766fd2c0bd4562a9ee66a04e8dd1ee",
              "IPY_MODEL_08066e0c56fe4a1eb3c7d695a09bf87c",
              "IPY_MODEL_0045812b85d74d90bb8862263db2a2e3"
            ],
            "layout": "IPY_MODEL_c53b6b8b5d984892b2ec5b1b76ab1214"
          }
        },
        "6fc67dd7cf3140b686930cdb37e58da8": {
          "model_module": "@jupyter-widgets/controls",
          "model_module_version": "1.5.0",
          "model_name": "DescriptionStyleModel",
          "state": {
            "_model_module": "@jupyter-widgets/controls",
            "_model_module_version": "1.5.0",
            "_model_name": "DescriptionStyleModel",
            "_view_count": null,
            "_view_module": "@jupyter-widgets/base",
            "_view_module_version": "1.2.0",
            "_view_name": "StyleView",
            "description_width": ""
          }
        },
        "70cfe9c9f5684b8289c432dba16f9b87": {
          "model_module": "@jupyter-widgets/controls",
          "model_module_version": "1.5.0",
          "model_name": "DescriptionStyleModel",
          "state": {
            "_model_module": "@jupyter-widgets/controls",
            "_model_module_version": "1.5.0",
            "_model_name": "DescriptionStyleModel",
            "_view_count": null,
            "_view_module": "@jupyter-widgets/base",
            "_view_module_version": "1.2.0",
            "_view_name": "StyleView",
            "description_width": ""
          }
        },
        "721cbbe8ec7e43279d2d74f35426fde1": {
          "model_module": "@jupyter-widgets/base",
          "model_module_version": "1.2.0",
          "model_name": "LayoutModel",
          "state": {
            "_model_module": "@jupyter-widgets/base",
            "_model_module_version": "1.2.0",
            "_model_name": "LayoutModel",
            "_view_count": null,
            "_view_module": "@jupyter-widgets/base",
            "_view_module_version": "1.2.0",
            "_view_name": "LayoutView",
            "align_content": null,
            "align_items": null,
            "align_self": null,
            "border": null,
            "bottom": null,
            "display": null,
            "flex": null,
            "flex_flow": null,
            "grid_area": null,
            "grid_auto_columns": null,
            "grid_auto_flow": null,
            "grid_auto_rows": null,
            "grid_column": null,
            "grid_gap": null,
            "grid_row": null,
            "grid_template_areas": null,
            "grid_template_columns": null,
            "grid_template_rows": null,
            "height": null,
            "justify_content": null,
            "justify_items": null,
            "left": null,
            "margin": null,
            "max_height": null,
            "max_width": null,
            "min_height": null,
            "min_width": null,
            "object_fit": null,
            "object_position": null,
            "order": null,
            "overflow": null,
            "overflow_x": null,
            "overflow_y": null,
            "padding": null,
            "right": null,
            "top": null,
            "visibility": null,
            "width": null
          }
        },
        "751bc5de15914eaa8595c0bbdfc40e3d": {
          "model_module": "@jupyter-widgets/base",
          "model_module_version": "1.2.0",
          "model_name": "LayoutModel",
          "state": {
            "_model_module": "@jupyter-widgets/base",
            "_model_module_version": "1.2.0",
            "_model_name": "LayoutModel",
            "_view_count": null,
            "_view_module": "@jupyter-widgets/base",
            "_view_module_version": "1.2.0",
            "_view_name": "LayoutView",
            "align_content": null,
            "align_items": null,
            "align_self": null,
            "border": null,
            "bottom": null,
            "display": null,
            "flex": null,
            "flex_flow": null,
            "grid_area": null,
            "grid_auto_columns": null,
            "grid_auto_flow": null,
            "grid_auto_rows": null,
            "grid_column": null,
            "grid_gap": null,
            "grid_row": null,
            "grid_template_areas": null,
            "grid_template_columns": null,
            "grid_template_rows": null,
            "height": null,
            "justify_content": null,
            "justify_items": null,
            "left": null,
            "margin": null,
            "max_height": null,
            "max_width": null,
            "min_height": null,
            "min_width": null,
            "object_fit": null,
            "object_position": null,
            "order": null,
            "overflow": null,
            "overflow_x": null,
            "overflow_y": null,
            "padding": null,
            "right": null,
            "top": null,
            "visibility": null,
            "width": null
          }
        },
        "77576c20530149889f14f370d27c865f": {
          "model_module": "@jupyter-widgets/controls",
          "model_module_version": "1.5.0",
          "model_name": "ProgressStyleModel",
          "state": {
            "_model_module": "@jupyter-widgets/controls",
            "_model_module_version": "1.5.0",
            "_model_name": "ProgressStyleModel",
            "_view_count": null,
            "_view_module": "@jupyter-widgets/base",
            "_view_module_version": "1.2.0",
            "_view_name": "StyleView",
            "bar_color": null,
            "description_width": ""
          }
        },
        "7a766fd2c0bd4562a9ee66a04e8dd1ee": {
          "model_module": "@jupyter-widgets/controls",
          "model_module_version": "1.5.0",
          "model_name": "HTMLModel",
          "state": {
            "_dom_classes": [],
            "_model_module": "@jupyter-widgets/controls",
            "_model_module_version": "1.5.0",
            "_model_name": "HTMLModel",
            "_view_count": null,
            "_view_module": "@jupyter-widgets/controls",
            "_view_module_version": "1.5.0",
            "_view_name": "HTMLView",
            "description": "",
            "description_tooltip": null,
            "layout": "IPY_MODEL_39124a388be24355a0622fa68935a4cb",
            "placeholder": "​",
            "style": "IPY_MODEL_ae460e49f40042dba6ab960e5a248b42",
            "value": "special_tokens_map.json: 100%"
          }
        },
        "7a99bbda72494559a29071929db19ae5": {
          "model_module": "@jupyter-widgets/controls",
          "model_module_version": "1.5.0",
          "model_name": "DescriptionStyleModel",
          "state": {
            "_model_module": "@jupyter-widgets/controls",
            "_model_module_version": "1.5.0",
            "_model_name": "DescriptionStyleModel",
            "_view_count": null,
            "_view_module": "@jupyter-widgets/base",
            "_view_module_version": "1.2.0",
            "_view_name": "StyleView",
            "description_width": ""
          }
        },
        "7e7a941479004e2cb954de21958392ca": {
          "model_module": "@jupyter-widgets/controls",
          "model_module_version": "1.5.0",
          "model_name": "HTMLModel",
          "state": {
            "_dom_classes": [],
            "_model_module": "@jupyter-widgets/controls",
            "_model_module_version": "1.5.0",
            "_model_name": "HTMLModel",
            "_view_count": null,
            "_view_module": "@jupyter-widgets/controls",
            "_view_module_version": "1.5.0",
            "_view_name": "HTMLView",
            "description": "",
            "description_tooltip": null,
            "layout": "IPY_MODEL_e22a5e44d3e248abb7460182eeee392e",
            "placeholder": "​",
            "style": "IPY_MODEL_275e44bf87dd4752b3914b0d9bdf344c",
            "value": "model.safetensors: 100%"
          }
        },
        "84c291ccb40947759ff9169b169b0914": {
          "model_module": "@jupyter-widgets/controls",
          "model_module_version": "1.5.0",
          "model_name": "DescriptionStyleModel",
          "state": {
            "_model_module": "@jupyter-widgets/controls",
            "_model_module_version": "1.5.0",
            "_model_name": "DescriptionStyleModel",
            "_view_count": null,
            "_view_module": "@jupyter-widgets/base",
            "_view_module_version": "1.2.0",
            "_view_name": "StyleView",
            "description_width": ""
          }
        },
        "88df4a5a45364049bd5132cb486d8070": {
          "model_module": "@jupyter-widgets/controls",
          "model_module_version": "1.5.0",
          "model_name": "DescriptionStyleModel",
          "state": {
            "_model_module": "@jupyter-widgets/controls",
            "_model_module_version": "1.5.0",
            "_model_name": "DescriptionStyleModel",
            "_view_count": null,
            "_view_module": "@jupyter-widgets/base",
            "_view_module_version": "1.2.0",
            "_view_name": "StyleView",
            "description_width": ""
          }
        },
        "89405c36ac6246a9bbfc97aeecfa812e": {
          "model_module": "@jupyter-widgets/controls",
          "model_module_version": "1.5.0",
          "model_name": "HBoxModel",
          "state": {
            "_dom_classes": [],
            "_model_module": "@jupyter-widgets/controls",
            "_model_module_version": "1.5.0",
            "_model_name": "HBoxModel",
            "_view_count": null,
            "_view_module": "@jupyter-widgets/controls",
            "_view_module_version": "1.5.0",
            "_view_name": "HBoxView",
            "box_style": "",
            "children": [
              "IPY_MODEL_4455b30de3814473a6d6a801d0c8a67d",
              "IPY_MODEL_98c7b51b57af4a5a8c8da2ef283688f1",
              "IPY_MODEL_6a8dd310fc644f85a9c62e48eaeae7a6"
            ],
            "layout": "IPY_MODEL_09e0355244fd4d54ac09809cd37183f2"
          }
        },
        "8a12304db3ad4912b18d672787f605c1": {
          "model_module": "@jupyter-widgets/controls",
          "model_module_version": "1.5.0",
          "model_name": "HTMLModel",
          "state": {
            "_dom_classes": [],
            "_model_module": "@jupyter-widgets/controls",
            "_model_module_version": "1.5.0",
            "_model_name": "HTMLModel",
            "_view_count": null,
            "_view_module": "@jupyter-widgets/controls",
            "_view_module_version": "1.5.0",
            "_view_name": "HTMLView",
            "description": "",
            "description_tooltip": null,
            "layout": "IPY_MODEL_1955da0dc291443fb7e4f2b06da3e14d",
            "placeholder": "​",
            "style": "IPY_MODEL_88df4a5a45364049bd5132cb486d8070",
            "value": " 2/2 [00:11&lt;00:00,  4.66s/it]"
          }
        },
        "8e606b6d652f40d29ebc5ec94c69d2a7": {
          "model_module": "@jupyter-widgets/controls",
          "model_module_version": "1.5.0",
          "model_name": "HTMLModel",
          "state": {
            "_dom_classes": [],
            "_model_module": "@jupyter-widgets/controls",
            "_model_module_version": "1.5.0",
            "_model_name": "HTMLModel",
            "_view_count": null,
            "_view_module": "@jupyter-widgets/controls",
            "_view_module_version": "1.5.0",
            "_view_name": "HTMLView",
            "description": "",
            "description_tooltip": null,
            "layout": "IPY_MODEL_5ec6bac660b44a77a6ec2ad8999fdb78",
            "placeholder": "​",
            "style": "IPY_MODEL_c74ea3a6f5b640ca826cf93f8ff3a2a8",
            "value": " 2.78M/2.78M [00:00&lt;00:00, 6.82MB/s]"
          }
        },
        "93d6efb4284544aab6ea9c804f53135f": {
          "model_module": "@jupyter-widgets/controls",
          "model_module_version": "1.5.0",
          "model_name": "HTMLModel",
          "state": {
            "_dom_classes": [],
            "_model_module": "@jupyter-widgets/controls",
            "_model_module_version": "1.5.0",
            "_model_name": "HTMLModel",
            "_view_count": null,
            "_view_module": "@jupyter-widgets/controls",
            "_view_module_version": "1.5.0",
            "_view_name": "HTMLView",
            "description": "",
            "description_tooltip": null,
            "layout": "IPY_MODEL_cab8914cd8f94aa98baeb6edf2944587",
            "placeholder": "​",
            "style": "IPY_MODEL_4f5f7dcd7a614ab0b780f68125b2a546",
            "value": " 1.67M/1.67M [00:00&lt;00:00, 5.10MB/s]"
          }
        },
        "944e2f8db9d0473b8647e6e110bc70e2": {
          "model_module": "@jupyter-widgets/controls",
          "model_module_version": "1.5.0",
          "model_name": "FloatProgressModel",
          "state": {
            "_dom_classes": [],
            "_model_module": "@jupyter-widgets/controls",
            "_model_module_version": "1.5.0",
            "_model_name": "FloatProgressModel",
            "_view_count": null,
            "_view_module": "@jupyter-widgets/controls",
            "_view_module_version": "1.5.0",
            "_view_name": "ProgressView",
            "bar_style": "success",
            "description": "",
            "description_tooltip": null,
            "layout": "IPY_MODEL_1f12c4076a9b4fec9ea97db924291818",
            "max": 1976161736,
            "min": 0,
            "orientation": "horizontal",
            "style": "IPY_MODEL_fec41819fa234aa5ab5895fe8da1a027",
            "value": 1976161736
          }
        },
        "98c7b51b57af4a5a8c8da2ef283688f1": {
          "model_module": "@jupyter-widgets/controls",
          "model_module_version": "1.5.0",
          "model_name": "FloatProgressModel",
          "state": {
            "_dom_classes": [],
            "_model_module": "@jupyter-widgets/controls",
            "_model_module_version": "1.5.0",
            "_model_name": "FloatProgressModel",
            "_view_count": null,
            "_view_module": "@jupyter-widgets/controls",
            "_view_module_version": "1.5.0",
            "_view_name": "ProgressView",
            "bar_style": "success",
            "description": "",
            "description_tooltip": null,
            "layout": "IPY_MODEL_457dd347d39343d295db89371bc0d9df",
            "max": 7028554,
            "min": 0,
            "orientation": "horizontal",
            "style": "IPY_MODEL_fe7de908414f41f2a87c36d3f5cd97a4",
            "value": 7028554
          }
        },
        "9cc08cec93b84fdcb5563fd50e21a3f4": {
          "model_module": "@jupyter-widgets/base",
          "model_module_version": "1.2.0",
          "model_name": "LayoutModel",
          "state": {
            "_model_module": "@jupyter-widgets/base",
            "_model_module_version": "1.2.0",
            "_model_name": "LayoutModel",
            "_view_count": null,
            "_view_module": "@jupyter-widgets/base",
            "_view_module_version": "1.2.0",
            "_view_name": "LayoutView",
            "align_content": null,
            "align_items": null,
            "align_self": null,
            "border": null,
            "bottom": null,
            "display": null,
            "flex": null,
            "flex_flow": null,
            "grid_area": null,
            "grid_auto_columns": null,
            "grid_auto_flow": null,
            "grid_auto_rows": null,
            "grid_column": null,
            "grid_gap": null,
            "grid_row": null,
            "grid_template_areas": null,
            "grid_template_columns": null,
            "grid_template_rows": null,
            "height": null,
            "justify_content": null,
            "justify_items": null,
            "left": null,
            "margin": null,
            "max_height": null,
            "max_width": null,
            "min_height": null,
            "min_width": null,
            "object_fit": null,
            "object_position": null,
            "order": null,
            "overflow": null,
            "overflow_x": null,
            "overflow_y": null,
            "padding": null,
            "right": null,
            "top": null,
            "visibility": null,
            "width": null
          }
        },
        "9f7afe907d9740a9976be983d3827a21": {
          "model_module": "@jupyter-widgets/base",
          "model_module_version": "1.2.0",
          "model_name": "LayoutModel",
          "state": {
            "_model_module": "@jupyter-widgets/base",
            "_model_module_version": "1.2.0",
            "_model_name": "LayoutModel",
            "_view_count": null,
            "_view_module": "@jupyter-widgets/base",
            "_view_module_version": "1.2.0",
            "_view_name": "LayoutView",
            "align_content": null,
            "align_items": null,
            "align_self": null,
            "border": null,
            "bottom": null,
            "display": null,
            "flex": null,
            "flex_flow": null,
            "grid_area": null,
            "grid_auto_columns": null,
            "grid_auto_flow": null,
            "grid_auto_rows": null,
            "grid_column": null,
            "grid_gap": null,
            "grid_row": null,
            "grid_template_areas": null,
            "grid_template_columns": null,
            "grid_template_rows": null,
            "height": null,
            "justify_content": null,
            "justify_items": null,
            "left": null,
            "margin": null,
            "max_height": null,
            "max_width": null,
            "min_height": null,
            "min_width": null,
            "object_fit": null,
            "object_position": null,
            "order": null,
            "overflow": null,
            "overflow_x": null,
            "overflow_y": null,
            "padding": null,
            "right": null,
            "top": null,
            "visibility": null,
            "width": null
          }
        },
        "a0149d1cbcee45d39e75fe5ad002c2c8": {
          "model_module": "@jupyter-widgets/base",
          "model_module_version": "1.2.0",
          "model_name": "LayoutModel",
          "state": {
            "_model_module": "@jupyter-widgets/base",
            "_model_module_version": "1.2.0",
            "_model_name": "LayoutModel",
            "_view_count": null,
            "_view_module": "@jupyter-widgets/base",
            "_view_module_version": "1.2.0",
            "_view_name": "LayoutView",
            "align_content": null,
            "align_items": null,
            "align_self": null,
            "border": null,
            "bottom": null,
            "display": null,
            "flex": null,
            "flex_flow": null,
            "grid_area": null,
            "grid_auto_columns": null,
            "grid_auto_flow": null,
            "grid_auto_rows": null,
            "grid_column": null,
            "grid_gap": null,
            "grid_row": null,
            "grid_template_areas": null,
            "grid_template_columns": null,
            "grid_template_rows": null,
            "height": null,
            "justify_content": null,
            "justify_items": null,
            "left": null,
            "margin": null,
            "max_height": null,
            "max_width": null,
            "min_height": null,
            "min_width": null,
            "object_fit": null,
            "object_position": null,
            "order": null,
            "overflow": null,
            "overflow_x": null,
            "overflow_y": null,
            "padding": null,
            "right": null,
            "top": null,
            "visibility": null,
            "width": null
          }
        },
        "a30186691bba48a69341e7d127f9229a": {
          "model_module": "@jupyter-widgets/controls",
          "model_module_version": "1.5.0",
          "model_name": "DescriptionStyleModel",
          "state": {
            "_model_module": "@jupyter-widgets/controls",
            "_model_module_version": "1.5.0",
            "_model_name": "DescriptionStyleModel",
            "_view_count": null,
            "_view_module": "@jupyter-widgets/base",
            "_view_module_version": "1.2.0",
            "_view_name": "StyleView",
            "description_width": ""
          }
        },
        "ae460e49f40042dba6ab960e5a248b42": {
          "model_module": "@jupyter-widgets/controls",
          "model_module_version": "1.5.0",
          "model_name": "DescriptionStyleModel",
          "state": {
            "_model_module": "@jupyter-widgets/controls",
            "_model_module_version": "1.5.0",
            "_model_name": "DescriptionStyleModel",
            "_view_count": null,
            "_view_module": "@jupyter-widgets/base",
            "_view_module_version": "1.2.0",
            "_view_name": "StyleView",
            "description_width": ""
          }
        },
        "af7599d3e6d4441180bb7cd0fc4c5a4f": {
          "model_module": "@jupyter-widgets/base",
          "model_module_version": "1.2.0",
          "model_name": "LayoutModel",
          "state": {
            "_model_module": "@jupyter-widgets/base",
            "_model_module_version": "1.2.0",
            "_model_name": "LayoutModel",
            "_view_count": null,
            "_view_module": "@jupyter-widgets/base",
            "_view_module_version": "1.2.0",
            "_view_name": "LayoutView",
            "align_content": null,
            "align_items": null,
            "align_self": null,
            "border": null,
            "bottom": null,
            "display": null,
            "flex": null,
            "flex_flow": null,
            "grid_area": null,
            "grid_auto_columns": null,
            "grid_auto_flow": null,
            "grid_auto_rows": null,
            "grid_column": null,
            "grid_gap": null,
            "grid_row": null,
            "grid_template_areas": null,
            "grid_template_columns": null,
            "grid_template_rows": null,
            "height": null,
            "justify_content": null,
            "justify_items": null,
            "left": null,
            "margin": null,
            "max_height": null,
            "max_width": null,
            "min_height": null,
            "min_width": null,
            "object_fit": null,
            "object_position": null,
            "order": null,
            "overflow": null,
            "overflow_x": null,
            "overflow_y": null,
            "padding": null,
            "right": null,
            "top": null,
            "visibility": null,
            "width": null
          }
        },
        "b215a90647514e08911d30efdbd13cf2": {
          "model_module": "@jupyter-widgets/base",
          "model_module_version": "1.2.0",
          "model_name": "LayoutModel",
          "state": {
            "_model_module": "@jupyter-widgets/base",
            "_model_module_version": "1.2.0",
            "_model_name": "LayoutModel",
            "_view_count": null,
            "_view_module": "@jupyter-widgets/base",
            "_view_module_version": "1.2.0",
            "_view_name": "LayoutView",
            "align_content": null,
            "align_items": null,
            "align_self": null,
            "border": null,
            "bottom": null,
            "display": null,
            "flex": null,
            "flex_flow": null,
            "grid_area": null,
            "grid_auto_columns": null,
            "grid_auto_flow": null,
            "grid_auto_rows": null,
            "grid_column": null,
            "grid_gap": null,
            "grid_row": null,
            "grid_template_areas": null,
            "grid_template_columns": null,
            "grid_template_rows": null,
            "height": null,
            "justify_content": null,
            "justify_items": null,
            "left": null,
            "margin": null,
            "max_height": null,
            "max_width": null,
            "min_height": null,
            "min_width": null,
            "object_fit": null,
            "object_position": null,
            "order": null,
            "overflow": null,
            "overflow_x": null,
            "overflow_y": null,
            "padding": null,
            "right": null,
            "top": null,
            "visibility": null,
            "width": null
          }
        },
        "b2bb2dfff0704f8fb425a37356cc2bf9": {
          "model_module": "@jupyter-widgets/controls",
          "model_module_version": "1.5.0",
          "model_name": "FloatProgressModel",
          "state": {
            "_dom_classes": [],
            "_model_module": "@jupyter-widgets/controls",
            "_model_module_version": "1.5.0",
            "_model_name": "FloatProgressModel",
            "_view_count": null,
            "_view_module": "@jupyter-widgets/controls",
            "_view_module_version": "1.5.0",
            "_view_name": "ProgressView",
            "bar_style": "success",
            "description": "",
            "description_tooltip": null,
            "layout": "IPY_MODEL_f650117f342b47d79508957cb7b76d56",
            "max": 2776833,
            "min": 0,
            "orientation": "horizontal",
            "style": "IPY_MODEL_f1ea5429067c486a8bcf3b80ae1048c7",
            "value": 2776833
          }
        },
        "b3b8fa02607248ad8b7c6972db40bd9a": {
          "model_module": "@jupyter-widgets/controls",
          "model_module_version": "1.5.0",
          "model_name": "HBoxModel",
          "state": {
            "_dom_classes": [],
            "_model_module": "@jupyter-widgets/controls",
            "_model_module_version": "1.5.0",
            "_model_name": "HBoxModel",
            "_view_count": null,
            "_view_module": "@jupyter-widgets/controls",
            "_view_module_version": "1.5.0",
            "_view_name": "HBoxView",
            "box_style": "",
            "children": [
              "IPY_MODEL_0e347442ddf64c8faaf58152a0e8e961",
              "IPY_MODEL_f2c5da9fa10040f09d958f36c2f3dcf7",
              "IPY_MODEL_dc2a30886f5b4253a460dc7e670d9ec1"
            ],
            "layout": "IPY_MODEL_239320641281479b9d612b374c346ae6"
          }
        },
        "b3ce3f36e2ec4e378f5fab024f2eb32c": {
          "model_module": "@jupyter-widgets/controls",
          "model_module_version": "1.5.0",
          "model_name": "HTMLModel",
          "state": {
            "_dom_classes": [],
            "_model_module": "@jupyter-widgets/controls",
            "_model_module_version": "1.5.0",
            "_model_name": "HTMLModel",
            "_view_count": null,
            "_view_module": "@jupyter-widgets/controls",
            "_view_module_version": "1.5.0",
            "_view_name": "HTMLView",
            "description": "",
            "description_tooltip": null,
            "layout": "IPY_MODEL_df5b316025c648a385fb953608f4c380",
            "placeholder": "​",
            "style": "IPY_MODEL_84c291ccb40947759ff9169b169b0914",
            "value": "merges.txt: 100%"
          }
        },
        "b52a6501e6004ce2b33848f2bb3e81bf": {
          "model_module": "@jupyter-widgets/base",
          "model_module_version": "1.2.0",
          "model_name": "LayoutModel",
          "state": {
            "_model_module": "@jupyter-widgets/base",
            "_model_module_version": "1.2.0",
            "_model_name": "LayoutModel",
            "_view_count": null,
            "_view_module": "@jupyter-widgets/base",
            "_view_module_version": "1.2.0",
            "_view_name": "LayoutView",
            "align_content": null,
            "align_items": null,
            "align_self": null,
            "border": null,
            "bottom": null,
            "display": null,
            "flex": null,
            "flex_flow": null,
            "grid_area": null,
            "grid_auto_columns": null,
            "grid_auto_flow": null,
            "grid_auto_rows": null,
            "grid_column": null,
            "grid_gap": null,
            "grid_row": null,
            "grid_template_areas": null,
            "grid_template_columns": null,
            "grid_template_rows": null,
            "height": null,
            "justify_content": null,
            "justify_items": null,
            "left": null,
            "margin": null,
            "max_height": null,
            "max_width": null,
            "min_height": null,
            "min_width": null,
            "object_fit": null,
            "object_position": null,
            "order": null,
            "overflow": null,
            "overflow_x": null,
            "overflow_y": null,
            "padding": null,
            "right": null,
            "top": null,
            "visibility": null,
            "width": null
          }
        },
        "b6b0445f2e0b47b9b0aec8629930e711": {
          "model_module": "@jupyter-widgets/controls",
          "model_module_version": "1.5.0",
          "model_name": "HTMLModel",
          "state": {
            "_dom_classes": [],
            "_model_module": "@jupyter-widgets/controls",
            "_model_module_version": "1.5.0",
            "_model_name": "HTMLModel",
            "_view_count": null,
            "_view_module": "@jupyter-widgets/controls",
            "_view_module_version": "1.5.0",
            "_view_name": "HTMLView",
            "description": "",
            "description_tooltip": null,
            "layout": "IPY_MODEL_60a3dd43beb544d0ba56aa60337541d5",
            "placeholder": "​",
            "style": "IPY_MODEL_a30186691bba48a69341e7d127f9229a",
            "value": " 655/655 [00:00&lt;00:00, 39.6kB/s]"
          }
        },
        "be1ba64b192b4a24bc6cf29e17701ece": {
          "model_module": "@jupyter-widgets/controls",
          "model_module_version": "1.5.0",
          "model_name": "HTMLModel",
          "state": {
            "_dom_classes": [],
            "_model_module": "@jupyter-widgets/controls",
            "_model_module_version": "1.5.0",
            "_model_name": "HTMLModel",
            "_view_count": null,
            "_view_module": "@jupyter-widgets/controls",
            "_view_module_version": "1.5.0",
            "_view_name": "HTMLView",
            "description": "",
            "description_tooltip": null,
            "layout": "IPY_MODEL_a0149d1cbcee45d39e75fe5ad002c2c8",
            "placeholder": "​",
            "style": "IPY_MODEL_dd433575917646f989670da8a16431c8",
            "value": "tokenizer_config.json: 100%"
          }
        },
        "be247a59cdf44f38b2c501b33d657cd3": {
          "model_module": "@jupyter-widgets/controls",
          "model_module_version": "1.5.0",
          "model_name": "HTMLModel",
          "state": {
            "_dom_classes": [],
            "_model_module": "@jupyter-widgets/controls",
            "_model_module_version": "1.5.0",
            "_model_name": "HTMLModel",
            "_view_count": null,
            "_view_module": "@jupyter-widgets/controls",
            "_view_module_version": "1.5.0",
            "_view_name": "HTMLView",
            "description": "",
            "description_tooltip": null,
            "layout": "IPY_MODEL_0862a56908d646a49aea649e341a1793",
            "placeholder": "​",
            "style": "IPY_MODEL_1e75dfcf604044dba18aaac1827225ca",
            "value": "vocab.json: 100%"
          }
        },
        "bf3a7629a0f148c7976ff79f34342494": {
          "model_module": "@jupyter-widgets/controls",
          "model_module_version": "1.5.0",
          "model_name": "DescriptionStyleModel",
          "state": {
            "_model_module": "@jupyter-widgets/controls",
            "_model_module_version": "1.5.0",
            "_model_name": "DescriptionStyleModel",
            "_view_count": null,
            "_view_module": "@jupyter-widgets/base",
            "_view_module_version": "1.2.0",
            "_view_name": "StyleView",
            "description_width": ""
          }
        },
        "c145433d741c4915a079149e36c497c2": {
          "model_module": "@jupyter-widgets/base",
          "model_module_version": "1.2.0",
          "model_name": "LayoutModel",
          "state": {
            "_model_module": "@jupyter-widgets/base",
            "_model_module_version": "1.2.0",
            "_model_name": "LayoutModel",
            "_view_count": null,
            "_view_module": "@jupyter-widgets/base",
            "_view_module_version": "1.2.0",
            "_view_name": "LayoutView",
            "align_content": null,
            "align_items": null,
            "align_self": null,
            "border": null,
            "bottom": null,
            "display": null,
            "flex": null,
            "flex_flow": null,
            "grid_area": null,
            "grid_auto_columns": null,
            "grid_auto_flow": null,
            "grid_auto_rows": null,
            "grid_column": null,
            "grid_gap": null,
            "grid_row": null,
            "grid_template_areas": null,
            "grid_template_columns": null,
            "grid_template_rows": null,
            "height": null,
            "justify_content": null,
            "justify_items": null,
            "left": null,
            "margin": null,
            "max_height": null,
            "max_width": null,
            "min_height": null,
            "min_width": null,
            "object_fit": null,
            "object_position": null,
            "order": null,
            "overflow": null,
            "overflow_x": null,
            "overflow_y": null,
            "padding": null,
            "right": null,
            "top": null,
            "visibility": null,
            "width": null
          }
        },
        "c53b6b8b5d984892b2ec5b1b76ab1214": {
          "model_module": "@jupyter-widgets/base",
          "model_module_version": "1.2.0",
          "model_name": "LayoutModel",
          "state": {
            "_model_module": "@jupyter-widgets/base",
            "_model_module_version": "1.2.0",
            "_model_name": "LayoutModel",
            "_view_count": null,
            "_view_module": "@jupyter-widgets/base",
            "_view_module_version": "1.2.0",
            "_view_name": "LayoutView",
            "align_content": null,
            "align_items": null,
            "align_self": null,
            "border": null,
            "bottom": null,
            "display": null,
            "flex": null,
            "flex_flow": null,
            "grid_area": null,
            "grid_auto_columns": null,
            "grid_auto_flow": null,
            "grid_auto_rows": null,
            "grid_column": null,
            "grid_gap": null,
            "grid_row": null,
            "grid_template_areas": null,
            "grid_template_columns": null,
            "grid_template_rows": null,
            "height": null,
            "justify_content": null,
            "justify_items": null,
            "left": null,
            "margin": null,
            "max_height": null,
            "max_width": null,
            "min_height": null,
            "min_width": null,
            "object_fit": null,
            "object_position": null,
            "order": null,
            "overflow": null,
            "overflow_x": null,
            "overflow_y": null,
            "padding": null,
            "right": null,
            "top": null,
            "visibility": null,
            "width": null
          }
        },
        "c74ea3a6f5b640ca826cf93f8ff3a2a8": {
          "model_module": "@jupyter-widgets/controls",
          "model_module_version": "1.5.0",
          "model_name": "DescriptionStyleModel",
          "state": {
            "_model_module": "@jupyter-widgets/controls",
            "_model_module_version": "1.5.0",
            "_model_name": "DescriptionStyleModel",
            "_view_count": null,
            "_view_module": "@jupyter-widgets/base",
            "_view_module_version": "1.2.0",
            "_view_name": "StyleView",
            "description_width": ""
          }
        },
        "c7eac2f1bf0146c5a3432924c9d670e3": {
          "model_module": "@jupyter-widgets/controls",
          "model_module_version": "1.5.0",
          "model_name": "DescriptionStyleModel",
          "state": {
            "_model_module": "@jupyter-widgets/controls",
            "_model_module_version": "1.5.0",
            "_model_name": "DescriptionStyleModel",
            "_view_count": null,
            "_view_module": "@jupyter-widgets/base",
            "_view_module_version": "1.2.0",
            "_view_name": "StyleView",
            "description_width": ""
          }
        },
        "c8b73aa0c3de4ef5b0c0776a66d784ac": {
          "model_module": "@jupyter-widgets/base",
          "model_module_version": "1.2.0",
          "model_name": "LayoutModel",
          "state": {
            "_model_module": "@jupyter-widgets/base",
            "_model_module_version": "1.2.0",
            "_model_name": "LayoutModel",
            "_view_count": null,
            "_view_module": "@jupyter-widgets/base",
            "_view_module_version": "1.2.0",
            "_view_name": "LayoutView",
            "align_content": null,
            "align_items": null,
            "align_self": null,
            "border": null,
            "bottom": null,
            "display": null,
            "flex": null,
            "flex_flow": null,
            "grid_area": null,
            "grid_auto_columns": null,
            "grid_auto_flow": null,
            "grid_auto_rows": null,
            "grid_column": null,
            "grid_gap": null,
            "grid_row": null,
            "grid_template_areas": null,
            "grid_template_columns": null,
            "grid_template_rows": null,
            "height": null,
            "justify_content": null,
            "justify_items": null,
            "left": null,
            "margin": null,
            "max_height": null,
            "max_width": null,
            "min_height": null,
            "min_width": null,
            "object_fit": null,
            "object_position": null,
            "order": null,
            "overflow": null,
            "overflow_x": null,
            "overflow_y": null,
            "padding": null,
            "right": null,
            "top": null,
            "visibility": null,
            "width": null
          }
        },
        "c8c1263ee691442193382db3e77984a8": {
          "model_module": "@jupyter-widgets/base",
          "model_module_version": "1.2.0",
          "model_name": "LayoutModel",
          "state": {
            "_model_module": "@jupyter-widgets/base",
            "_model_module_version": "1.2.0",
            "_model_name": "LayoutModel",
            "_view_count": null,
            "_view_module": "@jupyter-widgets/base",
            "_view_module_version": "1.2.0",
            "_view_name": "LayoutView",
            "align_content": null,
            "align_items": null,
            "align_self": null,
            "border": null,
            "bottom": null,
            "display": null,
            "flex": null,
            "flex_flow": null,
            "grid_area": null,
            "grid_auto_columns": null,
            "grid_auto_flow": null,
            "grid_auto_rows": null,
            "grid_column": null,
            "grid_gap": null,
            "grid_row": null,
            "grid_template_areas": null,
            "grid_template_columns": null,
            "grid_template_rows": null,
            "height": null,
            "justify_content": null,
            "justify_items": null,
            "left": null,
            "margin": null,
            "max_height": null,
            "max_width": null,
            "min_height": null,
            "min_width": null,
            "object_fit": null,
            "object_position": null,
            "order": null,
            "overflow": null,
            "overflow_x": null,
            "overflow_y": null,
            "padding": null,
            "right": null,
            "top": null,
            "visibility": null,
            "width": null
          }
        },
        "cab8914cd8f94aa98baeb6edf2944587": {
          "model_module": "@jupyter-widgets/base",
          "model_module_version": "1.2.0",
          "model_name": "LayoutModel",
          "state": {
            "_model_module": "@jupyter-widgets/base",
            "_model_module_version": "1.2.0",
            "_model_name": "LayoutModel",
            "_view_count": null,
            "_view_module": "@jupyter-widgets/base",
            "_view_module_version": "1.2.0",
            "_view_name": "LayoutView",
            "align_content": null,
            "align_items": null,
            "align_self": null,
            "border": null,
            "bottom": null,
            "display": null,
            "flex": null,
            "flex_flow": null,
            "grid_area": null,
            "grid_auto_columns": null,
            "grid_auto_flow": null,
            "grid_auto_rows": null,
            "grid_column": null,
            "grid_gap": null,
            "grid_row": null,
            "grid_template_areas": null,
            "grid_template_columns": null,
            "grid_template_rows": null,
            "height": null,
            "justify_content": null,
            "justify_items": null,
            "left": null,
            "margin": null,
            "max_height": null,
            "max_width": null,
            "min_height": null,
            "min_width": null,
            "object_fit": null,
            "object_position": null,
            "order": null,
            "overflow": null,
            "overflow_x": null,
            "overflow_y": null,
            "padding": null,
            "right": null,
            "top": null,
            "visibility": null,
            "width": null
          }
        },
        "d207e5e2a5fb439ea34eda3e30bd451a": {
          "model_module": "@jupyter-widgets/controls",
          "model_module_version": "1.5.0",
          "model_name": "ProgressStyleModel",
          "state": {
            "_model_module": "@jupyter-widgets/controls",
            "_model_module_version": "1.5.0",
            "_model_name": "ProgressStyleModel",
            "_view_count": null,
            "_view_module": "@jupyter-widgets/base",
            "_view_module_version": "1.2.0",
            "_view_name": "StyleView",
            "bar_color": null,
            "description_width": ""
          }
        },
        "d36300b17cac4d019445474448566c41": {
          "model_module": "@jupyter-widgets/controls",
          "model_module_version": "1.5.0",
          "model_name": "HBoxModel",
          "state": {
            "_dom_classes": [],
            "_model_module": "@jupyter-widgets/controls",
            "_model_module_version": "1.5.0",
            "_model_name": "HBoxModel",
            "_view_count": null,
            "_view_module": "@jupyter-widgets/controls",
            "_view_module_version": "1.5.0",
            "_view_name": "HBoxView",
            "box_style": "",
            "children": [
              "IPY_MODEL_46637b65bd2c445991a80940fd64a78d",
              "IPY_MODEL_0c2abb80145246008f4791e6327e68e5",
              "IPY_MODEL_8a12304db3ad4912b18d672787f605c1"
            ],
            "layout": "IPY_MODEL_c145433d741c4915a079149e36c497c2"
          }
        },
        "dc2a30886f5b4253a460dc7e670d9ec1": {
          "model_module": "@jupyter-widgets/controls",
          "model_module_version": "1.5.0",
          "model_name": "HTMLModel",
          "state": {
            "_dom_classes": [],
            "_model_module": "@jupyter-widgets/controls",
            "_model_module_version": "1.5.0",
            "_model_name": "HTMLModel",
            "_view_count": null,
            "_view_module": "@jupyter-widgets/controls",
            "_view_module_version": "1.5.0",
            "_view_name": "HTMLView",
            "description": "",
            "description_tooltip": null,
            "layout": "IPY_MODEL_751bc5de15914eaa8595c0bbdfc40e3d",
            "placeholder": "​",
            "style": "IPY_MODEL_236e7f22b26843918077a0f4d8af8fce",
            "value": " 80.0/80.0 [00:00&lt;00:00, 1.81kB/s]"
          }
        },
        "dd433575917646f989670da8a16431c8": {
          "model_module": "@jupyter-widgets/controls",
          "model_module_version": "1.5.0",
          "model_name": "DescriptionStyleModel",
          "state": {
            "_model_module": "@jupyter-widgets/controls",
            "_model_module_version": "1.5.0",
            "_model_name": "DescriptionStyleModel",
            "_view_count": null,
            "_view_module": "@jupyter-widgets/base",
            "_view_module_version": "1.2.0",
            "_view_name": "StyleView",
            "description_width": ""
          }
        },
        "df5b316025c648a385fb953608f4c380": {
          "model_module": "@jupyter-widgets/base",
          "model_module_version": "1.2.0",
          "model_name": "LayoutModel",
          "state": {
            "_model_module": "@jupyter-widgets/base",
            "_model_module_version": "1.2.0",
            "_model_name": "LayoutModel",
            "_view_count": null,
            "_view_module": "@jupyter-widgets/base",
            "_view_module_version": "1.2.0",
            "_view_name": "LayoutView",
            "align_content": null,
            "align_items": null,
            "align_self": null,
            "border": null,
            "bottom": null,
            "display": null,
            "flex": null,
            "flex_flow": null,
            "grid_area": null,
            "grid_auto_columns": null,
            "grid_auto_flow": null,
            "grid_auto_rows": null,
            "grid_column": null,
            "grid_gap": null,
            "grid_row": null,
            "grid_template_areas": null,
            "grid_template_columns": null,
            "grid_template_rows": null,
            "height": null,
            "justify_content": null,
            "justify_items": null,
            "left": null,
            "margin": null,
            "max_height": null,
            "max_width": null,
            "min_height": null,
            "min_width": null,
            "object_fit": null,
            "object_position": null,
            "order": null,
            "overflow": null,
            "overflow_x": null,
            "overflow_y": null,
            "padding": null,
            "right": null,
            "top": null,
            "visibility": null,
            "width": null
          }
        },
        "e22a5e44d3e248abb7460182eeee392e": {
          "model_module": "@jupyter-widgets/base",
          "model_module_version": "1.2.0",
          "model_name": "LayoutModel",
          "state": {
            "_model_module": "@jupyter-widgets/base",
            "_model_module_version": "1.2.0",
            "_model_name": "LayoutModel",
            "_view_count": null,
            "_view_module": "@jupyter-widgets/base",
            "_view_module_version": "1.2.0",
            "_view_name": "LayoutView",
            "align_content": null,
            "align_items": null,
            "align_self": null,
            "border": null,
            "bottom": null,
            "display": null,
            "flex": null,
            "flex_flow": null,
            "grid_area": null,
            "grid_auto_columns": null,
            "grid_auto_flow": null,
            "grid_auto_rows": null,
            "grid_column": null,
            "grid_gap": null,
            "grid_row": null,
            "grid_template_areas": null,
            "grid_template_columns": null,
            "grid_template_rows": null,
            "height": null,
            "justify_content": null,
            "justify_items": null,
            "left": null,
            "margin": null,
            "max_height": null,
            "max_width": null,
            "min_height": null,
            "min_width": null,
            "object_fit": null,
            "object_position": null,
            "order": null,
            "overflow": null,
            "overflow_x": null,
            "overflow_y": null,
            "padding": null,
            "right": null,
            "top": null,
            "visibility": null,
            "width": null
          }
        },
        "e308d6f202ff4da9801d17d5b5190561": {
          "model_module": "@jupyter-widgets/controls",
          "model_module_version": "1.5.0",
          "model_name": "FloatProgressModel",
          "state": {
            "_dom_classes": [],
            "_model_module": "@jupyter-widgets/controls",
            "_model_module_version": "1.5.0",
            "_model_name": "FloatProgressModel",
            "_view_count": null,
            "_view_module": "@jupyter-widgets/controls",
            "_view_module_version": "1.5.0",
            "_view_name": "ProgressView",
            "bar_style": "success",
            "description": "",
            "description_tooltip": null,
            "layout": "IPY_MODEL_39840a86d1734a3e82d4fb4492e8d33f",
            "max": 1671853,
            "min": 0,
            "orientation": "horizontal",
            "style": "IPY_MODEL_0ce54fca82e34dcd9c756833a8cd8a1e",
            "value": 1671853
          }
        },
        "e4470db2e4e94c92b1c039b41097820c": {
          "model_module": "@jupyter-widgets/base",
          "model_module_version": "1.2.0",
          "model_name": "LayoutModel",
          "state": {
            "_model_module": "@jupyter-widgets/base",
            "_model_module_version": "1.2.0",
            "_model_name": "LayoutModel",
            "_view_count": null,
            "_view_module": "@jupyter-widgets/base",
            "_view_module_version": "1.2.0",
            "_view_name": "LayoutView",
            "align_content": null,
            "align_items": null,
            "align_self": null,
            "border": null,
            "bottom": null,
            "display": null,
            "flex": null,
            "flex_flow": null,
            "grid_area": null,
            "grid_auto_columns": null,
            "grid_auto_flow": null,
            "grid_auto_rows": null,
            "grid_column": null,
            "grid_gap": null,
            "grid_row": null,
            "grid_template_areas": null,
            "grid_template_columns": null,
            "grid_template_rows": null,
            "height": null,
            "justify_content": null,
            "justify_items": null,
            "left": null,
            "margin": null,
            "max_height": null,
            "max_width": null,
            "min_height": null,
            "min_width": null,
            "object_fit": null,
            "object_position": null,
            "order": null,
            "overflow": null,
            "overflow_x": null,
            "overflow_y": null,
            "padding": null,
            "right": null,
            "top": null,
            "visibility": null,
            "width": null
          }
        },
        "e9d21574b4f54e31aab12c0f1dc32f23": {
          "model_module": "@jupyter-widgets/controls",
          "model_module_version": "1.5.0",
          "model_name": "HTMLModel",
          "state": {
            "_dom_classes": [],
            "_model_module": "@jupyter-widgets/controls",
            "_model_module_version": "1.5.0",
            "_model_name": "HTMLModel",
            "_view_count": null,
            "_view_module": "@jupyter-widgets/controls",
            "_view_module_version": "1.5.0",
            "_view_name": "HTMLView",
            "description": "",
            "description_tooltip": null,
            "layout": "IPY_MODEL_9f7afe907d9740a9976be983d3827a21",
            "placeholder": "​",
            "style": "IPY_MODEL_190260c10fed433c9ae0c485bbc2a25e",
            "value": " 1.98G/1.98G [00:46&lt;00:00, 42.9MB/s]"
          }
        },
        "ea25646736234c5a929daed294f60157": {
          "model_module": "@jupyter-widgets/controls",
          "model_module_version": "1.5.0",
          "model_name": "FloatProgressModel",
          "state": {
            "_dom_classes": [],
            "_model_module": "@jupyter-widgets/controls",
            "_model_module_version": "1.5.0",
            "_model_name": "FloatProgressModel",
            "_view_count": null,
            "_view_module": "@jupyter-widgets/controls",
            "_view_module_version": "1.5.0",
            "_view_name": "ProgressView",
            "bar_style": "success",
            "description": "",
            "description_tooltip": null,
            "layout": "IPY_MODEL_3fcbc8e23bd645379dd03ffadea90221",
            "max": 655,
            "min": 0,
            "orientation": "horizontal",
            "style": "IPY_MODEL_d207e5e2a5fb439ea34eda3e30bd451a",
            "value": 655
          }
        },
        "eae633fcef6245df8177a15b7180d526": {
          "model_module": "@jupyter-widgets/base",
          "model_module_version": "1.2.0",
          "model_name": "LayoutModel",
          "state": {
            "_model_module": "@jupyter-widgets/base",
            "_model_module_version": "1.2.0",
            "_model_name": "LayoutModel",
            "_view_count": null,
            "_view_module": "@jupyter-widgets/base",
            "_view_module_version": "1.2.0",
            "_view_name": "LayoutView",
            "align_content": null,
            "align_items": null,
            "align_self": null,
            "border": null,
            "bottom": null,
            "display": null,
            "flex": null,
            "flex_flow": null,
            "grid_area": null,
            "grid_auto_columns": null,
            "grid_auto_flow": null,
            "grid_auto_rows": null,
            "grid_column": null,
            "grid_gap": null,
            "grid_row": null,
            "grid_template_areas": null,
            "grid_template_columns": null,
            "grid_template_rows": null,
            "height": null,
            "justify_content": null,
            "justify_items": null,
            "left": null,
            "margin": null,
            "max_height": null,
            "max_width": null,
            "min_height": null,
            "min_width": null,
            "object_fit": null,
            "object_position": null,
            "order": null,
            "overflow": null,
            "overflow_x": null,
            "overflow_y": null,
            "padding": null,
            "right": null,
            "top": null,
            "visibility": null,
            "width": null
          }
        },
        "ecf83c047aa2472684c5c1371c32dfb8": {
          "model_module": "@jupyter-widgets/base",
          "model_module_version": "1.2.0",
          "model_name": "LayoutModel",
          "state": {
            "_model_module": "@jupyter-widgets/base",
            "_model_module_version": "1.2.0",
            "_model_name": "LayoutModel",
            "_view_count": null,
            "_view_module": "@jupyter-widgets/base",
            "_view_module_version": "1.2.0",
            "_view_name": "LayoutView",
            "align_content": null,
            "align_items": null,
            "align_self": null,
            "border": null,
            "bottom": null,
            "display": null,
            "flex": null,
            "flex_flow": null,
            "grid_area": null,
            "grid_auto_columns": null,
            "grid_auto_flow": null,
            "grid_auto_rows": null,
            "grid_column": null,
            "grid_gap": null,
            "grid_row": null,
            "grid_template_areas": null,
            "grid_template_columns": null,
            "grid_template_rows": null,
            "height": null,
            "justify_content": null,
            "justify_items": null,
            "left": null,
            "margin": null,
            "max_height": null,
            "max_width": null,
            "min_height": null,
            "min_width": null,
            "object_fit": null,
            "object_position": null,
            "order": null,
            "overflow": null,
            "overflow_x": null,
            "overflow_y": null,
            "padding": null,
            "right": null,
            "top": null,
            "visibility": null,
            "width": null
          }
        },
        "f0a40b5a1449401a95d09dbbc47f19c9": {
          "model_module": "@jupyter-widgets/controls",
          "model_module_version": "1.5.0",
          "model_name": "ProgressStyleModel",
          "state": {
            "_model_module": "@jupyter-widgets/controls",
            "_model_module_version": "1.5.0",
            "_model_name": "ProgressStyleModel",
            "_view_count": null,
            "_view_module": "@jupyter-widgets/base",
            "_view_module_version": "1.2.0",
            "_view_name": "StyleView",
            "bar_color": null,
            "description_width": ""
          }
        },
        "f1adf199691d4af8833032accb6ee5bd": {
          "model_module": "@jupyter-widgets/controls",
          "model_module_version": "1.5.0",
          "model_name": "HTMLModel",
          "state": {
            "_dom_classes": [],
            "_model_module": "@jupyter-widgets/controls",
            "_model_module_version": "1.5.0",
            "_model_name": "HTMLModel",
            "_view_count": null,
            "_view_module": "@jupyter-widgets/controls",
            "_view_module_version": "1.5.0",
            "_view_name": "HTMLView",
            "description": "",
            "description_tooltip": null,
            "layout": "IPY_MODEL_af7599d3e6d4441180bb7cd0fc4c5a4f",
            "placeholder": "​",
            "style": "IPY_MODEL_04ef703346ca4d5f81ea64ba2597b98b",
            "value": " 1.63k/1.63k [00:00&lt;00:00, 37.7kB/s]"
          }
        },
        "f1ea5429067c486a8bcf3b80ae1048c7": {
          "model_module": "@jupyter-widgets/controls",
          "model_module_version": "1.5.0",
          "model_name": "ProgressStyleModel",
          "state": {
            "_model_module": "@jupyter-widgets/controls",
            "_model_module_version": "1.5.0",
            "_model_name": "ProgressStyleModel",
            "_view_count": null,
            "_view_module": "@jupyter-widgets/base",
            "_view_module_version": "1.2.0",
            "_view_name": "StyleView",
            "bar_color": null,
            "description_width": ""
          }
        },
        "f2c5da9fa10040f09d958f36c2f3dcf7": {
          "model_module": "@jupyter-widgets/controls",
          "model_module_version": "1.5.0",
          "model_name": "FloatProgressModel",
          "state": {
            "_dom_classes": [],
            "_model_module": "@jupyter-widgets/controls",
            "_model_module_version": "1.5.0",
            "_model_name": "FloatProgressModel",
            "_view_count": null,
            "_view_module": "@jupyter-widgets/controls",
            "_view_module_version": "1.5.0",
            "_view_name": "ProgressView",
            "bar_style": "success",
            "description": "",
            "description_tooltip": null,
            "layout": "IPY_MODEL_c8b73aa0c3de4ef5b0c0776a66d784ac",
            "max": 80,
            "min": 0,
            "orientation": "horizontal",
            "style": "IPY_MODEL_50f525336bb74741a46df1f033bdac87",
            "value": 80
          }
        },
        "f2eaa275020842bc85bbf5e92ba8a2e0": {
          "model_module": "@jupyter-widgets/controls",
          "model_module_version": "1.5.0",
          "model_name": "HBoxModel",
          "state": {
            "_dom_classes": [],
            "_model_module": "@jupyter-widgets/controls",
            "_model_module_version": "1.5.0",
            "_model_name": "HBoxModel",
            "_view_count": null,
            "_view_module": "@jupyter-widgets/controls",
            "_view_module_version": "1.5.0",
            "_view_name": "HBoxView",
            "box_style": "",
            "children": [
              "IPY_MODEL_7e7a941479004e2cb954de21958392ca",
              "IPY_MODEL_944e2f8db9d0473b8647e6e110bc70e2",
              "IPY_MODEL_e9d21574b4f54e31aab12c0f1dc32f23"
            ],
            "layout": "IPY_MODEL_480ec05b4ef84077900cca9838cba7d7"
          }
        },
        "f650117f342b47d79508957cb7b76d56": {
          "model_module": "@jupyter-widgets/base",
          "model_module_version": "1.2.0",
          "model_name": "LayoutModel",
          "state": {
            "_model_module": "@jupyter-widgets/base",
            "_model_module_version": "1.2.0",
            "_model_name": "LayoutModel",
            "_view_count": null,
            "_view_module": "@jupyter-widgets/base",
            "_view_module_version": "1.2.0",
            "_view_name": "LayoutView",
            "align_content": null,
            "align_items": null,
            "align_self": null,
            "border": null,
            "bottom": null,
            "display": null,
            "flex": null,
            "flex_flow": null,
            "grid_area": null,
            "grid_auto_columns": null,
            "grid_auto_flow": null,
            "grid_auto_rows": null,
            "grid_column": null,
            "grid_gap": null,
            "grid_row": null,
            "grid_template_areas": null,
            "grid_template_columns": null,
            "grid_template_rows": null,
            "height": null,
            "justify_content": null,
            "justify_items": null,
            "left": null,
            "margin": null,
            "max_height": null,
            "max_width": null,
            "min_height": null,
            "min_width": null,
            "object_fit": null,
            "object_position": null,
            "order": null,
            "overflow": null,
            "overflow_x": null,
            "overflow_y": null,
            "padding": null,
            "right": null,
            "top": null,
            "visibility": null,
            "width": null
          }
        },
        "f8d94bfddff44fd7b0846ee306141cf8": {
          "model_module": "@jupyter-widgets/controls",
          "model_module_version": "1.5.0",
          "model_name": "HTMLModel",
          "state": {
            "_dom_classes": [],
            "_model_module": "@jupyter-widgets/controls",
            "_model_module_version": "1.5.0",
            "_model_name": "HTMLModel",
            "_view_count": null,
            "_view_module": "@jupyter-widgets/controls",
            "_view_module_version": "1.5.0",
            "_view_name": "HTMLView",
            "description": "",
            "description_tooltip": null,
            "layout": "IPY_MODEL_9cc08cec93b84fdcb5563fd50e21a3f4",
            "placeholder": "​",
            "style": "IPY_MODEL_bf3a7629a0f148c7976ff79f34342494",
            "value": "config.json: 100%"
          }
        },
        "fa934ab49ae942b1a1a0198890afb07f": {
          "model_module": "@jupyter-widgets/controls",
          "model_module_version": "1.5.0",
          "model_name": "HBoxModel",
          "state": {
            "_dom_classes": [],
            "_model_module": "@jupyter-widgets/controls",
            "_model_module_version": "1.5.0",
            "_model_name": "HBoxModel",
            "_view_count": null,
            "_view_module": "@jupyter-widgets/controls",
            "_view_module_version": "1.5.0",
            "_view_name": "HBoxView",
            "box_style": "",
            "children": [
              "IPY_MODEL_f8d94bfddff44fd7b0846ee306141cf8",
              "IPY_MODEL_ea25646736234c5a929daed294f60157",
              "IPY_MODEL_b6b0445f2e0b47b9b0aec8629930e711"
            ],
            "layout": "IPY_MODEL_2ff54ec5c2ab414c8afb77e0edc10da6"
          }
        },
        "fe7de908414f41f2a87c36d3f5cd97a4": {
          "model_module": "@jupyter-widgets/controls",
          "model_module_version": "1.5.0",
          "model_name": "ProgressStyleModel",
          "state": {
            "_model_module": "@jupyter-widgets/controls",
            "_model_module_version": "1.5.0",
            "_model_name": "ProgressStyleModel",
            "_view_count": null,
            "_view_module": "@jupyter-widgets/base",
            "_view_module_version": "1.2.0",
            "_view_name": "StyleView",
            "bar_color": null,
            "description_width": ""
          }
        },
        "fec41819fa234aa5ab5895fe8da1a027": {
          "model_module": "@jupyter-widgets/controls",
          "model_module_version": "1.5.0",
          "model_name": "ProgressStyleModel",
          "state": {
            "_model_module": "@jupyter-widgets/controls",
            "_model_module_version": "1.5.0",
            "_model_name": "ProgressStyleModel",
            "_view_count": null,
            "_view_module": "@jupyter-widgets/base",
            "_view_module_version": "1.2.0",
            "_view_name": "StyleView",
            "bar_color": null,
            "description_width": ""
          }
        }
      }
    }
  },
  "nbformat": 4,
  "nbformat_minor": 0
}
