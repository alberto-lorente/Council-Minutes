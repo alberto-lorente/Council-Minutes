{
 "cells": [
  {
   "cell_type": "markdown",
   "metadata": {},
   "source": [
    "# Evaluation\n"
   ]
  },
  {
   "cell_type": "code",
   "execution_count": 1,
   "metadata": {},
   "outputs": [],
   "source": [
    "with open(\"HF_TOKEN.txt\", \"r\") as f:\n",
    "    hf_token = f.read()\n",
    "\n",
    "with open(\"GROQ_KEY.txt\", \"r\") as f:\n",
    "    groq_token = f.read()"
   ]
  },
  {
   "cell_type": "code",
   "execution_count": 2,
   "metadata": {},
   "outputs": [
    {
     "name": "stderr",
     "output_type": "stream",
     "text": [
      "c:\\Users\\alber\\AppData\\Local\\Programs\\Python\\Python312\\Lib\\site-packages\\tqdm\\auto.py:21: TqdmWarning: IProgress not found. Please update jupyter and ipywidgets. See https://ipywidgets.readthedocs.io/en/stable/user_install.html\n",
      "  from .autonotebook import tqdm as notebook_tqdm\n"
     ]
    },
    {
     "name": "stdout",
     "output_type": "stream",
     "text": [
      "alberto-lorente\n"
     ]
    }
   ],
   "source": [
    "from huggingface_hub import HfFolder, whoami\n",
    "\n",
    "HfFolder.save_token(hf_token)\n",
    "print(whoami()[\"name\"])"
   ]
  },
  {
   "cell_type": "code",
   "execution_count": 3,
   "metadata": {},
   "outputs": [
    {
     "name": "stdout",
     "output_type": "stream",
     "text": [
      "Cuda available\n"
     ]
    }
   ],
   "source": [
    "import torch\n",
    "\n",
    "device = \"cpu\"\n",
    "if torch.cuda.is_available():\n",
    "    print(\"Cuda available\")\n",
    "    device = torch.device('cuda')"
   ]
  },
  {
   "cell_type": "markdown",
   "metadata": {},
   "source": [
    "### Preparing the Data for Evaluation"
   ]
  },
  {
   "cell_type": "code",
   "execution_count": 4,
   "metadata": {},
   "outputs": [],
   "source": [
    "import os \n",
    "eval_path = r\"Evaluation data\\Solved PDFs\"\n",
    "solved_pdfs_path = os.listdir(eval_path)\n",
    "solved_pdfs_path_pdf_files = [os.path.join(eval_path, pdf) for pdf in solved_pdfs_path if pdf.endswith(\"pdf\")]\n",
    "solved_pdfs_path_txt_files = [os.path.join(eval_path, txt) for txt in solved_pdfs_path if txt.endswith(\"txt\")]"
   ]
  },
  {
   "cell_type": "code",
   "execution_count": 5,
   "metadata": {},
   "outputs": [],
   "source": [
    "list_tuple_data = []\n",
    "i = 0\n",
    "while i < len(solved_pdfs_path_pdf_files):\n",
    "    tup = (solved_pdfs_path_pdf_files[i], solved_pdfs_path_txt_files[i])\n",
    "    list_tuple_data.append(tup)\n",
    "    i += 1"
   ]
  },
  {
   "cell_type": "code",
   "execution_count": 6,
   "metadata": {},
   "outputs": [
    {
     "data": {
      "text/plain": [
       "[('Evaluation data\\\\Solved PDFs\\\\4b7076dc7989552fc75046c32d068eee9122adff_DEL13-1223-Annex.pdf',\n",
       "  'Evaluation data\\\\Solved PDFs\\\\4b7076dc7989552fc75046c32d068eee9122adff_DEL13-1223-Annex.txt'),\n",
       " ('Evaluation data\\\\Solved PDFs\\\\7a3ef5c116cca7f5328c44ef2c3f227f8c90ef60_Zones_Accélérati.pdf',\n",
       "  'Evaluation data\\\\Solved PDFs\\\\7a3ef5c116cca7f5328c44ef2c3f227f8c90ef60_Zones_Accélérati.txt'),\n",
       " ('Evaluation data\\\\Solved PDFs\\\\a7f4c9d0d7c8f3c9cd67b7c80beec26d9c234382_delibs-22-mai-24.pdf',\n",
       "  'Evaluation data\\\\Solved PDFs\\\\a7f4c9d0d7c8f3c9cd67b7c80beec26d9c234382_delibs-22-mai-24.txt'),\n",
       " ('Evaluation data\\\\Solved PDFs\\\\ecc6f_07-12-juillet.pdf',\n",
       "  'Evaluation data\\\\Solved PDFs\\\\ecc6f_07-12-juillet.txt'),\n",
       " ('Evaluation data\\\\Solved PDFs\\\\fa224c7892c9c4971dda6423c75c97a04f6e3666_del2024_22-defin.pdf',\n",
       "  'Evaluation data\\\\Solved PDFs\\\\fa224c7892c9c4971dda6423c75c97a04f6e3666_del2024_22-defin.txt')]"
      ]
     },
     "execution_count": 6,
     "metadata": {},
     "output_type": "execute_result"
    }
   ],
   "source": [
    "list_tuple_data"
   ]
  },
  {
   "cell_type": "markdown",
   "metadata": {},
   "source": [
    "### Loading Prompts"
   ]
  },
  {
   "cell_type": "code",
   "execution_count": 7,
   "metadata": {},
   "outputs": [],
   "source": [
    "import json\n",
    "\n",
    "with open(\"prompts_preprocessing.json\", \"r\") as f:\n",
    "    prompts_for_processing = json.load(f)\n",
    "\n",
    "table_process_prompt = prompts_for_processing[\"augment_table_prompt\"]\n",
    "summary_prompt = prompts_for_processing[\"summary_prompt\"]"
   ]
  },
  {
   "cell_type": "code",
   "execution_count": 8,
   "metadata": {},
   "outputs": [],
   "source": [
    "with open(\"french_prompts.json\", \"r\") as f:\n",
    "    prompts_query = json.load(f)"
   ]
  },
  {
   "cell_type": "markdown",
   "metadata": {},
   "source": [
    "## Loading markdown"
   ]
  },
  {
   "cell_type": "code",
   "execution_count": 9,
   "metadata": {},
   "outputs": [],
   "source": [
    "pdf_path = list_tuple_data[-2][0]\n",
    "markdown_path = list_tuple_data[-2][1]"
   ]
  },
  {
   "cell_type": "code",
   "execution_count": 10,
   "metadata": {},
   "outputs": [
    {
     "data": {
      "text/plain": [
       "'Evaluation data\\\\Solved PDFs\\\\ecc6f_07-12-juillet.pdf'"
      ]
     },
     "execution_count": 10,
     "metadata": {},
     "output_type": "execute_result"
    }
   ],
   "source": [
    "pdf_path"
   ]
  },
  {
   "cell_type": "code",
   "execution_count": 11,
   "metadata": {},
   "outputs": [],
   "source": [
    "with open(markdown_path, \"r\") as f:\n",
    "    markdown = f.read()"
   ]
  },
  {
   "cell_type": "code",
   "execution_count": 12,
   "metadata": {},
   "outputs": [
    {
     "data": {
      "text/plain": [
       "'# Réunion du Conseil Municipal\\n\\n# du 12 juillet 2023\\n\\nLe douze juillet deux mil vingt-trois, à 20 heures, les membres du Conseil Municipal se sont réunis à la mairie de la commune de Coulon sous la présidence de Madame Anne-Sophie GUICHET, Maire.\\n\\nÉtaient présents : Mmes et Mrs Fabrice BERJONNEAU, Juliette DELAVALLE, Angélique DUMOULIN, Dominique GIRET, Julien GUIBERT, Anne-Sophie GUICHET, Isabelle HÉHUNSTRE, Marie LE CHAPELAIN, Virginie LEONARD, Line MARCHÉ, Béatrice MORIN, Mélanie MOUSSION, François SABOURIN.\\n\\nÉtaient absents et excusés Patrick CARTIER (pouvoir à Isabelle HÉHUNSTRE), Vaianu FENUAITI (pouvoir à Anne-Sophie GUICHET), Benoît LALÈRE (pouvoir à Julien GUIBERT), Pascal MORIN, Romain MORIN, Stéphane RICHARD (pouvoir à Dominique GIRET).\\n\\nDate de convocation : 06 juillet 2023\\n\\nSecrétaire de séance : Fabrice BERJONNEAU\\n\\nAucune observation n’étant formulée, le compte rendu de la précédente réunion est approuvé à l’unanimité.\\n\\nAvant d’aborder l’ordre du jour, Mme La Maire rend hommage à Monsieur Bruno DECELLE, agent communal depuis 32 ans décédé brutalement le 09 juillet et présente au nom de tous les conseillers ses plus sincères condoléances à ses enfants, petits-enfants et sa famille.\\n\\n# 1 – FINANCES\\n\\n# 1-1 : Subventions 2023\\n\\n# 1-1-1 : Subventions aux associations\\n\\nAvant d’aborder ce point, Madame la Maire demande à trois conseillers municipaux de quitter la salle, car membres d’une des associations, ils ne prendront pas part au vote.\\n\\nSur proposition de la commission « finances », après délibération et à l’unanimité, le Conseil Municipal décide d’attribuer les subventions suivantes au titre de l’exercice 2023 :\\n\\n|Associations|Montant alloué en 2023|\\n|---|---|\\n|Sport|Sport|\\n|ACCA Coulon|500€|\\n|Football club de la Venise Verte|1200€|\\n|La pétanque coulonnaise|800€|\\n|Taekwondo du Marais|200€|\\n|Cyclo club de la Venise Verte|350€|\\n|Tennis club Magné-Coulon|150€|\\n|Social|Social|\\n|SSIAD Plaine et Gâtine|500€|\\n|Culture-Animation-Tourisme|Culture-Animation-Tourisme|\\n|Les Tégadons|500€|\\n|Comité d’Animation Coulonnais|2 800€|\\n|Les marchés gourmands de la laiterie|750€|\\n|Les marchés de créateurs du Marais|250€|\\n|Rappel d’R|200€|\\n|Tiers lieu « la Maraichinerie »|500€|\\n|Coul’Song|200€|\\n|Divers|Divers|\\n|Association des Parents d’Elèves|1 000€|\\n|Dadou-Badou|150€|\\n|Le Clos de la vigne à Hubert|200€|\\n|Le Germoir|100€|\\n|Les belles palisses|150€|\\n\\n# 1-1-2 : Subvention au CCAS de Coulon\\n\\nMadame la Maire rappelle que chaque année, le budget principal de la commune verse une subvention d’équilibre au CCAS, cette somme étant notamment destinée à subventionner l’ADMR de la Venise Verte sur la base de 1€ par habitant et à allouer des aides financières aux personnes qui en font la demande.\\n\\nSur sa proposition et à l’unanimité, le Conseil municipal décide de reconduire cette mesure et de verser la somme de 5 000€ au CCAS au titre de l’exercice 2023.\\n\\n# 1-2 : Tarifs prestations scolaires – Année 2023/2024\\n\\nDominique GIRET explique que pour tenir compte des conditions économiques actuelles et notamment de l’inflation qui provoque une augmentation importante des prix des denrées alimentaires mais également des fluides (gaz et électricité), la commission « finances » propose au Conseil Municipal d’appliquer une légère augmentation des tarifs de restauration scolaire au titre de l’année 2023/2024, tout en maintenant la politique sociale mise en place depuis plusieurs années qui consiste à ne facturer aux familles que le coût des denrées alimentaires selon leur quotient familial.\\n\\nAprès délibération et à l’unanimité, le Conseil Municipal valide ces propositions de tarifs qui s’appliqueront à compter du 04 septembre 2023 et pour toute l’année scolaire 2023/2024.\\n\\n|Quotient familial|Tranches|Tarifs 2023/2024|\\n|---|---|---|\\n|1|0-550€|2.15€|\\n|2|551€ - 770€|2.55€|\\n|3|771€ - 990€|2.75€|\\n|4|991€ - 1100€|3.05€|\\n|5|1101€ et +|3.50€|\\n|Repas enseignant et agent| |4.30€|\\n|Repas adulte| |5.65€|\\n|Goûter APS| |0.60€|\\n\\n# 1-3 : Festival de peinture 2023 : Attribution d’un prix\\n\\nIsabelle HÉHUNSTRE expose que le festival de peinture de Magné sera de nouveau présent sur la commune de Coulon le vendredi 21 juillet prochain et qu’à cette occasion, l’association organisatrice « Magné Animation » sollicite la commune de Coulon pour l’attribution d’un prix.\\n\\nAprès délibération et à l’unanimité, le Conseil Municipal accepte de reconduire ce principe adopté en 2021 et d’offrir « le prix de la ville de Coulon » d’une valeur de 1 000€. En contrepartie, la commune se verra remettre le tableau de l’artiste primé.\\n\\n# 1-4 : Instauration d’un tarif forfaitaire « télécommande barrières à chaîne » en cas de perte, vol ou casse\\n\\nFabrice BERJONNEAU rappelle que des barrières à chaîne hydraulique sont mises en place au début de la rue de l’église et sur les quais Louis Tardy au niveau de l’hôtel du Marais qui fonctionnement avec une télécommande. Les télécommandes d’accès ont été distribuées gracieusement aux riverains et donc il convient d’instaurer un tarif pour facturer le remplacement des télécommandes en cas de perte ou casse de celles-ci car elles représentent un investissement pour la commune. En cas de vol (sur présentation d’un dépôt de plainte), la télécommande sera remplacée gracieusement.\\n\\nAprès délibération et à l’unanimité, le Conseil Municipal décide d’instaurer le tarif à 50€ et la facturation fera l’objet d’un titre de recettes émis au prorpiétaire de la télécommande.\\n\\n# 2- RAPPORT DES DECISIONS DU MAIRE\\n\\nDans le cadre des délégations que vous lui avez accordées par délibération en date du 26 mai 2020, Madame le Maire a pris les décisions suivantes :\\n\\n# 4-1 : Droit de Préemption Urbain :\\n\\nLa Commune n’a pas souhaité se porter acquéreur des biens suivants :\\n\\n|Nature du bien|Réf cadastre|adresse|propriétaire|\\n|---|---|---|---|\\n|Maison d’habitation|D 2333|20 rue du champ de Met|M. POLIGNE Cédric|\\n|Terrain|AD 138|Route de Benet|VILLAREAL|\\n|Maison d’habitation|C 472|6 rue Albert Cheminet|M. et Mme RIBEIRO Alvaro et Marcia|\\n|Terrain|AD 139 + AD 140|Route de Benet|VILLAREAL|\\n\\n# 3- INFORMATIONS DIVERSES\\n\\n# 3-1 : Interventions d’élus :\\n\\n- Angélique DUMOULIN : Les photos pour le guide PCC faites récemment ne sont pas satisfaisantes donc elle va demander au Parc Naturel Régional du Marais Poitevin s’ils ont des photos qui conviendraient. Les toits des gîtes sont refaits, il manque désormais l’intérieur à refaire. Il y en a 6 sur 10 qui sont loués.\\n- Julien GUIBERT : Il tient à remercier le personnel de la cantine aussi bien en cuisine qu’en service, un pique-nique a été organisé jeudi, avant-veille du départ en vacances scolaires et cela a demandé plus de travail et plus d’organisation. Les enfants ont pique-niqué sous les arbres, dans la cour. Le vendredi, les enfants étaient contents car ils avaient au menu des frites. Petit rappel concernant le délai pour la préparation du bulletin muncipal : Mme la Maire invite tous les conseillers à y réfléchir dès maintenant pour éviter tout retard.\\n- Isabelle HEHUNSTRE : La commune a reçu à nouveau un groupe du SNU (Service National Universel), samedi, ils sont venus uniquement le matin pour désherber le cimetière car l’après-midi, il faisait trop chaud. Ils veulent revenir pour repeindre les bancs et chaises et autres activités. Le 13 juillet, feu d’artifice et déambulation, besoin de volontaires pour distribuer des lampions aux enfants entre 20h et 21h. La déambulation sera animée par la fanfarderie du Centre Social. Le feu d’artifice sera suivi d’un bal organisé par le CAC et l’association des marchés des créateurs et producteurs. Vendredi 14 juillet, balade à vélo de 25 kms, départ à 9h sur le parking de l’Autremont avec une collation à mi parcours. Le départ sera donné par un coup de canon, une ancienne tradition sur la commune. Cette balade sera suivie d’un vin d’honneur dans le parc de la mairie. Le 21 juillet, il y a le festival de peinture qui regroupe 79 peintres. Pour cette journée, les bénévoles ont répondu présents. En soirée, les bénévoles de Magné rejoindront ceux de Coulon pour profiter de la soirée des marchés gourmands, avec en animation le groupe Calypso.\\n- Fabrice BERJONNEAU : A assisté à une réunion à la mairie d’Aiffres organisée par l’opérateur Orange afin d’évoquer la fin du réseau cuivre : l’ADSL. La commune de Coulon est desservie à 97% sur la fibre. Le réseau cuivre sera effacé définitivement en 2027 c’est-à-dire que les poteaux contenant du réseau cuivre vont être démantelés. Certains poteaux vont rester car ils contiennent la fibre. Sur les façades de certaines maisons, il y a quelquefois 2 fils : 1 fil pour la fibre de couleur noire et un deuxième de couleur blanche pour le cuivre, Orange demande aux administrés de ne pas retirer les fils car une entreprise mandatée interviendra pour le faire. La bouille et sa remorque sortent d’usine le 19 juillet. La livraison se fera en septembre avec une ½ journée de formation. Le début des travaux de voirie (devis signés) est prévu en septembre. Fabrice Berjonneau a relancé le sujet de la mise en service de l’antenne lors de sa réunion avec Orange qui a donné comme échéance le dernier trimestre de cette année. Achat du piano pour la cuisine de la salle des fêtes pour une valeur de 2500€ d’occasion (en date de 2022).\\n- Juliette DELAVALLE : Est contente de l’implication des parents et des enfants pour la fête des écoles.\\n- Line MARCHÉ : A participé à la confection des sacs cadeaux pour le festival de peinture. Elle a assisté à deux réunions : le CA (conseil d’administration) du foyer de vie de Coulon.\\n\\n# 45\\n\\n(sous la direction de Mme MONGIN) et le CVS (conseil de vie sociale) qu’elle trouve très intéressant car des résidents sont présents et donc interviennent dans les échanges (sur la nourriture….)\\n\\n# Dominique GIRET\\n\\npoint tourisme Aire de camping-cars, camping et gîtes : le bilan au mois de juin est plutôt satisfaisant (recettes du camping et de l’aire du CC), augmentation de la fréquentation du camping depuis le début de l’année. Une diminution des fréquentations du parking des campings cars est constatée mais pas significative sur le mois de juin. A voir sur l’été…\\n\\nCe matin, le comité de pilotage concernant le projet du nouveau centre socioculturel s’est réuni à la mairie de Magné en présence des représentants du centre socioculturel du Marais, de la commune de Magné et du pôle petite enfance car il pourrait se faire une articulation sur une partie des locaux pour accueillir l’équipe « petite enfance » sur 4 matinées par semaine. Le bureau d’étude a présenté de nouveau le projet amélioré en tenant compte des modifications/remarques demandées (déplacement du local jeunes notamment). La question du chauffage a également été abordée. Le budget serait de l’ordre de 2 550 000€ HT. Il ne faut pas en tenir compte à ce stade car il faut affiner encore le projet, le but étant de rechercher des financements (CAN, DDT, CAF) sans quoi, le projet ne pourra se faire. Mme la Maire évoque la possibilité de la géothermie en moyen de chauffage : Dominique GIRET répond que pour étudier cette possibilité, il faut faire appel, selon les architectes, à un bureau d’études spécialisé, le CRER sera aussi interrogé pour cette possibilité de chauffage. Le projet avance bien techniquement, il satisfait très largement les acteurs du centre socioculturel en répondant un maximum à leurs demandes ce qui justifie le coût du projet d’ailleurs. Madame la Maire précise qu’il a été demandé aux architectes de faire chiffrer l’option de captage des eaux de nappes pour alimenter les sanitaires.\\n\\nVisio prévue avec l’ANCT pour faire le point sur l’étude de programmation et l’organisation d’une Journée « atelier » le 20 septembre : l’idée est de mobiliser une majorité des acteurs économiques, du tourisme, associatifs … de la commune pour échanger sur la manière de faire évoluer la commune, d’engager des projets qui pourraient améliorer la vie sur le territoire communal.\\n\\n# Marie LE CHAPEAIN\\n\\nles écoles maternelles et primaires ont fait de beaux spectacles pour la fête des écoles durant laquelle le pot de la mairie a été apprécié. Les enfants ont commencé l’accueil de loisirs pour les grandes vacances à l’école de Coulon. Marie LE CHAPELAIN remercie les services techniques pour l’accueil de 2 jeunes dans le cadre du dispositif « Argent de poche » fin juin. D’autres jeunes sont prévus sur le mois juillet, cela leur permet de connaître un peu mieux la commune.\\n\\n# Béatrice MORIN\\n\\na reçu en préfecture toute l’équipe de la Croix Rouge Française et son président élu en début d’année. C’est une association qui cherche des bénévoles et qui cherche à se faire connaître davantage. L’idée est qu’elle vienne sur la commune faire une animation, des ateliers via des stands pour expliquer les gestes de premiers secours. François SABOURIN demande si les formations aux gestes de premiers secours sont toujours d’actualité ? Mme la Maire répond que c’est toujours d’actualité et que les séances reprennent à la rentrée et seront proposées à tous les habitants avec une prise en charge forfaitaire par la commune du coût de la formation.\\n\\n# Mme la Maire\\n\\nRéunion publique pour la maison de santé où beaucoup de personnes étaient présentes. Mme la Maire a signé un devis pour l’achat d’un radar pédagogique qui sera présent dans plusieurs lieux de la commune. Deux réunions publiques se sont tenues récemment : une pour l’installation des chaînes sur les quais et l’autre concernant les travaux de sécurité routière sur la RD1.\\n\\nL’ordre du jour et les questions diverses étant épuisés, la séance est levée à 21 heures 40 minutes.\\n\\nLa Maire,\\n\\nAnne-Sophie GUICHET\\n\\nLe Secrétaire de séance\\n\\nFabrice BERJONNEAU\\n\\n# Réunion du Conseil Municipal\\n\\n# du 12 juillet 2023\\n\\n# Liste des délibérations prises par le Conseil Municipal\\n\\n1. Finances / Subvention 2023 : Subventions aux associations\\n2. Finances / Subvention 2023 : Subventions au CCAS de Coulon\\n3. Finances / Tarifs prestations scolaires – Année 2023/2024\\n4. Finances / Festival de peinture 2023 : attribution d’un prix\\n5. Finances / Instauration d’un tarif forfaitaire « télécommande barrières à chaîne » en cas de perte, vol ou casse\\n\\nLa Maire,\\nAnne-Sophie GUICHET\\n\\nLe Secrétaire de séance\\nFabrice BERJONNEAU\\n\\n'"
      ]
     },
     "execution_count": 12,
     "metadata": {},
     "output_type": "execute_result"
    }
   ],
   "source": [
    "markdown"
   ]
  },
  {
   "cell_type": "markdown",
   "metadata": {},
   "source": [
    "## Processing"
   ]
  },
  {
   "cell_type": "code",
   "execution_count": 13,
   "metadata": {},
   "outputs": [
    {
     "name": "stderr",
     "output_type": "stream",
     "text": [
      "Loading checkpoint shards: 100%|██████████| 3/3 [00:02<00:00,  1.31it/s]\n"
     ]
    },
    {
     "ename": "AttributeError",
     "evalue": "'HuggingFaceEmbeddings' object has no attribute 'encode'",
     "output_type": "error",
     "traceback": [
      "\u001b[1;31m---------------------------------------------------------------------------\u001b[0m",
      "\u001b[1;31mAttributeError\u001b[0m                            Traceback (most recent call last)",
      "Cell \u001b[1;32mIn[13], line 10\u001b[0m\n\u001b[0;32m      7\u001b[0m unload_cuda()\n\u001b[0;32m      8\u001b[0m start \u001b[38;5;241m=\u001b[39m time\u001b[38;5;241m.\u001b[39mtime()\n\u001b[1;32m---> 10\u001b[0m paragraphs_list, clusters_dict, model \u001b[38;5;241m=\u001b[39m \u001b[43mpreprocess_markdown_text\u001b[49m\u001b[43m(\u001b[49m\u001b[43mmarkdown\u001b[49m\u001b[43m,\u001b[49m\n\u001b[0;32m     11\u001b[0m \u001b[43m                                                        \u001b[49m\u001b[43mmodel_id\u001b[49m\u001b[43m \u001b[49m\u001b[38;5;241;43m=\u001b[39;49m\u001b[38;5;124;43m\"\u001b[39;49m\u001b[38;5;124;43mJaume/gemma-2b-embeddings\u001b[39;49m\u001b[38;5;124;43m\"\u001b[39;49m\u001b[43m,\u001b[49m\u001b[43m \u001b[49m\n\u001b[0;32m     12\u001b[0m \u001b[43m                                                        \u001b[49m\u001b[43mspacy_model\u001b[49m\u001b[38;5;241;43m=\u001b[39;49m\u001b[38;5;124;43m\"\u001b[39;49m\u001b[38;5;124;43mfr_core_news_sm\u001b[39;49m\u001b[38;5;124;43m\"\u001b[39;49m\u001b[43m,\u001b[49m\u001b[43m \u001b[49m\n\u001b[0;32m     13\u001b[0m \u001b[43m                                                        \u001b[49m\u001b[43mn_sents_per_para\u001b[49m\u001b[38;5;241;43m=\u001b[39;49m\u001b[38;5;241;43m8\u001b[39;49m\u001b[43m,\u001b[49m\n\u001b[0;32m     14\u001b[0m \u001b[43m                                                        \u001b[49m\u001b[43mdevice\u001b[49m\u001b[38;5;241;43m=\u001b[39;49m\u001b[43mdevice\u001b[49m\u001b[43m)\u001b[49m\n",
      "File \u001b[1;32mc:\\Users\\alber\\Desktop\\Council-Minutes\\Alberto Research\\RAGTOR\\council_rag\\preprocessing\\__init__.py:28\u001b[0m, in \u001b[0;36mpreprocess_markdown_text\u001b[1;34m(markdown, model_id, spacy_model, n_sents_per_para, min_n_clusters, device)\u001b[0m\n\u001b[0;32m     26\u001b[0m model \u001b[38;5;241m=\u001b[39m HuggingFaceEmbeddings(model_name\u001b[38;5;241m=\u001b[39mmodel_id) \u001b[38;5;66;03m# if we do the sentence embedding the vector store will fail\u001b[39;00m\n\u001b[0;32m     27\u001b[0m \u001b[38;5;66;03m# Split the markdown into paragraphs\u001b[39;00m\n\u001b[1;32m---> 28\u001b[0m paragraphs \u001b[38;5;241m=\u001b[39m \u001b[43mcompute_paragraph_embeddings\u001b[49m\u001b[43m(\u001b[49m\u001b[43mparagraphs\u001b[49m\u001b[43m,\u001b[49m\u001b[43m \u001b[49m\u001b[43mmodel\u001b[49m\u001b[43m)\u001b[49m\n\u001b[0;32m     30\u001b[0m \u001b[38;5;66;03m# Get just the embeddings to compute the ideal number of clusters\u001b[39;00m\n\u001b[0;32m     31\u001b[0m squeezeded_embeddings \u001b[38;5;241m=\u001b[39m [para_dict[\u001b[38;5;124m\"\u001b[39m\u001b[38;5;124mpara_embedding\u001b[39m\u001b[38;5;124m\"\u001b[39m] \u001b[38;5;28;01mfor\u001b[39;00m para_dict \u001b[38;5;129;01min\u001b[39;00m paragraphs]\n",
      "File \u001b[1;32mc:\\Users\\alber\\Desktop\\Council-Minutes\\Alberto Research\\RAGTOR\\council_rag\\preprocessing\\preprocessing.py:125\u001b[0m, in \u001b[0;36mcompute_paragraph_embeddings\u001b[1;34m(paragraphs, model)\u001b[0m\n\u001b[0;32m    123\u001b[0m list_paras \u001b[38;5;241m=\u001b[39m [para[\u001b[38;5;124m\"\u001b[39m\u001b[38;5;124mparagraph_union\u001b[39m\u001b[38;5;124m\"\u001b[39m] \u001b[38;5;28;01mfor\u001b[39;00m para \u001b[38;5;129;01min\u001b[39;00m paragraphs]\n\u001b[0;32m    124\u001b[0m \u001b[38;5;28;01mfor\u001b[39;00m paras, para_dict \u001b[38;5;129;01min\u001b[39;00m \u001b[38;5;28mzip\u001b[39m(list_paras, paragraphs):\n\u001b[1;32m--> 125\u001b[0m     para_dict[\u001b[38;5;124m\"\u001b[39m\u001b[38;5;124mpara_embedding\u001b[39m\u001b[38;5;124m\"\u001b[39m] \u001b[38;5;241m=\u001b[39m \u001b[43mcompute_norm_embeddings\u001b[49m\u001b[43m(\u001b[49m\u001b[43mmodel\u001b[49m\u001b[43m,\u001b[49m\u001b[43m \u001b[49m\u001b[43mparas\u001b[49m\u001b[43m)\u001b[49m\n\u001b[0;32m    126\u001b[0m \u001b[38;5;28;01mreturn\u001b[39;00m paragraphs\n",
      "File \u001b[1;32mc:\\Users\\alber\\Desktop\\Council-Minutes\\Alberto Research\\RAGTOR\\council_rag\\preprocessing\\preprocessing.py:111\u001b[0m, in \u001b[0;36mcompute_norm_embeddings\u001b[1;34m(model, sentence)\u001b[0m\n\u001b[0;32m    105\u001b[0m \u001b[38;5;28;01mdef\u001b[39;00m\u001b[38;5;250m \u001b[39m\u001b[38;5;21mcompute_norm_embeddings\u001b[39m(model, sentence):\n\u001b[0;32m    106\u001b[0m \u001b[38;5;250m    \u001b[39m\u001b[38;5;124;03m\"\"\"\u001b[39;00m\n\u001b[0;32m    107\u001b[0m \u001b[38;5;124;03m    Computes the embeddings of the sentence using the model.\u001b[39;00m\n\u001b[0;32m    108\u001b[0m \u001b[38;5;124;03m    The model is passed already initialized to avoid having to load it again and running into CUDA issues.\u001b[39;00m\n\u001b[0;32m    109\u001b[0m \u001b[38;5;124;03m    Returns the embeddings.\u001b[39;00m\n\u001b[0;32m    110\u001b[0m \u001b[38;5;124;03m    \"\"\"\u001b[39;00m\n\u001b[1;32m--> 111\u001b[0m     embeddings \u001b[38;5;241m=\u001b[39m \u001b[43mmodel\u001b[49m\u001b[38;5;241;43m.\u001b[39;49m\u001b[43mencode\u001b[49m(sentence)\n\u001b[0;32m    112\u001b[0m     unload_cuda()\n\u001b[0;32m    114\u001b[0m     \u001b[38;5;28;01mreturn\u001b[39;00m embeddings\n",
      "File \u001b[1;32mc:\\Users\\alber\\AppData\\Local\\Programs\\Python\\Python312\\Lib\\site-packages\\pydantic\\main.py:891\u001b[0m, in \u001b[0;36mBaseModel.__getattr__\u001b[1;34m(self, item)\u001b[0m\n\u001b[0;32m    888\u001b[0m     \u001b[38;5;28;01mreturn\u001b[39;00m \u001b[38;5;28msuper\u001b[39m()\u001b[38;5;241m.\u001b[39m\u001b[38;5;21m__getattribute__\u001b[39m(item)  \u001b[38;5;66;03m# Raises AttributeError if appropriate\u001b[39;00m\n\u001b[0;32m    889\u001b[0m \u001b[38;5;28;01melse\u001b[39;00m:\n\u001b[0;32m    890\u001b[0m     \u001b[38;5;66;03m# this is the current error\u001b[39;00m\n\u001b[1;32m--> 891\u001b[0m     \u001b[38;5;28;01mraise\u001b[39;00m \u001b[38;5;167;01mAttributeError\u001b[39;00m(\u001b[38;5;124mf\u001b[39m\u001b[38;5;124m'\u001b[39m\u001b[38;5;132;01m{\u001b[39;00m\u001b[38;5;28mtype\u001b[39m(\u001b[38;5;28mself\u001b[39m)\u001b[38;5;241m.\u001b[39m\u001b[38;5;18m__name__\u001b[39m\u001b[38;5;132;01m!r}\u001b[39;00m\u001b[38;5;124m object has no attribute \u001b[39m\u001b[38;5;132;01m{\u001b[39;00mitem\u001b[38;5;132;01m!r}\u001b[39;00m\u001b[38;5;124m'\u001b[39m)\n",
      "\u001b[1;31mAttributeError\u001b[0m: 'HuggingFaceEmbeddings' object has no attribute 'encode'"
     ]
    }
   ],
   "source": [
    "from council_rag.preprocessing import preprocess_markdown_text\n",
    "from council_rag.data_transformations import process_tables, summarize_clusters\n",
    "from council_rag.preprocessing.preprocessing import unload_cuda\n",
    "\n",
    "import time\n",
    "\n",
    "unload_cuda()\n",
    "start = time.time()\n",
    "\n",
    "paragraphs_list, clusters_dict, model = preprocess_markdown_text(markdown,\n",
    "                                                        model_id =\"Jaume/gemma-2b-embeddings\", \n",
    "                                                        spacy_model=\"fr_core_news_sm\", \n",
    "                                                        n_sents_per_para=8,\n",
    "                                                        device=device)"
   ]
  },
  {
   "cell_type": "code",
   "execution_count": 14,
   "metadata": {},
   "outputs": [],
   "source": [
    "unload_cuda()\n",
    "processed_tables = process_tables(pdf_path,\n",
    "                                eval_path, # required to know where to save the pdf images\n",
    "                                table_process_prompt, \n",
    "                                groq_token)"
   ]
  },
  {
   "cell_type": "code",
   "execution_count": 15,
   "metadata": {},
   "outputs": [
    {
     "name": "stdout",
     "output_type": "stream",
     "text": [
      "3.6205443143844604\n"
     ]
    }
   ],
   "source": [
    "unload_cuda()\n",
    "clusters_dict = summarize_clusters(clusters_dict, \n",
    "                                    summary_prompt, \n",
    "                                    groq_token, \n",
    "                                    model=\"gemma2-9b-it\", \n",
    "                                    token_limit=14000, \n",
    "                                    sleep_time=60)\n",
    "\n",
    "end = time.time()\n",
    "print((end - start)/60)"
   ]
  },
  {
   "cell_type": "code",
   "execution_count": 16,
   "metadata": {},
   "outputs": [
    {
     "name": "stdout",
     "output_type": "stream",
     "text": [
      "Cuda available\n"
     ]
    }
   ],
   "source": [
    "from langchain_text_splitters import RecursiveCharacterTextSplitter\n",
    "from council_rag.rag import prepare_data_for_rag\n",
    "\n",
    "unload_cuda()\n",
    "clusters_list, paragraphs_list, all_docs = prepare_data_for_rag(clusters_dict, \n",
    "                                                                paragraphs_list, \n",
    "                                                                processed_tables, \n",
    "                                                                splitter=RecursiveCharacterTextSplitter,\n",
    "                                                                chunk_size=450,\n",
    "                                                                chunk_overlap=35,\n",
    "                                                                length_function=len,\n",
    "                                                                is_separator_regex=False)"
   ]
  },
  {
   "cell_type": "code",
   "execution_count": null,
   "metadata": {},
   "outputs": [],
   "source": [
    "from council_rag.rag import shorten_summary_docs\n",
    "\n",
    "unload_cuda()\n",
    "all_docs = shorten_summary_docs(all_docs, groq_token)"
   ]
  },
  {
   "cell_type": "code",
   "execution_count": 64,
   "metadata": {},
   "outputs": [],
   "source": [
    "import faiss\n",
    "from langchain_community.vectorstores import FAISS\n",
    "from langchain_community.docstore.in_memory import InMemoryDocstore\n",
    "\n",
    "def set_up_rag_index(embedding_model):\n",
    "    \"\"\"\n",
    "    Sets up a Faiss RAG index based on the dimensions of the embedding model.\n",
    "    Returns the vector store, the index and the embedding dimensions.\n",
    "    \"\"\"\n",
    "    \n",
    "    shape_emb = embedding_model.encode(\"Hello World!\")\n",
    "    emd_dims =  shape_emb.shape[0]\n",
    "    index = faiss.IndexFlatL2(emd_dims)\n",
    "    \n",
    "    vector_store = FAISS(embedding_model, \n",
    "                    index, \n",
    "                    InMemoryDocstore({}), \n",
    "                    {})\n",
    "    \n",
    "    return vector_store, index, emd_dims\n"
   ]
  },
  {
   "cell_type": "code",
   "execution_count": null,
   "metadata": {},
   "outputs": [],
   "source": [
    "unload_cuda()\n"
   ]
  },
  {
   "cell_type": "code",
   "execution_count": 67,
   "metadata": {},
   "outputs": [
    {
     "name": "stderr",
     "output_type": "stream",
     "text": [
      "Loading checkpoint shards:   0%|          | 0/3 [00:00<?, ?it/s]"
     ]
    },
    {
     "ename": "",
     "evalue": "",
     "output_type": "error",
     "traceback": [
      "\u001b[1;31mThe Kernel crashed while executing code in the current cell or a previous cell. \n",
      "\u001b[1;31mPlease review the code in the cell(s) to identify a possible cause of the failure. \n",
      "\u001b[1;31mClick <a href='https://aka.ms/vscodeJupyterKernelCrash'>here</a> for more info. \n",
      "\u001b[1;31mView Jupyter <a href='command:jupyter.viewOutput'>log</a> for further details."
     ]
    }
   ],
   "source": [
    "# from council_rag.rag import set_up_rag_index \n",
    "vector_store, index, emd_dims = set_up_rag_index()"
   ]
  },
  {
   "cell_type": "code",
   "execution_count": null,
   "metadata": {},
   "outputs": [],
   "source": [
    "from council_rag.rag import populate_vector_store"
   ]
  },
  {
   "cell_type": "code",
   "execution_count": 42,
   "metadata": {},
   "outputs": [],
   "source": [
    "def populate_vector_store(vector_store, docs, model):\n",
    "    \n",
    "    all_embeddings = []\n",
    "    for doc in docs:\n",
    "        unload_cuda()\n",
    "        embed = model.encode(doc.page_content)\n",
    "        all_embeddings.append(embed)\n",
    "        \n",
    "    metadatas = [doc.metadata for doc in all_docs]\n",
    "    page_contents = [doc.page_content for doc in all_docs]\n",
    "    content_emb_tupe = tuple(zip(page_contents, all_embeddings))\n",
    "    vector_store = vector_store.add_embeddings(content_emb_tupe, metadatas)\n",
    "    \n",
    "    return vector_store, all_embeddings"
   ]
  },
  {
   "cell_type": "code",
   "execution_count": 21,
   "metadata": {},
   "outputs": [],
   "source": [
    "all_embeddings = []\n",
    "for doc in all_docs:\n",
    "    unload_cuda()\n",
    "    embed = model.encode(doc.page_content)\n",
    "    all_embeddings.append(embed)"
   ]
  },
  {
   "cell_type": "code",
   "execution_count": 48,
   "metadata": {},
   "outputs": [],
   "source": [
    "metadatas = [doc.metadata for doc in all_docs]"
   ]
  },
  {
   "cell_type": "code",
   "execution_count": 49,
   "metadata": {},
   "outputs": [],
   "source": [
    "page_contents = [doc.page_content for doc in all_docs]"
   ]
  },
  {
   "cell_type": "code",
   "execution_count": 50,
   "metadata": {},
   "outputs": [],
   "source": [
    "content_emb_tupe = tuple(zip(page_contents, all_embeddings))"
   ]
  },
  {
   "cell_type": "code",
   "execution_count": 53,
   "metadata": {},
   "outputs": [
    {
     "data": {
      "text/plain": [
       "['91ff3ef2-0c32-4123-8093-0642ee00140a',\n",
       " '74e28a76-e999-49eb-b7c3-e1a2e67c5178',\n",
       " '154908aa-e81a-4bb1-a7c8-312629fae1dd',\n",
       " 'cd6e6d13-2fcd-46d7-b733-8d41b6da4b7e',\n",
       " 'a4f53237-e2fb-4f8d-83c8-305a0dc26ab0',\n",
       " '3b900823-05a4-4610-8c32-612b83a454e8',\n",
       " 'c9e9ff9f-10c7-4e47-94e6-951bcbce2f9e',\n",
       " '0a3c75d4-ad70-4a1d-8923-32dc82f872b5',\n",
       " 'ce7c3c05-b6a7-4481-b465-db967c78c10a',\n",
       " '93885606-50d7-4eb9-a8ce-1fe8884d0e1a',\n",
       " 'a8ee6e28-caf8-4346-abba-b29d85f5e73d',\n",
       " '60553302-5e9e-46bb-b2d0-bfa577919cbb',\n",
       " '9ad3a409-fe4b-4098-ae2a-f92ec28f7a49',\n",
       " '0f4b19f9-ca8f-4cbb-9ecb-a31435d1a915',\n",
       " 'f1715131-7187-47af-9189-3c7c1101d719',\n",
       " 'bc4eadf8-ae72-49a8-8051-01ebd4a8f07f',\n",
       " '9bd71772-3486-4708-a0f5-723e3ce9ebf3',\n",
       " '907ec163-6c3b-4589-9357-937559033783',\n",
       " '61bfeb7e-53f7-4efa-bfc8-297316b3e26f',\n",
       " '19599ceb-dd88-4f3f-844e-56b16db63af8',\n",
       " '708b8b43-78ff-44aa-b012-8f1a8303da96',\n",
       " '9dadfd99-48a5-4eb4-9e75-222d53186ad8',\n",
       " '8c3e77bf-3330-44fc-8779-58d2817f6f7a',\n",
       " 'fd3e4ba3-4a57-452c-bd64-764e9d9bdc4c',\n",
       " '07d7cb42-8fb8-419b-ace8-830405056b8e',\n",
       " '2a5bb769-0a07-4d90-8c78-351488e7dea0',\n",
       " '5f02422e-8436-43c7-a3c0-7369890e432e',\n",
       " 'df1e357c-e388-4305-a2c6-60cf3c75ff31',\n",
       " '4edeb629-0d84-46e6-b5d3-2f408d91398f',\n",
       " '1a7b5af8-6bb7-49d3-9ab8-5af2c811e082',\n",
       " 'dc3e022b-889e-4581-a09e-8ec9a7c331e9',\n",
       " 'a54bf090-cbe0-4cd0-9807-a3abf0d6e5e4',\n",
       " '87b51221-cbfe-4bf5-832e-942985280c50',\n",
       " '4cc31c50-965e-4eb1-a82d-ecedc8e098bf',\n",
       " '4d5b121b-931d-4bf1-ab3c-bd92ccf1b2dc',\n",
       " '1d607112-384f-4a60-87d9-9caddcabc4d6',\n",
       " '9ac86164-a65a-4e95-b461-8d9fcdb777c9',\n",
       " '7d078842-63e2-46c7-bcfa-97278248eb67',\n",
       " '0bcbf68a-78d2-4201-aa11-7e793eb107cd',\n",
       " '7f596f90-db27-4f6a-af20-e2a7fb2f7275',\n",
       " 'b3a370d7-5bc8-407d-a419-fec264319b21',\n",
       " '3c800344-167b-499e-bcba-56ec0ab0e1d7',\n",
       " '0aa5a4e9-fd86-4549-8567-6c576f0ef440',\n",
       " '02ad14f6-30e2-4157-8d2b-476c3915deac',\n",
       " '5c57989e-30f0-4e52-8112-5af2b4117fbe',\n",
       " '22d67173-3365-4adb-b635-67c595741bbc',\n",
       " 'b3a11212-9504-45ef-819a-bc64b12cb97a',\n",
       " '170ca211-f920-4910-915e-fe4c0f6db11b',\n",
       " 'a4dd01f9-549e-4177-b8bf-09684d44f996',\n",
       " '3bcbdcb2-0f2b-44f4-be50-c1aad63e8bc2',\n",
       " 'ea913c02-43f0-47ec-97ac-c79c320ebfa7',\n",
       " '8591373f-62d4-441b-bb38-1cc4a391cfd6',\n",
       " '7f7b0f0e-ffb3-4fc6-b774-c596af85e62b',\n",
       " '43a56471-542b-4c61-85be-68825143aa79',\n",
       " '94ee4e5a-01f2-4b8c-b35d-05fd53b1d4fc',\n",
       " '01fd8585-44b6-4d65-b38b-8dcc659f7efa',\n",
       " '271873ee-9e66-4a81-a9e1-58a3d27b338a',\n",
       " '27b9bfb3-449d-4ae8-b5a2-5d644b425ddd',\n",
       " 'd943a7b5-b8d6-4f27-9902-db7b97b6a4de']"
      ]
     },
     "execution_count": 53,
     "metadata": {},
     "output_type": "execute_result"
    }
   ],
   "source": [
    "vector_store.add_embeddings(content_emb_tupe, metadatas)"
   ]
  },
  {
   "cell_type": "code",
   "execution_count": 57,
   "metadata": {},
   "outputs": [],
   "source": [
    "query = model.encode(prompts_query[\"is_geo\"])"
   ]
  },
  {
   "cell_type": "code",
   "execution_count": 59,
   "metadata": {},
   "outputs": [
    {
     "ename": "AttributeError",
     "evalue": "'numpy.ndarray' object has no attribute 'items'",
     "output_type": "error",
     "traceback": [
      "\u001b[1;31m---------------------------------------------------------------------------\u001b[0m",
      "\u001b[1;31mAttributeError\u001b[0m                            Traceback (most recent call last)",
      "Cell \u001b[1;32mIn[59], line 1\u001b[0m\n\u001b[1;32m----> 1\u001b[0m \u001b[43mvector_store\u001b[49m\u001b[38;5;241;43m.\u001b[39;49m\u001b[43msimilarity_search\u001b[49m\u001b[43m(\u001b[49m\n\u001b[0;32m      2\u001b[0m \u001b[43m                            \u001b[49m\u001b[43mquery\u001b[49m\u001b[43m,\u001b[49m\n\u001b[0;32m      3\u001b[0m \u001b[43m                            \u001b[49m\n\u001b[0;32m      4\u001b[0m \u001b[43m                            \u001b[49m\u001b[38;5;28;43mfilter\u001b[39;49m\u001b[38;5;241;43m=\u001b[39;49m\u001b[43m{\u001b[49m\u001b[38;5;124;43m\"\u001b[39;49m\u001b[38;5;124;43mtype\u001b[39;49m\u001b[38;5;124;43m\"\u001b[39;49m\u001b[43m:\u001b[49m\u001b[43m \u001b[49m\u001b[38;5;124;43m\"\u001b[39;49m\u001b[38;5;124;43msummary\u001b[39;49m\u001b[38;5;124;43m\"\u001b[39;49m\u001b[43m}\u001b[49m\u001b[43m,\u001b[49m\u001b[43m \u001b[49m\n\u001b[0;32m      5\u001b[0m \u001b[43m                            \u001b[49m\u001b[43m)\u001b[49m\n",
      "File \u001b[1;32mc:\\Users\\alber\\AppData\\Local\\Programs\\Python\\Python312\\Lib\\site-packages\\langchain_community\\vectorstores\\faiss.py:643\u001b[0m, in \u001b[0;36mFAISS.similarity_search\u001b[1;34m(self, query, k, filter, fetch_k, **kwargs)\u001b[0m\n\u001b[0;32m    623\u001b[0m \u001b[38;5;28;01mdef\u001b[39;00m\u001b[38;5;250m \u001b[39m\u001b[38;5;21msimilarity_search\u001b[39m(\n\u001b[0;32m    624\u001b[0m     \u001b[38;5;28mself\u001b[39m,\n\u001b[0;32m    625\u001b[0m     query: \u001b[38;5;28mstr\u001b[39m,\n\u001b[1;32m   (...)\u001b[0m\n\u001b[0;32m    629\u001b[0m     \u001b[38;5;241m*\u001b[39m\u001b[38;5;241m*\u001b[39mkwargs: Any,\n\u001b[0;32m    630\u001b[0m ) \u001b[38;5;241m-\u001b[39m\u001b[38;5;241m>\u001b[39m List[Document]:\n\u001b[0;32m    631\u001b[0m \u001b[38;5;250m    \u001b[39m\u001b[38;5;124;03m\"\"\"Return docs most similar to query.\u001b[39;00m\n\u001b[0;32m    632\u001b[0m \n\u001b[0;32m    633\u001b[0m \u001b[38;5;124;03m    Args:\u001b[39;00m\n\u001b[1;32m   (...)\u001b[0m\n\u001b[0;32m    641\u001b[0m \u001b[38;5;124;03m        List of Documents most similar to the query.\u001b[39;00m\n\u001b[0;32m    642\u001b[0m \u001b[38;5;124;03m    \"\"\"\u001b[39;00m\n\u001b[1;32m--> 643\u001b[0m     docs_and_scores \u001b[38;5;241m=\u001b[39m \u001b[38;5;28;43mself\u001b[39;49m\u001b[38;5;241;43m.\u001b[39;49m\u001b[43msimilarity_search_with_score\u001b[49m\u001b[43m(\u001b[49m\n\u001b[0;32m    644\u001b[0m \u001b[43m        \u001b[49m\u001b[43mquery\u001b[49m\u001b[43m,\u001b[49m\u001b[43m \u001b[49m\u001b[43mk\u001b[49m\u001b[43m,\u001b[49m\u001b[43m \u001b[49m\u001b[38;5;28;43mfilter\u001b[39;49m\u001b[38;5;241;43m=\u001b[39;49m\u001b[38;5;28;43mfilter\u001b[39;49m\u001b[43m,\u001b[49m\u001b[43m \u001b[49m\u001b[43mfetch_k\u001b[49m\u001b[38;5;241;43m=\u001b[39;49m\u001b[43mfetch_k\u001b[49m\u001b[43m,\u001b[49m\u001b[43m \u001b[49m\u001b[38;5;241;43m*\u001b[39;49m\u001b[38;5;241;43m*\u001b[39;49m\u001b[43mkwargs\u001b[49m\n\u001b[0;32m    645\u001b[0m \u001b[43m    \u001b[49m\u001b[43m)\u001b[49m\n\u001b[0;32m    646\u001b[0m     \u001b[38;5;28;01mreturn\u001b[39;00m [doc \u001b[38;5;28;01mfor\u001b[39;00m doc, _ \u001b[38;5;129;01min\u001b[39;00m docs_and_scores]\n",
      "File \u001b[1;32mc:\\Users\\alber\\AppData\\Local\\Programs\\Python\\Python312\\Lib\\site-packages\\langchain_community\\vectorstores\\faiss.py:515\u001b[0m, in \u001b[0;36mFAISS.similarity_search_with_score\u001b[1;34m(self, query, k, filter, fetch_k, **kwargs)\u001b[0m\n\u001b[0;32m    491\u001b[0m \u001b[38;5;28;01mdef\u001b[39;00m\u001b[38;5;250m \u001b[39m\u001b[38;5;21msimilarity_search_with_score\u001b[39m(\n\u001b[0;32m    492\u001b[0m     \u001b[38;5;28mself\u001b[39m,\n\u001b[0;32m    493\u001b[0m     query: \u001b[38;5;28mstr\u001b[39m,\n\u001b[1;32m   (...)\u001b[0m\n\u001b[0;32m    497\u001b[0m     \u001b[38;5;241m*\u001b[39m\u001b[38;5;241m*\u001b[39mkwargs: Any,\n\u001b[0;32m    498\u001b[0m ) \u001b[38;5;241m-\u001b[39m\u001b[38;5;241m>\u001b[39m List[Tuple[Document, \u001b[38;5;28mfloat\u001b[39m]]:\n\u001b[0;32m    499\u001b[0m \u001b[38;5;250m    \u001b[39m\u001b[38;5;124;03m\"\"\"Return docs most similar to query.\u001b[39;00m\n\u001b[0;32m    500\u001b[0m \n\u001b[0;32m    501\u001b[0m \u001b[38;5;124;03m    Args:\u001b[39;00m\n\u001b[1;32m   (...)\u001b[0m\n\u001b[0;32m    513\u001b[0m \u001b[38;5;124;03m        L2 distance in float. Lower score represents more similarity.\u001b[39;00m\n\u001b[0;32m    514\u001b[0m \u001b[38;5;124;03m    \"\"\"\u001b[39;00m\n\u001b[1;32m--> 515\u001b[0m     embedding \u001b[38;5;241m=\u001b[39m \u001b[38;5;28;43mself\u001b[39;49m\u001b[38;5;241;43m.\u001b[39;49m\u001b[43m_embed_query\u001b[49m\u001b[43m(\u001b[49m\u001b[43mquery\u001b[49m\u001b[43m)\u001b[49m\n\u001b[0;32m    516\u001b[0m     docs \u001b[38;5;241m=\u001b[39m \u001b[38;5;28mself\u001b[39m\u001b[38;5;241m.\u001b[39msimilarity_search_with_score_by_vector(\n\u001b[0;32m    517\u001b[0m         embedding,\n\u001b[0;32m    518\u001b[0m         k,\n\u001b[1;32m   (...)\u001b[0m\n\u001b[0;32m    521\u001b[0m         \u001b[38;5;241m*\u001b[39m\u001b[38;5;241m*\u001b[39mkwargs,\n\u001b[0;32m    522\u001b[0m     )\n\u001b[0;32m    523\u001b[0m     \u001b[38;5;28;01mreturn\u001b[39;00m docs\n",
      "File \u001b[1;32mc:\\Users\\alber\\AppData\\Local\\Programs\\Python\\Python312\\Lib\\site-packages\\langchain_community\\vectorstores\\faiss.py:268\u001b[0m, in \u001b[0;36mFAISS._embed_query\u001b[1;34m(self, text)\u001b[0m\n\u001b[0;32m    266\u001b[0m     \u001b[38;5;28;01mreturn\u001b[39;00m \u001b[38;5;28mself\u001b[39m\u001b[38;5;241m.\u001b[39membedding_function\u001b[38;5;241m.\u001b[39membed_query(text)\n\u001b[0;32m    267\u001b[0m \u001b[38;5;28;01melse\u001b[39;00m:\n\u001b[1;32m--> 268\u001b[0m     \u001b[38;5;28;01mreturn\u001b[39;00m \u001b[38;5;28;43mself\u001b[39;49m\u001b[38;5;241;43m.\u001b[39;49m\u001b[43membedding_function\u001b[49m\u001b[43m(\u001b[49m\u001b[43mtext\u001b[49m\u001b[43m)\u001b[49m\n",
      "File \u001b[1;32mc:\\Users\\alber\\AppData\\Local\\Programs\\Python\\Python312\\Lib\\site-packages\\torch\\nn\\modules\\module.py:1739\u001b[0m, in \u001b[0;36mModule._wrapped_call_impl\u001b[1;34m(self, *args, **kwargs)\u001b[0m\n\u001b[0;32m   1737\u001b[0m     \u001b[38;5;28;01mreturn\u001b[39;00m \u001b[38;5;28mself\u001b[39m\u001b[38;5;241m.\u001b[39m_compiled_call_impl(\u001b[38;5;241m*\u001b[39margs, \u001b[38;5;241m*\u001b[39m\u001b[38;5;241m*\u001b[39mkwargs)  \u001b[38;5;66;03m# type: ignore[misc]\u001b[39;00m\n\u001b[0;32m   1738\u001b[0m \u001b[38;5;28;01melse\u001b[39;00m:\n\u001b[1;32m-> 1739\u001b[0m     \u001b[38;5;28;01mreturn\u001b[39;00m \u001b[38;5;28;43mself\u001b[39;49m\u001b[38;5;241;43m.\u001b[39;49m\u001b[43m_call_impl\u001b[49m\u001b[43m(\u001b[49m\u001b[38;5;241;43m*\u001b[39;49m\u001b[43margs\u001b[49m\u001b[43m,\u001b[49m\u001b[43m \u001b[49m\u001b[38;5;241;43m*\u001b[39;49m\u001b[38;5;241;43m*\u001b[39;49m\u001b[43mkwargs\u001b[49m\u001b[43m)\u001b[49m\n",
      "File \u001b[1;32mc:\\Users\\alber\\AppData\\Local\\Programs\\Python\\Python312\\Lib\\site-packages\\torch\\nn\\modules\\module.py:1750\u001b[0m, in \u001b[0;36mModule._call_impl\u001b[1;34m(self, *args, **kwargs)\u001b[0m\n\u001b[0;32m   1745\u001b[0m \u001b[38;5;66;03m# If we don't have any hooks, we want to skip the rest of the logic in\u001b[39;00m\n\u001b[0;32m   1746\u001b[0m \u001b[38;5;66;03m# this function, and just call forward.\u001b[39;00m\n\u001b[0;32m   1747\u001b[0m \u001b[38;5;28;01mif\u001b[39;00m \u001b[38;5;129;01mnot\u001b[39;00m (\u001b[38;5;28mself\u001b[39m\u001b[38;5;241m.\u001b[39m_backward_hooks \u001b[38;5;129;01mor\u001b[39;00m \u001b[38;5;28mself\u001b[39m\u001b[38;5;241m.\u001b[39m_backward_pre_hooks \u001b[38;5;129;01mor\u001b[39;00m \u001b[38;5;28mself\u001b[39m\u001b[38;5;241m.\u001b[39m_forward_hooks \u001b[38;5;129;01mor\u001b[39;00m \u001b[38;5;28mself\u001b[39m\u001b[38;5;241m.\u001b[39m_forward_pre_hooks\n\u001b[0;32m   1748\u001b[0m         \u001b[38;5;129;01mor\u001b[39;00m _global_backward_pre_hooks \u001b[38;5;129;01mor\u001b[39;00m _global_backward_hooks\n\u001b[0;32m   1749\u001b[0m         \u001b[38;5;129;01mor\u001b[39;00m _global_forward_hooks \u001b[38;5;129;01mor\u001b[39;00m _global_forward_pre_hooks):\n\u001b[1;32m-> 1750\u001b[0m     \u001b[38;5;28;01mreturn\u001b[39;00m \u001b[43mforward_call\u001b[49m\u001b[43m(\u001b[49m\u001b[38;5;241;43m*\u001b[39;49m\u001b[43margs\u001b[49m\u001b[43m,\u001b[49m\u001b[43m \u001b[49m\u001b[38;5;241;43m*\u001b[39;49m\u001b[38;5;241;43m*\u001b[39;49m\u001b[43mkwargs\u001b[49m\u001b[43m)\u001b[49m\n\u001b[0;32m   1752\u001b[0m result \u001b[38;5;241m=\u001b[39m \u001b[38;5;28;01mNone\u001b[39;00m\n\u001b[0;32m   1753\u001b[0m called_always_called_hooks \u001b[38;5;241m=\u001b[39m \u001b[38;5;28mset\u001b[39m()\n",
      "File \u001b[1;32mc:\\Users\\alber\\AppData\\Local\\Programs\\Python\\Python312\\Lib\\site-packages\\sentence_transformers\\SentenceTransformer.py:690\u001b[0m, in \u001b[0;36mSentenceTransformer.forward\u001b[1;34m(self, input, **kwargs)\u001b[0m\n\u001b[0;32m    688\u001b[0m     module_kwarg_keys \u001b[38;5;241m=\u001b[39m \u001b[38;5;28mself\u001b[39m\u001b[38;5;241m.\u001b[39mmodule_kwargs\u001b[38;5;241m.\u001b[39mget(module_name, [])\n\u001b[0;32m    689\u001b[0m     module_kwargs \u001b[38;5;241m=\u001b[39m {key: value \u001b[38;5;28;01mfor\u001b[39;00m key, value \u001b[38;5;129;01min\u001b[39;00m kwargs\u001b[38;5;241m.\u001b[39mitems() \u001b[38;5;28;01mif\u001b[39;00m key \u001b[38;5;129;01min\u001b[39;00m module_kwarg_keys}\n\u001b[1;32m--> 690\u001b[0m     \u001b[38;5;28minput\u001b[39m \u001b[38;5;241m=\u001b[39m \u001b[43mmodule\u001b[49m\u001b[43m(\u001b[49m\u001b[38;5;28;43minput\u001b[39;49m\u001b[43m,\u001b[49m\u001b[43m \u001b[49m\u001b[38;5;241;43m*\u001b[39;49m\u001b[38;5;241;43m*\u001b[39;49m\u001b[43mmodule_kwargs\u001b[49m\u001b[43m)\u001b[49m\n\u001b[0;32m    691\u001b[0m \u001b[38;5;28;01mreturn\u001b[39;00m \u001b[38;5;28minput\u001b[39m\n",
      "File \u001b[1;32mc:\\Users\\alber\\AppData\\Local\\Programs\\Python\\Python312\\Lib\\site-packages\\torch\\nn\\modules\\module.py:1739\u001b[0m, in \u001b[0;36mModule._wrapped_call_impl\u001b[1;34m(self, *args, **kwargs)\u001b[0m\n\u001b[0;32m   1737\u001b[0m     \u001b[38;5;28;01mreturn\u001b[39;00m \u001b[38;5;28mself\u001b[39m\u001b[38;5;241m.\u001b[39m_compiled_call_impl(\u001b[38;5;241m*\u001b[39margs, \u001b[38;5;241m*\u001b[39m\u001b[38;5;241m*\u001b[39mkwargs)  \u001b[38;5;66;03m# type: ignore[misc]\u001b[39;00m\n\u001b[0;32m   1738\u001b[0m \u001b[38;5;28;01melse\u001b[39;00m:\n\u001b[1;32m-> 1739\u001b[0m     \u001b[38;5;28;01mreturn\u001b[39;00m \u001b[38;5;28;43mself\u001b[39;49m\u001b[38;5;241;43m.\u001b[39;49m\u001b[43m_call_impl\u001b[49m\u001b[43m(\u001b[49m\u001b[38;5;241;43m*\u001b[39;49m\u001b[43margs\u001b[49m\u001b[43m,\u001b[49m\u001b[43m \u001b[49m\u001b[38;5;241;43m*\u001b[39;49m\u001b[38;5;241;43m*\u001b[39;49m\u001b[43mkwargs\u001b[49m\u001b[43m)\u001b[49m\n",
      "File \u001b[1;32mc:\\Users\\alber\\AppData\\Local\\Programs\\Python\\Python312\\Lib\\site-packages\\torch\\nn\\modules\\module.py:1750\u001b[0m, in \u001b[0;36mModule._call_impl\u001b[1;34m(self, *args, **kwargs)\u001b[0m\n\u001b[0;32m   1745\u001b[0m \u001b[38;5;66;03m# If we don't have any hooks, we want to skip the rest of the logic in\u001b[39;00m\n\u001b[0;32m   1746\u001b[0m \u001b[38;5;66;03m# this function, and just call forward.\u001b[39;00m\n\u001b[0;32m   1747\u001b[0m \u001b[38;5;28;01mif\u001b[39;00m \u001b[38;5;129;01mnot\u001b[39;00m (\u001b[38;5;28mself\u001b[39m\u001b[38;5;241m.\u001b[39m_backward_hooks \u001b[38;5;129;01mor\u001b[39;00m \u001b[38;5;28mself\u001b[39m\u001b[38;5;241m.\u001b[39m_backward_pre_hooks \u001b[38;5;129;01mor\u001b[39;00m \u001b[38;5;28mself\u001b[39m\u001b[38;5;241m.\u001b[39m_forward_hooks \u001b[38;5;129;01mor\u001b[39;00m \u001b[38;5;28mself\u001b[39m\u001b[38;5;241m.\u001b[39m_forward_pre_hooks\n\u001b[0;32m   1748\u001b[0m         \u001b[38;5;129;01mor\u001b[39;00m _global_backward_pre_hooks \u001b[38;5;129;01mor\u001b[39;00m _global_backward_hooks\n\u001b[0;32m   1749\u001b[0m         \u001b[38;5;129;01mor\u001b[39;00m _global_forward_hooks \u001b[38;5;129;01mor\u001b[39;00m _global_forward_pre_hooks):\n\u001b[1;32m-> 1750\u001b[0m     \u001b[38;5;28;01mreturn\u001b[39;00m \u001b[43mforward_call\u001b[49m\u001b[43m(\u001b[49m\u001b[38;5;241;43m*\u001b[39;49m\u001b[43margs\u001b[49m\u001b[43m,\u001b[49m\u001b[43m \u001b[49m\u001b[38;5;241;43m*\u001b[39;49m\u001b[38;5;241;43m*\u001b[39;49m\u001b[43mkwargs\u001b[49m\u001b[43m)\u001b[49m\n\u001b[0;32m   1752\u001b[0m result \u001b[38;5;241m=\u001b[39m \u001b[38;5;28;01mNone\u001b[39;00m\n\u001b[0;32m   1753\u001b[0m called_always_called_hooks \u001b[38;5;241m=\u001b[39m \u001b[38;5;28mset\u001b[39m()\n",
      "File \u001b[1;32mc:\\Users\\alber\\AppData\\Local\\Programs\\Python\\Python312\\Lib\\site-packages\\sentence_transformers\\models\\Transformer.py:438\u001b[0m, in \u001b[0;36mTransformer.forward\u001b[1;34m(self, features, **kwargs)\u001b[0m\n\u001b[0;32m    434\u001b[0m \u001b[38;5;28;01mdef\u001b[39;00m\u001b[38;5;250m \u001b[39m\u001b[38;5;21mforward\u001b[39m(\u001b[38;5;28mself\u001b[39m, features: \u001b[38;5;28mdict\u001b[39m[\u001b[38;5;28mstr\u001b[39m, torch\u001b[38;5;241m.\u001b[39mTensor], \u001b[38;5;241m*\u001b[39m\u001b[38;5;241m*\u001b[39mkwargs) \u001b[38;5;241m-\u001b[39m\u001b[38;5;241m>\u001b[39m \u001b[38;5;28mdict\u001b[39m[\u001b[38;5;28mstr\u001b[39m, torch\u001b[38;5;241m.\u001b[39mTensor]:\n\u001b[0;32m    435\u001b[0m \u001b[38;5;250m    \u001b[39m\u001b[38;5;124;03m\"\"\"Returns token_embeddings, cls_token\"\"\"\u001b[39;00m\n\u001b[0;32m    436\u001b[0m     trans_features \u001b[38;5;241m=\u001b[39m {\n\u001b[0;32m    437\u001b[0m         key: value\n\u001b[1;32m--> 438\u001b[0m         \u001b[38;5;28;01mfor\u001b[39;00m key, value \u001b[38;5;129;01min\u001b[39;00m \u001b[43mfeatures\u001b[49m\u001b[38;5;241;43m.\u001b[39;49m\u001b[43mitems\u001b[49m()\n\u001b[0;32m    439\u001b[0m         \u001b[38;5;28;01mif\u001b[39;00m key \u001b[38;5;129;01min\u001b[39;00m [\u001b[38;5;124m\"\u001b[39m\u001b[38;5;124minput_ids\u001b[39m\u001b[38;5;124m\"\u001b[39m, \u001b[38;5;124m\"\u001b[39m\u001b[38;5;124mattention_mask\u001b[39m\u001b[38;5;124m\"\u001b[39m, \u001b[38;5;124m\"\u001b[39m\u001b[38;5;124mtoken_type_ids\u001b[39m\u001b[38;5;124m\"\u001b[39m, \u001b[38;5;124m\"\u001b[39m\u001b[38;5;124minputs_embeds\u001b[39m\u001b[38;5;124m\"\u001b[39m]\n\u001b[0;32m    440\u001b[0m     }\n\u001b[0;32m    442\u001b[0m     output_states \u001b[38;5;241m=\u001b[39m \u001b[38;5;28mself\u001b[39m\u001b[38;5;241m.\u001b[39mauto_model(\u001b[38;5;241m*\u001b[39m\u001b[38;5;241m*\u001b[39mtrans_features, \u001b[38;5;241m*\u001b[39m\u001b[38;5;241m*\u001b[39mkwargs, return_dict\u001b[38;5;241m=\u001b[39m\u001b[38;5;28;01mFalse\u001b[39;00m)\n\u001b[0;32m    443\u001b[0m     output_tokens \u001b[38;5;241m=\u001b[39m output_states[\u001b[38;5;241m0\u001b[39m]\n",
      "\u001b[1;31mAttributeError\u001b[0m: 'numpy.ndarray' object has no attribute 'items'"
     ]
    }
   ],
   "source": [
    "vector_store.similarity_search(\n",
    "                            query,\n",
    "                            \n",
    "                            filter={\"type\": \"summary\"}, \n",
    "                            )\n",
    "\n"
   ]
  },
  {
   "cell_type": "code",
   "execution_count": 54,
   "metadata": {},
   "outputs": [],
   "source": [
    "def query_vector_store(vector_store, query):\n",
    "        # first search through the summaries\n",
    "        results_query_level_one = vector_store.similarity_search(\n",
    "                                                                query,\n",
    "                                                                k=1,\n",
    "                                                                filter={\"type\": \"summary\"}, \n",
    "                                                                )\n",
    "\n",
    "        cluster_level_one = results_query_level_one[0].metadata[\"cluster\"]\n",
    "\n",
    "        # now we search only in the cluster retrieved in the first step\n",
    "        results_query_level_two = vector_store.similarity_search(\n",
    "                                                        query,\n",
    "                                                        k=5,\n",
    "                                                        filter={\"cluster\": cluster_level_one,\n",
    "                                                                \"type\": \"cluster_chunk\"}, \n",
    "                                                        )\n",
    "        results_query_tables = vector_store.similarity_search(\n",
    "                                                        query,\n",
    "                                                        k=1,\n",
    "                                                        filter={\"type\": 'description_table'}, # {\"$in\": []} \n",
    "                                                        )\n",
    "        \n",
    "        relevant_facts = [sent_query_level_two.page_content for sent_query_level_two in results_query_level_two]\n",
    "        relevant_table = results_query_tables.page_content\n",
    "        \n",
    "        return relevant_facts, relevant_table"
   ]
  },
  {
   "cell_type": "code",
   "execution_count": 55,
   "metadata": {},
   "outputs": [
    {
     "ename": "AttributeError",
     "evalue": "'str' object has no attribute 'items'",
     "output_type": "error",
     "traceback": [
      "\u001b[1;31m---------------------------------------------------------------------------\u001b[0m",
      "\u001b[1;31mAttributeError\u001b[0m                            Traceback (most recent call last)",
      "Cell \u001b[1;32mIn[55], line 1\u001b[0m\n\u001b[1;32m----> 1\u001b[0m relevant_facts, relevant_table \u001b[38;5;241m=\u001b[39m \u001b[43mquery_vector_store\u001b[49m\u001b[43m(\u001b[49m\u001b[43mvector_store\u001b[49m\u001b[43m,\u001b[49m\u001b[43m \u001b[49m\u001b[43mprompts_query\u001b[49m\u001b[43m[\u001b[49m\u001b[38;5;124;43m\"\u001b[39;49m\u001b[38;5;124;43mis_geo\u001b[39;49m\u001b[38;5;124;43m\"\u001b[39;49m\u001b[43m]\u001b[49m\u001b[43m)\u001b[49m\n",
      "Cell \u001b[1;32mIn[54], line 3\u001b[0m, in \u001b[0;36mquery_vector_store\u001b[1;34m(vector_store, query)\u001b[0m\n\u001b[0;32m      1\u001b[0m \u001b[38;5;28;01mdef\u001b[39;00m\u001b[38;5;250m \u001b[39m\u001b[38;5;21mquery_vector_store\u001b[39m(vector_store, query):\n\u001b[0;32m      2\u001b[0m         \u001b[38;5;66;03m# first search through the summaries\u001b[39;00m\n\u001b[1;32m----> 3\u001b[0m         results_query_level_one \u001b[38;5;241m=\u001b[39m \u001b[43mvector_store\u001b[49m\u001b[38;5;241;43m.\u001b[39;49m\u001b[43msimilarity_search\u001b[49m\u001b[43m(\u001b[49m\n\u001b[0;32m      4\u001b[0m \u001b[43m                                                                \u001b[49m\u001b[43mquery\u001b[49m\u001b[43m,\u001b[49m\n\u001b[0;32m      5\u001b[0m \u001b[43m                                                                \u001b[49m\u001b[43mk\u001b[49m\u001b[38;5;241;43m=\u001b[39;49m\u001b[38;5;241;43m1\u001b[39;49m\u001b[43m,\u001b[49m\n\u001b[0;32m      6\u001b[0m \u001b[43m                                                                \u001b[49m\u001b[38;5;28;43mfilter\u001b[39;49m\u001b[38;5;241;43m=\u001b[39;49m\u001b[43m{\u001b[49m\u001b[38;5;124;43m\"\u001b[39;49m\u001b[38;5;124;43mtype\u001b[39;49m\u001b[38;5;124;43m\"\u001b[39;49m\u001b[43m:\u001b[49m\u001b[43m \u001b[49m\u001b[38;5;124;43m\"\u001b[39;49m\u001b[38;5;124;43msummary\u001b[39;49m\u001b[38;5;124;43m\"\u001b[39;49m\u001b[43m}\u001b[49m\u001b[43m,\u001b[49m\u001b[43m \u001b[49m\n\u001b[0;32m      7\u001b[0m \u001b[43m                                                                \u001b[49m\u001b[43m)\u001b[49m\n\u001b[0;32m      9\u001b[0m         cluster_level_one \u001b[38;5;241m=\u001b[39m results_query_level_one[\u001b[38;5;241m0\u001b[39m]\u001b[38;5;241m.\u001b[39mmetadata[\u001b[38;5;124m\"\u001b[39m\u001b[38;5;124mcluster\u001b[39m\u001b[38;5;124m\"\u001b[39m]\n\u001b[0;32m     11\u001b[0m         \u001b[38;5;66;03m# now we search only in the cluster retrieved in the first step\u001b[39;00m\n",
      "File \u001b[1;32mc:\\Users\\alber\\AppData\\Local\\Programs\\Python\\Python312\\Lib\\site-packages\\langchain_community\\vectorstores\\faiss.py:643\u001b[0m, in \u001b[0;36mFAISS.similarity_search\u001b[1;34m(self, query, k, filter, fetch_k, **kwargs)\u001b[0m\n\u001b[0;32m    623\u001b[0m \u001b[38;5;28;01mdef\u001b[39;00m\u001b[38;5;250m \u001b[39m\u001b[38;5;21msimilarity_search\u001b[39m(\n\u001b[0;32m    624\u001b[0m     \u001b[38;5;28mself\u001b[39m,\n\u001b[0;32m    625\u001b[0m     query: \u001b[38;5;28mstr\u001b[39m,\n\u001b[1;32m   (...)\u001b[0m\n\u001b[0;32m    629\u001b[0m     \u001b[38;5;241m*\u001b[39m\u001b[38;5;241m*\u001b[39mkwargs: Any,\n\u001b[0;32m    630\u001b[0m ) \u001b[38;5;241m-\u001b[39m\u001b[38;5;241m>\u001b[39m List[Document]:\n\u001b[0;32m    631\u001b[0m \u001b[38;5;250m    \u001b[39m\u001b[38;5;124;03m\"\"\"Return docs most similar to query.\u001b[39;00m\n\u001b[0;32m    632\u001b[0m \n\u001b[0;32m    633\u001b[0m \u001b[38;5;124;03m    Args:\u001b[39;00m\n\u001b[1;32m   (...)\u001b[0m\n\u001b[0;32m    641\u001b[0m \u001b[38;5;124;03m        List of Documents most similar to the query.\u001b[39;00m\n\u001b[0;32m    642\u001b[0m \u001b[38;5;124;03m    \"\"\"\u001b[39;00m\n\u001b[1;32m--> 643\u001b[0m     docs_and_scores \u001b[38;5;241m=\u001b[39m \u001b[38;5;28;43mself\u001b[39;49m\u001b[38;5;241;43m.\u001b[39;49m\u001b[43msimilarity_search_with_score\u001b[49m\u001b[43m(\u001b[49m\n\u001b[0;32m    644\u001b[0m \u001b[43m        \u001b[49m\u001b[43mquery\u001b[49m\u001b[43m,\u001b[49m\u001b[43m \u001b[49m\u001b[43mk\u001b[49m\u001b[43m,\u001b[49m\u001b[43m \u001b[49m\u001b[38;5;28;43mfilter\u001b[39;49m\u001b[38;5;241;43m=\u001b[39;49m\u001b[38;5;28;43mfilter\u001b[39;49m\u001b[43m,\u001b[49m\u001b[43m \u001b[49m\u001b[43mfetch_k\u001b[49m\u001b[38;5;241;43m=\u001b[39;49m\u001b[43mfetch_k\u001b[49m\u001b[43m,\u001b[49m\u001b[43m \u001b[49m\u001b[38;5;241;43m*\u001b[39;49m\u001b[38;5;241;43m*\u001b[39;49m\u001b[43mkwargs\u001b[49m\n\u001b[0;32m    645\u001b[0m \u001b[43m    \u001b[49m\u001b[43m)\u001b[49m\n\u001b[0;32m    646\u001b[0m     \u001b[38;5;28;01mreturn\u001b[39;00m [doc \u001b[38;5;28;01mfor\u001b[39;00m doc, _ \u001b[38;5;129;01min\u001b[39;00m docs_and_scores]\n",
      "File \u001b[1;32mc:\\Users\\alber\\AppData\\Local\\Programs\\Python\\Python312\\Lib\\site-packages\\langchain_community\\vectorstores\\faiss.py:515\u001b[0m, in \u001b[0;36mFAISS.similarity_search_with_score\u001b[1;34m(self, query, k, filter, fetch_k, **kwargs)\u001b[0m\n\u001b[0;32m    491\u001b[0m \u001b[38;5;28;01mdef\u001b[39;00m\u001b[38;5;250m \u001b[39m\u001b[38;5;21msimilarity_search_with_score\u001b[39m(\n\u001b[0;32m    492\u001b[0m     \u001b[38;5;28mself\u001b[39m,\n\u001b[0;32m    493\u001b[0m     query: \u001b[38;5;28mstr\u001b[39m,\n\u001b[1;32m   (...)\u001b[0m\n\u001b[0;32m    497\u001b[0m     \u001b[38;5;241m*\u001b[39m\u001b[38;5;241m*\u001b[39mkwargs: Any,\n\u001b[0;32m    498\u001b[0m ) \u001b[38;5;241m-\u001b[39m\u001b[38;5;241m>\u001b[39m List[Tuple[Document, \u001b[38;5;28mfloat\u001b[39m]]:\n\u001b[0;32m    499\u001b[0m \u001b[38;5;250m    \u001b[39m\u001b[38;5;124;03m\"\"\"Return docs most similar to query.\u001b[39;00m\n\u001b[0;32m    500\u001b[0m \n\u001b[0;32m    501\u001b[0m \u001b[38;5;124;03m    Args:\u001b[39;00m\n\u001b[1;32m   (...)\u001b[0m\n\u001b[0;32m    513\u001b[0m \u001b[38;5;124;03m        L2 distance in float. Lower score represents more similarity.\u001b[39;00m\n\u001b[0;32m    514\u001b[0m \u001b[38;5;124;03m    \"\"\"\u001b[39;00m\n\u001b[1;32m--> 515\u001b[0m     embedding \u001b[38;5;241m=\u001b[39m \u001b[38;5;28;43mself\u001b[39;49m\u001b[38;5;241;43m.\u001b[39;49m\u001b[43m_embed_query\u001b[49m\u001b[43m(\u001b[49m\u001b[43mquery\u001b[49m\u001b[43m)\u001b[49m\n\u001b[0;32m    516\u001b[0m     docs \u001b[38;5;241m=\u001b[39m \u001b[38;5;28mself\u001b[39m\u001b[38;5;241m.\u001b[39msimilarity_search_with_score_by_vector(\n\u001b[0;32m    517\u001b[0m         embedding,\n\u001b[0;32m    518\u001b[0m         k,\n\u001b[1;32m   (...)\u001b[0m\n\u001b[0;32m    521\u001b[0m         \u001b[38;5;241m*\u001b[39m\u001b[38;5;241m*\u001b[39mkwargs,\n\u001b[0;32m    522\u001b[0m     )\n\u001b[0;32m    523\u001b[0m     \u001b[38;5;28;01mreturn\u001b[39;00m docs\n",
      "File \u001b[1;32mc:\\Users\\alber\\AppData\\Local\\Programs\\Python\\Python312\\Lib\\site-packages\\langchain_community\\vectorstores\\faiss.py:268\u001b[0m, in \u001b[0;36mFAISS._embed_query\u001b[1;34m(self, text)\u001b[0m\n\u001b[0;32m    266\u001b[0m     \u001b[38;5;28;01mreturn\u001b[39;00m \u001b[38;5;28mself\u001b[39m\u001b[38;5;241m.\u001b[39membedding_function\u001b[38;5;241m.\u001b[39membed_query(text)\n\u001b[0;32m    267\u001b[0m \u001b[38;5;28;01melse\u001b[39;00m:\n\u001b[1;32m--> 268\u001b[0m     \u001b[38;5;28;01mreturn\u001b[39;00m \u001b[38;5;28;43mself\u001b[39;49m\u001b[38;5;241;43m.\u001b[39;49m\u001b[43membedding_function\u001b[49m\u001b[43m(\u001b[49m\u001b[43mtext\u001b[49m\u001b[43m)\u001b[49m\n",
      "File \u001b[1;32mc:\\Users\\alber\\AppData\\Local\\Programs\\Python\\Python312\\Lib\\site-packages\\torch\\nn\\modules\\module.py:1739\u001b[0m, in \u001b[0;36mModule._wrapped_call_impl\u001b[1;34m(self, *args, **kwargs)\u001b[0m\n\u001b[0;32m   1737\u001b[0m     \u001b[38;5;28;01mreturn\u001b[39;00m \u001b[38;5;28mself\u001b[39m\u001b[38;5;241m.\u001b[39m_compiled_call_impl(\u001b[38;5;241m*\u001b[39margs, \u001b[38;5;241m*\u001b[39m\u001b[38;5;241m*\u001b[39mkwargs)  \u001b[38;5;66;03m# type: ignore[misc]\u001b[39;00m\n\u001b[0;32m   1738\u001b[0m \u001b[38;5;28;01melse\u001b[39;00m:\n\u001b[1;32m-> 1739\u001b[0m     \u001b[38;5;28;01mreturn\u001b[39;00m \u001b[38;5;28;43mself\u001b[39;49m\u001b[38;5;241;43m.\u001b[39;49m\u001b[43m_call_impl\u001b[49m\u001b[43m(\u001b[49m\u001b[38;5;241;43m*\u001b[39;49m\u001b[43margs\u001b[49m\u001b[43m,\u001b[49m\u001b[43m \u001b[49m\u001b[38;5;241;43m*\u001b[39;49m\u001b[38;5;241;43m*\u001b[39;49m\u001b[43mkwargs\u001b[49m\u001b[43m)\u001b[49m\n",
      "File \u001b[1;32mc:\\Users\\alber\\AppData\\Local\\Programs\\Python\\Python312\\Lib\\site-packages\\torch\\nn\\modules\\module.py:1750\u001b[0m, in \u001b[0;36mModule._call_impl\u001b[1;34m(self, *args, **kwargs)\u001b[0m\n\u001b[0;32m   1745\u001b[0m \u001b[38;5;66;03m# If we don't have any hooks, we want to skip the rest of the logic in\u001b[39;00m\n\u001b[0;32m   1746\u001b[0m \u001b[38;5;66;03m# this function, and just call forward.\u001b[39;00m\n\u001b[0;32m   1747\u001b[0m \u001b[38;5;28;01mif\u001b[39;00m \u001b[38;5;129;01mnot\u001b[39;00m (\u001b[38;5;28mself\u001b[39m\u001b[38;5;241m.\u001b[39m_backward_hooks \u001b[38;5;129;01mor\u001b[39;00m \u001b[38;5;28mself\u001b[39m\u001b[38;5;241m.\u001b[39m_backward_pre_hooks \u001b[38;5;129;01mor\u001b[39;00m \u001b[38;5;28mself\u001b[39m\u001b[38;5;241m.\u001b[39m_forward_hooks \u001b[38;5;129;01mor\u001b[39;00m \u001b[38;5;28mself\u001b[39m\u001b[38;5;241m.\u001b[39m_forward_pre_hooks\n\u001b[0;32m   1748\u001b[0m         \u001b[38;5;129;01mor\u001b[39;00m _global_backward_pre_hooks \u001b[38;5;129;01mor\u001b[39;00m _global_backward_hooks\n\u001b[0;32m   1749\u001b[0m         \u001b[38;5;129;01mor\u001b[39;00m _global_forward_hooks \u001b[38;5;129;01mor\u001b[39;00m _global_forward_pre_hooks):\n\u001b[1;32m-> 1750\u001b[0m     \u001b[38;5;28;01mreturn\u001b[39;00m \u001b[43mforward_call\u001b[49m\u001b[43m(\u001b[49m\u001b[38;5;241;43m*\u001b[39;49m\u001b[43margs\u001b[49m\u001b[43m,\u001b[49m\u001b[43m \u001b[49m\u001b[38;5;241;43m*\u001b[39;49m\u001b[38;5;241;43m*\u001b[39;49m\u001b[43mkwargs\u001b[49m\u001b[43m)\u001b[49m\n\u001b[0;32m   1752\u001b[0m result \u001b[38;5;241m=\u001b[39m \u001b[38;5;28;01mNone\u001b[39;00m\n\u001b[0;32m   1753\u001b[0m called_always_called_hooks \u001b[38;5;241m=\u001b[39m \u001b[38;5;28mset\u001b[39m()\n",
      "File \u001b[1;32mc:\\Users\\alber\\AppData\\Local\\Programs\\Python\\Python312\\Lib\\site-packages\\sentence_transformers\\SentenceTransformer.py:690\u001b[0m, in \u001b[0;36mSentenceTransformer.forward\u001b[1;34m(self, input, **kwargs)\u001b[0m\n\u001b[0;32m    688\u001b[0m     module_kwarg_keys \u001b[38;5;241m=\u001b[39m \u001b[38;5;28mself\u001b[39m\u001b[38;5;241m.\u001b[39mmodule_kwargs\u001b[38;5;241m.\u001b[39mget(module_name, [])\n\u001b[0;32m    689\u001b[0m     module_kwargs \u001b[38;5;241m=\u001b[39m {key: value \u001b[38;5;28;01mfor\u001b[39;00m key, value \u001b[38;5;129;01min\u001b[39;00m kwargs\u001b[38;5;241m.\u001b[39mitems() \u001b[38;5;28;01mif\u001b[39;00m key \u001b[38;5;129;01min\u001b[39;00m module_kwarg_keys}\n\u001b[1;32m--> 690\u001b[0m     \u001b[38;5;28minput\u001b[39m \u001b[38;5;241m=\u001b[39m \u001b[43mmodule\u001b[49m\u001b[43m(\u001b[49m\u001b[38;5;28;43minput\u001b[39;49m\u001b[43m,\u001b[49m\u001b[43m \u001b[49m\u001b[38;5;241;43m*\u001b[39;49m\u001b[38;5;241;43m*\u001b[39;49m\u001b[43mmodule_kwargs\u001b[49m\u001b[43m)\u001b[49m\n\u001b[0;32m    691\u001b[0m \u001b[38;5;28;01mreturn\u001b[39;00m \u001b[38;5;28minput\u001b[39m\n",
      "File \u001b[1;32mc:\\Users\\alber\\AppData\\Local\\Programs\\Python\\Python312\\Lib\\site-packages\\torch\\nn\\modules\\module.py:1739\u001b[0m, in \u001b[0;36mModule._wrapped_call_impl\u001b[1;34m(self, *args, **kwargs)\u001b[0m\n\u001b[0;32m   1737\u001b[0m     \u001b[38;5;28;01mreturn\u001b[39;00m \u001b[38;5;28mself\u001b[39m\u001b[38;5;241m.\u001b[39m_compiled_call_impl(\u001b[38;5;241m*\u001b[39margs, \u001b[38;5;241m*\u001b[39m\u001b[38;5;241m*\u001b[39mkwargs)  \u001b[38;5;66;03m# type: ignore[misc]\u001b[39;00m\n\u001b[0;32m   1738\u001b[0m \u001b[38;5;28;01melse\u001b[39;00m:\n\u001b[1;32m-> 1739\u001b[0m     \u001b[38;5;28;01mreturn\u001b[39;00m \u001b[38;5;28;43mself\u001b[39;49m\u001b[38;5;241;43m.\u001b[39;49m\u001b[43m_call_impl\u001b[49m\u001b[43m(\u001b[49m\u001b[38;5;241;43m*\u001b[39;49m\u001b[43margs\u001b[49m\u001b[43m,\u001b[49m\u001b[43m \u001b[49m\u001b[38;5;241;43m*\u001b[39;49m\u001b[38;5;241;43m*\u001b[39;49m\u001b[43mkwargs\u001b[49m\u001b[43m)\u001b[49m\n",
      "File \u001b[1;32mc:\\Users\\alber\\AppData\\Local\\Programs\\Python\\Python312\\Lib\\site-packages\\torch\\nn\\modules\\module.py:1750\u001b[0m, in \u001b[0;36mModule._call_impl\u001b[1;34m(self, *args, **kwargs)\u001b[0m\n\u001b[0;32m   1745\u001b[0m \u001b[38;5;66;03m# If we don't have any hooks, we want to skip the rest of the logic in\u001b[39;00m\n\u001b[0;32m   1746\u001b[0m \u001b[38;5;66;03m# this function, and just call forward.\u001b[39;00m\n\u001b[0;32m   1747\u001b[0m \u001b[38;5;28;01mif\u001b[39;00m \u001b[38;5;129;01mnot\u001b[39;00m (\u001b[38;5;28mself\u001b[39m\u001b[38;5;241m.\u001b[39m_backward_hooks \u001b[38;5;129;01mor\u001b[39;00m \u001b[38;5;28mself\u001b[39m\u001b[38;5;241m.\u001b[39m_backward_pre_hooks \u001b[38;5;129;01mor\u001b[39;00m \u001b[38;5;28mself\u001b[39m\u001b[38;5;241m.\u001b[39m_forward_hooks \u001b[38;5;129;01mor\u001b[39;00m \u001b[38;5;28mself\u001b[39m\u001b[38;5;241m.\u001b[39m_forward_pre_hooks\n\u001b[0;32m   1748\u001b[0m         \u001b[38;5;129;01mor\u001b[39;00m _global_backward_pre_hooks \u001b[38;5;129;01mor\u001b[39;00m _global_backward_hooks\n\u001b[0;32m   1749\u001b[0m         \u001b[38;5;129;01mor\u001b[39;00m _global_forward_hooks \u001b[38;5;129;01mor\u001b[39;00m _global_forward_pre_hooks):\n\u001b[1;32m-> 1750\u001b[0m     \u001b[38;5;28;01mreturn\u001b[39;00m \u001b[43mforward_call\u001b[49m\u001b[43m(\u001b[49m\u001b[38;5;241;43m*\u001b[39;49m\u001b[43margs\u001b[49m\u001b[43m,\u001b[49m\u001b[43m \u001b[49m\u001b[38;5;241;43m*\u001b[39;49m\u001b[38;5;241;43m*\u001b[39;49m\u001b[43mkwargs\u001b[49m\u001b[43m)\u001b[49m\n\u001b[0;32m   1752\u001b[0m result \u001b[38;5;241m=\u001b[39m \u001b[38;5;28;01mNone\u001b[39;00m\n\u001b[0;32m   1753\u001b[0m called_always_called_hooks \u001b[38;5;241m=\u001b[39m \u001b[38;5;28mset\u001b[39m()\n",
      "File \u001b[1;32mc:\\Users\\alber\\AppData\\Local\\Programs\\Python\\Python312\\Lib\\site-packages\\sentence_transformers\\models\\Transformer.py:438\u001b[0m, in \u001b[0;36mTransformer.forward\u001b[1;34m(self, features, **kwargs)\u001b[0m\n\u001b[0;32m    434\u001b[0m \u001b[38;5;28;01mdef\u001b[39;00m\u001b[38;5;250m \u001b[39m\u001b[38;5;21mforward\u001b[39m(\u001b[38;5;28mself\u001b[39m, features: \u001b[38;5;28mdict\u001b[39m[\u001b[38;5;28mstr\u001b[39m, torch\u001b[38;5;241m.\u001b[39mTensor], \u001b[38;5;241m*\u001b[39m\u001b[38;5;241m*\u001b[39mkwargs) \u001b[38;5;241m-\u001b[39m\u001b[38;5;241m>\u001b[39m \u001b[38;5;28mdict\u001b[39m[\u001b[38;5;28mstr\u001b[39m, torch\u001b[38;5;241m.\u001b[39mTensor]:\n\u001b[0;32m    435\u001b[0m \u001b[38;5;250m    \u001b[39m\u001b[38;5;124;03m\"\"\"Returns token_embeddings, cls_token\"\"\"\u001b[39;00m\n\u001b[0;32m    436\u001b[0m     trans_features \u001b[38;5;241m=\u001b[39m {\n\u001b[0;32m    437\u001b[0m         key: value\n\u001b[1;32m--> 438\u001b[0m         \u001b[38;5;28;01mfor\u001b[39;00m key, value \u001b[38;5;129;01min\u001b[39;00m \u001b[43mfeatures\u001b[49m\u001b[38;5;241;43m.\u001b[39;49m\u001b[43mitems\u001b[49m()\n\u001b[0;32m    439\u001b[0m         \u001b[38;5;28;01mif\u001b[39;00m key \u001b[38;5;129;01min\u001b[39;00m [\u001b[38;5;124m\"\u001b[39m\u001b[38;5;124minput_ids\u001b[39m\u001b[38;5;124m\"\u001b[39m, \u001b[38;5;124m\"\u001b[39m\u001b[38;5;124mattention_mask\u001b[39m\u001b[38;5;124m\"\u001b[39m, \u001b[38;5;124m\"\u001b[39m\u001b[38;5;124mtoken_type_ids\u001b[39m\u001b[38;5;124m\"\u001b[39m, \u001b[38;5;124m\"\u001b[39m\u001b[38;5;124minputs_embeds\u001b[39m\u001b[38;5;124m\"\u001b[39m]\n\u001b[0;32m    440\u001b[0m     }\n\u001b[0;32m    442\u001b[0m     output_states \u001b[38;5;241m=\u001b[39m \u001b[38;5;28mself\u001b[39m\u001b[38;5;241m.\u001b[39mauto_model(\u001b[38;5;241m*\u001b[39m\u001b[38;5;241m*\u001b[39mtrans_features, \u001b[38;5;241m*\u001b[39m\u001b[38;5;241m*\u001b[39mkwargs, return_dict\u001b[38;5;241m=\u001b[39m\u001b[38;5;28;01mFalse\u001b[39;00m)\n\u001b[0;32m    443\u001b[0m     output_tokens \u001b[38;5;241m=\u001b[39m output_states[\u001b[38;5;241m0\u001b[39m]\n",
      "\u001b[1;31mAttributeError\u001b[0m: 'str' object has no attribute 'items'"
     ]
    }
   ],
   "source": [
    "relevant_facts, relevant_table = query_vector_store(vector_store, prompts_query[\"is_geo\"])"
   ]
  }
 ],
 "metadata": {
  "kernelspec": {
   "display_name": "Python 3",
   "language": "python",
   "name": "python3"
  },
  "language_info": {
   "codemirror_mode": {
    "name": "ipython",
    "version": 3
   },
   "file_extension": ".py",
   "mimetype": "text/x-python",
   "name": "python",
   "nbconvert_exporter": "python",
   "pygments_lexer": "ipython3",
   "version": "3.12.0"
  }
 },
 "nbformat": 4,
 "nbformat_minor": 2
}
