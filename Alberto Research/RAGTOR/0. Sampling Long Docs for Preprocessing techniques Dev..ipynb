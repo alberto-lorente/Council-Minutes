{
 "cells": [
  {
   "cell_type": "code",
   "execution_count": 2,
   "metadata": {},
   "outputs": [],
   "source": [
    "import pandas as pd \n",
    "\n",
    "data = pd.read_csv(\"../data_annotated.csv\")"
   ]
  },
  {
   "cell_type": "code",
   "execution_count": 3,
   "metadata": {},
   "outputs": [],
   "source": [
    "def check_len(text):\n",
    "    \n",
    "    splits = text.split(\" \")\n",
    "    len_text = len(splits)\n",
    "    \n",
    "    return len_text"
   ]
  },
  {
   "cell_type": "code",
   "execution_count": 4,
   "metadata": {},
   "outputs": [],
   "source": [
    "data[\"len\"] = data[\"extracted_text\"].apply(check_len)"
   ]
  },
  {
   "cell_type": "code",
   "execution_count": 13,
   "metadata": {},
   "outputs": [
    {
     "data": {
      "text/plain": [
       "(1431, 15)"
      ]
     },
     "execution_count": 13,
     "metadata": {},
     "output_type": "execute_result"
    }
   ],
   "source": [
    "data_big = data[data[\"len\"] > data[\"len\"].quantile(0.9)]\n",
    "data_big.shape"
   ]
  },
  {
   "cell_type": "code",
   "execution_count": 18,
   "metadata": {},
   "outputs": [],
   "source": [
    "data_sample_big = data_big.sample(4, random_state=42)"
   ]
  },
  {
   "cell_type": "code",
   "execution_count": 19,
   "metadata": {},
   "outputs": [
    {
     "data": {
      "text/html": [
       "<div>\n",
       "<style scoped>\n",
       "    .dataframe tbody tr th:only-of-type {\n",
       "        vertical-align: middle;\n",
       "    }\n",
       "\n",
       "    .dataframe tbody tr th {\n",
       "        vertical-align: top;\n",
       "    }\n",
       "\n",
       "    .dataframe thead th {\n",
       "        text-align: right;\n",
       "    }\n",
       "</style>\n",
       "<table border=\"1\" class=\"dataframe\">\n",
       "  <thead>\n",
       "    <tr style=\"text-align: right;\">\n",
       "      <th></th>\n",
       "      <th>doc_id</th>\n",
       "      <th>url</th>\n",
       "      <th>cache</th>\n",
       "      <th>fulltext</th>\n",
       "      <th>nature</th>\n",
       "      <th>published</th>\n",
       "      <th>entity_name</th>\n",
       "      <th>entity_type</th>\n",
       "      <th>geo_path</th>\n",
       "      <th>extracted_text</th>\n",
       "      <th>embeddings</th>\n",
       "      <th>typed_embeddings</th>\n",
       "      <th>km_cluster_labels</th>\n",
       "      <th>llama3:1b_llm_is_project</th>\n",
       "      <th>len</th>\n",
       "    </tr>\n",
       "  </thead>\n",
       "  <tbody>\n",
       "    <tr>\n",
       "      <th>1765</th>\n",
       "      <td>3241/4a2b0_BP_2009_rapport.pdf</td>\n",
       "      <td>https://www.centre-valdeloire.fr/sites/default...</td>\n",
       "      <td>https://datapolitics-public.s3.gra.io.cloud.ov...</td>\n",
       "      <td>https://datapolitics-public.s3.gra.io.cloud.ov...</td>\n",
       "      <td>bdj</td>\n",
       "      <td>2021-09-01 00:00:00</td>\n",
       "      <td>Centre-Val de Loire</td>\n",
       "      <td>Conseil régional</td>\n",
       "      <td>Centre-Val de Loire</td>\n",
       "      <td>Le Président BUDGET PRIMITIF 2009 LE CONTEXTE ...</td>\n",
       "      <td>[ 1.12681268e-02  4.55960706e-02 -1.82643868e-...</td>\n",
       "      <td>[0.0112681268, 0.0455960706, -0.0182643868, 0....</td>\n",
       "      <td>1.0</td>\n",
       "      <td>1</td>\n",
       "      <td>31287</td>\n",
       "    </tr>\n",
       "    <tr>\n",
       "      <th>11530</th>\n",
       "      <td>3241/bdecf_CA_2012_rapport.pdf</td>\n",
       "      <td>https://www.centre-valdeloire.fr/sites/default...</td>\n",
       "      <td>https://datapolitics-public.s3.gra.io.cloud.ov...</td>\n",
       "      <td>https://datapolitics-public.s3.gra.io.cloud.ov...</td>\n",
       "      <td>pv.cr</td>\n",
       "      <td>2021-09-01 00:00:00</td>\n",
       "      <td>Centre-Val de Loire</td>\n",
       "      <td>Conseil régional</td>\n",
       "      <td>Centre-Val de Loire</td>\n",
       "      <td>Séances des 20 et 21 juin 2013 COMPTE ADMINIST...</td>\n",
       "      <td>[ 6.44423813e-02 -1.35205030e-01  1.12180769e-...</td>\n",
       "      <td>[0.0644423813, -0.13520503, 0.112180769, 0.037...</td>\n",
       "      <td>1.0</td>\n",
       "      <td>NaN</td>\n",
       "      <td>33863</td>\n",
       "    </tr>\n",
       "    <tr>\n",
       "      <th>5759</th>\n",
       "      <td>2691/9a2d5de7b80dc4a633cbb89b0866d010ab89a6b5_...</td>\n",
       "      <td>https://www.anjoubleucommunaute.fr/medias/2022...</td>\n",
       "      <td>https://datapolitics-public.s3.gra.io.cloud.ov...</td>\n",
       "      <td>https://datapolitics-public.s3.gra.io.cloud.ov...</td>\n",
       "      <td>dlao.autres</td>\n",
       "      <td>2021-05-25 00:00:00</td>\n",
       "      <td>CC Anjou Bleu Communauté</td>\n",
       "      <td>Intercommunalité</td>\n",
       "      <td>CC Anjou Bleu Communauté/Maine-et-Loire/Pays d...</td>\n",
       "      <td>PLAN LOCAL D’URBANISME DE SEGRÉ Modification n...</td>\n",
       "      <td>[-1.60544962e-02  1.04328431e-01  4.12674807e-...</td>\n",
       "      <td>[-0.0160544962, 0.104328431, 0.0412674807, 0.0...</td>\n",
       "      <td>1.0</td>\n",
       "      <td>NaN</td>\n",
       "      <td>43114</td>\n",
       "    </tr>\n",
       "    <tr>\n",
       "      <th>4099</th>\n",
       "      <td>1902/46504b3cc54ed7fa9d53c90bb8a157b7beabaa02_...</td>\n",
       "      <td>https://www.vincennes.fr/sites/default/files/b...</td>\n",
       "      <td>https://datapolitics-public.s3.gra.io.cloud.ov...</td>\n",
       "      <td>https://datapolitics-public.s3.gra.io.cloud.ov...</td>\n",
       "      <td>comm</td>\n",
       "      <td>2023-11-28 00:00:00</td>\n",
       "      <td>Vincennes</td>\n",
       "      <td>Commune</td>\n",
       "      <td>Vincennes/Métropole du Grand Paris (94)/Val-de...</td>\n",
       "      <td>À LA UNE Habiter Vincennes Le magazine des Vin...</td>\n",
       "      <td>[ 6.27148971e-02 -3.88296545e-02  1.05544850e-...</td>\n",
       "      <td>[0.0627148971, -0.0388296545, 0.10554485, 0.14...</td>\n",
       "      <td>0.0</td>\n",
       "      <td>NaN</td>\n",
       "      <td>35663</td>\n",
       "    </tr>\n",
       "  </tbody>\n",
       "</table>\n",
       "</div>"
      ],
      "text/plain": [
       "                                                  doc_id  \\\n",
       "1765                      3241/4a2b0_BP_2009_rapport.pdf   \n",
       "11530                     3241/bdecf_CA_2012_rapport.pdf   \n",
       "5759   2691/9a2d5de7b80dc4a633cbb89b0866d010ab89a6b5_...   \n",
       "4099   1902/46504b3cc54ed7fa9d53c90bb8a157b7beabaa02_...   \n",
       "\n",
       "                                                     url  \\\n",
       "1765   https://www.centre-valdeloire.fr/sites/default...   \n",
       "11530  https://www.centre-valdeloire.fr/sites/default...   \n",
       "5759   https://www.anjoubleucommunaute.fr/medias/2022...   \n",
       "4099   https://www.vincennes.fr/sites/default/files/b...   \n",
       "\n",
       "                                                   cache  \\\n",
       "1765   https://datapolitics-public.s3.gra.io.cloud.ov...   \n",
       "11530  https://datapolitics-public.s3.gra.io.cloud.ov...   \n",
       "5759   https://datapolitics-public.s3.gra.io.cloud.ov...   \n",
       "4099   https://datapolitics-public.s3.gra.io.cloud.ov...   \n",
       "\n",
       "                                                fulltext       nature  \\\n",
       "1765   https://datapolitics-public.s3.gra.io.cloud.ov...          bdj   \n",
       "11530  https://datapolitics-public.s3.gra.io.cloud.ov...        pv.cr   \n",
       "5759   https://datapolitics-public.s3.gra.io.cloud.ov...  dlao.autres   \n",
       "4099   https://datapolitics-public.s3.gra.io.cloud.ov...         comm   \n",
       "\n",
       "                 published               entity_name       entity_type  \\\n",
       "1765   2021-09-01 00:00:00       Centre-Val de Loire  Conseil régional   \n",
       "11530  2021-09-01 00:00:00       Centre-Val de Loire  Conseil régional   \n",
       "5759   2021-05-25 00:00:00  CC Anjou Bleu Communauté  Intercommunalité   \n",
       "4099   2023-11-28 00:00:00                 Vincennes           Commune   \n",
       "\n",
       "                                                geo_path  \\\n",
       "1765                                 Centre-Val de Loire   \n",
       "11530                                Centre-Val de Loire   \n",
       "5759   CC Anjou Bleu Communauté/Maine-et-Loire/Pays d...   \n",
       "4099   Vincennes/Métropole du Grand Paris (94)/Val-de...   \n",
       "\n",
       "                                          extracted_text  \\\n",
       "1765   Le Président BUDGET PRIMITIF 2009 LE CONTEXTE ...   \n",
       "11530  Séances des 20 et 21 juin 2013 COMPTE ADMINIST...   \n",
       "5759   PLAN LOCAL D’URBANISME DE SEGRÉ Modification n...   \n",
       "4099   À LA UNE Habiter Vincennes Le magazine des Vin...   \n",
       "\n",
       "                                              embeddings  \\\n",
       "1765   [ 1.12681268e-02  4.55960706e-02 -1.82643868e-...   \n",
       "11530  [ 6.44423813e-02 -1.35205030e-01  1.12180769e-...   \n",
       "5759   [-1.60544962e-02  1.04328431e-01  4.12674807e-...   \n",
       "4099   [ 6.27148971e-02 -3.88296545e-02  1.05544850e-...   \n",
       "\n",
       "                                        typed_embeddings  km_cluster_labels  \\\n",
       "1765   [0.0112681268, 0.0455960706, -0.0182643868, 0....                1.0   \n",
       "11530  [0.0644423813, -0.13520503, 0.112180769, 0.037...                1.0   \n",
       "5759   [-0.0160544962, 0.104328431, 0.0412674807, 0.0...                1.0   \n",
       "4099   [0.0627148971, -0.0388296545, 0.10554485, 0.14...                0.0   \n",
       "\n",
       "      llama3:1b_llm_is_project    len  \n",
       "1765                         1  31287  \n",
       "11530                      NaN  33863  \n",
       "5759                       NaN  43114  \n",
       "4099                       NaN  35663  "
      ]
     },
     "execution_count": 19,
     "metadata": {},
     "output_type": "execute_result"
    }
   ],
   "source": [
    "data_sample_big.head()"
   ]
  },
  {
   "cell_type": "code",
   "execution_count": 20,
   "metadata": {},
   "outputs": [
    {
     "data": {
      "text/plain": [
       "Index(['doc_id', 'url', 'cache', 'fulltext', 'nature', 'published',\n",
       "       'entity_name', 'entity_type', 'geo_path', 'extracted_text',\n",
       "       'embeddings', 'typed_embeddings', 'km_cluster_labels',\n",
       "       'llama3:1b_llm_is_project', 'len'],\n",
       "      dtype='object')"
      ]
     },
     "execution_count": 20,
     "metadata": {},
     "output_type": "execute_result"
    }
   ],
   "source": [
    "data_sample_big.columns"
   ]
  },
  {
   "cell_type": "code",
   "execution_count": 21,
   "metadata": {},
   "outputs": [],
   "source": [
    "data_sample_big = data_sample_big[['doc_id', 'url', 'cache', 'fulltext', 'nature', 'published',\n",
    "    'entity_name', 'entity_type', 'geo_path', 'extracted_text', 'len']]"
   ]
  },
  {
   "cell_type": "code",
   "execution_count": 22,
   "metadata": {},
   "outputs": [
    {
     "data": {
      "text/plain": [
       "Index(['doc_id', 'url', 'cache', 'fulltext', 'nature', 'published',\n",
       "       'entity_name', 'entity_type', 'geo_path', 'extracted_text', 'len'],\n",
       "      dtype='object')"
      ]
     },
     "execution_count": 22,
     "metadata": {},
     "output_type": "execute_result"
    }
   ],
   "source": [
    "data_sample_big.columns"
   ]
  },
  {
   "cell_type": "code",
   "execution_count": 24,
   "metadata": {},
   "outputs": [],
   "source": [
    "data_sample_big.to_csv(\"data_long_preprocessing_experiments.csv\", index=list(data_sample_big.index), index_label=\"Index\")"
   ]
  },
  {
   "cell_type": "code",
   "execution_count": 26,
   "metadata": {},
   "outputs": [
    {
     "data": {
      "text/plain": [
       "Index([1765, 11530, 5759, 4099], dtype='int64')"
      ]
     },
     "execution_count": 26,
     "metadata": {},
     "output_type": "execute_result"
    }
   ],
   "source": [
    "data_sample_big[\"url\"].index"
   ]
  },
  {
   "cell_type": "code",
   "execution_count": 29,
   "metadata": {},
   "outputs": [
    {
     "data": {
      "text/plain": [
       "[31287, 33863, 43114, 35663]"
      ]
     },
     "execution_count": 29,
     "metadata": {},
     "output_type": "execute_result"
    }
   ],
   "source": [
    "data_sample_big[\"len\"].to_list()"
   ]
  },
  {
   "cell_type": "code",
   "execution_count": 25,
   "metadata": {},
   "outputs": [
    {
     "data": {
      "text/plain": [
       "['https://www.centre-valdeloire.fr/sites/default/files/media/document/2021-09/BP_2009_rapport.pdf',\n",
       " 'https://www.centre-valdeloire.fr/sites/default/files/media/document/2021-09/CA_2012_rapport.pdf',\n",
       " 'https://www.anjoubleucommunaute.fr/medias/2022/05/Reglement_PLU_Segre_Modif1.pdf',\n",
       " 'https://www.vincennes.fr/sites/default/files/bulletin/pdf/vi807.pdf']"
      ]
     },
     "execution_count": 25,
     "metadata": {},
     "output_type": "execute_result"
    }
   ],
   "source": [
    "data_sample_big[\"url\"].to_list()"
   ]
  }
 ],
 "metadata": {
  "kernelspec": {
   "display_name": ".deep-env",
   "language": "python",
   "name": "python3"
  },
  "language_info": {
   "codemirror_mode": {
    "name": "ipython",
    "version": 3
   },
   "file_extension": ".py",
   "mimetype": "text/x-python",
   "name": "python",
   "nbconvert_exporter": "python",
   "pygments_lexer": "ipython3",
   "version": "3.12.0"
  }
 },
 "nbformat": 4,
 "nbformat_minor": 2
}
