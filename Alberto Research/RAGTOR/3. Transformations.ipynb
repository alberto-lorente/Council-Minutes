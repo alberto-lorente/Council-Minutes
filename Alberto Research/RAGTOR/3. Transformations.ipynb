{
 "cells": [
  {
   "cell_type": "code",
   "execution_count": 2,
   "metadata": {},
   "outputs": [],
   "source": [
    "with open(\"example_md_to_text.txt\", \"r\", encoding=\"latin-1\") as f: # TO DO: check proper encoding for .md files\n",
    "    markdown_example = f.read()\n",
    "\n",
    "with open(\"example.pdf\", \"rb\") as f:\n",
    "    pdf = f.read()\n",
    "\n",
    "with open(\"HF_TOKEN.txt\", \"r\") as f:\n",
    "    hf_token = f.read()\n",
    "\n",
    "with open(\"GROQ_KEY.txt\", \"r\") as f:\n",
    "    groq_token = f.read()"
   ]
  },
  {
   "cell_type": "code",
   "execution_count": 3,
   "metadata": {},
   "outputs": [
    {
     "name": "stdout",
     "output_type": "stream",
     "text": [
      "alberto-lorente\n"
     ]
    }
   ],
   "source": [
    "from huggingface_hub import HfFolder, whoami\n",
    "\n",
    "HfFolder.save_token(hf_token)\n",
    "print(whoami()[\"name\"])"
   ]
  },
  {
   "cell_type": "code",
   "execution_count": 4,
   "metadata": {},
   "outputs": [
    {
     "name": "stdout",
     "output_type": "stream",
     "text": [
      "Cuda available\n"
     ]
    }
   ],
   "source": [
    "import torch\n",
    "\n",
    "device = \"cpu\"\n",
    "if torch.cuda.is_available():\n",
    "  print(\"Cuda available\")\n",
    "  device = torch.device('cuda')"
   ]
  },
  {
   "cell_type": "code",
   "execution_count": 5,
   "metadata": {},
   "outputs": [],
   "source": [
    "from council_rag.preprocessing import preprocess_markdown_text"
   ]
  },
  {
   "cell_type": "code",
   "execution_count": 6,
   "metadata": {},
   "outputs": [
    {
     "name": "stdout",
     "output_type": "stream",
     "text": [
      "Cuda available\n",
      "Number of clusters:  3\n",
      "Score:  0.44600135\n",
      "\n",
      "Number of clusters:  4\n",
      "Score:  0.44329956\n",
      "\n",
      "Number of clusters:  5\n",
      "Score:  0.47113436\n",
      "\n",
      "Number of clusters:  6\n",
      "Score:  0.48168555\n",
      "\n",
      "Number of clusters:  7\n",
      "Score:  0.48469815\n",
      "\n",
      "Number of clusters:  8\n",
      "Score:  0.5539949\n",
      "\n",
      "Index 5\n",
      "Optimal Number of Clusters 8\n"
     ]
    }
   ],
   "source": [
    "paragraphs, clusters = preprocess_markdown_text(markdown_example,\n",
    "                                                    model_id =\"HIT-TMG/KaLM-embedding-multilingual-mini-v1\", \n",
    "                                                    spacy_model=\"fr_core_news_sm\", \n",
    "                                                    n_sents_per_para=10)"
   ]
  },
  {
   "cell_type": "code",
   "execution_count": 7,
   "metadata": {},
   "outputs": [
    {
     "data": {
      "text/plain": [
       "dict_keys(['paragraph_union', 'start_range', 'stop_range', 'list_sents', 'para_embedding', 'para_cluster'])"
      ]
     },
     "execution_count": 7,
     "metadata": {},
     "output_type": "execute_result"
    }
   ],
   "source": [
    "paragraphs[0].keys()"
   ]
  },
  {
   "cell_type": "code",
   "execution_count": 8,
   "metadata": {},
   "outputs": [
    {
     "data": {
      "text/plain": [
       "{'paragraph_union': '# Séance publique\\n\\n\\n\\n # du jeudi 28 octobre 2021\\n\\n\\n\\n # à 18h00\\n\\n\\n\\n# Chorum Alain Gilles - Halle Vacheresse\\n\\n\\n\\n # Rue des Vernes à Roanne\\n\\n\\n\\n #',\n",
       " 'start_range': np.int64(0),\n",
       " 'stop_range': np.int64(10),\n",
       " 'list_sents': ['#',\n",
       "  'Séance publique\\n\\n\\n\\n',\n",
       "  '# du jeudi 28 octobre 2021\\n\\n\\n\\n',\n",
       "  '# à 18h00\\n\\n\\n\\n#',\n",
       "  'Chorum',\n",
       "  'Alain Gilles',\n",
       "  '- Halle Vacheresse\\n\\n\\n\\n',\n",
       "  '#',\n",
       "  'Rue des Vernes à Roanne\\n\\n\\n\\n',\n",
       "  '#'],\n",
       " 'para_embedding': array([-2.56996620e-02,  2.94211768e-02,  2.33180169e-02,  7.82801863e-03,\n",
       "        -1.48487631e-02,  3.78930159e-02, -2.68976931e-02,  4.26564254e-02,\n",
       "         5.15989289e-02, -7.38588581e-03, -4.01267707e-02, -1.80062763e-02,\n",
       "         2.82343999e-02, -3.16207297e-02,  1.73622519e-02,  1.40902838e-02,\n",
       "        -3.54822762e-02,  3.80511843e-02,  5.73955253e-02,  2.10540593e-02,\n",
       "         1.22920386e-02,  2.19017286e-02,  7.41365105e-02,  5.48744798e-02,\n",
       "         9.39616188e-03, -3.25019620e-02,  3.81131172e-02, -2.52842763e-03,\n",
       "        -1.13325315e-02, -2.30023777e-03,  6.79165730e-03, -7.27703422e-03,\n",
       "        -3.45977545e-02, -3.02989921e-03,  1.13513283e-02,  2.44105328e-02,\n",
       "         1.59541965e-02,  1.93812009e-02, -4.42284159e-03, -1.01742782e-02,\n",
       "        -5.43998834e-03,  1.25590609e-02, -5.55660240e-02, -3.68304849e-02,\n",
       "         4.70654434e-03, -1.70302745e-02,  1.22944377e-02, -5.19291349e-02,\n",
       "         2.43206061e-02,  3.58109847e-02,  4.75322548e-03, -1.78583544e-02,\n",
       "        -2.76585296e-02,  2.44810171e-02, -2.61743721e-02, -6.29692078e-02,\n",
       "        -4.04196531e-02,  4.90058064e-02,  2.41827928e-02,  3.20999995e-02,\n",
       "         2.49630921e-02,  7.76040331e-02,  4.93977182e-02,  2.24359171e-03,\n",
       "         1.06053077e-01,  5.13531826e-03, -1.53456507e-02, -1.75171793e-02,\n",
       "        -1.38469348e-02,  4.43832390e-02, -3.13100927e-02, -3.55196297e-02,\n",
       "        -4.85728541e-03,  3.60561237e-02,  3.13103385e-03,  2.63759699e-02,\n",
       "         5.30995876e-02,  1.05183562e-02, -2.85707153e-02, -5.48119843e-03,\n",
       "        -2.53009647e-02,  3.23480181e-02,  2.42450703e-02, -3.30727053e-04,\n",
       "        -1.23260291e-02,  3.56557257e-02, -2.11792123e-02,  2.33975984e-02,\n",
       "        -1.75652057e-02,  6.30053803e-02, -1.19002694e-02, -3.37680802e-03,\n",
       "        -1.59215007e-03,  4.86052632e-02, -4.26243618e-02,  2.88382731e-02,\n",
       "        -1.70423463e-02, -3.51185910e-02,  2.36187726e-02,  7.30952248e-02,\n",
       "        -2.57454515e-02, -1.53103378e-02, -3.41712125e-03,  3.27640660e-02,\n",
       "         9.53390542e-03, -3.17392498e-02,  3.50695307e-04, -2.22503003e-02,\n",
       "         7.17443135e-03, -5.19200414e-03,  7.15049915e-03,  2.93026771e-02,\n",
       "         1.58675183e-02,  5.39320987e-03, -7.49762822e-03,  8.60203756e-04,\n",
       "         3.18336971e-02,  9.32263862e-03,  1.72628034e-02, -1.86236445e-02,\n",
       "        -9.66288615e-03, -6.58579990e-02,  2.86824219e-02,  1.13685280e-02,\n",
       "        -6.27190201e-03,  8.91544670e-03,  1.09630525e-02,  1.28484834e-02,\n",
       "        -1.90586206e-02,  2.36042533e-02,  7.57305510e-03,  1.61161218e-02,\n",
       "        -1.05796689e-02, -2.88339537e-02,  1.59427393e-02,  2.54510120e-02,\n",
       "         1.35359205e-02,  3.23808677e-02,  1.80535298e-02,  1.93298031e-02,\n",
       "         1.39169618e-02,  2.13533361e-02, -1.55711444e-02, -6.56633498e-03,\n",
       "         2.68571731e-02,  2.88211126e-02, -5.41937649e-02, -2.16161441e-02,\n",
       "        -1.03229117e-02,  1.25051262e-02,  2.41265800e-02,  1.75923724e-02,\n",
       "         1.79042611e-02,  6.73878342e-02,  3.30762900e-02, -2.88370550e-02,\n",
       "         9.92580503e-02,  2.54132506e-02, -7.70975696e-03, -1.18754143e-02,\n",
       "         1.26811536e-02,  1.53553672e-02, -1.80786308e-02, -3.46042984e-03,\n",
       "        -1.36438916e-02, -1.03518963e-02,  1.90418605e-02, -3.22852540e-03,\n",
       "        -1.76883470e-02,  1.23954015e-02,  8.85016248e-02, -1.20390803e-02,\n",
       "        -1.29928533e-02, -8.09419155e-02,  3.02460250e-02, -2.45821644e-02,\n",
       "         1.19246924e-02, -3.41350324e-02,  3.97973647e-03, -1.59083400e-02,\n",
       "         4.85003106e-02,  2.82553546e-02, -5.41074015e-03,  9.85184126e-03,\n",
       "        -1.28558241e-02,  2.52419412e-02,  4.63919230e-02, -2.82491674e-03,\n",
       "         1.18506327e-02,  3.05379406e-02, -8.78052693e-03,  2.95084063e-02,\n",
       "         3.03912051e-02,  2.53976248e-02, -5.59132500e-03,  3.00138053e-02,\n",
       "         2.66242102e-02,  5.84134236e-02,  3.53474356e-02,  1.61447488e-02,\n",
       "        -1.59251094e-02, -4.71710861e-02, -3.85749154e-02, -7.27867521e-03,\n",
       "        -2.28555072e-02,  3.55939672e-04, -2.70041153e-02, -6.93137422e-02,\n",
       "        -1.41135365e-01,  1.77763626e-02, -1.06767481e-02, -2.97694355e-02,\n",
       "        -1.98060293e-02,  2.21373346e-02,  1.70397796e-02,  8.27103760e-03,\n",
       "         1.66292731e-02, -2.63714301e-03, -5.07788137e-02,  6.11029938e-03,\n",
       "         1.17050030e-03,  1.46903485e-01,  5.02224192e-02,  1.64635043e-04,\n",
       "        -1.82480477e-02,  5.59610240e-02, -2.89471690e-02,  6.13610633e-03,\n",
       "         1.65020479e-04, -1.16793800e-03, -3.53333689e-02,  1.01966094e-02,\n",
       "         2.07779296e-02,  1.20416097e-02,  2.14243494e-02, -5.06199300e-02,\n",
       "        -1.18279485e-02, -8.81190691e-03, -1.15038212e-02,  3.69448327e-02,\n",
       "         7.50326412e-03, -1.89380310e-02, -2.10187212e-02, -1.55284358e-02,\n",
       "        -1.68379396e-02,  1.30552519e-02, -9.54329316e-03, -4.56623686e-03,\n",
       "        -2.65520401e-02, -5.87486215e-02, -5.01686521e-03,  2.87614539e-02,\n",
       "         1.09047163e-02, -3.75958020e-03, -7.64847873e-03,  4.22858149e-02,\n",
       "        -1.85954943e-02,  1.48439715e-02,  4.36468534e-02,  2.01355666e-02,\n",
       "        -1.88357048e-02, -1.71655826e-02, -1.89682245e-02, -1.51702622e-03,\n",
       "         2.61757877e-02, -1.57777835e-02, -1.83714867e-01, -4.11286242e-02,\n",
       "         1.26671297e-02,  2.93892380e-02, -2.04489157e-02,  1.78531855e-02,\n",
       "         1.98338889e-02,  3.72794680e-02,  3.30733843e-02,  8.08608253e-03,\n",
       "        -1.44828642e-02,  2.16118470e-02, -1.36942314e-02,  2.12953668e-02,\n",
       "         2.75555551e-02, -5.36084026e-02,  4.79599573e-02,  1.36568313e-02,\n",
       "         2.53459550e-02, -1.59545653e-02,  1.22112250e-02,  5.53883277e-02,\n",
       "         1.87797360e-02,  1.93412937e-02,  6.49334639e-02, -9.63848177e-03,\n",
       "         2.34049559e-02,  3.77344340e-03, -1.37904109e-02, -4.72631752e-02,\n",
       "        -3.83243747e-02,  1.46971056e-02, -2.11278461e-02,  2.96377111e-03,\n",
       "        -1.65531877e-02,  3.07292510e-02,  2.67044902e-02,  8.68039485e-03,\n",
       "         2.09826753e-02,  9.47640091e-03, -1.57345943e-02, -9.28529259e-03,\n",
       "        -4.27294448e-02,  4.83991258e-04, -5.89687470e-03, -1.21500622e-02,\n",
       "        -3.86292767e-03,  1.15979956e-02, -5.38680656e-03, -7.80978799e-02,\n",
       "         1.19160712e-02,  1.02388905e-02,  1.54893706e-02,  3.93365696e-02,\n",
       "         6.09354209e-03,  1.17133488e-03,  1.03915045e-02, -1.42810391e-02,\n",
       "         2.11592205e-02, -4.02602926e-03, -1.93125922e-02,  3.60382982e-02,\n",
       "         3.69405672e-02, -6.29812432e-03, -1.45311020e-02,  2.01768279e-02,\n",
       "         7.07270112e-03,  3.11717130e-02,  3.09302146e-03, -9.77780437e-04,\n",
       "        -1.80688575e-02,  2.25510728e-02, -2.13253479e-02,  4.54807393e-02,\n",
       "        -3.74610275e-02,  1.80612411e-02,  8.81574582e-03, -4.12513427e-02,\n",
       "        -5.50331408e-03,  1.54642898e-04, -4.18677814e-02,  6.80699525e-03,\n",
       "        -1.34447142e-02, -5.79816056e-03, -8.80770199e-03, -4.17006314e-02,\n",
       "        -6.56377804e-03,  2.42752265e-02, -6.16317056e-03, -2.41546016e-02,\n",
       "         2.16469038e-02,  4.62154439e-03,  4.31749597e-02,  1.97366010e-02,\n",
       "         2.37781014e-02, -1.52933216e-02,  6.68777898e-02, -1.56977233e-02,\n",
       "        -1.56985056e-02, -4.89929393e-02,  1.43198809e-02,  1.09112775e-02,\n",
       "        -5.99538442e-03,  2.57946420e-02, -2.02104449e-02, -1.30606014e-02,\n",
       "         2.12570070e-03,  3.49418335e-02, -2.33708322e-02, -2.27205865e-02,\n",
       "         1.74795277e-02, -2.05890555e-02,  1.45167997e-02, -1.07721994e-02,\n",
       "        -5.42861968e-02, -2.90335529e-02, -1.88849457e-02, -1.16747003e-02,\n",
       "        -3.36722098e-02,  9.27866064e-03,  1.26186265e-02, -4.59083589e-03,\n",
       "         5.00612073e-02, -1.22631239e-02,  1.85454972e-02,  6.46256702e-03,\n",
       "        -3.40437032e-02, -3.28943655e-02,  3.10104787e-02, -4.06310633e-02,\n",
       "         9.65534151e-03, -3.99636552e-02, -3.59750800e-02,  3.93611975e-02,\n",
       "         5.08945994e-02,  2.94604991e-02,  2.30201874e-02, -1.79662146e-02,\n",
       "         6.21148851e-03,  4.10634646e-04, -1.75911319e-02,  1.38242403e-02,\n",
       "        -3.35974663e-01, -8.35537352e-03, -2.71239281e-02,  2.51201037e-02,\n",
       "        -2.17115115e-02,  1.69720296e-02, -3.61253396e-02, -7.32590258e-02,\n",
       "        -1.93151012e-02,  8.28250870e-03, -2.27275174e-02, -7.49573205e-03,\n",
       "        -2.46727117e-03,  2.83264983e-02, -1.86274704e-02, -7.08702430e-02,\n",
       "        -3.27955261e-02,  3.05944035e-04,  6.07458502e-02, -4.52247150e-02,\n",
       "         3.64712700e-02,  7.71284252e-02, -1.03109488e-02,  1.57189108e-02,\n",
       "         4.76322370e-03, -1.39264613e-02,  4.25462872e-02, -4.54548543e-04,\n",
       "        -1.00139882e-02, -3.29125673e-02,  2.24259449e-03,  3.94883640e-02,\n",
       "        -3.71197760e-02,  3.31142393e-04, -2.98719369e-02, -2.17491370e-02,\n",
       "        -3.40054370e-02,  6.00686967e-02, -2.02004910e-02, -1.77026410e-02,\n",
       "         8.84905085e-03,  3.83051694e-03,  3.30530736e-03,  2.11186223e-02,\n",
       "        -1.59936287e-02, -1.13693578e-02, -3.98943648e-02, -2.72030216e-02,\n",
       "        -2.49567218e-02, -1.46906907e-02,  2.28201579e-02,  5.67135662e-02,\n",
       "        -2.68340874e-02, -4.75113690e-02, -2.37815887e-01,  9.47195888e-02,\n",
       "        -3.70098315e-02, -5.30292951e-02, -1.78503767e-02,  3.45057435e-03,\n",
       "         6.53751865e-02,  1.77661646e-02, -3.66947837e-02, -2.27363016e-02,\n",
       "         2.01095175e-02,  6.99177384e-03, -1.62117705e-02, -1.70798749e-02,\n",
       "         1.33657409e-02, -1.02344807e-02,  2.27185655e-02,  1.70946959e-02,\n",
       "         1.00238370e-02,  2.24085376e-02, -1.15471454e-02,  3.18090282e-02,\n",
       "         8.93348362e-03, -2.88412869e-02,  1.80216413e-03,  2.09600590e-02,\n",
       "        -6.35090983e-03,  4.38263603e-02,  2.80873478e-21,  1.53181944e-02,\n",
       "        -6.89188018e-03,  3.57372034e-03, -2.35688929e-02, -4.70438320e-03,\n",
       "         5.92110008e-02,  5.24367355e-02,  5.34486258e-03, -3.02892737e-02,\n",
       "        -1.31225521e-02, -3.17318663e-02, -1.02812322e-02, -1.46700684e-02,\n",
       "        -9.99062788e-03,  6.93689426e-03,  1.18965935e-03, -5.97532950e-02,\n",
       "        -7.08825188e-03,  8.43144674e-03, -4.41498719e-02,  4.80834581e-02,\n",
       "         4.47746832e-03, -8.98219552e-03, -2.75320490e-03,  3.10437866e-02,\n",
       "        -2.91608879e-03,  7.26138055e-03, -4.17497084e-02,  3.08402181e-02,\n",
       "         1.77865494e-02,  1.17883570e-02, -3.96205671e-02,  8.57199251e-04,\n",
       "        -3.96161228e-02,  3.54966857e-02,  9.96059552e-03,  6.49368539e-02,\n",
       "         1.83535870e-02,  1.12752970e-02, -1.86505436e-03,  2.41231006e-02,\n",
       "         2.92032510e-02, -2.68186536e-02, -4.48799878e-03, -2.33399011e-02,\n",
       "         3.05047091e-02, -3.98548283e-02,  7.83563964e-03,  3.00478041e-02,\n",
       "        -2.24423185e-02,  1.11237997e-02,  3.56969312e-02, -9.97418654e-04,\n",
       "        -1.18847350e-02,  8.31597019e-03, -9.42917634e-03,  4.25431952e-02,\n",
       "        -4.44975905e-02,  1.92669984e-02,  6.49829535e-03, -1.33268237e-02,\n",
       "        -4.20022465e-04, -5.64748421e-04,  1.96549650e-02,  2.33980771e-02,\n",
       "        -1.16402535e-02, -1.54046630e-02, -4.49289083e-02, -4.30398546e-02,\n",
       "        -6.45775581e-03,  1.05306627e-02,  5.65997697e-03,  5.52413315e-02,\n",
       "         5.76147670e-03,  1.12792142e-02,  3.18799503e-02, -2.69347019e-02,\n",
       "         1.22372359e-02, -6.83074631e-03, -1.21024817e-01, -4.72680591e-02,\n",
       "        -3.77260521e-02,  2.54191644e-02,  1.75830685e-02, -1.16785821e-02,\n",
       "         1.38927074e-02,  4.17609839e-03, -3.63601521e-02, -2.18339358e-02,\n",
       "        -1.56600121e-02,  4.08264389e-03,  6.94902018e-02,  8.54234895e-06,\n",
       "         6.15197830e-02, -2.03295350e-02,  1.07710604e-02, -1.50178932e-02,\n",
       "         1.56242922e-02,  1.32372584e-02,  4.88058813e-02, -3.06004379e-02,\n",
       "         1.24812769e-02, -3.63980010e-02, -7.64094889e-02,  3.76095483e-03,\n",
       "        -1.19574796e-02, -1.51175093e-02, -7.35245552e-03, -1.74656063e-02,\n",
       "         3.56261581e-02, -1.03742152e-01, -1.07204830e-02,  1.76360589e-02,\n",
       "        -1.98389851e-02,  8.68772448e-04,  7.54596666e-02, -3.60069908e-02,\n",
       "        -3.63144353e-02, -4.14629206e-02, -2.22597402e-02, -1.00009553e-02,\n",
       "         2.05767751e-02,  7.55317463e-03, -2.89469422e-03,  3.26314792e-02,\n",
       "         1.87118817e-02, -3.40558141e-02, -5.43073844e-03, -1.36410752e-02,\n",
       "        -9.63072702e-02,  1.39251426e-02, -3.28943040e-03,  1.43439211e-02,\n",
       "         5.13132615e-03,  2.29146201e-04, -8.92404001e-03, -1.13828657e-02,\n",
       "         1.21211652e-02, -1.38379186e-02,  1.71213821e-02, -1.08706634e-02,\n",
       "         2.66231280e-02,  2.13722065e-02,  6.90149888e-03, -1.89869367e-02,\n",
       "        -7.92042352e-03,  1.98920425e-02,  3.58799100e-02, -4.22964394e-02,\n",
       "        -2.59635746e-02, -3.53024378e-02,  2.25789808e-02, -1.33411745e-02,\n",
       "        -1.49358083e-02,  1.71687100e-02,  7.45990500e-03,  1.36619378e-02,\n",
       "        -1.25615317e-02,  1.22520905e-02, -2.95453109e-02, -1.53047182e-02,\n",
       "         7.76193384e-03, -2.43970770e-02, -5.37968837e-02, -3.31564359e-02,\n",
       "         7.85233267e-03,  1.20732989e-02,  6.52458577e-04,  6.28872886e-02,\n",
       "         4.17412929e-02, -4.25724648e-02, -4.53261426e-03, -8.70504975e-02,\n",
       "         5.67849688e-02, -4.65860998e-04, -8.86561535e-03, -8.53461958e-03,\n",
       "         1.99185535e-02,  3.90268303e-02,  2.00233180e-02,  3.63471322e-02,\n",
       "         1.17539698e-02, -1.81740872e-03, -4.93663922e-02,  1.84543729e-02,\n",
       "         1.37869408e-02,  1.65405814e-02,  1.97694637e-02, -7.85531104e-03,\n",
       "        -2.44499184e-02, -1.01898694e-02, -1.83252674e-02,  8.27013864e-04,\n",
       "        -3.15298513e-02, -2.01607891e-03, -1.91770412e-03, -3.20177376e-02,\n",
       "        -1.17954996e-03,  5.58490567e-02,  5.34709133e-02,  6.99852407e-03,\n",
       "         2.49184296e-02, -1.51908537e-02, -1.53549295e-02,  4.56458665e-02,\n",
       "         7.83903245e-03,  5.53723462e-02,  3.65542620e-02, -3.75298504e-03,\n",
       "        -3.92514504e-02,  9.56309959e-03,  3.14302109e-02, -1.37791364e-02,\n",
       "         7.56017342e-02, -1.04046322e-01, -1.82521790e-02, -8.53561983e-03,\n",
       "         4.52628285e-02,  2.25914102e-02, -2.73679588e-02,  2.60696635e-02,\n",
       "        -8.47924384e-04, -4.58034128e-02, -4.49450612e-02, -2.67081568e-03,\n",
       "        -9.63564031e-03, -2.99335411e-03,  8.85047950e-03, -1.04246438e-02,\n",
       "        -5.28450273e-02, -8.01185984e-03,  6.37625670e-03, -2.89710350e-02,\n",
       "         2.94613801e-02, -1.81151219e-02,  7.37249013e-03, -2.39476189e-02,\n",
       "        -2.01309267e-02,  1.87797509e-02,  5.70718013e-03,  3.38663254e-03,\n",
       "        -5.30430907e-03,  3.69521976e-02,  2.35502459e-02,  2.61901338e-02,\n",
       "        -2.63064681e-03,  1.09041138e-02,  1.37047684e-02,  9.39252507e-03,\n",
       "        -4.09233794e-02,  1.84006151e-02, -6.05373420e-02,  2.92151272e-02,\n",
       "         1.75351985e-02, -1.58604644e-02, -3.83620267e-03, -7.68257957e-03,\n",
       "        -4.06570407e-03,  1.89470816e-02,  7.29900971e-03,  6.86475658e-04,\n",
       "        -4.64561172e-02,  1.93548463e-02, -2.89076455e-02, -3.56419906e-02,\n",
       "        -6.31649652e-03,  6.60779979e-03, -2.60086749e-02,  2.21356619e-02,\n",
       "        -2.80014798e-03, -4.60986840e-03, -4.49381955e-02, -7.50090554e-02,\n",
       "        -2.47571990e-02,  2.21099220e-02, -5.32429060e-03,  8.17151158e-05,\n",
       "        -1.37806898e-02, -1.45997405e-02, -1.98156852e-02,  1.48535343e-02,\n",
       "        -3.96777019e-02, -4.67181727e-02,  3.59230042e-02, -1.13685792e-02,\n",
       "        -2.34528556e-02,  3.35046388e-02,  3.95467356e-02,  1.81978755e-02,\n",
       "         1.90285617e-03, -1.29918987e-02, -7.00695813e-02, -1.80941112e-02,\n",
       "         2.67750444e-03, -1.93057619e-02,  3.88101451e-02,  2.42999513e-02,\n",
       "        -7.20475102e-04, -1.94519269e-03, -2.34588087e-02,  5.22685144e-03,\n",
       "         4.66962904e-02, -2.17733793e-02, -2.87600812e-02, -5.42426156e-03,\n",
       "         6.92483457e-03, -5.75048011e-03, -8.45903251e-03,  1.49238026e-02,\n",
       "        -1.87913422e-02,  3.62578686e-03,  5.41790202e-02,  1.23035628e-02,\n",
       "        -1.91268604e-02,  2.65461695e-03, -8.72653816e-03,  1.96985416e-02,\n",
       "         4.85160910e-02,  1.23926736e-02, -7.11683475e-04,  1.46638779e-02,\n",
       "         4.83442855e-05,  2.61176247e-02, -4.10526916e-02,  7.94476457e-03,\n",
       "         1.38721159e-02,  2.15356499e-02, -2.41304580e-02, -1.88696329e-02,\n",
       "        -4.30190796e-03,  1.13722719e-01,  2.50204150e-02, -3.36055900e-03,\n",
       "         4.43742191e-03,  1.19697284e-02,  1.53036611e-02, -7.14350864e-03,\n",
       "        -2.91028805e-02, -1.33770471e-02, -1.57258660e-02,  1.81876458e-02,\n",
       "        -2.25762613e-02,  2.78932620e-02,  1.09002301e-02,  4.69610980e-03,\n",
       "         2.72877086e-02,  4.08444405e-02,  2.07316112e-02, -6.64516259e-03,\n",
       "         1.77129302e-02, -4.65187766e-02,  2.46365312e-02, -2.06088070e-02,\n",
       "        -8.91067460e-03,  5.47309592e-03,  3.02501256e-03, -9.68559645e-03,\n",
       "        -1.50193200e-02, -6.30985247e-03, -1.42249581e-03,  3.10432687e-02,\n",
       "        -1.75414477e-02,  2.06065569e-02,  4.88421768e-02, -1.86152337e-03,\n",
       "        -3.50465663e-02, -3.39490660e-02,  1.89055726e-02, -3.45728770e-02,\n",
       "         1.03039602e-02,  5.37250889e-03, -3.25846393e-03,  3.40264291e-02,\n",
       "         1.70848425e-02,  1.33535890e-02, -2.59964224e-02, -5.90899624e-02,\n",
       "         1.15195690e-02, -3.25704478e-02,  2.69963015e-02,  2.56452672e-02,\n",
       "        -8.77573155e-03, -1.03842635e-02, -7.71304360e-03,  1.01510976e-02,\n",
       "        -1.50636863e-02,  2.64130477e-02, -5.81781641e-02,  8.06709602e-02,\n",
       "         2.54278313e-02, -3.78902927e-02, -1.19534070e-02,  1.08982362e-02,\n",
       "         1.01279048e-02,  7.07806461e-03, -1.87202338e-02, -8.31173919e-03,\n",
       "        -2.99410149e-02,  4.79569994e-02, -3.45851891e-02,  1.08870398e-02,\n",
       "         3.21258865e-02,  1.91263296e-02, -1.78353991e-02,  3.14985216e-02],\n",
       "       dtype=float32),\n",
       " 'para_cluster': 'cluster_4'}"
      ]
     },
     "execution_count": 8,
     "metadata": {},
     "output_type": "execute_result"
    }
   ],
   "source": [
    "paragraphs[0]"
   ]
  },
  {
   "cell_type": "code",
   "execution_count": 9,
   "metadata": {},
   "outputs": [
    {
     "data": {
      "text/plain": [
       "dict_keys(['cluster_0', 'cluster_1', 'cluster_2', 'cluster_3', 'cluster_4', 'cluster_5', 'cluster_6', 'cluster_7'])"
      ]
     },
     "execution_count": 9,
     "metadata": {},
     "output_type": "execute_result"
    }
   ],
   "source": [
    "clusters.keys()"
   ]
  },
  {
   "cell_type": "code",
   "execution_count": 10,
   "metadata": {},
   "outputs": [
    {
     "data": {
      "text/plain": [
       "dict_keys(['para_indexes', 'union_paras'])"
      ]
     },
     "execution_count": 10,
     "metadata": {},
     "output_type": "execute_result"
    }
   ],
   "source": [
    "clusters[\"cluster_0\"].keys()"
   ]
  },
  {
   "cell_type": "code",
   "execution_count": 11,
   "metadata": {},
   "outputs": [
    {
     "data": {
      "text/plain": [
       "{'para_indexes': [1,\n",
       "  10,\n",
       "  14,\n",
       "  19,\n",
       "  30,\n",
       "  31,\n",
       "  33,\n",
       "  37,\n",
       "  40,\n",
       "  46,\n",
       "  52,\n",
       "  57,\n",
       "  61,\n",
       "  64,\n",
       "  69,\n",
       "  72,\n",
       "  73,\n",
       "  77,\n",
       "  80,\n",
       "  84,\n",
       "  85,\n",
       "  86,\n",
       "  89],\n",
       " 'union_paras': \"PROCES VERBAL\\n\\n\\n\\n L'an deux mille vingt et un, le 28 octobre à 18 h 00, les conseillers communautaires de Roannais Agglomération, se sont réunis à l\\x92Espace Chorum \\x96 Halle Vacheresse \\x96 Rue des Vernes à Roanne.\\n\\n\\n\\n La convocation de tous les conseillers a été faite le 22 octobre 2021, dans les formes et délais prescrits par la loi, par Yves Nicolin, Président.\\n\\n\\n\\n # Etaient présents :\\n\\n\\n\\nChristine Aranéo - Marcel AugierDana Burnichon| | |Edmond Bourgeon| |\\n\\n|-| | |Catherine Brun| |\\n\\n|Jean-Marc Detour| | | | |\\n\\n|Daniel Fréchet| | |Lucien Murzi| |\\n\\n|Quentin Guillermin|X| | | |\\n\\n|Jean-Paul Heyberger| | |Christelle Lattat| |\\n\\n|Franck Maupetit| | |Annie Gerenton| |\\n\\n|Patrick Meunier|X| | | |\\n\\n|Nabih Nejjar|X| | |(arrivé en cours de séance)|\\n\\n|Gilles Passot| | |Fabien Lambert|(arrivé en cours de séance)|\\n\\n|Marcel Peuillon|X| | | |\\n\\n|Didier Prunet| | |Christian Dupuis| |\\n\\n|Vickie Redeuilh| | |Hélène Lapalus| |\\n\\n|Marie-Hélène Riamon| | |Denis Vanhecke| |\\n\\n|Corinne Troncy| | |Maryvonne Loughraieb| |\\n\\n|Isabelle Valcourt| | |Jean-Luc Mardeuil|Festival » ;\\n\\n - de préciser que cette demande de subvention a pour objet de soutenir la réalisation du Festival jeune public « Chouet Festival 2022 », dans le cadre de la saison culturelle 2021/2022 et dont le coût s\\x92élève à 84 254 \\x80 TTC.\\n\\n\\n\\n # N° DP 2021-314 du 15 septembre 2021 - Clôture de la régie de recettes et d\\x92avances du Centre de Loisirs Ados au 15 septembre 2021 - Abrogation décision du Président n° DP 2016-237 du 30 août 2016\\n\\n\\n\\n Le Président décide :\\n\\n\\n\\n - d\\x92abroger la décision du Président n° DP 2016-237 du 30 août 2016 et de clôturer au 15 septembre 2021 la régie de recettes et d\\x92avances du Centre de loisirs ados ;\\n\\n - de dire que Monsieur le Président de Roannais Agglomération et Monsieur le Trésorier de la Trésorerie de Roanne Municipale sont chargés chacun en ce qui les concerne de l\\x92exécution de la présente décision et dont une ampliation sera adressée au régisseur titulaire et aux mandataires suppléants.\\n\\n\\n\\n # N° DP 2021-315 du 15 septembre 2021 - Développement économiqueSerrurerie » des travaux de déconstruction et de construction d\\x92un Bâtiment d\\x92Enseignement Supérieur en vue du regroupement des formations sur le Campus Mendes France à Roanne (Phase 2 : travaux de construction) avec la société ROCHE SARL ;\\n\\n - de préciser que cet avenant a pour objet de prendre en compte des ajustements techniques pour un montant de + 6 047,00 \\x80 HT, correspondant à une plus-value du montant du lot de +9,2%, portant le montant du lot 10 à 71 564,60 \\x80 HT.\\n\\n\\n\\n# N° DP 2021-319 du 20 septembre 2021 - Aéroport - Etude de faisabilité pour la réfection de la piste de l\\x92aéroport de Roanne - Marché avec la société SOGETI INGENIERIE AIRPORTS\\n\\n\\n\\n Le Président décide :\\n\\n\\n\\nAssainissement ».\\n\\n\\n\\n# N° DP 2021-329 du 7 octobre 2021 - Service Solidarités\\n\\n\\n\\nPLIE du Roannais - Facilitateur des clauses sociales d\\x92insertion dans les marchés publics - Convention cadre de coopération avec OPHEOR pour la mise en \\x9cuvre et le suivi des clauses d\\x92insertion dans le cadre des marchés publics\\n\\n\\n\\n Le Président décide :\\n\\n\\n\\n - d\\x92approuver la convention cadre de coopération à intervenir avec OPHEOR ;\\n\\n - de préciser que cette convention de coopération a pour objet de fixer les règles de collaboration entre Roannais Agglomération et OPHEOR, dans le cadre de la mise en \\x9cuvre des clauses sociales d\\x92insertion relative à ses marchés publics.\\n\\n\\n\\n # N° DP 2021-330 du 7 octobre 2021 - Développement économique\\n\\n\\n\\nAéroport de Roanne - Protocole d\\x92accord pour la fourniture de données aéronautiques entre la DSNA et RoannaisAgglomération - Avenant n°1\\n\\n\\n\\n Le Président décide :\\n\\n\\n\\n - d\\x92approuver l\\x92avenant n° 1 au protocole d\\x92accord pour la fourniture de données aéronautiques, entre la Direction des Services de la Navigation Aérienne et Roannais Agglomération, gestionnaire de l\\x92Aéroport de Roanne ;\\n\\n - de préciser que ce protocole d\\x92accord a pour objet l\\x92ajout de la responsabilité des exploitants dans la diffusion des données du Global Reporting Format, GRF, et de définir les modalités de transmission des données relatives à l\\x92état des surfaces de l\\x92aire de mouvement sous le nouveau format des SNOWTAM.\\n\\n\\n\\n # N° DP 2021-331 du 7 octobre 2021 - Développement économique\\n\\n\\n\\nAéroport de Roanne - Convention de mise à disposition de solution logicielle pour la gestion des vols de drones - Société CLEARANCE\\n\\n\\n\\n Le Président décide :\\n\\n\\n\\nAEROPORT - Site aéroportuaire de Roanne Bâtiment à réhabiliter « Fox - Trot » : Convention d\\x92occupation temporaire du domaine public aéroportuaire constitutive de droits réels avec la société SUPERBE AILE FORMATION\\n\\n\\n\\n Le bureau communautaire, après en avoir délibéré à l\\x92unanimité :\\n\\n\\n\\nAccorde à la société SUPERBE AILE FORMATION, société par action simplifiée, ayant son siège social 1015 Route de Combray 42155 Saint-Léger-Sur-Roanne, l\\x92occupation du bâtiment à réhabiliter dénommé « FoxNauticum » situé rue Général Giraud à Roanne ;\\n\\n - Précise que cette résiliation est convenue sans aucune indemnité de part et d\\x92autre ;\\n\\n - Approuve l\\x92acte bilatéral de résiliation amiable ;\\n\\n - Autorise Monsieur le Président ou son représentant dûment habilité à effectuer toutes les actions se rapportant à l\\x92exécution de cette délibération.\\n\\n\\n\\n # N° DBC 2021-084 - Stratégies et ressources foncières - Saint-Germain-Lespinasse - Zone d\\x92activités «n° 37 sis 739 route de la Mirandole à Villerest dont le montant est estimé à 42 030,20 \\x80 HT ;\\n\\n\\n\\n - dit que le prix d\\x92acquisition est désormais fixé à 270 420,00 \\x80 sur lequel la TVA pourra être appliquée sur la totalité ou en partie, après vérification du régime fiscal applicable ;\\n\\n\\n\\n - autorise Monsieur le Président, ou son représentant dûment habilité, à signer les actes à intervenir relatif à la vente du bien, et toutes pièces nécessaires à la finalisation de cette opération.\\n\\n\\n\\n # N° DBC 2021-086 - Aménagement du territoireMonsieur le Président, ou son représentant, à transmettre le dossier correspondant à la Région Auvergne Rhône - Alpes , celle-ci pouvant accorder une aide de 20 % en complément.\\n\\n\\n\\n Page 8 sur 49\\n\\n\\n\\n# N° DBC 2021-090 - Développement économique\\n\\n\\n\\n Subvention au titre de l\\x92aide au développement des petites entreprises du commerce, de l\\x92artisanat et des services avec point de vente - Subvention à l\\x92établissement Boulangerie Pâtisserie CUCHERAT Renaison\\n\\n\\n\\nVignobles Forez Roannais , Aux Racines de la Loire»\\n\\n\\n\\n Le bureau communautaire, après en avoir délibéré à l\\x92unanimité :\\n\\n\\n\\n - attribue une subvention de 5 500 \\x80 à l\\x92association « Vignobles Forez Roannais , Aux Racines de la Loire », pour le territoire du vignoble Roannais ;\\n\\n - dit que les crédits sont prévus au budget général - chapitre 65.\\n\\n\\n\\n# N° DBC 2021-0951 « compétence petite enfance » , lot 2 « secteur Nord-Ouest »)\\n\\n\\n\\nLe bureau communautaire, après en avoir délibéré à l\\x92unanimité :\\n\\n\\n\\n - approuve les accords -cadres mono-attributaires à bons de commande pour les prestations de maintenance des installations de chauffage, de climatisation, de ventilation et de production d\\x92eau chaude sanitaire des sites de Roannais Agglomération comme suit :\\n\\n\\n\\n|N° et dénomination du lot|Attributaire(s) sous réserve transmission des PAA|Montant contractuel et rappel des montants minimum et maximum de l\\x92accord-cadre|Montant P2+P3 estimatif non-contractuel \\x80 HT sur la durée de 3 ans (à titre d\\x92information)|\\n\\n|---|---|---|---|\\n\\n|Lot 1 : Compétence Petite enfance|HERVE THERMIQUE|Sans montant minimum et montant maximum de 35 000 \\x80 HT sur la durée du marché de 3 ans|34 995 \\x80 HT|\\n\\n|Lot 2 : Secteur Nord-Ouest|HERVE THERMIQUE|Sans montant minimum et montant maximum de 26 000 \\x80 HT sur la durée du marché de 3 ans|16 365 \\x80 HT|\\n\\n\\n\\n Le bureau communautaire, après en avoir délibéré à l\\x92unanimité :\\n\\n\\n\\nMonsieur le Président ou son représentant à intervenir dans l'exécution et le règlement dudit marché ;\\n\\n - dit que les dépenses seront prélevées sur les crédits ouverts à cet effet au budget général, section de fonctionnement ;\\n\\n - dit que les recettes liées à la refacturation à Mably, Riorges, Roanne et Villerest seront prévues au budget général, section de fonctionnement.\\n\\n\\n\\n # N° DBC 2021-102 - Mutualisation - Avenant n°1 à la convention de prestation de services pour l\\x92organisation de sessions de formation entre Roannais Agglomération et Ambierle, Mably, OPHEOR, Ouches, Pouilly-les-Nonains, Roannaise de l\\x92Eau, Renaison, Riorges, Saint-Martin-d\\x92Estreaux, Saint-Romain-La-Motte, Saint-Alban-les-Eaux, Saint-André-d\\x92Apchon et Villerest\\n\\n\\n\\n Le bureau communautaire, après en avoir délibéré à l\\x92unanimité :\\n\\n\\n\\n - approuve l\\x92avenant n°1 aux conventions de prestation de services pour l\\x92organisation de sessions de formation entre Roannais Agglomération et Ambierle, Mably, OPHEOR, Ouches, Pouilly-les-Nonains, Roannaise de l\\x92Eau, Renaison, Riorges, Saint-Martin-d\\x92Estreaux, Saint-Romain-La-Motte, Saint-Alban-les-Eaux, Saint-André-d\\x92Apchon et VillerestL\\x92AUDACIEUSE LINGERIE Renaison\\n\\n\\n\\n Le bureau communautaire, après en avoir délibéré à l\\x92unanimité :\\n\\n\\n\\n - attribue une subvention à l\\x92établissement L\\x92AUDACIEUSE LINGERIE, représenté par Mme Laëtitia SYBELIN, située sur la commune de Renaison, pour un montant de 3 383,00 \\x80 maximum, représentant 10 % des dépenses éligibles ;\\n\\n - autorise Monsieur le Président, ou son représentant, à transmettre le dossier correspondant à la Région Auvergne Rhône - Alpes , celle-ci pouvant accorder une aide de 20 % en complément.\\n\\n\\n\\nRapport d\\x92activités 2020\\n\\n\\n\\n Monsieur le Président présente les grandes lignes du rapport d\\x92activité 2020.\\n\\n\\n\\n « L\\x92année 2020 a été marquée par :\\n\\n\\n\\n- le renouvellement des exécutifs communaux (mars et juin) et intercommunal (juillet),\\n\\n- le COVID, avec la crise sanitaire et économique.\\n\\n\\n\\n La priorité a donc été donnée à l\\x92économie avec notamment :\\n\\n\\n\\n - la mise en place d\\x92un fonds de soutien aux entreprises,\\n\\n - la mise en place d\\x92une aide au secteur du tourisme,\\n\\n - la mobilisation des services en faveur de la protection des soignants et des personnes,\\n\\n - la poursuite du service public : ordures ménagères notamment.\\n\\n\\n\\nEn parallèle, nous avons tant bien que mal poursuivi nos actions dans les différents domaines de compétence. Les nouveautés de l\\x92année 2020 sont :\\n\\n\\n\\n- Transport : attribution de la DSP Transport à Transdev (flotte électrique),\\n\\ngaz à effet de serre », une seule fois le mot « pollution », une fois le mot « biodiversité », mais deux fois le mot « faune » , une fois le mot « flore » , quatre fois le mot « nature » et cinq fois seulement le mot« climat », là où dans le même temps, il y avait 40 fois le mot « économie », 23 fois le mot « attractivité » , 70 fois le mot « entreprise » , 22 fois le mot « Euros ». Voilà qui montre pour moi, qui donne une couleur et une indication sur les orientations qui sont prises.\\n\\n\\n\\nNéanmoins, restez quand même objectif, et comparez avec ce qui se passe ailleurs. D'ailleurs, je vais m'amuser, à la fin du mandat, à faire des comparaisons avec des agglomérations de taille comparable qui sont dirigées par des gens de votre sensibilité. On verra effectivement si les bilans présentés par vos amis sont aussi flatteurs que ceux que nous pourrons nous mêmes présenter. Après, bien évidemment que l'aéroport consomme des carburants. Mais, Monsieur Beysson, chaque fois que vous mettez en marche votre micro, vous consommez de l'électricité, de l'énergie. Donc, si vous voulez en consommer moins, abstenez-vous. On en est tous là, nous utilisons tous des moyens. Effectivement, l'aviation utilise des avions, ces avions brûlent du kérosène. Néanmoins, ce que je remarque, c'est qu'aujourd'hui il y a des fabricants d'avions européens qui sont sur des productions d'aéronefs, qui eux-aussi font des efforts pour consommer moins de carburant\\x85 On ne vous dit pas que nous vivons dans un monde merveilleux mais je pense que notre pays, je dis bien notre pays, je ne parle pas de l'agglomération, n'a pas à rougir de ce qui se passe par rapport à tout le reste du monde. Si vous pensez qu'on va sauver la planète uniquement à partir de Roanne, je pense malheureusement que les jours nous sont comptés ».\\n\\n\\n\\nPage 14 sur 49\\n\\n\\n\\nFranck Beysson répond «Considérant qu\\x92au 31 décembre 2020, une provision totale de 308 726 \\x80 tous budgets confondus a été constituée et que la valorisation des CET en 2021 s\\x92élève à 370 966 \\x80, il y a donc lieu d\\x92ajuster la provision par budget selon le tableau ci-dessous :\\n\\n\\n\\n|MONTANT PROVISION FIN D'EXERCICE 2020|REPRISE DE L'EXERCICE|DOTATION DE L'EXERCICE 2021|PROVISION FIN D'EXERCICE 2021|\\n\\n |---|---|---|---|\\n\\n|BUDGET GENERAL|285 517|72 848|358 365|\\n\\n|BUDGET ASSAINISSEMENT|9 035|9 035|0|\\n\\n|BUDGET EQUIPEMENT DE|12 486|853|11 633|\\n\\n\\n\\n# TOURISME ET LOISIRS\\n\\n\\n\\n # BUDGET\\n\\n\\n\\n|TRANSPORTS|1 688|720|968| |\\n\\n|---|---|---|---|---|\\n\\n|TOTAL|308 726|10 608|72 848|370 966|\\n\\n\\n\\n Le Conseil communautaire, après en avoir délibéré à l\\x92unanimité :\\n\\n\\n\\nMise en place du compostage collectif\\n\\n\\n\\n Mettre en place du compostage collectif, là où c'est possible et là où c\\x92est organisable, parce que c'est une technique qui nécessite d'être particulièrement vigilant et particulièrement motivé. Il y a donc un travail de communication et de suivi de ces sites ;\\n\\n\\n\\n Mettre en place, sur une partie du territoire, la collecte en porte à porte de la fraction fermentescible. L\\x92issue de ces déchets fermentescibles, ce sera le compostage, c\\x92est sûr, soit individuel, soit pour la collecte sélective qui se fera dans une entreprise spécialisée, de façon à ce qu\\x92on ait un retour au sol le plus rapide possible ; ce qui n'est pas possible lorsqu'on fait un tri de la matière fermentescible depuis un centre de tri qui extrait ces matières fermentescibles des ordures ménagères, du fait d\\x92un risque de pollution. C\\x92est donc pour cela que le tri à la source va être exigé dès 2024. Normalement, nous serons en ordre de marche, dès janvier 2023. Vous dire aujourd\\x92hui le nombre de composteurs individuels, collectifs, et la part qui sera réellement collectée en porte à porte est encore un petit peu tôt. Il va falloir attendre les résultats de l'enquête, de façon à ajuster au mieux par rapport au territoire.\\n\\n\\n\\nM. le Président ajoute que la prochaine Commission Environnement aura lieu le 17 novembre 2021 et qu\\x92elle se penchera sur ces projets .\\n\\n\\n\\n# Franck Beysson s\\x92interroge\\n\\n\\n\\n Franck Beysson s\\x92interroge sur une éventuelle réflexion portant sur une plateforme de recyclage, en local, des matières pour raccourcir les distances et éviter des chaines d\\x92envoi lointaines . Jean-Yves Boire répond que pour l\\x92instant quelque chose existe. Il y a des ateliers solidaires, situés à Riorges, mais l\\x92ensemble des matériaux ne peut pas être intégré à ce type d\\x92activité car il y a une multitude de filières et ce serait très compliqué de gérer tout cela en local. Il explique que des choses se font et qu\\x92elles risquent effectivement d'évoluer dans le cadre de cette évolution de collecte.Aucune nouvelle plateforme n\\x92est prévue pour l'instant, hormis le projet du SEEDR, le Syndicat de traitement des déchets du Nord du département, où là une usine multi filières est prévue, de façon à ce que les déchets résiduels qui se trouvent dans le bac des ordures ménagères - « On sait qu'aujourd'hui on a encore 70 % de ces déchets qui ne devraient pas s'y trouver- », mais avec l'extension des consignes de tri, avec l'évolution des systèmes de collecte, cela devrait baisser. Jean-Yves Boire ajoute qu\\x92il y aura encore beaucoup à faire et que c'est bien le but de cette usine de tri que de séparer les matériaux, de façon à les mettre dans les bonnes filières et que l'on puisse en recycler un maximum. Il explique que ceux-ci seront soit recyclés, soit leur énergie sera récupérée car ils présentent l'avantage d'avoir un pouvoir calorifique inférieur (PCI) qui viendrait se substituer à l'utilisation de l'énergie fossile. C\\x92est ce que l\\x92on appelle les combustibles solides de récupération.\\n\\n\\n\\n # Conseil communautaire\\n\\n\\n\\nLe Conseil communautaire, après en avoir délibéré, avec 76 voix pour, 0 contre et 2 abstentions :\\n\\n\\n\\n- Approuve la création de l\\x92autorisation de programme 1040 intitulée « Réorganisation collecte déchets ménagers » sur le budget général pour un montant global de 9 000 000 \\x80 et la répartition prévisionnelle des crédits de paiement sur la période 2021-2025 comme suit :\\n\\n\\n\\n|Millésime|N° AP|Montant|CP 2021|CP 2022|CP 2023|CP 2024|CP 2025|\\n\\n|---|---|---|---|---|---|---|---|\\n\\n|2021|1040|9 000 000 \\x80|200 000 \\x80|5 600 000 \\x80|2 000 000 \\x80|600 000 \\x80|600 000 \\x80|\\n\\n\\n\\nIndique que les crédits de paiement (CP) de 2021 d\\x92un montant de 200 000 \\x80 seront inscrits à la prochaine Décision Modificative sur le Budget Général.\\n\\n\\n\\n# 5. Décision modificativeAjustement de la contribution au titre des eaux pluviales pour l\\x92opération Foch Sully (-400 k\\x80), des contributions au SEEDR pour le traitement des ordures ménagères (-189,84 k\\x80), des participations du budget général aux budgets annexes (48,5 k\\x80), de subventions diverses (19,4 k\\x80), des créances admises en non-valeur (-12 k\\x80) et changement de nature comptable (et de chapitre) à la demande de la trésorerie (57 k\\x80).\\n\\n\\n\\n # Charges exceptionnelles : 54 139 \\x80\\n\\n\\n\\nDépenses liées au fonctionnement du Centre de vaccination au Fuyant pour la période du 1er septembre au 31 décembre 2021 (80 k\\x80), changement de nature comptable (et de chapitre) à la demande de la trésorerie (-57 k\\x80), ajustement des dépenses liées au COVID (-9,78 k\\x80), remboursement des abonnements et cours au Nauticum (8 k\\x80), reversement du résultat de la commune Les Noës à la Roannaise de l\\x92Eau (2,8 k\\x80) et de divers dépenses exceptionnelles (30,119 k\\x80).\\n\\n\\n\\n # Dotations aux amortissements et aux provisions : 47 000 \\x80\\n\\n\\n\\n Ajustement provision pour dépréciation des actifs circulants (-26 k\\x80) et provision pour Compte Epargne Temps (73 k\\x80).\\n\\n\\n\\n # Virement à la section d\\x92investissement : 118 500 \\x80\\n\\n\\n\\n(autofinancement complémentaire)\\n\\n\\n\\n # Recettes :\\n\\n\\n\\n# Produits des services : -257 140 \\x80\\n\\n\\n\\n Il s\\x92agit principalement de la diminution des recettes du Nauticum en raison du COVID et de la mauvaise météo de cet été (-300 k\\x80) et des billetteries Pleine nature (-42,14 k\\x80) et culturelles (-41,47 k\\x80), d\\x92un complément pour les revenus des coupes de bois (59,07 k\\x80) et à l\\x92ajustement de refacturations (67,4 k\\x80).\\n\\n\\n\\n # Impôts et taxes : 3 600 \\x80\\n\\n\\n\\nAjustement du reversement des taxes foncières par la commune de Mably sur les bâtiments situés dans la ZAC de Mably.\\n\\n\\n\\n# Subventions - Dotations : -45 060 \\x80\\n\\n\\n\\n Ajustement\"}"
      ]
     },
     "execution_count": 11,
     "metadata": {},
     "output_type": "execute_result"
    }
   ],
   "source": [
    "clusters[\"cluster_0\"]"
   ]
  },
  {
   "cell_type": "markdown",
   "metadata": {},
   "source": [
    "Takes around 25 secs to run in my machine."
   ]
  },
  {
   "cell_type": "markdown",
   "metadata": {},
   "source": [
    "## Data Transformations"
   ]
  },
  {
   "cell_type": "markdown",
   "metadata": {},
   "source": [
    "### Summarization algos\n",
    "\n",
    "The process is fairly straightforward, we take the union of the paragraphs in each cluster and then we generate a summary for each cluster using gemma2-9b-it in groq. Given how slow the hf models we tried where, we will just use groq.\n"
   ]
  },
  {
   "cell_type": "code",
   "execution_count": 12,
   "metadata": {},
   "outputs": [],
   "source": [
    "from council_rag.data_transformations.text_transformations import generate_groq_summary"
   ]
  },
  {
   "cell_type": "code",
   "execution_count": 13,
   "metadata": {},
   "outputs": [],
   "source": [
    "summary_prompt = \"\"\"Il s'agit d'un texte concernant un projet de géothermie :\n",
    "TEXTE: \n",
    "{}\n",
    "\n",
    "TÂCHE:\n",
    "Make a one page summary paying special attention to all the administrative matters like budgets, plans, actions to take in the future, organizational and hierarchical charts, announcements, meetings, contacts, elections, reports and all the related topics to these.\n",
    "\n",
    "OUTPUT:\n",
    "Publier directement le résumé.\n",
    "\"\"\""
   ]
  },
  {
   "cell_type": "code",
   "execution_count": 17,
   "metadata": {},
   "outputs": [
    {
     "name": "stdout",
     "output_type": "stream",
     "text": [
      "8\n"
     ]
    }
   ],
   "source": [
    "cluster_paras = []\n",
    "for cluster in clusters.values():\n",
    "    cluster_para = cluster[\"union_paras\"]\n",
    "    cluster_paras.append(cluster_para)\n",
    "\n",
    "print(len(cluster_paras))"
   ]
  },
  {
   "cell_type": "markdown",
   "metadata": {},
   "source": [
    "gemma2-9b-it is the model with the largest Token limit per minute, 15000.\n",
    "\n",
    "llama-3.3-70b-versatile allows 6000 per minute."
   ]
  },
  {
   "cell_type": "code",
   "execution_count": null,
   "metadata": {},
   "outputs": [],
   "source": [
    "import time\n",
    "# max tokens for llama-3.3-70b-versatile is 6000 per minute\n",
    "cluster_summaries = []\n",
    "\n",
    "token_limit = 14000\n",
    "token_count = 0\n",
    "for cluster_para in cluster_paras:\n",
    "    # print(len(cluster_para))\n",
    "    naive_length_check = len(cluster_para.split(\" \")) # the token calcs in groq are very close to this number\n",
    "    token_count += naive_length_check\n",
    "    # print(naive_length_check)\n",
    "    if token_count > token_limit:\n",
    "        time.sleep(60)\n",
    "        token_count = 0\n",
    "    cluster_summary = generate_groq_summary(summary_prompt, cluster_para, groq_token, model=\"gemma2-9b-it\")\n",
    "    cluster_summaries.append(cluster_summary)\n",
    "    \n",
    "# from 6 minutes to 28 secs in my machine"
   ]
  },
  {
   "cell_type": "code",
   "execution_count": 31,
   "metadata": {},
   "outputs": [],
   "source": [
    "import json\n",
    "with open(\"cluster_summaries_example.json\", \"w\") as f:\n",
    "    json.dump(cluster_summaries, f)\n"
   ]
  },
  {
   "cell_type": "markdown",
   "metadata": {},
   "source": [
    "## Table content algos\n",
    "\n",
    "The process is a bit more complex. Since we want to put the augmented table context in the right place and with im2pdf we get the page where the table is, we have to estimate where in the running text the table is. A workaround could be extracting each page text of the pdf as markdown to keep track of what span of text happens in each page. Then we could just try to regex match the table context to the pages text and append the augmented table context above/below the table.\n",
    "\n",
    "Note: some pdfs may have a page n/m at the end of the page but it is not always the case.\n"
   ]
  },
  {
   "cell_type": "code",
   "execution_count": 56,
   "metadata": {},
   "outputs": [],
   "source": [
    "from council_rag.data_utils import pf2mdpagebypage, pdf2md\n"
   ]
  },
  {
   "cell_type": "code",
   "execution_count": 53,
   "metadata": {},
   "outputs": [],
   "source": [
    "output_folder = \"pdfs/\"\n",
    "input_pdf = \"example.pdf\""
   ]
  },
  {
   "cell_type": "code",
   "execution_count": null,
   "metadata": {},
   "outputs": [
    {
     "name": "stdout",
     "output_type": "stream",
     "text": [
      "Started parsing the file under job_id e6c3be36-3b22-4c6f-a210-074b96ce3634\n",
      "Started parsing the file under job_id ee3e530b-af77-4a45-af4b-1e21fc5c9721\n",
      "..Started parsing the file under job_id 6817bf31-447b-4700-8725-f951bc060787\n",
      ".Started parsing the file under job_id c8279860-22ea-49d6-8c26-eeceedcc2258\n",
      "Started parsing the file under job_id 713a79d8-92a4-4e3f-aa92-dcce4cb73b56\n",
      "Started parsing the file under job_id 35ca6f2c-6f9b-48fd-91c0-ad6285ed1fd1\n",
      "Started parsing the file under job_id 2c74e8b3-7165-4797-aa23-7088a5930839\n",
      "..Started parsing the file under job_id f8f06f75-18dd-44ea-8e63-4a33309666ed\n",
      ".Started parsing the file under job_id 2b7159d8-9efb-4b7b-979c-fce21aef6c6a\n",
      "Started parsing the file under job_id 4d706a17-5246-41f4-b1a7-421ef3bec0c9\n",
      "Started parsing the file under job_id 35705776-5d03-4651-a335-0a830d3c19e5\n",
      "Started parsing the file under job_id 90e34f19-364a-49e0-8db0-d2f5b17e6d86\n",
      "Started parsing the file under job_id 8abd3a47-d709-4609-a73b-6035b4db7a98\n",
      "Started parsing the file under job_id c1f19250-cf41-43d4-ac1d-6b825b1635ad\n",
      "....Started parsing the file under job_id 6aeb2b0c-8d11-446d-8ca1-f839f5165945\n",
      ".....Started parsing the file under job_id d03aa287-e5b5-4f17-927b-46a3b39b7d2f\n",
      ".Started parsing the file under job_id 2ceeac3d-580a-46f8-ba27-aba6d6261048\n",
      "Started parsing the file under job_id 594311e0-763d-4a15-b3b7-389919b7ba19\n",
      "....Started parsing the file under job_id 364f16e2-7768-4c79-a51e-446519c83597\n",
      ".Started parsing the file under job_id 8a55960f-77ed-4c4f-8c33-fea5a04b671d\n",
      "......Started parsing the file under job_id 3a71ed62-a40a-48ec-a563-ed70b288db04\n",
      "Started parsing the file under job_id 76dd7169-a5be-4454-80f5-f29668cf10d4\n",
      ".Started parsing the file under job_id b1d19c81-f4dd-4e3a-b24a-88309909a802\n",
      ".Started parsing the file under job_id 2629937b-7499-4a17-afd4-19fe751bf090\n",
      ".Started parsing the file under job_id fbdb8dd7-baeb-491f-be97-085839777730\n",
      "Started parsing the file under job_id 5eb46d78-aa43-4ed8-b85e-984b2ad6bcc9\n",
      ".Started parsing the file under job_id cb44f751-fda5-4c8f-93e7-cfb8feeeb210\n",
      "Started parsing the file under job_id 140513a7-6a9f-48d9-8ef2-b04d5e2aef93\n",
      "Started parsing the file under job_id a44c3390-d4df-4420-aeef-f7ec9c648925\n",
      ".Started parsing the file under job_id 604ecfe6-d80e-4920-9898-52940170b00a\n",
      ".Started parsing the file under job_id a94fa4d9-2b54-461c-9e96-3c4b6be77390\n",
      ".Started parsing the file under job_id bc279ae5-b2a6-483e-a6d6-09558bd192fc\n",
      ".Started parsing the file under job_id 692d5cb7-5c39-4452-8f97-8cc096b1d2bb\n",
      "Started parsing the file under job_id ecbaeb80-c3d3-40bf-bfe5-15207073eaa4\n",
      "..Started parsing the file under job_id 06bccc38-47b1-4702-a5c4-3337fc51f92d\n",
      "Started parsing the file under job_id 7d639fd8-bf7f-4565-abb8-45665c0e0d6a\n",
      "Started parsing the file under job_id 1f3dc936-758d-4925-839f-dfeef18cd059\n",
      "Started parsing the file under job_id c2d101e0-36b1-4311-87a3-9d0b87db47da\n",
      "Started parsing the file under job_id 4a4f6f31-c08d-43a2-a209-f140c36f78cc\n",
      "Started parsing the file under job_id 3b9cb467-9cee-4ef8-ac9e-15f74c5b0c0b\n",
      ".Started parsing the file under job_id 37b1993f-485e-41ff-90ab-c55cb8244871\n",
      "Started parsing the file under job_id bfee2db4-8a6f-4fa9-8992-4f86b70e23c6\n",
      "Started parsing the file under job_id cf444d57-83c7-4110-918b-5e29e1ce6542\n",
      ".Started parsing the file under job_id fc2e0f8f-6d03-46d7-80ce-58a112fb4514\n",
      "Started parsing the file under job_id 0fabf4bb-a2c9-4473-b316-34a2482caa4a\n",
      "Started parsing the file under job_id 3dcab266-3739-4c98-8b8e-3c7a851076e5\n",
      "Started parsing the file under job_id eaab9a73-4e74-4e19-aab7-6af41fb96bf9\n",
      ".Started parsing the file under job_id 494add77-e76c-4a4c-821f-c1ecdfd12846\n",
      "Started parsing the file under job_id baccad52-468f-4ef4-ab2e-8e8869371ae6\n"
     ]
    }
   ],
   "source": [
    "# using our fx with fitz and llama parse\n",
    "pages = pf2mdpagebypage(input_pdf=input_pdf, output_folder=output_folder)\n",
    "\n",
    "# takes around 30 secs per page to run in my machine\n",
    "# fifteen minutes for 20 pages\n",
    "# 30 for the whole pdf"
   ]
  },
  {
   "cell_type": "code",
   "execution_count": 55,
   "metadata": {},
   "outputs": [
    {
     "data": {
      "text/plain": [
       "\"# Séance publique\\n\\n# du jeudi 28 octobre 2021 à 18h00\\n\\n# Chorum Alain Gilles - Halle Vacheresse\\n\\n# Rue des Vernes à Roanne\\n\\n# PROCES VERBAL\\n\\nL'an deux mille vingt et un, le 28 octobre à 18 h 00, les conseillers communautaires de Roannais Agglomération, se sont réunis à l’Espace Chorum – Halle Vacheresse – Rue des Vernes à Roanne.\\n\\nLa convocation de tous les conseillers a été faite le 22 octobre 2021, dans les formes et délais prescrits par la loi, par Yves Nicolin, Président.\\n\\n# Etaient présents :\\n\\nChristine Aranéo - Marcel Augier - Jean-Jacques Banchet - Pierre Barnet - Martine Barroso - Isabelle Berthelot -\\nFranck Beysson - Jean-Yves Boire - Romain Bost - Michelle Bouchet - Edmond Bourgeon - Marie-Christine Bravo -\\nCatherine Brun - Dominique Bruyère - Nicolas Chargueros - Jean-Luc Chervin - Christine Chevillard - Pierre Coissard -\\nPatrick Collet - Sandra Creuzet - Hervé Daval - Jean-Paul Descombes - Pierre Devedeux - Christian Dorange -\\nDavid Dozance - Catherine Dufossé - Christian Dupuis - Jacky Geneste - Annie Gerenton - Gilles Goutaudier -\\nPatricia Goutorbe - Guy Lafay - Fabien Lambert - Hélène Lapalus - Sébastien Lassaigne - Christelle Lattat -\\nChristian Laurent - Maryvonne Loughraieb - Adina Lupu Bratiloveanu - Muriel Marcellin - Jean-Luc Mardeuil -\\nEric Martin - Yves Meunier (Suppléant Laurence Boyer) - Véronique Mouiller - Lucien Murzi - Pascal Muzart -\\nNabih Nejjar (arrivé en cours de séance) - Yves Nicolin - Mahdi Nouibat - Gilles Passot (arrivé en cours de séance) -\\nPhilippe Perron - Jade Petit - Éric Peyron - Anne Pilato - Christophe Pion - Serge Pralas - Stéphane Raphaël -\\nClotilde Robin - Martine Roffat - Alain Rossetti - Sophie Rotkopf - Jean Smith - Jacques Troncy - Denis Vanhecke -\\nGilbert Varrenne - Antoine Vermorel-Marques.\\n\\n# Etaient absents :\\n\\nCf page suivante.\\n\\nPage 1 sur 49\\n\\n\""
      ]
     },
     "execution_count": 55,
     "metadata": {},
     "output_type": "execute_result"
    }
   ],
   "source": [
    "pages[0]"
   ]
  }
 ],
 "metadata": {
  "kernelspec": {
   "display_name": "Python 3",
   "language": "python",
   "name": "python3"
  },
  "language_info": {
   "codemirror_mode": {
    "name": "ipython",
    "version": 3
   },
   "file_extension": ".py",
   "mimetype": "text/x-python",
   "name": "python",
   "nbconvert_exporter": "python",
   "pygments_lexer": "ipython3",
   "version": "3.12.0"
  }
 },
 "nbformat": 4,
 "nbformat_minor": 2
}
