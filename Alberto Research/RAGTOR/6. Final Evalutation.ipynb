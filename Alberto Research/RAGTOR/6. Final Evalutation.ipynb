{
 "cells": [
  {
   "cell_type": "markdown",
   "metadata": {},
   "source": [
    "# Evaluation\n"
   ]
  },
  {
   "cell_type": "code",
   "execution_count": 1,
   "metadata": {},
   "outputs": [],
   "source": [
    "with open(\"HF_TOKEN.txt\", \"r\") as f:\n",
    "    hf_token = f.read()\n",
    "\n",
    "with open(\"GROQ_KEY.txt\", \"r\") as f:\n",
    "    groq_token = f.read()"
   ]
  },
  {
   "cell_type": "code",
   "execution_count": 2,
   "metadata": {},
   "outputs": [
    {
     "name": "stderr",
     "output_type": "stream",
     "text": [
      "c:\\Users\\alber\\AppData\\Local\\Programs\\Python\\Python312\\Lib\\site-packages\\tqdm\\auto.py:21: TqdmWarning: IProgress not found. Please update jupyter and ipywidgets. See https://ipywidgets.readthedocs.io/en/stable/user_install.html\n",
      "  from .autonotebook import tqdm as notebook_tqdm\n"
     ]
    },
    {
     "name": "stdout",
     "output_type": "stream",
     "text": [
      "alberto-lorente\n"
     ]
    }
   ],
   "source": [
    "from huggingface_hub import HfFolder, whoami\n",
    "\n",
    "HfFolder.save_token(hf_token)\n",
    "print(whoami()[\"name\"])"
   ]
  },
  {
   "cell_type": "code",
   "execution_count": 3,
   "metadata": {},
   "outputs": [
    {
     "name": "stdout",
     "output_type": "stream",
     "text": [
      "Cuda available\n"
     ]
    }
   ],
   "source": [
    "import torch\n",
    "\n",
    "device = \"cpu\"\n",
    "if torch.cuda.is_available():\n",
    "    print(\"Cuda available\")\n",
    "    device = torch.device('cuda')"
   ]
  },
  {
   "cell_type": "markdown",
   "metadata": {},
   "source": [
    "### Preparing the Data for Evaluation"
   ]
  },
  {
   "cell_type": "code",
   "execution_count": 4,
   "metadata": {},
   "outputs": [],
   "source": [
    "import os \n",
    "eval_path = r\"Evaluation data\\Solved PDFs\"\n",
    "solved_pdfs_path = os.listdir(eval_path)\n",
    "solved_pdfs_path_pdf_files = [os.path.join(eval_path, pdf) for pdf in solved_pdfs_path if pdf.endswith(\"pdf\")]\n",
    "solved_pdfs_path_txt_files = [os.path.join(eval_path, txt) for txt in solved_pdfs_path if txt.endswith(\"txt\")]"
   ]
  },
  {
   "cell_type": "code",
   "execution_count": 5,
   "metadata": {},
   "outputs": [],
   "source": [
    "list_tuple_data = []\n",
    "i = 0\n",
    "while i < len(solved_pdfs_path_pdf_files):\n",
    "    tup = (solved_pdfs_path_pdf_files[i], solved_pdfs_path_txt_files[i])\n",
    "    list_tuple_data.append(tup)\n",
    "    i += 1"
   ]
  },
  {
   "cell_type": "code",
   "execution_count": 6,
   "metadata": {},
   "outputs": [
    {
     "data": {
      "text/plain": [
       "[('Evaluation data\\\\Solved PDFs\\\\4b7076dc7989552fc75046c32d068eee9122adff_DEL13-1223-Annex.pdf',\n",
       "  'Evaluation data\\\\Solved PDFs\\\\4b7076dc7989552fc75046c32d068eee9122adff_DEL13-1223-Annex.txt'),\n",
       " ('Evaluation data\\\\Solved PDFs\\\\7a3ef5c116cca7f5328c44ef2c3f227f8c90ef60_Zones_Accélérati.pdf',\n",
       "  'Evaluation data\\\\Solved PDFs\\\\7a3ef5c116cca7f5328c44ef2c3f227f8c90ef60_Zones_Accélérati.txt'),\n",
       " ('Evaluation data\\\\Solved PDFs\\\\a7f4c9d0d7c8f3c9cd67b7c80beec26d9c234382_delibs-22-mai-24.pdf',\n",
       "  'Evaluation data\\\\Solved PDFs\\\\a7f4c9d0d7c8f3c9cd67b7c80beec26d9c234382_delibs-22-mai-24.txt'),\n",
       " ('Evaluation data\\\\Solved PDFs\\\\ecc6f_07-12-juillet.pdf',\n",
       "  'Evaluation data\\\\Solved PDFs\\\\ecc6f_07-12-juillet.txt'),\n",
       " ('Evaluation data\\\\Solved PDFs\\\\fa224c7892c9c4971dda6423c75c97a04f6e3666_del2024_22-defin.pdf',\n",
       "  'Evaluation data\\\\Solved PDFs\\\\fa224c7892c9c4971dda6423c75c97a04f6e3666_del2024_22-defin.txt')]"
      ]
     },
     "execution_count": 6,
     "metadata": {},
     "output_type": "execute_result"
    }
   ],
   "source": [
    "list_tuple_data"
   ]
  },
  {
   "cell_type": "markdown",
   "metadata": {},
   "source": [
    "### Loading Prompts"
   ]
  },
  {
   "cell_type": "code",
   "execution_count": 7,
   "metadata": {},
   "outputs": [],
   "source": [
    "import json\n",
    "\n",
    "with open(\"prompts_preprocessing.json\", \"r\") as f:\n",
    "    prompts_for_processing = json.load(f)\n",
    "\n",
    "table_process_prompt = prompts_for_processing[\"augment_table_prompt\"]\n",
    "summary_prompt = prompts_for_processing[\"summary_prompt\"]"
   ]
  },
  {
   "cell_type": "code",
   "execution_count": 8,
   "metadata": {},
   "outputs": [],
   "source": [
    "with open(\"french_prompts.json\", \"r\") as f:\n",
    "    prompts_query = json.load(f)"
   ]
  },
  {
   "cell_type": "markdown",
   "metadata": {},
   "source": [
    "## Loading markdown"
   ]
  },
  {
   "cell_type": "markdown",
   "metadata": {},
   "source": [
    "# -2 hecho"
   ]
  },
  {
   "cell_type": "code",
   "execution_count": 9,
   "metadata": {},
   "outputs": [],
   "source": [
    "pdf_path = list_tuple_data[-3][0]\n",
    "markdown_path = list_tuple_data[-3][1]"
   ]
  },
  {
   "cell_type": "code",
   "execution_count": 10,
   "metadata": {},
   "outputs": [
    {
     "data": {
      "text/plain": [
       "'Evaluation data\\\\Solved PDFs\\\\a7f4c9d0d7c8f3c9cd67b7c80beec26d9c234382_delibs-22-mai-24.pdf'"
      ]
     },
     "execution_count": 10,
     "metadata": {},
     "output_type": "execute_result"
    }
   ],
   "source": [
    "pdf_path"
   ]
  },
  {
   "cell_type": "code",
   "execution_count": 11,
   "metadata": {},
   "outputs": [],
   "source": [
    "with open(markdown_path, \"r\") as f:\n",
    "    markdown = f.read()"
   ]
  },
  {
   "cell_type": "code",
   "execution_count": 12,
   "metadata": {},
   "outputs": [
    {
     "data": {
      "text/plain": [
       "'NO_CONTENT_HERE\\n\\nNO_CONTENT_HERE\\n\\nNO_CONTENT_HERE\\n\\nNO_CONTENT_HERE\\n\\nNO_CONTENT_HERE\\n\\nNO_CONTENT_HERE\\n\\nNO_CONTENT_HERE\\n\\nNO_CONTENT_HERE\\n\\nNO_CONTENT_HERE\\n\\nNO_CONTENT_HERE\\n\\nNO_CONTENT_HERE\\n\\nNO_CONTENT_HERE\\n\\nNO_CONTENT_HERE\\n\\nNO_CONTENT_HERE\\n\\nNO_CONTENT_HERE\\n\\nNO_CONTENT_HERE\\n\\nNO_CONTENT_HERE\\n\\nNO_CONTENT_HERE\\n\\nNO_CONTENT_HERE\\n\\nNO_CONTENT_HERE\\n\\nNO_CONTENT_HERE\\n\\n'"
      ]
     },
     "execution_count": 12,
     "metadata": {},
     "output_type": "execute_result"
    }
   ],
   "source": [
    "markdown"
   ]
  },
  {
   "cell_type": "markdown",
   "metadata": {},
   "source": [
    "## Processing"
   ]
  },
  {
   "cell_type": "code",
   "execution_count": 13,
   "metadata": {},
   "outputs": [
    {
     "name": "stderr",
     "output_type": "stream",
     "text": [
      "Loading checkpoint shards: 100%|██████████| 3/3 [00:02<00:00,  1.36it/s]\n"
     ]
    },
    {
     "ename": "ValueError",
     "evalue": "Found array with 1 sample(s) (shape=(1, 2048)) while a minimum of 2 is required by GaussianMixture.",
     "output_type": "error",
     "traceback": [
      "\u001b[1;31m---------------------------------------------------------------------------\u001b[0m",
      "\u001b[1;31mValueError\u001b[0m                                Traceback (most recent call last)",
      "Cell \u001b[1;32mIn[13], line 10\u001b[0m\n\u001b[0;32m      7\u001b[0m unload_cuda()\n\u001b[0;32m      8\u001b[0m start \u001b[38;5;241m=\u001b[39m time\u001b[38;5;241m.\u001b[39mtime()\n\u001b[1;32m---> 10\u001b[0m paragraphs_list, clusters_dict, model \u001b[38;5;241m=\u001b[39m \u001b[43mpreprocess_markdown_text\u001b[49m\u001b[43m(\u001b[49m\u001b[43mmarkdown\u001b[49m\u001b[43m,\u001b[49m\n\u001b[0;32m     11\u001b[0m \u001b[43m                                                        \u001b[49m\u001b[43mmodel_id\u001b[49m\u001b[43m \u001b[49m\u001b[38;5;241;43m=\u001b[39;49m\u001b[38;5;124;43m\"\u001b[39;49m\u001b[38;5;124;43mJaume/gemma-2b-embeddings\u001b[39;49m\u001b[38;5;124;43m\"\u001b[39;49m\u001b[43m,\u001b[49m\u001b[43m \u001b[49m\n\u001b[0;32m     12\u001b[0m \u001b[43m                                                        \u001b[49m\u001b[43mspacy_model\u001b[49m\u001b[38;5;241;43m=\u001b[39;49m\u001b[38;5;124;43m\"\u001b[39;49m\u001b[38;5;124;43mfr_core_news_sm\u001b[39;49m\u001b[38;5;124;43m\"\u001b[39;49m\u001b[43m,\u001b[49m\u001b[43m \u001b[49m\n\u001b[0;32m     13\u001b[0m \u001b[43m                                                        \u001b[49m\u001b[43mn_sents_per_para\u001b[49m\u001b[38;5;241;43m=\u001b[39;49m\u001b[38;5;241;43m8\u001b[39;49m\u001b[43m,\u001b[49m\n\u001b[0;32m     14\u001b[0m \u001b[43m                                                        \u001b[49m\u001b[43mdevice\u001b[49m\u001b[38;5;241;43m=\u001b[39;49m\u001b[43mdevice\u001b[49m\u001b[43m)\u001b[49m\n",
      "File \u001b[1;32mc:\\Users\\alber\\Desktop\\Council-Minutes\\Alberto Research\\RAGTOR\\council_rag\\preprocessing\\__init__.py:34\u001b[0m, in \u001b[0;36mpreprocess_markdown_text\u001b[1;34m(markdown, model_id, spacy_model, n_sents_per_para, min_n_clusters, device)\u001b[0m\n\u001b[0;32m     31\u001b[0m squeezeded_embeddings \u001b[38;5;241m=\u001b[39m [para_dict[\u001b[38;5;124m\"\u001b[39m\u001b[38;5;124mpara_embedding\u001b[39m\u001b[38;5;124m\"\u001b[39m] \u001b[38;5;28;01mfor\u001b[39;00m para_dict \u001b[38;5;129;01min\u001b[39;00m paragraphs]\n\u001b[0;32m     33\u001b[0m \u001b[38;5;66;03m# Compute the ideal number of clusters\u001b[39;00m\n\u001b[1;32m---> 34\u001b[0m optimal_n, final_clusters, silhouette_scores \u001b[38;5;241m=\u001b[39m \u001b[43mget_optimal_n_clusters\u001b[49m\u001b[43m(\u001b[49m\u001b[43msqueezeded_embeddings\u001b[49m\u001b[43m,\u001b[49m\u001b[43m \u001b[49m\u001b[43mmin_n_clusters\u001b[49m\u001b[43m,\u001b[49m\u001b[43m \u001b[49m\u001b[43mmax_n_clusters\u001b[49m\u001b[38;5;241;43m=\u001b[39;49m\u001b[38;5;241;43m9\u001b[39;49m\u001b[43m)\u001b[49m\n\u001b[0;32m     36\u001b[0m \u001b[38;5;66;03m# Creating the dictionary of clusters\u001b[39;00m\n\u001b[0;32m     37\u001b[0m clusters_ids \u001b[38;5;241m=\u001b[39m {\u001b[38;5;124mf\u001b[39m\u001b[38;5;124m\"\u001b[39m\u001b[38;5;124mcluster_\u001b[39m\u001b[38;5;132;01m{\u001b[39;00mcluster_id\u001b[38;5;132;01m}\u001b[39;00m\u001b[38;5;124m\"\u001b[39m: {\u001b[38;5;124m\"\u001b[39m\u001b[38;5;124mpara_indexes\u001b[39m\u001b[38;5;124m\"\u001b[39m: [],\n\u001b[0;32m     38\u001b[0m                                         \u001b[38;5;124m\"\u001b[39m\u001b[38;5;124munion_paras\u001b[39m\u001b[38;5;124m\"\u001b[39m: \u001b[38;5;124m\"\u001b[39m\u001b[38;5;124m\"\u001b[39m} \u001b[38;5;28;01mfor\u001b[39;00m cluster_id \u001b[38;5;129;01min\u001b[39;00m np\u001b[38;5;241m.\u001b[39marange(\u001b[38;5;241m0\u001b[39m, optimal_n, \u001b[38;5;241m1\u001b[39m)}\n",
      "File \u001b[1;32mc:\\Users\\alber\\Desktop\\Council-Minutes\\Alberto Research\\RAGTOR\\council_rag\\preprocessing\\preprocessing.py:161\u001b[0m, in \u001b[0;36mget_optimal_n_clusters\u001b[1;34m(squeezeded_embeddings, min_n_clusters, max_n_clusters)\u001b[0m\n\u001b[0;32m    159\u001b[0m \u001b[38;5;28;01mfor\u001b[39;00m n_cluster \u001b[38;5;129;01min\u001b[39;00m range_clusters:\n\u001b[0;32m    160\u001b[0m     gm \u001b[38;5;241m=\u001b[39m GaussianMixture(n_components\u001b[38;5;241m=\u001b[39mn_cluster, random_state\u001b[38;5;241m=\u001b[39m\u001b[38;5;241m42\u001b[39m) \u001b[38;5;66;03m# using Gaussian Mixture as in the paper references\u001b[39;00m\n\u001b[1;32m--> 161\u001b[0m     clusters, sil_sc \u001b[38;5;241m=\u001b[39m \u001b[43mcluster_n\u001b[49m\u001b[43m(\u001b[49m\u001b[43mgm\u001b[49m\u001b[43m,\u001b[49m\u001b[43m \u001b[49m\u001b[43mn_cluster\u001b[49m\u001b[43m,\u001b[49m\u001b[43m \u001b[49m\u001b[43msqueezeded_embeddings\u001b[49m\u001b[43m,\u001b[49m\u001b[43m \u001b[49m\u001b[43msilhouette_score\u001b[49m\u001b[43m)\u001b[49m\n\u001b[0;32m    162\u001b[0m     silhouette_scores\u001b[38;5;241m.\u001b[39mappend(sil_sc)\n\u001b[0;32m    163\u001b[0m     clusters_labels\u001b[38;5;241m.\u001b[39mappend(clusters) \u001b[38;5;66;03m# saving the labels so that we don't need to recompute them after getting the optimal n\u001b[39;00m\n",
      "File \u001b[1;32mc:\\Users\\alber\\Desktop\\Council-Minutes\\Alberto Research\\RAGTOR\\council_rag\\preprocessing\\preprocessing.py:137\u001b[0m, in \u001b[0;36mcluster_n\u001b[1;34m(cluster_model, n_clusters, embeddings, scoring_function)\u001b[0m\n\u001b[0;32m    132\u001b[0m \u001b[38;5;28;01mdef\u001b[39;00m\u001b[38;5;250m \u001b[39m\u001b[38;5;21mcluster_n\u001b[39m(cluster_model, n_clusters, embeddings, scoring_function):\n\u001b[0;32m    133\u001b[0m \u001b[38;5;250m    \u001b[39m\u001b[38;5;124;03m\"\"\"\u001b[39;00m\n\u001b[0;32m    134\u001b[0m \u001b[38;5;124;03m    Clusters the embeddings using the cluster model, a Gaussian Mixture.\u001b[39;00m\n\u001b[0;32m    135\u001b[0m \u001b[38;5;124;03m    Returns the clusters and the silhouette score.\u001b[39;00m\n\u001b[0;32m    136\u001b[0m \u001b[38;5;124;03m    \"\"\"\u001b[39;00m\n\u001b[1;32m--> 137\u001b[0m     clusters \u001b[38;5;241m=\u001b[39m \u001b[43mcluster_model\u001b[49m\u001b[38;5;241;43m.\u001b[39;49m\u001b[43mfit_predict\u001b[49m\u001b[43m(\u001b[49m\u001b[43membeddings\u001b[49m\u001b[43m)\u001b[49m\n\u001b[0;32m    138\u001b[0m     sil_sc \u001b[38;5;241m=\u001b[39m scoring_function(embeddings, clusters)\n\u001b[0;32m    140\u001b[0m     \u001b[38;5;66;03m# print(\"Number of clusters: \", n_clusters)\u001b[39;00m\n\u001b[0;32m    141\u001b[0m     \u001b[38;5;66;03m# print(\"Score: \", sil_sc)\u001b[39;00m\n\u001b[0;32m    142\u001b[0m     \u001b[38;5;66;03m# print()\u001b[39;00m\n",
      "File \u001b[1;32mc:\\Users\\alber\\AppData\\Local\\Programs\\Python\\Python312\\Lib\\site-packages\\sklearn\\base.py:1389\u001b[0m, in \u001b[0;36m_fit_context.<locals>.decorator.<locals>.wrapper\u001b[1;34m(estimator, *args, **kwargs)\u001b[0m\n\u001b[0;32m   1382\u001b[0m     estimator\u001b[38;5;241m.\u001b[39m_validate_params()\n\u001b[0;32m   1384\u001b[0m \u001b[38;5;28;01mwith\u001b[39;00m config_context(\n\u001b[0;32m   1385\u001b[0m     skip_parameter_validation\u001b[38;5;241m=\u001b[39m(\n\u001b[0;32m   1386\u001b[0m         prefer_skip_nested_validation \u001b[38;5;129;01mor\u001b[39;00m global_skip_validation\n\u001b[0;32m   1387\u001b[0m     )\n\u001b[0;32m   1388\u001b[0m ):\n\u001b[1;32m-> 1389\u001b[0m     \u001b[38;5;28;01mreturn\u001b[39;00m \u001b[43mfit_method\u001b[49m\u001b[43m(\u001b[49m\u001b[43mestimator\u001b[49m\u001b[43m,\u001b[49m\u001b[43m \u001b[49m\u001b[38;5;241;43m*\u001b[39;49m\u001b[43margs\u001b[49m\u001b[43m,\u001b[49m\u001b[43m \u001b[49m\u001b[38;5;241;43m*\u001b[39;49m\u001b[38;5;241;43m*\u001b[39;49m\u001b[43mkwargs\u001b[49m\u001b[43m)\u001b[49m\n",
      "File \u001b[1;32mc:\\Users\\alber\\AppData\\Local\\Programs\\Python\\Python312\\Lib\\site-packages\\sklearn\\mixture\\_base.py:211\u001b[0m, in \u001b[0;36mBaseMixture.fit_predict\u001b[1;34m(self, X, y)\u001b[0m\n\u001b[0;32m    183\u001b[0m \u001b[38;5;129m@_fit_context\u001b[39m(prefer_skip_nested_validation\u001b[38;5;241m=\u001b[39m\u001b[38;5;28;01mTrue\u001b[39;00m)\n\u001b[0;32m    184\u001b[0m \u001b[38;5;28;01mdef\u001b[39;00m\u001b[38;5;250m \u001b[39m\u001b[38;5;21mfit_predict\u001b[39m(\u001b[38;5;28mself\u001b[39m, X, y\u001b[38;5;241m=\u001b[39m\u001b[38;5;28;01mNone\u001b[39;00m):\n\u001b[0;32m    185\u001b[0m \u001b[38;5;250m    \u001b[39m\u001b[38;5;124;03m\"\"\"Estimate model parameters using X and predict the labels for X.\u001b[39;00m\n\u001b[0;32m    186\u001b[0m \n\u001b[0;32m    187\u001b[0m \u001b[38;5;124;03m    The method fits the model n_init times and sets the parameters with\u001b[39;00m\n\u001b[1;32m   (...)\u001b[0m\n\u001b[0;32m    209\u001b[0m \u001b[38;5;124;03m        Component labels.\u001b[39;00m\n\u001b[0;32m    210\u001b[0m \u001b[38;5;124;03m    \"\"\"\u001b[39;00m\n\u001b[1;32m--> 211\u001b[0m     X \u001b[38;5;241m=\u001b[39m \u001b[43mvalidate_data\u001b[49m\u001b[43m(\u001b[49m\u001b[38;5;28;43mself\u001b[39;49m\u001b[43m,\u001b[49m\u001b[43m \u001b[49m\u001b[43mX\u001b[49m\u001b[43m,\u001b[49m\u001b[43m \u001b[49m\u001b[43mdtype\u001b[49m\u001b[38;5;241;43m=\u001b[39;49m\u001b[43m[\u001b[49m\u001b[43mnp\u001b[49m\u001b[38;5;241;43m.\u001b[39;49m\u001b[43mfloat64\u001b[49m\u001b[43m,\u001b[49m\u001b[43m \u001b[49m\u001b[43mnp\u001b[49m\u001b[38;5;241;43m.\u001b[39;49m\u001b[43mfloat32\u001b[49m\u001b[43m]\u001b[49m\u001b[43m,\u001b[49m\u001b[43m \u001b[49m\u001b[43mensure_min_samples\u001b[49m\u001b[38;5;241;43m=\u001b[39;49m\u001b[38;5;241;43m2\u001b[39;49m\u001b[43m)\u001b[49m\n\u001b[0;32m    212\u001b[0m     \u001b[38;5;28;01mif\u001b[39;00m X\u001b[38;5;241m.\u001b[39mshape[\u001b[38;5;241m0\u001b[39m] \u001b[38;5;241m<\u001b[39m \u001b[38;5;28mself\u001b[39m\u001b[38;5;241m.\u001b[39mn_components:\n\u001b[0;32m    213\u001b[0m         \u001b[38;5;28;01mraise\u001b[39;00m \u001b[38;5;167;01mValueError\u001b[39;00m(\n\u001b[0;32m    214\u001b[0m             \u001b[38;5;124m\"\u001b[39m\u001b[38;5;124mExpected n_samples >= n_components \u001b[39m\u001b[38;5;124m\"\u001b[39m\n\u001b[0;32m    215\u001b[0m             \u001b[38;5;124mf\u001b[39m\u001b[38;5;124m\"\u001b[39m\u001b[38;5;124mbut got n_components = \u001b[39m\u001b[38;5;132;01m{\u001b[39;00m\u001b[38;5;28mself\u001b[39m\u001b[38;5;241m.\u001b[39mn_components\u001b[38;5;132;01m}\u001b[39;00m\u001b[38;5;124m, \u001b[39m\u001b[38;5;124m\"\u001b[39m\n\u001b[0;32m    216\u001b[0m             \u001b[38;5;124mf\u001b[39m\u001b[38;5;124m\"\u001b[39m\u001b[38;5;124mn_samples = \u001b[39m\u001b[38;5;132;01m{\u001b[39;00mX\u001b[38;5;241m.\u001b[39mshape[\u001b[38;5;241m0\u001b[39m]\u001b[38;5;132;01m}\u001b[39;00m\u001b[38;5;124m\"\u001b[39m\n\u001b[0;32m    217\u001b[0m         )\n",
      "File \u001b[1;32mc:\\Users\\alber\\AppData\\Local\\Programs\\Python\\Python312\\Lib\\site-packages\\sklearn\\utils\\validation.py:2944\u001b[0m, in \u001b[0;36mvalidate_data\u001b[1;34m(_estimator, X, y, reset, validate_separately, skip_check_array, **check_params)\u001b[0m\n\u001b[0;32m   2942\u001b[0m         out \u001b[38;5;241m=\u001b[39m X, y\n\u001b[0;32m   2943\u001b[0m \u001b[38;5;28;01melif\u001b[39;00m \u001b[38;5;129;01mnot\u001b[39;00m no_val_X \u001b[38;5;129;01mand\u001b[39;00m no_val_y:\n\u001b[1;32m-> 2944\u001b[0m     out \u001b[38;5;241m=\u001b[39m \u001b[43mcheck_array\u001b[49m\u001b[43m(\u001b[49m\u001b[43mX\u001b[49m\u001b[43m,\u001b[49m\u001b[43m \u001b[49m\u001b[43minput_name\u001b[49m\u001b[38;5;241;43m=\u001b[39;49m\u001b[38;5;124;43m\"\u001b[39;49m\u001b[38;5;124;43mX\u001b[39;49m\u001b[38;5;124;43m\"\u001b[39;49m\u001b[43m,\u001b[49m\u001b[43m \u001b[49m\u001b[38;5;241;43m*\u001b[39;49m\u001b[38;5;241;43m*\u001b[39;49m\u001b[43mcheck_params\u001b[49m\u001b[43m)\u001b[49m\n\u001b[0;32m   2945\u001b[0m \u001b[38;5;28;01melif\u001b[39;00m no_val_X \u001b[38;5;129;01mand\u001b[39;00m \u001b[38;5;129;01mnot\u001b[39;00m no_val_y:\n\u001b[0;32m   2946\u001b[0m     out \u001b[38;5;241m=\u001b[39m _check_y(y, \u001b[38;5;241m*\u001b[39m\u001b[38;5;241m*\u001b[39mcheck_params)\n",
      "File \u001b[1;32mc:\\Users\\alber\\AppData\\Local\\Programs\\Python\\Python312\\Lib\\site-packages\\sklearn\\utils\\validation.py:1130\u001b[0m, in \u001b[0;36mcheck_array\u001b[1;34m(array, accept_sparse, accept_large_sparse, dtype, order, copy, force_writeable, force_all_finite, ensure_all_finite, ensure_non_negative, ensure_2d, allow_nd, ensure_min_samples, ensure_min_features, estimator, input_name)\u001b[0m\n\u001b[0;32m   1128\u001b[0m     n_samples \u001b[38;5;241m=\u001b[39m _num_samples(array)\n\u001b[0;32m   1129\u001b[0m     \u001b[38;5;28;01mif\u001b[39;00m n_samples \u001b[38;5;241m<\u001b[39m ensure_min_samples:\n\u001b[1;32m-> 1130\u001b[0m         \u001b[38;5;28;01mraise\u001b[39;00m \u001b[38;5;167;01mValueError\u001b[39;00m(\n\u001b[0;32m   1131\u001b[0m             \u001b[38;5;124m\"\u001b[39m\u001b[38;5;124mFound array with \u001b[39m\u001b[38;5;132;01m%d\u001b[39;00m\u001b[38;5;124m sample(s) (shape=\u001b[39m\u001b[38;5;132;01m%s\u001b[39;00m\u001b[38;5;124m) while a\u001b[39m\u001b[38;5;124m\"\u001b[39m\n\u001b[0;32m   1132\u001b[0m             \u001b[38;5;124m\"\u001b[39m\u001b[38;5;124m minimum of \u001b[39m\u001b[38;5;132;01m%d\u001b[39;00m\u001b[38;5;124m is required\u001b[39m\u001b[38;5;132;01m%s\u001b[39;00m\u001b[38;5;124m.\u001b[39m\u001b[38;5;124m\"\u001b[39m\n\u001b[0;32m   1133\u001b[0m             \u001b[38;5;241m%\u001b[39m (n_samples, array\u001b[38;5;241m.\u001b[39mshape, ensure_min_samples, context)\n\u001b[0;32m   1134\u001b[0m         )\n\u001b[0;32m   1136\u001b[0m \u001b[38;5;28;01mif\u001b[39;00m ensure_min_features \u001b[38;5;241m>\u001b[39m \u001b[38;5;241m0\u001b[39m \u001b[38;5;129;01mand\u001b[39;00m array\u001b[38;5;241m.\u001b[39mndim \u001b[38;5;241m==\u001b[39m \u001b[38;5;241m2\u001b[39m:\n\u001b[0;32m   1137\u001b[0m     n_features \u001b[38;5;241m=\u001b[39m array\u001b[38;5;241m.\u001b[39mshape[\u001b[38;5;241m1\u001b[39m]\n",
      "\u001b[1;31mValueError\u001b[0m: Found array with 1 sample(s) (shape=(1, 2048)) while a minimum of 2 is required by GaussianMixture."
     ]
    }
   ],
   "source": [
    "from council_rag.preprocessing import preprocess_markdown_text\n",
    "from council_rag.data_transformations import process_tables, summarize_clusters\n",
    "from council_rag.preprocessing.preprocessing import unload_cuda\n",
    "\n",
    "import time\n",
    "\n",
    "unload_cuda()\n",
    "start = time.time()\n",
    "\n",
    "paragraphs_list, clusters_dict, model = preprocess_markdown_text(markdown,\n",
    "                                                        model_id =\"Jaume/gemma-2b-embeddings\", \n",
    "                                                        spacy_model=\"fr_core_news_sm\", \n",
    "                                                        n_sents_per_para=8,\n",
    "                                                        device=device)"
   ]
  },
  {
   "cell_type": "code",
   "execution_count": 15,
   "metadata": {},
   "outputs": [],
   "source": [
    "unload_cuda()\n",
    "processed_tables = process_tables(pdf_path,\n",
    "                                eval_path, # required to know where to save the pdf images\n",
    "                                table_process_prompt, \n",
    "                                groq_token)"
   ]
  },
  {
   "cell_type": "code",
   "execution_count": 16,
   "metadata": {},
   "outputs": [
    {
     "name": "stdout",
     "output_type": "stream",
     "text": [
      "3.8146627227465313\n"
     ]
    }
   ],
   "source": [
    "unload_cuda()\n",
    "clusters_dict = summarize_clusters(clusters_dict, \n",
    "                                    summary_prompt, \n",
    "                                    groq_token, \n",
    "                                    model=\"gemma2-9b-it\", \n",
    "                                    token_limit=14000, \n",
    "                                    sleep_time=60)\n",
    "\n",
    "end = time.time()\n",
    "print((end - start)/60)"
   ]
  },
  {
   "cell_type": "code",
   "execution_count": 17,
   "metadata": {},
   "outputs": [
    {
     "name": "stdout",
     "output_type": "stream",
     "text": [
      "Cuda available\n"
     ]
    }
   ],
   "source": [
    "from langchain_text_splitters import RecursiveCharacterTextSplitter\n",
    "from council_rag.rag import prepare_data_for_rag\n",
    "\n",
    "unload_cuda()\n",
    "clusters_list, paragraphs_list, all_docs = prepare_data_for_rag(clusters_dict, \n",
    "                                                                paragraphs_list, \n",
    "                                                                processed_tables, \n",
    "                                                                splitter=RecursiveCharacterTextSplitter,\n",
    "                                                                chunk_size=450,\n",
    "                                                                chunk_overlap=35,\n",
    "                                                                length_function=len,\n",
    "                                                                is_separator_regex=False)"
   ]
  },
  {
   "cell_type": "code",
   "execution_count": 18,
   "metadata": {},
   "outputs": [],
   "source": [
    "from council_rag.rag import shorten_summary_docs\n",
    "\n",
    "unload_cuda()\n",
    "all_docs = shorten_summary_docs(all_docs, groq_token)"
   ]
  },
  {
   "cell_type": "code",
   "execution_count": 20,
   "metadata": {},
   "outputs": [
    {
     "data": {
      "text/plain": [
       "616"
      ]
     },
     "execution_count": 20,
     "metadata": {},
     "output_type": "execute_result"
    }
   ],
   "source": [
    "unload_cuda()\n"
   ]
  },
  {
   "cell_type": "code",
   "execution_count": 26,
   "metadata": {},
   "outputs": [],
   "source": [
    "from council_rag.rag import set_up_rag_index \n",
    "\n",
    "unload_cuda()\n",
    "vector_store, index, emd_dims = set_up_rag_index(model)"
   ]
  },
  {
   "cell_type": "code",
   "execution_count": 29,
   "metadata": {},
   "outputs": [],
   "source": [
    "from council_rag.rag import populate_vector_store\n",
    "\n",
    "unload_cuda()\n",
    "vector_store, all_embeddings = populate_vector_store(vector_store, all_docs, model)"
   ]
  },
  {
   "cell_type": "code",
   "execution_count": null,
   "metadata": {},
   "outputs": [],
   "source": [
    "from council_rag.rag import raptor_query_all_prompts\n",
    "\n",
    "unload_cuda()\n",
    "list_aug_queries = raptor_query_all_prompts(vector_store, prompts_query) # queries in [\"formated_augmented_query\"]"
   ]
  },
  {
   "cell_type": "code",
   "execution_count": 64,
   "metadata": {},
   "outputs": [],
   "source": [
    "from council_rag.rag import return_final_responses\n",
    "\n",
    "final_responses = return_final_responses(list_aug_queries, groq_token)"
   ]
  },
  {
   "cell_type": "code",
   "execution_count": 73,
   "metadata": {},
   "outputs": [],
   "source": [
    "path_response = pdf_path.replace(\".pdf\", \".json\") # saved in the same folder as the pdf\n",
    "with open(path_response, \"w\") as f:\n",
    "    json.dump(final_responses, f)"
   ]
  },
  {
   "cell_type": "code",
   "execution_count": 65,
   "metadata": {},
   "outputs": [
    {
     "data": {
      "text/plain": [
       "[{'prompt': 'is_geo',\n",
       "  'formated_augmented_query': \"Vous êtes une personne qui répond aux questions de l'IA. Un utilisateur va vous transmettre un texte de description de projet en français. Votre tâche consiste à déterminer si le texte concerne un projet géothermique ou s'il n'a aucun rapport avec un projet géothermique. Prenez en compte les mentions suivantes : - Installations d'énergie géothermique - Etudes ou enquêtes géothermiques - Systèmes de pompes à chaleur utilisant l'énergie géothermique - Chauffage/refroidissement par le sol - Forage pour les ressources géothermiques - Mots clés comme « géothermie », « géothermique » - Nature du document Assurez-vous de générer une série d'étapes logiques et de raisonner sur le problème avant de générer une solution.\\n\\nVoici quelques faits pertinents pour vous aider à répondre et una description du qui peut s'avérer utile. \\n    Si la description du n'est pas utile, ignorez-le.\\nun maximum à leurs demandes ce qui justifie le coût du projet d’ailleurs. Madame la Maire précise qu’il a été demandé aux architectes de faire chiffrer l’option de captage des eaux de nappes pour alimenter les sanitaires.\\nne pourra se faire. Mme la Maire évoque la possibilité de la géothermie en moyen de chauffage : Dominique GIRET répond que pour étudier cette possibilité, il faut faire appel, selon les architectes, à un bureau d’études spécialisé, le CRER sera aussi interrogé pour cette possibilité de chauffage. Le projet avance bien techniquement, il satisfait très largement les acteurs du centre socioculturel en répondant un maximum à leurs demandes ce qui\\nLe bureau d’étude a présenté de nouveau le projet amélioré en tenant compte des modifications/remarques demandées (déplacement du local jeunes notamment). La question du chauffage a également été abordée. Le budget serait de l’ordre de 2 550 000€ HT. Il ne faut pas en tenir compte à ce stade car il faut affiner encore le projet, le but étant de rechercher des financements (CAN, DDT, CAF) sans quoi, le projet ne pourra se faire. Mme la Maire\\nVisio prévue avec l’ANCTC’est une association qui cherche des bénévoles et qui cherche à se faire connaître davantage. L’idée est qu’elle vienne sur la commune faire une animation, des ateliers via des stands pour expliquer les gestes de premiers secours. François SABOURIN demande si les formations aux gestes de premiers secours sont toujours d’actualité ? Mme la Maire répond que c’est toujours d’actualité et que les séances reprennent à la\\n- Isabelle HEHUNSTRE : La commune a reçu à nouveau un groupe du SNU (Service National Universel), samedi, ils sont venus uniquement le matin pour désherber le cimetière car l’après-midi, il faisait trop chaud. Ils veulent revenir pour repeindre les bancs et chaises et autres activités.Sur les façades de certaines maisons, il y a quelquefois 2 fils : 1 fil pour la fibre de couleur noire et un deuxième de couleur blanche pour le cuivre, Orange\\n### Description de la page\\n\\nLe fond beige de la page semble se référer à un arrière-plan que l'on pourrait supposer être la couverture d'un livre puisque, dans le coin du haut, on peut lire le texte 44. Cette page se décline en deux colonnes séparées par la ligne 3-1, chaque colonne contenant un titre d'un niveau distinct. La marge du haut de chaque colonne semble indiquer un début d'une section qui continuera au bas de la page. \\n\\nLa section intitulée 3-1 est séparée par une marge blanche avec les mots **3. Informations diverses**, sur laquelle est on appuie pour garder la lecture mais on ne tient pas notre esprit dans la lecture de cette section. Cette disposition permet à la lecture de passer sur une référence éventuelle. \\n\\nL'interface de la page, par son mode d'écriture, la disposition et la mise en page, correspond plus à celle d'un résumé qu'à celle de contrôle scolaire. \\n\\n### Description du tableau\\n\\nLe tableau est le seul élément sur la page donné. \\n\\nIl se décompose en deux colonnes de colonnes de titre avec les noms de la table comme NATURE DU BIEN et aussi celle qu'on peut lire sous : PROPRIÉTAIRE. \\n\\nL'illustration de la première colonne correspond bien aux titres de tableaux et à une description qui, au bout de chaque ligne, laisse une marge blanche qui sert de point de passage indépendant. \\n\\nIl ne contient pas d'analyses ou de tableaux des valeurs issues de cette table et n'apporte pas, par son apparition, de relation directe qui pourrait faire dire que l'on devrait lire cette page d'après sa présentation. \\n\\nLa page contient des informations qui semblent être essentielles. Elle n’a pas la définition d’un contrôle scolaire mais la définition d’un résumé dans ce domaine. \\n\\n\\n\\nSur la partie de la page, il y a mention de la date du 22 septembre et de la légende de samedi 8 h.\",\n",
       "  'facts': ['un maximum à leurs demandes ce qui justifie le coût du projet d’ailleurs. Madame la Maire précise qu’il a été demandé aux architectes de faire chiffrer l’option de captage des eaux de nappes pour alimenter les sanitaires.',\n",
       "   'ne pourra se faire. Mme la Maire évoque la possibilité de la géothermie en moyen de chauffage : Dominique GIRET répond que pour étudier cette possibilité, il faut faire appel, selon les architectes, à un bureau d’études spécialisé, le CRER sera aussi interrogé pour cette possibilité de chauffage. Le projet avance bien techniquement, il satisfait très largement les acteurs du centre socioculturel en répondant un maximum à leurs demandes ce qui',\n",
       "   'Le bureau d’étude a présenté de nouveau le projet amélioré en tenant compte des modifications/remarques demandées (déplacement du local jeunes notamment). La question du chauffage a également été abordée. Le budget serait de l’ordre de 2 550 000€ HT. Il ne faut pas en tenir compte à ce stade car il faut affiner encore le projet, le but étant de rechercher des financements (CAN, DDT, CAF) sans quoi, le projet ne pourra se faire. Mme la Maire',\n",
       "   'Visio prévue avec l’ANCTC’est une association qui cherche des bénévoles et qui cherche à se faire connaître davantage. L’idée est qu’elle vienne sur la commune faire une animation, des ateliers via des stands pour expliquer les gestes de premiers secours. François SABOURIN demande si les formations aux gestes de premiers secours sont toujours d’actualité ? Mme la Maire répond que c’est toujours d’actualité et que les séances reprennent à la',\n",
       "   '- Isabelle HEHUNSTRE : La commune a reçu à nouveau un groupe du SNU (Service National Universel), samedi, ils sont venus uniquement le matin pour désherber le cimetière car l’après-midi, il faisait trop chaud. Ils veulent revenir pour repeindre les bancs et chaises et autres activités.Sur les façades de certaines maisons, il y a quelquefois 2 fils : 1 fil pour la fibre de couleur noire et un deuxième de couleur blanche pour le cuivre, Orange'],\n",
       "  'table': \"### Description de la page\\n\\nLe fond beige de la page semble se référer à un arrière-plan que l'on pourrait supposer être la couverture d'un livre puisque, dans le coin du haut, on peut lire le texte 44. Cette page se décline en deux colonnes séparées par la ligne 3-1, chaque colonne contenant un titre d'un niveau distinct. La marge du haut de chaque colonne semble indiquer un début d'une section qui continuera au bas de la page. \\n\\nLa section intitulée 3-1 est séparée par une marge blanche avec les mots **3. Informations diverses**, sur laquelle est on appuie pour garder la lecture mais on ne tient pas notre esprit dans la lecture de cette section. Cette disposition permet à la lecture de passer sur une référence éventuelle. \\n\\nL'interface de la page, par son mode d'écriture, la disposition et la mise en page, correspond plus à celle d'un résumé qu'à celle de contrôle scolaire. \\n\\n### Description du tableau\\n\\nLe tableau est le seul élément sur la page donné. \\n\\nIl se décompose en deux colonnes de colonnes de titre avec les noms de la table comme NATURE DU BIEN et aussi celle qu'on peut lire sous : PROPRIÉTAIRE. \\n\\nL'illustration de la première colonne correspond bien aux titres de tableaux et à une description qui, au bout de chaque ligne, laisse une marge blanche qui sert de point de passage indépendant. \\n\\nIl ne contient pas d'analyses ou de tableaux des valeurs issues de cette table et n'apporte pas, par son apparition, de relation directe qui pourrait faire dire que l'on devrait lire cette page d'après sa présentation. \\n\\nLa page contient des informations qui semblent être essentielles. Elle n’a pas la définition d’un contrôle scolaire mais la définition d’un résumé dans ce domaine. \\n\\n\\n\\nSur la partie de la page, il y a mention de la date du 22 septembre et de la légende de samedi 8 h.\",\n",
       "  'final_response': 'Le texte que vous avez fourni ne mentionne pas explicitement de projets géothermiques.  \\n\\nVoici une analyse des éléments clés :\\n\\n* **Mentions clés:** Le texte ne contient pas de mots clés comme \"géothermie\", \"géothermique\", \"installations d\\'énergie géothermique\", \"études ou enquêtes géothermiques\", \"systèmes de pompes à chaleur utilisant l\\'énergie géothermique\", \"chauffage/refroidissement par le sol\" ou \"forage pour les ressources géothermiques\". \\n* **Contexte:** Le texte parle d\\'un projet de construction d\\'un centre socioculturel. Il aborde des sujets comme le budget, les financements, le déplacement d\\'un local, les travaux de désherbage et des formations aux gestes de premiers secours. \\n* **Mention de la géothermie:**  Il y a une brève mention de la géothermie en tant que possibilité de chauffage pour le centre socioculturel. Cependant, cela n\\'indique pas que le projet soit directement lié à la géothermie. \\n\\n**Conclusion:** \\n\\nEn l\\'absence de mentions spécifiques concernant la géothermie et étant donné que le texte se concentre sur d\\'autres aspects du projet, il est **peu probable** que ce soit un projet géothermique. La mention de la géothermie en tant que possibilité de chauffage est trop vague pour qualifier le projet comme géothermique. \\n\\n\\n'},\n",
       " {'prompt': 'stage',\n",
       "  'formated_augmented_query': \"Vous êtes une personne qui répond aux questions de l'IA. Vous allez recevoir un texte de description de projet en français de la part d'un utilisateur. Votre tâche est de déterminer l'étape du projet géothermique en vous basant sur le texte. Classez le projet dans l'une des catégories suivantes:\\n - idée/vœu\\n - études préliminaires\\n - budget voté pour le projet définitif\\n - mise en œuvre en cours\\n - installation terminée\\n Veillez à générer une série d'étapes logiques et à raisonner sur le problème avant de générer une solution.\\n\\nVoici quelques faits pertinents pour vous aider à répondre et una description du qui peut s'avérer utile. \\n    Si la description du n'est pas utile, ignorez-le.\\nLe bureau d’étude a présenté de nouveau le projet amélioré en tenant compte des modifications/remarques demandées (déplacement du local jeunes notamment). La question du chauffage a également été abordée. Le budget serait de l’ordre de 2 550 000€ HT. Il ne faut pas en tenir compte à ce stade car il faut affiner encore le projet, le but étant de rechercher des financements (CAN, DDT, CAF) sans quoi, le projet ne pourra se faire. Mme la Maire\\nun maximum à leurs demandes ce qui justifie le coût du projet d’ailleurs. Madame la Maire précise qu’il a été demandé aux architectes de faire chiffrer l’option de captage des eaux de nappes pour alimenter les sanitaires.\\nne pourra se faire. Mme la Maire évoque la possibilité de la géothermie en moyen de chauffage : Dominique GIRET répond que pour étudier cette possibilité, il faut faire appel, selon les architectes, à un bureau d’études spécialisé, le CRER sera aussi interrogé pour cette possibilité de chauffage. Le projet avance bien techniquement, il satisfait très largement les acteurs du centre socioculturel en répondant un maximum à leurs demandes ce qui\\nVisio prévue avec l’ANCTC’est une association qui cherche des bénévoles et qui cherche à se faire connaître davantage. L’idée est qu’elle vienne sur la commune faire une animation, des ateliers via des stands pour expliquer les gestes de premiers secours. François SABOURIN demande si les formations aux gestes de premiers secours sont toujours d’actualité ? Mme la Maire répond que c’est toujours d’actualité et que les séances reprennent à la\\n- Isabelle HEHUNSTRE : La commune a reçu à nouveau un groupe du SNU (Service National Universel), samedi, ils sont venus uniquement le matin pour désherber le cimetière car l’après-midi, il faisait trop chaud. Ils veulent revenir pour repeindre les bancs et chaises et autres activités.Sur les façades de certaines maisons, il y a quelquefois 2 fils : 1 fil pour la fibre de couleur noire et un deuxième de couleur blanche pour le cuivre, Orange\\n### Description de la page\\n\\nLe fond beige de la page semble se référer à un arrière-plan que l'on pourrait supposer être la couverture d'un livre puisque, dans le coin du haut, on peut lire le texte 44. Cette page se décline en deux colonnes séparées par la ligne 3-1, chaque colonne contenant un titre d'un niveau distinct. La marge du haut de chaque colonne semble indiquer un début d'une section qui continuera au bas de la page. \\n\\nLa section intitulée 3-1 est séparée par une marge blanche avec les mots **3. Informations diverses**, sur laquelle est on appuie pour garder la lecture mais on ne tient pas notre esprit dans la lecture de cette section. Cette disposition permet à la lecture de passer sur une référence éventuelle. \\n\\nL'interface de la page, par son mode d'écriture, la disposition et la mise en page, correspond plus à celle d'un résumé qu'à celle de contrôle scolaire. \\n\\n### Description du tableau\\n\\nLe tableau est le seul élément sur la page donné. \\n\\nIl se décompose en deux colonnes de colonnes de titre avec les noms de la table comme NATURE DU BIEN et aussi celle qu'on peut lire sous : PROPRIÉTAIRE. \\n\\nL'illustration de la première colonne correspond bien aux titres de tableaux et à une description qui, au bout de chaque ligne, laisse une marge blanche qui sert de point de passage indépendant. \\n\\nIl ne contient pas d'analyses ou de tableaux des valeurs issues de cette table et n'apporte pas, par son apparition, de relation directe qui pourrait faire dire que l'on devrait lire cette page d'après sa présentation. \\n\\nLa page contient des informations qui semblent être essentielles. Elle n’a pas la définition d’un contrôle scolaire mais la définition d’un résumé dans ce domaine. \\n\\n\\n\\nSur la partie de la page, il y a mention de la date du 22 septembre et de la légende de samedi 8 h.\",\n",
       "  'facts': ['Le bureau d’étude a présenté de nouveau le projet amélioré en tenant compte des modifications/remarques demandées (déplacement du local jeunes notamment). La question du chauffage a également été abordée. Le budget serait de l’ordre de 2 550 000€ HT. Il ne faut pas en tenir compte à ce stade car il faut affiner encore le projet, le but étant de rechercher des financements (CAN, DDT, CAF) sans quoi, le projet ne pourra se faire. Mme la Maire',\n",
       "   'un maximum à leurs demandes ce qui justifie le coût du projet d’ailleurs. Madame la Maire précise qu’il a été demandé aux architectes de faire chiffrer l’option de captage des eaux de nappes pour alimenter les sanitaires.',\n",
       "   'ne pourra se faire. Mme la Maire évoque la possibilité de la géothermie en moyen de chauffage : Dominique GIRET répond que pour étudier cette possibilité, il faut faire appel, selon les architectes, à un bureau d’études spécialisé, le CRER sera aussi interrogé pour cette possibilité de chauffage. Le projet avance bien techniquement, il satisfait très largement les acteurs du centre socioculturel en répondant un maximum à leurs demandes ce qui',\n",
       "   'Visio prévue avec l’ANCTC’est une association qui cherche des bénévoles et qui cherche à se faire connaître davantage. L’idée est qu’elle vienne sur la commune faire une animation, des ateliers via des stands pour expliquer les gestes de premiers secours. François SABOURIN demande si les formations aux gestes de premiers secours sont toujours d’actualité ? Mme la Maire répond que c’est toujours d’actualité et que les séances reprennent à la',\n",
       "   '- Isabelle HEHUNSTRE : La commune a reçu à nouveau un groupe du SNU (Service National Universel), samedi, ils sont venus uniquement le matin pour désherber le cimetière car l’après-midi, il faisait trop chaud. Ils veulent revenir pour repeindre les bancs et chaises et autres activités.Sur les façades de certaines maisons, il y a quelquefois 2 fils : 1 fil pour la fibre de couleur noire et un deuxième de couleur blanche pour le cuivre, Orange'],\n",
       "  'table': \"### Description de la page\\n\\nLe fond beige de la page semble se référer à un arrière-plan que l'on pourrait supposer être la couverture d'un livre puisque, dans le coin du haut, on peut lire le texte 44. Cette page se décline en deux colonnes séparées par la ligne 3-1, chaque colonne contenant un titre d'un niveau distinct. La marge du haut de chaque colonne semble indiquer un début d'une section qui continuera au bas de la page. \\n\\nLa section intitulée 3-1 est séparée par une marge blanche avec les mots **3. Informations diverses**, sur laquelle est on appuie pour garder la lecture mais on ne tient pas notre esprit dans la lecture de cette section. Cette disposition permet à la lecture de passer sur une référence éventuelle. \\n\\nL'interface de la page, par son mode d'écriture, la disposition et la mise en page, correspond plus à celle d'un résumé qu'à celle de contrôle scolaire. \\n\\n### Description du tableau\\n\\nLe tableau est le seul élément sur la page donné. \\n\\nIl se décompose en deux colonnes de colonnes de titre avec les noms de la table comme NATURE DU BIEN et aussi celle qu'on peut lire sous : PROPRIÉTAIRE. \\n\\nL'illustration de la première colonne correspond bien aux titres de tableaux et à une description qui, au bout de chaque ligne, laisse une marge blanche qui sert de point de passage indépendant. \\n\\nIl ne contient pas d'analyses ou de tableaux des valeurs issues de cette table et n'apporte pas, par son apparition, de relation directe qui pourrait faire dire que l'on devrait lire cette page d'après sa présentation. \\n\\nLa page contient des informations qui semblent être essentielles. Elle n’a pas la définition d’un contrôle scolaire mais la définition d’un résumé dans ce domaine. \\n\\n\\n\\nSur la partie de la page, il y a mention de la date du 22 septembre et de la légende de samedi 8 h.\",\n",
       "  'final_response': 'D\\'après le texte fourni, le projet géothermique se situe dans la phase des **études préliminaires**. \\n\\nVoici les arguments qui mènent à cette conclusion :\\n\\n* **Recherche de financements:** La phrase \"le but étant de rechercher des financements (CAN, DDT, CAF) sans quoi, le projet ne pourra se faire\" indique clairement qu\\'il s\\'agit d\\'une phase pré-financier, où le projet est encore en développement et nécessite des validations financières.\\n* **Définition du coût approximatif:** Le fait que le coût du projet soit estimé à 2 550 000€ HT, mais qu\\'il puisse être affiné, suggère que le projet n\\'a pas encore été finalisé ni chiffré de façon définitive. \\n* **Étude de l\\'option géothermie:** La mention de la nécessité de faire appel à un bureau d\\'études spécialisé pour étudier l\\'option de géothermie comme moyen de chauffage montre que cette partie du projet n\\'est pas encore intégrée formellement.\\n* **Adaptation aux commentaires:** Le bureau d\\'étude a présenté \"le projet amélioré en tenant compte des modifications/remarques demandées\" suggère que le projet est encore en cours d\\'évolution et d\\'adaptation.\\n\\n\\nCes éléments combinés pointent vers une étape préliminaire du projet géothermique, où une étude approfondie est réalisée avant le lancement officiel de la mise en œuvre. \\n'},\n",
       " {'prompt': 'initial_budget',\n",
       "  'formated_augmented_query': \"Vous êtes un répondeur de questions d'IA utile. Vous êtes sur le point de recevoir un texte de description de projet en français de la part d'un utilisateur. Votre tâche est d'extraire le budget initial du projet. Assurez-vous de générer une série d'étapes logiques et de raisonner sur le problème avant de générer une solution.\\n\\nVoici quelques faits pertinents pour vous aider à répondre et una description du qui peut s'avérer utile. \\n    Si la description du n'est pas utile, ignorez-le.\\nLe bureau d’étude a présenté de nouveau le projet amélioré en tenant compte des modifications/remarques demandées (déplacement du local jeunes notamment). La question du chauffage a également été abordée. Le budget serait de l’ordre de 2 550 000€ HT. Il ne faut pas en tenir compte à ce stade car il faut affiner encore le projet, le but étant de rechercher des financements (CAN, DDT, CAF) sans quoi, le projet ne pourra se faire. Mme la Maire\\nne pourra se faire. Mme la Maire évoque la possibilité de la géothermie en moyen de chauffage : Dominique GIRET répond que pour étudier cette possibilité, il faut faire appel, selon les architectes, à un bureau d’études spécialisé, le CRER sera aussi interrogé pour cette possibilité de chauffage. Le projet avance bien techniquement, il satisfait très largement les acteurs du centre socioculturel en répondant un maximum à leurs demandes ce qui\\nun maximum à leurs demandes ce qui justifie le coût du projet d’ailleurs. Madame la Maire précise qu’il a été demandé aux architectes de faire chiffrer l’option de captage des eaux de nappes pour alimenter les sanitaires.\\nVisio prévue avec l’ANCTC’est une association qui cherche des bénévoles et qui cherche à se faire connaître davantage. L’idée est qu’elle vienne sur la commune faire une animation, des ateliers via des stands pour expliquer les gestes de premiers secours. François SABOURIN demande si les formations aux gestes de premiers secours sont toujours d’actualité ? Mme la Maire répond que c’est toujours d’actualité et que les séances reprennent à la\\net que les séances reprennent à la rentrée et seront proposées à tous les habitants avec une prise en charge forfaitaire par la commune du coût de la formation.\\n### Description de la page\\n\\nLe fond beige de la page semble se référer à un arrière-plan que l'on pourrait supposer être la couverture d'un livre puisque, dans le coin du haut, on peut lire le texte 44. Cette page se décline en deux colonnes séparées par la ligne 3-1, chaque colonne contenant un titre d'un niveau distinct. La marge du haut de chaque colonne semble indiquer un début d'une section qui continuera au bas de la page. \\n\\nLa section intitulée 3-1 est séparée par une marge blanche avec les mots **3. Informations diverses**, sur laquelle est on appuie pour garder la lecture mais on ne tient pas notre esprit dans la lecture de cette section. Cette disposition permet à la lecture de passer sur une référence éventuelle. \\n\\nL'interface de la page, par son mode d'écriture, la disposition et la mise en page, correspond plus à celle d'un résumé qu'à celle de contrôle scolaire. \\n\\n### Description du tableau\\n\\nLe tableau est le seul élément sur la page donné. \\n\\nIl se décompose en deux colonnes de colonnes de titre avec les noms de la table comme NATURE DU BIEN et aussi celle qu'on peut lire sous : PROPRIÉTAIRE. \\n\\nL'illustration de la première colonne correspond bien aux titres de tableaux et à une description qui, au bout de chaque ligne, laisse une marge blanche qui sert de point de passage indépendant. \\n\\nIl ne contient pas d'analyses ou de tableaux des valeurs issues de cette table et n'apporte pas, par son apparition, de relation directe qui pourrait faire dire que l'on devrait lire cette page d'après sa présentation. \\n\\nLa page contient des informations qui semblent être essentielles. Elle n’a pas la définition d’un contrôle scolaire mais la définition d’un résumé dans ce domaine. \\n\\n\\n\\nSur la partie de la page, il y a mention de la date du 22 septembre et de la légende de samedi 8 h.\",\n",
       "  'facts': ['Le bureau d’étude a présenté de nouveau le projet amélioré en tenant compte des modifications/remarques demandées (déplacement du local jeunes notamment). La question du chauffage a également été abordée. Le budget serait de l’ordre de 2 550 000€ HT. Il ne faut pas en tenir compte à ce stade car il faut affiner encore le projet, le but étant de rechercher des financements (CAN, DDT, CAF) sans quoi, le projet ne pourra se faire. Mme la Maire',\n",
       "   'ne pourra se faire. Mme la Maire évoque la possibilité de la géothermie en moyen de chauffage : Dominique GIRET répond que pour étudier cette possibilité, il faut faire appel, selon les architectes, à un bureau d’études spécialisé, le CRER sera aussi interrogé pour cette possibilité de chauffage. Le projet avance bien techniquement, il satisfait très largement les acteurs du centre socioculturel en répondant un maximum à leurs demandes ce qui',\n",
       "   'un maximum à leurs demandes ce qui justifie le coût du projet d’ailleurs. Madame la Maire précise qu’il a été demandé aux architectes de faire chiffrer l’option de captage des eaux de nappes pour alimenter les sanitaires.',\n",
       "   'Visio prévue avec l’ANCTC’est une association qui cherche des bénévoles et qui cherche à se faire connaître davantage. L’idée est qu’elle vienne sur la commune faire une animation, des ateliers via des stands pour expliquer les gestes de premiers secours. François SABOURIN demande si les formations aux gestes de premiers secours sont toujours d’actualité ? Mme la Maire répond que c’est toujours d’actualité et que les séances reprennent à la',\n",
       "   'et que les séances reprennent à la rentrée et seront proposées à tous les habitants avec une prise en charge forfaitaire par la commune du coût de la formation.'],\n",
       "  'table': \"### Description de la page\\n\\nLe fond beige de la page semble se référer à un arrière-plan que l'on pourrait supposer être la couverture d'un livre puisque, dans le coin du haut, on peut lire le texte 44. Cette page se décline en deux colonnes séparées par la ligne 3-1, chaque colonne contenant un titre d'un niveau distinct. La marge du haut de chaque colonne semble indiquer un début d'une section qui continuera au bas de la page. \\n\\nLa section intitulée 3-1 est séparée par une marge blanche avec les mots **3. Informations diverses**, sur laquelle est on appuie pour garder la lecture mais on ne tient pas notre esprit dans la lecture de cette section. Cette disposition permet à la lecture de passer sur une référence éventuelle. \\n\\nL'interface de la page, par son mode d'écriture, la disposition et la mise en page, correspond plus à celle d'un résumé qu'à celle de contrôle scolaire. \\n\\n### Description du tableau\\n\\nLe tableau est le seul élément sur la page donné. \\n\\nIl se décompose en deux colonnes de colonnes de titre avec les noms de la table comme NATURE DU BIEN et aussi celle qu'on peut lire sous : PROPRIÉTAIRE. \\n\\nL'illustration de la première colonne correspond bien aux titres de tableaux et à une description qui, au bout de chaque ligne, laisse une marge blanche qui sert de point de passage indépendant. \\n\\nIl ne contient pas d'analyses ou de tableaux des valeurs issues de cette table et n'apporte pas, par son apparition, de relation directe qui pourrait faire dire que l'on devrait lire cette page d'après sa présentation. \\n\\nLa page contient des informations qui semblent être essentielles. Elle n’a pas la définition d’un contrôle scolaire mais la définition d’un résumé dans ce domaine. \\n\\n\\n\\nSur la partie de la page, il y a mention de la date du 22 septembre et de la légende de samedi 8 h.\",\n",
       "  'final_response': 'Voici une approche logique pour extraire le budget initial du projet :\\n\\n1. **Identifier les parties pertinentes :**  La description du projet contient probablement des informations sur le budget.  On doit chercher des phrases contenant des mots clés comme \"budget\", \"coût\", \"financer\".\\n2. **Analyser les phrases clés :**  Une fois trouvée une phrase mentionnant le budget, analyser son contenu pour extraire le chiffre  exactement.  Soigner les détails comme les unités monétaires et les notations (HT, TTC). \\n3. **Sélectionner la bonne valeur:**  Il pourrait y avoir plusieurs mentions de \"budget\" dans le texte, avec des montants différents.  Il faut faire attention  à choisir la valeur la plus précise et probablement  la plus récente.\\n4. **Vérifier la cohérence :**  Valider que le montant trouvé est cohérent avec le contexte global du texte.\\n\\n\\nDans ce cas précis, la phrase clé est: \"Le budget serait de l’ordre de 2 550 000€ HT.\"\\n\\n \\n**Par conséquent, le budget initial du projet est de 2 550 000€ HT.** \\n'},\n",
       " {'prompt': 'final_cost',\n",
       "  'formated_augmented_query': \"Vous êtes un répondeur de questions d'IA utile. Vous êtes sur le point de recevoir un texte de description de projet en français de la part d'un utilisateur. Votre tâche est d'extraire le coût final du projet. Assurez-vous de générer une série d'étapes logiques et de raisonner sur le problème avant de générer une solution.\\n\\nVoici quelques faits pertinents pour vous aider à répondre et una description du qui peut s'avérer utile. \\n    Si la description du n'est pas utile, ignorez-le.\\nLe bureau d’étude a présenté de nouveau le projet amélioré en tenant compte des modifications/remarques demandées (déplacement du local jeunes notamment). La question du chauffage a également été abordée. Le budget serait de l’ordre de 2 550 000€ HT. Il ne faut pas en tenir compte à ce stade car il faut affiner encore le projet, le but étant de rechercher des financements (CAN, DDT, CAF) sans quoi, le projet ne pourra se faire. Mme la Maire\\nne pourra se faire. Mme la Maire évoque la possibilité de la géothermie en moyen de chauffage : Dominique GIRET répond que pour étudier cette possibilité, il faut faire appel, selon les architectes, à un bureau d’études spécialisé, le CRER sera aussi interrogé pour cette possibilité de chauffage. Le projet avance bien techniquement, il satisfait très largement les acteurs du centre socioculturel en répondant un maximum à leurs demandes ce qui\\nun maximum à leurs demandes ce qui justifie le coût du projet d’ailleurs. Madame la Maire précise qu’il a été demandé aux architectes de faire chiffrer l’option de captage des eaux de nappes pour alimenter les sanitaires.\\nVisio prévue avec l’ANCTC’est une association qui cherche des bénévoles et qui cherche à se faire connaître davantage. L’idée est qu’elle vienne sur la commune faire une animation, des ateliers via des stands pour expliquer les gestes de premiers secours. François SABOURIN demande si les formations aux gestes de premiers secours sont toujours d’actualité ? Mme la Maire répond que c’est toujours d’actualité et que les séances reprennent à la\\net que les séances reprennent à la rentrée et seront proposées à tous les habitants avec une prise en charge forfaitaire par la commune du coût de la formation.\\n### Description de la page\\n\\nLe fond beige de la page semble se référer à un arrière-plan que l'on pourrait supposer être la couverture d'un livre puisque, dans le coin du haut, on peut lire le texte 44. Cette page se décline en deux colonnes séparées par la ligne 3-1, chaque colonne contenant un titre d'un niveau distinct. La marge du haut de chaque colonne semble indiquer un début d'une section qui continuera au bas de la page. \\n\\nLa section intitulée 3-1 est séparée par une marge blanche avec les mots **3. Informations diverses**, sur laquelle est on appuie pour garder la lecture mais on ne tient pas notre esprit dans la lecture de cette section. Cette disposition permet à la lecture de passer sur une référence éventuelle. \\n\\nL'interface de la page, par son mode d'écriture, la disposition et la mise en page, correspond plus à celle d'un résumé qu'à celle de contrôle scolaire. \\n\\n### Description du tableau\\n\\nLe tableau est le seul élément sur la page donné. \\n\\nIl se décompose en deux colonnes de colonnes de titre avec les noms de la table comme NATURE DU BIEN et aussi celle qu'on peut lire sous : PROPRIÉTAIRE. \\n\\nL'illustration de la première colonne correspond bien aux titres de tableaux et à une description qui, au bout de chaque ligne, laisse une marge blanche qui sert de point de passage indépendant. \\n\\nIl ne contient pas d'analyses ou de tableaux des valeurs issues de cette table et n'apporte pas, par son apparition, de relation directe qui pourrait faire dire que l'on devrait lire cette page d'après sa présentation. \\n\\nLa page contient des informations qui semblent être essentielles. Elle n’a pas la définition d’un contrôle scolaire mais la définition d’un résumé dans ce domaine. \\n\\n\\n\\nSur la partie de la page, il y a mention de la date du 22 septembre et de la légende de samedi 8 h.\",\n",
       "  'facts': ['Le bureau d’étude a présenté de nouveau le projet amélioré en tenant compte des modifications/remarques demandées (déplacement du local jeunes notamment). La question du chauffage a également été abordée. Le budget serait de l’ordre de 2 550 000€ HT. Il ne faut pas en tenir compte à ce stade car il faut affiner encore le projet, le but étant de rechercher des financements (CAN, DDT, CAF) sans quoi, le projet ne pourra se faire. Mme la Maire',\n",
       "   'ne pourra se faire. Mme la Maire évoque la possibilité de la géothermie en moyen de chauffage : Dominique GIRET répond que pour étudier cette possibilité, il faut faire appel, selon les architectes, à un bureau d’études spécialisé, le CRER sera aussi interrogé pour cette possibilité de chauffage. Le projet avance bien techniquement, il satisfait très largement les acteurs du centre socioculturel en répondant un maximum à leurs demandes ce qui',\n",
       "   'un maximum à leurs demandes ce qui justifie le coût du projet d’ailleurs. Madame la Maire précise qu’il a été demandé aux architectes de faire chiffrer l’option de captage des eaux de nappes pour alimenter les sanitaires.',\n",
       "   'Visio prévue avec l’ANCTC’est une association qui cherche des bénévoles et qui cherche à se faire connaître davantage. L’idée est qu’elle vienne sur la commune faire une animation, des ateliers via des stands pour expliquer les gestes de premiers secours. François SABOURIN demande si les formations aux gestes de premiers secours sont toujours d’actualité ? Mme la Maire répond que c’est toujours d’actualité et que les séances reprennent à la',\n",
       "   'et que les séances reprennent à la rentrée et seront proposées à tous les habitants avec une prise en charge forfaitaire par la commune du coût de la formation.'],\n",
       "  'table': \"### Description de la page\\n\\nLe fond beige de la page semble se référer à un arrière-plan que l'on pourrait supposer être la couverture d'un livre puisque, dans le coin du haut, on peut lire le texte 44. Cette page se décline en deux colonnes séparées par la ligne 3-1, chaque colonne contenant un titre d'un niveau distinct. La marge du haut de chaque colonne semble indiquer un début d'une section qui continuera au bas de la page. \\n\\nLa section intitulée 3-1 est séparée par une marge blanche avec les mots **3. Informations diverses**, sur laquelle est on appuie pour garder la lecture mais on ne tient pas notre esprit dans la lecture de cette section. Cette disposition permet à la lecture de passer sur une référence éventuelle. \\n\\nL'interface de la page, par son mode d'écriture, la disposition et la mise en page, correspond plus à celle d'un résumé qu'à celle de contrôle scolaire. \\n\\n### Description du tableau\\n\\nLe tableau est le seul élément sur la page donné. \\n\\nIl se décompose en deux colonnes de colonnes de titre avec les noms de la table comme NATURE DU BIEN et aussi celle qu'on peut lire sous : PROPRIÉTAIRE. \\n\\nL'illustration de la première colonne correspond bien aux titres de tableaux et à une description qui, au bout de chaque ligne, laisse une marge blanche qui sert de point de passage indépendant. \\n\\nIl ne contient pas d'analyses ou de tableaux des valeurs issues de cette table et n'apporte pas, par son apparition, de relation directe qui pourrait faire dire que l'on devrait lire cette page d'après sa présentation. \\n\\nLa page contient des informations qui semblent être essentielles. Elle n’a pas la définition d’un contrôle scolaire mais la définition d’un résumé dans ce domaine. \\n\\n\\n\\nSur la partie de la page, il y a mention de la date du 22 septembre et de la légende de samedi 8 h.\",\n",
       "  'final_response': 'D\\'après le texte fourni, le coût final du projet est estimé à **2 550 000€ HT**. \\n\\nVoici les étapes de mon raisonnement :\\n\\n1. **Identification de la phrase pertinente:** La phrase \"Le budget serait de l’ordre de 2 550 000€ HT\" mentionne directement le coût du projet.\\n2. **Confirmation de la référence:** La phrase se trouve dans un contexte où le projet est décrit et discuté, confirmant que 2 550 000€ HT fait bien référence au coût du projet.\\n3. **Exclusion d\\'informations superflues:** Les autres détails concernant les financements potentiels (CAN, DDT, CAF) et les options techniques (géothermie, captage des eaux de nappes) ne modifient pas le coût initial mentionné.  \\n\\n\\n\\nEn conclusion, malgré la complexité du projet et les discussions  sur son financement et ses options techniques, le coût final du projet est clairement identifié comme étant de 2 550 000€ HT. \\n'},\n",
       " {'prompt': 'estimated_duration',\n",
       "  'formated_augmented_query': \"Vous êtes un répondeur de questions d'IA utile. Vous êtes sur le point de recevoir un texte de description de projet en français de la part d'un utilisateur. Votre tâche est d'extraire la durée estimée du projet. Assurez-vous de générer une série d'étapes logiques et de raisonner sur le problème avant de générer une solution.\\n\\nVoici quelques faits pertinents pour vous aider à répondre et una description du qui peut s'avérer utile. \\n    Si la description du n'est pas utile, ignorez-le.\\nLe bureau d’étude a présenté de nouveau le projet amélioré en tenant compte des modifications/remarques demandées (déplacement du local jeunes notamment). La question du chauffage a également été abordée. Le budget serait de l’ordre de 2 550 000€ HT. Il ne faut pas en tenir compte à ce stade car il faut affiner encore le projet, le but étant de rechercher des financements (CAN, DDT, CAF) sans quoi, le projet ne pourra se faire. Mme la Maire\\nne pourra se faire. Mme la Maire évoque la possibilité de la géothermie en moyen de chauffage : Dominique GIRET répond que pour étudier cette possibilité, il faut faire appel, selon les architectes, à un bureau d’études spécialisé, le CRER sera aussi interrogé pour cette possibilité de chauffage. Le projet avance bien techniquement, il satisfait très largement les acteurs du centre socioculturel en répondant un maximum à leurs demandes ce qui\\nun maximum à leurs demandes ce qui justifie le coût du projet d’ailleurs. Madame la Maire précise qu’il a été demandé aux architectes de faire chiffrer l’option de captage des eaux de nappes pour alimenter les sanitaires.\\nVisio prévue avec l’ANCTC’est une association qui cherche des bénévoles et qui cherche à se faire connaître davantage. L’idée est qu’elle vienne sur la commune faire une animation, des ateliers via des stands pour expliquer les gestes de premiers secours. François SABOURIN demande si les formations aux gestes de premiers secours sont toujours d’actualité ? Mme la Maire répond que c’est toujours d’actualité et que les séances reprennent à la\\net que les séances reprennent à la rentrée et seront proposées à tous les habitants avec une prise en charge forfaitaire par la commune du coût de la formation.\\n### Description de la page\\n\\nLe fond beige de la page semble se référer à un arrière-plan que l'on pourrait supposer être la couverture d'un livre puisque, dans le coin du haut, on peut lire le texte 44. Cette page se décline en deux colonnes séparées par la ligne 3-1, chaque colonne contenant un titre d'un niveau distinct. La marge du haut de chaque colonne semble indiquer un début d'une section qui continuera au bas de la page. \\n\\nLa section intitulée 3-1 est séparée par une marge blanche avec les mots **3. Informations diverses**, sur laquelle est on appuie pour garder la lecture mais on ne tient pas notre esprit dans la lecture de cette section. Cette disposition permet à la lecture de passer sur une référence éventuelle. \\n\\nL'interface de la page, par son mode d'écriture, la disposition et la mise en page, correspond plus à celle d'un résumé qu'à celle de contrôle scolaire. \\n\\n### Description du tableau\\n\\nLe tableau est le seul élément sur la page donné. \\n\\nIl se décompose en deux colonnes de colonnes de titre avec les noms de la table comme NATURE DU BIEN et aussi celle qu'on peut lire sous : PROPRIÉTAIRE. \\n\\nL'illustration de la première colonne correspond bien aux titres de tableaux et à une description qui, au bout de chaque ligne, laisse une marge blanche qui sert de point de passage indépendant. \\n\\nIl ne contient pas d'analyses ou de tableaux des valeurs issues de cette table et n'apporte pas, par son apparition, de relation directe qui pourrait faire dire que l'on devrait lire cette page d'après sa présentation. \\n\\nLa page contient des informations qui semblent être essentielles. Elle n’a pas la définition d’un contrôle scolaire mais la définition d’un résumé dans ce domaine. \\n\\n\\n\\nSur la partie de la page, il y a mention de la date du 22 septembre et de la légende de samedi 8 h.\",\n",
       "  'facts': ['Le bureau d’étude a présenté de nouveau le projet amélioré en tenant compte des modifications/remarques demandées (déplacement du local jeunes notamment). La question du chauffage a également été abordée. Le budget serait de l’ordre de 2 550 000€ HT. Il ne faut pas en tenir compte à ce stade car il faut affiner encore le projet, le but étant de rechercher des financements (CAN, DDT, CAF) sans quoi, le projet ne pourra se faire. Mme la Maire',\n",
       "   'ne pourra se faire. Mme la Maire évoque la possibilité de la géothermie en moyen de chauffage : Dominique GIRET répond que pour étudier cette possibilité, il faut faire appel, selon les architectes, à un bureau d’études spécialisé, le CRER sera aussi interrogé pour cette possibilité de chauffage. Le projet avance bien techniquement, il satisfait très largement les acteurs du centre socioculturel en répondant un maximum à leurs demandes ce qui',\n",
       "   'un maximum à leurs demandes ce qui justifie le coût du projet d’ailleurs. Madame la Maire précise qu’il a été demandé aux architectes de faire chiffrer l’option de captage des eaux de nappes pour alimenter les sanitaires.',\n",
       "   'Visio prévue avec l’ANCTC’est une association qui cherche des bénévoles et qui cherche à se faire connaître davantage. L’idée est qu’elle vienne sur la commune faire une animation, des ateliers via des stands pour expliquer les gestes de premiers secours. François SABOURIN demande si les formations aux gestes de premiers secours sont toujours d’actualité ? Mme la Maire répond que c’est toujours d’actualité et que les séances reprennent à la',\n",
       "   'et que les séances reprennent à la rentrée et seront proposées à tous les habitants avec une prise en charge forfaitaire par la commune du coût de la formation.'],\n",
       "  'table': \"### Description de la page\\n\\nLe fond beige de la page semble se référer à un arrière-plan que l'on pourrait supposer être la couverture d'un livre puisque, dans le coin du haut, on peut lire le texte 44. Cette page se décline en deux colonnes séparées par la ligne 3-1, chaque colonne contenant un titre d'un niveau distinct. La marge du haut de chaque colonne semble indiquer un début d'une section qui continuera au bas de la page. \\n\\nLa section intitulée 3-1 est séparée par une marge blanche avec les mots **3. Informations diverses**, sur laquelle est on appuie pour garder la lecture mais on ne tient pas notre esprit dans la lecture de cette section. Cette disposition permet à la lecture de passer sur une référence éventuelle. \\n\\nL'interface de la page, par son mode d'écriture, la disposition et la mise en page, correspond plus à celle d'un résumé qu'à celle de contrôle scolaire. \\n\\n### Description du tableau\\n\\nLe tableau est le seul élément sur la page donné. \\n\\nIl se décompose en deux colonnes de colonnes de titre avec les noms de la table comme NATURE DU BIEN et aussi celle qu'on peut lire sous : PROPRIÉTAIRE. \\n\\nL'illustration de la première colonne correspond bien aux titres de tableaux et à une description qui, au bout de chaque ligne, laisse une marge blanche qui sert de point de passage indépendant. \\n\\nIl ne contient pas d'analyses ou de tableaux des valeurs issues de cette table et n'apporte pas, par son apparition, de relation directe qui pourrait faire dire que l'on devrait lire cette page d'après sa présentation. \\n\\nLa page contient des informations qui semblent être essentielles. Elle n’a pas la définition d’un contrôle scolaire mais la définition d’un résumé dans ce domaine. \\n\\n\\n\\nSur la partie de la page, il y a mention de la date du 22 septembre et de la légende de samedi 8 h.\",\n",
       "  'final_response': \"Il n'est pas possible de déterminer la durée estimée du projet à partir du texte fourni. \\n\\n**Voici pourquoi :**\\n\\n1. **Manque d'informations clé:** Le texte ne mentionne nulle part une échéance prévue pour la finalisation du projet, ni des étapes avec des durées estimées.\\n2. **Focus sur la recherche de financement:** Le texte met l'accent sur les démarches de recherche de financement (CAN, DDT, CAF), ce qui implique que la durée du projet pourrait varier en fonction de ce processus.\\n3. **Étude complémentaire:** La nécessité d'étudier des options comme la géothermie et le captage des eaux de nappe suggère que le projet pourrait prendre plus de temps pour être finalisé.\\n\\n**Pour déterminer la durée estimée du projet, il faudrait avoir accès à des informations supplémentaires telles que :**\\n\\n* Des échéances prévues pour chaque étape du projet (conception, appels d'offres, construction, etc.).\\n* Des estimations du temps nécessaire pour obtenir les financements nécessaires.\\n* Des délais liés à l'étude des options énergétiques.\\n\\n\\nEn résumé, sans informations supplémentaires, il est impossible de répondre à votre question. \\n\"},\n",
       " {'prompt': 'final_duration',\n",
       "  'formated_augmented_query': \"'Vous êtes un répondeur de questions d'IA utile. Vous êtes sur le point de recevoir un texte de description de projet en français de la part d'un utilisateur. Votre tâche est d'extraire la durée réelle du projet. Assurez-vous de générer une série d'étapes logiques et de raisonner sur le problème avant de générer une solution.\\n\\nVoici quelques faits pertinents pour vous aider à répondre et una description du qui peut s'avérer utile. \\n    Si la description du n'est pas utile, ignorez-le.\\nLe bureau d’étude a présenté de nouveau le projet amélioré en tenant compte des modifications/remarques demandées (déplacement du local jeunes notamment). La question du chauffage a également été abordée. Le budget serait de l’ordre de 2 550 000€ HT. Il ne faut pas en tenir compte à ce stade car il faut affiner encore le projet, le but étant de rechercher des financements (CAN, DDT, CAF) sans quoi, le projet ne pourra se faire. Mme la Maire\\nun maximum à leurs demandes ce qui justifie le coût du projet d’ailleurs. Madame la Maire précise qu’il a été demandé aux architectes de faire chiffrer l’option de captage des eaux de nappes pour alimenter les sanitaires.\\nVisio prévue avec l’ANCTC’est une association qui cherche des bénévoles et qui cherche à se faire connaître davantage. L’idée est qu’elle vienne sur la commune faire une animation, des ateliers via des stands pour expliquer les gestes de premiers secours. François SABOURIN demande si les formations aux gestes de premiers secours sont toujours d’actualité ? Mme la Maire répond que c’est toujours d’actualité et que les séances reprennent à la\\nblanche pour le cuivre, Orange demande aux administrés de ne pas retirer les fils car une entreprise mandatée interviendra pour le faire. La bouille et sa remorque sortent d’usine le 19 juillet . La livraison se fera en septembre avec une ½ journée de formation. Le début des travaux de voirie (devis signés) est prévu en septembre. Fabrice Berjonneau a relancé le sujet de la mise en service de l’antenne lors de sa réunion avec Orange qui a donné\\nne pourra se faire. Mme la Maire évoque la possibilité de la géothermie en moyen de chauffage : Dominique GIRET répond que pour étudier cette possibilité, il faut faire appel, selon les architectes, à un bureau d’études spécialisé, le CRER sera aussi interrogé pour cette possibilité de chauffage. Le projet avance bien techniquement, il satisfait très largement les acteurs du centre socioculturel en répondant un maximum à leurs demandes ce qui\\n### Description de la page\\n\\nLe fond beige de la page semble se référer à un arrière-plan que l'on pourrait supposer être la couverture d'un livre puisque, dans le coin du haut, on peut lire le texte 44. Cette page se décline en deux colonnes séparées par la ligne 3-1, chaque colonne contenant un titre d'un niveau distinct. La marge du haut de chaque colonne semble indiquer un début d'une section qui continuera au bas de la page. \\n\\nLa section intitulée 3-1 est séparée par une marge blanche avec les mots **3. Informations diverses**, sur laquelle est on appuie pour garder la lecture mais on ne tient pas notre esprit dans la lecture de cette section. Cette disposition permet à la lecture de passer sur une référence éventuelle. \\n\\nL'interface de la page, par son mode d'écriture, la disposition et la mise en page, correspond plus à celle d'un résumé qu'à celle de contrôle scolaire. \\n\\n### Description du tableau\\n\\nLe tableau est le seul élément sur la page donné. \\n\\nIl se décompose en deux colonnes de colonnes de titre avec les noms de la table comme NATURE DU BIEN et aussi celle qu'on peut lire sous : PROPRIÉTAIRE. \\n\\nL'illustration de la première colonne correspond bien aux titres de tableaux et à une description qui, au bout de chaque ligne, laisse une marge blanche qui sert de point de passage indépendant. \\n\\nIl ne contient pas d'analyses ou de tableaux des valeurs issues de cette table et n'apporte pas, par son apparition, de relation directe qui pourrait faire dire que l'on devrait lire cette page d'après sa présentation. \\n\\nLa page contient des informations qui semblent être essentielles. Elle n’a pas la définition d’un contrôle scolaire mais la définition d’un résumé dans ce domaine. \\n\\n\\n\\nSur la partie de la page, il y a mention de la date du 22 septembre et de la légende de samedi 8 h.\",\n",
       "  'facts': ['Le bureau d’étude a présenté de nouveau le projet amélioré en tenant compte des modifications/remarques demandées (déplacement du local jeunes notamment). La question du chauffage a également été abordée. Le budget serait de l’ordre de 2 550 000€ HT. Il ne faut pas en tenir compte à ce stade car il faut affiner encore le projet, le but étant de rechercher des financements (CAN, DDT, CAF) sans quoi, le projet ne pourra se faire. Mme la Maire',\n",
       "   'un maximum à leurs demandes ce qui justifie le coût du projet d’ailleurs. Madame la Maire précise qu’il a été demandé aux architectes de faire chiffrer l’option de captage des eaux de nappes pour alimenter les sanitaires.',\n",
       "   'Visio prévue avec l’ANCTC’est une association qui cherche des bénévoles et qui cherche à se faire connaître davantage. L’idée est qu’elle vienne sur la commune faire une animation, des ateliers via des stands pour expliquer les gestes de premiers secours. François SABOURIN demande si les formations aux gestes de premiers secours sont toujours d’actualité ? Mme la Maire répond que c’est toujours d’actualité et que les séances reprennent à la',\n",
       "   'blanche pour le cuivre, Orange demande aux administrés de ne pas retirer les fils car une entreprise mandatée interviendra pour le faire. La bouille et sa remorque sortent d’usine le 19 juillet . La livraison se fera en septembre avec une ½ journée de formation. Le début des travaux de voirie (devis signés) est prévu en septembre. Fabrice Berjonneau a relancé le sujet de la mise en service de l’antenne lors de sa réunion avec Orange qui a donné',\n",
       "   'ne pourra se faire. Mme la Maire évoque la possibilité de la géothermie en moyen de chauffage : Dominique GIRET répond que pour étudier cette possibilité, il faut faire appel, selon les architectes, à un bureau d’études spécialisé, le CRER sera aussi interrogé pour cette possibilité de chauffage. Le projet avance bien techniquement, il satisfait très largement les acteurs du centre socioculturel en répondant un maximum à leurs demandes ce qui'],\n",
       "  'table': \"### Description de la page\\n\\nLe fond beige de la page semble se référer à un arrière-plan que l'on pourrait supposer être la couverture d'un livre puisque, dans le coin du haut, on peut lire le texte 44. Cette page se décline en deux colonnes séparées par la ligne 3-1, chaque colonne contenant un titre d'un niveau distinct. La marge du haut de chaque colonne semble indiquer un début d'une section qui continuera au bas de la page. \\n\\nLa section intitulée 3-1 est séparée par une marge blanche avec les mots **3. Informations diverses**, sur laquelle est on appuie pour garder la lecture mais on ne tient pas notre esprit dans la lecture de cette section. Cette disposition permet à la lecture de passer sur une référence éventuelle. \\n\\nL'interface de la page, par son mode d'écriture, la disposition et la mise en page, correspond plus à celle d'un résumé qu'à celle de contrôle scolaire. \\n\\n### Description du tableau\\n\\nLe tableau est le seul élément sur la page donné. \\n\\nIl se décompose en deux colonnes de colonnes de titre avec les noms de la table comme NATURE DU BIEN et aussi celle qu'on peut lire sous : PROPRIÉTAIRE. \\n\\nL'illustration de la première colonne correspond bien aux titres de tableaux et à une description qui, au bout de chaque ligne, laisse une marge blanche qui sert de point de passage indépendant. \\n\\nIl ne contient pas d'analyses ou de tableaux des valeurs issues de cette table et n'apporte pas, par son apparition, de relation directe qui pourrait faire dire que l'on devrait lire cette page d'après sa présentation. \\n\\nLa page contient des informations qui semblent être essentielles. Elle n’a pas la définition d’un contrôle scolaire mais la définition d’un résumé dans ce domaine. \\n\\n\\n\\nSur la partie de la page, il y a mention de la date du 22 septembre et de la légende de samedi 8 h.\",\n",
       "  'final_response': \"Voici les étapes pour déterminer la durée du projet:\\n\\n1. **Identifier les dates clés:** La description mentionne plusieurs dates importantes:\\n    - Livraison de la bouille et sa remorque en septembre.\\n    - Début des travaux de voirie en septembre.\\n    - Visio avec l'ANCTC est probablement prévue dans un délai raisonnable\\n\\n2. **Déterminer la relation temporelle entre les dates:** On voit que le début des travaux de voirie est prévu pour septembre. La livraison de la bouille et sa remorque est également prévue pour septembre avec une installation prévue en une demi-journée.  \\n\\n\\n3. **Conclusion:**  Comme la plupart des dates clés sont en septembre, on peut supposer que le projet commence à prendre forme **en septembre**. La durée précise du projet reste cependant inconnue, car nous ne connaissons pas la durée des travaux de voirie ni la durée de la phase de recherche de financement.\\n\\nEn absence d’informations complémentaires, on ne peut pas déterminer la durée exacte du projet.\\n\\n\\n\\n\\n\"}]"
      ]
     },
     "execution_count": 65,
     "metadata": {},
     "output_type": "execute_result"
    }
   ],
   "source": [
    "final_responses"
   ]
  }
 ],
 "metadata": {
  "kernelspec": {
   "display_name": "Python 3",
   "language": "python",
   "name": "python3"
  },
  "language_info": {
   "codemirror_mode": {
    "name": "ipython",
    "version": 3
   },
   "file_extension": ".py",
   "mimetype": "text/x-python",
   "name": "python",
   "nbconvert_exporter": "python",
   "pygments_lexer": "ipython3",
   "version": "3.12.0"
  }
 },
 "nbformat": 4,
 "nbformat_minor": 2
}
