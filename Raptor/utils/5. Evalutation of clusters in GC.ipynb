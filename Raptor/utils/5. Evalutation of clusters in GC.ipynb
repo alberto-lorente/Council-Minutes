{
  "cells": [
    {
      "cell_type": "markdown",
      "metadata": {
        "id": "puscheZ8OLVS"
      },
      "source": [
        "## Evaluation of Embeddings via Clustering Distance"
      ]
    },
    {
      "cell_type": "code",
      "execution_count": 10,
      "metadata": {
        "id": "47jbdrPUOLVS"
      },
      "outputs": [],
      "source": [
        "from pprint import pprint\n",
        "import os\n",
        "import torch\n",
        "import numpy as np\n",
        "import json"
      ]
    },
    {
      "cell_type": "code",
      "execution_count": 11,
      "metadata": {
        "id": "Ft8laQt_OLVS"
      },
      "outputs": [],
      "source": [
        "device = \"cpu\"\n",
        "if torch.cuda.is_available():\n",
        "    # print(\"Cuda available\")\n",
        "    device = torch.device('cuda')\n"
      ]
    },
    {
      "cell_type": "code",
      "execution_count": 12,
      "metadata": {
        "id": "ZmFE0neFOLVS"
      },
      "outputs": [],
      "source": [
        "from huggingface_hub import HfFolder, whoami\n",
        "with open(\"HF_TOKEN.txt\", \"r\") as f:\n",
        "    hf_token = f.read()\n",
        "\n",
        "HfFolder.save_token(hf_token)\n"
      ]
    },
    {
      "cell_type": "code",
      "execution_count": 13,
      "metadata": {
        "id": "D0eW8PWfOeDo"
      },
      "outputs": [],
      "source": [
        "import json\n",
        "with open(\"text_to_eval_clusters.json\", \"r\") as f:\n",
        "    list_only_text = json.load(f)"
      ]
    },
    {
      "cell_type": "markdown",
      "metadata": {
        "id": "BlgS79mkOLVT"
      },
      "source": [
        "\n",
        "Candidate embeddings taken from the MTEB(fra, v1) BenchMark: http://mteb-leaderboard.hf.space/?benchmark_name=MTEB%28fra%2C+v1%29:\n"
      ]
    },
    {
      "cell_type": "markdown",
      "metadata": {
        "id": "bNcA-IbVOLVT"
      },
      "source": [
        "\n",
        "\n",
        "https://huggingface.co/Salesforce/SFR-Embedding-2_R - highest in the clustering tasks in the benchmark\n",
        "\n",
        "https://huggingface.co/manu/sentence_croissant_alpha_v0.4 - not highest but probably faster\n",
        "\n",
        "https://huggingface.co/jinaai/jina-embeddings-v3 - has different types of embedding functions\n",
        "\n",
        "https://huggingface.co/Snowflake/snowflake-arctic-embed-l-v2.0\n",
        "\n",
        "https://huggingface.co/flaubert/flaubert_base_uncased\n",
        "\n",
        "https://huggingface.co/dangvantuan/sentence-camembert-large\n"
      ]
    },
    {
      "cell_type": "code",
      "execution_count": 14,
      "metadata": {
        "id": "TRFCdZXTOLVT"
      },
      "outputs": [],
      "source": [
        "# after running the candidates, these were the only ones that we could run locally or in google colab\n",
        "model_candidates = [\n",
        "                    \"Snowflake/snowflake-arctic-embed-l-v2.0\",\n",
        "                    \"manu/sentence_croissant_alpha_v0.4\"\n",
        "                    ]"
      ]
    },
    {
      "cell_type": "code",
      "execution_count": 15,
      "metadata": {
        "id": "ot2XU0xEO434"
      },
      "outputs": [],
      "source": [
        "from sklearn.mixture import GaussianMixture\n",
        "from sklearn.metrics import silhouette_score\n",
        "\n",
        "\n",
        "def cluster_n(cluster_model, n_clusters, embeddings, scoring_function):\n",
        "\n",
        "    clusters = cluster_model.fit_predict(embeddings)\n",
        "    sil_sc = scoring_function(embeddings, clusters)\n",
        "\n",
        "    print(\"Number of clusters: \", n_clusters)\n",
        "    print(\"Score: \", sil_sc)\n",
        "    print()\n",
        "\n",
        "    return clusters, sil_sc\n",
        "\n",
        "def get_optimal_n_clusters(squeezeded_embeddings, max_n_clusters=9):\n",
        "\n",
        "    #ranges of clusters to test\n",
        "    range_clusters = np.arange(start=3, stop=max_n_clusters, step=1)\n",
        "\n",
        "    # Compute the silhouette scores for each number of clusters\n",
        "    silhouette_scores = []\n",
        "    clusters_labels = []\n",
        "    for n_cluster in range_clusters:\n",
        "        gm = GaussianMixture(n_components=n_cluster, random_state=42) # using Gaussian Mixture as in the paper references\n",
        "        clusters, sil_sc = cluster_n(gm, n_cluster, squeezeded_embeddings, silhouette_score)\n",
        "        silhouette_scores.append(sil_sc)\n",
        "        clusters_labels.append(clusters) # saving the labels so that we don't need to recompute them after getting the optimal n\n",
        "\n",
        "    # Getting the optimal number of clusters\n",
        "    max = np.argmax(silhouette_scores)\n",
        "    optimal_n = range_clusters[max]\n",
        "    # print(\"Index\", max)\n",
        "    # print(\"Optimal Number of Clusters\", optimal_n)\n",
        "\n",
        "    # Getting the labels for the optimal number of clusters\n",
        "    final_clusters = clusters_labels[max]\n",
        "\n",
        "    return optimal_n, final_clusters, silhouette_scores"
      ]
    },
    {
      "cell_type": "code",
      "execution_count": null,
      "metadata": {
        "colab": {
          "base_uri": "https://localhost:8080/",
          "height": 49,
          "referenced_widgets": [
            "15c954cf756e4fb7a4b434f00487c936",
            "22f41cd08d9c4993ad407784d920be3b",
            "bf3800f287444e1686702e901d55bbe6",
            "5c2007a4d58d4b728da2816bafb4e060",
            "f50a422b0a49478da1e130514c87f873",
            "ebaf264861ca4fa68d6b06ad505aeac8",
            "284e23ea70ab4162a479d88f1e7243ae",
            "3282862a02a74ed9a1a1011b9e4499cd",
            "194926b612ac416ab680a1fecd2dbe0d",
            "322640d119e04ee7976a4ad2d5814130",
            "32b6edd8be18411db83bbea7f61c5821"
          ]
        },
        "id": "rRQc4pCnOLVU",
        "outputId": "c5199ed9-75cc-4330-dec9-8d16a16ec2ed"
      },
      "outputs": [
        {
          "data": {
            "application/vnd.jupyter.widget-view+json": {
              "model_id": "15c954cf756e4fb7a4b434f00487c936",
              "version_major": 2,
              "version_minor": 0
            },
            "text/plain": [
              "model.safetensors:  12%|#1        | 304M/2.56G [00:00<?, ?B/s]"
            ]
          },
          "metadata": {},
          "output_type": "display_data"
        }
      ],
      "source": [
        "import time\n",
        "from sentence_transformers import SentenceTransformer\n",
        "\n",
        "model_id = \"manu/sentence_croissant_alpha_v0.4\"\n",
        "\n",
        "model = SentenceTransformer(model_id, trust_remote_code=True)\n",
        "print(\"Evaluating model: \", model_id)\n",
        "sil_scores_all_docs = []\n",
        "start = time.time()\n",
        "for doc in list_only_text:\n",
        "    doc_embds = model.encode(doc, trust_remote=True)\n",
        "    print(\"Embedding done.\")\n",
        "    optimal_n, final_clusters, sil_scores = get_optimal_n_clusters(doc_embds, max_n_clusters=9)\n",
        "    sil_float_array = [float(score) for score in sil_scores]\n",
        "    print(sil_float_array)\n",
        "    print(type(sil_float_array[0])) # checking the type is can be serialized\n",
        "    sil_scores_all_docs.append(sil_float_array)\n",
        "end = time.time()\n",
        "print(end-start)\n",
        "dict_eval = {\"model\": model_id,\n",
        "            \"sil_scores\": sil_scores_all_docs,\n",
        "            \"mean_sils\": [float(np.mean(clust)) for clust in sil_scores_all_docs],\n",
        "            \"time\": end-start}"
      ]
    },
    {
      "cell_type": "code",
      "execution_count": null,
      "metadata": {
        "id": "xBAV9NSzPrN3"
      },
      "outputs": [],
      "source": [
        "\n",
        "name_json = f\"{str(model_id).replace(r\"/\", \"_\")}_cluster_eval.json\"\n",
        "with open(name_json, \"w\") as f:\n",
        "    json.dump(dict_eval, f)"
      ]
    }
  ],
  "metadata": {
    "colab": {
      "provenance": []
    },
    "kernelspec": {
      "display_name": "Python 3",
      "language": "python",
      "name": "python3"
    },
    "language_info": {
      "codemirror_mode": {
        "name": "ipython",
        "version": 3
      },
      "file_extension": ".py",
      "mimetype": "text/x-python",
      "name": "python",
      "nbconvert_exporter": "python",
      "pygments_lexer": "ipython3",
      "version": "3.12.0"
    },
    "widgets": {
      "application/vnd.jupyter.widget-state+json": {
        "15c954cf756e4fb7a4b434f00487c936": {
          "model_module": "@jupyter-widgets/controls",
          "model_module_version": "1.5.0",
          "model_name": "HBoxModel",
          "state": {
            "_dom_classes": [],
            "_model_module": "@jupyter-widgets/controls",
            "_model_module_version": "1.5.0",
            "_model_name": "HBoxModel",
            "_view_count": null,
            "_view_module": "@jupyter-widgets/controls",
            "_view_module_version": "1.5.0",
            "_view_name": "HBoxView",
            "box_style": "",
            "children": [
              "IPY_MODEL_22f41cd08d9c4993ad407784d920be3b",
              "IPY_MODEL_bf3800f287444e1686702e901d55bbe6",
              "IPY_MODEL_5c2007a4d58d4b728da2816bafb4e060"
            ],
            "layout": "IPY_MODEL_f50a422b0a49478da1e130514c87f873"
          }
        },
        "194926b612ac416ab680a1fecd2dbe0d": {
          "model_module": "@jupyter-widgets/controls",
          "model_module_version": "1.5.0",
          "model_name": "ProgressStyleModel",
          "state": {
            "_model_module": "@jupyter-widgets/controls",
            "_model_module_version": "1.5.0",
            "_model_name": "ProgressStyleModel",
            "_view_count": null,
            "_view_module": "@jupyter-widgets/base",
            "_view_module_version": "1.2.0",
            "_view_name": "StyleView",
            "bar_color": null,
            "description_width": ""
          }
        },
        "22f41cd08d9c4993ad407784d920be3b": {
          "model_module": "@jupyter-widgets/controls",
          "model_module_version": "1.5.0",
          "model_name": "HTMLModel",
          "state": {
            "_dom_classes": [],
            "_model_module": "@jupyter-widgets/controls",
            "_model_module_version": "1.5.0",
            "_model_name": "HTMLModel",
            "_view_count": null,
            "_view_module": "@jupyter-widgets/controls",
            "_view_module_version": "1.5.0",
            "_view_name": "HTMLView",
            "description": "",
            "description_tooltip": null,
            "layout": "IPY_MODEL_ebaf264861ca4fa68d6b06ad505aeac8",
            "placeholder": "​",
            "style": "IPY_MODEL_284e23ea70ab4162a479d88f1e7243ae",
            "value": "model.safetensors:  66%"
          }
        },
        "284e23ea70ab4162a479d88f1e7243ae": {
          "model_module": "@jupyter-widgets/controls",
          "model_module_version": "1.5.0",
          "model_name": "DescriptionStyleModel",
          "state": {
            "_model_module": "@jupyter-widgets/controls",
            "_model_module_version": "1.5.0",
            "_model_name": "DescriptionStyleModel",
            "_view_count": null,
            "_view_module": "@jupyter-widgets/base",
            "_view_module_version": "1.2.0",
            "_view_name": "StyleView",
            "description_width": ""
          }
        },
        "322640d119e04ee7976a4ad2d5814130": {
          "model_module": "@jupyter-widgets/base",
          "model_module_version": "1.2.0",
          "model_name": "LayoutModel",
          "state": {
            "_model_module": "@jupyter-widgets/base",
            "_model_module_version": "1.2.0",
            "_model_name": "LayoutModel",
            "_view_count": null,
            "_view_module": "@jupyter-widgets/base",
            "_view_module_version": "1.2.0",
            "_view_name": "LayoutView",
            "align_content": null,
            "align_items": null,
            "align_self": null,
            "border": null,
            "bottom": null,
            "display": null,
            "flex": null,
            "flex_flow": null,
            "grid_area": null,
            "grid_auto_columns": null,
            "grid_auto_flow": null,
            "grid_auto_rows": null,
            "grid_column": null,
            "grid_gap": null,
            "grid_row": null,
            "grid_template_areas": null,
            "grid_template_columns": null,
            "grid_template_rows": null,
            "height": null,
            "justify_content": null,
            "justify_items": null,
            "left": null,
            "margin": null,
            "max_height": null,
            "max_width": null,
            "min_height": null,
            "min_width": null,
            "object_fit": null,
            "object_position": null,
            "order": null,
            "overflow": null,
            "overflow_x": null,
            "overflow_y": null,
            "padding": null,
            "right": null,
            "top": null,
            "visibility": null,
            "width": null
          }
        },
        "3282862a02a74ed9a1a1011b9e4499cd": {
          "model_module": "@jupyter-widgets/base",
          "model_module_version": "1.2.0",
          "model_name": "LayoutModel",
          "state": {
            "_model_module": "@jupyter-widgets/base",
            "_model_module_version": "1.2.0",
            "_model_name": "LayoutModel",
            "_view_count": null,
            "_view_module": "@jupyter-widgets/base",
            "_view_module_version": "1.2.0",
            "_view_name": "LayoutView",
            "align_content": null,
            "align_items": null,
            "align_self": null,
            "border": null,
            "bottom": null,
            "display": null,
            "flex": null,
            "flex_flow": null,
            "grid_area": null,
            "grid_auto_columns": null,
            "grid_auto_flow": null,
            "grid_auto_rows": null,
            "grid_column": null,
            "grid_gap": null,
            "grid_row": null,
            "grid_template_areas": null,
            "grid_template_columns": null,
            "grid_template_rows": null,
            "height": null,
            "justify_content": null,
            "justify_items": null,
            "left": null,
            "margin": null,
            "max_height": null,
            "max_width": null,
            "min_height": null,
            "min_width": null,
            "object_fit": null,
            "object_position": null,
            "order": null,
            "overflow": null,
            "overflow_x": null,
            "overflow_y": null,
            "padding": null,
            "right": null,
            "top": null,
            "visibility": null,
            "width": null
          }
        },
        "32b6edd8be18411db83bbea7f61c5821": {
          "model_module": "@jupyter-widgets/controls",
          "model_module_version": "1.5.0",
          "model_name": "DescriptionStyleModel",
          "state": {
            "_model_module": "@jupyter-widgets/controls",
            "_model_module_version": "1.5.0",
            "_model_name": "DescriptionStyleModel",
            "_view_count": null,
            "_view_module": "@jupyter-widgets/base",
            "_view_module_version": "1.2.0",
            "_view_name": "StyleView",
            "description_width": ""
          }
        },
        "5c2007a4d58d4b728da2816bafb4e060": {
          "model_module": "@jupyter-widgets/controls",
          "model_module_version": "1.5.0",
          "model_name": "HTMLModel",
          "state": {
            "_dom_classes": [],
            "_model_module": "@jupyter-widgets/controls",
            "_model_module_version": "1.5.0",
            "_model_name": "HTMLModel",
            "_view_count": null,
            "_view_module": "@jupyter-widgets/controls",
            "_view_module_version": "1.5.0",
            "_view_name": "HTMLView",
            "description": "",
            "description_tooltip": null,
            "layout": "IPY_MODEL_322640d119e04ee7976a4ad2d5814130",
            "placeholder": "​",
            "style": "IPY_MODEL_32b6edd8be18411db83bbea7f61c5821",
            "value": " 1.70G/2.56G [00:33&lt;00:20, 42.3MB/s]"
          }
        },
        "bf3800f287444e1686702e901d55bbe6": {
          "model_module": "@jupyter-widgets/controls",
          "model_module_version": "1.5.0",
          "model_name": "FloatProgressModel",
          "state": {
            "_dom_classes": [],
            "_model_module": "@jupyter-widgets/controls",
            "_model_module_version": "1.5.0",
            "_model_name": "FloatProgressModel",
            "_view_count": null,
            "_view_module": "@jupyter-widgets/controls",
            "_view_module_version": "1.5.0",
            "_view_name": "ProgressView",
            "bar_style": "",
            "description": "",
            "description_tooltip": null,
            "layout": "IPY_MODEL_3282862a02a74ed9a1a1011b9e4499cd",
            "max": 2559798552,
            "min": 0,
            "orientation": "horizontal",
            "style": "IPY_MODEL_194926b612ac416ab680a1fecd2dbe0d",
            "value": 1698693120
          }
        },
        "ebaf264861ca4fa68d6b06ad505aeac8": {
          "model_module": "@jupyter-widgets/base",
          "model_module_version": "1.2.0",
          "model_name": "LayoutModel",
          "state": {
            "_model_module": "@jupyter-widgets/base",
            "_model_module_version": "1.2.0",
            "_model_name": "LayoutModel",
            "_view_count": null,
            "_view_module": "@jupyter-widgets/base",
            "_view_module_version": "1.2.0",
            "_view_name": "LayoutView",
            "align_content": null,
            "align_items": null,
            "align_self": null,
            "border": null,
            "bottom": null,
            "display": null,
            "flex": null,
            "flex_flow": null,
            "grid_area": null,
            "grid_auto_columns": null,
            "grid_auto_flow": null,
            "grid_auto_rows": null,
            "grid_column": null,
            "grid_gap": null,
            "grid_row": null,
            "grid_template_areas": null,
            "grid_template_columns": null,
            "grid_template_rows": null,
            "height": null,
            "justify_content": null,
            "justify_items": null,
            "left": null,
            "margin": null,
            "max_height": null,
            "max_width": null,
            "min_height": null,
            "min_width": null,
            "object_fit": null,
            "object_position": null,
            "order": null,
            "overflow": null,
            "overflow_x": null,
            "overflow_y": null,
            "padding": null,
            "right": null,
            "top": null,
            "visibility": null,
            "width": null
          }
        },
        "f50a422b0a49478da1e130514c87f873": {
          "model_module": "@jupyter-widgets/base",
          "model_module_version": "1.2.0",
          "model_name": "LayoutModel",
          "state": {
            "_model_module": "@jupyter-widgets/base",
            "_model_module_version": "1.2.0",
            "_model_name": "LayoutModel",
            "_view_count": null,
            "_view_module": "@jupyter-widgets/base",
            "_view_module_version": "1.2.0",
            "_view_name": "LayoutView",
            "align_content": null,
            "align_items": null,
            "align_self": null,
            "border": null,
            "bottom": null,
            "display": null,
            "flex": null,
            "flex_flow": null,
            "grid_area": null,
            "grid_auto_columns": null,
            "grid_auto_flow": null,
            "grid_auto_rows": null,
            "grid_column": null,
            "grid_gap": null,
            "grid_row": null,
            "grid_template_areas": null,
            "grid_template_columns": null,
            "grid_template_rows": null,
            "height": null,
            "justify_content": null,
            "justify_items": null,
            "left": null,
            "margin": null,
            "max_height": null,
            "max_width": null,
            "min_height": null,
            "min_width": null,
            "object_fit": null,
            "object_position": null,
            "order": null,
            "overflow": null,
            "overflow_x": null,
            "overflow_y": null,
            "padding": null,
            "right": null,
            "top": null,
            "visibility": null,
            "width": null
          }
        }
      }
    }
  },
  "nbformat": 4,
  "nbformat_minor": 0
}
