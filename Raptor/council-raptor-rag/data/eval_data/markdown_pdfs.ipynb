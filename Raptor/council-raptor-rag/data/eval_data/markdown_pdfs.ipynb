{
 "cells": [
  {
   "cell_type": "markdown",
   "metadata": {},
   "source": [
    "Notebook to convert the pdfs we are using for evaluation into markdown format and save them into .txt files.\n",
    "Doing it separetely from the main workflow allows us to convert them more conveniently since it will take a bit of time to run.\n"
   ]
  },
  {
   "cell_type": "code",
   "execution_count": 9,
   "metadata": {},
   "outputs": [],
   "source": [
    "import os"
   ]
  },
  {
   "cell_type": "code",
   "execution_count": 29,
   "metadata": {},
   "outputs": [],
   "source": [
    "final_eval_pdfs_path = r\"Solved PDFs\"\n",
    "final_eval_pdfs = os.listdir(final_eval_pdfs_path)\n",
    "final_eval_paths = [os.path.join(final_eval_pdfs_path, pdf) for pdf in final_eval_pdfs if pdf.endswith(\".pdf\")]\n",
    "\n",
    "clust_eval_pdfs_path = r\"PDFs for Clustering Eval wrt Embed Model\"\n",
    "clust_eval_pdfs = os.listdir(clust_eval_pdfs_path)\n",
    "clust_eval_paths = [os.path.join(clust_eval_pdfs_path, pdf) for pdf in clust_eval_pdfs if pdf.endswith(\".pdf\")]"
   ]
  },
  {
   "cell_type": "code",
   "execution_count": 23,
   "metadata": {},
   "outputs": [],
   "source": [
    "import sys\n",
    "sys.path.append('..')\n",
    "from council_rag.data_utils import pdf2md"
   ]
  },
  {
   "cell_type": "code",
   "execution_count": 24,
   "metadata": {},
   "outputs": [
    {
     "name": "stdout",
     "output_type": "stream",
     "text": [
      "Converting Solved PDFs\\4b7076dc7989552fc75046c32d068eee9122adff_DEL13-1223-Annex.pdf\n",
      "Started parsing the file under job_id 7ca36927-4116-456e-87cf-0a2cb85dc1d1\n",
      "Saved Solved PDFs\\4b7076dc7989552fc75046c32d068eee9122adff_DEL13-1223-Annex.txt\n",
      "--------------------------------\n",
      "Converting Solved PDFs\\7a3ef5c116cca7f5328c44ef2c3f227f8c90ef60_Zones_Accélérati.pdf\n",
      "Started parsing the file under job_id f7b9d198-c704-4c5f-8c8e-68fa13268b10\n",
      ".Saved Solved PDFs\\7a3ef5c116cca7f5328c44ef2c3f227f8c90ef60_Zones_Accélérati.txt\n",
      "--------------------------------\n",
      "Converting Solved PDFs\\a7f4c9d0d7c8f3c9cd67b7c80beec26d9c234382_delibs-22-mai-24.pdf\n",
      "Started parsing the file under job_id 1d42aaf6-6039-40aa-b1df-0d16642f9f57\n",
      "Saved Solved PDFs\\a7f4c9d0d7c8f3c9cd67b7c80beec26d9c234382_delibs-22-mai-24.txt\n",
      "--------------------------------\n",
      "Converting Solved PDFs\\ecc6f_07-12-juillet.pdf\n",
      "Started parsing the file under job_id bd24e03e-5eae-4eb4-b89e-943a0ec97828\n",
      ".Saved Solved PDFs\\ecc6f_07-12-juillet.txt\n",
      "--------------------------------\n",
      "Converting Solved PDFs\\fa224c7892c9c4971dda6423c75c97a04f6e3666_del2024_22-defin.pdf\n",
      "Started parsing the file under job_id 6bdb59ab-2f25-4a44-9ba5-1ca345a13ef6\n",
      "Saved Solved PDFs\\fa224c7892c9c4971dda6423c75c97a04f6e3666_del2024_22-defin.txt\n",
      "--------------------------------\n"
     ]
    }
   ],
   "source": [
    "for path in final_eval_paths:\n",
    "    print(\"Converting\", path)\n",
    "    mkdwn = pdf2md(path)\n",
    "    with open(path.replace(\".pdf\", \".txt\"), \"w\") as f:\n",
    "        f.write(mkdwn)\n",
    "    print(\"Saved\", path.replace(\".pdf\", \".txt\"))\n",
    "    print(\"--------------------------------\")\n",
    "    "
   ]
  },
  {
   "cell_type": "code",
   "execution_count": 30,
   "metadata": {},
   "outputs": [
    {
     "name": "stdout",
     "output_type": "stream",
     "text": [
      "Converting PDFs for Clustering Eval wrt Embed Model\\08d25_DEL-2023-171_Annexe_Rapport_developpment_durable_2021-2022.pdf\n",
      "Started parsing the file under job_id a89a8ea1-6986-4481-a335-06d50d2e1c10\n",
      "....Saved PDFs for Clustering Eval wrt Embed Model\\08d25_DEL-2023-171_Annexe_Rapport_developpment_durable_2021-2022.txt\n",
      "--------------------------------\n",
      "Converting PDFs for Clustering Eval wrt Embed Model\\09541_pagedoc_1503_B.pdf\n",
      "Started parsing the file under job_id f0d2eddc-3df0-4178-b0ae-9b5a65fb627d\n",
      ".Saved PDFs for Clustering Eval wrt Embed Model\\09541_pagedoc_1503_B.txt\n",
      "--------------------------------\n",
      "Converting PDFs for Clustering Eval wrt Embed Model\\40b835f11d17fb2a29780f5702b5def19b97d4ef_RA-2021_ALEC-POL.pdf\n",
      "Started parsing the file under job_id 179ebc1d-d8cb-4487-956a-4793df1e7ecc\n",
      ".Saved PDFs for Clustering Eval wrt Embed Model\\40b835f11d17fb2a29780f5702b5def19b97d4ef_RA-2021_ALEC-POL.txt\n",
      "--------------------------------\n",
      "Converting PDFs for Clustering Eval wrt Embed Model\\44581100d4d00d982967f67297858d20b40cb9d8_Programme-LEADER.pdf\n",
      "Started parsing the file under job_id 8c05a845-05a0-48c2-a162-7e82d89495ea\n",
      "...Saved PDFs for Clustering Eval wrt Embed Model\\44581100d4d00d982967f67297858d20b40cb9d8_Programme-LEADER.txt\n",
      "--------------------------------\n",
      "Converting PDFs for Clustering Eval wrt Embed Model\\ace41990e2df7de61ced4b55c88c215810403448_20230302_PLUi_PA.pdf\n",
      "Started parsing the file under job_id 48210f9a-5776-469d-9e26-8f45c5c0e54e\n",
      ".Saved PDFs for Clustering Eval wrt Embed Model\\ace41990e2df7de61ced4b55c88c215810403448_20230302_PLUi_PA.txt\n",
      "--------------------------------\n",
      "Converting PDFs for Clustering Eval wrt Embed Model\\cc7329f0f9d289cba48647ce810b5aa7e02189c0_9ccf7c_35ac2a46e.pdf\n",
      "Started parsing the file under job_id b54d2ef4-f63c-4630-9fb6-1757d6c593a2\n",
      "...Saved PDFs for Clustering Eval wrt Embed Model\\cc7329f0f9d289cba48647ce810b5aa7e02189c0_9ccf7c_35ac2a46e.txt\n",
      "--------------------------------\n",
      "Converting PDFs for Clustering Eval wrt Embed Model\\e9442_Photovoltaique-20230711-012221-6.pdf\n",
      "Started parsing the file under job_id e1bde474-012b-437f-9132-8126e4e4dd5c\n",
      "Saved PDFs for Clustering Eval wrt Embed Model\\e9442_Photovoltaique-20230711-012221-6.txt\n",
      "--------------------------------\n",
      "Converting PDFs for Clustering Eval wrt Embed Model\\z.28550a0a947b033eb5f7eb270da76e4a7e82ff75_2022-06-28_2862_.pdf\n",
      "Started parsing the file under job_id 01111cf9-6058-4111-bb8e-17334aab06d9\n",
      ".................Error converting PDFs for Clustering Eval wrt Embed Model\\z.28550a0a947b033eb5f7eb270da76e4a7e82ff75_2022-06-28_2862_.pdf\n",
      "Llama Parse Limit Reached\n",
      "--------------------------------\n"
     ]
    }
   ],
   "source": [
    "for path in clust_eval_paths:\n",
    "    print(\"Converting\", path)\n",
    "    try:\n",
    "        mkdwn = pdf2md(path)\n",
    "        with open(path.replace(\".pdf\", \".txt\"), \"w\") as f:\n",
    "            f.write(mkdwn)\n",
    "        print(\"Saved\", path.replace(\".pdf\", \".txt\"))\n",
    "        print(\"--------------------------------\")\n",
    "    except:\n",
    "        print(\"Error converting\", path)\n",
    "        print(\"Llama Parse Limit Reached\")\n",
    "        print(\"--------------------------------\")"
   ]
  }
 ],
 "metadata": {
  "kernelspec": {
   "display_name": "Python 3",
   "language": "python",
   "name": "python3"
  },
  "language_info": {
   "codemirror_mode": {
    "name": "ipython",
    "version": 3
   },
   "file_extension": ".py",
   "mimetype": "text/x-python",
   "name": "python",
   "nbconvert_exporter": "python",
   "pygments_lexer": "ipython3",
   "version": "3.12.0"
  }
 },
 "nbformat": 4,
 "nbformat_minor": 2
}
