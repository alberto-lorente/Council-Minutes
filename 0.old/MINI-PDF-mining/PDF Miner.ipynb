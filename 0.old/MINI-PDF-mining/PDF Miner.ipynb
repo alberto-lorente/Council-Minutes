{
 "cells": [
  {
   "cell_type": "code",
   "execution_count": 49,
   "metadata": {},
   "outputs": [],
   "source": [
    "import pdfplumber\n",
    "import os\n",
    "\n",
    "def mine_pdf(pdf_path, txt_path):\n",
    "    \n",
    "    with pdfplumber.open(pdf_path) as pdf:\n",
    "        n_pages = len(pdf.pages)\n",
    "        # print(\"Number of pages in the PDF:\", n_pages)\n",
    "        # print()\n",
    "        for page in pdf.pages:\n",
    "            page_text = page.extract_text()\n",
    "            # print(\"Page text:\\n\\n\", page_text)\n",
    "            # print()\n",
    "            # print(\"Page text object type:\\n\", type(page_text))\n",
    "            \n",
    "    with open(txt_path, \"w\") as f:\n",
    "        f.write(page_text)"
   ]
  },
  {
   "cell_type": "code",
   "execution_count": 50,
   "metadata": {},
   "outputs": [
    {
     "name": "stdout",
     "output_type": "stream",
     "text": [
      "Toy Data University\\PDFS\\Data Governance Action Minutes 05132021.pdf\n",
      "Toy Data University\\TXTS\\Data Governance Action Minutes 05132021.txt\n",
      "Toy Data University\\PDFS\\Data Governance Action Minutes 11112021.pdf\n",
      "Toy Data University\\TXTS\\Data Governance Action Minutes 11112021.txt\n",
      "Toy Data University\\PDFS\\Data Governance Action Minutes rev10142021.pdf\n",
      "Toy Data University\\TXTS\\Data Governance Action Minutes rev10142021.txt\n",
      "Toy Data University\\PDFS\\Data Governance minutes 01132022 (1).pdf\n",
      "Toy Data University\\TXTS\\Data Governance minutes 01132022 (1).txt\n",
      "Toy Data University\\PDFS\\Data Governance minutes 01132022.pdf\n",
      "Toy Data University\\TXTS\\Data Governance minutes 01132022.txt\n",
      "Toy Data University\\PDFS\\DG Action Minutes 09092021.pdf\n",
      "Toy Data University\\TXTS\\DG Action Minutes 09092021.txt\n"
     ]
    }
   ],
   "source": [
    "base_path = \"Toy Data University\"\n",
    "pdf_paths = os.path.join(base_path, \"PDFS\")\n",
    "\n",
    "list_pdfs = os.listdir(pdf_paths)\n",
    "\n",
    "for pdf in list_pdfs:\n",
    "\n",
    "    pdf_paths = os.path.join(base_path, \"PDFS\") # avoid re-adding stuff to the pdfs paths\n",
    "    txt_paths = os.path.join(base_path, \"TXTS\")\n",
    "    \n",
    "    pdf_path = os.path.join(pdf_paths, pdf)\n",
    "    txt_path = os.path.join(txt_paths, pdf).replace(\".pdf\", \".txt\")\n",
    "    \n",
    "    print(pdf_path)\n",
    "    print(txt_path)\n",
    "    \n",
    "    pdf_mined = mine_pdf(pdf_path, txt_path)"
   ]
  }
 ],
 "metadata": {
  "kernelspec": {
   "display_name": "Python 3",
   "language": "python",
   "name": "python3"
  },
  "language_info": {
   "codemirror_mode": {
    "name": "ipython",
    "version": 3
   },
   "file_extension": ".py",
   "mimetype": "text/x-python",
   "name": "python",
   "nbconvert_exporter": "python",
   "pygments_lexer": "ipython3",
   "version": "3.12.0"
  }
 },
 "nbformat": 4,
 "nbformat_minor": 2
}
