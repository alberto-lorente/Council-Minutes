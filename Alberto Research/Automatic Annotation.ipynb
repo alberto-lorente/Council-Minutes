{
 "cells": [
  {
   "cell_type": "code",
   "execution_count": null,
   "metadata": {},
   "outputs": [],
   "source": [
    "import pandas as pd \n",
    "\n",
    "data = pd.read_csv(\"../dataset_full_texts.csv\")\n",
    "data.head()"
   ]
  },
  {
   "cell_type": "code",
   "execution_count": null,
   "metadata": {},
   "outputs": [],
   "source": [
    "data.shape"
   ]
  },
  {
   "cell_type": "code",
   "execution_count": 4,
   "metadata": {},
   "outputs": [],
   "source": [
    "df_examples = data.sample(20)"
   ]
  },
  {
   "cell_type": "code",
   "execution_count": 5,
   "metadata": {},
   "outputs": [],
   "source": [
    "examples_text_list = df_examples[\"extracted_text\"].to_list()\n",
    "indexes = list(df_examples.index)\n",
    "\n",
    "dict_ex_idx = dict(zip(indexes, examples_text_list))"
   ]
  },
  {
   "cell_type": "code",
   "execution_count": 6,
   "metadata": {},
   "outputs": [],
   "source": [
    "example_text = examples_text_list[0]"
   ]
  },
  {
   "cell_type": "markdown",
   "metadata": {},
   "source": [
    "## Automatic Data Annotation"
   ]
  },
  {
   "cell_type": "code",
   "execution_count": 7,
   "metadata": {},
   "outputs": [],
   "source": [
    "with open(\"HF_TOKEN.txt\", \"r\") as f:\n",
    "        HF_TOKEN = f.read()"
   ]
  },
  {
   "cell_type": "code",
   "execution_count": 8,
   "metadata": {},
   "outputs": [],
   "source": [
    "from transformers import AutoTokenizer\n",
    "\n",
    "model_id = \"mistralai/Mixtral-8x7B-Instruct-v0.1\"\n",
    "\n",
    "tokenizer = AutoTokenizer.from_pretrained(model_id, token=HF_TOKEN)"
   ]
  },
  {
   "cell_type": "markdown",
   "metadata": {},
   "source": [
    "#### Prompt Functions"
   ]
  },
  {
   "cell_type": "markdown",
   "metadata": {},
   "source": [
    "Important note: the API only supports a context length of 8k for this model, while the model may support 128k. Some random dude got around the problem by running a private endpoint and changing the 'Container Configuration', specifically the token settings to whatever length they required.\n",
    "\n",
    "Apparent solution PAID: This part is relatively straightforward. Go to the the model card (e.g. https://huggingface.co/meta-llama/Meta-Llama-3.1-8B-Instruct), Click on \"Deploy\" in the top right corner and select \"Inference Endpoint\". In the next page you can choose what hardware you want to run the model on, which will impact how much you will pay per hour. Set \"Automatic Scale to Zero\" to some value other than \"never\" to switch off the endpoint after X amount of time without request, so that you won't be paying for the endpoint while it's not in use. Then go to \"Advanced Configuration\" and set the maximum amount of tokens to whatever makes sense for your use case. With this procedure you will be able to make full use of the larger context windows of Llama 3 models.\n",
    "\n",
    "\n"
   ]
  },
  {
   "cell_type": "code",
   "execution_count": 9,
   "metadata": {},
   "outputs": [],
   "source": [
    "def lazy_length_check(text, limit=8000, base_prompt_len=888):# 888 is the length of the current prompt\n",
    "\n",
    "    chars = text.split(\" \")\n",
    "    len_text = len(chars)\n",
    "    if len_text > limit - base_prompt_len: \n",
    "        print(\"Text over max. length. Applying padding.\")\n",
    "        padded_text = \" \".join(chars[:limit - base_prompt_len])\n",
    "        return padded_text \n",
    "    \n",
    "    else:\n",
    "        return text"
   ]
  },
  {
   "cell_type": "code",
   "execution_count": 10,
   "metadata": {},
   "outputs": [],
   "source": [
    "def generate_prompt(text_to_classify):\n",
    "    base_prompt = f\"\"\"<OBJECTIF_ET_PERSONA>\n",
    "    Vous êtes un annotateur manuel. Votre tâche consiste à dire si un INPUT TEXT concerne un projet ou non.\n",
    "    </OBJECTIF_ET_PERSONA>\n",
    "\n",
    "    <INSTRUCTIONS>\n",
    "    Suivre ces étapes :\n",
    "    1. Déterminez si le INPUT TEXT concerne un projet ou non.\n",
    "    2. Si le texte concerne un projet, renvoyez 1. Si le INPUT TEXT ne concerne pas un projet, renvoyez 0.\n",
    "    3. Donnez la raisons pour votre réponse.\n",
    "    4. N'écrivez aucun caractère d'échappement ni de guillemets.\n",
    "    </INSTRUCTIONS>\n",
    "\n",
    "    <FORMAT_DE_SORTIE>\n",
    "    Le format de sortie doit être un dictionnaire json suivant ce modèle:\n",
    "    {{\"is_project\": VOTRE RÉPONSE,\n",
    "    \"reason\": VOTRE RÉPONSE}}\n",
    "    </FORMAT_DE_SORTIE>\n",
    "\n",
    "    <EXEMPLES>\n",
    "    Voici quelques exemples :\n",
    "    1. Exemple #1\n",
    "    INPUT TEXT: \"Pas moins de 200 tableaux peints par les impressionnistes à Bougival ont été répertoriés. Nombreux furent les peintres à s'installer pour un temps à Bougival ou à poser leur chevalet sur les rives de la Seine pour immortaliser paysage et vie en bord du fleuve. Lebourg (Alfred) 1849 – 1928 : attiré par la vallée de la Seine, Albert Lebourg peint à de nombreuses reprises le quai qui borde la Seine venant de Rueil. Il peint Bord de la Seine à Bougival en 1885. Monet (Claude) 1840 – 1926 : il s'installe à Bougival en 1869. Avec son tableau La Seine à Bougival ou le Pont de Bougival peint vers 1869/1870, Claude Monet a représenté l’ancien pont de la ville qui était à péage. Morisot (Berthe) 1841 – 1895 : elle passe plusieurs étés à Bougival de 1881 à 1884 dans la maison qui va devenir, en 2024, l’espace muséal Berthe Morisot. Elle peint à Bougival une quarantaine de toiles : La Fable (1883), Le Quai à Bougival (1883), Eugène Manet et sa fille dans le jardin (1883), Dans la Véranda (1884), Jardin à Bougival (1884), Roses trémières (1884), etc. Pissarro (Camille) 1830 – 1903 : installé à Louveciennes puis à Pontoise, Pissarro peint plusieurs toiles à Bougival : Maisons à Bougival (1870), Bords de la Seine à Bougival (1871), La Route de Louveciennes (1872). Renoir (Auguste) 1849 – 1928 : Renoir n’a jamais séjourné à Bougival, contrairement à son ami Monet, mais\"\n",
    "    {{\"is_project\": 0}}\n",
    "\n",
    "    2. Exemple #2\n",
    "    INPUT TEXT: \"AMBITIONS DE LA ZAC : Une réponse aux enjeux contemporains Construit sur une friche industrielle et au contact d’un futur parc et du grand paysage, ce nouveau quartier répond à di\u001férents enjeux : > Sociétaux : • Répondre aux besoins en logements de la commune, • Proposer un quartier avec une densité dé\u001enie pour ralentir l’étalement urbain, • O\u001frir un accès aux services, espaces de santé, commerces et transports en commun, • Desservir le quartier par le réseau de transports en commun de la métropole (prolongation de la ligne 55), • Conserver l’identité culturelle et patrimoniale des lieux grâce au maintien des éléments industriels du site. > Environnementaux : • Renforcer la biodiversité de ce terrain malmené depuis 60 ans, en intégrant des plantations résistantes aux fortes chaleurs et la perméabilisation du site à 50 %. • Dépolluer les sols, • Respecter la charte Écoquartier : obtension de la médaille d’argent QDO en phase conception (Quartier Durable d’Occitanie). • Construire des bâtiments respectant les normes environnementales en vigueur, • Favoriser les modes de transport alternatifs à la voiture : création de pistes cyclables et de cheminements doux, d’une centralité o\u001frant des commerces et des activités, un accès à moins de 10 minutes à pied à la rive droite de la commune, • Préserver la limite entre ville et plaine cultivée. • Protéger les spots de biodiversités identi\u001eés dans l’étude d’impact (environ 7000 m2 ), • O\u001frir un espace public paysager qualitatif avec près d’1 ha de parc urbain et de venelles vertes.\"\n",
    "    {{\"is_project\": 1}}\n",
    "\n",
    "    3. Exemple #3\n",
    "    INPUT TEXT: \"Rappel des procédures Suite à l’annulation du SCoT du Syndicat du Bassin d’Arcachon – Val de l’Eyre en date du 18 juin 2015 confirmé par la Cour Administrative d’Appel de Bordeaux en date du 28 décembre 2017, les élus des 17 communes du Bassin d’Arcachon et du Val de l’Eyre ont décidé collectivement de relancer la procédure en tenant compte de l’arrêt de la Cour Administrative d’Appel et des évolutions réglementaires. Procédure actuelle Par délibération du 9 juillet 2018, les élus du Conseil syndical du SYBARVAL ont prescrit l’élaboration d’un Schéma de Cohérence Territoriale à l’échelle du territoire en précisant les objectifs poursuivis et les modalités de concertation. Le SYBARVAL regroupe trois intercommunalités qui se situent autour ou à proximité du Bassin d’Arcachon : - la Communauté d’Agglomération du Bassin d’Arcachon Sud «COBAS » (Arcachon, GujanMestras, Le Teich, La Teste-de-Buch) ; - la Communauté d’Agglomération du Bassin d’Arcachon Nord «COBAN » (Andernos les Bains, Arès, Audenge, Biganos, Lanton, Lège-Cap-Ferret, Mios, Marcheprime) - la Communauté de Communes du Val de l’Eyre (Le Barp, Belin-Beliet, Lugos, Saint Magne, Salles).\"\n",
    "    {{\"is_project\": 1}}\n",
    "    </EXEMPLES>\n",
    "\n",
    "    <INPUT TEXT>\n",
    "    {text_to_classify}\n",
    "    </INPUT TEXT>\n",
    "    \"\"\"\n",
    "    return base_prompt"
   ]
  },
  {
   "cell_type": "code",
   "execution_count": null,
   "metadata": {},
   "outputs": [],
   "source": [
    "base_pr = \"\"\"<OBJECTIF_ET_PERSONA>\n",
    "    Vous êtes un annotateur manuel. Votre tâche consiste à dire si un INPUT TEXT concerne un projet ou non.\n",
    "    </OBJECTIF_ET_PERSONA>\n",
    "\n",
    "    <INSTRUCTIONS>\n",
    "    Suivre ces étapes :\n",
    "    1. Déterminez si le INPUT TEXT concerne un projet ou non.\n",
    "    2. Si le texte concerne un projet, renvoyez 1. Si le INPUT TEXT ne concerne pas un projet, renvoyez 0.\n",
    "    3. Donnez au moins deux raisons pour votre réponse.\n",
    "    </INSTRUCTIONS>\n",
    "\n",
    "    <FORMAT_DE_SORTIE>\n",
    "    Le format de sortie doit être un dictionnaire json suivant ce modèle :\n",
    "    {{\"is_project\": VOTRE RÉPONSE (0 ou 1),\n",
    "    \"reasons\": VOTRE RÉPONSE}}\n",
    "    </FORMAT_DE_SORTIE>\n",
    "\n",
    "    <EXEMPLES>\n",
    "    Voici quelques exemples :\n",
    "    1. Exemple #1\n",
    "    INPUT TEXT: \"Pas moins de 200 tableaux peints par les impressionnistes à Bougival ont été répertoriés. Nombreux furent les peintres à s'installer pour un temps à Bougival ou à poser leur chevalet sur les rives de la Seine pour immortaliser paysage et vie en bord du fleuve. Lebourg (Alfred) 1849 – 1928 : attiré par la vallée de la Seine, Albert Lebourg peint à de nombreuses reprises le quai qui borde la Seine venant de Rueil. Il peint Bord de la Seine à Bougival en 1885. Monet (Claude) 1840 – 1926 : il s'installe à Bougival en 1869. Avec son tableau La Seine à Bougival ou le Pont de Bougival peint vers 1869/1870, Claude Monet a représenté l’ancien pont de la ville qui était à péage. Morisot (Berthe) 1841 – 1895 : elle passe plusieurs étés à Bougival de 1881 à 1884 dans la maison qui va devenir, en 2024, l’espace muséal Berthe Morisot. Elle peint à Bougival une quarantaine de toiles : La Fable (1883), Le Quai à Bougival (1883), Eugène Manet et sa fille dans le jardin (1883), Dans la Véranda (1884), Jardin à Bougival (1884), Roses trémières (1884), etc. Pissarro (Camille) 1830 – 1903 : installé à Louveciennes puis à Pontoise, Pissarro peint plusieurs toiles à Bougival : Maisons à Bougival (1870), Bords de la Seine à Bougival (1871), La Route de Louveciennes (1872). Renoir (Auguste) 1849 – 1928 : Renoir n’a jamais séjourné à Bougival, contrairement à son ami Monet, mais\"\n",
    "    Est-ce un projet: NO\n",
    "\n",
    "    2. Exemple #2\n",
    "    INPUT TEXT: \"AMBITIONS DE LA ZAC : Une réponse aux enjeux contemporains Construit sur une friche industrielle et au contact d’un futur parc et du grand paysage, ce nouveau quartier répond à di\u001férents enjeux : > Sociétaux : • Répondre aux besoins en logements de la commune, • Proposer un quartier avec une densité dé\u001enie pour ralentir l’étalement urbain, • O\u001frir un accès aux services, espaces de santé, commerces et transports en commun, • Desservir le quartier par le réseau de transports en commun de la métropole (prolongation de la ligne 55), • Conserver l’identité culturelle et patrimoniale des lieux grâce au maintien des éléments industriels du site. > Environnementaux : • Renforcer la biodiversité de ce terrain malmené depuis 60 ans, en intégrant des plantations résistantes aux fortes chaleurs et la perméabilisation du site à 50 %. • Dépolluer les sols, • Respecter la charte Écoquartier : obtension de la médaille d’argent QDO en phase conception (Quartier Durable d’Occitanie). • Construire des bâtiments respectant les normes environnementales en vigueur, • Favoriser les modes de transport alternatifs à la voiture : création de pistes cyclables et de cheminements doux, d’une centralité o\u001frant des commerces et des activités, un accès à moins de 10 minutes à pied à la rive droite de la commune, • Préserver la limite entre ville et plaine cultivée. • Protéger les spots de biodiversités identi\u001eés dans l’étude d’impact (environ 7000 m2 ), • O\u001frir un espace public paysager qualitatif avec près d’1 ha de parc urbain et de venelles vertes.\"\n",
    "    Est-ce un projet: OUI\n",
    "\n",
    "    3. Exemple #3\n",
    "    INPUT TEXT: \"Rappel des procédures Suite à l’annulation du SCoT du Syndicat du Bassin d’Arcachon – Val de l’Eyre en date du 18 juin 2015 confirmé par la Cour Administrative d’Appel de Bordeaux en date du 28 décembre 2017, les élus des 17 communes du Bassin d’Arcachon et du Val de l’Eyre ont décidé collectivement de relancer la procédure en tenant compte de l’arrêt de la Cour Administrative d’Appel et des évolutions réglementaires. Procédure actuelle Par délibération du 9 juillet 2018, les élus du Conseil syndical du SYBARVAL ont prescrit l’élaboration d’un Schéma de Cohérence Territoriale à l’échelle du territoire en précisant les objectifs poursuivis et les modalités de concertation. Le SYBARVAL regroupe trois intercommunalités qui se situent autour ou à proximité du Bassin d’Arcachon : - la Communauté d’Agglomération du Bassin d’Arcachon Sud «COBAS » (Arcachon, GujanMestras, Le Teich, La Teste-de-Buch) ; - la Communauté d’Agglomération du Bassin d’Arcachon Nord «COBAN » (Andernos les Bains, Arès, Audenge, Biganos, Lanton, Lège-Cap-Ferret, Mios, Marcheprime) - la Communauté de Communes du Val de l’Eyre (Le Barp, Belin-Beliet, Lugos, Saint Magne, Salles).\"\n",
    "    Est-ce un projet: OUI\n",
    "    </EXEMPLES>\n",
    "\n",
    "    <INPUT TEXT>\n",
    "    </INPUT TEXT>\n",
    "    \"\"\"\n",
    "print(len(base_pr.split(\" \")))"
   ]
  },
  {
   "cell_type": "code",
   "execution_count": 12,
   "metadata": {},
   "outputs": [],
   "source": [
    "def format_prompt(prompt):\n",
    "    messages = [{\"role\": \"user\", \"content\": prompt}]\n",
    "    messages_tokenized = tokenizer.apply_chat_template(\n",
    "        messages, tokenize=False, add_generation_prompt=True, return_tensors=\"pt\"\n",
    "    )\n",
    "    return messages_tokenized"
   ]
  },
  {
   "cell_type": "code",
   "execution_count": 13,
   "metadata": {},
   "outputs": [],
   "source": [
    "def clean_response(output):\n",
    "    clean_output_string = output.replace(\"\\n\", \"\").replace(\"\\\\\", \"\")\n",
    "    return clean_output_string"
   ]
  },
  {
   "cell_type": "code",
   "execution_count": 14,
   "metadata": {},
   "outputs": [],
   "source": [
    "generation_params = dict(\n",
    "    temperature=0.2,\n",
    "    top_p=0.60,\n",
    "    top_k=None,\n",
    "    repetition_penalty=1.0,\n",
    "    do_sample=True,\n",
    "    max_new_tokens=512,\n",
    "    return_full_text=False,\n",
    "    seed=42,\n",
    "    max_time=None,\n",
    "    stream=False,\n",
    "    use_cache=False,\n",
    "    wait_for_model=False,\n",
    ")"
   ]
  },
  {
   "cell_type": "markdown",
   "metadata": {},
   "source": [
    "#### Querying"
   ]
  },
  {
   "cell_type": "code",
   "execution_count": 15,
   "metadata": {},
   "outputs": [],
   "source": [
    "import requests\n",
    "import huggingface_hub\n",
    "\n",
    "def query(payload=None, api_url=None):\n",
    "    response = requests.post(api_url, headers=headers, json=payload)\n",
    "    return response.json()\n",
    "\n",
    "headers = {\"Authorization\": f\"Bearer {huggingface_hub.get_token()}\"}\n",
    "api_url = \"https://api-inference.huggingface.co/models/\" + model_id"
   ]
  },
  {
   "cell_type": "markdown",
   "metadata": {},
   "source": [
    "#### Example"
   ]
  },
  {
   "cell_type": "code",
   "execution_count": 16,
   "metadata": {},
   "outputs": [],
   "source": [
    "text = lazy_length_check(example_text)\n",
    "\n",
    "prompt = generate_prompt(text)\n",
    "prompt_formated = format_prompt(prompt)\n",
    "\n",
    "output = query(payload={\"inputs\": prompt_formated, \"parameters\": {**generation_params}}, api_url=api_url)"
   ]
  },
  {
   "cell_type": "code",
   "execution_count": null,
   "metadata": {},
   "outputs": [],
   "source": [
    "output"
   ]
  },
  {
   "cell_type": "code",
   "execution_count": 18,
   "metadata": {},
   "outputs": [],
   "source": [
    "clean_output_string = clean_response(output[0][\"generated_text\"])"
   ]
  },
  {
   "cell_type": "code",
   "execution_count": null,
   "metadata": {},
   "outputs": [],
   "source": [
    "clean_output_string"
   ]
  },
  {
   "cell_type": "code",
   "execution_count": null,
   "metadata": {},
   "outputs": [],
   "source": [
    "import ast\n",
    "\n",
    "output_dictionary = ast.literal_eval(clean_output_string)\n",
    "print(output_dictionary)"
   ]
  },
  {
   "cell_type": "code",
   "execution_count": null,
   "metadata": {},
   "outputs": [],
   "source": [
    "# verifying that we have the correct types to parse\n",
    "print(type(output_dictionary))\n",
    "print(type(output_dictionary[\"is_project\"]))\n",
    "print(type(output_dictionary[\"reason\"]))\n",
    "print(type(output_dictionary[\"reason\"][0]))"
   ]
  },
  {
   "cell_type": "markdown",
   "metadata": {},
   "source": [
    "### Data Annotation"
   ]
  },
  {
   "cell_type": "code",
   "execution_count": 21,
   "metadata": {},
   "outputs": [],
   "source": [
    "def llm_annotate_dict(dict_ex_idx):\n",
    "    \n",
    "    for idx, text in dict_ex_idx.items():\n",
    "        \n",
    "        prompt = generate_prompt(text)\n",
    "        prompt_formated = format_prompt(prompt)\n",
    "        \n",
    "        output = query(payload={\"inputs\": prompt_formated, \"parameters\": {**generation_params}}, api_url=api_url)\n",
    "        \n",
    "        clean_output_string = clean_response(output[0][\"generated_text\"])\n",
    "        output_dictionary = ast.literal_eval(clean_output_string)\n",
    "        \n",
    "        output_dictionary[\"idx\"] = idx\n",
    "        \n",
    "    return output_dictionary"
   ]
  },
  {
   "cell_type": "code",
   "execution_count": 22,
   "metadata": {},
   "outputs": [],
   "source": [
    "def llm_annotate_df(text, verbose=True):\n",
    "    \n",
    "    text = lazy_length_check(text)\n",
    "    \n",
    "    prompt = generate_prompt(text)\n",
    "    prompt_formated = format_prompt(prompt)\n",
    "    \n",
    "    output = query(payload={\"inputs\": prompt_formated, \"parameters\": {**generation_params}}, api_url=api_url)\n",
    "    if verbose:\n",
    "        print(output)\n",
    "    \n",
    "    clean_output_string = clean_response(output[0][\"generated_text\"])\n",
    "    output_dictionary = ast.literal_eval(clean_output_string)\n",
    "    \n",
    "    is_project = output_dictionary[\"is_project\"]\n",
    "    reasoning = output_dictionary[\"reason\"]\n",
    "    \n",
    "    return is_project, reasoning"
   ]
  },
  {
   "cell_type": "code",
   "execution_count": null,
   "metadata": {},
   "outputs": [],
   "source": [
    "from numpy import NaN\n",
    "\n",
    "# data[\"llm_is_project\"] = NaN\n",
    "# data[\"llm_reasoning\"] = NaN\n",
    "\n",
    "# how much annotation is left\n",
    "data[data[\"llm_is_project\"].isna()].shape"
   ]
  },
  {
   "cell_type": "code",
   "execution_count": null,
   "metadata": {},
   "outputs": [],
   "source": [
    "data = pd.read_csv(\"annotated_data.csv\")"
   ]
  },
  {
   "cell_type": "code",
   "execution_count": 24,
   "metadata": {},
   "outputs": [
    {
     "name": "stdout",
     "output_type": "stream",
     "text": [
      "15497  left.\n",
      "Current index  14008\n",
      "Current text:\n",
      " INFORMATION A LA POPULATION DE MONTESCOURT-LIZEROLLES DÉFINIR DES ZONES D'ACCÉLÉRATION DU DÉVELOPPEMENT DE PROJETS D'ÉNERGIES RENOUVELABLES (ZAER) À L'ÉCHELLE COMMUNALE La loi d'accélération de la production d'énergies renouvelables (AER) du 10 mars 2023 met les collectivités locales au cœur de la p\n",
      "{'error': 'Rate limit reached. You reached free usage limit (reset daily). Please subscribe to PRO or Enterprise Hub to get a higher limit: https://hf.co/pricing'}\n",
      "Error parsing the LLM output\n",
      "15497  left.\n",
      "Current index  16043\n",
      "Current text:\n",
      " Conseil municipal du 28 mars 2023 Ordre du jour Information : Etat récapitulatif des indemnités des élus — année 2022 1. Approbation du procès-verbal du conseil municipal du 07 février 2023 2. Décisions municipales 3. Direction générale des services 3.1. 3.2. Sa3} 3.4, 3.5. 3.6. 3.7. 3.8. Approbatio\n",
      "{'error': 'Rate limit reached. You reached free usage limit (reset daily). Please subscribe to PRO or Enterprise Hub to get a higher limit: https://hf.co/pricing'}\n",
      "Error parsing the LLM output\n",
      "15497  left.\n",
      "Current index  8983\n",
      "Current text:\n",
      " Communauté de Communes AR Prefecture AGENCE TECHNIQUE PERIGORD LIMOUSIN 024-242400752-20230615-2023_3_12_1-DE DEPARTEMENTALE Reçu le 23/06/2023 Dossier d’aide à la décision AGENCE TECHNIQUE DÉPARTEMENTALE SM 3075 193alogt2303 2 place Hoche 24000 Périgueux Tél . 05 53 06 65 65 atd24@atd24.fr A GENCE \n",
      "{'error': 'Rate limit reached. You reached free usage limit (reset daily). Please subscribe to PRO or Enterprise Hub to get a higher limit: https://hf.co/pricing'}\n",
      "Error parsing the LLM output\n",
      "15497  left.\n",
      "Current index  8014\n",
      "Current text:\n",
      " AccessDeniedAccess Denied.tx763ee70e56b44915ba664-0067068157\n",
      "{'error': 'Rate limit reached. You reached free usage limit (reset daily). Please subscribe to PRO or Enterprise Hub to get a higher limit: https://hf.co/pricing'}\n",
      "Error parsing the LLM output\n",
      "15497  left.\n",
      "Current index  13292\n",
      "Current text:\n",
      " Envoyé en préfecture le 07/06/2024 Reçu en préfecture le 07/06/2024 Publié le 07/06/2024 ID : 040-214002735-20240530-CM30052024_62-DE Envoyé en préfecture le 07/06/2024 Reçu en préfecture le 07/06/2024 Publié le 07/06/2024 ID : 040-214002735-20240530-CM30052024_62-DE Envoyé en préfecture le 07/06/20\n",
      "{'error': 'Rate limit reached. You reached free usage limit (reset daily). Please subscribe to PRO or Enterprise Hub to get a higher limit: https://hf.co/pricing'}\n",
      "Error parsing the LLM output\n",
      "15497  left.\n",
      "Current index  12546\n",
      "Current text:\n",
      " REPUBLIQUE FRANCAISE Liberté – Egalité - Fraternité VILLE DE PIERREFITTE SUR SEINE SEANCE EN DATE DU JEUDI 25 MAI 2023 DEL2023-61 EXTRAIT DU REGISTRE DES DELIBERATIONS DU MAIRE CONVENTION D'ABONNEMENT ENTRE LE SMIREC ET LA VILLE POUR LE RACCORDEMENT AU RESEAU DE CHALEUR DU GROUPE SCOLAIRE ANATOLE FR\n",
      "{'error': 'Rate limit reached. You reached free usage limit (reset daily). Please subscribe to PRO or Enterprise Hub to get a higher limit: https://hf.co/pricing'}\n",
      "Error parsing the LLM output\n",
      "15497  left.\n",
      "Current index  1268\n",
      "Current text:\n",
      " Ez PRÉFETE DES ALPES- DE-HAUTE- PROVENCE Liberté Égalité Fraternité DELEGATION DEPARTEMENTALE DE L'AGENCE REGIONALE DE SANTE PROVENCE-ALPES-COTE-D'AZUR Service Santé Environnement Digne les Bains, le 1 7 ARS 292? ARRETE PREFECTORAL N° 2©22-0?G -005 Mise en conformité du captage de la source du Thour\n",
      "{'error': 'Rate limit reached. You reached free usage limit (reset daily). Please subscribe to PRO or Enterprise Hub to get a higher limit: https://hf.co/pricing'}\n",
      "Error parsing the LLM output\n",
      "15497  left.\n",
      "Current index  12851\n",
      "Current text:\n",
      " MAIRIE DE TOURNES COMPTE-RENDU SEANCE DU CONSEIL MUNICIPAL JEUDI 8 OCTOBRE 2020 à 20 H 00 Présents : ANSELMO Pascale, BERTRAND Isabelle, BOCQUET Corinne, CARBONNEAUX Gérard, CLAUSSE Philippe, DANCRE Romaric, FAY Thibault, HAPLIK Aline, LENOBLE Christian, MARCHAND Annette, PRZYBYLSKI Johann, RENOLLET\n",
      "{'error': 'Rate limit reached. You reached free usage limit (reset daily). Please subscribe to PRO or Enterprise Hub to get a higher limit: https://hf.co/pricing'}\n",
      "Error parsing the LLM output\n",
      "15497  left.\n",
      "Current index  13129\n",
      "Current text:\n",
      " Conseil Municipal de Cléry-Saint-André - Séance du Lundi 30 Janvier 2023 / 1 CONSEIL MUNICIPAL DE CLÉRY-SAINT-ANDRÉ SÉANCE DU LUNDI 30 JANVIER 2023 Le Maire de Cléry-Saint-André, certifie avoir convoqué, le vingt-quatre janvier deux mille vingt-trois, les membres du Conseil Municipal, pour une séanc\n",
      "{'error': 'Rate limit reached. You reached free usage limit (reset daily). Please subscribe to PRO or Enterprise Hub to get a higher limit: https://hf.co/pricing'}\n",
      "Error parsing the LLM output\n",
      "15497  left.\n",
      "Current index  5708\n",
      "Current text:\n",
      " AccessDeniedAccess Denied.tx76ac4525dc5c499fb6dd9-00670679b7\n",
      "{'error': 'Rate limit reached. You reached free usage limit (reset daily). Please subscribe to PRO or Enterprise Hub to get a higher limit: https://hf.co/pricing'}\n",
      "Error parsing the LLM output\n",
      "15497  left.\n",
      "Current index  13254\n",
      "Current text:\n",
      " CONSEIL MUNICIPAL DU 19 DECEMBRE 2023 L’an deux mille vingt-trois, le dix-neuf décembre à 20 heures 30, le Conseil Municipal de cette commune régulièrement convoqué, s’est réuni au nombre prescrit par la loi, dans le lieu habituel de ses séances sous la présidence de M. Gérard LACOMBE, maire. Date d\n",
      "{'error': 'Rate limit reached. You reached free usage limit (reset daily). Please subscribe to PRO or Enterprise Hub to get a higher limit: https://hf.co/pricing'}\n",
      "Error parsing the LLM output\n",
      "15497  left.\n",
      "Current index  4897\n",
      "Current text:\n",
      " Département de Seine-et-Marne - Arrondissement de Torcy Communauté de communes Les Portes briardes entre villes et forêts Compte-rendu de la séance du Conseil communautaire du 16 décembre 2021 Conseillers en exercice : 38 Conseillers titulaires présents : 30 Pouvoirs : 7 Votants : 37 Date de convoca\n",
      "Text over max. length. Applying padding.\n",
      "{'error': 'Rate limit reached. You reached free usage limit (reset daily). Please subscribe to PRO or Enterprise Hub to get a higher limit: https://hf.co/pricing'}\n",
      "Error parsing the LLM output\n",
      "15497  left.\n",
      "Current index  3842\n",
      "Current text:\n",
      " Service Urbanisme et Environnement 54 Route du Lignon Vialavert 81 260 LE BEZ Tél : 05 63 73 03 86 Mail : plui@ccsvp.fr Commune de Brassac Zones d’accélération pour l’implantation d’installations terrestres de production d’énergies renouvelables ainsi que leurs ouvrages (ZAPER) Version du 26/09/2023\n",
      "{'error': 'Rate limit reached. You reached free usage limit (reset daily). Please subscribe to PRO or Enterprise Hub to get a higher limit: https://hf.co/pricing'}\n",
      "Error parsing the LLM output\n",
      "15497  left.\n",
      "Current index  6820\n",
      "Current text:\n",
      " 1- RAPPORT DE PRÉSENTATION TOME 3 – ETAT INITIAL DE L’ENVIRONNEMENT (EIE) Sommaire 1. Paysage, biodiversité et identités territoriales …………………………….…………………………………………………………………… 5 Synthèse .…………………………………………………………………………………………………………………….…… 37 TOME 3 - Etat Initial de l’Environnement 2 Sommaire 2. Patrimoi\n",
      "Text over max. length. Applying padding.\n",
      "{'error': 'Rate limit reached. You reached free usage limit (reset daily). Please subscribe to PRO or Enterprise Hub to get a higher limit: https://hf.co/pricing'}\n",
      "Error parsing the LLM output\n"
     ]
    },
    {
     "ename": "KeyboardInterrupt",
     "evalue": "",
     "output_type": "error",
     "traceback": [
      "\u001b[1;31m---------------------------------------------------------------------------\u001b[0m",
      "\u001b[1;31mKeyboardInterrupt\u001b[0m                         Traceback (most recent call last)",
      "Cell \u001b[1;32mIn[24], line 34\u001b[0m\n\u001b[0;32m     31\u001b[0m     \u001b[38;5;28mprint\u001b[39m(\u001b[38;5;124m\"\u001b[39m\u001b[38;5;124mError parsing the LLM output\u001b[39m\u001b[38;5;124m\"\u001b[39m)\n\u001b[0;32m     33\u001b[0m \u001b[38;5;28;01mif\u001b[39;00m current_index \u001b[38;5;241m%\u001b[39m \u001b[38;5;241m5\u001b[39m \u001b[38;5;241m==\u001b[39m \u001b[38;5;241m0\u001b[39m:\n\u001b[1;32m---> 34\u001b[0m     \u001b[43mdata\u001b[49m\u001b[38;5;241;43m.\u001b[39;49m\u001b[43mto_csv\u001b[49m\u001b[43m(\u001b[49m\u001b[38;5;124;43m\"\u001b[39;49m\u001b[38;5;124;43mannotated_data.csv\u001b[39;49m\u001b[38;5;124;43m\"\u001b[39;49m\u001b[43m,\u001b[49m\u001b[43m \u001b[49m\u001b[43mindex\u001b[49m\u001b[38;5;241;43m=\u001b[39;49m\u001b[38;5;28;43;01mFalse\u001b[39;49;00m\u001b[43m)\u001b[49m\n",
      "File \u001b[1;32mc:\\Users\\alber\\AppData\\Local\\Programs\\Python\\Python312\\Lib\\site-packages\\pandas\\util\\_decorators.py:333\u001b[0m, in \u001b[0;36mdeprecate_nonkeyword_arguments.<locals>.decorate.<locals>.wrapper\u001b[1;34m(*args, **kwargs)\u001b[0m\n\u001b[0;32m    327\u001b[0m \u001b[38;5;28;01mif\u001b[39;00m \u001b[38;5;28mlen\u001b[39m(args) \u001b[38;5;241m>\u001b[39m num_allow_args:\n\u001b[0;32m    328\u001b[0m     warnings\u001b[38;5;241m.\u001b[39mwarn(\n\u001b[0;32m    329\u001b[0m         msg\u001b[38;5;241m.\u001b[39mformat(arguments\u001b[38;5;241m=\u001b[39m_format_argument_list(allow_args)),\n\u001b[0;32m    330\u001b[0m         \u001b[38;5;167;01mFutureWarning\u001b[39;00m,\n\u001b[0;32m    331\u001b[0m         stacklevel\u001b[38;5;241m=\u001b[39mfind_stack_level(),\n\u001b[0;32m    332\u001b[0m     )\n\u001b[1;32m--> 333\u001b[0m \u001b[38;5;28;01mreturn\u001b[39;00m \u001b[43mfunc\u001b[49m\u001b[43m(\u001b[49m\u001b[38;5;241;43m*\u001b[39;49m\u001b[43margs\u001b[49m\u001b[43m,\u001b[49m\u001b[43m \u001b[49m\u001b[38;5;241;43m*\u001b[39;49m\u001b[38;5;241;43m*\u001b[39;49m\u001b[43mkwargs\u001b[49m\u001b[43m)\u001b[49m\n",
      "File \u001b[1;32mc:\\Users\\alber\\AppData\\Local\\Programs\\Python\\Python312\\Lib\\site-packages\\pandas\\core\\generic.py:3967\u001b[0m, in \u001b[0;36mNDFrame.to_csv\u001b[1;34m(self, path_or_buf, sep, na_rep, float_format, columns, header, index, index_label, mode, encoding, compression, quoting, quotechar, lineterminator, chunksize, date_format, doublequote, escapechar, decimal, errors, storage_options)\u001b[0m\n\u001b[0;32m   3956\u001b[0m df \u001b[38;5;241m=\u001b[39m \u001b[38;5;28mself\u001b[39m \u001b[38;5;28;01mif\u001b[39;00m \u001b[38;5;28misinstance\u001b[39m(\u001b[38;5;28mself\u001b[39m, ABCDataFrame) \u001b[38;5;28;01melse\u001b[39;00m \u001b[38;5;28mself\u001b[39m\u001b[38;5;241m.\u001b[39mto_frame()\n\u001b[0;32m   3958\u001b[0m formatter \u001b[38;5;241m=\u001b[39m DataFrameFormatter(\n\u001b[0;32m   3959\u001b[0m     frame\u001b[38;5;241m=\u001b[39mdf,\n\u001b[0;32m   3960\u001b[0m     header\u001b[38;5;241m=\u001b[39mheader,\n\u001b[1;32m   (...)\u001b[0m\n\u001b[0;32m   3964\u001b[0m     decimal\u001b[38;5;241m=\u001b[39mdecimal,\n\u001b[0;32m   3965\u001b[0m )\n\u001b[1;32m-> 3967\u001b[0m \u001b[38;5;28;01mreturn\u001b[39;00m \u001b[43mDataFrameRenderer\u001b[49m\u001b[43m(\u001b[49m\u001b[43mformatter\u001b[49m\u001b[43m)\u001b[49m\u001b[38;5;241;43m.\u001b[39;49m\u001b[43mto_csv\u001b[49m\u001b[43m(\u001b[49m\n\u001b[0;32m   3968\u001b[0m \u001b[43m    \u001b[49m\u001b[43mpath_or_buf\u001b[49m\u001b[43m,\u001b[49m\n\u001b[0;32m   3969\u001b[0m \u001b[43m    \u001b[49m\u001b[43mlineterminator\u001b[49m\u001b[38;5;241;43m=\u001b[39;49m\u001b[43mlineterminator\u001b[49m\u001b[43m,\u001b[49m\n\u001b[0;32m   3970\u001b[0m \u001b[43m    \u001b[49m\u001b[43msep\u001b[49m\u001b[38;5;241;43m=\u001b[39;49m\u001b[43msep\u001b[49m\u001b[43m,\u001b[49m\n\u001b[0;32m   3971\u001b[0m \u001b[43m    \u001b[49m\u001b[43mencoding\u001b[49m\u001b[38;5;241;43m=\u001b[39;49m\u001b[43mencoding\u001b[49m\u001b[43m,\u001b[49m\n\u001b[0;32m   3972\u001b[0m \u001b[43m    \u001b[49m\u001b[43merrors\u001b[49m\u001b[38;5;241;43m=\u001b[39;49m\u001b[43merrors\u001b[49m\u001b[43m,\u001b[49m\n\u001b[0;32m   3973\u001b[0m \u001b[43m    \u001b[49m\u001b[43mcompression\u001b[49m\u001b[38;5;241;43m=\u001b[39;49m\u001b[43mcompression\u001b[49m\u001b[43m,\u001b[49m\n\u001b[0;32m   3974\u001b[0m \u001b[43m    \u001b[49m\u001b[43mquoting\u001b[49m\u001b[38;5;241;43m=\u001b[39;49m\u001b[43mquoting\u001b[49m\u001b[43m,\u001b[49m\n\u001b[0;32m   3975\u001b[0m \u001b[43m    \u001b[49m\u001b[43mcolumns\u001b[49m\u001b[38;5;241;43m=\u001b[39;49m\u001b[43mcolumns\u001b[49m\u001b[43m,\u001b[49m\n\u001b[0;32m   3976\u001b[0m \u001b[43m    \u001b[49m\u001b[43mindex_label\u001b[49m\u001b[38;5;241;43m=\u001b[39;49m\u001b[43mindex_label\u001b[49m\u001b[43m,\u001b[49m\n\u001b[0;32m   3977\u001b[0m \u001b[43m    \u001b[49m\u001b[43mmode\u001b[49m\u001b[38;5;241;43m=\u001b[39;49m\u001b[43mmode\u001b[49m\u001b[43m,\u001b[49m\n\u001b[0;32m   3978\u001b[0m \u001b[43m    \u001b[49m\u001b[43mchunksize\u001b[49m\u001b[38;5;241;43m=\u001b[39;49m\u001b[43mchunksize\u001b[49m\u001b[43m,\u001b[49m\n\u001b[0;32m   3979\u001b[0m \u001b[43m    \u001b[49m\u001b[43mquotechar\u001b[49m\u001b[38;5;241;43m=\u001b[39;49m\u001b[43mquotechar\u001b[49m\u001b[43m,\u001b[49m\n\u001b[0;32m   3980\u001b[0m \u001b[43m    \u001b[49m\u001b[43mdate_format\u001b[49m\u001b[38;5;241;43m=\u001b[39;49m\u001b[43mdate_format\u001b[49m\u001b[43m,\u001b[49m\n\u001b[0;32m   3981\u001b[0m \u001b[43m    \u001b[49m\u001b[43mdoublequote\u001b[49m\u001b[38;5;241;43m=\u001b[39;49m\u001b[43mdoublequote\u001b[49m\u001b[43m,\u001b[49m\n\u001b[0;32m   3982\u001b[0m \u001b[43m    \u001b[49m\u001b[43mescapechar\u001b[49m\u001b[38;5;241;43m=\u001b[39;49m\u001b[43mescapechar\u001b[49m\u001b[43m,\u001b[49m\n\u001b[0;32m   3983\u001b[0m \u001b[43m    \u001b[49m\u001b[43mstorage_options\u001b[49m\u001b[38;5;241;43m=\u001b[39;49m\u001b[43mstorage_options\u001b[49m\u001b[43m,\u001b[49m\n\u001b[0;32m   3984\u001b[0m \u001b[43m\u001b[49m\u001b[43m)\u001b[49m\n",
      "File \u001b[1;32mc:\\Users\\alber\\AppData\\Local\\Programs\\Python\\Python312\\Lib\\site-packages\\pandas\\io\\formats\\format.py:1014\u001b[0m, in \u001b[0;36mDataFrameRenderer.to_csv\u001b[1;34m(self, path_or_buf, encoding, sep, columns, index_label, mode, compression, quoting, quotechar, lineterminator, chunksize, date_format, doublequote, escapechar, errors, storage_options)\u001b[0m\n\u001b[0;32m    993\u001b[0m     created_buffer \u001b[38;5;241m=\u001b[39m \u001b[38;5;28;01mFalse\u001b[39;00m\n\u001b[0;32m    995\u001b[0m csv_formatter \u001b[38;5;241m=\u001b[39m CSVFormatter(\n\u001b[0;32m    996\u001b[0m     path_or_buf\u001b[38;5;241m=\u001b[39mpath_or_buf,\n\u001b[0;32m    997\u001b[0m     lineterminator\u001b[38;5;241m=\u001b[39mlineterminator,\n\u001b[1;32m   (...)\u001b[0m\n\u001b[0;32m   1012\u001b[0m     formatter\u001b[38;5;241m=\u001b[39m\u001b[38;5;28mself\u001b[39m\u001b[38;5;241m.\u001b[39mfmt,\n\u001b[0;32m   1013\u001b[0m )\n\u001b[1;32m-> 1014\u001b[0m \u001b[43mcsv_formatter\u001b[49m\u001b[38;5;241;43m.\u001b[39;49m\u001b[43msave\u001b[49m\u001b[43m(\u001b[49m\u001b[43m)\u001b[49m\n\u001b[0;32m   1016\u001b[0m \u001b[38;5;28;01mif\u001b[39;00m created_buffer:\n\u001b[0;32m   1017\u001b[0m     \u001b[38;5;28;01massert\u001b[39;00m \u001b[38;5;28misinstance\u001b[39m(path_or_buf, StringIO)\n",
      "File \u001b[1;32mc:\\Users\\alber\\AppData\\Local\\Programs\\Python\\Python312\\Lib\\site-packages\\pandas\\io\\formats\\csvs.py:270\u001b[0m, in \u001b[0;36mCSVFormatter.save\u001b[1;34m(self)\u001b[0m\n\u001b[0;32m    251\u001b[0m \u001b[38;5;28;01mwith\u001b[39;00m get_handle(\n\u001b[0;32m    252\u001b[0m     \u001b[38;5;28mself\u001b[39m\u001b[38;5;241m.\u001b[39mfilepath_or_buffer,\n\u001b[0;32m    253\u001b[0m     \u001b[38;5;28mself\u001b[39m\u001b[38;5;241m.\u001b[39mmode,\n\u001b[1;32m   (...)\u001b[0m\n\u001b[0;32m    258\u001b[0m ) \u001b[38;5;28;01mas\u001b[39;00m handles:\n\u001b[0;32m    259\u001b[0m     \u001b[38;5;66;03m# Note: self.encoding is irrelevant here\u001b[39;00m\n\u001b[0;32m    260\u001b[0m     \u001b[38;5;28mself\u001b[39m\u001b[38;5;241m.\u001b[39mwriter \u001b[38;5;241m=\u001b[39m csvlib\u001b[38;5;241m.\u001b[39mwriter(\n\u001b[0;32m    261\u001b[0m         handles\u001b[38;5;241m.\u001b[39mhandle,\n\u001b[0;32m    262\u001b[0m         lineterminator\u001b[38;5;241m=\u001b[39m\u001b[38;5;28mself\u001b[39m\u001b[38;5;241m.\u001b[39mlineterminator,\n\u001b[1;32m   (...)\u001b[0m\n\u001b[0;32m    267\u001b[0m         quotechar\u001b[38;5;241m=\u001b[39m\u001b[38;5;28mself\u001b[39m\u001b[38;5;241m.\u001b[39mquotechar,\n\u001b[0;32m    268\u001b[0m     )\n\u001b[1;32m--> 270\u001b[0m     \u001b[38;5;28;43mself\u001b[39;49m\u001b[38;5;241;43m.\u001b[39;49m\u001b[43m_save\u001b[49m\u001b[43m(\u001b[49m\u001b[43m)\u001b[49m\n",
      "File \u001b[1;32mc:\\Users\\alber\\AppData\\Local\\Programs\\Python\\Python312\\Lib\\site-packages\\pandas\\io\\formats\\csvs.py:275\u001b[0m, in \u001b[0;36mCSVFormatter._save\u001b[1;34m(self)\u001b[0m\n\u001b[0;32m    273\u001b[0m \u001b[38;5;28;01mif\u001b[39;00m \u001b[38;5;28mself\u001b[39m\u001b[38;5;241m.\u001b[39m_need_to_save_header:\n\u001b[0;32m    274\u001b[0m     \u001b[38;5;28mself\u001b[39m\u001b[38;5;241m.\u001b[39m_save_header()\n\u001b[1;32m--> 275\u001b[0m \u001b[38;5;28;43mself\u001b[39;49m\u001b[38;5;241;43m.\u001b[39;49m\u001b[43m_save_body\u001b[49m\u001b[43m(\u001b[49m\u001b[43m)\u001b[49m\n",
      "File \u001b[1;32mc:\\Users\\alber\\AppData\\Local\\Programs\\Python\\Python312\\Lib\\site-packages\\pandas\\io\\formats\\csvs.py:313\u001b[0m, in \u001b[0;36mCSVFormatter._save_body\u001b[1;34m(self)\u001b[0m\n\u001b[0;32m    311\u001b[0m \u001b[38;5;28;01mif\u001b[39;00m start_i \u001b[38;5;241m>\u001b[39m\u001b[38;5;241m=\u001b[39m end_i:\n\u001b[0;32m    312\u001b[0m     \u001b[38;5;28;01mbreak\u001b[39;00m\n\u001b[1;32m--> 313\u001b[0m \u001b[38;5;28;43mself\u001b[39;49m\u001b[38;5;241;43m.\u001b[39;49m\u001b[43m_save_chunk\u001b[49m\u001b[43m(\u001b[49m\u001b[43mstart_i\u001b[49m\u001b[43m,\u001b[49m\u001b[43m \u001b[49m\u001b[43mend_i\u001b[49m\u001b[43m)\u001b[49m\n",
      "File \u001b[1;32mc:\\Users\\alber\\AppData\\Local\\Programs\\Python\\Python312\\Lib\\site-packages\\pandas\\io\\formats\\csvs.py:324\u001b[0m, in \u001b[0;36mCSVFormatter._save_chunk\u001b[1;34m(self, start_i, end_i)\u001b[0m\n\u001b[0;32m    321\u001b[0m data \u001b[38;5;241m=\u001b[39m \u001b[38;5;28mlist\u001b[39m(res\u001b[38;5;241m.\u001b[39m_iter_column_arrays())\n\u001b[0;32m    323\u001b[0m ix \u001b[38;5;241m=\u001b[39m \u001b[38;5;28mself\u001b[39m\u001b[38;5;241m.\u001b[39mdata_index[slicer]\u001b[38;5;241m.\u001b[39m_get_values_for_csv(\u001b[38;5;241m*\u001b[39m\u001b[38;5;241m*\u001b[39m\u001b[38;5;28mself\u001b[39m\u001b[38;5;241m.\u001b[39m_number_format)\n\u001b[1;32m--> 324\u001b[0m \u001b[43mlibwriters\u001b[49m\u001b[38;5;241;43m.\u001b[39;49m\u001b[43mwrite_csv_rows\u001b[49m\u001b[43m(\u001b[49m\n\u001b[0;32m    325\u001b[0m \u001b[43m    \u001b[49m\u001b[43mdata\u001b[49m\u001b[43m,\u001b[49m\n\u001b[0;32m    326\u001b[0m \u001b[43m    \u001b[49m\u001b[43mix\u001b[49m\u001b[43m,\u001b[49m\n\u001b[0;32m    327\u001b[0m \u001b[43m    \u001b[49m\u001b[38;5;28;43mself\u001b[39;49m\u001b[38;5;241;43m.\u001b[39;49m\u001b[43mnlevels\u001b[49m\u001b[43m,\u001b[49m\n\u001b[0;32m    328\u001b[0m \u001b[43m    \u001b[49m\u001b[38;5;28;43mself\u001b[39;49m\u001b[38;5;241;43m.\u001b[39;49m\u001b[43mcols\u001b[49m\u001b[43m,\u001b[49m\n\u001b[0;32m    329\u001b[0m \u001b[43m    \u001b[49m\u001b[38;5;28;43mself\u001b[39;49m\u001b[38;5;241;43m.\u001b[39;49m\u001b[43mwriter\u001b[49m\u001b[43m,\u001b[49m\n\u001b[0;32m    330\u001b[0m \u001b[43m\u001b[49m\u001b[43m)\u001b[49m\n",
      "File \u001b[1;32mwriters.pyx:73\u001b[0m, in \u001b[0;36mpandas._libs.writers.write_csv_rows\u001b[1;34m()\u001b[0m\n",
      "\u001b[1;31mKeyboardInterrupt\u001b[0m: "
     ]
    }
   ],
   "source": [
    "import random\n",
    "from tqdm import tqdm\n",
    "\n",
    "tqdm.pandas()\n",
    "\n",
    "index_data_no_annot = list(data[data[\"llm_is_project\"].isna()].index)\n",
    "\n",
    "while len(index_data_no_annot) != 0:\n",
    "    \n",
    "    print(len(index_data_no_annot), \" left.\")\n",
    "    \n",
    "    current_index = random.choice(index_data_no_annot)\n",
    "    print(\"Current index \", current_index)\n",
    "    \n",
    "    current_text = data.iloc[current_index][\"extracted_text\"]\n",
    "    print(\"Current text:\\n\", current_text[0:300])\n",
    "    \n",
    "    try:\n",
    "        is_project, reasoning = llm_annotate_df(current_text)\n",
    "        \n",
    "        print(\"OUTPUT\\n\")\n",
    "        print(is_project)\n",
    "        print(reasoning)\n",
    "        \n",
    "        data.at[current_index, \"llm_is_project\"] = is_project\n",
    "        data.at[current_index, \"llm_reasoning\"] = reasoning\n",
    "        \n",
    "        index_data_no_annot = list(data[data[\"llm_is_project\"].isna()].index)\n",
    "        \n",
    "    except:\n",
    "        print(\"Error parsing the LLM output\")\n",
    "    \n",
    "    if current_index % 5 == 0:\n",
    "        data.to_csv(\"annotated_data.csv\", index=False)"
   ]
  }
 ],
 "metadata": {
  "kernelspec": {
   "display_name": "Python 3",
   "language": "python",
   "name": "python3"
  },
  "language_info": {
   "codemirror_mode": {
    "name": "ipython",
    "version": 3
   },
   "file_extension": ".py",
   "mimetype": "text/x-python",
   "name": "python",
   "nbconvert_exporter": "python",
   "pygments_lexer": "ipython3",
   "version": "3.12.0"
  }
 },
 "nbformat": 4,
 "nbformat_minor": 2
}
