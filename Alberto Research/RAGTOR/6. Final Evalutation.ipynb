{
 "cells": [
  {
   "cell_type": "markdown",
   "metadata": {},
   "source": [
    "# Evaluation\n"
   ]
  },
  {
   "cell_type": "code",
   "execution_count": 1,
   "metadata": {},
   "outputs": [],
   "source": [
    "with open(\"HF_TOKEN.txt\", \"r\") as f:\n",
    "    hf_token = f.read()\n",
    "\n",
    "with open(\"GROQ_KEY.txt\", \"r\") as f:\n",
    "    groq_token = f.read()"
   ]
  },
  {
   "cell_type": "code",
   "execution_count": 2,
   "metadata": {},
   "outputs": [
    {
     "name": "stderr",
     "output_type": "stream",
     "text": [
      "c:\\Users\\alber\\AppData\\Local\\Programs\\Python\\Python312\\Lib\\site-packages\\tqdm\\auto.py:21: TqdmWarning: IProgress not found. Please update jupyter and ipywidgets. See https://ipywidgets.readthedocs.io/en/stable/user_install.html\n",
      "  from .autonotebook import tqdm as notebook_tqdm\n"
     ]
    },
    {
     "name": "stdout",
     "output_type": "stream",
     "text": [
      "alberto-lorente\n"
     ]
    }
   ],
   "source": [
    "from huggingface_hub import HfFolder, whoami\n",
    "\n",
    "HfFolder.save_token(hf_token)\n",
    "print(whoami()[\"name\"])"
   ]
  },
  {
   "cell_type": "code",
   "execution_count": 3,
   "metadata": {},
   "outputs": [
    {
     "name": "stdout",
     "output_type": "stream",
     "text": [
      "Cuda available\n"
     ]
    }
   ],
   "source": [
    "import torch\n",
    "\n",
    "device = \"cpu\"\n",
    "if torch.cuda.is_available():\n",
    "    print(\"Cuda available\")\n",
    "    device = torch.device('cuda')"
   ]
  },
  {
   "cell_type": "markdown",
   "metadata": {},
   "source": [
    "### Preparing the Data for Evaluation"
   ]
  },
  {
   "cell_type": "code",
   "execution_count": 4,
   "metadata": {},
   "outputs": [],
   "source": [
    "import os \n",
    "eval_path = r\"Evaluation data\\Solved PDFs\"\n",
    "solved_pdfs_path = os.listdir(eval_path)\n",
    "solved_pdfs_path_pdf_files = [os.path.join(eval_path, pdf) for pdf in solved_pdfs_path if pdf.endswith(\"pdf\")]\n",
    "solved_pdfs_path_txt_files = [os.path.join(eval_path, txt) for txt in solved_pdfs_path if txt.endswith(\"txt\")]"
   ]
  },
  {
   "cell_type": "code",
   "execution_count": 5,
   "metadata": {},
   "outputs": [],
   "source": [
    "list_tuple_data = []\n",
    "i = 0\n",
    "while i < len(solved_pdfs_path_pdf_files):\n",
    "    tup = (solved_pdfs_path_pdf_files[i], solved_pdfs_path_txt_files[i])\n",
    "    list_tuple_data.append(tup)\n",
    "    i += 1"
   ]
  },
  {
   "cell_type": "code",
   "execution_count": 6,
   "metadata": {},
   "outputs": [
    {
     "data": {
      "text/plain": [
       "[('Evaluation data\\\\Solved PDFs\\\\4b7076dc7989552fc75046c32d068eee9122adff_DEL13-1223-Annex.pdf',\n",
       "  'Evaluation data\\\\Solved PDFs\\\\4b7076dc7989552fc75046c32d068eee9122adff_DEL13-1223-Annex.txt'),\n",
       " ('Evaluation data\\\\Solved PDFs\\\\7a3ef5c116cca7f5328c44ef2c3f227f8c90ef60_Zones_Accélérati.pdf',\n",
       "  'Evaluation data\\\\Solved PDFs\\\\7a3ef5c116cca7f5328c44ef2c3f227f8c90ef60_Zones_Accélérati.txt'),\n",
       " ('Evaluation data\\\\Solved PDFs\\\\a7f4c9d0d7c8f3c9cd67b7c80beec26d9c234382_delibs-22-mai-24.pdf',\n",
       "  'Evaluation data\\\\Solved PDFs\\\\a7f4c9d0d7c8f3c9cd67b7c80beec26d9c234382_delibs-22-mai-24.txt'),\n",
       " ('Evaluation data\\\\Solved PDFs\\\\ecc6f_07-12-juillet.pdf',\n",
       "  'Evaluation data\\\\Solved PDFs\\\\ecc6f_07-12-juillet.txt'),\n",
       " ('Evaluation data\\\\Solved PDFs\\\\fa224c7892c9c4971dda6423c75c97a04f6e3666_del2024_22-defin.pdf',\n",
       "  'Evaluation data\\\\Solved PDFs\\\\fa224c7892c9c4971dda6423c75c97a04f6e3666_del2024_22-defin.txt')]"
      ]
     },
     "execution_count": 6,
     "metadata": {},
     "output_type": "execute_result"
    }
   ],
   "source": [
    "list_tuple_data"
   ]
  },
  {
   "cell_type": "markdown",
   "metadata": {},
   "source": [
    "### Loading Prompts"
   ]
  },
  {
   "cell_type": "code",
   "execution_count": 7,
   "metadata": {},
   "outputs": [],
   "source": [
    "import json\n",
    "\n",
    "with open(\"prompts_preprocessing.json\", \"r\") as f:\n",
    "    prompts_for_processing = json.load(f)\n",
    "\n",
    "table_process_prompt = prompts_for_processing[\"augment_table_prompt\"]\n",
    "summary_prompt = prompts_for_processing[\"summary_prompt\"]"
   ]
  },
  {
   "cell_type": "code",
   "execution_count": 8,
   "metadata": {},
   "outputs": [],
   "source": [
    "with open(\"french_prompts.json\", \"r\") as f:\n",
    "    prompts_query = json.load(f)"
   ]
  },
  {
   "cell_type": "markdown",
   "metadata": {},
   "source": [
    "## Loading markdown"
   ]
  },
  {
   "cell_type": "code",
   "execution_count": 14,
   "metadata": {},
   "outputs": [],
   "source": [
    "pdf_path = list_tuple_data[-2][0]\n",
    "markdown_path = list_tuple_data[-2][1]"
   ]
  },
  {
   "cell_type": "code",
   "execution_count": 15,
   "metadata": {},
   "outputs": [
    {
     "data": {
      "text/plain": [
       "'Evaluation data\\\\Solved PDFs\\\\ecc6f_07-12-juillet.pdf'"
      ]
     },
     "execution_count": 15,
     "metadata": {},
     "output_type": "execute_result"
    }
   ],
   "source": [
    "pdf_path"
   ]
  },
  {
   "cell_type": "code",
   "execution_count": 16,
   "metadata": {},
   "outputs": [],
   "source": [
    "with open(markdown_path, \"r\") as f:\n",
    "    markdown = f.read()"
   ]
  },
  {
   "cell_type": "code",
   "execution_count": 17,
   "metadata": {},
   "outputs": [
    {
     "data": {
      "text/plain": [
       "'# Réunion du Conseil Municipal\\n\\n# du 12 juillet 2023\\n\\nLe douze juillet deux mil vingt-trois, à 20 heures, les membres du Conseil Municipal se sont réunis à la mairie de la commune de Coulon sous la présidence de Madame Anne-Sophie GUICHET, Maire.\\n\\nÉtaient présents : Mmes et Mrs Fabrice BERJONNEAU, Juliette DELAVALLE, Angélique DUMOULIN, Dominique GIRET, Julien GUIBERT, Anne-Sophie GUICHET, Isabelle HÉHUNSTRE, Marie LE CHAPELAIN, Virginie LEONARD, Line MARCHÉ, Béatrice MORIN, Mélanie MOUSSION, François SABOURIN.\\n\\nÉtaient absents et excusés Patrick CARTIER (pouvoir à Isabelle HÉHUNSTRE), Vaianu FENUAITI (pouvoir à Anne-Sophie GUICHET), Benoît LALÈRE (pouvoir à Julien GUIBERT), Pascal MORIN, Romain MORIN, Stéphane RICHARD (pouvoir à Dominique GIRET).\\n\\nDate de convocation : 06 juillet 2023\\n\\nSecrétaire de séance : Fabrice BERJONNEAU\\n\\nAucune observation n’étant formulée, le compte rendu de la précédente réunion est approuvé à l’unanimité.\\n\\nAvant d’aborder l’ordre du jour, Mme La Maire rend hommage à Monsieur Bruno DECELLE, agent communal depuis 32 ans décédé brutalement le 09 juillet et présente au nom de tous les conseillers ses plus sincères condoléances à ses enfants, petits-enfants et sa famille.\\n\\n# 1 – FINANCES\\n\\n# 1-1 : Subventions 2023\\n\\n# 1-1-1 : Subventions aux associations\\n\\nAvant d’aborder ce point, Madame la Maire demande à trois conseillers municipaux de quitter la salle, car membres d’une des associations, ils ne prendront pas part au vote.\\n\\nSur proposition de la commission « finances », après délibération et à l’unanimité, le Conseil Municipal décide d’attribuer les subventions suivantes au titre de l’exercice 2023 :\\n\\n|Associations|Montant alloué en 2023|\\n|---|---|\\n|Sport|Sport|\\n|ACCA Coulon|500€|\\n|Football club de la Venise Verte|1200€|\\n|La pétanque coulonnaise|800€|\\n|Taekwondo du Marais|200€|\\n|Cyclo club de la Venise Verte|350€|\\n|Tennis club Magné-Coulon|150€|\\n|Social|Social|\\n|SSIAD Plaine et Gâtine|500€|\\n|Culture-Animation-Tourisme|Culture-Animation-Tourisme|\\n|Les Tégadons|500€|\\n|Comité d’Animation Coulonnais|2 800€|\\n|Les marchés gourmands de la laiterie|750€|\\n|Les marchés de créateurs du Marais|250€|\\n|Rappel d’R|200€|\\n|Tiers lieu « la Maraichinerie »|500€|\\n|Coul’Song|200€|\\n|Divers|Divers|\\n|Association des Parents d’Elèves|1 000€|\\n|Dadou-Badou|150€|\\n|Le Clos de la vigne à Hubert|200€|\\n|Le Germoir|100€|\\n|Les belles palisses|150€|\\n\\n# 1-1-2 : Subvention au CCAS de Coulon\\n\\nMadame la Maire rappelle que chaque année, le budget principal de la commune verse une subvention d’équilibre au CCAS, cette somme étant notamment destinée à subventionner l’ADMR de la Venise Verte sur la base de 1€ par habitant et à allouer des aides financières aux personnes qui en font la demande.\\n\\nSur sa proposition et à l’unanimité, le Conseil municipal décide de reconduire cette mesure et de verser la somme de 5 000€ au CCAS au titre de l’exercice 2023.\\n\\n# 1-2 : Tarifs prestations scolaires – Année 2023/2024\\n\\nDominique GIRET explique que pour tenir compte des conditions économiques actuelles et notamment de l’inflation qui provoque une augmentation importante des prix des denrées alimentaires mais également des fluides (gaz et électricité), la commission « finances » propose au Conseil Municipal d’appliquer une légère augmentation des tarifs de restauration scolaire au titre de l’année 2023/2024, tout en maintenant la politique sociale mise en place depuis plusieurs années qui consiste à ne facturer aux familles que le coût des denrées alimentaires selon leur quotient familial.\\n\\nAprès délibération et à l’unanimité, le Conseil Municipal valide ces propositions de tarifs qui s’appliqueront à compter du 04 septembre 2023 et pour toute l’année scolaire 2023/2024.\\n\\n|Quotient familial|Tranches|Tarifs 2023/2024|\\n|---|---|---|\\n|1|0-550€|2.15€|\\n|2|551€ - 770€|2.55€|\\n|3|771€ - 990€|2.75€|\\n|4|991€ - 1100€|3.05€|\\n|5|1101€ et +|3.50€|\\n|Repas enseignant et agent| |4.30€|\\n|Repas adulte| |5.65€|\\n|Goûter APS| |0.60€|\\n\\n# 1-3 : Festival de peinture 2023 : Attribution d’un prix\\n\\nIsabelle HÉHUNSTRE expose que le festival de peinture de Magné sera de nouveau présent sur la commune de Coulon le vendredi 21 juillet prochain et qu’à cette occasion, l’association organisatrice « Magné Animation » sollicite la commune de Coulon pour l’attribution d’un prix.\\n\\nAprès délibération et à l’unanimité, le Conseil Municipal accepte de reconduire ce principe adopté en 2021 et d’offrir « le prix de la ville de Coulon » d’une valeur de 1 000€. En contrepartie, la commune se verra remettre le tableau de l’artiste primé.\\n\\n# 1-4 : Instauration d’un tarif forfaitaire « télécommande barrières à chaîne » en cas de perte, vol ou casse\\n\\nFabrice BERJONNEAU rappelle que des barrières à chaîne hydraulique sont mises en place au début de la rue de l’église et sur les quais Louis Tardy au niveau de l’hôtel du Marais qui fonctionnement avec une télécommande. Les télécommandes d’accès ont été distribuées gracieusement aux riverains et donc il convient d’instaurer un tarif pour facturer le remplacement des télécommandes en cas de perte ou casse de celles-ci car elles représentent un investissement pour la commune. En cas de vol (sur présentation d’un dépôt de plainte), la télécommande sera remplacée gracieusement.\\n\\nAprès délibération et à l’unanimité, le Conseil Municipal décide d’instaurer le tarif à 50€ et la facturation fera l’objet d’un titre de recettes émis au prorpiétaire de la télécommande.\\n\\n# 2- RAPPORT DES DECISIONS DU MAIRE\\n\\nDans le cadre des délégations que vous lui avez accordées par délibération en date du 26 mai 2020, Madame le Maire a pris les décisions suivantes :\\n\\n# 4-1 : Droit de Préemption Urbain :\\n\\nLa Commune n’a pas souhaité se porter acquéreur des biens suivants :\\n\\n|Nature du bien|Réf cadastre|adresse|propriétaire|\\n|---|---|---|---|\\n|Maison d’habitation|D 2333|20 rue du champ de Met|M. POLIGNE Cédric|\\n|Terrain|AD 138|Route de Benet|VILLAREAL|\\n|Maison d’habitation|C 472|6 rue Albert Cheminet|M. et Mme RIBEIRO Alvaro et Marcia|\\n|Terrain|AD 139 + AD 140|Route de Benet|VILLAREAL|\\n\\n# 3- INFORMATIONS DIVERSES\\n\\n# 3-1 : Interventions d’élus :\\n\\n- Angélique DUMOULIN : Les photos pour le guide PCC faites récemment ne sont pas satisfaisantes donc elle va demander au Parc Naturel Régional du Marais Poitevin s’ils ont des photos qui conviendraient. Les toits des gîtes sont refaits, il manque désormais l’intérieur à refaire. Il y en a 6 sur 10 qui sont loués.\\n- Julien GUIBERT : Il tient à remercier le personnel de la cantine aussi bien en cuisine qu’en service, un pique-nique a été organisé jeudi, avant-veille du départ en vacances scolaires et cela a demandé plus de travail et plus d’organisation. Les enfants ont pique-niqué sous les arbres, dans la cour. Le vendredi, les enfants étaient contents car ils avaient au menu des frites. Petit rappel concernant le délai pour la préparation du bulletin muncipal : Mme la Maire invite tous les conseillers à y réfléchir dès maintenant pour éviter tout retard.\\n- Isabelle HEHUNSTRE : La commune a reçu à nouveau un groupe du SNU (Service National Universel), samedi, ils sont venus uniquement le matin pour désherber le cimetière car l’après-midi, il faisait trop chaud. Ils veulent revenir pour repeindre les bancs et chaises et autres activités. Le 13 juillet, feu d’artifice et déambulation, besoin de volontaires pour distribuer des lampions aux enfants entre 20h et 21h. La déambulation sera animée par la fanfarderie du Centre Social. Le feu d’artifice sera suivi d’un bal organisé par le CAC et l’association des marchés des créateurs et producteurs. Vendredi 14 juillet, balade à vélo de 25 kms, départ à 9h sur le parking de l’Autremont avec une collation à mi parcours. Le départ sera donné par un coup de canon, une ancienne tradition sur la commune. Cette balade sera suivie d’un vin d’honneur dans le parc de la mairie. Le 21 juillet, il y a le festival de peinture qui regroupe 79 peintres. Pour cette journée, les bénévoles ont répondu présents. En soirée, les bénévoles de Magné rejoindront ceux de Coulon pour profiter de la soirée des marchés gourmands, avec en animation le groupe Calypso.\\n- Fabrice BERJONNEAU : A assisté à une réunion à la mairie d’Aiffres organisée par l’opérateur Orange afin d’évoquer la fin du réseau cuivre : l’ADSL. La commune de Coulon est desservie à 97% sur la fibre. Le réseau cuivre sera effacé définitivement en 2027 c’est-à-dire que les poteaux contenant du réseau cuivre vont être démantelés. Certains poteaux vont rester car ils contiennent la fibre. Sur les façades de certaines maisons, il y a quelquefois 2 fils : 1 fil pour la fibre de couleur noire et un deuxième de couleur blanche pour le cuivre, Orange demande aux administrés de ne pas retirer les fils car une entreprise mandatée interviendra pour le faire. La bouille et sa remorque sortent d’usine le 19 juillet. La livraison se fera en septembre avec une ½ journée de formation. Le début des travaux de voirie (devis signés) est prévu en septembre. Fabrice Berjonneau a relancé le sujet de la mise en service de l’antenne lors de sa réunion avec Orange qui a donné comme échéance le dernier trimestre de cette année. Achat du piano pour la cuisine de la salle des fêtes pour une valeur de 2500€ d’occasion (en date de 2022).\\n- Juliette DELAVALLE : Est contente de l’implication des parents et des enfants pour la fête des écoles.\\n- Line MARCHÉ : A participé à la confection des sacs cadeaux pour le festival de peinture. Elle a assisté à deux réunions : le CA (conseil d’administration) du foyer de vie de Coulon.\\n\\n# 45\\n\\n(sous la direction de Mme MONGIN) et le CVS (conseil de vie sociale) qu’elle trouve très intéressant car des résidents sont présents et donc interviennent dans les échanges (sur la nourriture….)\\n\\n# Dominique GIRET\\n\\npoint tourisme Aire de camping-cars, camping et gîtes : le bilan au mois de juin est plutôt satisfaisant (recettes du camping et de l’aire du CC), augmentation de la fréquentation du camping depuis le début de l’année. Une diminution des fréquentations du parking des campings cars est constatée mais pas significative sur le mois de juin. A voir sur l’été…\\n\\nCe matin, le comité de pilotage concernant le projet du nouveau centre socioculturel s’est réuni à la mairie de Magné en présence des représentants du centre socioculturel du Marais, de la commune de Magné et du pôle petite enfance car il pourrait se faire une articulation sur une partie des locaux pour accueillir l’équipe « petite enfance » sur 4 matinées par semaine. Le bureau d’étude a présenté de nouveau le projet amélioré en tenant compte des modifications/remarques demandées (déplacement du local jeunes notamment). La question du chauffage a également été abordée. Le budget serait de l’ordre de 2 550 000€ HT. Il ne faut pas en tenir compte à ce stade car il faut affiner encore le projet, le but étant de rechercher des financements (CAN, DDT, CAF) sans quoi, le projet ne pourra se faire. Mme la Maire évoque la possibilité de la géothermie en moyen de chauffage : Dominique GIRET répond que pour étudier cette possibilité, il faut faire appel, selon les architectes, à un bureau d’études spécialisé, le CRER sera aussi interrogé pour cette possibilité de chauffage. Le projet avance bien techniquement, il satisfait très largement les acteurs du centre socioculturel en répondant un maximum à leurs demandes ce qui justifie le coût du projet d’ailleurs. Madame la Maire précise qu’il a été demandé aux architectes de faire chiffrer l’option de captage des eaux de nappes pour alimenter les sanitaires.\\n\\nVisio prévue avec l’ANCT pour faire le point sur l’étude de programmation et l’organisation d’une Journée « atelier » le 20 septembre : l’idée est de mobiliser une majorité des acteurs économiques, du tourisme, associatifs … de la commune pour échanger sur la manière de faire évoluer la commune, d’engager des projets qui pourraient améliorer la vie sur le territoire communal.\\n\\n# Marie LE CHAPEAIN\\n\\nles écoles maternelles et primaires ont fait de beaux spectacles pour la fête des écoles durant laquelle le pot de la mairie a été apprécié. Les enfants ont commencé l’accueil de loisirs pour les grandes vacances à l’école de Coulon. Marie LE CHAPELAIN remercie les services techniques pour l’accueil de 2 jeunes dans le cadre du dispositif « Argent de poche » fin juin. D’autres jeunes sont prévus sur le mois juillet, cela leur permet de connaître un peu mieux la commune.\\n\\n# Béatrice MORIN\\n\\na reçu en préfecture toute l’équipe de la Croix Rouge Française et son président élu en début d’année. C’est une association qui cherche des bénévoles et qui cherche à se faire connaître davantage. L’idée est qu’elle vienne sur la commune faire une animation, des ateliers via des stands pour expliquer les gestes de premiers secours. François SABOURIN demande si les formations aux gestes de premiers secours sont toujours d’actualité ? Mme la Maire répond que c’est toujours d’actualité et que les séances reprennent à la rentrée et seront proposées à tous les habitants avec une prise en charge forfaitaire par la commune du coût de la formation.\\n\\n# Mme la Maire\\n\\nRéunion publique pour la maison de santé où beaucoup de personnes étaient présentes. Mme la Maire a signé un devis pour l’achat d’un radar pédagogique qui sera présent dans plusieurs lieux de la commune. Deux réunions publiques se sont tenues récemment : une pour l’installation des chaînes sur les quais et l’autre concernant les travaux de sécurité routière sur la RD1.\\n\\nL’ordre du jour et les questions diverses étant épuisés, la séance est levée à 21 heures 40 minutes.\\n\\nLa Maire,\\n\\nAnne-Sophie GUICHET\\n\\nLe Secrétaire de séance\\n\\nFabrice BERJONNEAU\\n\\n# Réunion du Conseil Municipal\\n\\n# du 12 juillet 2023\\n\\n# Liste des délibérations prises par le Conseil Municipal\\n\\n1. Finances / Subvention 2023 : Subventions aux associations\\n2. Finances / Subvention 2023 : Subventions au CCAS de Coulon\\n3. Finances / Tarifs prestations scolaires – Année 2023/2024\\n4. Finances / Festival de peinture 2023 : attribution d’un prix\\n5. Finances / Instauration d’un tarif forfaitaire « télécommande barrières à chaîne » en cas de perte, vol ou casse\\n\\nLa Maire,\\nAnne-Sophie GUICHET\\n\\nLe Secrétaire de séance\\nFabrice BERJONNEAU\\n\\n'"
      ]
     },
     "execution_count": 17,
     "metadata": {},
     "output_type": "execute_result"
    }
   ],
   "source": [
    "markdown"
   ]
  },
  {
   "cell_type": "markdown",
   "metadata": {},
   "source": [
    "## Processing"
   ]
  },
  {
   "cell_type": "code",
   "execution_count": 18,
   "metadata": {},
   "outputs": [
    {
     "name": "stderr",
     "output_type": "stream",
     "text": [
      "Loading checkpoint shards: 100%|██████████| 3/3 [00:03<00:00,  1.10s/it]\n"
     ]
    },
    {
     "ename": "OutOfMemoryError",
     "evalue": "CUDA out of memory. Tried to allocate 1.95 GiB. GPU 0 has a total capacity of 4.00 GiB of which 0 bytes is free. Of the allocated memory 9.34 GiB is allocated by PyTorch, and 1.70 MiB is reserved by PyTorch but unallocated. If reserved but unallocated memory is large try setting PYTORCH_CUDA_ALLOC_CONF=expandable_segments:True to avoid fragmentation.  See documentation for Memory Management  (https://pytorch.org/docs/stable/notes/cuda.html#environment-variables)",
     "output_type": "error",
     "traceback": [
      "\u001b[1;31m---------------------------------------------------------------------------\u001b[0m",
      "\u001b[1;31mOutOfMemoryError\u001b[0m                          Traceback (most recent call last)",
      "Cell \u001b[1;32mIn[18], line 10\u001b[0m\n\u001b[0;32m      7\u001b[0m unload_cuda()\n\u001b[0;32m      8\u001b[0m start \u001b[38;5;241m=\u001b[39m time\u001b[38;5;241m.\u001b[39mtime()\n\u001b[1;32m---> 10\u001b[0m paragraphs_list, clusters_dict, model \u001b[38;5;241m=\u001b[39m \u001b[43mpreprocess_markdown_text\u001b[49m\u001b[43m(\u001b[49m\u001b[43mmarkdown\u001b[49m\u001b[43m,\u001b[49m\n\u001b[0;32m     11\u001b[0m \u001b[43m                                                        \u001b[49m\u001b[43mmodel_id\u001b[49m\u001b[43m \u001b[49m\u001b[38;5;241;43m=\u001b[39;49m\u001b[38;5;124;43m\"\u001b[39;49m\u001b[38;5;124;43mJaume/gemma-2b-embeddings\u001b[39;49m\u001b[38;5;124;43m\"\u001b[39;49m\u001b[43m,\u001b[49m\u001b[43m \u001b[49m\n\u001b[0;32m     12\u001b[0m \u001b[43m                                                        \u001b[49m\u001b[43mspacy_model\u001b[49m\u001b[38;5;241;43m=\u001b[39;49m\u001b[38;5;124;43m\"\u001b[39;49m\u001b[38;5;124;43mfr_core_news_sm\u001b[39;49m\u001b[38;5;124;43m\"\u001b[39;49m\u001b[43m,\u001b[49m\u001b[43m \u001b[49m\n\u001b[0;32m     13\u001b[0m \u001b[43m                                                        \u001b[49m\u001b[43mn_sents_per_para\u001b[49m\u001b[38;5;241;43m=\u001b[39;49m\u001b[38;5;241;43m8\u001b[39;49m\u001b[43m,\u001b[49m\n\u001b[0;32m     14\u001b[0m \u001b[43m                                                        \u001b[49m\u001b[43mdevice\u001b[49m\u001b[38;5;241;43m=\u001b[39;49m\u001b[43mdevice\u001b[49m\u001b[43m)\u001b[49m\n",
      "File \u001b[1;32mc:\\Users\\alber\\Desktop\\Council-Minutes\\Alberto Research\\RAGTOR\\council_rag\\preprocessing\\__init__.py:24\u001b[0m, in \u001b[0;36mpreprocess_markdown_text\u001b[1;34m(markdown, model_id, spacy_model, n_sents_per_para, device)\u001b[0m\n\u001b[0;32m     13\u001b[0m \u001b[38;5;28;01mdef\u001b[39;00m\u001b[38;5;250m \u001b[39m\u001b[38;5;21mpreprocess_markdown_text\u001b[39m(markdown,\n\u001b[0;32m     14\u001b[0m                             model_id \u001b[38;5;241m=\u001b[39m\u001b[38;5;124m\"\u001b[39m\u001b[38;5;124mJaume/gemma-2b-embeddings\u001b[39m\u001b[38;5;124m\"\u001b[39m, \n\u001b[0;32m     15\u001b[0m                             spacy_model\u001b[38;5;241m=\u001b[39m\u001b[38;5;124m\"\u001b[39m\u001b[38;5;124mfr_core_news_sm\u001b[39m\u001b[38;5;124m\"\u001b[39m, \n\u001b[1;32m   (...)\u001b[0m\n\u001b[0;32m     19\u001b[0m         \n\u001b[0;32m     20\u001b[0m     \u001b[38;5;66;03m# Split the markdown into paragraphs, markdown is a string\u001b[39;00m\n\u001b[0;32m     21\u001b[0m     paragraphs \u001b[38;5;241m=\u001b[39m split_markdown_to_paras(markdown, spacy_model, n_sents_per_para)\n\u001b[1;32m---> 24\u001b[0m     model \u001b[38;5;241m=\u001b[39m \u001b[43mSentenceTransformer\u001b[49m\u001b[43m(\u001b[49m\u001b[43mmodel_id\u001b[49m\u001b[43m)\u001b[49m\n\u001b[0;32m     25\u001b[0m     \u001b[38;5;66;03m# Split the markdown into paragraphs\u001b[39;00m\n\u001b[0;32m     26\u001b[0m     paragraphs \u001b[38;5;241m=\u001b[39m compute_paragraph_embeddings(paragraphs, model)\n",
      "File \u001b[1;32mc:\\Users\\alber\\AppData\\Local\\Programs\\Python\\Python312\\Lib\\site-packages\\sentence_transformers\\SentenceTransformer.py:347\u001b[0m, in \u001b[0;36mSentenceTransformer.__init__\u001b[1;34m(self, model_name_or_path, modules, device, prompts, default_prompt_name, similarity_fn_name, cache_folder, trust_remote_code, revision, local_files_only, token, use_auth_token, truncate_dim, model_kwargs, tokenizer_kwargs, config_kwargs, model_card_data, backend)\u001b[0m\n\u001b[0;32m    344\u001b[0m \u001b[38;5;28;01mexcept\u001b[39;00m \u001b[38;5;167;01mStopIteration\u001b[39;00m:\n\u001b[0;32m    345\u001b[0m     \u001b[38;5;28;01mpass\u001b[39;00m\n\u001b[1;32m--> 347\u001b[0m \u001b[38;5;28;43mself\u001b[39;49m\u001b[38;5;241;43m.\u001b[39;49m\u001b[43mto\u001b[49m\u001b[43m(\u001b[49m\u001b[43mdevice\u001b[49m\u001b[43m)\u001b[49m\n\u001b[0;32m    348\u001b[0m \u001b[38;5;28mself\u001b[39m\u001b[38;5;241m.\u001b[39mis_hpu_graph_enabled \u001b[38;5;241m=\u001b[39m \u001b[38;5;28;01mFalse\u001b[39;00m\n\u001b[0;32m    350\u001b[0m \u001b[38;5;28;01mif\u001b[39;00m \u001b[38;5;28mself\u001b[39m\u001b[38;5;241m.\u001b[39mdefault_prompt_name \u001b[38;5;129;01mis\u001b[39;00m \u001b[38;5;129;01mnot\u001b[39;00m \u001b[38;5;28;01mNone\u001b[39;00m \u001b[38;5;129;01mand\u001b[39;00m \u001b[38;5;28mself\u001b[39m\u001b[38;5;241m.\u001b[39mdefault_prompt_name \u001b[38;5;129;01mnot\u001b[39;00m \u001b[38;5;129;01min\u001b[39;00m \u001b[38;5;28mself\u001b[39m\u001b[38;5;241m.\u001b[39mprompts:\n",
      "File \u001b[1;32mc:\\Users\\alber\\AppData\\Local\\Programs\\Python\\Python312\\Lib\\site-packages\\torch\\nn\\modules\\module.py:1343\u001b[0m, in \u001b[0;36mModule.to\u001b[1;34m(self, *args, **kwargs)\u001b[0m\n\u001b[0;32m   1340\u001b[0m         \u001b[38;5;28;01melse\u001b[39;00m:\n\u001b[0;32m   1341\u001b[0m             \u001b[38;5;28;01mraise\u001b[39;00m\n\u001b[1;32m-> 1343\u001b[0m \u001b[38;5;28;01mreturn\u001b[39;00m \u001b[38;5;28;43mself\u001b[39;49m\u001b[38;5;241;43m.\u001b[39;49m\u001b[43m_apply\u001b[49m\u001b[43m(\u001b[49m\u001b[43mconvert\u001b[49m\u001b[43m)\u001b[49m\n",
      "File \u001b[1;32mc:\\Users\\alber\\AppData\\Local\\Programs\\Python\\Python312\\Lib\\site-packages\\torch\\nn\\modules\\module.py:903\u001b[0m, in \u001b[0;36mModule._apply\u001b[1;34m(self, fn, recurse)\u001b[0m\n\u001b[0;32m    901\u001b[0m \u001b[38;5;28;01mif\u001b[39;00m recurse:\n\u001b[0;32m    902\u001b[0m     \u001b[38;5;28;01mfor\u001b[39;00m module \u001b[38;5;129;01min\u001b[39;00m \u001b[38;5;28mself\u001b[39m\u001b[38;5;241m.\u001b[39mchildren():\n\u001b[1;32m--> 903\u001b[0m         \u001b[43mmodule\u001b[49m\u001b[38;5;241;43m.\u001b[39;49m\u001b[43m_apply\u001b[49m\u001b[43m(\u001b[49m\u001b[43mfn\u001b[49m\u001b[43m)\u001b[49m\n\u001b[0;32m    905\u001b[0m \u001b[38;5;28;01mdef\u001b[39;00m\u001b[38;5;250m \u001b[39m\u001b[38;5;21mcompute_should_use_set_data\u001b[39m(tensor, tensor_applied):\n\u001b[0;32m    906\u001b[0m     \u001b[38;5;28;01mif\u001b[39;00m torch\u001b[38;5;241m.\u001b[39m_has_compatible_shallow_copy_type(tensor, tensor_applied):\n\u001b[0;32m    907\u001b[0m         \u001b[38;5;66;03m# If the new tensor has compatible tensor type as the existing tensor,\u001b[39;00m\n\u001b[0;32m    908\u001b[0m         \u001b[38;5;66;03m# the current behavior is to change the tensor in-place using `.data =`,\u001b[39;00m\n\u001b[1;32m   (...)\u001b[0m\n\u001b[0;32m    913\u001b[0m         \u001b[38;5;66;03m# global flag to let the user control whether they want the future\u001b[39;00m\n\u001b[0;32m    914\u001b[0m         \u001b[38;5;66;03m# behavior of overwriting the existing tensor or not.\u001b[39;00m\n",
      "File \u001b[1;32mc:\\Users\\alber\\AppData\\Local\\Programs\\Python\\Python312\\Lib\\site-packages\\torch\\nn\\modules\\module.py:903\u001b[0m, in \u001b[0;36mModule._apply\u001b[1;34m(self, fn, recurse)\u001b[0m\n\u001b[0;32m    901\u001b[0m \u001b[38;5;28;01mif\u001b[39;00m recurse:\n\u001b[0;32m    902\u001b[0m     \u001b[38;5;28;01mfor\u001b[39;00m module \u001b[38;5;129;01min\u001b[39;00m \u001b[38;5;28mself\u001b[39m\u001b[38;5;241m.\u001b[39mchildren():\n\u001b[1;32m--> 903\u001b[0m         \u001b[43mmodule\u001b[49m\u001b[38;5;241;43m.\u001b[39;49m\u001b[43m_apply\u001b[49m\u001b[43m(\u001b[49m\u001b[43mfn\u001b[49m\u001b[43m)\u001b[49m\n\u001b[0;32m    905\u001b[0m \u001b[38;5;28;01mdef\u001b[39;00m\u001b[38;5;250m \u001b[39m\u001b[38;5;21mcompute_should_use_set_data\u001b[39m(tensor, tensor_applied):\n\u001b[0;32m    906\u001b[0m     \u001b[38;5;28;01mif\u001b[39;00m torch\u001b[38;5;241m.\u001b[39m_has_compatible_shallow_copy_type(tensor, tensor_applied):\n\u001b[0;32m    907\u001b[0m         \u001b[38;5;66;03m# If the new tensor has compatible tensor type as the existing tensor,\u001b[39;00m\n\u001b[0;32m    908\u001b[0m         \u001b[38;5;66;03m# the current behavior is to change the tensor in-place using `.data =`,\u001b[39;00m\n\u001b[1;32m   (...)\u001b[0m\n\u001b[0;32m    913\u001b[0m         \u001b[38;5;66;03m# global flag to let the user control whether they want the future\u001b[39;00m\n\u001b[0;32m    914\u001b[0m         \u001b[38;5;66;03m# behavior of overwriting the existing tensor or not.\u001b[39;00m\n",
      "File \u001b[1;32mc:\\Users\\alber\\AppData\\Local\\Programs\\Python\\Python312\\Lib\\site-packages\\torch\\nn\\modules\\module.py:903\u001b[0m, in \u001b[0;36mModule._apply\u001b[1;34m(self, fn, recurse)\u001b[0m\n\u001b[0;32m    901\u001b[0m \u001b[38;5;28;01mif\u001b[39;00m recurse:\n\u001b[0;32m    902\u001b[0m     \u001b[38;5;28;01mfor\u001b[39;00m module \u001b[38;5;129;01min\u001b[39;00m \u001b[38;5;28mself\u001b[39m\u001b[38;5;241m.\u001b[39mchildren():\n\u001b[1;32m--> 903\u001b[0m         \u001b[43mmodule\u001b[49m\u001b[38;5;241;43m.\u001b[39;49m\u001b[43m_apply\u001b[49m\u001b[43m(\u001b[49m\u001b[43mfn\u001b[49m\u001b[43m)\u001b[49m\n\u001b[0;32m    905\u001b[0m \u001b[38;5;28;01mdef\u001b[39;00m\u001b[38;5;250m \u001b[39m\u001b[38;5;21mcompute_should_use_set_data\u001b[39m(tensor, tensor_applied):\n\u001b[0;32m    906\u001b[0m     \u001b[38;5;28;01mif\u001b[39;00m torch\u001b[38;5;241m.\u001b[39m_has_compatible_shallow_copy_type(tensor, tensor_applied):\n\u001b[0;32m    907\u001b[0m         \u001b[38;5;66;03m# If the new tensor has compatible tensor type as the existing tensor,\u001b[39;00m\n\u001b[0;32m    908\u001b[0m         \u001b[38;5;66;03m# the current behavior is to change the tensor in-place using `.data =`,\u001b[39;00m\n\u001b[1;32m   (...)\u001b[0m\n\u001b[0;32m    913\u001b[0m         \u001b[38;5;66;03m# global flag to let the user control whether they want the future\u001b[39;00m\n\u001b[0;32m    914\u001b[0m         \u001b[38;5;66;03m# behavior of overwriting the existing tensor or not.\u001b[39;00m\n",
      "File \u001b[1;32mc:\\Users\\alber\\AppData\\Local\\Programs\\Python\\Python312\\Lib\\site-packages\\torch\\nn\\modules\\module.py:930\u001b[0m, in \u001b[0;36mModule._apply\u001b[1;34m(self, fn, recurse)\u001b[0m\n\u001b[0;32m    926\u001b[0m \u001b[38;5;66;03m# Tensors stored in modules are graph leaves, and we don't want to\u001b[39;00m\n\u001b[0;32m    927\u001b[0m \u001b[38;5;66;03m# track autograd history of `param_applied`, so we have to use\u001b[39;00m\n\u001b[0;32m    928\u001b[0m \u001b[38;5;66;03m# `with torch.no_grad():`\u001b[39;00m\n\u001b[0;32m    929\u001b[0m \u001b[38;5;28;01mwith\u001b[39;00m torch\u001b[38;5;241m.\u001b[39mno_grad():\n\u001b[1;32m--> 930\u001b[0m     param_applied \u001b[38;5;241m=\u001b[39m \u001b[43mfn\u001b[49m\u001b[43m(\u001b[49m\u001b[43mparam\u001b[49m\u001b[43m)\u001b[49m\n\u001b[0;32m    931\u001b[0m p_should_use_set_data \u001b[38;5;241m=\u001b[39m compute_should_use_set_data(param, param_applied)\n\u001b[0;32m    933\u001b[0m \u001b[38;5;66;03m# subclasses may have multiple child tensors so we need to use swap_tensors\u001b[39;00m\n",
      "File \u001b[1;32mc:\\Users\\alber\\AppData\\Local\\Programs\\Python\\Python312\\Lib\\site-packages\\torch\\nn\\modules\\module.py:1329\u001b[0m, in \u001b[0;36mModule.to.<locals>.convert\u001b[1;34m(t)\u001b[0m\n\u001b[0;32m   1322\u001b[0m     \u001b[38;5;28;01mif\u001b[39;00m convert_to_format \u001b[38;5;129;01mis\u001b[39;00m \u001b[38;5;129;01mnot\u001b[39;00m \u001b[38;5;28;01mNone\u001b[39;00m \u001b[38;5;129;01mand\u001b[39;00m t\u001b[38;5;241m.\u001b[39mdim() \u001b[38;5;129;01min\u001b[39;00m (\u001b[38;5;241m4\u001b[39m, \u001b[38;5;241m5\u001b[39m):\n\u001b[0;32m   1323\u001b[0m         \u001b[38;5;28;01mreturn\u001b[39;00m t\u001b[38;5;241m.\u001b[39mto(\n\u001b[0;32m   1324\u001b[0m             device,\n\u001b[0;32m   1325\u001b[0m             dtype \u001b[38;5;28;01mif\u001b[39;00m t\u001b[38;5;241m.\u001b[39mis_floating_point() \u001b[38;5;129;01mor\u001b[39;00m t\u001b[38;5;241m.\u001b[39mis_complex() \u001b[38;5;28;01melse\u001b[39;00m \u001b[38;5;28;01mNone\u001b[39;00m,\n\u001b[0;32m   1326\u001b[0m             non_blocking,\n\u001b[0;32m   1327\u001b[0m             memory_format\u001b[38;5;241m=\u001b[39mconvert_to_format,\n\u001b[0;32m   1328\u001b[0m         )\n\u001b[1;32m-> 1329\u001b[0m     \u001b[38;5;28;01mreturn\u001b[39;00m \u001b[43mt\u001b[49m\u001b[38;5;241;43m.\u001b[39;49m\u001b[43mto\u001b[49m\u001b[43m(\u001b[49m\n\u001b[0;32m   1330\u001b[0m \u001b[43m        \u001b[49m\u001b[43mdevice\u001b[49m\u001b[43m,\u001b[49m\n\u001b[0;32m   1331\u001b[0m \u001b[43m        \u001b[49m\u001b[43mdtype\u001b[49m\u001b[43m \u001b[49m\u001b[38;5;28;43;01mif\u001b[39;49;00m\u001b[43m \u001b[49m\u001b[43mt\u001b[49m\u001b[38;5;241;43m.\u001b[39;49m\u001b[43mis_floating_point\u001b[49m\u001b[43m(\u001b[49m\u001b[43m)\u001b[49m\u001b[43m \u001b[49m\u001b[38;5;129;43;01mor\u001b[39;49;00m\u001b[43m \u001b[49m\u001b[43mt\u001b[49m\u001b[38;5;241;43m.\u001b[39;49m\u001b[43mis_complex\u001b[49m\u001b[43m(\u001b[49m\u001b[43m)\u001b[49m\u001b[43m \u001b[49m\u001b[38;5;28;43;01melse\u001b[39;49;00m\u001b[43m \u001b[49m\u001b[38;5;28;43;01mNone\u001b[39;49;00m\u001b[43m,\u001b[49m\n\u001b[0;32m   1332\u001b[0m \u001b[43m        \u001b[49m\u001b[43mnon_blocking\u001b[49m\u001b[43m,\u001b[49m\n\u001b[0;32m   1333\u001b[0m \u001b[43m    \u001b[49m\u001b[43m)\u001b[49m\n\u001b[0;32m   1334\u001b[0m \u001b[38;5;28;01mexcept\u001b[39;00m \u001b[38;5;167;01mNotImplementedError\u001b[39;00m \u001b[38;5;28;01mas\u001b[39;00m e:\n\u001b[0;32m   1335\u001b[0m     \u001b[38;5;28;01mif\u001b[39;00m \u001b[38;5;28mstr\u001b[39m(e) \u001b[38;5;241m==\u001b[39m \u001b[38;5;124m\"\u001b[39m\u001b[38;5;124mCannot copy out of meta tensor; no data!\u001b[39m\u001b[38;5;124m\"\u001b[39m:\n",
      "\u001b[1;31mOutOfMemoryError\u001b[0m: CUDA out of memory. Tried to allocate 1.95 GiB. GPU 0 has a total capacity of 4.00 GiB of which 0 bytes is free. Of the allocated memory 9.34 GiB is allocated by PyTorch, and 1.70 MiB is reserved by PyTorch but unallocated. If reserved but unallocated memory is large try setting PYTORCH_CUDA_ALLOC_CONF=expandable_segments:True to avoid fragmentation.  See documentation for Memory Management  (https://pytorch.org/docs/stable/notes/cuda.html#environment-variables)"
     ]
    }
   ],
   "source": [
    "from council_rag.preprocessing import preprocess_markdown_text\n",
    "from council_rag.data_transformations import process_tables, summarize_clusters\n",
    "from council_rag.preprocessing.preprocessing import unload_cuda\n",
    "\n",
    "import time\n",
    "\n",
    "unload_cuda()\n",
    "start = time.time()\n",
    "\n",
    "paragraphs_list, clusters_dict, model = preprocess_markdown_text(markdown,\n",
    "                                                        model_id =\"Jaume/gemma-2b-embeddings\", \n",
    "                                                        spacy_model=\"fr_core_news_sm\", \n",
    "                                                        n_sents_per_para=8,\n",
    "                                                        device=device)"
   ]
  },
  {
   "cell_type": "code",
   "execution_count": 31,
   "metadata": {},
   "outputs": [
    {
     "ename": "FileNotFoundError",
     "evalue": "[Errno 2] No such file or directory: '/output_pdf_to_img/Evaluation data\\\\Solved PDFs\\\\4b7076dc7989552fc75046c32d068eee9122adff_DEL13-1223-Annex_page0.jpg'",
     "output_type": "error",
     "traceback": [
      "\u001b[1;31m---------------------------------------------------------------------------\u001b[0m",
      "\u001b[1;31mFileNotFoundError\u001b[0m                         Traceback (most recent call last)",
      "Cell \u001b[1;32mIn[31], line 2\u001b[0m\n\u001b[0;32m      1\u001b[0m unload_cuda()\n\u001b[1;32m----> 2\u001b[0m processed_tables \u001b[38;5;241m=\u001b[39m \u001b[43mprocess_tables\u001b[49m\u001b[43m(\u001b[49m\u001b[43mpdf_path\u001b[49m\u001b[43m,\u001b[49m\u001b[43m \u001b[49m\n\u001b[0;32m      3\u001b[0m \u001b[43m                                \u001b[49m\u001b[43mtable_process_prompt\u001b[49m\u001b[43m,\u001b[49m\u001b[43m \u001b[49m\n\u001b[0;32m      4\u001b[0m \u001b[43m                                \u001b[49m\u001b[43mgroq_token\u001b[49m\u001b[43m)\u001b[49m\n",
      "File \u001b[1;32mc:\\Users\\alber\\Desktop\\Council-Minutes\\Alberto Research\\RAGTOR\\council_rag\\data_transformations\\__init__.py:33\u001b[0m, in \u001b[0;36mprocess_tables\u001b[1;34m(pdf_path, base_prompt, groq_token)\u001b[0m\n\u001b[0;32m     30\u001b[0m list_pages_with_tables \u001b[38;5;241m=\u001b[39m \u001b[38;5;28mlist\u001b[39m(extracted_tables_filter\u001b[38;5;241m.\u001b[39mkeys())\n\u001b[0;32m     32\u001b[0m \u001b[38;5;66;03m# converting the pdf pages into images\u001b[39;00m\n\u001b[1;32m---> 33\u001b[0m image_paths \u001b[38;5;241m=\u001b[39m \u001b[43mconvert_pdf_to_image\u001b[49m\u001b[43m(\u001b[49m\u001b[43mpdf_path\u001b[49m\u001b[43m)\u001b[49m  \n\u001b[0;32m     34\u001b[0m table_descriptions \u001b[38;5;241m=\u001b[39m [augment_multimodal_context(im_path, base_prompt, groq_token) \u001b[38;5;28;01mfor\u001b[39;00m im_path \u001b[38;5;129;01min\u001b[39;00m image_paths]\n\u001b[0;32m     36\u001b[0m \u001b[38;5;66;03m# getting table htmls\u001b[39;00m\n",
      "File \u001b[1;32mc:\\Users\\alber\\Desktop\\Council-Minutes\\Alberto Research\\RAGTOR\\council_rag\\data_transformations\\table_transformations.py:55\u001b[0m, in \u001b[0;36mconvert_pdf_to_image\u001b[1;34m(pdf_path, output_dir, poppler_path)\u001b[0m\n\u001b[0;32m     53\u001b[0m     \u001b[38;5;66;03m# print(general_path)\u001b[39;00m\n\u001b[0;32m     54\u001b[0m     image_path \u001b[38;5;241m=\u001b[39m general_path \u001b[38;5;241m+\u001b[39m \u001b[38;5;124m'\u001b[39m\u001b[38;5;124m_page\u001b[39m\u001b[38;5;124m'\u001b[39m\u001b[38;5;241m+\u001b[39m \u001b[38;5;28mstr\u001b[39m(i) \u001b[38;5;241m+\u001b[39m\u001b[38;5;124m'\u001b[39m\u001b[38;5;124m.jpg\u001b[39m\u001b[38;5;124m'\u001b[39m\n\u001b[1;32m---> 55\u001b[0m     \u001b[43mimages\u001b[49m\u001b[43m[\u001b[49m\u001b[43mi\u001b[49m\u001b[43m]\u001b[49m\u001b[38;5;241;43m.\u001b[39;49m\u001b[43msave\u001b[49m\u001b[43m(\u001b[49m\u001b[43mimage_path\u001b[49m\u001b[43m,\u001b[49m\u001b[43m \u001b[49m\u001b[38;5;124;43m'\u001b[39;49m\u001b[38;5;124;43mJPEG\u001b[39;49m\u001b[38;5;124;43m'\u001b[39;49m\u001b[43m)\u001b[49m\n\u001b[0;32m     57\u001b[0m     images_paths\u001b[38;5;241m.\u001b[39mappend(image_path)\n\u001b[0;32m     59\u001b[0m \u001b[38;5;28;01mreturn\u001b[39;00m images_paths\n",
      "File \u001b[1;32mc:\\Users\\alber\\AppData\\Local\\Programs\\Python\\Python312\\Lib\\site-packages\\PIL\\Image.py:2591\u001b[0m, in \u001b[0;36mImage.save\u001b[1;34m(self, fp, format, **params)\u001b[0m\n\u001b[0;32m   2589\u001b[0m         fp \u001b[38;5;241m=\u001b[39m builtins\u001b[38;5;241m.\u001b[39mopen(filename, \u001b[38;5;124m\"\u001b[39m\u001b[38;5;124mr+b\u001b[39m\u001b[38;5;124m\"\u001b[39m)\n\u001b[0;32m   2590\u001b[0m     \u001b[38;5;28;01melse\u001b[39;00m:\n\u001b[1;32m-> 2591\u001b[0m         fp \u001b[38;5;241m=\u001b[39m \u001b[43mbuiltins\u001b[49m\u001b[38;5;241;43m.\u001b[39;49m\u001b[43mopen\u001b[49m\u001b[43m(\u001b[49m\u001b[43mfilename\u001b[49m\u001b[43m,\u001b[49m\u001b[43m \u001b[49m\u001b[38;5;124;43m\"\u001b[39;49m\u001b[38;5;124;43mw+b\u001b[39;49m\u001b[38;5;124;43m\"\u001b[39;49m\u001b[43m)\u001b[49m\n\u001b[0;32m   2592\u001b[0m \u001b[38;5;28;01melse\u001b[39;00m:\n\u001b[0;32m   2593\u001b[0m     fp \u001b[38;5;241m=\u001b[39m cast(IO[\u001b[38;5;28mbytes\u001b[39m], fp)\n",
      "\u001b[1;31mFileNotFoundError\u001b[0m: [Errno 2] No such file or directory: '/output_pdf_to_img/Evaluation data\\\\Solved PDFs\\\\4b7076dc7989552fc75046c32d068eee9122adff_DEL13-1223-Annex_page0.jpg'"
     ]
    }
   ],
   "source": [
    "unload_cuda()\n",
    "processed_tables = process_tables(pdf_path,\n",
    "                                pdf_dir = eval_path, # required to know where to save the pdf images \n",
    "                                table_process_prompt, \n",
    "                                groq_token)"
   ]
  },
  {
   "cell_type": "code",
   "execution_count": null,
   "metadata": {},
   "outputs": [],
   "source": [
    "unload_cuda()\n",
    "clusters_dict = summarize_clusters(clusters_dict, \n",
    "                                    summary_prompt, \n",
    "                                    groq_token, \n",
    "                                    model=\"gemma2-9b-it\", \n",
    "                                    token_limit=14000, \n",
    "                                    sleep_time=60)\n",
    "\n",
    "end = time.time()\n",
    "print((end - start)/60)"
   ]
  },
  {
   "cell_type": "code",
   "execution_count": null,
   "metadata": {},
   "outputs": [],
   "source": [
    "from langchain_text_splitters import RecursiveCharacterTextSplitter\n",
    "from council_rag.rag import prepare_data_for_rag\n",
    "\n",
    "unload_cuda()\n",
    "clusters_list, paragraphs_list, all_docs = prepare_data_for_rag(clusters_dict, \n",
    "                                                                paragraphs_list, \n",
    "                                                                processed_tables, \n",
    "                                                                splitter=RecursiveCharacterTextSplitter,\n",
    "                                                                chunk_size=450,\n",
    "                                                                chunk_overlap=35,\n",
    "                                                                length_function=len,\n",
    "                                                                is_separator_regex=False)"
   ]
  },
  {
   "cell_type": "code",
   "execution_count": 12,
   "metadata": {},
   "outputs": [
    {
     "ename": "ImportError",
     "evalue": "cannot import name 'generate_groq_summary' from 'council_rag.preprocessing' (c:\\Users\\alber\\Desktop\\Council-Minutes\\Alberto Research\\RAGTOR\\council_rag\\preprocessing\\__init__.py)",
     "output_type": "error",
     "traceback": [
      "\u001b[1;31m---------------------------------------------------------------------------\u001b[0m",
      "\u001b[1;31mImportError\u001b[0m                               Traceback (most recent call last)",
      "Cell \u001b[1;32mIn[12], line 1\u001b[0m\n\u001b[1;32m----> 1\u001b[0m \u001b[38;5;28;01mfrom\u001b[39;00m\u001b[38;5;250m \u001b[39m\u001b[38;5;21;01mcouncil_rag\u001b[39;00m\u001b[38;5;21;01m.\u001b[39;00m\u001b[38;5;21;01mrag\u001b[39;00m\u001b[38;5;250m \u001b[39m\u001b[38;5;28;01mimport\u001b[39;00m shorten_summary_docs\n\u001b[0;32m      3\u001b[0m unload_cuda()\n\u001b[0;32m      4\u001b[0m all_docs \u001b[38;5;241m=\u001b[39m shorten_summary_docs(all_docs, groq_token, model)\n",
      "File \u001b[1;32mc:\\Users\\alber\\Desktop\\Council-Minutes\\Alberto Research\\RAGTOR\\council_rag\\rag\\__init__.py:8\u001b[0m\n\u001b[0;32m      6\u001b[0m \u001b[38;5;28;01mimport\u001b[39;00m\u001b[38;5;250m \u001b[39m\u001b[38;5;21;01mfaiss\u001b[39;00m\n\u001b[0;32m      7\u001b[0m \u001b[38;5;28;01mfrom\u001b[39;00m\u001b[38;5;250m \u001b[39m\u001b[38;5;21;01mlangchain_text_splitters\u001b[39;00m\u001b[38;5;250m \u001b[39m\u001b[38;5;28;01mimport\u001b[39;00m RecursiveCharacterTextSplitter\n\u001b[1;32m----> 8\u001b[0m \u001b[38;5;28;01mfrom\u001b[39;00m\u001b[38;5;250m \u001b[39m\u001b[38;5;21;01mcouncil_rag\u001b[39;00m\u001b[38;5;21;01m.\u001b[39;00m\u001b[38;5;21;01mpreprocessing\u001b[39;00m\u001b[38;5;250m \u001b[39m\u001b[38;5;28;01mimport\u001b[39;00m generate_groq_summary\n\u001b[0;32m     10\u001b[0m \u001b[38;5;28;01mfrom\u001b[39;00m\u001b[38;5;250m \u001b[39m\u001b[38;5;21;01mhuggingface_hub\u001b[39;00m\u001b[38;5;250m \u001b[39m\u001b[38;5;28;01mimport\u001b[39;00m HfFolder, whoami\n\u001b[0;32m     12\u001b[0m \u001b[38;5;28;01mwith\u001b[39;00m \u001b[38;5;28mopen\u001b[39m(\u001b[38;5;124m\"\u001b[39m\u001b[38;5;124mexample_md_to_text.txt\u001b[39m\u001b[38;5;124m\"\u001b[39m, \u001b[38;5;124m\"\u001b[39m\u001b[38;5;124mr\u001b[39m\u001b[38;5;124m\"\u001b[39m, encoding\u001b[38;5;241m=\u001b[39m\u001b[38;5;124m\"\u001b[39m\u001b[38;5;124mlatin-1\u001b[39m\u001b[38;5;124m\"\u001b[39m) \u001b[38;5;28;01mas\u001b[39;00m f: \u001b[38;5;66;03m# TO DO: check proper encoding for .md files\u001b[39;00m\n",
      "\u001b[1;31mImportError\u001b[0m: cannot import name 'generate_groq_summary' from 'council_rag.preprocessing' (c:\\Users\\alber\\Desktop\\Council-Minutes\\Alberto Research\\RAGTOR\\council_rag\\preprocessing\\__init__.py)"
     ]
    }
   ],
   "source": [
    "from council_rag.rag import shorten_summary_docs\n",
    "\n",
    "unload_cuda()\n",
    "all_docs = shorten_summary_docs(all_docs, groq_token, model)"
   ]
  }
 ],
 "metadata": {
  "kernelspec": {
   "display_name": "Python 3",
   "language": "python",
   "name": "python3"
  },
  "language_info": {
   "codemirror_mode": {
    "name": "ipython",
    "version": 3
   },
   "file_extension": ".py",
   "mimetype": "text/x-python",
   "name": "python",
   "nbconvert_exporter": "python",
   "pygments_lexer": "ipython3",
   "version": "3.12.0"
  }
 },
 "nbformat": 4,
 "nbformat_minor": 2
}
