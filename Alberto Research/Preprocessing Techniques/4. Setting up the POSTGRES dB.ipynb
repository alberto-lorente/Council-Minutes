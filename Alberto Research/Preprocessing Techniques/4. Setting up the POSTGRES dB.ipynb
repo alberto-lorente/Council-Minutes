{
  "cells": [
    {
      "cell_type": "code",
      "execution_count": 11,
      "metadata": {
        "id": "e1P90lFue1iQ"
      },
      "outputs": [],
      "source": [
        "# with open(\"example_md_to_text.txt\", \"r\", encoding=\"latin-1\") as f: # TO DO: check proper encoding for .md files\n",
        "#     markdown_example = f.read()\n",
        "\n",
        "# with open(\"example.pdf\", \"rb\") as f:\n",
        "#     pdf = f.read()\n",
        "\n",
        "# with open(\"HF_TOKEN.txt\", \"r\") as f:\n",
        "#     hf_token = f.read()\n",
        "\n",
        "# with open(\"GROQ_KEY.txt\", \"r\") as f:\n",
        "#     groq_token = f.read()"
      ]
    },
    {
      "cell_type": "markdown",
      "metadata": {
        "id": "wMLfSZirtl6o"
      },
      "source": [
        "Information about distance metrics supported: https://github.com/pgvector/pgvector\n"
      ]
    },
    {
      "cell_type": "code",
      "execution_count": 12,
      "metadata": {
        "colab": {
          "base_uri": "https://localhost:8080/"
        },
        "id": "c7b38JvUe1iR",
        "outputId": "cbe5fcc5-7dc1-4345-ae55-eb3c7951b122"
      },
      "outputs": [
        {
          "name": "stdout",
          "output_type": "stream",
          "text": [
            "Requirement already satisfied: psycopg2 in /usr/local/lib/python3.11/dist-packages (2.9.10)\n"
          ]
        }
      ],
      "source": [
        "# !pip install psycopg2 pgvector"
      ]
    },
    {
      "cell_type": "code",
      "execution_count": 1,
      "metadata": {
        "colab": {
          "base_uri": "https://localhost:8080/"
        },
        "id": "1PqK7nFXg7Zy",
        "outputId": "76e4bbc1-9eb7-4b23-f368-c630f7a15cc3"
      },
      "outputs": [
        {
          "name": "stderr",
          "output_type": "stream",
          "text": [
            "Sudo is disabled on this machine. To enable it, go to the \u001b]8;;ms-settings:developers\u001b\\Developer Settings page\u001b]8;;\u001b\\ in the Settings app\n",
            "Sudo is disabled on this machine. To enable it, go to the \u001b]8;;ms-settings:developers\u001b\\Developer Settings page\u001b]8;;\u001b\\ in the Settings app\n",
            "Sudo is disabled on this machine. To enable it, go to the \u001b]8;;ms-settings:developers\u001b\\Developer Settings page\u001b]8;;\u001b\\ in the Settings app\n",
            "\u001b[1m\u001b[31merror:\u001b[0m unexpected argument '\u001b[33m-u\u001b[0m' found\n",
            "\n",
            "  \u001b[32mtip:\u001b[0m to pass '\u001b[33m-u\u001b[0m' as a value, use '\u001b[32m-- -u\u001b[0m'\n",
            "\n",
            "\u001b[1m\u001b[4mUsage:\u001b[0m \u001b[1msudo\u001b[0m [OPTIONS] [COMMANDLINE]... [COMMAND]\n",
            "\n",
            "For more information, try '\u001b[1mhelp\u001b[0m'.\n",
            "\u001b[1m\u001b[31merror:\u001b[0m unexpected argument '\u001b[33m-u\u001b[0m' found\n",
            "\n",
            "  \u001b[32mtip:\u001b[0m to pass '\u001b[33m-u\u001b[0m' as a value, use '\u001b[32m-- -u\u001b[0m'\n",
            "\n",
            "\u001b[1m\u001b[4mUsage:\u001b[0m \u001b[1msudo\u001b[0m [OPTIONS] [COMMANDLINE]... [COMMAND]\n",
            "\n",
            "For more information, try '\u001b[1mhelp\u001b[0m'.\n",
            "\u001b[1m\u001b[31merror:\u001b[0m unexpected argument '\u001b[33m-u\u001b[0m' found\n",
            "\n",
            "  \u001b[32mtip:\u001b[0m to pass '\u001b[33m-u\u001b[0m' as a value, use '\u001b[32m-- -u\u001b[0m'\n",
            "\n",
            "\u001b[1m\u001b[4mUsage:\u001b[0m \u001b[1msudo\u001b[0m [OPTIONS] [COMMANDLINE]... [COMMAND]\n",
            "\n",
            "For more information, try '\u001b[1mhelp\u001b[0m'.\n"
          ]
        }
      ],
      "source": [
        "# # Install postgresql server\n",
        "# !sudo apt-get -y -qq update\n",
        "# !sudo apt-get -y -qq install postgresql\n",
        "# !sudo service postgresql start\n",
        "\n",
        "# # Setup a password `postgres` for username `postgres`\n",
        "# !sudo -u postgres psql -U postgres -c \"ALTER USER postgres PASSWORD 'postgres';\"\n",
        "\n",
        "# # Setup a database with name `rag` to be used\n",
        "# !sudo -u postgres psql -U postgres -c 'DROP DATABASE IF EXISTS rag;'\n",
        "# !sudo -u postgres psql -U postgres -c 'CREATE DATABASE rag;'"
      ]
    },
    {
      "cell_type": "code",
      "execution_count": 14,
      "metadata": {
        "colab": {
          "base_uri": "https://localhost:8080/"
        },
        "id": "DbpWJzwks63P",
        "outputId": "ea150ac7-7aa4-4329-891e-9ead0e1bae3b"
      },
      "outputs": [
        {
          "name": "stdout",
          "output_type": "stream",
          "text": [
            "fatal: destination path 'pgvector' already exists and is not an empty directory.\n",
            "make: *** No targets specified and no makefile found.  Stop.\n",
            "make: *** No rule to make target 'install'.  Stop.\n"
          ]
        }
      ],
      "source": [
        "!cd /tmp\n",
        "!git clone --branch v0.8.0 https://github.com/pgvector/pgvector.git\n",
        "!cd pgvector\n",
        "!make\n",
        "!make install # may need sudo"
      ]
    },
    {
      "cell_type": "code",
      "execution_count": 15,
      "metadata": {
        "colab": {
          "base_uri": "https://localhost:8080/"
        },
        "id": "vTabUZbfhdCw",
        "outputId": "93b3e7eb-d69f-4c2f-eb22-909dbc13565f"
      },
      "outputs": [
        {
          "name": "stdout",
          "output_type": "stream",
          "text": [
            "env: RAG_DATABASE_NAME=rag\n",
            "env: RAG_DATABASE_HOST=localhost\n",
            "env: RAG_DATABASE_PORT=5432\n",
            "env: RAG_DATABASE_USER=postgres\n",
            "env: RAG_DATABASE_PASS=postgres\n"
          ]
        }
      ],
      "source": [
        "%env RAG_DATABASE_NAME=rag\n",
        "%env RAG_DATABASE_HOST=localhost\n",
        "%env RAG_DATABASE_PORT=5432\n",
        "%env RAG_DATABASE_USER=postgres\n",
        "%env RAG_DATABASE_PASS=postgres"
      ]
    },
    {
      "cell_type": "code",
      "execution_count": 16,
      "metadata": {
        "id": "Lw82lw0BgTaI"
      },
      "outputs": [],
      "source": [
        "import psycopg2\n",
        "\n",
        "conn = psycopg2.connect(\n",
        "    user=\"postgres\",\n",
        "    password=\"postgres\",\n",
        "    host=\"localhost\",\n",
        "    port=\"5432\",\n",
        "    database=\"rag\",\n",
        ")\n",
        "cur = conn.cursor()\n"
      ]
    },
    {
      "cell_type": "code",
      "execution_count": 31,
      "metadata": {
        "id": "XWA9EmxGtUxd"
      },
      "outputs": [],
      "source": [
        "statement_enable_pg_vect = \"CREATE EXTENSION IF NOT EXISTS vector\""
      ]
    },
    {
      "cell_type": "code",
      "execution_count": 32,
      "metadata": {
        "id": "l8zheENwnBi-"
      },
      "outputs": [],
      "source": [
        "statement_create_initial_table = \"\"\"CREATE TABLE doc_info (\n",
        "    doc_id          varchar(80),   -- string of var len with up to 80 characters\n",
        "    n_pages         int,           -- number of pages in the doc\n",
        "    n_tokens        int,           -- number of tokens in the doc\n",
        "    full_text       text,          -- unlimited text dtype, contains all the text\n",
        ")\"\"\""
      ]
    },
    {
      "cell_type": "code",
      "execution_count": 33,
      "metadata": {
        "id": "o7QptK6QoCRT"
      },
      "outputs": [],
      "source": [
        "statement_create_chunks_table = \"\"\"CREATE TABLE doc_chunks (\n",
        "    doc_id          varchar(80),   -- string of var len with up to 80 characters\n",
        "    chunk_id        varchar(80),   -- string of var len with up to 80 characters\n",
        "    chunk_text      text,          -- text of the chunk\n",
        "    chunk_embedding vector(768),          -- I need to get the pg vector thing here\n",
        "    chunk_type      varchar(80),   -- is the chunk a sentence, a paragraph, a summary\n",
        "    page_ns         vector(768),           -- page number(s) where the chunk appears\n",
        "    has_table       boolean,       -- true if the chunk contains a table\n",
        ")\"\"\""
      ]
    },
    {
      "cell_type": "code",
      "execution_count": 34,
      "metadata": {
        "id": "8OTnMlZLoCDN"
      },
      "outputs": [],
      "source": [
        "statement_create_tables_table = \"\"\"CREATE TABLE doc_tables (\n",
        "    doc_id                varchar(80),   -- string of var len with up to 80 characters\n",
        "    chunk_id              varchar(80),   -- string of var len with up to 80 characters\n",
        "    table_id              varchar(80),   -- string of var len with up to 80 characters\n",
        "    page_n                int,           -- page number(s) where the table appears\n",
        "    markdown_text         text,          -- text of the table in markdown format\n",
        "    html_text             text,          -- text of the table in htm format\n",
        "    generated_description text,          -- generated description of the table\n",
        "    table_descr_embedding vector(768),          -- I need to get the pg vector thing here\n",
        "    generation_model_id   varchar(80)    -- id of the model used to generate the description\n",
        ")\"\"\""
      ]
    },
    {
      "cell_type": "code",
      "execution_count": 35,
      "metadata": {
        "id": "ZJVosPYlrtX7"
      },
      "outputs": [],
      "source": [
        "statement_create_model_id_table = \"\"\"CREATE TABLE doc_tables (\n",
        "    generation_model_id   varchar(80)    -- id of the model used to generate the description\n",
        "    generation_model_name varchar(80),   -- name of the model correspoding to the id\n",
        ")\"\"\""
      ]
    },
    {
      "cell_type": "code",
      "execution_count": 36,
      "metadata": {
        "colab": {
          "base_uri": "https://localhost:8080/",
          "height": 193
        },
        "id": "45P0I-O9tuFB",
        "outputId": "b2d78ce0-6e82-41c4-e724-489e6b733275"
      },
      "outputs": [
        {
          "ename": "InFailedSqlTransaction",
          "evalue": "current transaction is aborted, commands ignored until end of transaction block\n",
          "output_type": "error",
          "traceback": [
            "\u001b[0;31m---------------------------------------------------------------------------\u001b[0m",
            "\u001b[0;31mInFailedSqlTransaction\u001b[0m                    Traceback (most recent call last)",
            "\u001b[0;32m<ipython-input-36-dbc0b9127b24>\u001b[0m in \u001b[0;36m<cell line: 0>\u001b[0;34m()\u001b[0m\n\u001b[1;32m      1\u001b[0m \u001b[0;32mfrom\u001b[0m \u001b[0mpgvector\u001b[0m\u001b[0;34m.\u001b[0m\u001b[0masyncpg\u001b[0m \u001b[0;32mimport\u001b[0m \u001b[0mregister_vector\u001b[0m\u001b[0;34m\u001b[0m\u001b[0;34m\u001b[0m\u001b[0m\n\u001b[1;32m      2\u001b[0m \u001b[0;34m\u001b[0m\u001b[0m\n\u001b[0;32m----> 3\u001b[0;31m \u001b[0mcur\u001b[0m\u001b[0;34m.\u001b[0m\u001b[0mexecute\u001b[0m\u001b[0;34m(\u001b[0m\u001b[0mstatement_enable_pg_vect\u001b[0m\u001b[0;34m)\u001b[0m\u001b[0;34m\u001b[0m\u001b[0;34m\u001b[0m\u001b[0m\n\u001b[0m\u001b[1;32m      4\u001b[0m \u001b[0mregister_vector\u001b[0m\u001b[0;34m(\u001b[0m\u001b[0mcur\u001b[0m\u001b[0;34m)\u001b[0m\u001b[0;34m\u001b[0m\u001b[0;34m\u001b[0m\u001b[0m\n",
            "\u001b[0;31mInFailedSqlTransaction\u001b[0m: current transaction is aborted, commands ignored until end of transaction block\n"
          ]
        }
      ],
      "source": [
        "from pgvector.asyncpg import register_vector\n",
        "\n",
        "cur.execute(statement_enable_pg_vect)\n",
        "register_vector(cur)"
      ]
    },
    {
      "cell_type": "code",
      "execution_count": 38,
      "metadata": {
        "colab": {
          "base_uri": "https://localhost:8080/",
          "height": 228
        },
        "id": "Kenrdy4JvDJX",
        "outputId": "159094a9-2e0b-46b4-87d8-33c43b4a09e3"
      },
      "outputs": [
        {
          "ename": "SyntaxError",
          "evalue": "syntax error at or near \")\"\nLINE 6: )\n        ^\n",
          "output_type": "error",
          "traceback": [
            "\u001b[0;31m---------------------------------------------------------------------------\u001b[0m",
            "\u001b[0;31mSyntaxError\u001b[0m                               Traceback (most recent call last)",
            "\u001b[0;32m<ipython-input-38-7ad411c84569>\u001b[0m in \u001b[0;36m<cell line: 0>\u001b[0;34m()\u001b[0m\n\u001b[0;32m----> 1\u001b[0;31m \u001b[0mcur\u001b[0m\u001b[0;34m.\u001b[0m\u001b[0mexecute\u001b[0m\u001b[0;34m(\u001b[0m\u001b[0mstatement_create_initial_table\u001b[0m\u001b[0;34m)\u001b[0m\u001b[0;34m\u001b[0m\u001b[0;34m\u001b[0m\u001b[0m\n\u001b[0m\u001b[1;32m      2\u001b[0m \u001b[0mcur\u001b[0m\u001b[0;34m.\u001b[0m\u001b[0mexecute\u001b[0m\u001b[0;34m(\u001b[0m\u001b[0mstatement_create_chunks_table\u001b[0m\u001b[0;34m)\u001b[0m\u001b[0;34m\u001b[0m\u001b[0;34m\u001b[0m\u001b[0m\n\u001b[1;32m      3\u001b[0m \u001b[0mcur\u001b[0m\u001b[0;34m.\u001b[0m\u001b[0mexecute\u001b[0m\u001b[0;34m(\u001b[0m\u001b[0mstatement_create_tables_table\u001b[0m\u001b[0;34m)\u001b[0m\u001b[0;34m\u001b[0m\u001b[0;34m\u001b[0m\u001b[0m\n\u001b[1;32m      4\u001b[0m \u001b[0mcur\u001b[0m\u001b[0;34m.\u001b[0m\u001b[0mexecute\u001b[0m\u001b[0;34m(\u001b[0m\u001b[0mstatement_create_model_id_table\u001b[0m\u001b[0;34m)\u001b[0m\u001b[0;34m\u001b[0m\u001b[0;34m\u001b[0m\u001b[0m\n",
            "\u001b[0;31mSyntaxError\u001b[0m: syntax error at or near \")\"\nLINE 6: )\n        ^\n"
          ]
        }
      ],
      "source": [
        "cur.execute(statement_create_initial_table)\n",
        "cur.execute(statement_create_chunks_table)\n",
        "cur.execute(statement_create_tables_table)\n",
        "cur.execute(statement_create_model_id_table)"
      ]
    },
    {
      "cell_type": "code",
      "execution_count": null,
      "metadata": {
        "id": "sws0cWOZvKom"
      },
      "outputs": [],
      "source": []
    }
  ],
  "metadata": {
    "colab": {
      "provenance": []
    },
    "kernelspec": {
      "display_name": ".council-env",
      "language": "python",
      "name": "python3"
    },
    "language_info": {
      "codemirror_mode": {
        "name": "ipython",
        "version": 3
      },
      "file_extension": ".py",
      "mimetype": "text/x-python",
      "name": "python",
      "nbconvert_exporter": "python",
      "pygments_lexer": "ipython3",
      "version": "3.12.0"
    }
  },
  "nbformat": 4,
  "nbformat_minor": 0
}
