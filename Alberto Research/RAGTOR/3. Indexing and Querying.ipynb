{
 "cells": [
  {
   "cell_type": "code",
   "execution_count": 12,
   "metadata": {},
   "outputs": [],
   "source": [
    "with open(\"example_md_to_text.txt\", \"r\", encoding=\"latin-1\") as f: # TO DO: check proper encoding for .md files\n",
    "    markdown_example = f.read()\n",
    "\n",
    "with open(\"example.pdf\", \"rb\") as f:\n",
    "    pdf = f.read()\n",
    "\n",
    "with open(\"HF_TOKEN.txt\", \"r\") as f:\n",
    "    hf_token = f.read()\n",
    "\n",
    "with open(\"GROQ_KEY.txt\", \"r\") as f:\n",
    "    groq_token = f.read()"
   ]
  },
  {
   "cell_type": "code",
   "execution_count": 13,
   "metadata": {},
   "outputs": [
    {
     "name": "stdout",
     "output_type": "stream",
     "text": [
      "alberto-lorente\n"
     ]
    }
   ],
   "source": [
    "from huggingface_hub import HfFolder, whoami\n",
    "\n",
    "HfFolder.save_token(hf_token)\n",
    "print(whoami()[\"name\"])"
   ]
  },
  {
   "cell_type": "code",
   "execution_count": 14,
   "metadata": {},
   "outputs": [
    {
     "name": "stdout",
     "output_type": "stream",
     "text": [
      "Cuda available\n"
     ]
    }
   ],
   "source": [
    "import torch\n",
    "\n",
    "device = \"cpu\"\n",
    "if torch.cuda.is_available():\n",
    "    print(\"Cuda available\")\n",
    "    device = torch.device('cuda')"
   ]
  },
  {
   "cell_type": "code",
   "execution_count": 15,
   "metadata": {},
   "outputs": [],
   "source": [
    "pdf_path = \"example.pdf\"\n",
    "\n",
    "base_prompt=\"\"\"CONTEXTE\n",
    "L'image suivante contient une page et un tableau. \n",
    "\n",
    "TÂCHE\n",
    "Décrivez le tableau et le contenu de la page en accordant une attention particulière au contexte qui l'entoure, qu'il s'agisse de budgets, de dates, d'élections, d'agendas, de projets futurs ou de sujets connexes. \n",
    "\n",
    "FORMAT DE LA RÉPONSE\n",
    "Votre réponse doit être aussi détaillée que possible. \n",
    "Votre résultat doit être la description du tableau directement.\n",
    "La langue de votre réponse est le français\"\"\"\n",
    "\n",
    "\n",
    "summary_prompt = \"\"\"Il s'agit d'un texte concernant un projet de géothermie :\n",
    "TEXTE: \n",
    "{}\n",
    "\n",
    "TÂCHE:\n",
    "Make a one page summary paying special attention to all the administrative matters like budgets, plans, actions to take in the future, organizational and hierarchical charts, announcements, meetings, contacts, elections, reports and all the related topics to these.\n",
    "\n",
    "OUTPUT:\n",
    "Publier directement le résumé.\n",
    "\"\"\"\n"
   ]
  },
  {
   "cell_type": "code",
   "execution_count": 16,
   "metadata": {},
   "outputs": [
    {
     "ename": "ValueError",
     "evalue": "Loading Snowflake/snowflake-arctic-embed-m-long requires you to execute the configuration file in that repo on your local machine. Make sure you have read the code there to avoid malicious use, then set the option `trust_remote_code=True` to remove this error.",
     "output_type": "error",
     "traceback": [
      "\u001b[1;31m---------------------------------------------------------------------------\u001b[0m",
      "\u001b[1;31mValueError\u001b[0m                                Traceback (most recent call last)",
      "Cell \u001b[1;32mIn[16], line 7\u001b[0m\n\u001b[0;32m      3\u001b[0m \u001b[38;5;28;01mimport\u001b[39;00m\u001b[38;5;250m \u001b[39m\u001b[38;5;21;01mtime\u001b[39;00m\n\u001b[0;32m      5\u001b[0m start \u001b[38;5;241m=\u001b[39m time\u001b[38;5;241m.\u001b[39mtime()\n\u001b[1;32m----> 7\u001b[0m paragraphs_list, clusters_dict \u001b[38;5;241m=\u001b[39m \u001b[43mpreprocess_markdown_text\u001b[49m\u001b[43m(\u001b[49m\u001b[43mmarkdown_example\u001b[49m\u001b[43m,\u001b[49m\n\u001b[0;32m      8\u001b[0m \u001b[43m                                                        \u001b[49m\u001b[43mmodel_id\u001b[49m\u001b[43m \u001b[49m\u001b[38;5;241;43m=\u001b[39;49m\u001b[38;5;124;43m\"\u001b[39;49m\u001b[38;5;124;43mSnowflake/snowflake-arctic-embed-m-long\u001b[39;49m\u001b[38;5;124;43m\"\u001b[39;49m\u001b[43m,\u001b[49m\u001b[43m \u001b[49m\n\u001b[0;32m      9\u001b[0m \u001b[43m                                                        \u001b[49m\u001b[43mspacy_model\u001b[49m\u001b[38;5;241;43m=\u001b[39;49m\u001b[38;5;124;43m\"\u001b[39;49m\u001b[38;5;124;43mfr_core_news_sm\u001b[39;49m\u001b[38;5;124;43m\"\u001b[39;49m\u001b[43m,\u001b[49m\u001b[43m \u001b[49m\n\u001b[0;32m     10\u001b[0m \u001b[43m                                                        \u001b[49m\u001b[43mn_sents_per_para\u001b[49m\u001b[38;5;241;43m=\u001b[39;49m\u001b[38;5;241;43m10\u001b[39;49m\u001b[43m,\u001b[49m\n\u001b[0;32m     11\u001b[0m \u001b[43m                                                        \u001b[49m\u001b[43mdevice\u001b[49m\u001b[38;5;241;43m=\u001b[39;49m\u001b[43mdevice\u001b[49m\n\u001b[0;32m     12\u001b[0m \u001b[43m)\u001b[49m\n\u001b[0;32m     14\u001b[0m processed_tables \u001b[38;5;241m=\u001b[39m process_tables(pdf_path, \n\u001b[0;32m     15\u001b[0m                                 base_prompt, \n\u001b[0;32m     16\u001b[0m                                 groq_token)\n\u001b[0;32m     18\u001b[0m clusters_dict \u001b[38;5;241m=\u001b[39m summarize_clusters(clusters_dict, \n\u001b[0;32m     19\u001b[0m                                     summary_prompt, \n\u001b[0;32m     20\u001b[0m                                     groq_token, \n\u001b[0;32m     21\u001b[0m                                     model\u001b[38;5;241m=\u001b[39m\u001b[38;5;124m\"\u001b[39m\u001b[38;5;124mgemma2-9b-it\u001b[39m\u001b[38;5;124m\"\u001b[39m, \n\u001b[0;32m     22\u001b[0m                                     token_limit\u001b[38;5;241m=\u001b[39m\u001b[38;5;241m14000\u001b[39m, \n\u001b[0;32m     23\u001b[0m                                     sleep_time\u001b[38;5;241m=\u001b[39m\u001b[38;5;241m60\u001b[39m)\n",
      "File \u001b[1;32mc:\\Users\\alber\\Desktop\\Council-Minutes\\Alberto Research\\RAGTOR\\council_rag\\preprocessing\\__init__.py:23\u001b[0m, in \u001b[0;36mpreprocess_markdown_text\u001b[1;34m(markdown, model_id, spacy_model, n_sents_per_para, device)\u001b[0m\n\u001b[0;32m     20\u001b[0m paragraphs \u001b[38;5;241m=\u001b[39m split_markdown_to_paras(markdown, spacy_model, n_sents_per_para)\n\u001b[0;32m     22\u001b[0m \u001b[38;5;66;03m# Split the markdown into paragraphs\u001b[39;00m\n\u001b[1;32m---> 23\u001b[0m paragraphs \u001b[38;5;241m=\u001b[39m \u001b[43mcompute_paragraph_embeddings\u001b[49m\u001b[43m(\u001b[49m\u001b[43mparagraphs\u001b[49m\u001b[43m,\u001b[49m\u001b[43m \u001b[49m\u001b[43mmodel_id\u001b[49m\u001b[43m)\u001b[49m\n\u001b[0;32m     25\u001b[0m \u001b[38;5;66;03m# Get just the embeddings to compute the ideal number of clusters\u001b[39;00m\n\u001b[0;32m     26\u001b[0m squeezeded_embeddings \u001b[38;5;241m=\u001b[39m [para_dict[\u001b[38;5;124m\"\u001b[39m\u001b[38;5;124mpara_embedding\u001b[39m\u001b[38;5;124m\"\u001b[39m] \u001b[38;5;28;01mfor\u001b[39;00m para_dict \u001b[38;5;129;01min\u001b[39;00m paragraphs]\n",
      "File \u001b[1;32mc:\\Users\\alber\\Desktop\\Council-Minutes\\Alberto Research\\RAGTOR\\council_rag\\preprocessing\\preprocessing.py:95\u001b[0m, in \u001b[0;36mcompute_paragraph_embeddings\u001b[1;34m(paragraphs, model_id)\u001b[0m\n\u001b[0;32m     93\u001b[0m list_paras \u001b[38;5;241m=\u001b[39m [para[\u001b[38;5;124m\"\u001b[39m\u001b[38;5;124mparagraph_union\u001b[39m\u001b[38;5;124m\"\u001b[39m] \u001b[38;5;28;01mfor\u001b[39;00m para \u001b[38;5;129;01min\u001b[39;00m paragraphs]\n\u001b[0;32m     94\u001b[0m \u001b[38;5;28;01mfor\u001b[39;00m paras, para_dict \u001b[38;5;129;01min\u001b[39;00m \u001b[38;5;28mzip\u001b[39m(list_paras, paragraphs):\n\u001b[1;32m---> 95\u001b[0m     para_dict[\u001b[38;5;124m\"\u001b[39m\u001b[38;5;124mpara_embedding\u001b[39m\u001b[38;5;124m\"\u001b[39m] \u001b[38;5;241m=\u001b[39m \u001b[43mcompute_norm_embeddings\u001b[49m\u001b[43m(\u001b[49m\u001b[43mmodel_id\u001b[49m\u001b[43m,\u001b[49m\u001b[43m \u001b[49m\u001b[43mparas\u001b[49m\u001b[43m)\u001b[49m\n\u001b[0;32m     96\u001b[0m \u001b[38;5;28;01mreturn\u001b[39;00m paragraphs\n",
      "File \u001b[1;32mc:\\Users\\alber\\Desktop\\Council-Minutes\\Alberto Research\\RAGTOR\\council_rag\\preprocessing\\preprocessing.py:80\u001b[0m, in \u001b[0;36mcompute_norm_embeddings\u001b[1;34m(model_id, sentence, device)\u001b[0m\n\u001b[0;32m     78\u001b[0m \u001b[38;5;28;01mdef\u001b[39;00m\u001b[38;5;250m \u001b[39m\u001b[38;5;21mcompute_norm_embeddings\u001b[39m(model_id, sentence, device\u001b[38;5;241m=\u001b[39m\u001b[38;5;124m\"\u001b[39m\u001b[38;5;124mcuda\u001b[39m\u001b[38;5;124m\"\u001b[39m):\n\u001b[1;32m---> 80\u001b[0m     model \u001b[38;5;241m=\u001b[39m \u001b[43mSentenceTransformer\u001b[49m\u001b[43m(\u001b[49m\u001b[43mmodel_id\u001b[49m\u001b[43m)\u001b[49m\n\u001b[0;32m     81\u001b[0m     embeddings \u001b[38;5;241m=\u001b[39m model\u001b[38;5;241m.\u001b[39mencode(sentence, trust_remote_code\u001b[38;5;241m=\u001b[39m\u001b[38;5;28;01mTrue\u001b[39;00m)\n\u001b[0;32m     83\u001b[0m     \u001b[38;5;66;03m# detached_embeddings = embeddings.detach().cpu().numpy() # detached into cpu so that we can manipulate them for clustering\u001b[39;00m\n",
      "File \u001b[1;32mc:\\Users\\alber\\AppData\\Local\\Programs\\Python\\Python312\\Lib\\site-packages\\sentence_transformers\\SentenceTransformer.py:308\u001b[0m, in \u001b[0;36mSentenceTransformer.__init__\u001b[1;34m(self, model_name_or_path, modules, device, prompts, default_prompt_name, similarity_fn_name, cache_folder, trust_remote_code, revision, local_files_only, token, use_auth_token, truncate_dim, model_kwargs, tokenizer_kwargs, config_kwargs, model_card_data, backend)\u001b[0m\n\u001b[0;32m    299\u001b[0m         model_name_or_path \u001b[38;5;241m=\u001b[39m __MODEL_HUB_ORGANIZATION__ \u001b[38;5;241m+\u001b[39m \u001b[38;5;124m\"\u001b[39m\u001b[38;5;124m/\u001b[39m\u001b[38;5;124m\"\u001b[39m \u001b[38;5;241m+\u001b[39m model_name_or_path\n\u001b[0;32m    301\u001b[0m \u001b[38;5;28;01mif\u001b[39;00m is_sentence_transformer_model(\n\u001b[0;32m    302\u001b[0m     model_name_or_path,\n\u001b[0;32m    303\u001b[0m     token,\n\u001b[1;32m   (...)\u001b[0m\n\u001b[0;32m    306\u001b[0m     local_files_only\u001b[38;5;241m=\u001b[39mlocal_files_only,\n\u001b[0;32m    307\u001b[0m ):\n\u001b[1;32m--> 308\u001b[0m     modules, \u001b[38;5;28mself\u001b[39m\u001b[38;5;241m.\u001b[39mmodule_kwargs \u001b[38;5;241m=\u001b[39m \u001b[38;5;28;43mself\u001b[39;49m\u001b[38;5;241;43m.\u001b[39;49m\u001b[43m_load_sbert_model\u001b[49m\u001b[43m(\u001b[49m\n\u001b[0;32m    309\u001b[0m \u001b[43m        \u001b[49m\u001b[43mmodel_name_or_path\u001b[49m\u001b[43m,\u001b[49m\n\u001b[0;32m    310\u001b[0m \u001b[43m        \u001b[49m\u001b[43mtoken\u001b[49m\u001b[38;5;241;43m=\u001b[39;49m\u001b[43mtoken\u001b[49m\u001b[43m,\u001b[49m\n\u001b[0;32m    311\u001b[0m \u001b[43m        \u001b[49m\u001b[43mcache_folder\u001b[49m\u001b[38;5;241;43m=\u001b[39;49m\u001b[43mcache_folder\u001b[49m\u001b[43m,\u001b[49m\n\u001b[0;32m    312\u001b[0m \u001b[43m        \u001b[49m\u001b[43mrevision\u001b[49m\u001b[38;5;241;43m=\u001b[39;49m\u001b[43mrevision\u001b[49m\u001b[43m,\u001b[49m\n\u001b[0;32m    313\u001b[0m \u001b[43m        \u001b[49m\u001b[43mtrust_remote_code\u001b[49m\u001b[38;5;241;43m=\u001b[39;49m\u001b[43mtrust_remote_code\u001b[49m\u001b[43m,\u001b[49m\n\u001b[0;32m    314\u001b[0m \u001b[43m        \u001b[49m\u001b[43mlocal_files_only\u001b[49m\u001b[38;5;241;43m=\u001b[39;49m\u001b[43mlocal_files_only\u001b[49m\u001b[43m,\u001b[49m\n\u001b[0;32m    315\u001b[0m \u001b[43m        \u001b[49m\u001b[43mmodel_kwargs\u001b[49m\u001b[38;5;241;43m=\u001b[39;49m\u001b[43mmodel_kwargs\u001b[49m\u001b[43m,\u001b[49m\n\u001b[0;32m    316\u001b[0m \u001b[43m        \u001b[49m\u001b[43mtokenizer_kwargs\u001b[49m\u001b[38;5;241;43m=\u001b[39;49m\u001b[43mtokenizer_kwargs\u001b[49m\u001b[43m,\u001b[49m\n\u001b[0;32m    317\u001b[0m \u001b[43m        \u001b[49m\u001b[43mconfig_kwargs\u001b[49m\u001b[38;5;241;43m=\u001b[39;49m\u001b[43mconfig_kwargs\u001b[49m\u001b[43m,\u001b[49m\n\u001b[0;32m    318\u001b[0m \u001b[43m    \u001b[49m\u001b[43m)\u001b[49m\n\u001b[0;32m    319\u001b[0m \u001b[38;5;28;01melse\u001b[39;00m:\n\u001b[0;32m    320\u001b[0m     modules \u001b[38;5;241m=\u001b[39m \u001b[38;5;28mself\u001b[39m\u001b[38;5;241m.\u001b[39m_load_auto_model(\n\u001b[0;32m    321\u001b[0m         model_name_or_path,\n\u001b[0;32m    322\u001b[0m         token\u001b[38;5;241m=\u001b[39mtoken,\n\u001b[1;32m   (...)\u001b[0m\n\u001b[0;32m    329\u001b[0m         config_kwargs\u001b[38;5;241m=\u001b[39mconfig_kwargs,\n\u001b[0;32m    330\u001b[0m     )\n",
      "File \u001b[1;32mc:\\Users\\alber\\AppData\\Local\\Programs\\Python\\Python312\\Lib\\site-packages\\sentence_transformers\\SentenceTransformer.py:1739\u001b[0m, in \u001b[0;36mSentenceTransformer._load_sbert_model\u001b[1;34m(self, model_name_or_path, token, cache_folder, revision, trust_remote_code, local_files_only, model_kwargs, tokenizer_kwargs, config_kwargs)\u001b[0m\n\u001b[0;32m   1736\u001b[0m \u001b[38;5;66;03m# Try to initialize the module with a lot of kwargs, but only if the module supports them\u001b[39;00m\n\u001b[0;32m   1737\u001b[0m \u001b[38;5;66;03m# Otherwise we fall back to the load method\u001b[39;00m\n\u001b[0;32m   1738\u001b[0m \u001b[38;5;28;01mtry\u001b[39;00m:\n\u001b[1;32m-> 1739\u001b[0m     module \u001b[38;5;241m=\u001b[39m \u001b[43mmodule_class\u001b[49m\u001b[43m(\u001b[49m\u001b[43mmodel_name_or_path\u001b[49m\u001b[43m,\u001b[49m\u001b[43m \u001b[49m\u001b[43mcache_dir\u001b[49m\u001b[38;5;241;43m=\u001b[39;49m\u001b[43mcache_folder\u001b[49m\u001b[43m,\u001b[49m\u001b[43m \u001b[49m\u001b[43mbackend\u001b[49m\u001b[38;5;241;43m=\u001b[39;49m\u001b[38;5;28;43mself\u001b[39;49m\u001b[38;5;241;43m.\u001b[39;49m\u001b[43mbackend\u001b[49m\u001b[43m,\u001b[49m\u001b[43m \u001b[49m\u001b[38;5;241;43m*\u001b[39;49m\u001b[38;5;241;43m*\u001b[39;49m\u001b[43mkwargs\u001b[49m\u001b[43m)\u001b[49m\n\u001b[0;32m   1740\u001b[0m \u001b[38;5;28;01mexcept\u001b[39;00m \u001b[38;5;167;01mTypeError\u001b[39;00m:\n\u001b[0;32m   1741\u001b[0m     module \u001b[38;5;241m=\u001b[39m module_class\u001b[38;5;241m.\u001b[39mload(model_name_or_path)\n",
      "File \u001b[1;32mc:\\Users\\alber\\AppData\\Local\\Programs\\Python\\Python312\\Lib\\site-packages\\sentence_transformers\\models\\Transformer.py:80\u001b[0m, in \u001b[0;36mTransformer.__init__\u001b[1;34m(self, model_name_or_path, max_seq_length, model_args, tokenizer_args, config_args, cache_dir, do_lower_case, tokenizer_name_or_path, backend)\u001b[0m\n\u001b[0;32m     77\u001b[0m \u001b[38;5;28;01mif\u001b[39;00m config_args \u001b[38;5;129;01mis\u001b[39;00m \u001b[38;5;28;01mNone\u001b[39;00m:\n\u001b[0;32m     78\u001b[0m     config_args \u001b[38;5;241m=\u001b[39m {}\n\u001b[1;32m---> 80\u001b[0m config, is_peft_model \u001b[38;5;241m=\u001b[39m \u001b[38;5;28;43mself\u001b[39;49m\u001b[38;5;241;43m.\u001b[39;49m\u001b[43m_load_config\u001b[49m\u001b[43m(\u001b[49m\u001b[43mmodel_name_or_path\u001b[49m\u001b[43m,\u001b[49m\u001b[43m \u001b[49m\u001b[43mcache_dir\u001b[49m\u001b[43m,\u001b[49m\u001b[43m \u001b[49m\u001b[43mbackend\u001b[49m\u001b[43m,\u001b[49m\u001b[43m \u001b[49m\u001b[43mconfig_args\u001b[49m\u001b[43m)\u001b[49m\n\u001b[0;32m     81\u001b[0m \u001b[38;5;28mself\u001b[39m\u001b[38;5;241m.\u001b[39m_load_model(model_name_or_path, config, cache_dir, backend, is_peft_model, \u001b[38;5;241m*\u001b[39m\u001b[38;5;241m*\u001b[39mmodel_args)\n\u001b[0;32m     83\u001b[0m \u001b[38;5;28;01mif\u001b[39;00m max_seq_length \u001b[38;5;129;01mis\u001b[39;00m \u001b[38;5;129;01mnot\u001b[39;00m \u001b[38;5;28;01mNone\u001b[39;00m \u001b[38;5;129;01mand\u001b[39;00m \u001b[38;5;124m\"\u001b[39m\u001b[38;5;124mmodel_max_length\u001b[39m\u001b[38;5;124m\"\u001b[39m \u001b[38;5;129;01mnot\u001b[39;00m \u001b[38;5;129;01min\u001b[39;00m tokenizer_args:\n",
      "File \u001b[1;32mc:\\Users\\alber\\AppData\\Local\\Programs\\Python\\Python312\\Lib\\site-packages\\sentence_transformers\\models\\Transformer.py:145\u001b[0m, in \u001b[0;36mTransformer._load_config\u001b[1;34m(self, model_name_or_path, cache_dir, backend, config_args)\u001b[0m\n\u001b[0;32m    141\u001b[0m     \u001b[38;5;28;01mfrom\u001b[39;00m\u001b[38;5;250m \u001b[39m\u001b[38;5;21;01mpeft\u001b[39;00m\u001b[38;5;250m \u001b[39m\u001b[38;5;28;01mimport\u001b[39;00m PeftConfig\n\u001b[0;32m    143\u001b[0m     \u001b[38;5;28;01mreturn\u001b[39;00m PeftConfig\u001b[38;5;241m.\u001b[39mfrom_pretrained(model_name_or_path, \u001b[38;5;241m*\u001b[39m\u001b[38;5;241m*\u001b[39mconfig_args, cache_dir\u001b[38;5;241m=\u001b[39mcache_dir), \u001b[38;5;28;01mTrue\u001b[39;00m\n\u001b[1;32m--> 145\u001b[0m \u001b[38;5;28;01mreturn\u001b[39;00m \u001b[43mAutoConfig\u001b[49m\u001b[38;5;241;43m.\u001b[39;49m\u001b[43mfrom_pretrained\u001b[49m\u001b[43m(\u001b[49m\u001b[43mmodel_name_or_path\u001b[49m\u001b[43m,\u001b[49m\u001b[43m \u001b[49m\u001b[38;5;241;43m*\u001b[39;49m\u001b[38;5;241;43m*\u001b[39;49m\u001b[43mconfig_args\u001b[49m\u001b[43m,\u001b[49m\u001b[43m \u001b[49m\u001b[43mcache_dir\u001b[49m\u001b[38;5;241;43m=\u001b[39;49m\u001b[43mcache_dir\u001b[49m\u001b[43m)\u001b[49m, \u001b[38;5;28;01mFalse\u001b[39;00m\n",
      "File \u001b[1;32mc:\\Users\\alber\\AppData\\Local\\Programs\\Python\\Python312\\Lib\\site-packages\\transformers\\models\\auto\\configuration_auto.py:1024\u001b[0m, in \u001b[0;36mAutoConfig.from_pretrained\u001b[1;34m(cls, pretrained_model_name_or_path, **kwargs)\u001b[0m\n\u001b[0;32m   1022\u001b[0m has_remote_code \u001b[38;5;241m=\u001b[39m \u001b[38;5;124m\"\u001b[39m\u001b[38;5;124mauto_map\u001b[39m\u001b[38;5;124m\"\u001b[39m \u001b[38;5;129;01min\u001b[39;00m config_dict \u001b[38;5;129;01mand\u001b[39;00m \u001b[38;5;124m\"\u001b[39m\u001b[38;5;124mAutoConfig\u001b[39m\u001b[38;5;124m\"\u001b[39m \u001b[38;5;129;01min\u001b[39;00m config_dict[\u001b[38;5;124m\"\u001b[39m\u001b[38;5;124mauto_map\u001b[39m\u001b[38;5;124m\"\u001b[39m]\n\u001b[0;32m   1023\u001b[0m has_local_code \u001b[38;5;241m=\u001b[39m \u001b[38;5;124m\"\u001b[39m\u001b[38;5;124mmodel_type\u001b[39m\u001b[38;5;124m\"\u001b[39m \u001b[38;5;129;01min\u001b[39;00m config_dict \u001b[38;5;129;01mand\u001b[39;00m config_dict[\u001b[38;5;124m\"\u001b[39m\u001b[38;5;124mmodel_type\u001b[39m\u001b[38;5;124m\"\u001b[39m] \u001b[38;5;129;01min\u001b[39;00m CONFIG_MAPPING\n\u001b[1;32m-> 1024\u001b[0m trust_remote_code \u001b[38;5;241m=\u001b[39m \u001b[43mresolve_trust_remote_code\u001b[49m\u001b[43m(\u001b[49m\n\u001b[0;32m   1025\u001b[0m \u001b[43m    \u001b[49m\u001b[43mtrust_remote_code\u001b[49m\u001b[43m,\u001b[49m\u001b[43m \u001b[49m\u001b[43mpretrained_model_name_or_path\u001b[49m\u001b[43m,\u001b[49m\u001b[43m \u001b[49m\u001b[43mhas_local_code\u001b[49m\u001b[43m,\u001b[49m\u001b[43m \u001b[49m\u001b[43mhas_remote_code\u001b[49m\n\u001b[0;32m   1026\u001b[0m \u001b[43m\u001b[49m\u001b[43m)\u001b[49m\n\u001b[0;32m   1028\u001b[0m \u001b[38;5;28;01mif\u001b[39;00m has_remote_code \u001b[38;5;129;01mand\u001b[39;00m trust_remote_code:\n\u001b[0;32m   1029\u001b[0m     class_ref \u001b[38;5;241m=\u001b[39m config_dict[\u001b[38;5;124m\"\u001b[39m\u001b[38;5;124mauto_map\u001b[39m\u001b[38;5;124m\"\u001b[39m][\u001b[38;5;124m\"\u001b[39m\u001b[38;5;124mAutoConfig\u001b[39m\u001b[38;5;124m\"\u001b[39m]\n",
      "File \u001b[1;32mc:\\Users\\alber\\AppData\\Local\\Programs\\Python\\Python312\\Lib\\site-packages\\transformers\\dynamic_module_utils.py:679\u001b[0m, in \u001b[0;36mresolve_trust_remote_code\u001b[1;34m(trust_remote_code, model_name, has_local_code, has_remote_code)\u001b[0m\n\u001b[0;32m    676\u001b[0m         _raise_timeout_error(\u001b[38;5;28;01mNone\u001b[39;00m, \u001b[38;5;28;01mNone\u001b[39;00m)\n\u001b[0;32m    678\u001b[0m \u001b[38;5;28;01mif\u001b[39;00m has_remote_code \u001b[38;5;129;01mand\u001b[39;00m \u001b[38;5;129;01mnot\u001b[39;00m has_local_code \u001b[38;5;129;01mand\u001b[39;00m \u001b[38;5;129;01mnot\u001b[39;00m trust_remote_code:\n\u001b[1;32m--> 679\u001b[0m     \u001b[38;5;28;01mraise\u001b[39;00m \u001b[38;5;167;01mValueError\u001b[39;00m(\n\u001b[0;32m    680\u001b[0m         \u001b[38;5;124mf\u001b[39m\u001b[38;5;124m\"\u001b[39m\u001b[38;5;124mLoading \u001b[39m\u001b[38;5;132;01m{\u001b[39;00mmodel_name\u001b[38;5;132;01m}\u001b[39;00m\u001b[38;5;124m requires you to execute the configuration file in that\u001b[39m\u001b[38;5;124m\"\u001b[39m\n\u001b[0;32m    681\u001b[0m         \u001b[38;5;124m\"\u001b[39m\u001b[38;5;124m repo on your local machine. Make sure you have read the code there to avoid malicious use, then\u001b[39m\u001b[38;5;124m\"\u001b[39m\n\u001b[0;32m    682\u001b[0m         \u001b[38;5;124m\"\u001b[39m\u001b[38;5;124m set the option `trust_remote_code=True` to remove this error.\u001b[39m\u001b[38;5;124m\"\u001b[39m\n\u001b[0;32m    683\u001b[0m     )\n\u001b[0;32m    685\u001b[0m \u001b[38;5;28;01mreturn\u001b[39;00m trust_remote_code\n",
      "\u001b[1;31mValueError\u001b[0m: Loading Snowflake/snowflake-arctic-embed-m-long requires you to execute the configuration file in that repo on your local machine. Make sure you have read the code there to avoid malicious use, then set the option `trust_remote_code=True` to remove this error."
     ]
    }
   ],
   "source": [
    "from council_rag.preprocessing import preprocess_markdown_text\n",
    "from council_rag.data_transformations import process_tables, summarize_clusters\n",
    "import time\n",
    "\n",
    "start = time.time()\n",
    "\n",
    "paragraphs_list, clusters_dict = preprocess_markdown_text(markdown_example,\n",
    "                                                        model_id =\"Snowflake/snowflake-arctic-embed-m-long\", \n",
    "                                                        spacy_model=\"fr_core_news_sm\", \n",
    "                                                        n_sents_per_para=10,\n",
    "                                                        device=device\n",
    ")\n",
    "\n",
    "processed_tables = process_tables(pdf_path, \n",
    "                                base_prompt, \n",
    "                                groq_token)\n",
    "\n",
    "clusters_dict = summarize_clusters(clusters_dict, \n",
    "                                    summary_prompt, \n",
    "                                    groq_token, \n",
    "                                    model=\"gemma2-9b-it\", \n",
    "                                    token_limit=14000, \n",
    "                                    sleep_time=60)\n",
    "\n",
    "end = time.time()\n",
    "print((end - start)/60)"
   ]
  },
  {
   "cell_type": "markdown",
   "metadata": {},
   "source": [
    "The variables we are going to query are:"
   ]
  },
  {
   "cell_type": "code",
   "execution_count": 7,
   "metadata": {},
   "outputs": [],
   "source": [
    "# paragraphs_dict \n",
    "# processed_tables\n",
    "# clusters_dict"
   ]
  },
  {
   "cell_type": "markdown",
   "metadata": {},
   "source": [
    "## Indexing and querying"
   ]
  },
  {
   "cell_type": "markdown",
   "metadata": {},
   "source": [
    "Deleting some info that we won't need and turning the cluster dict into a list to match the paragraphs list."
   ]
  },
  {
   "cell_type": "code",
   "execution_count": 8,
   "metadata": {},
   "outputs": [],
   "source": [
    "del paragraphs_list[0][\"para_embedding\"]"
   ]
  },
  {
   "cell_type": "code",
   "execution_count": 9,
   "metadata": {},
   "outputs": [],
   "source": [
    "clusters_list = list(clusters_dict.values())\n",
    "i = 0\n",
    "while i < len(clusters_list):\n",
    "    clusters_list[i][\"cluster\"] = i\n",
    "    i += 1\n"
   ]
  },
  {
   "cell_type": "markdown",
   "metadata": {},
   "source": [
    "Getting the embedding model and setting up the index and vector stores."
   ]
  },
  {
   "cell_type": "code",
   "execution_count": 10,
   "metadata": {},
   "outputs": [],
   "source": [
    "from sentence_transformers import SentenceTransformer\n",
    "\n",
    "\n",
    "embedding_model = SentenceTransformer(\"all-MiniLM-L6-v2\")"
   ]
  },
  {
   "cell_type": "code",
   "execution_count": 11,
   "metadata": {},
   "outputs": [],
   "source": [
    "# checking the shape of the embedding to pass it to the index\n",
    "shape_emb = embedding_model.encode(\"Hello World!\")\n",
    "emd_dims =  shape_emb.shape[0]"
   ]
  },
  {
   "cell_type": "code",
   "execution_count": 12,
   "metadata": {},
   "outputs": [],
   "source": [
    "import faiss\n",
    "\n",
    "# init the intex\n",
    "index = faiss.IndexFlatL2(emd_dims)"
   ]
  },
  {
   "cell_type": "code",
   "execution_count": null,
   "metadata": {},
   "outputs": [
    {
     "name": "stderr",
     "output_type": "stream",
     "text": [
      "`embedding_function` is expected to be an Embeddings object, support for passing in a function will soon be removed.\n"
     ]
    }
   ],
   "source": [
    "from langchain_community.docstore.in_memory import InMemoryDocstore\n",
    "from langchain_community.vectorstores import FAISS\n",
    "from langchain_core.documents import Document\n",
    "\n",
    "# creating the vector store\n",
    "vector_store = FAISS(embedding_model, \n",
    "                    index, \n",
    "                    InMemoryDocstore({}), \n",
    "                    {})"
   ]
  },
  {
   "cell_type": "code",
   "execution_count": 14,
   "metadata": {},
   "outputs": [
    {
     "data": {
      "text/plain": [
       "dict_keys(['para_indexes', 'union_paras', 'cluster_summary', 'cluster'])"
      ]
     },
     "execution_count": 14,
     "metadata": {},
     "output_type": "execute_result"
    }
   ],
   "source": [
    "clusters_list[0].keys()"
   ]
  },
  {
   "cell_type": "markdown",
   "metadata": {},
   "source": [
    "Processing all the information we have collected so far into Document objects that will be fed into the vector store."
   ]
  },
  {
   "cell_type": "code",
   "execution_count": 15,
   "metadata": {},
   "outputs": [],
   "source": [
    "cluster_paras = [] # to process into smaller chunks\n",
    "cluster_summ_docs = [] # filled with the cluster summaries langchain doc type\n",
    "\n",
    "for cluster in clusters_list:\n",
    "    \n",
    "    cluster_para = cluster[\"union_paras\"]\n",
    "    cluster_summ = cluster[\"cluster_summary\"]\n",
    "    \n",
    "    cluster_paras.append(cluster_para)\n",
    "    cluster_summ_docs.append(Document(page_content=cluster_summ, metadata={\"cluster\": cluster[\"cluster\"],\n",
    "                                                                            \"type\": \"summary\"}))"
   ]
  },
  {
   "cell_type": "code",
   "execution_count": 16,
   "metadata": {},
   "outputs": [],
   "source": [
    "from langchain_text_splitters import RecursiveCharacterTextSplitter\n",
    "\n",
    "splitter = RecursiveCharacterTextSplitter(chunk_size=450, \n",
    "                                        chunk_overlap=35,\n",
    "                                        length_function=len,\n",
    "                                        is_separator_regex=False)"
   ]
  },
  {
   "cell_type": "code",
   "execution_count": 17,
   "metadata": {},
   "outputs": [],
   "source": [
    "cluster_paras_docs = []\n",
    "for cluster_union in cluster_paras:\n",
    "    cluster_union_docs = splitter.split_text(cluster_union)\n",
    "    cluster_paras_docs.append(cluster_union_docs)"
   ]
  },
  {
   "cell_type": "code",
   "execution_count": 18,
   "metadata": {},
   "outputs": [
    {
     "data": {
      "text/plain": [
       "54"
      ]
     },
     "execution_count": 18,
     "metadata": {},
     "output_type": "execute_result"
    }
   ],
   "source": [
    "len(cluster_paras_docs[0])"
   ]
  },
  {
   "cell_type": "code",
   "execution_count": 19,
   "metadata": {},
   "outputs": [],
   "source": [
    "cluster_chunks = []\n",
    "i = 0\n",
    "while i < len(cluster_paras_docs):  \n",
    "    curr_cluster = cluster_paras_docs[i]\n",
    "    for cluster_chunk in curr_cluster:\n",
    "        cluster_chunks.append(Document(page_content=cluster_chunk, metadata={\"cluster\": i,\n",
    "                                                                                \"type\": \"cluster_chunk\"}))\n",
    "    i += 1\n"
   ]
  },
  {
   "cell_type": "code",
   "execution_count": 20,
   "metadata": {},
   "outputs": [],
   "source": [
    "augmented_table_chunks = []\n",
    "table_descriptions_chunks = []\n",
    "html_tables_chunks = []\n",
    "\n",
    "for table in processed_tables:\n",
    "    augmented_chunk = table[\"table_augmented_context\"]\n",
    "    augmented_table_chunks.append(Document(page_content=augmented_chunk, metadata={\"type\": \"augmented_table\"}))\n",
    "    \n",
    "    description_chunk = table[\"table_context\"]\n",
    "    table_descriptions_chunks.append(Document(page_content=description_chunk, metadata={\"type\": \"description_table\"}))\n",
    "    \n",
    "    html_chunk = table[\"table_html\"]\n",
    "    html_tables_chunks.append(Document(page_content=html_chunk, metadata={\"type\": \"html_table\"}))\n",
    "    \n"
   ]
  },
  {
   "cell_type": "markdown",
   "metadata": {},
   "source": [
    "Overall we have:\n",
    "\n",
    "- The individual text chunks.\n",
    "- The clusters summaries chunks.\n",
    "- The augmented table chunks.\n",
    "- The table descriptions chunks.\n",
    "- The html tables chunks.\n"
   ]
  },
  {
   "cell_type": "code",
   "execution_count": 21,
   "metadata": {},
   "outputs": [
    {
     "data": {
      "text/plain": [
       "Document(metadata={'cluster': 0, 'type': 'cluster_chunk'}, page_content=\"PROCES VERBAL\\n\\n\\n\\n L'an deux mille vingt et un, le 28 octobre à 18 h 00, les conseillers communautaires de Roannais Agglomération, se sont réunis à l\\x92Espace Chorum \\x96 Halle Vacheresse \\x96 Rue des Vernes à Roanne.\\n\\n\\n\\n La convocation de tous les conseillers a été faite le 22 octobre 2021, dans les formes et délais prescrits par la loi, par Yves Nicolin, Président.\\n\\n\\n\\n # Etaient présents :\")"
      ]
     },
     "execution_count": 21,
     "metadata": {},
     "output_type": "execute_result"
    }
   ],
   "source": [
    "cluster_chunks[0]"
   ]
  },
  {
   "cell_type": "code",
   "execution_count": 22,
   "metadata": {},
   "outputs": [
    {
     "data": {
      "text/plain": [
       "Document(metadata={'cluster': 0, 'type': 'summary'}, page_content='## Summary of Roannais Agglomération meeting minutes\\n\\nThis document summarizes prominent decisions made by the Roannais Agglomération council meeting on October 28, \\n\\n\\n**Administrative Matters:**\\n\\nThe meeting was convened on October \\n\\n**Appoval of the Budget modificative \\n\\n\\n* Budget allocation for \"Réorganisation collecte déchets ménagère\"\\n\\n    \\n* Adjustment of contributions\\n    \\n\\n\\n**Meetings and Participatinate\\n\\nThe meeting was attended by numerous councilors \\n**Organization**\\n\\n* \\n\\n*   Rôle de \\n* Débat:\\n**Actions to be taken\\nThe council\\n\\n\\n **Future Plans\\n *  \\n\\n\\n** Reports\\n*\\n **Contact information\\n\\n**Elections\\n*   \\n**Announcement\\n\\n##\\n\\nThis document summarizes the main points discussed at a meeting of the Roannais Agglomération council on  \\n\\n* \\n\\n*\\n\\n\\n**Decisions:\\n\\n\\n**Participants:**\\n\\n* Chair: Yves Nicolin\\n\\n\\nThis document provides a summary of  \\n\\n\\n**Budget**:\\n*   *\\n\\n\\nInformation on\\n\\n\\n*\\n\\n\\n**Future Decisions:\\n\\n*\\n\\n**Meeting minutes provide a summary\\n\\n\\n\\nLe \\n**\\n\\n**Contact information not available\\n\\n\\n*\\n\\n **Announcement:**\\n\\n\\n\\nThe minutes of the Roannais\\n\\n*\\n\\n**Reports:\\n\\n**\\n\\n**Financial Decisions:\\n\\n**Reports:**\\n\\n**Communication:\\n* \\n\\n**Actions\\n\\n\\n\\nThis document\\n\\n\\n**Election\\n\\n**\\n## Meeting :\\n\\n*\\n\\n\\n## Actions\\n\\n\\n\\nActions to be taken\\n\\n*\\n\\n\\n**Contacts:\\n*\\n\\n\\n**Future plans\\n\\n**\\n\\n*\\n\\n\\n**Decisions:\\n\\n**Announcement =  \\n\\n**organization chart:\\n\\n*\\n\\n**Financial decisions:\\n\\n\\n\\n\\n\\n\\n\\n**,\\n\\n\\n\\nThe minutes of the\\n\\n\\n**\\n\\n \\n\\n\\n**Contact:\\n*\\n\\n**Meeting minutes:\\n\\n\\n**Action :\\n\\n\\n**Organization chart\\n*\\n\\n\\n\\n**Elections\\n*\\n\\n\\n**Decisions:\\n\\n\\n**Contacts:\\n\\n\\n\\nThe \\n\\n\\n**Information\\n\\n**Future plans:\\n\\n\\n\\n*Decisions:\\n\\n**\\n\\n**Organisation :\\n*Organization chart: \\n\\n**Financial matters\\n\\n\\n**\\n\\n**Action items:\\n\\n\\n**ANNOUNCEMENT\\n\\n\\n**\\n\\n**Meeting minutes:\\n\\n\\n\\n**Contacts:\\n\\n**Information about\\n\\n**Future plans:\\n\\n\\n\\n*Decisions: \\n\\n**Organisation:\\n*\\n*Organisations:\\n\\n*\\n\\n**Communication\\n\\n\\n\\nThe\\n\\n**Contact :\\n\\n\\n**\\n\\n**Decision\\n\\n**Announcements:\\n\\n** Future of\\n**Organization chart:\\n\\n**Meeting minutes:\\n\\n\\n\\n*Summary of decisions:\\n\\n**Reports:\\n\\n\\n\\n**Future  plans for\\n\\n\\n**\\n**\\n\\n**Organization chart\\n*\\n\\n**Financial decisions\\n\\n\\n**\\n*\\n\\n**Decisions\\n*Organizational chart\\n\\n\\n**Organization chart\\n\\n\\n\\n\\n\\n**Future plans\\n\\n**Election info\\n\\n\\n**Meeting minutes\\n\\n*\\n\\n**Communication:\\n\\n\\n\\n*\\n\\n**Announcements:\\n\\n\\n**Communication\\n\\n\\n**\\n\\n*Organisation\\n\\n**Announcements:\\n\\n\\n**\\n**Financial\\n\\n** \\n\\n\\n* decisiones:\\n\\n**Decision chart:\\n\\n\\n\\n**Organizations:\\n\\n\\n\\nThe\\n\\n*Organization chart\\n\\n**Minutes\\n\\n\\n\\n**\\n\\n*Organisation chart:\\n\\n\\n\\n**Communications:\\n\\n\\n**Financial decisions:\\n\\n\\n\\n**\\n\\n**Organization chart\\n\\n\\n\\n**Des\\n\\n\\n\\n**Organization chart\\n\\n\\n\\n**Organisation chart:\\n\\n\\n\\n**Discussion:\\n\\n**Organization\\n\\n\\n\\n\\n\\n\\n\\nThe document summaries\\n\\n\\n# Announcements:\\n\\n**Meeting minutes\\n\\n\\n\\n*Organization chart\\n\\n**Financial decisions:\\n\\n\\n\\n\\n\\n\\n\\n\\n*Organisation chart\\n\\n**Organization chart\\n\\n\\n\\n**\\n\\n**Organization chart\\n\\n\\n\\n**Decisions:\\n\\n\\n\\n**Future plans\\n\\n\\n\\n**Decisions:\\n\\n\\n\\n**Organizations\\n\\n**Organization chart\\n\\n\\n\\n**Announcements:\\n\\n\\n\\n*Organization chart\\n\\n\\n\\n**Communication:\\n\\n\\n\\n\\n\\n\\n\\n\\n*\\n\\n**Communication:\\n\\n**Organization chart\\n\\n\\n\\n**Discussions \\n\\n\\n\\n* Организацион chart\\n\\n\\n**Organization chart\\n\\n**Decisions chart\\n\\n\\n\\n**Organization chart\\n\\n\\n\\n**Organization chart\\n\\n*\\n\\n**\\n**Organization chart\\n\\n**Decisions:\\n\\n\\n\\n* **Decisions:\\n\\n\\n\\n**Announcements:\\n\\n**Organization chart\\n\\n\\n\\n* **Decisions:\\n\\n\\n\\n*\\n\\n**\\n\\n**Organization chart\\n\\n\\n\\n**\\n**Organizations:\\n\\n\\n\\n**Organization chart\\n\\n\\n\\n**\\n\\n**Organization chart\\n\\n\\n\\n\"\\n\\n\\n*Organizations:\\n\\n**Discussions:\\n\\n\\n\\n**Future plans\\n\\n\\n\\n**Organization chart\\n\\n\\n\\n** décisions\\n\\n**Organization chart\\n\\n**Decisions:\\n\\n\\n\\n*\\n\\n\\n**Organisation chart:**\\n\\n\\n\\n**Organization chart\\n\\n\\n\\n**\\n\\n**Organization chart\\n\\n\\n\\n**\\n\\n\\n* **Organization\\n\\n\\n**\\n\\n**Decision\\n\\n\\n\\n*Organization chart\\n\\n\\n\\n\\n* **\\n\\n**\\n\\n\\n\\n**\\n\\n**\\n\\n**\\n\\n\\n\\nWe tried to automate\\n\\n\\n\\n*Organization chart\\n\\n\\n\\n**Organizational chart\\n\\n\\n\\n* **Organization\\n\\n\\n\\n\\n\\n\\n\\n\\n\\n\\n**Communiçao\\n\\n\\n\\n**Organization chart\\n\\n\\n**Organizations:\\n\\n**\\n\\n\\n*Organization chart\\n\\n\\n\\n**Organization chart\\n\\n\\n\\n**\\n\\n\\n\\n **Organization\\n\\n\\n**\\n\\n**Organization chart\\n\\n\\n\\n* **\\n\\n**Decisions:\\n\\n\\n\\n*\\n\\n\\n\\n**Organization chart\\n\\n\\n\\n** organisasi\\n\\n\\n\\n** Decision chart\\n\\n\\n\\n**\\n\\n\\n\\n**Decisions:\\n\\n\\n\\n*\\n\\n\\n\\n** organisasi\\n\\n\\n\\n**organization chart\\n\\n**Communication:\\n\\n\\n\\n **Organization chart\\n\\n\\n\\n**Decisions:\\n\\n\\n\\n* **Organization chart\\n\\n\\n**\\n\\n\\n**Organization chart\\n\\n\\n\\n* **Organization chart\\n\\n\\n\\n**Decision\\n\\n**Organization chart\\n\\n\\n\\n**Decisions:\\n\\n\\n\\n*\\n\\n**\\n\\n**Organization chart\\n\\n\\n\\n*\\n\\n\\n*\\n\\n\\n**Organization chart\\n\\n\\n\\n* **Organization chart\\n\\n\\n\\n**\\n\\n**Decision\\n\\n**Organiz\\n\\n\\n\\n*\\n\\n\\n\\n**Organization:\\n\\n\\n\\n* **Organization chart\\n\\n\\n\\n**Organizations:\\n\\n\\n\\n**Organization chart\\n\\n\\n\\n**\\n\\n**Organization chart\\n\\n\\n\\n**Decisions:\\n\\n\\n\\n*\\n\\n\\n\\n Organization chart\\n\\n\\n\\n**Organization chart\\n\\n\\n\\n**\\n\\n## Administrative Decisions:\\n\\n\\n\\n**Organization chart\\n\\n\\n\\n* **Organization chart\\n\\n\\n\\n**decisions:\\n\\n\\n\\n* **Organization chart\\n\\n\\n\\n**Decisions:\\n\\n\\n\\n*\\n\\n\\n**Organization chart\\n\\n\\n\\n**Decisions:\\n\\n\\n**Organization chart\\n\\n\\n\\n**\\n\\n\\n**Organization chart\\n\\n\\n\\n**\\n\\n**Organization chart\\n\\n\\n\\n**Organization chart\\n\\n\\n\\n**Decisions:\\n\\n\\n\\n*\\n\\n\\n**Organization chart\\n\\n\\n\\n**\\n\\n**Organization chart\\n\\n\\n\\n* **Organizational chart\\n\\n\\n\\n**\\n\\n\\n\\n**Organization chart\\n\\n\\n\\n**Organization chart\\n\\n\\n\\n* **Decisions:\\n\\n\\n\\n*Organization chart\\n\\n\\n\\n* **Organization chart\\n\\n\\n\\n**\\n\\n\\n**Organization chart\\n\\n\\n\\n* **Organization chart\\n\\n\\n\\n* **Organization chart\\n\\n\\n\\n**\\n\\n**Organization chart\\n\\n\\n\\n**\\n\\n**\\n\\n\\n\\n**\\n\\n**Organization chart\\n****Organization chart\\n\\n\\n\\n*\\n\\n\\n\\n**Organization chart\\n\\n\\n\\n**Decision \\n\\n\\n**Organization chart\\n\\n\\n\\n**\\n\\n\\n\\n**Organization chart\\n\\n\\n\\n**Decisions:\\n\\n\\n\\n2021\\n\\n\\n\\n**\\n\\n**\\n\\n\\n\\n**\\n\\n\\n**Organization \\n\\n**\\n\\n**\\n**\\n\\n**\\n\\n**\\n\\n\\n\\n**Organization chart\\n\\n\\n\\n* **Organization chart\\n\\n\\n\\n[**\\n\\n*\\n\\n**Organization chart\\n\\n\\n\\n**\\n\\n\\n\\n\\n\\n\\n\\n\\n* **Organization cart\\n\\n\\n\\n**organization chart\\n\\n\\n\\n* **Organization chart\\n\\n\\n\\n**\\n\\n\\n\\n* **Decision\\n\\n\\n*\\n\\n\\n*Organization chart\\n\\n\\n\\n**Decision\\n\\n**Organization chart\\n\\n\\n\\n* **\\n\\n**Organization chart\\n\\n\\n\\n**Organization chart\\n\\n\\n\\n* **Organization chart\\n\\n\\n\\n**Decisions:\\n\\n\\n\\n* **Organization chart\\n\\n\\n\\n*\\n\\n\\n\\n**\\n\\n\\n\\n**Organization chart\\n\\n\\n* **Organization chart\\n\\n\\n\\n* **Organization chart\\n\\n\\n\\n**\\n\\n\\n\\n**\\n\\n**\\n\\n\\n\\n**\\n\\n**\\n\\n\\n\\n*Organization chart\\n\\n\\n\\n* **Organization chart\\n\\n\\n\\n**\\n\\n\\n\\n**\\n\\n\\n\\n* **\\n\\n*Organization chart\\n\\n\\n* **Organization chart\\n\\n\\n\\n* **Organization chart\\n\\n\\n\\n* **Organisa\\n\\n\\n\\n*\\n\\n\\n*Organization cart\\n\\n\\n* **\\n\\n\\n**Organization chart\\n\\n\\n\\n* **Organization chart\\n\\n\\n\\n**Decisions\\n\\n**\\n\\n\\n\\n**\\n\\n**\\n\\n**Organization chart\\n\\n**\\n\\n\\n\\n* **Org\\n\\n\\n\\n*\\n\\n**Organizational chart\\n\\n**\\n **Organization chart\\n\\n\\n\\n**\\n\\n\\n* **\\n\\n\\n\\n\\n*Organization chart\\n\\n\\n\\n**\\n\\n**\\n\\n\\n\\n**Organization chart\\n\\n\\n\\n**\\n\\n\\n**Organization chart\\n\\n\\n\\n**\\n\\n\\n**Organization chart\\n\\n\\n\\n* **Organization chart\\n\\n\\n\\n**\\n\\n\\n\\n**\\n\\n**\\n\\n**\\n\\n\\n\\n**Organization chart\\n\\n\\n\\n**\\n\\n**Organization chart\\n\\n\\n\\n**\\n\\n**Organization chart\\n\\n\\n\\n**\\n\\n\\n**Organization chart\\n\\n\\n\\n*\\n\\n**\\n\\n**Organization chart\\n\\n\\n\\n**\\n\\n**Organization chart\\n\\n\\n\\n**\\n\\n**\\n\\n\\n\\n**Organizational chart\\n\\n****Organization\\n\\n\\n* **Organization\\n\\n\\n*\\n\\n\\n\\n**Organization chart\\n\\n\\n\\n**\\n\\n\\n\\n**\\n\\n\\n* **Organization chart\\n\\n\\n\\n*\\n\\n\\n**Organization chart\\n\\n\\n\\n**\\n\\n\\n* **Organization chart\\n\\n\\n\\n**\\n\\n**Organization chart\\n\\n\\n\\n**\\n\\n**\\n\\n**\\n\\n\\n**\\n\\n\\n*\\n\\n\\n\\n**Organization chart\\n\\n\\n\\n**\\n\\n\\n* **Organization chart\\n\\n\\n\\n**\\n\\n\\n\\n**Organization chart\\n\\n\\n\\n**\\n\\n\\n* **Organization chart\\n\\n\\n\\n* **\\n\\n**\\n\\n\\n\\n**\\n\\n\\n**\\n\\n\\n\\nThe document is missing or\\n\\n\\n\\n* **Organization chart\\n\\n\\n\\n**\\n\\n\\n\\n**Organization chart\\n\\n\\n\\n**\\n\\n**Organization chart\\n\\n\\n\\n**\\n\\n**\\n\\n\\n\\n* **Organization chart\\n\\n\\n\\n**\\n\\n\\n**Organizational chart\\n\\n\\n\\n* **Organization chart\\n\\n\\n\\n**\\n\\n\\n\\n**\\n\\n**Organizations\\n\\n\\n* **\\n\\n\\n* **Organization chart\\n\\n\\n\\n* **Organization chart\\n\\n\\n\\n* **\\n\\n\\n\\n**\\n\\n\\n**Organization\\n\\n**\\n\\n**Organization chart\\n\\n\\n\\n**\\n\\n\\n\\n**Organization chart\\n\\n\\n\\n**\\n\\n\\n* **\\n\\n**\\n\\n\\n\\n**Organization chart\\n\\n\\n\\n**\\n\\n**\\n\\n\\n\\n* **\\n\\n** organization chart\\n\\n**\\n\\n\\n**Organization chart\\n\\n\\n\\n**\\n\\n\\n\\n**Organization chart\\n\\n\\n\\n**\\n\\n\\n* **Organization chart\\n\\n\\n\\n*\\n\\n\\n**Organization chart\\n\\n\\n\\n**\\n\\n\\n**\\n\\n\\n* **Organization chart\\n\\n\\n\\n* **Organization chart\\n\\n\\n\\n**\\n\\n\\n\\n**Organization chart\\n\\n\\n\\n**\\n\\n\\n\\n**\\n\\n\\n* **Organization chart\\n\\n\\n\\n**\\n\\n**\\n\\n**\\n\\n\\n* **Organization chart\\n\\n\\n\\n**\\n\\n\\n*\\n\\n**\\n\\n\\n**Organization chart\\n\\n\\n\\n**\\n\\n\\n**Organization chart\\n\\n\\n\\n* **Organization chart\\n\\n\\n\\n**\\n\\n\\n* **Organization chart\\n\\n\\n\\n* **Organization chart\\n\\n\\n\\n**\\n\\n\\n\\n\\n**\\n\\n**Organization chart\\n\\n\\n\\n**\\n\\n**Organization\\n\\n\\n\\n\\n\\n\\n\\n\\n\\nThe document\\n\\n\\n* **Organization chart\\n\\n\\n\\n* **Organization chart\\n\\n\\n\\n**\\n\\n**Organization chart\\n\\n\\n\\n**\\n\\n**Organization chart\\n\\n\\n\\n**\\n\\n\\n* **Organization chart\\n\\n\\n\\n**\\n\\n**\\n\\n\\n* **Organization chart\\n\\n\\n\\n**\\n\\n**Organization chart\\n\\n\\n\\n**\\n\\n\\n\\n**Organization chart\\n\\n\\n\\n**\\n\\n\\n* **Organization chart\\n\\n\\n\\n**\\n\\n**\\n\\n... \\n\\n\\n\\n**Organizing **Administration\\n\\n**Organization chart\\n\\n\\n\\n* **Organization chart\\n\\n\\n\\n**\\n\\n**Organization chart\\n\\n\\n\\n**\\n\\n**\\n\\n\\n**Organization chart\\n\\n\\n\\n**Organization chart\\n\\n\\n\\n* **Organization chart\\n\\n\\n\\nB\\n\\n\\n* **Organization chart\\n\\n\\n* **Organization chart\\n\\n\\n\\n**\\n\\n\\n* **Organization chart\\n\\n\\n\\n* **Organization chart\\n\\n\\n\\n**\\n\\n\\n\\n**Organization chart\\n\\n\\n\\n**\\n\\n**\\n\\n**Organization chart\\n\\n\\n\\n* **Organization chart\\n\\n\\n\\n**\\n\\n\\n\\nThe document\\n\\n**Organization chart\\n\\n\\n\\n**\\n\\n**\\n\\n\\n\\n* **Organization chart\\n\\n\\n\\n*\\n\\n\\n...\\n\\n\\n**Organization chart\\n\\n\\n\\n**\\n\\n**Organization chart\\n\\n\\n\\n* **Organization chart\\n\\n\\n\\n****************** | Organisation\\n\\n**Organization chart\\n\\n\\n\\n**\\n##\\n\\n**organisation\\n\\n\\n\\n**Organization chart\\n\\n\\n\\n**Organization chart\\n\\n\\n\\n**Organization chart\\n\\n\\n\\n**Organization chart\\n\\n\\n\\n**\\n\\n\\n**Organization chart\\n\\n\\n\\n* **\\n\\n\\n**Organization chart\\n\\n\\n\\n**\\n\\n\\n* **Organization chart\\n\\n\\n\\n**\\n\\n**Organization chart\\n\\n\\n\\n**\\n\\n\\n* **Organization chart\\n\\n\\n\\n** ORGANIZATION\\n\\n**Organization chart\\n\\n\\n\\n**\\n\\n\\n**Organization chart\\n\\n\\n\\n**\\n\\n\\n* **Organi\\n\\n\\n\\n**Organization chart\\n\\n\\n\\n**\\n\\n**\\n\\n\\n**Organization chart\\n\\n\\n\\n* **Organization cart\\n\\n\\n\\n**\\n\\n**\\n\\n\\n* **Organization chart\\n\\n\\n\\n**\\n\\n\\n**Organization chart\\n\\n\\n\\n**\\n\\n\\n\\n**\\n\\n**\\n\\n\\n* **Organization chart\\n\\n\\n\\n**Organization chart\\n\\n\\n\\n**\\n\\n**Organizations\\n\\n\\n\\n**\\n\\n\"\\n\\n\\nThis summary.\\n\\n\\n\\n**\\n\\n**Organization chart\\n\\n\\n\\n**\\n\\n**\\n\\n**\\n\\n\\n**Organization  ^Organizational\\n\\n**\\n\\n\\n**\\n\\n\\n**Organization chart\\n\\n\\n\\n**\\n\\n\\n\\n**\\n\\n\\n\\n**Organization chart\\n\\n\\n\\n**\\n\\n\\n\\n**Organization chart\\n\\nThis document\\n\\n\\n\\n**\\n\\n\\n**Organization chart\\n\\n\\n\\n\\n  Organization chart\\n\\n\\n\\n**Organization chart\\n\\n\\n\\nThis document s\\n\\n\\n**Organization chart\\n\\n\\n\\n**\\n\\n\\n**Organization chart\\n\\n\\n\\n*\\n\\n**\\n\\n\\n**Organization chart\\n\\n\\n\\n**Organization chart\\n\\n\\n\\n**\\n\\n\\n\\nThis document\\n\\n\"\\n\\n\\n\\n\\nThis\\n\\n\\n\\n**Organization chart\\n\\n\\n\\n**Organization\\n\\n\\n*\\n\\n\\n\\n**Organization chart\\n\\n\\n\\n**\\n\\n\\n\\n**Organization \\n\\n\\n\\n\\nThis\\n\\n\\n\\n**Organization chart\\n\\n\\n\\n\\n\\n**Organization chart\\n\\n\\n\\n**Organization chart\\n\\n\\n\\n**\\n\\n\\n\\n**Organization chart\\n\\n\\n\\n*\\n\\n\\n\\n**Organization s\\n\\n\\n\\n**Organization chart\\n\\n\\n**Organization chart\\n\\n\\n\\n**Organization chart\\n\\n\\n\\n**\\n\\n\\n**Organization chart\\n\\n\\n\\n**\\n\\n\\nThis document\\n\\n\\n\\n**\\n\\nThis document\\n\\n\\n\\n\\n\\n\\n\\n\\n***Organisation\\n\\n\\n\\n\\nThis\\n\\n\\n\\n**\\n\\n\\n\\n\\n\\n\\n**\\n\\n\\n\\n**Organization chart\\n\\n\\n\\n**\\n\\n**Organization chart\\n\\n\\n\\n**\\n\\n\\n**\\n\\n\\n**Organization chart\\n\\n\\n\\n**Organization chart\\n\\n\\n\\n**\\n\\n\\n**Organization chart\\n\\n\\n\\nThis document\\n\\n\\n**\\n\\n\\n**Organization chart\\n\\n**\\n\\n\\n**Organization chart\\n\\n\\n\\n**Organization chart\\n\\n\\n\\n**\\n\\n\\n**Organization chart\\n\\n\\n\\n\\nThis document\\n\\n\\n\\n**\\n\\n**\\n\\n\\n**Organization chart\\n\\n\\n\\n**\\n\\n**\\n\\n\\n\\n**Organization chart\\n\\n\\n\\n**\\n\\n\\n\\n\\n**\\n\\n\\n\\n**Organization chart\\n\\n\\n\\n**\\n\\n**\\n\\n**Organization chart\\n\\n\\n\\n**\\n\\n\\n**Organization chart\\n\\n\\n\\n**\\n\\n**\\n\\n**Organization chart\\n\\n\\n\\n**\\n\\n**Organization chart\\n\\n\\n\\n**\\n\\n\\n\\n**Organization\\n\\n\\n\\n\\nThis document\\n\\n\\n\\n**\\n\\n\\n**Organization chart\\n\\n\\n\\n**\\n\\n**\\n**\\n\\n**Organization chart\\n\\n\\n\\nThis\\n\\n**\\n\\n\\n\\n\\n\\n\\n**Organization chart\\n\\n\\n\\n**\\n\\n**\\n\\n\\n**Organization chart\\n\\n\\n\\n**Organization chart\\n\\n\\n\\n**\\n\\n\\n**Organization chart\\n\\n\\n\\n**\\n\\n\\n**Organization chart\\n\\n\\n\\n**\\n\\n**\\n\\n\\n**Organization chart\\n\\n\\n\\n**\\n\\n\\n\\n**\\n\\n**\\n\\n**\\n\\n\\n**Organization chart\\n\\n\\n\\n**\\n\\n\\n\\n**\\n\\n**\\n\\n**\\n\\n\\n**Organization chart\\n\\n\\n\\n**\\n\\n**\\n\\n**\\n\\n**\\n\\n**\\n\\n\\n**Organization chart\\n\\n**\\n\\n\\n\\n**\\n\\n\\n**\\n\\n\\n\\n**Organization chart\\n\\n\\n\\n**\\n\\n\\n**Organization chart\\n\\n\\n\\n**Organization chart\\n\\n\\n\\n**\\n\\n**\\n\\n\\n**Organization\\n\\n**\\n\\n**Organization chart\\n\\n**\\n\\n\\n\\n**Organization chart\\n\\n\\n\\n**\\n\\n\\n#\\n\\n *Organization chart\\n\\n\\n\\n\\n\\n\\nThis document\\n\\n\\n\\n**Organization chart\\n\\n\\n\\n**Organization ct\\n\\n\\n\\n**Organization chart\\n\\n\\n\\n**\\n\\n\\n**Organization chart\\n\\n\\n\\n**\\n\\n\\n**Organization chart\\n\\n\\n\\n**\\n\\n**\\n\\n\\n**Organization chart\\n\\n\\n\\n\\n**Organization chart\\n\\n\\n\\n**\\n\\n\\n\\n\\n**\\n\\n\\n**Organization chart\\n\\n\\n\\n**\\n\\n\\n**Organization chart\\n\\n\\n\\n**\\n\\n\\n\\n**Organization chart\\n\\n\\n\\n**\\n\\n\\n**Organization chart\\n\\n\\n\\n**\\n\\n\\n**\\n\\n**Organization chart\\n\\n\\n\\n**\\n\\n\\n**Organization chart\\n\\n\\n\\n**\\n\\n\\n\\n**\\n\\n\\n**Organization\\n\\n\\n**\\n\\n\\n**Organization chart\\n\\n\\n\\n**\\n\\n\\n**Organization chart\\n\\n\\n\\n**\\n\\n\\n*\\n\\n\\n\\n*\\n\\n\\n**Organization chart\\n\\n\\n\\n**\\n\\n\\n this\\n\\n\\n\\n\"\\n\\n\\n\\nThis document\\n\\n\\n\\n** Organization\\n\\n\\nThis document\\n\\n\\n\\n**Organization chart\\n\\n\\n\\n**\\n\\n\\n**\\n\\n\\n**Organization chart\\n\\n\\n\\n**Organization chart\\n\\n**\\n\\n\\n\\n**Organization\\n\\n\\n**\\n\\n**\\n\\n\\n\\n**Organization chart\\n\\n\\n\\n**\\n\\n**\\n\\n\\n**Organization chart\\n\\n\\n\\n**\\n\\n**Organization chart\\n\\n\\n\\n**\\n\\n\\n**Organization chart\\n\\n\\n\\n**\\n\\n\\n\\n**\\n\\n\\n\\n1\\n\\n\\n\\n**Organization chart\\n\\n\\n\\n**\\n\\n**Organization\\n\\n\\n**\\n\\n\\n\\n**Organization chart\\n\\n\\n\\n**\\n\\n\\n**Organization\\n\\n**\\n\\n\\n\\n**\\n\\n\\n**Organization chart\\n\\n\\n\\n** \\n\\n\\n\\n**Organization chart\\n\\n\\n\\n**\\n\\n\\n\\n.**\\n\\n\\n\\n\\n\\n\\n**Organization\\n\\n**\\n\\n**\\n\\n\\n**Organization chart\\n\\n\\n\\n**Organization chart\\n\\n\\n\\n**\\n\\n\\n\\n**\\n\\n\\n**Organization\\n\\n\\n\\n**\\n\\n **Organization chart\\n\\n**\\n\\n**Organization chart\\n\\n\\n\\n**\\n\\n\\n\\nThis document\\n\\n\\n\\n**\\n\\n\\n\\n**\\n\\n**\\n\\n**\\n\\n\\n**Organization chart\\nThis\\n**Organization chart\\n\\n\\n\\n**\\n\\n\\n\\n**`\\n\\n\\n\\n**\\n\\n\\n**Organization\\nThis **Organization chart\\n\\n\\n\\n**\\n\\n\\n\\n**\\n\\n\\n**Organization chart\\n\\n\\n\\n**\\n\\n**\\n\\n**\\n\\n\\n\\n**\\n\\n*\\n\\n\\n\\n')"
      ]
     },
     "execution_count": 22,
     "metadata": {},
     "output_type": "execute_result"
    }
   ],
   "source": [
    "cluster_summ_docs[0]"
   ]
  },
  {
   "cell_type": "code",
   "execution_count": 23,
   "metadata": {},
   "outputs": [
    {
     "data": {
      "text/plain": [
       "Document(metadata={'type': 'augmented_table'}, page_content='Bien sûr, je suis là pour vous aider au mieux. Sur cette nouvelle photo du questionnaire, le tableau et la page ainsi que la légende proposent des informations semblables à celles que nous ayons connus sur le monde politique.\\n\\nBien sur, il faut porter une attention particulière sur l\\'élection, qui ne se présentait pas sous son nom dans notre précédent question. \\nContrairement à cela, les images ci-dessus sont en français, et ce qui peut marquer le contexte politique à l\\'heure actuelle est l\\'élection présidentielle, comme on peut le voir dans le lien ci-dessous qui commente l\\'élection du Président de la République française du 24 avril 2022 (Paris).\\n\\nC’est en effet la troisième, en moins d’un an. Il s’agit donc d’un scrutin d’exception. À commencer, ce n’est pas trop clair si la France est toujours respectera le fonctionnement de la constitution, qui donnait le droit à un mandat uniquement de cinq ans.\\n\\nDans notre cas, la précédente élection présidentielle est visible ici avec Pierre Barnet, qui est mentionné, et il est fort probable qu\\'il soit à l\\'heure actuelle le Président de la France.\\n\\nLa légende du tableau est claire quand on est à la connaissance de la date de la photo, nous pouvons y voir la désignation du budget qu\\'on déclara pour l\\'élection présidentielle.\\n\\nC\\'est effectivement un document électorale où se retrouve la date de la prochaine élection présidentielle qui serait dans ce cas au mois d\\'octobre de 2021.\\n\\nCe que j\\'entends par là est que les élections présidentielle se déroule habituellement pendant le premier dimanche du mois de mai, ces dernières années les élections sont décalées de 3 mois et se déroulent en octobre. On ne doute pas des dates prochaine dans les prochaines années. \\n\\nOn doit faire une attention particulière à l’argument central de ce texte, qui est le budget des élections et c’est des fonds de parti politique lié à la présence de Jean-paul Desombre, et d’Edmond Bourqueau, deux hommes politiques qui sont mentionnés comme présent en haut de la première page et qu\\'on peut y voir au rang de deuxième ligne et de troisième ligne.\\n\\nCes hommes politiques a font l’argument central qui fait le financement et de la répartition des budgets entre les différents côtés politiques présents pendant les élections, et de plus qui sont encore présents à l’heure actuelle.\\n\\nLe système de financement officiel des partis politiques en France se veut égalitaire, en effet une fois élu, un candidat obtient une allocution par le gouvernement en espèces pour le financement et financement institutionnel de leurs dépenses électorales.\\n\\nIl y a aussi une part relativement équitable entre les hommes et femmes qui évoluent en permanence, ils sont plus nombreux les candidats par leurs années au sens de la vie personnelle qu\\'ils aient.\\n\\nLe tableau qu\\'on voit ici est un détail des financement des différents candidats et nous on peut en voir une partie et c\\'est pour cela que nous avons posée l\\'attention particulière sur les noms et sur la date de la page. \\n\\nCi-dessous, vous pouvez voir d’autres photos que vous pouvez réellement s’apprécier.\\n\\n**Fin**\\n    \\nTableau au format html:\\n\\n<table>\\n <tr>\\n  <td colspan=\"1\" rowspan=\"1\">\\n   Absents\\n  </td>\\n  <td colspan=\"1\" rowspan=\"1\">\\n   Ni pouvoir\\n   <br/>\\n   Ni suppléant\\n  </td>\\n  <td colspan=\"1\" rowspan=\"1\">\\n   Suppléant\\n  </td>\\n  <td colspan=\"1\" rowspan=\"1\">\\n   Pouvoir donné à…\\n  </td>\\n </tr>\\n <tr>\\n  <td colspan=\"1\" rowspan=\"1\">\\n   Jean-Marc Ambroise\\n  </td>\\n  <td colspan=\"1\" rowspan=\"1\">\\n   X\\n  </td>\\n  <td colspan=\"1\" rowspan=\"1\">\\n  </td>\\n  <td colspan=\"1\" rowspan=\"1\">\\n  </td>\\n </tr>\\n <tr>\\n  <td colspan=\"1\" rowspan=\"1\">\\n   Laurence Boyer\\n  </td>\\n  <td colspan=\"1\" rowspan=\"1\">\\n  </td>\\n  <td colspan=\"1\" rowspan=\"1\">\\n   Yves Meunier\\n  </td>\\n  <td colspan=\"1\" rowspan=\"1\">\\n  </td>\\n </tr>\\n <tr>\\n  <td colspan=\"1\" rowspan=\"1\">\\n   Marie-France Catheland\\n  </td>\\n  <td colspan=\"1\" rowspan=\"1\">\\n  </td>\\n  <td colspan=\"1\" rowspan=\"1\">\\n  </td>\\n  <td colspan=\"1\" rowspan=\"1\">\\n   Muriel Marcellin\\n  </td>\\n </tr>\\n <tr>\\n  <td colspan=\"1\" rowspan=\"1\">\\n   Yves Chambost\\n  </td>\\n  <td colspan=\"1\" rowspan=\"1\">\\n  </td>\\n  <td colspan=\"1\" rowspan=\"1\">\\n  </td>\\n  <td colspan=\"1\" rowspan=\"1\">\\n   Clotilde Robin\\n  </td>\\n </tr>\\n <tr>\\n  <td colspan=\"1\" rowspan=\"1\">\\n   Aimé Combaret\\n  </td>\\n  <td colspan=\"1\" rowspan=\"1\">\\n   X\\n  </td>\\n  <td colspan=\"1\" rowspan=\"1\">\\n  </td>\\n  <td colspan=\"1\" rowspan=\"1\">\\n  </td>\\n </tr>\\n <tr>\\n  <td colspan=\"1\" rowspan=\"1\">\\n   Marie-Laure Dana Burnichon\\n  </td>\\n  <td colspan=\"1\" rowspan=\"1\">\\n  </td>\\n  <td colspan=\"1\" rowspan=\"1\">\\n  </td>\\n  <td colspan=\"1\" rowspan=\"1\">\\n   Edmond Bourgeon\\n  </td>\\n </tr>\\n <tr>\\n  <td colspan=\"1\" rowspan=\"1\">\\n   -\\n   <br/>\\n   Jean-Marc Detour\\n  </td>\\n  <td colspan=\"1\" rowspan=\"1\">\\n  </td>\\n  <td colspan=\"1\" rowspan=\"1\">\\n  </td>\\n  <td colspan=\"1\" rowspan=\"1\">\\n   Catherine Brun\\n  </td>\\n </tr>\\n <tr>\\n  <td colspan=\"1\" rowspan=\"1\">\\n   Daniel Fréchet\\n  </td>\\n  <td colspan=\"1\" rowspan=\"1\">\\n  </td>\\n  <td colspan=\"1\" rowspan=\"1\">\\n  </td>\\n  <td colspan=\"1\" rowspan=\"1\">\\n   Lucien Murzi\\n  </td>\\n </tr>\\n <tr>\\n  <td colspan=\"1\" rowspan=\"1\">\\n   Quentin Guillermin\\n  </td>\\n  <td colspan=\"1\" rowspan=\"1\">\\n   X\\n  </td>\\n  <td colspan=\"1\" rowspan=\"1\">\\n  </td>\\n  <td colspan=\"1\" rowspan=\"1\">\\n  </td>\\n </tr>\\n <tr>\\n  <td colspan=\"1\" rowspan=\"1\">\\n   Jean-Paul Heyberger\\n  </td>\\n  <td colspan=\"1\" rowspan=\"1\">\\n  </td>\\n  <td colspan=\"1\" rowspan=\"1\">\\n  </td>\\n  <td colspan=\"1\" rowspan=\"1\">\\n   Christelle Lattat\\n  </td>\\n </tr>\\n <tr>\\n  <td colspan=\"1\" rowspan=\"1\">\\n   Franck Maupetit\\n  </td>\\n  <td colspan=\"1\" rowspan=\"1\">\\n  </td>\\n  <td colspan=\"1\" rowspan=\"1\">\\n  </td>\\n  <td colspan=\"1\" rowspan=\"1\">\\n   Annie Gerenton\\n  </td>\\n </tr>\\n <tr>\\n  <td colspan=\"1\" rowspan=\"1\">\\n   Patrick Meunier\\n  </td>\\n  <td colspan=\"1\" rowspan=\"1\">\\n   X\\n  </td>\\n  <td colspan=\"1\" rowspan=\"1\">\\n  </td>\\n  <td colspan=\"1\" rowspan=\"1\">\\n  </td>\\n </tr>\\n <tr>\\n  <td colspan=\"1\" rowspan=\"1\">\\n   Nabih Nejjar\\n   <br/>\\n   (arrivé en cours de séance)\\n  </td>\\n  <td colspan=\"1\" rowspan=\"1\">\\n   X\\n  </td>\\n  <td colspan=\"1\" rowspan=\"1\">\\n  </td>\\n  <td colspan=\"1\" rowspan=\"1\">\\n  </td>\\n </tr>\\n <tr>\\n  <td colspan=\"1\" rowspan=\"1\">\\n   Gilles Passot\\n   <br/>\\n   (arrivé en cours de séance)\\n  </td>\\n  <td colspan=\"1\" rowspan=\"1\">\\n  </td>\\n  <td colspan=\"1\" rowspan=\"1\">\\n  </td>\\n  <td colspan=\"1\" rowspan=\"1\">\\n   Fabien Lambert\\n  </td>\\n </tr>\\n <tr>\\n  <td colspan=\"1\" rowspan=\"1\">\\n   Marcel Peuillon\\n  </td>\\n  <td colspan=\"1\" rowspan=\"1\">\\n   X\\n  </td>\\n  <td colspan=\"1\" rowspan=\"1\">\\n  </td>\\n  <td colspan=\"1\" rowspan=\"1\">\\n  </td>\\n </tr>\\n <tr>\\n  <td colspan=\"1\" rowspan=\"1\">\\n   Didier Prunet\\n  </td>\\n  <td colspan=\"1\" rowspan=\"1\">\\n  </td>\\n  <td colspan=\"1\" rowspan=\"1\">\\n  </td>\\n  <td colspan=\"1\" rowspan=\"1\">\\n   Christian Dupuis\\n  </td>\\n </tr>\\n <tr>\\n  <td colspan=\"1\" rowspan=\"1\">\\n   Vickie Redeuilh\\n  </td>\\n  <td colspan=\"1\" rowspan=\"1\">\\n  </td>\\n  <td colspan=\"1\" rowspan=\"1\">\\n  </td>\\n  <td colspan=\"1\" rowspan=\"1\">\\n   Hélène Lapalus\\n  </td>\\n </tr>\\n <tr>\\n  <td colspan=\"1\" rowspan=\"1\">\\n   Marie-Hélène Riamon\\n  </td>\\n  <td colspan=\"1\" rowspan=\"1\">\\n  </td>\\n  <td colspan=\"1\" rowspan=\"1\">\\n  </td>\\n  <td colspan=\"1\" rowspan=\"1\">\\n   Denis Vanhecke\\n  </td>\\n </tr>\\n <tr>\\n  <td colspan=\"1\" rowspan=\"1\">\\n   Corinne Troncy\\n  </td>\\n  <td colspan=\"1\" rowspan=\"1\">\\n  </td>\\n  <td colspan=\"1\" rowspan=\"1\">\\n  </td>\\n  <td colspan=\"1\" rowspan=\"1\">\\n   Maryvonne Loughraieb\\n  </td>\\n </tr>\\n <tr>\\n  <td colspan=\"1\" rowspan=\"1\">\\n   Isabelle Valcourt\\n  </td>\\n  <td colspan=\"1\" rowspan=\"1\">\\n  </td>\\n  <td colspan=\"1\" rowspan=\"1\">\\n  </td>\\n  <td colspan=\"1\" rowspan=\"1\">\\n   Jean-Luc Mardeuil\\n  </td>\\n </tr>\\n</table>')"
      ]
     },
     "execution_count": 23,
     "metadata": {},
     "output_type": "execute_result"
    }
   ],
   "source": [
    "augmented_table_chunks[0]"
   ]
  },
  {
   "cell_type": "code",
   "execution_count": 24,
   "metadata": {},
   "outputs": [
    {
     "data": {
      "text/plain": [
       "Document(metadata={'type': 'description_table'}, page_content=\"Bien sûr, je suis là pour vous aider au mieux. Sur cette nouvelle photo du questionnaire, le tableau et la page ainsi que la légende proposent des informations semblables à celles que nous ayons connus sur le monde politique.\\n\\nBien sur, il faut porter une attention particulière sur l'élection, qui ne se présentait pas sous son nom dans notre précédent question. \\nContrairement à cela, les images ci-dessus sont en français, et ce qui peut marquer le contexte politique à l'heure actuelle est l'élection présidentielle, comme on peut le voir dans le lien ci-dessous qui commente l'élection du Président de la République française du 24 avril 2022 (Paris).\\n\\nC’est en effet la troisième, en moins d’un an. Il s’agit donc d’un scrutin d’exception. À commencer, ce n’est pas trop clair si la France est toujours respectera le fonctionnement de la constitution, qui donnait le droit à un mandat uniquement de cinq ans.\\n\\nDans notre cas, la précédente élection présidentielle est visible ici avec Pierre Barnet, qui est mentionné, et il est fort probable qu'il soit à l'heure actuelle le Président de la France.\\n\\nLa légende du tableau est claire quand on est à la connaissance de la date de la photo, nous pouvons y voir la désignation du budget qu'on déclara pour l'élection présidentielle.\\n\\nC'est effectivement un document électorale où se retrouve la date de la prochaine élection présidentielle qui serait dans ce cas au mois d'octobre de 2021.\\n\\nCe que j'entends par là est que les élections présidentielle se déroule habituellement pendant le premier dimanche du mois de mai, ces dernières années les élections sont décalées de 3 mois et se déroulent en octobre. On ne doute pas des dates prochaine dans les prochaines années. \\n\\nOn doit faire une attention particulière à l’argument central de ce texte, qui est le budget des élections et c’est des fonds de parti politique lié à la présence de Jean-paul Desombre, et d’Edmond Bourqueau, deux hommes politiques qui sont mentionnés comme présent en haut de la première page et qu'on peut y voir au rang de deuxième ligne et de troisième ligne.\\n\\nCes hommes politiques a font l’argument central qui fait le financement et de la répartition des budgets entre les différents côtés politiques présents pendant les élections, et de plus qui sont encore présents à l’heure actuelle.\\n\\nLe système de financement officiel des partis politiques en France se veut égalitaire, en effet une fois élu, un candidat obtient une allocution par le gouvernement en espèces pour le financement et financement institutionnel de leurs dépenses électorales.\\n\\nIl y a aussi une part relativement équitable entre les hommes et femmes qui évoluent en permanence, ils sont plus nombreux les candidats par leurs années au sens de la vie personnelle qu'ils aient.\\n\\nLe tableau qu'on voit ici est un détail des financement des différents candidats et nous on peut en voir une partie et c'est pour cela que nous avons posée l'attention particulière sur les noms et sur la date de la page. \\n\\nCi-dessous, vous pouvez voir d’autres photos que vous pouvez réellement s’apprécier.\\n\\n**Fin**\")"
      ]
     },
     "execution_count": 24,
     "metadata": {},
     "output_type": "execute_result"
    }
   ],
   "source": [
    "table_descriptions_chunks[0]"
   ]
  },
  {
   "cell_type": "code",
   "execution_count": 25,
   "metadata": {},
   "outputs": [
    {
     "data": {
      "text/plain": [
       "Document(metadata={'type': 'html_table'}, page_content='Bien sûr, je suis là pour vous aider au mieux. Sur cette nouvelle photo du questionnaire, le tableau et la page ainsi que la légende proposent des informations semblables à celles que nous ayons connus sur le monde politique.\\n\\nBien sur, il faut porter une attention particulière sur l\\'élection, qui ne se présentait pas sous son nom dans notre précédent question. \\nContrairement à cela, les images ci-dessus sont en français, et ce qui peut marquer le contexte politique à l\\'heure actuelle est l\\'élection présidentielle, comme on peut le voir dans le lien ci-dessous qui commente l\\'élection du Président de la République française du 24 avril 2022 (Paris).\\n\\nC’est en effet la troisième, en moins d’un an. Il s’agit donc d’un scrutin d’exception. À commencer, ce n’est pas trop clair si la France est toujours respectera le fonctionnement de la constitution, qui donnait le droit à un mandat uniquement de cinq ans.\\n\\nDans notre cas, la précédente élection présidentielle est visible ici avec Pierre Barnet, qui est mentionné, et il est fort probable qu\\'il soit à l\\'heure actuelle le Président de la France.\\n\\nLa légende du tableau est claire quand on est à la connaissance de la date de la photo, nous pouvons y voir la désignation du budget qu\\'on déclara pour l\\'élection présidentielle.\\n\\nC\\'est effectivement un document électorale où se retrouve la date de la prochaine élection présidentielle qui serait dans ce cas au mois d\\'octobre de 2021.\\n\\nCe que j\\'entends par là est que les élections présidentielle se déroule habituellement pendant le premier dimanche du mois de mai, ces dernières années les élections sont décalées de 3 mois et se déroulent en octobre. On ne doute pas des dates prochaine dans les prochaines années. \\n\\nOn doit faire une attention particulière à l’argument central de ce texte, qui est le budget des élections et c’est des fonds de parti politique lié à la présence de Jean-paul Desombre, et d’Edmond Bourqueau, deux hommes politiques qui sont mentionnés comme présent en haut de la première page et qu\\'on peut y voir au rang de deuxième ligne et de troisième ligne.\\n\\nCes hommes politiques a font l’argument central qui fait le financement et de la répartition des budgets entre les différents côtés politiques présents pendant les élections, et de plus qui sont encore présents à l’heure actuelle.\\n\\nLe système de financement officiel des partis politiques en France se veut égalitaire, en effet une fois élu, un candidat obtient une allocution par le gouvernement en espèces pour le financement et financement institutionnel de leurs dépenses électorales.\\n\\nIl y a aussi une part relativement équitable entre les hommes et femmes qui évoluent en permanence, ils sont plus nombreux les candidats par leurs années au sens de la vie personnelle qu\\'ils aient.\\n\\nLe tableau qu\\'on voit ici est un détail des financement des différents candidats et nous on peut en voir une partie et c\\'est pour cela que nous avons posée l\\'attention particulière sur les noms et sur la date de la page. \\n\\nCi-dessous, vous pouvez voir d’autres photos que vous pouvez réellement s’apprécier.\\n\\n**Fin**\\n    \\nTableau au format html:\\n\\n<table>\\n <tr>\\n  <td colspan=\"1\" rowspan=\"1\">\\n   Absents\\n  </td>\\n  <td colspan=\"1\" rowspan=\"1\">\\n   Ni pouvoir\\n   <br/>\\n   Ni suppléant\\n  </td>\\n  <td colspan=\"1\" rowspan=\"1\">\\n   Suppléant\\n  </td>\\n  <td colspan=\"1\" rowspan=\"1\">\\n   Pouvoir donné à…\\n  </td>\\n </tr>\\n <tr>\\n  <td colspan=\"1\" rowspan=\"1\">\\n   Jean-Marc Ambroise\\n  </td>\\n  <td colspan=\"1\" rowspan=\"1\">\\n   X\\n  </td>\\n  <td colspan=\"1\" rowspan=\"1\">\\n  </td>\\n  <td colspan=\"1\" rowspan=\"1\">\\n  </td>\\n </tr>\\n <tr>\\n  <td colspan=\"1\" rowspan=\"1\">\\n   Laurence Boyer\\n  </td>\\n  <td colspan=\"1\" rowspan=\"1\">\\n  </td>\\n  <td colspan=\"1\" rowspan=\"1\">\\n   Yves Meunier\\n  </td>\\n  <td colspan=\"1\" rowspan=\"1\">\\n  </td>\\n </tr>\\n <tr>\\n  <td colspan=\"1\" rowspan=\"1\">\\n   Marie-France Catheland\\n  </td>\\n  <td colspan=\"1\" rowspan=\"1\">\\n  </td>\\n  <td colspan=\"1\" rowspan=\"1\">\\n  </td>\\n  <td colspan=\"1\" rowspan=\"1\">\\n   Muriel Marcellin\\n  </td>\\n </tr>\\n <tr>\\n  <td colspan=\"1\" rowspan=\"1\">\\n   Yves Chambost\\n  </td>\\n  <td colspan=\"1\" rowspan=\"1\">\\n  </td>\\n  <td colspan=\"1\" rowspan=\"1\">\\n  </td>\\n  <td colspan=\"1\" rowspan=\"1\">\\n   Clotilde Robin\\n  </td>\\n </tr>\\n <tr>\\n  <td colspan=\"1\" rowspan=\"1\">\\n   Aimé Combaret\\n  </td>\\n  <td colspan=\"1\" rowspan=\"1\">\\n   X\\n  </td>\\n  <td colspan=\"1\" rowspan=\"1\">\\n  </td>\\n  <td colspan=\"1\" rowspan=\"1\">\\n  </td>\\n </tr>\\n <tr>\\n  <td colspan=\"1\" rowspan=\"1\">\\n   Marie-Laure Dana Burnichon\\n  </td>\\n  <td colspan=\"1\" rowspan=\"1\">\\n  </td>\\n  <td colspan=\"1\" rowspan=\"1\">\\n  </td>\\n  <td colspan=\"1\" rowspan=\"1\">\\n   Edmond Bourgeon\\n  </td>\\n </tr>\\n <tr>\\n  <td colspan=\"1\" rowspan=\"1\">\\n   -\\n   <br/>\\n   Jean-Marc Detour\\n  </td>\\n  <td colspan=\"1\" rowspan=\"1\">\\n  </td>\\n  <td colspan=\"1\" rowspan=\"1\">\\n  </td>\\n  <td colspan=\"1\" rowspan=\"1\">\\n   Catherine Brun\\n  </td>\\n </tr>\\n <tr>\\n  <td colspan=\"1\" rowspan=\"1\">\\n   Daniel Fréchet\\n  </td>\\n  <td colspan=\"1\" rowspan=\"1\">\\n  </td>\\n  <td colspan=\"1\" rowspan=\"1\">\\n  </td>\\n  <td colspan=\"1\" rowspan=\"1\">\\n   Lucien Murzi\\n  </td>\\n </tr>\\n <tr>\\n  <td colspan=\"1\" rowspan=\"1\">\\n   Quentin Guillermin\\n  </td>\\n  <td colspan=\"1\" rowspan=\"1\">\\n   X\\n  </td>\\n  <td colspan=\"1\" rowspan=\"1\">\\n  </td>\\n  <td colspan=\"1\" rowspan=\"1\">\\n  </td>\\n </tr>\\n <tr>\\n  <td colspan=\"1\" rowspan=\"1\">\\n   Jean-Paul Heyberger\\n  </td>\\n  <td colspan=\"1\" rowspan=\"1\">\\n  </td>\\n  <td colspan=\"1\" rowspan=\"1\">\\n  </td>\\n  <td colspan=\"1\" rowspan=\"1\">\\n   Christelle Lattat\\n  </td>\\n </tr>\\n <tr>\\n  <td colspan=\"1\" rowspan=\"1\">\\n   Franck Maupetit\\n  </td>\\n  <td colspan=\"1\" rowspan=\"1\">\\n  </td>\\n  <td colspan=\"1\" rowspan=\"1\">\\n  </td>\\n  <td colspan=\"1\" rowspan=\"1\">\\n   Annie Gerenton\\n  </td>\\n </tr>\\n <tr>\\n  <td colspan=\"1\" rowspan=\"1\">\\n   Patrick Meunier\\n  </td>\\n  <td colspan=\"1\" rowspan=\"1\">\\n   X\\n  </td>\\n  <td colspan=\"1\" rowspan=\"1\">\\n  </td>\\n  <td colspan=\"1\" rowspan=\"1\">\\n  </td>\\n </tr>\\n <tr>\\n  <td colspan=\"1\" rowspan=\"1\">\\n   Nabih Nejjar\\n   <br/>\\n   (arrivé en cours de séance)\\n  </td>\\n  <td colspan=\"1\" rowspan=\"1\">\\n   X\\n  </td>\\n  <td colspan=\"1\" rowspan=\"1\">\\n  </td>\\n  <td colspan=\"1\" rowspan=\"1\">\\n  </td>\\n </tr>\\n <tr>\\n  <td colspan=\"1\" rowspan=\"1\">\\n   Gilles Passot\\n   <br/>\\n   (arrivé en cours de séance)\\n  </td>\\n  <td colspan=\"1\" rowspan=\"1\">\\n  </td>\\n  <td colspan=\"1\" rowspan=\"1\">\\n  </td>\\n  <td colspan=\"1\" rowspan=\"1\">\\n   Fabien Lambert\\n  </td>\\n </tr>\\n <tr>\\n  <td colspan=\"1\" rowspan=\"1\">\\n   Marcel Peuillon\\n  </td>\\n  <td colspan=\"1\" rowspan=\"1\">\\n   X\\n  </td>\\n  <td colspan=\"1\" rowspan=\"1\">\\n  </td>\\n  <td colspan=\"1\" rowspan=\"1\">\\n  </td>\\n </tr>\\n <tr>\\n  <td colspan=\"1\" rowspan=\"1\">\\n   Didier Prunet\\n  </td>\\n  <td colspan=\"1\" rowspan=\"1\">\\n  </td>\\n  <td colspan=\"1\" rowspan=\"1\">\\n  </td>\\n  <td colspan=\"1\" rowspan=\"1\">\\n   Christian Dupuis\\n  </td>\\n </tr>\\n <tr>\\n  <td colspan=\"1\" rowspan=\"1\">\\n   Vickie Redeuilh\\n  </td>\\n  <td colspan=\"1\" rowspan=\"1\">\\n  </td>\\n  <td colspan=\"1\" rowspan=\"1\">\\n  </td>\\n  <td colspan=\"1\" rowspan=\"1\">\\n   Hélène Lapalus\\n  </td>\\n </tr>\\n <tr>\\n  <td colspan=\"1\" rowspan=\"1\">\\n   Marie-Hélène Riamon\\n  </td>\\n  <td colspan=\"1\" rowspan=\"1\">\\n  </td>\\n  <td colspan=\"1\" rowspan=\"1\">\\n  </td>\\n  <td colspan=\"1\" rowspan=\"1\">\\n   Denis Vanhecke\\n  </td>\\n </tr>\\n <tr>\\n  <td colspan=\"1\" rowspan=\"1\">\\n   Corinne Troncy\\n  </td>\\n  <td colspan=\"1\" rowspan=\"1\">\\n  </td>\\n  <td colspan=\"1\" rowspan=\"1\">\\n  </td>\\n  <td colspan=\"1\" rowspan=\"1\">\\n   Maryvonne Loughraieb\\n  </td>\\n </tr>\\n <tr>\\n  <td colspan=\"1\" rowspan=\"1\">\\n   Isabelle Valcourt\\n  </td>\\n  <td colspan=\"1\" rowspan=\"1\">\\n  </td>\\n  <td colspan=\"1\" rowspan=\"1\">\\n  </td>\\n  <td colspan=\"1\" rowspan=\"1\">\\n   Jean-Luc Mardeuil\\n  </td>\\n </tr>\\n</table>')"
      ]
     },
     "execution_count": 25,
     "metadata": {},
     "output_type": "execute_result"
    }
   ],
   "source": [
    "html_tables_chunks[0]"
   ]
  },
  {
   "cell_type": "code",
   "execution_count": 40,
   "metadata": {},
   "outputs": [],
   "source": [
    "all_docs = cluster_chunks + cluster_summ_docs + augmented_table_chunks + table_descriptions_chunks + html_tables_chunks"
   ]
  },
  {
   "cell_type": "code",
   "execution_count": 41,
   "metadata": {},
   "outputs": [
    {
     "data": {
      "text/plain": [
       "286"
      ]
     },
     "execution_count": 41,
     "metadata": {},
     "output_type": "execute_result"
    }
   ],
   "source": [
    "len(all_docs)"
   ]
  },
  {
   "cell_type": "code",
   "execution_count": null,
   "metadata": {},
   "outputs": [],
   "source": [
    "from uuid import uuid4\n",
    "\n",
    "uuids = [str(uuid4()) for _ in range(len(all_docs))]"
   ]
  },
  {
   "cell_type": "code",
   "execution_count": 43,
   "metadata": {},
   "outputs": [],
   "source": [
    "# for doc in all_docs:\n",
    "#     print(type(doc))\n",
    "#     print(doc.metadata)\n",
    "#     print(doc.page_content)"
   ]
  },
  {
   "cell_type": "code",
   "execution_count": 45,
   "metadata": {},
   "outputs": [],
   "source": [
    "# help(vector_store.add_documents)"
   ]
  },
  {
   "cell_type": "code",
   "execution_count": 48,
   "metadata": {},
   "outputs": [
    {
     "data": {
      "text/plain": [
       "Document(metadata={'cluster': 0, 'type': 'cluster_chunk'}, page_content=\"PROCES VERBAL\\n\\n\\n\\n L'an deux mille vingt et un, le 28 octobre à 18 h 00, les conseillers communautaires de Roannais Agglomération, se sont réunis à l\\x92Espace Chorum \\x96 Halle Vacheresse \\x96 Rue des Vernes à Roanne.\\n\\n\\n\\n La convocation de tous les conseillers a été faite le 22 octobre 2021, dans les formes et délais prescrits par la loi, par Yves Nicolin, Président.\\n\\n\\n\\n # Etaient présents :\")"
      ]
     },
     "execution_count": 48,
     "metadata": {},
     "output_type": "execute_result"
    }
   ],
   "source": [
    "cluster_chunks[0]"
   ]
  },
  {
   "cell_type": "code",
   "execution_count": 49,
   "metadata": {},
   "outputs": [
    {
     "data": {
      "text/plain": [
       "'a76d7734-06a5-4b04-adc6-e139860bbcac'"
      ]
     },
     "execution_count": 49,
     "metadata": {},
     "output_type": "execute_result"
    }
   ],
   "source": [
    "uuids[0]"
   ]
  },
  {
   "cell_type": "code",
   "execution_count": 1,
   "metadata": {},
   "outputs": [],
   "source": [
    "# adding the documents to the vectorstore\n",
    "\n",
    "\n",
    "# vector_store.add_documents(documents=cluster_chunks, ids=uuids)\n",
    "# if this still does not work, we can do FAISS.from_texts with the embeddings computed manually"
   ]
  },
  {
   "cell_type": "markdown",
   "metadata": {},
   "source": [
    "UP UNTIL THIS POINT, EVERYTHING IS PACKAGED MISSING THE ACTUAL POPULATING OF THE DB"
   ]
  },
  {
   "cell_type": "markdown",
   "metadata": {},
   "source": [
    "Querying"
   ]
  },
  {
   "cell_type": "code",
   "execution_count": null,
   "metadata": {},
   "outputs": [],
   "source": [
    "query = \"Get from Tunji's thingie\"\n",
    "\n",
    "results = vector_store.similarity_search(\n",
    "    query,\n",
    "    k=2,\n",
    "    filter={\"source\": \"tweet\"}, # put the clustering, etc here\n",
    ")\n",
    "for res in results:\n",
    "    print(f\"* {res.page_content} [{res.metadata}]\") # this is how to get the attributes"
   ]
  },
  {
   "cell_type": "markdown",
   "metadata": {},
   "source": [
    "CHECK WITH THE FIXED VECTOR STORE BEFORE PACKAGING INTO COUNCIL_RAG.RAG AND MAIN.PY"
   ]
  },
  {
   "cell_type": "code",
   "execution_count": 7,
   "metadata": {},
   "outputs": [],
   "source": [
    "# algo to query the store in the right order\n",
    "def query_vector_store(vector_store, query):\n",
    "        # first search through the summaries\n",
    "        results_query_level_one = vector_store.similarity_search(\n",
    "                                                                query,\n",
    "                                                                k=1,\n",
    "                                                                filter={\"type\": \"summary\"}, \n",
    "                                                                )\n",
    "\n",
    "        cluster_level_one = results_query_level_one[0].metadata[\"cluster\"]\n",
    "\n",
    "        # now we search only in the cluster retrieved in the first step\n",
    "        results_query_level_two = vector_store.similarity_search(\n",
    "                                                        query,\n",
    "                                                        k=5,\n",
    "                                                        filter={\"cluster\": cluster_level_one,\n",
    "                                                                \"type\": \"cluster_chunk\"}, \n",
    "                                                        )\n",
    "        results_query_tables = vector_store.similarity_search(\n",
    "                                                        query,\n",
    "                                                        k=1,\n",
    "                                                        filter={\"type\": 'description_table'}, # {\"$in\": []} \n",
    "                                                        )\n",
    "        \n",
    "        relevant_facts = [sent_query_level_two.page_content for sent_query_level_two in results_query_level_two]\n",
    "        relevant_table = results_query_tables.page_content\n",
    "        \n",
    "        return relevant_facts, relevant_table"
   ]
  },
  {
   "cell_type": "code",
   "execution_count": 8,
   "metadata": {},
   "outputs": [],
   "source": [
    "def augment_query_rag(query, relevant_facts, relevant_table):\n",
    "    \n",
    "    aug_prompt=\"\"\"\\nVoici quelques faits pertinents pour vous aider à répondre et una description du qui peut s'avérer utile. \n",
    "    Si la description du n'est pas utile, ignorez-le.\\n\"\"\"\n",
    "    \n",
    "    augmented_data_string = aug_prompt + \"\\n\".join(relevant_facts) + \"\\n\" + relevant_table\n",
    "    \n",
    "    formated_augmented_query = query.format(augmented_data_string) # the original query has to have a format string\n",
    "    # formated_augmented_query = query + augmented_data_string       # if that is not the case, we can do this instead\n",
    "    \n",
    "    return formated_augmented_query"
   ]
  },
  {
   "cell_type": "code",
   "execution_count": 9,
   "metadata": {},
   "outputs": [],
   "source": [
    "from groq import Groq\n",
    "\n",
    "def final_query(query, model, groq_key):\n",
    "    \n",
    "    client = Groq(api_key=groq_key)\n",
    "    \n",
    "    messages = [\n",
    "                {\"role\": \"system\",\n",
    "                \"content\":  \"Vous êtes un assistant utile\" },\n",
    "                {\"role\": \"user\",\n",
    "                \"content\":  query}\n",
    "                ]\n",
    "    \n",
    "    chat_completion = client.chat.completions.create(messages=messages, model=model)\n",
    "    return chat_completion.choices[0].message.content"
   ]
  },
  {
   "cell_type": "code",
   "execution_count": 10,
   "metadata": {},
   "outputs": [],
   "source": [
    "# final fx to query our list of queries\n",
    "\n",
    "def query_multiple(list_of_queries, vector_store, model, groq_key):\n",
    "    \n",
    "    responses = []\n",
    "    for query in list_of_queries:\n",
    "        \n",
    "        relevant_facts, relevant_table = query_vector_store(vector_store, query)\n",
    "        formated_augmented_query = augment_query_rag(query, relevant_facts, relevant_table)\n",
    "        response = final_query(formated_augmented_query, model, groq_key)\n",
    "        responses.append(response)\n",
    "    \n",
    "    return responses"
   ]
  }
 ],
 "metadata": {
  "kernelspec": {
   "display_name": "Python 3",
   "language": "python",
   "name": "python3"
  },
  "language_info": {
   "codemirror_mode": {
    "name": "ipython",
    "version": 3
   },
   "file_extension": ".py",
   "mimetype": "text/x-python",
   "name": "python",
   "nbconvert_exporter": "python",
   "pygments_lexer": "ipython3",
   "version": "3.12.0"
  }
 },
 "nbformat": 4,
 "nbformat_minor": 2
}
