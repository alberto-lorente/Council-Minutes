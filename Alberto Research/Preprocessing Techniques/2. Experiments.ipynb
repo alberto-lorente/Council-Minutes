{
  "cells": [
    {
      "cell_type": "code",
      "execution_count": 1,
      "metadata": {
        "colab": {
          "base_uri": "https://localhost:8080/"
        },
        "id": "Nzh65usQ4gyd",
        "outputId": "fa622ee0-f636-4b3d-e3c0-cd36099f8922"
      },
      "outputs": [
        {
          "output_type": "stream",
          "name": "stdout",
          "text": [
            "Requirement already satisfied: aiohappyeyeballs==2.4.4 in /usr/local/lib/python3.11/dist-packages (from -r requirements.txt (line 1)) (2.4.4)\n",
            "Requirement already satisfied: aiohttp==3.11.11 in /usr/local/lib/python3.11/dist-packages (from -r requirements.txt (line 2)) (3.11.11)\n",
            "Requirement already satisfied: aiosignal==1.3.2 in /usr/local/lib/python3.11/dist-packages (from -r requirements.txt (line 3)) (1.3.2)\n",
            "Requirement already satisfied: annotated-types==0.7.0 in /usr/local/lib/python3.11/dist-packages (from -r requirements.txt (line 4)) (0.7.0)\n",
            "Collecting anyio==4.8.0 (from -r requirements.txt (line 5))\n",
            "  Using cached anyio-4.8.0-py3-none-any.whl.metadata (4.6 kB)\n",
            "Collecting asttokens==3.0.0 (from -r requirements.txt (line 6))\n",
            "  Using cached asttokens-3.0.0-py3-none-any.whl.metadata (4.7 kB)\n",
            "Requirement already satisfied: attrs==24.3.0 in /usr/local/lib/python3.11/dist-packages (from -r requirements.txt (line 7)) (24.3.0)\n",
            "Requirement already satisfied: certifi==2024.12.14 in /usr/local/lib/python3.11/dist-packages (from -r requirements.txt (line 8)) (2024.12.14)\n",
            "Requirement already satisfied: charset-normalizer==3.4.1 in /usr/local/lib/python3.11/dist-packages (from -r requirements.txt (line 9)) (3.4.1)\n",
            "Collecting colorama==0.4.6 (from -r requirements.txt (line 10))\n",
            "  Using cached colorama-0.4.6-py2.py3-none-any.whl.metadata (17 kB)\n",
            "Collecting comm==0.2.2 (from -r requirements.txt (line 11))\n",
            "  Using cached comm-0.2.2-py3-none-any.whl.metadata (3.7 kB)\n",
            "Collecting datasets==3.2.0 (from -r requirements.txt (line 12))\n",
            "  Using cached datasets-3.2.0-py3-none-any.whl.metadata (20 kB)\n",
            "Collecting debugpy==1.8.12 (from -r requirements.txt (line 13))\n",
            "  Using cached debugpy-1.8.12-cp311-cp311-manylinux_2_5_x86_64.manylinux1_x86_64.manylinux_2_17_x86_64.manylinux2014_x86_64.whl.metadata (1.3 kB)\n",
            "Collecting decorator==5.1.1 (from -r requirements.txt (line 14))\n",
            "  Using cached decorator-5.1.1-py3-none-any.whl.metadata (4.0 kB)\n",
            "Collecting dill==0.3.8 (from -r requirements.txt (line 15))\n",
            "  Using cached dill-0.3.8-py3-none-any.whl.metadata (10 kB)\n",
            "Collecting executing==2.1.0 (from -r requirements.txt (line 16))\n",
            "  Using cached executing-2.1.0-py2.py3-none-any.whl.metadata (8.9 kB)\n",
            "Requirement already satisfied: filelock==3.16.1 in /usr/local/lib/python3.11/dist-packages (from -r requirements.txt (line 17)) (3.16.1)\n",
            "Requirement already satisfied: frozenlist==1.5.0 in /usr/local/lib/python3.11/dist-packages (from -r requirements.txt (line 18)) (1.5.0)\n",
            "Collecting fsspec==2024.9.0 (from -r requirements.txt (line 19))\n",
            "  Using cached fsspec-2024.9.0-py3-none-any.whl.metadata (11 kB)\n",
            "Requirement already satisfied: h11==0.14.0 in /usr/local/lib/python3.11/dist-packages (from -r requirements.txt (line 20)) (0.14.0)\n",
            "Requirement already satisfied: httpcore==1.0.7 in /usr/local/lib/python3.11/dist-packages (from -r requirements.txt (line 21)) (1.0.7)\n",
            "Collecting httpx==0.27.2 (from -r requirements.txt (line 22))\n",
            "  Using cached httpx-0.27.2-py3-none-any.whl.metadata (7.1 kB)\n",
            "Requirement already satisfied: huggingface-hub==0.27.1 in /usr/local/lib/python3.11/dist-packages (from -r requirements.txt (line 23)) (0.27.1)\n",
            "Requirement already satisfied: idna==3.10 in /usr/local/lib/python3.11/dist-packages (from -r requirements.txt (line 24)) (3.10)\n",
            "Collecting ipykernel==6.29.5 (from -r requirements.txt (line 25))\n",
            "  Using cached ipykernel-6.29.5-py3-none-any.whl.metadata (6.3 kB)\n",
            "Collecting ipython==8.31.0 (from -r requirements.txt (line 26))\n",
            "  Using cached ipython-8.31.0-py3-none-any.whl.metadata (4.9 kB)\n",
            "Collecting jedi==0.19.2 (from -r requirements.txt (line 27))\n",
            "  Using cached jedi-0.19.2-py2.py3-none-any.whl.metadata (22 kB)\n",
            "Collecting Jinja2==3.1.3 (from -r requirements.txt (line 28))\n",
            "  Using cached Jinja2-3.1.3-py3-none-any.whl.metadata (3.3 kB)\n",
            "Collecting jupyter_client==8.6.3 (from -r requirements.txt (line 29))\n",
            "  Using cached jupyter_client-8.6.3-py3-none-any.whl.metadata (8.3 kB)\n",
            "Requirement already satisfied: jupyter_core==5.7.2 in /usr/local/lib/python3.11/dist-packages (from -r requirements.txt (line 30)) (5.7.2)\n",
            "Collecting MarkupSafe==2.1.5 (from -r requirements.txt (line 31))\n",
            "  Using cached MarkupSafe-2.1.5-cp311-cp311-manylinux_2_17_x86_64.manylinux2014_x86_64.whl.metadata (3.0 kB)\n",
            "Requirement already satisfied: matplotlib-inline==0.1.7 in /usr/local/lib/python3.11/dist-packages (from -r requirements.txt (line 32)) (0.1.7)\n",
            "Requirement already satisfied: mpmath==1.3.0 in /usr/local/lib/python3.11/dist-packages (from -r requirements.txt (line 33)) (1.3.0)\n",
            "Requirement already satisfied: multidict==6.1.0 in /usr/local/lib/python3.11/dist-packages (from -r requirements.txt (line 34)) (6.1.0)\n",
            "Collecting multiprocess==0.70.16 (from -r requirements.txt (line 35))\n",
            "  Using cached multiprocess-0.70.16-py311-none-any.whl.metadata (7.2 kB)\n",
            "Requirement already satisfied: nest-asyncio==1.6.0 in /usr/local/lib/python3.11/dist-packages (from -r requirements.txt (line 36)) (1.6.0)\n",
            "Collecting networkx==3.2.1 (from -r requirements.txt (line 37))\n",
            "  Using cached networkx-3.2.1-py3-none-any.whl.metadata (5.2 kB)\n",
            "Collecting numpy==2.2.1 (from -r requirements.txt (line 38))\n",
            "  Using cached numpy-2.2.1-cp311-cp311-manylinux_2_17_x86_64.manylinux2014_x86_64.whl.metadata (62 kB)\n",
            "Collecting ollama==0.4.6 (from -r requirements.txt (line 39))\n",
            "  Using cached ollama-0.4.6-py3-none-any.whl.metadata (4.7 kB)\n",
            "Requirement already satisfied: packaging==24.2 in /usr/local/lib/python3.11/dist-packages (from -r requirements.txt (line 40)) (24.2)\n",
            "Collecting pandas==2.2.3 (from -r requirements.txt (line 41))\n",
            "  Using cached pandas-2.2.3-cp311-cp311-manylinux_2_17_x86_64.manylinux2014_x86_64.whl.metadata (89 kB)\n",
            "Requirement already satisfied: parso==0.8.4 in /usr/local/lib/python3.11/dist-packages (from -r requirements.txt (line 42)) (0.8.4)\n",
            "Requirement already satisfied: platformdirs==4.3.6 in /usr/local/lib/python3.11/dist-packages (from -r requirements.txt (line 43)) (4.3.6)\n",
            "Collecting prompt_toolkit==3.0.49 (from -r requirements.txt (line 44))\n",
            "  Using cached prompt_toolkit-3.0.49-py3-none-any.whl.metadata (6.6 kB)\n",
            "Requirement already satisfied: propcache==0.2.1 in /usr/local/lib/python3.11/dist-packages (from -r requirements.txt (line 45)) (0.2.1)\n",
            "Collecting psutil==6.1.1 (from -r requirements.txt (line 46))\n",
            "  Using cached psutil-6.1.1-cp36-abi3-manylinux_2_12_x86_64.manylinux2010_x86_64.manylinux_2_17_x86_64.manylinux2014_x86_64.whl.metadata (22 kB)\n",
            "Collecting pure_eval==0.2.3 (from -r requirements.txt (line 47))\n",
            "  Using cached pure_eval-0.2.3-py3-none-any.whl.metadata (6.3 kB)\n",
            "Collecting pyarrow==18.1.0 (from -r requirements.txt (line 48))\n",
            "  Using cached pyarrow-18.1.0-cp311-cp311-manylinux_2_28_x86_64.whl.metadata (3.3 kB)\n",
            "Requirement already satisfied: pydantic==2.10.5 in /usr/local/lib/python3.11/dist-packages (from -r requirements.txt (line 49)) (2.10.5)\n",
            "Requirement already satisfied: pydantic_core==2.27.2 in /usr/local/lib/python3.11/dist-packages (from -r requirements.txt (line 50)) (2.27.2)\n",
            "Collecting Pygments==2.19.1 (from -r requirements.txt (line 51))\n",
            "  Using cached pygments-2.19.1-py3-none-any.whl.metadata (2.5 kB)\n",
            "Collecting python-dateutil==2.9.0.post0 (from -r requirements.txt (line 52))\n",
            "  Using cached python_dateutil-2.9.0.post0-py2.py3-none-any.whl.metadata (8.4 kB)\n",
            "Requirement already satisfied: pytz==2024.2 in /usr/local/lib/python3.11/dist-packages (from -r requirements.txt (line 53)) (2024.2)\n",
            "\u001b[31mERROR: Ignored the following versions that require a different python version: 1.21.2 Requires-Python >=3.7,<3.11; 1.21.3 Requires-Python >=3.7,<3.11; 1.21.4 Requires-Python >=3.7,<3.11; 1.21.5 Requires-Python >=3.7,<3.11; 1.21.6 Requires-Python >=3.7,<3.11\u001b[0m\u001b[31m\n",
            "\u001b[0m\u001b[31mERROR: Could not find a version that satisfies the requirement pywin32==308 (from versions: none)\u001b[0m\u001b[31m\n",
            "\u001b[0m\u001b[31mERROR: No matching distribution found for pywin32==308\u001b[0m\u001b[31m\n",
            "\u001b[0m"
          ]
        }
      ],
      "source": [
        "!pip install -r requirements.txt"
      ]
    },
    {
      "cell_type": "code",
      "source": [
        "! python -m spacy download fr_core_news_sm"
      ],
      "metadata": {
        "colab": {
          "base_uri": "https://localhost:8080/"
        },
        "id": "pdlNS5bAENlC",
        "outputId": "b57e8cb0-d6d2-446d-9b29-d43ba2cc9b93"
      },
      "execution_count": 60,
      "outputs": [
        {
          "output_type": "stream",
          "name": "stdout",
          "text": [
            "Collecting fr-core-news-sm==3.7.0\n",
            "  Downloading https://github.com/explosion/spacy-models/releases/download/fr_core_news_sm-3.7.0/fr_core_news_sm-3.7.0-py3-none-any.whl (16.3 MB)\n",
            "\u001b[2K     \u001b[90m━━━━━━━━━━━━━━━━━━━━━━━━━━━━━━━━━━━━━━━━\u001b[0m \u001b[32m16.3/16.3 MB\u001b[0m \u001b[31m97.4 MB/s\u001b[0m eta \u001b[36m0:00:00\u001b[0m\n",
            "\u001b[?25hRequirement already satisfied: spacy<3.8.0,>=3.7.0 in /usr/local/lib/python3.11/dist-packages (from fr-core-news-sm==3.7.0) (3.7.5)\n",
            "Requirement already satisfied: spacy-legacy<3.1.0,>=3.0.11 in /usr/local/lib/python3.11/dist-packages (from spacy<3.8.0,>=3.7.0->fr-core-news-sm==3.7.0) (3.0.12)\n",
            "Requirement already satisfied: spacy-loggers<2.0.0,>=1.0.0 in /usr/local/lib/python3.11/dist-packages (from spacy<3.8.0,>=3.7.0->fr-core-news-sm==3.7.0) (1.0.5)\n",
            "Requirement already satisfied: murmurhash<1.1.0,>=0.28.0 in /usr/local/lib/python3.11/dist-packages (from spacy<3.8.0,>=3.7.0->fr-core-news-sm==3.7.0) (1.0.11)\n",
            "Requirement already satisfied: cymem<2.1.0,>=2.0.2 in /usr/local/lib/python3.11/dist-packages (from spacy<3.8.0,>=3.7.0->fr-core-news-sm==3.7.0) (2.0.10)\n",
            "Requirement already satisfied: preshed<3.1.0,>=3.0.2 in /usr/local/lib/python3.11/dist-packages (from spacy<3.8.0,>=3.7.0->fr-core-news-sm==3.7.0) (3.0.9)\n",
            "Requirement already satisfied: thinc<8.3.0,>=8.2.2 in /usr/local/lib/python3.11/dist-packages (from spacy<3.8.0,>=3.7.0->fr-core-news-sm==3.7.0) (8.2.5)\n",
            "Requirement already satisfied: wasabi<1.2.0,>=0.9.1 in /usr/local/lib/python3.11/dist-packages (from spacy<3.8.0,>=3.7.0->fr-core-news-sm==3.7.0) (1.1.3)\n",
            "Requirement already satisfied: srsly<3.0.0,>=2.4.3 in /usr/local/lib/python3.11/dist-packages (from spacy<3.8.0,>=3.7.0->fr-core-news-sm==3.7.0) (2.5.0)\n",
            "Requirement already satisfied: catalogue<2.1.0,>=2.0.6 in /usr/local/lib/python3.11/dist-packages (from spacy<3.8.0,>=3.7.0->fr-core-news-sm==3.7.0) (2.0.10)\n",
            "Requirement already satisfied: weasel<0.5.0,>=0.1.0 in /usr/local/lib/python3.11/dist-packages (from spacy<3.8.0,>=3.7.0->fr-core-news-sm==3.7.0) (0.4.1)\n",
            "Requirement already satisfied: typer<1.0.0,>=0.3.0 in /usr/local/lib/python3.11/dist-packages (from spacy<3.8.0,>=3.7.0->fr-core-news-sm==3.7.0) (0.15.1)\n",
            "Requirement already satisfied: tqdm<5.0.0,>=4.38.0 in /usr/local/lib/python3.11/dist-packages (from spacy<3.8.0,>=3.7.0->fr-core-news-sm==3.7.0) (4.67.1)\n",
            "Requirement already satisfied: requests<3.0.0,>=2.13.0 in /usr/local/lib/python3.11/dist-packages (from spacy<3.8.0,>=3.7.0->fr-core-news-sm==3.7.0) (2.32.3)\n",
            "Requirement already satisfied: pydantic!=1.8,!=1.8.1,<3.0.0,>=1.7.4 in /usr/local/lib/python3.11/dist-packages (from spacy<3.8.0,>=3.7.0->fr-core-news-sm==3.7.0) (2.10.5)\n",
            "Requirement already satisfied: jinja2 in /usr/local/lib/python3.11/dist-packages (from spacy<3.8.0,>=3.7.0->fr-core-news-sm==3.7.0) (3.1.5)\n",
            "Requirement already satisfied: setuptools in /usr/local/lib/python3.11/dist-packages (from spacy<3.8.0,>=3.7.0->fr-core-news-sm==3.7.0) (75.1.0)\n",
            "Requirement already satisfied: packaging>=20.0 in /usr/local/lib/python3.11/dist-packages (from spacy<3.8.0,>=3.7.0->fr-core-news-sm==3.7.0) (24.2)\n",
            "Requirement already satisfied: langcodes<4.0.0,>=3.2.0 in /usr/local/lib/python3.11/dist-packages (from spacy<3.8.0,>=3.7.0->fr-core-news-sm==3.7.0) (3.5.0)\n",
            "Requirement already satisfied: numpy>=1.19.0 in /usr/local/lib/python3.11/dist-packages (from spacy<3.8.0,>=3.7.0->fr-core-news-sm==3.7.0) (1.26.4)\n",
            "Requirement already satisfied: language-data>=1.2 in /usr/local/lib/python3.11/dist-packages (from langcodes<4.0.0,>=3.2.0->spacy<3.8.0,>=3.7.0->fr-core-news-sm==3.7.0) (1.3.0)\n",
            "Requirement already satisfied: annotated-types>=0.6.0 in /usr/local/lib/python3.11/dist-packages (from pydantic!=1.8,!=1.8.1,<3.0.0,>=1.7.4->spacy<3.8.0,>=3.7.0->fr-core-news-sm==3.7.0) (0.7.0)\n",
            "Requirement already satisfied: pydantic-core==2.27.2 in /usr/local/lib/python3.11/dist-packages (from pydantic!=1.8,!=1.8.1,<3.0.0,>=1.7.4->spacy<3.8.0,>=3.7.0->fr-core-news-sm==3.7.0) (2.27.2)\n",
            "Requirement already satisfied: typing-extensions>=4.12.2 in /usr/local/lib/python3.11/dist-packages (from pydantic!=1.8,!=1.8.1,<3.0.0,>=1.7.4->spacy<3.8.0,>=3.7.0->fr-core-news-sm==3.7.0) (4.12.2)\n",
            "Requirement already satisfied: charset-normalizer<4,>=2 in /usr/local/lib/python3.11/dist-packages (from requests<3.0.0,>=2.13.0->spacy<3.8.0,>=3.7.0->fr-core-news-sm==3.7.0) (3.4.1)\n",
            "Requirement already satisfied: idna<4,>=2.5 in /usr/local/lib/python3.11/dist-packages (from requests<3.0.0,>=2.13.0->spacy<3.8.0,>=3.7.0->fr-core-news-sm==3.7.0) (3.10)\n",
            "Requirement already satisfied: urllib3<3,>=1.21.1 in /usr/local/lib/python3.11/dist-packages (from requests<3.0.0,>=2.13.0->spacy<3.8.0,>=3.7.0->fr-core-news-sm==3.7.0) (2.3.0)\n",
            "Requirement already satisfied: certifi>=2017.4.17 in /usr/local/lib/python3.11/dist-packages (from requests<3.0.0,>=2.13.0->spacy<3.8.0,>=3.7.0->fr-core-news-sm==3.7.0) (2024.12.14)\n",
            "Requirement already satisfied: blis<0.8.0,>=0.7.8 in /usr/local/lib/python3.11/dist-packages (from thinc<8.3.0,>=8.2.2->spacy<3.8.0,>=3.7.0->fr-core-news-sm==3.7.0) (0.7.11)\n",
            "Requirement already satisfied: confection<1.0.0,>=0.0.1 in /usr/local/lib/python3.11/dist-packages (from thinc<8.3.0,>=8.2.2->spacy<3.8.0,>=3.7.0->fr-core-news-sm==3.7.0) (0.1.5)\n",
            "Requirement already satisfied: click>=8.0.0 in /usr/local/lib/python3.11/dist-packages (from typer<1.0.0,>=0.3.0->spacy<3.8.0,>=3.7.0->fr-core-news-sm==3.7.0) (8.1.8)\n",
            "Requirement already satisfied: shellingham>=1.3.0 in /usr/local/lib/python3.11/dist-packages (from typer<1.0.0,>=0.3.0->spacy<3.8.0,>=3.7.0->fr-core-news-sm==3.7.0) (1.5.4)\n",
            "Requirement already satisfied: rich>=10.11.0 in /usr/local/lib/python3.11/dist-packages (from typer<1.0.0,>=0.3.0->spacy<3.8.0,>=3.7.0->fr-core-news-sm==3.7.0) (13.9.4)\n",
            "Requirement already satisfied: cloudpathlib<1.0.0,>=0.7.0 in /usr/local/lib/python3.11/dist-packages (from weasel<0.5.0,>=0.1.0->spacy<3.8.0,>=3.7.0->fr-core-news-sm==3.7.0) (0.20.0)\n",
            "Requirement already satisfied: smart-open<8.0.0,>=5.2.1 in /usr/local/lib/python3.11/dist-packages (from weasel<0.5.0,>=0.1.0->spacy<3.8.0,>=3.7.0->fr-core-news-sm==3.7.0) (7.1.0)\n",
            "Requirement already satisfied: MarkupSafe>=2.0 in /usr/local/lib/python3.11/dist-packages (from jinja2->spacy<3.8.0,>=3.7.0->fr-core-news-sm==3.7.0) (3.0.2)\n",
            "Requirement already satisfied: marisa-trie>=1.1.0 in /usr/local/lib/python3.11/dist-packages (from language-data>=1.2->langcodes<4.0.0,>=3.2.0->spacy<3.8.0,>=3.7.0->fr-core-news-sm==3.7.0) (1.2.1)\n",
            "Requirement already satisfied: markdown-it-py>=2.2.0 in /usr/local/lib/python3.11/dist-packages (from rich>=10.11.0->typer<1.0.0,>=0.3.0->spacy<3.8.0,>=3.7.0->fr-core-news-sm==3.7.0) (3.0.0)\n",
            "Requirement already satisfied: pygments<3.0.0,>=2.13.0 in /usr/local/lib/python3.11/dist-packages (from rich>=10.11.0->typer<1.0.0,>=0.3.0->spacy<3.8.0,>=3.7.0->fr-core-news-sm==3.7.0) (2.18.0)\n",
            "Requirement already satisfied: wrapt in /usr/local/lib/python3.11/dist-packages (from smart-open<8.0.0,>=5.2.1->weasel<0.5.0,>=0.1.0->spacy<3.8.0,>=3.7.0->fr-core-news-sm==3.7.0) (1.17.0)\n",
            "Requirement already satisfied: mdurl~=0.1 in /usr/local/lib/python3.11/dist-packages (from markdown-it-py>=2.2.0->rich>=10.11.0->typer<1.0.0,>=0.3.0->spacy<3.8.0,>=3.7.0->fr-core-news-sm==3.7.0) (0.1.2)\n",
            "Installing collected packages: fr-core-news-sm\n",
            "Successfully installed fr-core-news-sm-3.7.0\n",
            "\u001b[38;5;2m✔ Download and installation successful\u001b[0m\n",
            "You can now load the package via spacy.load('fr_core_news_sm')\n",
            "\u001b[38;5;3m⚠ Restart to reload dependencies\u001b[0m\n",
            "If you are in a Jupyter or Colab notebook, you may need to restart Python in\n",
            "order to load all the package's dependencies. You can do this by selecting the\n",
            "'Restart kernel' or 'Restart runtime' option.\n"
          ]
        }
      ]
    },
    {
      "cell_type": "code",
      "execution_count": 2,
      "metadata": {
        "id": "A5C0xPdi4gye"
      },
      "outputs": [],
      "source": [
        "with open(\"example_md_to_text.txt\", \"r\", encoding=\"latin-1\") as f: # TO DO: check proper encoding for .md files\n",
        "    markdown_example = f.read()"
      ]
    },
    {
      "cell_type": "code",
      "execution_count": 3,
      "metadata": {
        "id": "Gr2NScMJ4gye"
      },
      "outputs": [],
      "source": [
        "from pprint import pprint\n",
        "import tqdm\n",
        "# pprint(markdown_example)"
      ]
    },
    {
      "cell_type": "markdown",
      "metadata": {
        "id": "oMquaPnI4gye"
      },
      "source": [
        "Basic OLlama Workflow"
      ]
    },
    {
      "cell_type": "code",
      "execution_count": 4,
      "metadata": {
        "id": "rmAT1Yjs4gye"
      },
      "outputs": [],
      "source": [
        "# import ollama"
      ]
    },
    {
      "cell_type": "code",
      "execution_count": 5,
      "metadata": {
        "id": "B0fIFS9d4gyf"
      },
      "outputs": [],
      "source": [
        "# # basic workflow of getting llama embeddings with ollama\n",
        "# ollama.embeddings(model=\"llama3.2:3b\",\n",
        "#                 prompt=\"Hello\")"
      ]
    },
    {
      "cell_type": "code",
      "execution_count": 6,
      "metadata": {
        "id": "BV0isCso4gyf"
      },
      "outputs": [],
      "source": [
        "# # basic workflow of generating responses with ollama\n",
        "# ollama.generate(model=\"llama3.2:3b\",\n",
        "#                 prompt=\"Whos is Obama\")"
      ]
    },
    {
      "cell_type": "markdown",
      "metadata": {
        "id": "5ImuB4zw4gyf"
      },
      "source": [
        "Loading HF to get Attention Masks"
      ]
    },
    {
      "cell_type": "code",
      "execution_count": 7,
      "metadata": {
        "id": "CETuQGDb4gyf"
      },
      "outputs": [],
      "source": [
        "with open(\"HF_TOKEN.txt\", \"r\") as f:\n",
        "    hf_token = f.read()"
      ]
    },
    {
      "cell_type": "code",
      "execution_count": 8,
      "metadata": {
        "colab": {
          "base_uri": "https://localhost:8080/"
        },
        "id": "XsbEhjmB4gyf",
        "outputId": "a380b5d8-ea1d-4f46-a6d6-e333d3c3927f"
      },
      "outputs": [
        {
          "output_type": "stream",
          "name": "stdout",
          "text": [
            "alberto-lorente\n"
          ]
        },
        {
          "output_type": "stream",
          "name": "stderr",
          "text": [
            "/usr/local/lib/python3.11/dist-packages/huggingface_hub/utils/_auth.py:94: UserWarning: \n",
            "The secret `HF_TOKEN` does not exist in your Colab secrets.\n",
            "To authenticate with the Hugging Face Hub, create a token in your settings tab (https://huggingface.co/settings/tokens), set it as secret in your Google Colab and restart your session.\n",
            "You will be able to reuse this secret in all of your notebooks.\n",
            "Please note that authentication is recommended but still optional to access public models or datasets.\n",
            "  warnings.warn(\n"
          ]
        }
      ],
      "source": [
        "from huggingface_hub import HfFolder, whoami\n",
        "\n",
        "HfFolder.save_token(hf_token)\n",
        "print(whoami()[\"name\"])"
      ]
    },
    {
      "cell_type": "code",
      "execution_count": 21,
      "metadata": {
        "colab": {
          "base_uri": "https://localhost:8080/"
        },
        "id": "HFFEdmNL4gyg",
        "outputId": "8b40bc6c-1311-4e7b-d081-3fdb3dbdd2f2"
      },
      "outputs": [
        {
          "output_type": "stream",
          "name": "stdout",
          "text": [
            "Cuda available\n"
          ]
        }
      ],
      "source": [
        "import torch\n",
        "\n",
        "device = \"cpu\"\n",
        "if torch.cuda.is_available():\n",
        "  print(\"Cuda available\")\n",
        "  device = \"cuda:0\""
      ]
    },
    {
      "cell_type": "code",
      "execution_count": 22,
      "metadata": {
        "id": "hS2YU_nD4gyg"
      },
      "outputs": [],
      "source": [
        "# using huggingface tokenizer for attettion layer\n",
        "# make sure you have GPU enabled\n",
        "# takes around 5 mins to load with TPUs\n",
        "\n",
        "from transformers import AutoTokenizer, AutoModel\n",
        "\n",
        "model_id = \"HIT-TMG/KaLM-embedding-multilingual-mini-v1\" # which model to use?\n",
        "tokenizer = AutoTokenizer.from_pretrained(pretrained_model_name_or_path=model_id)\n",
        "model = AutoModel.from_pretrained(model_id)"
      ]
    },
    {
      "cell_type": "code",
      "source": [
        "model.to(device)"
      ],
      "metadata": {
        "colab": {
          "base_uri": "https://localhost:8080/"
        },
        "id": "gppC6FUl92qV",
        "outputId": "553c5471-f6eb-4bac-aa09-3d750c824c7f"
      },
      "execution_count": 23,
      "outputs": [
        {
          "output_type": "execute_result",
          "data": {
            "text/plain": [
              "Qwen2Model(\n",
              "  (embed_tokens): Embedding(151936, 896)\n",
              "  (layers): ModuleList(\n",
              "    (0-23): 24 x Qwen2DecoderLayer(\n",
              "      (self_attn): Qwen2SdpaAttention(\n",
              "        (q_proj): Linear(in_features=896, out_features=896, bias=True)\n",
              "        (k_proj): Linear(in_features=896, out_features=128, bias=True)\n",
              "        (v_proj): Linear(in_features=896, out_features=128, bias=True)\n",
              "        (o_proj): Linear(in_features=896, out_features=896, bias=False)\n",
              "        (rotary_emb): Qwen2RotaryEmbedding()\n",
              "      )\n",
              "      (mlp): Qwen2MLP(\n",
              "        (gate_proj): Linear(in_features=896, out_features=4864, bias=False)\n",
              "        (up_proj): Linear(in_features=896, out_features=4864, bias=False)\n",
              "        (down_proj): Linear(in_features=4864, out_features=896, bias=False)\n",
              "        (act_fn): SiLU()\n",
              "      )\n",
              "      (input_layernorm): Qwen2RMSNorm((896,), eps=1e-06)\n",
              "      (post_attention_layernorm): Qwen2RMSNorm((896,), eps=1e-06)\n",
              "    )\n",
              "  )\n",
              "  (norm): Qwen2RMSNorm((896,), eps=1e-06)\n",
              "  (rotary_emb): Qwen2RotaryEmbedding()\n",
              ")"
            ]
          },
          "metadata": {},
          "execution_count": 23
        }
      ]
    },
    {
      "cell_type": "markdown",
      "metadata": {
        "id": "nRgyr7oN4gyg"
      },
      "source": [
        "- text enriching with VLLM to add a little description of tables before hey appear?\n",
        "\n",
        "- embeddings that return attention layer\n",
        "\n",
        "- perform similarity on the attention layer -> cluster similar sentences\n",
        "\n",
        "- summarize the clusters\n",
        "\n",
        "- tree-based graph"
      ]
    },
    {
      "cell_type": "markdown",
      "source": [
        "## Splitting the text into sentences"
      ],
      "metadata": {
        "id": "0GgAqGk6DSVO"
      }
    },
    {
      "cell_type": "markdown",
      "source": [
        "This method may take a lot of time. Alternatives?"
      ],
      "metadata": {
        "id": "ju4jHQE-Dv5z"
      }
    },
    {
      "cell_type": "code",
      "source": [
        "import spacy\n",
        "\n",
        "nlp = spacy.load(\"fr_core_news_sm\")"
      ],
      "metadata": {
        "id": "wKRiK15oDdgY"
      },
      "execution_count": 61,
      "outputs": []
    },
    {
      "cell_type": "code",
      "source": [
        "doc = nlp(markdown_example)\n",
        "sents = [sent.text for sent in doc.sents]"
      ],
      "metadata": {
        "id": "qn1F7NekDqc1"
      },
      "execution_count": 62,
      "outputs": []
    },
    {
      "cell_type": "code",
      "source": [
        "sents[0:10]"
      ],
      "metadata": {
        "colab": {
          "base_uri": "https://localhost:8080/"
        },
        "id": "TVcXDS4_EYwr",
        "outputId": "31c014b5-5dae-4cc8-f806-d1008b9cea8d"
      },
      "execution_count": 64,
      "outputs": [
        {
          "output_type": "execute_result",
          "data": {
            "text/plain": [
              "['# Séance publique\\n\\n\\n\\n# du jeudi 28 octobre 2021\\n\\n\\n\\n# à 18h00\\n\\n\\n\\n# Chorum',\n",
              " 'Alain Gilles',\n",
              " '- Halle Vacheresse\\n\\n\\n\\n#',\n",
              " 'Rue des Vernes à Roanne\\n\\n\\n\\n#',\n",
              " 'PROCES',\n",
              " 'VERBAL\\n\\n\\n\\n',\n",
              " \"L'an deux mille vingt et un, le 28 octobre à 18 h 00, les conseillers communautaires de Roannais Agglomération, se sont réunis à l\\x92Espace Chorum \\x96 Halle\",\n",
              " 'Vacheresse \\x96',\n",
              " 'Rue des Vernes à Roanne.\\n\\n\\n\\n',\n",
              " 'La convocation de tous les conseillers a été faite le 22 octobre 2021, dans les formes et délais prescrits par la loi, par Yves Nicolin, Président.\\n\\n\\n\\n']"
            ]
          },
          "metadata": {},
          "execution_count": 64
        }
      ]
    },
    {
      "cell_type": "markdown",
      "source": [
        "## Getting the text embeddings\n"
      ],
      "metadata": {
        "id": "I_QjccTUBASV"
      }
    },
    {
      "cell_type": "markdown",
      "source": [
        "### Example for one piece of text"
      ],
      "metadata": {
        "id": "T2IsSD5IEm62"
      }
    },
    {
      "cell_type": "code",
      "execution_count": 24,
      "metadata": {
        "id": "8grmXscv4gyg"
      },
      "outputs": [],
      "source": [
        "# dir(tokenizer)"
      ]
    },
    {
      "cell_type": "code",
      "execution_count": 27,
      "metadata": {
        "id": "oXyC3J8g4gyg"
      },
      "outputs": [],
      "source": [
        "tokenized_markdown = tokenizer(markdown_example, return_tensors=\"pt\").to(device)"
      ]
    },
    {
      "cell_type": "code",
      "source": [
        "len(tokenized_markdown[0])"
      ],
      "metadata": {
        "colab": {
          "base_uri": "https://localhost:8080/"
        },
        "id": "OqfU1Njp_T0B",
        "outputId": "fc8108a0-01e1-45e9-e10f-bde7e71fc16c"
      },
      "execution_count": 40,
      "outputs": [
        {
          "output_type": "execute_result",
          "data": {
            "text/plain": [
              "20468"
            ]
          },
          "metadata": {},
          "execution_count": 40
        }
      ]
    },
    {
      "cell_type": "code",
      "execution_count": 50,
      "metadata": {
        "id": "mvm7hSEq4gyg"
      },
      "outputs": [],
      "source": [
        "model.eval()\n",
        "with torch.no_grad():\n",
        "  # first batch (only one since we are processing one doc)\n",
        "  # final token\n",
        "    embeddings = model(**tokenized_markdown)[0][:, 0]"
      ]
    },
    {
      "cell_type": "code",
      "source": [
        "embeddings.shape"
      ],
      "metadata": {
        "colab": {
          "base_uri": "https://localhost:8080/"
        },
        "id": "QaO-j34G_OeG",
        "outputId": "43ce0663-0a81-480d-f41c-e79e472b25e6"
      },
      "execution_count": 52,
      "outputs": [
        {
          "output_type": "execute_result",
          "data": {
            "text/plain": [
              "torch.Size([1, 896])"
            ]
          },
          "metadata": {},
          "execution_count": 52
        }
      ]
    },
    {
      "cell_type": "markdown",
      "source": [
        "We take the last token since it's the one which contains all the aggregate info."
      ],
      "metadata": {
        "id": "Kfe2cySo_fGQ"
      }
    },
    {
      "cell_type": "code",
      "source": [
        "# embeddings"
      ],
      "metadata": {
        "id": "r9Dz0XGjCnOC"
      },
      "execution_count": 54,
      "outputs": []
    },
    {
      "cell_type": "code",
      "execution_count": 55,
      "metadata": {
        "id": "CZN2u5nI4gyh"
      },
      "outputs": [],
      "source": [
        "import torch.nn.functional as F\n",
        "\n",
        "normalized_embeddings = F.normalize(embeddings, p=2, dim=1)"
      ]
    },
    {
      "cell_type": "code",
      "source": [
        "normalized_embeddings"
      ],
      "metadata": {
        "colab": {
          "base_uri": "https://localhost:8080/"
        },
        "id": "75kj1dKJA4Uq",
        "outputId": "c837e076-726c-49b8-dc92-ece68fa14e65"
      },
      "execution_count": 56,
      "outputs": [
        {
          "output_type": "execute_result",
          "data": {
            "text/plain": [
              "tensor([[-2.5701e-02,  2.9421e-02,  2.3318e-02,  7.8289e-03, -1.4849e-02,\n",
              "          3.7893e-02, -2.6897e-02,  4.2656e-02,  5.1599e-02, -7.3862e-03,\n",
              "         -4.0127e-02, -1.8006e-02,  2.8234e-02, -3.1621e-02,  1.7363e-02,\n",
              "          1.4090e-02, -3.5483e-02,  3.8051e-02,  5.7395e-02,  2.1053e-02,\n",
              "          1.2293e-02,  2.1901e-02,  7.4137e-02,  5.4875e-02,  9.3957e-03,\n",
              "         -3.2502e-02,  3.8113e-02, -2.5295e-03, -1.1333e-02, -2.3000e-03,\n",
              "          6.7924e-03, -7.2779e-03, -3.4598e-02, -3.0293e-03,  1.1351e-02,\n",
              "          2.4411e-02,  1.5954e-02,  1.9381e-02, -4.4216e-03, -1.0174e-02,\n",
              "         -5.4419e-03,  1.2559e-02, -5.5566e-02, -3.6830e-02,  4.7059e-03,\n",
              "         -1.7030e-02,  1.2295e-02, -5.1929e-02,  2.4320e-02,  3.5810e-02,\n",
              "          4.7526e-03, -1.7858e-02, -2.7658e-02,  2.4482e-02, -2.6175e-02,\n",
              "         -6.2970e-02, -4.0419e-02,  4.9006e-02,  2.4184e-02,  3.2100e-02,\n",
              "          2.4963e-02,  7.7604e-02,  4.9397e-02,  2.2441e-03,  1.0605e-01,\n",
              "          5.1354e-03, -1.5346e-02, -1.7517e-02, -1.3847e-02,  4.4384e-02,\n",
              "         -3.1310e-02, -3.5520e-02, -4.8576e-03,  3.6056e-02,  3.1309e-03,\n",
              "          2.6376e-02,  5.3100e-02,  1.0519e-02, -2.8572e-02, -5.4813e-03,\n",
              "         -2.5301e-02,  3.2348e-02,  2.4245e-02, -3.3057e-04, -1.2326e-02,\n",
              "          3.5655e-02, -2.1179e-02,  2.3398e-02, -1.7565e-02,  6.3005e-02,\n",
              "         -1.1900e-02, -3.3768e-03, -1.5916e-03,  4.8604e-02, -4.2624e-02,\n",
              "          2.8838e-02, -1.7043e-02, -3.5119e-02,  2.3618e-02,  7.3095e-02,\n",
              "         -2.5746e-02, -1.5310e-02, -3.4157e-03,  3.2764e-02,  9.5338e-03,\n",
              "         -3.1739e-02,  3.5022e-04, -2.2250e-02,  7.1738e-03, -5.1920e-03,\n",
              "          7.1504e-03,  2.9303e-02,  1.5868e-02,  5.3914e-03, -7.4973e-03,\n",
              "          8.5988e-04,  3.1834e-02,  9.3221e-03,  1.7263e-02, -1.8624e-02,\n",
              "         -9.6636e-03, -6.5859e-02,  2.8683e-02,  1.1369e-02, -6.2715e-03,\n",
              "          8.9163e-03,  1.0963e-02,  1.2848e-02, -1.9060e-02,  2.3604e-02,\n",
              "          7.5725e-03,  1.6116e-02, -1.0580e-02, -2.8834e-02,  1.5942e-02,\n",
              "          2.5451e-02,  1.3536e-02,  3.2381e-02,  1.8054e-02,  1.9330e-02,\n",
              "          1.3917e-02,  2.1353e-02, -1.5571e-02, -6.5668e-03,  2.6858e-02,\n",
              "          2.8821e-02, -5.4192e-02, -2.1616e-02, -1.0323e-02,  1.2505e-02,\n",
              "          2.4127e-02,  1.7593e-02,  1.7904e-02,  6.7388e-02,  3.3076e-02,\n",
              "         -2.8837e-02,  9.9256e-02,  2.5413e-02, -7.7117e-03, -1.1875e-02,\n",
              "          1.2681e-02,  1.5356e-02, -1.8079e-02, -3.4605e-03, -1.3644e-02,\n",
              "         -1.0352e-02,  1.9042e-02, -3.2287e-03, -1.7689e-02,  1.2396e-02,\n",
              "          8.8500e-02, -1.2039e-02, -1.2993e-02, -8.0942e-02,  3.0246e-02,\n",
              "         -2.4582e-02,  1.1925e-02, -3.4133e-02,  3.9788e-03, -1.5908e-02,\n",
              "          4.8500e-02,  2.8256e-02, -5.4107e-03,  9.8507e-03, -1.2856e-02,\n",
              "          2.5242e-02,  4.6391e-02, -2.8242e-03,  1.1851e-02,  3.0538e-02,\n",
              "         -8.7805e-03,  2.9509e-02,  3.0391e-02,  2.5398e-02, -5.5917e-03,\n",
              "          3.0013e-02,  2.6625e-02,  5.8413e-02,  3.5348e-02,  1.6146e-02,\n",
              "         -1.5925e-02, -4.7171e-02, -3.8573e-02, -7.2790e-03, -2.2856e-02,\n",
              "          3.5662e-04, -2.7004e-02, -6.9313e-02, -1.4113e-01,  1.7778e-02,\n",
              "         -1.0676e-02, -2.9769e-02, -1.9806e-02,  2.2138e-02,  1.7040e-02,\n",
              "          8.2713e-03,  1.6629e-02, -2.6368e-03, -5.0779e-02,  6.1105e-03,\n",
              "          1.1701e-03,  1.4689e-01,  5.0223e-02,  1.6414e-04, -1.8248e-02,\n",
              "          5.5961e-02, -2.8947e-02,  6.1362e-03,  1.6469e-04, -1.1677e-03,\n",
              "         -3.5334e-02,  1.0197e-02,  2.0778e-02,  1.2042e-02,  2.1424e-02,\n",
              "         -5.0621e-02, -1.1828e-02, -8.8121e-03, -1.1504e-02,  3.6945e-02,\n",
              "          7.5034e-03, -1.8938e-02, -2.1018e-02, -1.5529e-02, -1.6838e-02,\n",
              "          1.3055e-02, -9.5437e-03, -4.5657e-03, -2.6552e-02, -5.8748e-02,\n",
              "         -5.0166e-03,  2.8761e-02,  1.0905e-02, -3.7595e-03, -7.6484e-03,\n",
              "          4.2286e-02, -1.8596e-02,  1.4844e-02,  4.3647e-02,  2.0135e-02,\n",
              "         -1.8835e-02, -1.7166e-02, -1.8965e-02, -1.5170e-03,  2.6176e-02,\n",
              "         -1.5778e-02, -1.8371e-01, -4.1129e-02,  1.2667e-02,  2.9389e-02,\n",
              "         -2.0449e-02,  1.7853e-02,  1.9834e-02,  3.7279e-02,  3.3073e-02,\n",
              "          8.0855e-03, -1.4483e-02,  2.1612e-02, -1.3695e-02,  2.1295e-02,\n",
              "          2.7555e-02, -5.3609e-02,  4.7961e-02,  1.3657e-02,  2.5346e-02,\n",
              "         -1.5954e-02,  1.2211e-02,  5.5388e-02,  1.8780e-02,  1.9341e-02,\n",
              "          6.4934e-02, -9.6383e-03,  2.3405e-02,  3.7735e-03, -1.3790e-02,\n",
              "         -4.7264e-02, -3.8325e-02,  1.4697e-02, -2.1128e-02,  2.9637e-03,\n",
              "         -1.6556e-02,  3.0730e-02,  2.6704e-02,  8.6808e-03,  2.0983e-02,\n",
              "          9.4765e-03, -1.5734e-02, -9.2854e-03, -4.2730e-02,  4.8399e-04,\n",
              "         -5.8970e-03, -1.2150e-02, -3.8628e-03,  1.1598e-02, -5.3864e-03,\n",
              "         -7.8103e-02,  1.1916e-02,  1.0239e-02,  1.5489e-02,  3.9336e-02,\n",
              "          6.0934e-03,  1.1719e-03,  1.0392e-02, -1.4282e-02,  2.1159e-02,\n",
              "         -4.0262e-03, -1.9312e-02,  3.6038e-02,  3.6940e-02, -6.2987e-03,\n",
              "         -1.4531e-02,  2.0177e-02,  7.0748e-03,  3.1172e-02,  3.0924e-03,\n",
              "         -9.7840e-04, -1.8069e-02,  2.2551e-02, -2.1325e-02,  4.5481e-02,\n",
              "         -3.7461e-02,  1.8061e-02,  8.8161e-03, -4.1250e-02, -5.5035e-03,\n",
              "          1.5435e-04, -4.1868e-02,  6.8074e-03, -1.3444e-02, -5.7998e-03,\n",
              "         -8.8076e-03, -4.1700e-02, -6.5637e-03,  2.4275e-02, -6.1631e-03,\n",
              "         -2.4154e-02,  2.1647e-02,  4.6213e-03,  4.3175e-02,  1.9738e-02,\n",
              "          2.3778e-02, -1.5293e-02,  6.6878e-02, -1.5698e-02, -1.5699e-02,\n",
              "         -4.8993e-02,  1.4321e-02,  1.0912e-02, -5.9953e-03,  2.5795e-02,\n",
              "         -2.0212e-02, -1.3060e-02,  2.1259e-03,  3.4941e-02, -2.3370e-02,\n",
              "         -2.2720e-02,  1.7480e-02, -2.0589e-02,  1.4517e-02, -1.0772e-02,\n",
              "         -5.4286e-02, -2.9034e-02, -1.8885e-02, -1.1674e-02, -3.3672e-02,\n",
              "          9.2789e-03,  1.2618e-02, -4.5908e-03,  5.0061e-02, -1.2263e-02,\n",
              "          1.8546e-02,  6.4626e-03, -3.4042e-02, -3.2895e-02,  3.1011e-02,\n",
              "         -4.0632e-02,  9.6556e-03, -3.9963e-02, -3.5975e-02,  3.9360e-02,\n",
              "          5.0894e-02,  2.9461e-02,  2.3020e-02, -1.7967e-02,  6.2119e-03,\n",
              "          4.1058e-04, -1.7590e-02,  1.3824e-02, -3.3598e-01, -8.3552e-03,\n",
              "         -2.7124e-02,  2.5120e-02, -2.1712e-02,  1.6972e-02, -3.6125e-02,\n",
              "         -7.3260e-02, -1.9315e-02,  8.2818e-03, -2.2727e-02, -7.4957e-03,\n",
              "         -2.4673e-03,  2.8327e-02, -1.8628e-02, -7.0871e-02, -3.2797e-02,\n",
              "          3.0675e-04,  6.0747e-02, -4.5225e-02,  3.6472e-02,  7.7129e-02,\n",
              "         -1.0311e-02,  1.5719e-02,  4.7626e-03, -1.3927e-02,  4.2546e-02,\n",
              "         -4.5498e-04, -1.0014e-02, -3.2912e-02,  2.2429e-03,  3.9490e-02,\n",
              "         -3.7120e-02,  3.3172e-04, -2.9872e-02, -2.1749e-02, -3.4006e-02,\n",
              "          6.0068e-02, -2.0201e-02, -1.7702e-02,  8.8483e-03,  3.8298e-03,\n",
              "          3.3047e-03,  2.1119e-02, -1.5993e-02, -1.1370e-02, -3.9894e-02,\n",
              "         -2.7203e-02, -2.4957e-02, -1.4690e-02,  2.2820e-02,  5.6714e-02,\n",
              "         -2.6834e-02, -4.7511e-02, -2.3782e-01,  9.4719e-02, -3.7009e-02,\n",
              "         -5.3029e-02, -1.7850e-02,  3.4502e-03,  6.5374e-02,  1.7767e-02,\n",
              "         -3.6696e-02, -2.2737e-02,  2.0109e-02,  6.9928e-03, -1.6211e-02,\n",
              "         -1.7080e-02,  1.3366e-02, -1.0234e-02,  2.2718e-02,  1.7094e-02,\n",
              "          1.0022e-02,  2.2409e-02, -1.1547e-02,  3.1810e-02,  8.9337e-03,\n",
              "         -2.8841e-02,  1.8014e-03,  2.0960e-02, -6.3507e-03,  4.3826e-02,\n",
              "          2.8087e-21,  1.5318e-02, -6.8928e-03,  3.5737e-03, -2.3569e-02,\n",
              "         -4.7046e-03,  5.9211e-02,  5.2437e-02,  5.3446e-03, -3.0289e-02,\n",
              "         -1.3122e-02, -3.1732e-02, -1.0281e-02, -1.4670e-02, -9.9907e-03,\n",
              "          6.9366e-03,  1.1894e-03, -5.9753e-02, -7.0890e-03,  8.4321e-03,\n",
              "         -4.4150e-02,  4.8085e-02,  4.4775e-03, -8.9824e-03, -2.7532e-03,\n",
              "          3.1044e-02, -2.9164e-03,  7.2612e-03, -4.1750e-02,  3.0840e-02,\n",
              "          1.7786e-02,  1.1788e-02, -3.9621e-02,  8.5731e-04, -3.9614e-02,\n",
              "          3.5496e-02,  9.9600e-03,  6.4937e-02,  1.8354e-02,  1.1275e-02,\n",
              "         -1.8650e-03,  2.4122e-02,  2.9203e-02, -2.6818e-02, -4.4876e-03,\n",
              "         -2.3340e-02,  3.0505e-02, -3.9855e-02,  7.8353e-03,  3.0045e-02,\n",
              "         -2.2442e-02,  1.1124e-02,  3.5697e-02, -9.9778e-04, -1.1885e-02,\n",
              "          8.3151e-03, -9.4292e-03,  4.2543e-02, -4.4497e-02,  1.9267e-02,\n",
              "          6.4982e-03, -1.3327e-02, -4.1997e-04, -5.6510e-04,  1.9656e-02,\n",
              "          2.3398e-02, -1.1641e-02, -1.5404e-02, -4.4930e-02, -4.3041e-02,\n",
              "         -6.4571e-03,  1.0531e-02,  5.6602e-03,  5.5242e-02,  5.7615e-03,\n",
              "          1.1279e-02,  3.1879e-02, -2.6935e-02,  1.2238e-02, -6.8308e-03,\n",
              "         -1.2102e-01, -4.7269e-02, -3.7726e-02,  2.5420e-02,  1.7583e-02,\n",
              "         -1.1679e-02,  1.3893e-02,  4.1767e-03, -3.6358e-02, -2.1834e-02,\n",
              "         -1.5660e-02,  4.0827e-03,  6.9491e-02,  7.9949e-06,  6.1520e-02,\n",
              "         -2.0329e-02,  1.0771e-02, -1.5018e-02,  1.5624e-02,  1.3237e-02,\n",
              "          4.8807e-02, -3.0600e-02,  1.2480e-02, -3.6398e-02, -7.6410e-02,\n",
              "          3.7611e-03, -1.1957e-02, -1.5118e-02, -7.3532e-03, -1.7466e-02,\n",
              "          3.5626e-02, -1.0375e-01, -1.0720e-02,  1.7636e-02, -1.9839e-02,\n",
              "          8.6834e-04,  7.5460e-02, -3.6007e-02, -3.6314e-02, -4.1463e-02,\n",
              "         -2.2259e-02, -1.0002e-02,  2.0577e-02,  7.5530e-03, -2.8948e-03,\n",
              "          3.2632e-02,  1.8711e-02, -3.4056e-02, -5.4314e-03, -1.3641e-02,\n",
              "         -9.6308e-02,  1.3925e-02, -3.2889e-03,  1.4344e-02,  5.1312e-03,\n",
              "          2.2929e-04, -8.9224e-03, -1.1383e-02,  1.2121e-02, -1.3838e-02,\n",
              "          1.7122e-02, -1.0871e-02,  2.6623e-02,  2.1373e-02,  6.9018e-03,\n",
              "         -1.8987e-02, -7.9206e-03,  1.9892e-02,  3.5879e-02, -4.2295e-02,\n",
              "         -2.5964e-02, -3.5300e-02,  2.2579e-02, -1.3342e-02, -1.4936e-02,\n",
              "          1.7169e-02,  7.4597e-03,  1.3661e-02, -1.2562e-02,  1.2252e-02,\n",
              "         -2.9546e-02, -1.5304e-02,  7.7621e-03, -2.4397e-02, -5.3797e-02,\n",
              "         -3.3156e-02,  7.8520e-03,  1.2074e-02,  6.5214e-04,  6.2887e-02,\n",
              "          4.1741e-02, -4.2573e-02, -4.5324e-03, -8.7050e-02,  5.6784e-02,\n",
              "         -4.6554e-04, -8.8660e-03, -8.5342e-03,  1.9919e-02,  3.9027e-02,\n",
              "          2.0024e-02,  3.6347e-02,  1.1753e-02, -1.8176e-03, -4.9367e-02,\n",
              "          1.8454e-02,  1.3787e-02,  1.6540e-02,  1.9769e-02, -7.8554e-03,\n",
              "         -2.4450e-02, -1.0189e-02, -1.8326e-02,  8.2743e-04, -3.1530e-02,\n",
              "         -2.0161e-03, -1.9175e-03, -3.2019e-02, -1.1795e-03,  5.5849e-02,\n",
              "          5.3472e-02,  6.9986e-03,  2.4919e-02, -1.5191e-02, -1.5355e-02,\n",
              "          4.5647e-02,  7.8387e-03,  5.5372e-02,  3.6555e-02, -3.7529e-03,\n",
              "         -3.9250e-02,  9.5629e-03,  3.1431e-02, -1.3780e-02,  7.5602e-02,\n",
              "         -1.0405e-01, -1.8252e-02, -8.5358e-03,  4.5263e-02,  2.2592e-02,\n",
              "         -2.7368e-02,  2.6070e-02, -8.4756e-04, -4.5803e-02, -4.4944e-02,\n",
              "         -2.6711e-03, -9.6356e-03, -2.9938e-03,  8.8503e-03, -1.0425e-02,\n",
              "         -5.2845e-02, -8.0125e-03,  6.3772e-03, -2.8971e-02,  2.9461e-02,\n",
              "         -1.8116e-02,  7.3729e-03, -2.3949e-02, -2.0131e-02,  1.8780e-02,\n",
              "          5.7073e-03,  3.3865e-03, -5.3033e-03,  3.6952e-02,  2.3551e-02,\n",
              "          2.6190e-02, -2.6305e-03,  1.0904e-02,  1.3705e-02,  9.3921e-03,\n",
              "         -4.0923e-02,  1.8401e-02, -6.0537e-02,  2.9215e-02,  1.7536e-02,\n",
              "         -1.5860e-02, -3.8359e-03, -7.6825e-03, -4.0665e-03,  1.8948e-02,\n",
              "          7.2988e-03,  6.8701e-04, -4.6456e-02,  1.9354e-02, -2.8908e-02,\n",
              "         -3.5642e-02, -6.3166e-03,  6.6081e-03, -2.6009e-02,  2.2135e-02,\n",
              "         -2.7996e-03, -4.6102e-03, -4.4939e-02, -7.5009e-02, -2.4758e-02,\n",
              "          2.2110e-02, -5.3231e-03,  8.1946e-05, -1.3780e-02, -1.4599e-02,\n",
              "         -1.9817e-02,  1.4855e-02, -3.9679e-02, -4.6718e-02,  3.5924e-02,\n",
              "         -1.1369e-02, -2.3453e-02,  3.3505e-02,  3.9547e-02,  1.8198e-02,\n",
              "          1.9009e-03, -1.2992e-02, -7.0070e-02, -1.8094e-02,  2.6777e-03,\n",
              "         -1.9305e-02,  3.8810e-02,  2.4300e-02, -7.2023e-04, -1.9454e-03,\n",
              "         -2.3459e-02,  5.2268e-03,  4.6697e-02, -2.1773e-02, -2.8760e-02,\n",
              "         -5.4244e-03,  6.9247e-03, -5.7502e-03, -8.4593e-03,  1.4924e-02,\n",
              "         -1.8791e-02,  3.6270e-03,  5.4179e-02,  1.2302e-02, -1.9126e-02,\n",
              "          2.6544e-03, -8.7265e-03,  1.9699e-02,  4.8516e-02,  1.2393e-02,\n",
              "         -7.1240e-04,  1.4664e-02,  4.8547e-05,  2.6117e-02, -4.1054e-02,\n",
              "          7.9446e-03,  1.3872e-02,  2.1536e-02, -2.4132e-02, -1.8870e-02,\n",
              "         -4.3018e-03,  1.1372e-01,  2.5021e-02, -3.3602e-03,  4.4373e-03,\n",
              "          1.1970e-02,  1.5304e-02, -7.1426e-03, -2.9103e-02, -1.3377e-02,\n",
              "         -1.5726e-02,  1.8188e-02, -2.2576e-02,  2.7893e-02,  1.0901e-02,\n",
              "          4.6955e-03,  2.7288e-02,  4.0845e-02,  2.0732e-02, -6.6450e-03,\n",
              "          1.7713e-02, -4.6519e-02,  2.4636e-02, -2.0609e-02, -8.9105e-03,\n",
              "          5.4723e-03,  3.0256e-03, -9.6862e-03, -1.5019e-02, -6.3100e-03,\n",
              "         -1.4221e-03,  3.1043e-02, -1.7540e-02,  2.0606e-02,  4.8842e-02,\n",
              "         -1.8622e-03, -3.5047e-02, -3.3949e-02,  1.8904e-02, -3.4573e-02,\n",
              "          1.0304e-02,  5.3727e-03, -3.2589e-03,  3.4026e-02,  1.7085e-02,\n",
              "          1.3353e-02, -2.5996e-02, -5.9090e-02,  1.1519e-02, -3.2571e-02,\n",
              "          2.6997e-02,  2.5645e-02, -8.7724e-03, -1.0385e-02, -7.7118e-03,\n",
              "          1.0151e-02, -1.5064e-02,  2.6412e-02, -5.8179e-02,  8.0672e-02,\n",
              "          2.5428e-02, -3.7891e-02, -1.1952e-02,  1.0899e-02,  1.0128e-02,\n",
              "          7.0777e-03, -1.8721e-02, -8.3115e-03, -2.9941e-02,  4.7957e-02,\n",
              "         -3.4585e-02,  1.0886e-02,  3.2126e-02,  1.9127e-02, -1.7835e-02,\n",
              "          3.1499e-02]], device='cuda:0')"
            ]
          },
          "metadata": {},
          "execution_count": 56
        }
      ]
    },
    {
      "cell_type": "markdown",
      "source": [
        "### For a list of sentences"
      ],
      "metadata": {
        "id": "ZDRe1uk9Es4x"
      }
    },
    {
      "cell_type": "code",
      "source": [
        "def compute_embeddings(sentence):\n",
        "\n",
        "    tokenized_sentences = tokenizer(sentence, return_tensors=\"pt\", padding=True, truncation=True).to(device)\n",
        "\n",
        "    model.eval()\n",
        "    with torch.no_grad():\n",
        "        embeddings = model(**tokenized_sentences)[0][:, 0]\n",
        "        # print(embeddings.shape)\n",
        "\n",
        "    normalized_embeddings = F.normalize(embeddings, p=2, dim=1)\n",
        "    detached_embeddings = normalized_embeddings.detach().cpu().numpy() # detached into cpu so that we can manipulate them for clustering\n",
        "\n",
        "    torch.cuda.empty_cache() # Careful with running out of memory\n",
        "\n",
        "    return detached_embeddings"
      ],
      "metadata": {
        "id": "OFOd5PChE7i_"
      },
      "execution_count": 75,
      "outputs": []
    },
    {
      "cell_type": "code",
      "source": [
        "detached_embeddings = compute_embeddings(sents[0])"
      ],
      "metadata": {
        "colab": {
          "base_uri": "https://localhost:8080/"
        },
        "id": "8_SapulEFWyk",
        "outputId": "0aa77331-e5d1-4eec-d157-b8b157e6da9f"
      },
      "execution_count": 73,
      "outputs": [
        {
          "output_type": "stream",
          "name": "stdout",
          "text": [
            "torch.Size([1, 896])\n"
          ]
        }
      ]
    },
    {
      "cell_type": "code",
      "source": [
        "detached_sents_embeddings = [compute_embeddings(sent) for sent in sents]"
      ],
      "metadata": {
        "id": "nupBnyXyGD5a"
      },
      "execution_count": 76,
      "outputs": []
    },
    {
      "cell_type": "code",
      "source": [
        "len(detached_sents_embeddings)"
      ],
      "metadata": {
        "colab": {
          "base_uri": "https://localhost:8080/"
        },
        "id": "dnUYDZj9Gbxv",
        "outputId": "a4ec69f3-0b0d-45eb-90e0-7f4b29ab1f95"
      },
      "execution_count": 78,
      "outputs": [
        {
          "output_type": "execute_result",
          "data": {
            "text/plain": [
              "913"
            ]
          },
          "metadata": {},
          "execution_count": 78
        }
      ]
    },
    {
      "cell_type": "code",
      "source": [
        "len(detached_sents_embeddings) == len(sents)"
      ],
      "metadata": {
        "colab": {
          "base_uri": "https://localhost:8080/"
        },
        "id": "MoDudDIDGeEv",
        "outputId": "d3050274-6b35-4d15-c42a-184ecaff9b13"
      },
      "execution_count": 79,
      "outputs": [
        {
          "output_type": "execute_result",
          "data": {
            "text/plain": [
              "True"
            ]
          },
          "metadata": {},
          "execution_count": 79
        }
      ]
    },
    {
      "cell_type": "code",
      "source": [
        "detached_sents_embeddings[0].shape"
      ],
      "metadata": {
        "colab": {
          "base_uri": "https://localhost:8080/"
        },
        "id": "sjxS_QG8GiTj",
        "outputId": "898b388a-177a-4b69-9b93-d90126a36895"
      },
      "execution_count": 80,
      "outputs": [
        {
          "output_type": "execute_result",
          "data": {
            "text/plain": [
              "(1, 896)"
            ]
          },
          "metadata": {},
          "execution_count": 80
        }
      ]
    },
    {
      "cell_type": "markdown",
      "source": [
        "## Clustering"
      ],
      "metadata": {
        "id": "iSc1QSlJGloT"
      }
    }
  ],
  "metadata": {
    "kernelspec": {
      "display_name": "Python 3",
      "name": "python3"
    },
    "language_info": {
      "codemirror_mode": {
        "name": "ipython",
        "version": 3
      },
      "file_extension": ".py",
      "mimetype": "text/x-python",
      "name": "python",
      "nbconvert_exporter": "python",
      "pygments_lexer": "ipython3",
      "version": "3.12.0"
    },
    "colab": {
      "provenance": [],
      "gpuType": "T4"
    },
    "accelerator": "GPU"
  },
  "nbformat": 4,
  "nbformat_minor": 0
}