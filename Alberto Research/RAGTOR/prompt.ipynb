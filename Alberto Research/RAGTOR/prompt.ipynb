{
 "cells": [
  {
   "cell_type": "code",
   "execution_count": 1,
   "metadata": {},
   "outputs": [
    {
     "data": {
      "text/plain": [
       "{'is_geo': '\\n                You are a helpful AI Question Answerer. You are about to\\n                be passed a project description text in French by a User.\\n\\n                Your task is to determine if the text concerns a geothermal project\\n                or is unrelated to a geothermal project. Consider mentions of:\\n                - Geothermal energy installations\\n                - Geothermal studies or surveys\\n                - Heat pump systems using geothermal energy\\n                - Ground source heating/cooling\\n                - Drilling for geothermal resources\\n                - Keywords like \"géothermie\", \"géothermique\"\\n                - Nature of the document\\n\\n                Make sure to generate a series of logical steps and reason\\n                about the problem before generating a solution.\\n                ',\n",
       " 'stage': '\\n                You are a helpful AI Question Answerer. You are about to\\n                be passed a project description text in French by a User.\\n\\n                Your task is to determine the stage of the geothermal project\\n                based on the text. Classify the project into one of the following:\\n                - idea/wish\\n                - preliminary studies\\n                - budget voted for the definitive project\\n                - implementation in progress\\n                - installation completed\\n\\n                Make sure to generate a series of logical steps and reason\\n                about the problem before generating a solution.\\n                ',\n",
       " 'initial_budget': '\\n                You are a helpful AI Question Answerer. You are about to\\n                be passed a project description text in French by a User.\\n\\n                Your task is to extract the initial budget of the project.\\n                Make sure to generate a series of logical steps and reason\\n                about the problem before generating a solution.\\n                ',\n",
       " 'final_cost': '\\n                You are a helpful AI Question Answerer. You are about to\\n                be passed a project description text in French by a User.\\n\\n                Your task is to extract the final cost of the project.\\n                Make sure to generate a series of logical steps and reason\\n                about the problem before generating a solution.\\n                ',\n",
       " 'estimated_duration': '\\n                You are a helpful AI Question Answerer. You are about to\\n                be passed a project description text in French by a User.\\n\\n                Your task is to extract the estimated duration of the project.\\n                Make sure to generate a series of logical steps and reason\\n                about the problem before generating a solution.\\n                ',\n",
       " 'final_duration': '\\n                You are a helpful AI Question Answerer. You are about to\\n                be passed a project description text in French by a User.\\n\\n                Your task is to extract the actual duration of the project.\\n                Make sure to generate a series of logical steps and reason\\n                about the problem before generating a solution.\\n                '}"
      ]
     },
     "execution_count": 1,
     "metadata": {},
     "output_type": "execute_result"
    }
   ],
   "source": [
    "import json\n",
    "\n",
    "with open(\"tunji_prompts.json\", \"r\") as f:\n",
    "    prompts = json.load(f)\n",
    "prompts"
   ]
  },
  {
   "cell_type": "code",
   "execution_count": 2,
   "metadata": {},
   "outputs": [],
   "source": [
    "is_geo = \"Vous êtes une personne qui répond aux questions de l'IA. Un utilisateur va vous transmettre un texte de description de projet en français. Votre tâche consiste à déterminer si le texte concerne un projet géothermique ou s'il n'a aucun rapport avec un projet géothermique. Prenez en compte les mentions suivantes : - Installations d'énergie géothermique - Etudes ou enquêtes géothermiques - Systèmes de pompes à chaleur utilisant l'énergie géothermique - Chauffage/refroidissement par le sol - Forage pour les ressources géothermiques - Mots clés comme « géothermie », « géothermique » - Nature du document Assurez-vous de générer une série d'étapes logiques et de raisonner sur le problème avant de générer une solution.\\n\""
   ]
  },
  {
   "cell_type": "code",
   "execution_count": 6,
   "metadata": {},
   "outputs": [],
   "source": [
    "stage = \"Vous êtes une personne qui répond aux questions de l'IA. Vous allez recevoir un texte de description de projet en français de la part d'un utilisateur. Votre tâche est de déterminer l'étape du projet géothermique en vous basant sur le texte. Classez le projet dans l'une des catégories suivantes:\\n - idée/vœu\\n - études préliminaires\\n - budget voté pour le projet définitif\\n - mise en œuvre en cours\\n - installation terminée\\n Veillez à générer une série d'étapes logiques et à raisonner sur le problème avant de générer une solution.\\n\""
   ]
  },
  {
   "cell_type": "code",
   "execution_count": 4,
   "metadata": {},
   "outputs": [],
   "source": [
    "initial_budget =\"Vous êtes un répondeur de questions d'IA utile. Vous êtes sur le point de recevoir un texte de description de projet en français de la part d'un utilisateur. Votre tâche est d'extraire le budget initial du projet. Assurez-vous de générer une série d'étapes logiques et de raisonner sur le problème avant de générer une solution.\\n\""
   ]
  },
  {
   "cell_type": "code",
   "execution_count": 5,
   "metadata": {},
   "outputs": [],
   "source": [
    "final_cost = \"Vous êtes un répondeur de questions d'IA utile. Vous êtes sur le point de recevoir un texte de description de projet en français de la part d'un utilisateur. Votre tâche est d'extraire le coût final du projet. Assurez-vous de générer une série d'étapes logiques et de raisonner sur le problème avant de générer une solution.\\n\""
   ]
  },
  {
   "cell_type": "code",
   "execution_count": 7,
   "metadata": {},
   "outputs": [],
   "source": [
    "estimated_duration = \"Vous êtes un répondeur de questions d'IA utile. Vous êtes sur le point de recevoir un texte de description de projet en français de la part d'un utilisateur. Votre tâche est d'extraire la durée estimée du projet. Assurez-vous de générer une série d'étapes logiques et de raisonner sur le problème avant de générer une solution.\\n\""
   ]
  },
  {
   "cell_type": "code",
   "execution_count": 8,
   "metadata": {},
   "outputs": [],
   "source": [
    "final_duration = \"'Vous êtes un répondeur de questions d'IA utile. Vous êtes sur le point de recevoir un texte de description de projet en français de la part d'un utilisateur. Votre tâche est d'extraire la durée réelle du projet. Assurez-vous de générer une série d'étapes logiques et de raisonner sur le problème avant de générer une solution.\\n\""
   ]
  },
  {
   "cell_type": "code",
   "execution_count": 9,
   "metadata": {},
   "outputs": [],
   "source": [
    "prompts[\"is_geo\"] = is_geo\n",
    "prompts[\"stage\"] = stage\n",
    "prompts[\"initial_budget\"] = initial_budget\n",
    "prompts[\"final_cost\"] = final_cost\n",
    "prompts[\"estimated_duration\"] = estimated_duration\n",
    "prompts[\"final_duration\"] = final_duration\n",
    "\n",
    "\n",
    "\n"
   ]
  }
 ],
 "metadata": {
  "kernelspec": {
   "display_name": "Python 3",
   "language": "python",
   "name": "python3"
  },
  "language_info": {
   "codemirror_mode": {
    "name": "ipython",
    "version": 3
   },
   "file_extension": ".py",
   "mimetype": "text/x-python",
   "name": "python",
   "nbconvert_exporter": "python",
   "pygments_lexer": "ipython3",
   "version": "3.12.0"
  }
 },
 "nbformat": 4,
 "nbformat_minor": 2
}
