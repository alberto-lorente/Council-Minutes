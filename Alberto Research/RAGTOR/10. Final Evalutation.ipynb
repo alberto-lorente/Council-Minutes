{
 "cells": [
  {
   "cell_type": "markdown",
   "metadata": {},
   "source": [
    "# Evaluation\n"
   ]
  },
  {
   "cell_type": "code",
   "execution_count": 23,
   "metadata": {},
   "outputs": [],
   "source": [
    "with open(\"HF_TOKEN.txt\", \"r\") as f:\n",
    "    hf_token = f.read()\n",
    "\n",
    "with open(\"GROQ_KEY.txt\", \"r\") as f:\n",
    "    groq_token = f.read()"
   ]
  },
  {
   "cell_type": "code",
   "execution_count": 24,
   "metadata": {},
   "outputs": [
    {
     "name": "stdout",
     "output_type": "stream",
     "text": [
      "alberto-lorente\n"
     ]
    }
   ],
   "source": [
    "from huggingface_hub import HfFolder, whoami\n",
    "\n",
    "HfFolder.save_token(hf_token)\n",
    "print(whoami()[\"name\"])"
   ]
  },
  {
   "cell_type": "code",
   "execution_count": 38,
   "metadata": {},
   "outputs": [
    {
     "name": "stdout",
     "output_type": "stream",
     "text": [
      "Cuda available\n"
     ]
    }
   ],
   "source": [
    "import torch\n",
    "\n",
    "device = \"cpu\"\n",
    "if torch.cuda.is_available():\n",
    "    print(\"Cuda available\")\n",
    "    device = torch.device('cuda')"
   ]
  },
  {
   "cell_type": "markdown",
   "metadata": {},
   "source": [
    "### Preparing the Data for Evaluation"
   ]
  },
  {
   "cell_type": "code",
   "execution_count": 35,
   "metadata": {},
   "outputs": [],
   "source": [
    "import os \n",
    "eval_path = r\"Evaluation data\\Solved PDFs\"\n",
    "solved_pdfs_path = os.listdir(eval_path)\n",
    "solved_pdfs_path_pdf_files = [os.path.join(eval_path, pdf) for pdf in solved_pdfs_path if pdf.endswith(\"pdf\")]\n",
    "solved_pdfs_path_txt_files = [os.path.join(eval_path, txt) for txt in solved_pdfs_path if txt.endswith(\"txt\")]"
   ]
  },
  {
   "cell_type": "code",
   "execution_count": 36,
   "metadata": {},
   "outputs": [],
   "source": [
    "list_tuple_data = []\n",
    "i = 0\n",
    "while i < len(solved_pdfs_path_pdf_files):\n",
    "    tup = (solved_pdfs_path_pdf_files[i], solved_pdfs_path_txt_files[i])\n",
    "    list_tuple_data.append(tup)\n",
    "    i += 1"
   ]
  },
  {
   "cell_type": "code",
   "execution_count": 37,
   "metadata": {},
   "outputs": [
    {
     "data": {
      "text/plain": [
       "[('Evaluation data\\\\Solved PDFs\\\\4b7076dc7989552fc75046c32d068eee9122adff_DEL13-1223-Annex.pdf',\n",
       "  'Evaluation data\\\\Solved PDFs\\\\4b7076dc7989552fc75046c32d068eee9122adff_DEL13-1223-Annex.txt'),\n",
       " ('Evaluation data\\\\Solved PDFs\\\\7a3ef5c116cca7f5328c44ef2c3f227f8c90ef60_Zones_Accélérati.pdf',\n",
       "  'Evaluation data\\\\Solved PDFs\\\\7a3ef5c116cca7f5328c44ef2c3f227f8c90ef60_Zones_Accélérati.txt'),\n",
       " ('Evaluation data\\\\Solved PDFs\\\\a7f4c9d0d7c8f3c9cd67b7c80beec26d9c234382_delibs-22-mai-24.pdf',\n",
       "  'Evaluation data\\\\Solved PDFs\\\\a7f4c9d0d7c8f3c9cd67b7c80beec26d9c234382_delibs-22-mai-24.txt'),\n",
       " ('Evaluation data\\\\Solved PDFs\\\\ecc6f_07-12-juillet.pdf',\n",
       "  'Evaluation data\\\\Solved PDFs\\\\ecc6f_07-12-juillet.txt'),\n",
       " ('Evaluation data\\\\Solved PDFs\\\\fa224c7892c9c4971dda6423c75c97a04f6e3666_del2024_22-defin.pdf',\n",
       "  'Evaluation data\\\\Solved PDFs\\\\fa224c7892c9c4971dda6423c75c97a04f6e3666_del2024_22-defin.txt')]"
      ]
     },
     "execution_count": 37,
     "metadata": {},
     "output_type": "execute_result"
    }
   ],
   "source": [
    "list_tuple_data"
   ]
  },
  {
   "cell_type": "markdown",
   "metadata": {},
   "source": [
    "### Loading Prompts"
   ]
  },
  {
   "cell_type": "code",
   "execution_count": 53,
   "metadata": {},
   "outputs": [],
   "source": [
    "import json\n",
    "\n",
    "with open(\"prompts_preprocessing.json\", \"r\") as f:\n",
    "    prompts_for_processing = json.load(f)\n"
   ]
  },
  {
   "cell_type": "code",
   "execution_count": 54,
   "metadata": {},
   "outputs": [],
   "source": [
    "with open(\"tunji_prompts.json\", \"r\") as f:\n",
    "    prompts_query = json.load(f)"
   ]
  },
  {
   "cell_type": "code",
   "execution_count": null,
   "metadata": {},
   "outputs": [],
   "source": [
    "from council_rag.preprocessing import preprocess_markdown_text\n",
    "from council_rag.data_transformations import process_tables, summarize_clusters\n",
    "import os\n",
    "from pprint import pprint\n",
    "import time\n",
    "\n"
   ]
  }
 ],
 "metadata": {
  "kernelspec": {
   "display_name": "Python 3",
   "language": "python",
   "name": "python3"
  },
  "language_info": {
   "codemirror_mode": {
    "name": "ipython",
    "version": 3
   },
   "file_extension": ".py",
   "mimetype": "text/x-python",
   "name": "python",
   "nbconvert_exporter": "python",
   "pygments_lexer": "ipython3",
   "version": "3.12.0"
  }
 },
 "nbformat": 4,
 "nbformat_minor": 2
}
