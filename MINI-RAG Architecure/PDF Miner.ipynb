{
 "cells": [
  {
   "cell_type": "code",
   "execution_count": 11,
   "metadata": {},
   "outputs": [],
   "source": [
    "example_pdf = r\"meeting-minutes-sample.pdf\""
   ]
  },
  {
   "cell_type": "code",
   "execution_count": 16,
   "metadata": {},
   "outputs": [
    {
     "name": "stdout",
     "output_type": "stream",
     "text": [
      "Number of pages in the PDF: 1\n",
      "\n",
      "Page text:\n",
      "\n",
      " MEETING MINUTES TEMPLATE & SAMPLE:\n",
      "Ace Consulting Group\n",
      "No: 13-27/8/2008\n",
      "Location: Ann's place\n",
      "Attending: Ann Miller, Valerie Soares, Tuck Le Ong.\n",
      "Apologies: Martin - Car broke down\n",
      "Meeting started: 4.00 pm\n",
      "Meeting closed: 5.20 pm\n",
      "Confirmation of minutes: ______________________________\n",
      "Minutes: Meeting No. 12-24/8/2007 confirmed.\n",
      "Proceedings: Martin's status report read in his absence.\n",
      "Ann has confirmed the introduction to the report done.\n",
      "Val status report OK.\n",
      "Tuck Le and Ann have drafted the context diagram\n",
      "Martin's work not done.\n",
      "Concerns: The group is disappointed with the lack of deliverables from\n",
      "Martin, despite continued assurances that he would do his share of the\n",
      "work.\n",
      "Furthermore the group is concerned that George has withdrawn from\n",
      "the subject without telling us, which generally shows a lack of regard\n",
      "for the position he has left us in.\n",
      "Actions: Ann and Val to work on completing the draft report by Thursday.\n",
      "Tuck Le to complete Level 0, and review with Val and Ann.\n",
      "Martin to be contacted by Tuck Le regarding group's concerns.\n",
      "Tutor to be informed of our concerns regarding George.\n",
      "Next Meeting: Tuck Le's place - 30/8/08 10.00 am\n",
      "Ann unable to come because of funeral. Val to bring all her stuff.\n",
      "\n",
      "Page text object type:\n",
      " <class 'str'>\n"
     ]
    }
   ],
   "source": [
    "import pdfplumber\n",
    "\n",
    "with pdfplumber.open(example_pdf) as pdf:\n",
    "    n_pages = len(pdf.pages)\n",
    "    print(\"Number of pages in the PDF:\", n_pages)\n",
    "    print()\n",
    "    for page in pdf.pages:\n",
    "        page_text = page.extract_text()\n",
    "        print(\"Page text:\\n\\n\", page_text)\n",
    "        print()\n",
    "        print(\"Page text object type:\\n\", type(page_text))"
   ]
  },
  {
   "cell_type": "code",
   "execution_count": 18,
   "metadata": {},
   "outputs": [],
   "source": [
    "with open(\"extracted_pdf.txt\", \"w\") as f:\n",
    "    f.write(page_text)"
   ]
  }
 ],
 "metadata": {
  "kernelspec": {
   "display_name": "Python 3",
   "language": "python",
   "name": "python3"
  },
  "language_info": {
   "codemirror_mode": {
    "name": "ipython",
    "version": 3
   },
   "file_extension": ".py",
   "mimetype": "text/x-python",
   "name": "python",
   "nbconvert_exporter": "python",
   "pygments_lexer": "ipython3",
   "version": "3.12.0"
  }
 },
 "nbformat": 4,
 "nbformat_minor": 2
}
