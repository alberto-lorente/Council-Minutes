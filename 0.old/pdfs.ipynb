{
 "cells": [
  {
   "cell_type": "code",
   "execution_count": 32,
   "metadata": {},
   "outputs": [
    {
     "data": {
      "text/html": [
       "<div>\n",
       "<style scoped>\n",
       "    .dataframe tbody tr th:only-of-type {\n",
       "        vertical-align: middle;\n",
       "    }\n",
       "\n",
       "    .dataframe tbody tr th {\n",
       "        vertical-align: top;\n",
       "    }\n",
       "\n",
       "    .dataframe thead th {\n",
       "        text-align: right;\n",
       "    }\n",
       "</style>\n",
       "<table border=\"1\" class=\"dataframe\">\n",
       "  <thead>\n",
       "    <tr style=\"text-align: right;\">\n",
       "      <th></th>\n",
       "      <th>pdf_name</th>\n",
       "      <th>link_web</th>\n",
       "      <th>word_count¿?¿?¿?</th>\n",
       "      <th>org_Responsible</th>\n",
       "      <th>date</th>\n",
       "    </tr>\n",
       "  </thead>\n",
       "  <tbody>\n",
       "    <tr>\n",
       "      <th>0</th>\n",
       "      <td>2960/dff71_Seance_du_26_juillet_2022.pdf</td>\n",
       "      <td>https://www.cc-creonnais.fr/fileadmin/base_doc...</td>\n",
       "      <td>NaN</td>\n",
       "      <td>NaN</td>\n",
       "      <td>2022-07-26 00:00:00</td>\n",
       "    </tr>\n",
       "    <tr>\n",
       "      <th>1</th>\n",
       "      <td>4854/29208_P2-Rapport-de-Presentation-APPROB-A...</td>\n",
       "      <td>https://www.mairie-santeny.fr/wp-content/uploa...</td>\n",
       "      <td>NaN</td>\n",
       "      <td>NaN</td>\n",
       "      <td>2022-07-01 00:00:00</td>\n",
       "    </tr>\n",
       "    <tr>\n",
       "      <th>2</th>\n",
       "      <td>1378/13905_VV340-bon-3.pdf</td>\n",
       "      <td>https://www.sgdb91.com/wp-content/uploads/2022...</td>\n",
       "      <td>NaN</td>\n",
       "      <td>NaN</td>\n",
       "      <td>2022-07-01 00:00:00</td>\n",
       "    </tr>\n",
       "    <tr>\n",
       "      <th>3</th>\n",
       "      <td>1378/76b71_tribunes-VV-340.pdf</td>\n",
       "      <td>https://www.sgdb91.com/wp-content/uploads/2022...</td>\n",
       "      <td>NaN</td>\n",
       "      <td>NaN</td>\n",
       "      <td>2022-07-01 00:00:00</td>\n",
       "    </tr>\n",
       "    <tr>\n",
       "      <th>4</th>\n",
       "      <td>2713/e87b2_Plan_Action_CASGBS.pdf</td>\n",
       "      <td>https://www.saintgermainbouclesdeseine.fr/wp-c...</td>\n",
       "      <td>2713.0</td>\n",
       "      <td>CA Saint Germain Boucles de Seine (78)</td>\n",
       "      <td>2023-01-01 00:00:00</td>\n",
       "    </tr>\n",
       "  </tbody>\n",
       "</table>\n",
       "</div>"
      ],
      "text/plain": [
       "                                            pdf_name  \\\n",
       "0           2960/dff71_Seance_du_26_juillet_2022.pdf   \n",
       "1  4854/29208_P2-Rapport-de-Presentation-APPROB-A...   \n",
       "2                         1378/13905_VV340-bon-3.pdf   \n",
       "3                     1378/76b71_tribunes-VV-340.pdf   \n",
       "4                  2713/e87b2_Plan_Action_CASGBS.pdf   \n",
       "\n",
       "                                            link_web  word_count¿?¿?¿?  \\\n",
       "0  https://www.cc-creonnais.fr/fileadmin/base_doc...               NaN   \n",
       "1  https://www.mairie-santeny.fr/wp-content/uploa...               NaN   \n",
       "2  https://www.sgdb91.com/wp-content/uploads/2022...               NaN   \n",
       "3  https://www.sgdb91.com/wp-content/uploads/2022...               NaN   \n",
       "4  https://www.saintgermainbouclesdeseine.fr/wp-c...            2713.0   \n",
       "\n",
       "                          org_Responsible                 date  \n",
       "0                                     NaN  2022-07-26 00:00:00  \n",
       "1                                     NaN  2022-07-01 00:00:00  \n",
       "2                                     NaN  2022-07-01 00:00:00  \n",
       "3                                     NaN  2022-07-01 00:00:00  \n",
       "4  CA Saint Germain Boucles de Seine (78)  2023-01-01 00:00:00  "
      ]
     },
     "execution_count": 32,
     "metadata": {},
     "output_type": "execute_result"
    }
   ],
   "source": [
    "import pandas as pd\n",
    "\n",
    "colnames=['pdf_name', 'link_web', 'word_count¿?¿?¿?', 'org_Responsible', \"date\"] \n",
    "data = pd.read_csv(\"pdfs.csv\", names=colnames, header=None)\n",
    "data.head()"
   ]
  },
  {
   "cell_type": "code",
   "execution_count": 25,
   "metadata": {},
   "outputs": [
    {
     "data": {
      "text/plain": [
       "Index(['pdf_name', 'link_web', 'na1', 'na2', 'date'], dtype='object')"
      ]
     },
     "execution_count": 25,
     "metadata": {},
     "output_type": "execute_result"
    }
   ],
   "source": [
    "data.columns"
   ]
  },
  {
   "cell_type": "code",
   "execution_count": 26,
   "metadata": {},
   "outputs": [],
   "source": [
    "list_links = data[\"link_web\"].to_list()"
   ]
  },
  {
   "cell_type": "code",
   "execution_count": 30,
   "metadata": {},
   "outputs": [
    {
     "data": {
      "text/plain": [
       "na2\n",
       "Île-de-France                                              219\n",
       "CA Roannais Agglomération                                  118\n",
       "Agence Parisienne du Climat (APC)                          113\n",
       "Métropole du Grand Paris                                   110\n",
       "SM central de traitement des ordures ménagères (SYCTOM)     81\n",
       "                                                          ... \n",
       "Longpont                                                     1\n",
       "Maulette                                                     1\n",
       "La Ferrière-en-Parthenay                                     1\n",
       "Sablons                                                      1\n",
       "Port-Jérôme-sur-Seine                                        1\n",
       "Name: count, Length: 4767, dtype: int64"
      ]
     },
     "execution_count": 30,
     "metadata": {},
     "output_type": "execute_result"
    }
   ],
   "source": [
    "data[\"na2\"].value_counts()"
   ]
  },
  {
   "cell_type": "code",
   "execution_count": 27,
   "metadata": {},
   "outputs": [
    {
     "data": {
      "text/plain": [
       "['https://www.cc-creonnais.fr/fileadmin/base_documentaire/docs/CR_C5_2022/Seance_du_26_juillet_2022.pdf',\n",
       " 'https://www.mairie-santeny.fr/wp-content/uploads/2022/07/P2-Rapport-de-Presentation-APPROB-A4-Couleurs-RV.pdf',\n",
       " 'https://www.sgdb91.com/wp-content/uploads/2022/07/VV340-bon-3.pdf',\n",
       " 'https://www.sgdb91.com/wp-content/uploads/2022/07/tribunes-VV-340.pdf',\n",
       " 'https://www.saintgermainbouclesdeseine.fr/wp-content/uploads/2023/01/Plan_Action_CASGBS.pdf',\n",
       " 'https://www.saintgermainbouclesdeseine.fr/wp-content/uploads/2023/01/Resume_Non_Techniques_CASGBS.pdf',\n",
       " 'https://www.saintgermainbouclesdeseine.fr/wp-content/uploads/2023/01/Evaluation_Environnementale_Strategique_CASGBS.pdf',\n",
       " 'https://www.saintgermainbouclesdeseine.fr/wp-content/uploads/2023/01/Rapport-Strategique_CASGBS.pdf',\n",
       " 'https://www.ville-chinon.com/fileadmin/contenu/documents/magazine_chinon_infos/chinon_actus_octobre_2022_stc.pdf',\n",
       " 'http://www.ville-chinon.com/fileadmin/contenu/documents/magazine_chinon_infos/chinon_actus_octobre_2022_stc.pdf',\n",
       " 'https://www.montelimar.fr/wp-content/uploads/2023/01/rapport-de-presentation_tome3loibarnier.pdf',\n",
       " 'http://www.ville-meze.fr/pdf/mezemag64.pdf',\n",
       " 'https://www.ville-meze.fr/pdf/mezemag64.pdf',\n",
       " 'https://www.ville-lattes.fr/wp-content/uploads/2023/01/Note-de-presentation-synthetique-sur-le-Budget-Primitif-2023-web.pdf',\n",
       " 'http://www.ville-saint-ay.fr/userfile/fichier-telechargement/1698228833-PV---Conseil-Municipal-16-01-2023.pdf',\n",
       " 'https://www.carlades.com/wp-content/uploads/2023/01/Le-Carlades-Mag-janv-23-10.pdf',\n",
       " 'https://www.ccgascognetoulousaine.com/wp-content/uploads/2023/01/NUMERO-SPECIAL-JANVIER-23-AIDES-ENERGIES.pdf',\n",
       " 'https://www.grand-figeac.fr/wp-content/uploads/2023/02/BILAN-MI-PARCOURS-PCAET_Janvier2023.pdf',\n",
       " 'https://www.dinan-agglomeration.fr/content/download/22965/300319/version/1/file/230313%20Scot%20Dinan%20rapport%20enqu%C3%AAte%20VF.pdf',\n",
       " 'http://www.dinan-agglomeration.fr/content/download/22965/300319/version/1/file/230313%20Scot%20Dinan%20rapport%20enqu%C3%AAte%20VF.pdf']"
      ]
     },
     "execution_count": 27,
     "metadata": {},
     "output_type": "execute_result"
    }
   ],
   "source": [
    "list_links[:20]"
   ]
  }
 ],
 "metadata": {
  "kernelspec": {
   "display_name": "Python 3",
   "language": "python",
   "name": "python3"
  },
  "language_info": {
   "codemirror_mode": {
    "name": "ipython",
    "version": 3
   },
   "file_extension": ".py",
   "mimetype": "text/x-python",
   "name": "python",
   "nbconvert_exporter": "python",
   "pygments_lexer": "ipython3",
   "version": "3.12.0"
  }
 },
 "nbformat": 4,
 "nbformat_minor": 2
}
