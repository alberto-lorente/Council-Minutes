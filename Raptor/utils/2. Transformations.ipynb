{
 "cells": [
  {
   "cell_type": "code",
   "execution_count": 1,
   "metadata": {},
   "outputs": [],
   "source": [
    "with open(\"example_md_to_text.txt\", \"r\", encoding=\"latin-1\") as f: # TO DO: check proper encoding for .md files\n",
    "    markdown_example = f.read()\n",
    "\n",
    "with open(\"example.pdf\", \"rb\") as f:\n",
    "    pdf = f.read()\n",
    "\n",
    "with open(\"HF_TOKEN.txt\", \"r\") as f:\n",
    "    hf_token = f.read()\n",
    "\n",
    "with open(\"GROQ_KEY.txt\", \"r\") as f:\n",
    "    groq_token = f.read()"
   ]
  },
  {
   "cell_type": "code",
   "execution_count": 2,
   "metadata": {},
   "outputs": [
    {
     "name": "stderr",
     "output_type": "stream",
     "text": [
      "c:\\Users\\alber\\AppData\\Local\\Programs\\Python\\Python312\\Lib\\site-packages\\tqdm\\auto.py:21: TqdmWarning: IProgress not found. Please update jupyter and ipywidgets. See https://ipywidgets.readthedocs.io/en/stable/user_install.html\n",
      "  from .autonotebook import tqdm as notebook_tqdm\n"
     ]
    },
    {
     "name": "stdout",
     "output_type": "stream",
     "text": [
      "alberto-lorente\n"
     ]
    }
   ],
   "source": [
    "from huggingface_hub import HfFolder, whoami\n",
    "\n",
    "HfFolder.save_token(hf_token)\n",
    "print(whoami()[\"name\"])"
   ]
  },
  {
   "cell_type": "code",
   "execution_count": 3,
   "metadata": {},
   "outputs": [
    {
     "name": "stdout",
     "output_type": "stream",
     "text": [
      "Cuda available\n"
     ]
    }
   ],
   "source": [
    "import torch\n",
    "\n",
    "device = \"cpu\"\n",
    "if torch.cuda.is_available():\n",
    "  print(\"Cuda available\")\n",
    "  device = torch.device('cuda')"
   ]
  },
  {
   "cell_type": "code",
   "execution_count": 4,
   "metadata": {},
   "outputs": [],
   "source": [
    "from council_rag.preprocessing import preprocess_markdown_text"
   ]
  },
  {
   "cell_type": "code",
   "execution_count": 5,
   "metadata": {},
   "outputs": [
    {
     "name": "stdout",
     "output_type": "stream",
     "text": [
      "Cuda available\n",
      "Number of clusters:  3\n",
      "Score:  0.44600135\n",
      "\n",
      "Number of clusters:  4\n",
      "Score:  0.44329956\n",
      "\n",
      "Number of clusters:  5\n",
      "Score:  0.47113436\n",
      "\n",
      "Number of clusters:  6\n",
      "Score:  0.48168555\n",
      "\n",
      "Number of clusters:  7\n",
      "Score:  0.48469815\n",
      "\n",
      "Number of clusters:  8\n",
      "Score:  0.5539949\n",
      "\n",
      "Index 5\n",
      "Optimal Number of Clusters 8\n"
     ]
    }
   ],
   "source": [
    "paragraphs, clusters = preprocess_markdown_text(markdown_example,\n",
    "                                                    model_id =\"HIT-TMG/KaLM-embedding-multilingual-mini-v1\", \n",
    "                                                    spacy_model=\"fr_core_news_sm\", \n",
    "                                                    n_sents_per_para=10,\n",
    "                                                    device=device)"
   ]
  },
  {
   "cell_type": "code",
   "execution_count": 7,
   "metadata": {},
   "outputs": [
    {
     "data": {
      "text/plain": [
       "dict_keys(['paragraph_union', 'start_range', 'stop_range', 'list_sents', 'para_embedding', 'para_cluster'])"
      ]
     },
     "execution_count": 7,
     "metadata": {},
     "output_type": "execute_result"
    }
   ],
   "source": [
    "paragraphs[0].keys()"
   ]
  },
  {
   "cell_type": "code",
   "execution_count": 1,
   "metadata": {},
   "outputs": [],
   "source": [
    "# paragraphs[0]"
   ]
  },
  {
   "cell_type": "code",
   "execution_count": 9,
   "metadata": {},
   "outputs": [
    {
     "data": {
      "text/plain": [
       "dict_keys(['cluster_0', 'cluster_1', 'cluster_2', 'cluster_3', 'cluster_4', 'cluster_5', 'cluster_6', 'cluster_7'])"
      ]
     },
     "execution_count": 9,
     "metadata": {},
     "output_type": "execute_result"
    }
   ],
   "source": [
    "clusters.keys()"
   ]
  },
  {
   "cell_type": "code",
   "execution_count": 10,
   "metadata": {},
   "outputs": [
    {
     "data": {
      "text/plain": [
       "dict_keys(['para_indexes', 'union_paras'])"
      ]
     },
     "execution_count": 10,
     "metadata": {},
     "output_type": "execute_result"
    }
   ],
   "source": [
    "clusters[\"cluster_0\"].keys()"
   ]
  },
  {
   "cell_type": "code",
   "execution_count": 11,
   "metadata": {},
   "outputs": [
    {
     "data": {
      "text/plain": [
       "{'para_indexes': [1,\n",
       "  10,\n",
       "  14,\n",
       "  19,\n",
       "  30,\n",
       "  31,\n",
       "  33,\n",
       "  37,\n",
       "  40,\n",
       "  46,\n",
       "  52,\n",
       "  57,\n",
       "  61,\n",
       "  64,\n",
       "  69,\n",
       "  72,\n",
       "  73,\n",
       "  77,\n",
       "  80,\n",
       "  84,\n",
       "  85,\n",
       "  86,\n",
       "  89],\n",
       " 'union_paras': \"PROCES VERBAL\\n\\n\\n\\n L'an deux mille vingt et un, le 28 octobre à 18 h 00, les conseillers communautaires de Roannais Agglomération, se sont réunis à l\\x92Espace Chorum \\x96 Halle Vacheresse \\x96 Rue des Vernes à Roanne.\\n\\n\\n\\n La convocation de tous les conseillers a été faite le 22 octobre 2021, dans les formes et délais prescrits par la loi, par Yves Nicolin, Président.\\n\\n\\n\\n # Etaient présents :\\n\\n\\n\\nChristine Aranéo - Marcel AugierDana Burnichon| | |Edmond Bourgeon| |\\n\\n|-| | |Catherine Brun| |\\n\\n|Jean-Marc Detour| | | | |\\n\\n|Daniel Fréchet| | |Lucien Murzi| |\\n\\n|Quentin Guillermin|X| | | |\\n\\n|Jean-Paul Heyberger| | |Christelle Lattat| |\\n\\n|Franck Maupetit| | |Annie Gerenton| |\\n\\n|Patrick Meunier|X| | | |\\n\\n|Nabih Nejjar|X| | |(arrivé en cours de séance)|\\n\\n|Gilles Passot| | |Fabien Lambert|(arrivé en cours de séance)|\\n\\n|Marcel Peuillon|X| | | |\\n\\n|Didier Prunet| | |Christian Dupuis| |\\n\\n|Vickie Redeuilh| | |Hélène Lapalus| |\\n\\n|Marie-Hélène Riamon| | |Denis Vanhecke| |\\n\\n|Corinne Troncy| | |Maryvonne Loughraieb| |\\n\\n|Isabelle Valcourt| | |Jean-Luc Mardeuil|Festival » ;\\n\\n - de préciser que cette demande de subvention a pour objet de soutenir la réalisation du Festival jeune public « Chouet Festival 2022 », dans le cadre de la saison culturelle 2021/2022 et dont le coût s\\x92élève à 84 254 \\x80 TTC.\\n\\n\\n\\n # N° DP 2021-314 du 15 septembre 2021 - Clôture de la régie de recettes et d\\x92avances du Centre de Loisirs Ados au 15 septembre 2021 - Abrogation décision du Président n° DP 2016-237 du 30 août 2016\\n\\n\\n\\n Le Président décide :\\n\\n\\n\\n - d\\x92abroger la décision du Président n° DP 2016-237 du 30 août 2016 et de clôturer au 15 septembre 2021 la régie de recettes et d\\x92avances du Centre de loisirs ados ;\\n\\n - de dire que Monsieur le Président de Roannais Agglomération et Monsieur le Trésorier de la Trésorerie de Roanne Municipale sont chargés chacun en ce qui les concerne de l\\x92exécution de la présente décision et dont une ampliation sera adressée au régisseur titulaire et aux mandataires suppléants.\\n\\n\\n\\n # N° DP 2021-315 du 15 septembre 2021 - Développement économiqueSerrurerie » des travaux de déconstruction et de construction d\\x92un Bâtiment d\\x92Enseignement Supérieur en vue du regroupement des formations sur le Campus Mendes France à Roanne (Phase 2 : travaux de construction) avec la société ROCHE SARL ;\\n\\n - de préciser que cet avenant a pour objet de prendre en compte des ajustements techniques pour un montant de + 6 047,00 \\x80 HT, correspondant à une plus-value du montant du lot de +9,2%, portant le montant du lot 10 à 71 564,60 \\x80 HT.\\n\\n\\n\\n# N° DP 2021-319 du 20 septembre 2021 - Aéroport - Etude de faisabilité pour la réfection de la piste de l\\x92aéroport de Roanne - Marché avec la société SOGETI INGENIERIE AIRPORTS\\n\\n\\n\\n Le Président décide :\\n\\n\\n\\nAssainissement ».\\n\\n\\n\\n# N° DP 2021-329 du 7 octobre 2021 - Service Solidarités\\n\\n\\n\\nPLIE du Roannais - Facilitateur des clauses sociales d\\x92insertion dans les marchés publics - Convention cadre de coopération avec OPHEOR pour la mise en \\x9cuvre et le suivi des clauses d\\x92insertion dans le cadre des marchés publics\\n\\n\\n\\n Le Président décide :\\n\\n\\n\\n - d\\x92approuver la convention cadre de coopération à intervenir avec OPHEOR ;\\n\\n - de préciser que cette convention de coopération a pour objet de fixer les règles de collaboration entre Roannais Agglomération et OPHEOR, dans le cadre de la mise en \\x9cuvre des clauses sociales d\\x92insertion relative à ses marchés publics.\\n\\n\\n\\n # N° DP 2021-330 du 7 octobre 2021 - Développement économique\\n\\n\\n\\nAéroport de Roanne - Protocole d\\x92accord pour la fourniture de données aéronautiques entre la DSNA et RoannaisAgglomération - Avenant n°1\\n\\n\\n\\n Le Président décide :\\n\\n\\n\\n - d\\x92approuver l\\x92avenant n° 1 au protocole d\\x92accord pour la fourniture de données aéronautiques, entre la Direction des Services de la Navigation Aérienne et Roannais Agglomération, gestionnaire de l\\x92Aéroport de Roanne ;\\n\\n - de préciser que ce protocole d\\x92accord a pour objet l\\x92ajout de la responsabilité des exploitants dans la diffusion des données du Global Reporting Format, GRF, et de définir les modalités de transmission des données relatives à l\\x92état des surfaces de l\\x92aire de mouvement sous le nouveau format des SNOWTAM.\\n\\n\\n\\n # N° DP 2021-331 du 7 octobre 2021 - Développement économique\\n\\n\\n\\nAéroport de Roanne - Convention de mise à disposition de solution logicielle pour la gestion des vols de drones - Société CLEARANCE\\n\\n\\n\\n Le Président décide :\\n\\n\\n\\nAEROPORT - Site aéroportuaire de Roanne Bâtiment à réhabiliter « Fox - Trot » : Convention d\\x92occupation temporaire du domaine public aéroportuaire constitutive de droits réels avec la société SUPERBE AILE FORMATION\\n\\n\\n\\n Le bureau communautaire, après en avoir délibéré à l\\x92unanimité :\\n\\n\\n\\nAccorde à la société SUPERBE AILE FORMATION, société par action simplifiée, ayant son siège social 1015 Route de Combray 42155 Saint-Léger-Sur-Roanne, l\\x92occupation du bâtiment à réhabiliter dénommé « FoxNauticum » situé rue Général Giraud à Roanne ;\\n\\n - Précise que cette résiliation est convenue sans aucune indemnité de part et d\\x92autre ;\\n\\n - Approuve l\\x92acte bilatéral de résiliation amiable ;\\n\\n - Autorise Monsieur le Président ou son représentant dûment habilité à effectuer toutes les actions se rapportant à l\\x92exécution de cette délibération.\\n\\n\\n\\n # N° DBC 2021-084 - Stratégies et ressources foncières - Saint-Germain-Lespinasse - Zone d\\x92activités «n° 37 sis 739 route de la Mirandole à Villerest dont le montant est estimé à 42 030,20 \\x80 HT ;\\n\\n\\n\\n - dit que le prix d\\x92acquisition est désormais fixé à 270 420,00 \\x80 sur lequel la TVA pourra être appliquée sur la totalité ou en partie, après vérification du régime fiscal applicable ;\\n\\n\\n\\n - autorise Monsieur le Président, ou son représentant dûment habilité, à signer les actes à intervenir relatif à la vente du bien, et toutes pièces nécessaires à la finalisation de cette opération.\\n\\n\\n\\n # N° DBC 2021-086 - Aménagement du territoireMonsieur le Président, ou son représentant, à transmettre le dossier correspondant à la Région Auvergne Rhône - Alpes , celle-ci pouvant accorder une aide de 20 % en complément.\\n\\n\\n\\n Page 8 sur 49\\n\\n\\n\\n# N° DBC 2021-090 - Développement économique\\n\\n\\n\\n Subvention au titre de l\\x92aide au développement des petites entreprises du commerce, de l\\x92artisanat et des services avec point de vente - Subvention à l\\x92établissement Boulangerie Pâtisserie CUCHERAT Renaison\\n\\n\\n\\nVignobles Forez Roannais , Aux Racines de la Loire»\\n\\n\\n\\n Le bureau communautaire, après en avoir délibéré à l\\x92unanimité :\\n\\n\\n\\n - attribue une subvention de 5 500 \\x80 à l\\x92association « Vignobles Forez Roannais , Aux Racines de la Loire », pour le territoire du vignoble Roannais ;\\n\\n - dit que les crédits sont prévus au budget général - chapitre 65.\\n\\n\\n\\n# N° DBC 2021-0951 « compétence petite enfance » , lot 2 « secteur Nord-Ouest »)\\n\\n\\n\\nLe bureau communautaire, après en avoir délibéré à l\\x92unanimité :\\n\\n\\n\\n - approuve les accords -cadres mono-attributaires à bons de commande pour les prestations de maintenance des installations de chauffage, de climatisation, de ventilation et de production d\\x92eau chaude sanitaire des sites de Roannais Agglomération comme suit :\\n\\n\\n\\n|N° et dénomination du lot|Attributaire(s) sous réserve transmission des PAA|Montant contractuel et rappel des montants minimum et maximum de l\\x92accord-cadre|Montant P2+P3 estimatif non-contractuel \\x80 HT sur la durée de 3 ans (à titre d\\x92information)|\\n\\n|---|---|---|---|\\n\\n|Lot 1 : Compétence Petite enfance|HERVE THERMIQUE|Sans montant minimum et montant maximum de 35 000 \\x80 HT sur la durée du marché de 3 ans|34 995 \\x80 HT|\\n\\n|Lot 2 : Secteur Nord-Ouest|HERVE THERMIQUE|Sans montant minimum et montant maximum de 26 000 \\x80 HT sur la durée du marché de 3 ans|16 365 \\x80 HT|\\n\\n\\n\\n Le bureau communautaire, après en avoir délibéré à l\\x92unanimité :\\n\\n\\n\\nMonsieur le Président ou son représentant à intervenir dans l'exécution et le règlement dudit marché ;\\n\\n - dit que les dépenses seront prélevées sur les crédits ouverts à cet effet au budget général, section de fonctionnement ;\\n\\n - dit que les recettes liées à la refacturation à Mably, Riorges, Roanne et Villerest seront prévues au budget général, section de fonctionnement.\\n\\n\\n\\n # N° DBC 2021-102 - Mutualisation - Avenant n°1 à la convention de prestation de services pour l\\x92organisation de sessions de formation entre Roannais Agglomération et Ambierle, Mably, OPHEOR, Ouches, Pouilly-les-Nonains, Roannaise de l\\x92Eau, Renaison, Riorges, Saint-Martin-d\\x92Estreaux, Saint-Romain-La-Motte, Saint-Alban-les-Eaux, Saint-André-d\\x92Apchon et Villerest\\n\\n\\n\\n Le bureau communautaire, après en avoir délibéré à l\\x92unanimité :\\n\\n\\n\\n - approuve l\\x92avenant n°1 aux conventions de prestation de services pour l\\x92organisation de sessions de formation entre Roannais Agglomération et Ambierle, Mably, OPHEOR, Ouches, Pouilly-les-Nonains, Roannaise de l\\x92Eau, Renaison, Riorges, Saint-Martin-d\\x92Estreaux, Saint-Romain-La-Motte, Saint-Alban-les-Eaux, Saint-André-d\\x92Apchon et VillerestL\\x92AUDACIEUSE LINGERIE Renaison\\n\\n\\n\\n Le bureau communautaire, après en avoir délibéré à l\\x92unanimité :\\n\\n\\n\\n - attribue une subvention à l\\x92établissement L\\x92AUDACIEUSE LINGERIE, représenté par Mme Laëtitia SYBELIN, située sur la commune de Renaison, pour un montant de 3 383,00 \\x80 maximum, représentant 10 % des dépenses éligibles ;\\n\\n - autorise Monsieur le Président, ou son représentant, à transmettre le dossier correspondant à la Région Auvergne Rhône - Alpes , celle-ci pouvant accorder une aide de 20 % en complément.\\n\\n\\n\\nRapport d\\x92activités 2020\\n\\n\\n\\n Monsieur le Président présente les grandes lignes du rapport d\\x92activité 2020.\\n\\n\\n\\n « L\\x92année 2020 a été marquée par :\\n\\n\\n\\n- le renouvellement des exécutifs communaux (mars et juin) et intercommunal (juillet),\\n\\n- le COVID, avec la crise sanitaire et économique.\\n\\n\\n\\n La priorité a donc été donnée à l\\x92économie avec notamment :\\n\\n\\n\\n - la mise en place d\\x92un fonds de soutien aux entreprises,\\n\\n - la mise en place d\\x92une aide au secteur du tourisme,\\n\\n - la mobilisation des services en faveur de la protection des soignants et des personnes,\\n\\n - la poursuite du service public : ordures ménagères notamment.\\n\\n\\n\\nEn parallèle, nous avons tant bien que mal poursuivi nos actions dans les différents domaines de compétence. Les nouveautés de l\\x92année 2020 sont :\\n\\n\\n\\n- Transport : attribution de la DSP Transport à Transdev (flotte électrique),\\n\\ngaz à effet de serre », une seule fois le mot « pollution », une fois le mot « biodiversité », mais deux fois le mot « faune » , une fois le mot « flore » , quatre fois le mot « nature » et cinq fois seulement le mot« climat », là où dans le même temps, il y avait 40 fois le mot « économie », 23 fois le mot « attractivité » , 70 fois le mot « entreprise » , 22 fois le mot « Euros ». Voilà qui montre pour moi, qui donne une couleur et une indication sur les orientations qui sont prises.\\n\\n\\n\\nNéanmoins, restez quand même objectif, et comparez avec ce qui se passe ailleurs. D'ailleurs, je vais m'amuser, à la fin du mandat, à faire des comparaisons avec des agglomérations de taille comparable qui sont dirigées par des gens de votre sensibilité. On verra effectivement si les bilans présentés par vos amis sont aussi flatteurs que ceux que nous pourrons nous mêmes présenter. Après, bien évidemment que l'aéroport consomme des carburants. Mais, Monsieur Beysson, chaque fois que vous mettez en marche votre micro, vous consommez de l'électricité, de l'énergie. Donc, si vous voulez en consommer moins, abstenez-vous. On en est tous là, nous utilisons tous des moyens. Effectivement, l'aviation utilise des avions, ces avions brûlent du kérosène. Néanmoins, ce que je remarque, c'est qu'aujourd'hui il y a des fabricants d'avions européens qui sont sur des productions d'aéronefs, qui eux-aussi font des efforts pour consommer moins de carburant\\x85 On ne vous dit pas que nous vivons dans un monde merveilleux mais je pense que notre pays, je dis bien notre pays, je ne parle pas de l'agglomération, n'a pas à rougir de ce qui se passe par rapport à tout le reste du monde. Si vous pensez qu'on va sauver la planète uniquement à partir de Roanne, je pense malheureusement que les jours nous sont comptés ».\\n\\n\\n\\nPage 14 sur 49\\n\\n\\n\\nFranck Beysson répond «Considérant qu\\x92au 31 décembre 2020, une provision totale de 308 726 \\x80 tous budgets confondus a été constituée et que la valorisation des CET en 2021 s\\x92élève à 370 966 \\x80, il y a donc lieu d\\x92ajuster la provision par budget selon le tableau ci-dessous :\\n\\n\\n\\n|MONTANT PROVISION FIN D'EXERCICE 2020|REPRISE DE L'EXERCICE|DOTATION DE L'EXERCICE 2021|PROVISION FIN D'EXERCICE 2021|\\n\\n |---|---|---|---|\\n\\n|BUDGET GENERAL|285 517|72 848|358 365|\\n\\n|BUDGET ASSAINISSEMENT|9 035|9 035|0|\\n\\n|BUDGET EQUIPEMENT DE|12 486|853|11 633|\\n\\n\\n\\n# TOURISME ET LOISIRS\\n\\n\\n\\n # BUDGET\\n\\n\\n\\n|TRANSPORTS|1 688|720|968| |\\n\\n|---|---|---|---|---|\\n\\n|TOTAL|308 726|10 608|72 848|370 966|\\n\\n\\n\\n Le Conseil communautaire, après en avoir délibéré à l\\x92unanimité :\\n\\n\\n\\nMise en place du compostage collectif\\n\\n\\n\\n Mettre en place du compostage collectif, là où c'est possible et là où c\\x92est organisable, parce que c'est une technique qui nécessite d'être particulièrement vigilant et particulièrement motivé. Il y a donc un travail de communication et de suivi de ces sites ;\\n\\n\\n\\n Mettre en place, sur une partie du territoire, la collecte en porte à porte de la fraction fermentescible. L\\x92issue de ces déchets fermentescibles, ce sera le compostage, c\\x92est sûr, soit individuel, soit pour la collecte sélective qui se fera dans une entreprise spécialisée, de façon à ce qu\\x92on ait un retour au sol le plus rapide possible ; ce qui n'est pas possible lorsqu'on fait un tri de la matière fermentescible depuis un centre de tri qui extrait ces matières fermentescibles des ordures ménagères, du fait d\\x92un risque de pollution. C\\x92est donc pour cela que le tri à la source va être exigé dès 2024. Normalement, nous serons en ordre de marche, dès janvier 2023. Vous dire aujourd\\x92hui le nombre de composteurs individuels, collectifs, et la part qui sera réellement collectée en porte à porte est encore un petit peu tôt. Il va falloir attendre les résultats de l'enquête, de façon à ajuster au mieux par rapport au territoire.\\n\\n\\n\\nM. le Président ajoute que la prochaine Commission Environnement aura lieu le 17 novembre 2021 et qu\\x92elle se penchera sur ces projets .\\n\\n\\n\\n# Franck Beysson s\\x92interroge\\n\\n\\n\\n Franck Beysson s\\x92interroge sur une éventuelle réflexion portant sur une plateforme de recyclage, en local, des matières pour raccourcir les distances et éviter des chaines d\\x92envoi lointaines . Jean-Yves Boire répond que pour l\\x92instant quelque chose existe. Il y a des ateliers solidaires, situés à Riorges, mais l\\x92ensemble des matériaux ne peut pas être intégré à ce type d\\x92activité car il y a une multitude de filières et ce serait très compliqué de gérer tout cela en local. Il explique que des choses se font et qu\\x92elles risquent effectivement d'évoluer dans le cadre de cette évolution de collecte.Aucune nouvelle plateforme n\\x92est prévue pour l'instant, hormis le projet du SEEDR, le Syndicat de traitement des déchets du Nord du département, où là une usine multi filières est prévue, de façon à ce que les déchets résiduels qui se trouvent dans le bac des ordures ménagères - « On sait qu'aujourd'hui on a encore 70 % de ces déchets qui ne devraient pas s'y trouver- », mais avec l'extension des consignes de tri, avec l'évolution des systèmes de collecte, cela devrait baisser. Jean-Yves Boire ajoute qu\\x92il y aura encore beaucoup à faire et que c'est bien le but de cette usine de tri que de séparer les matériaux, de façon à les mettre dans les bonnes filières et que l'on puisse en recycler un maximum. Il explique que ceux-ci seront soit recyclés, soit leur énergie sera récupérée car ils présentent l'avantage d'avoir un pouvoir calorifique inférieur (PCI) qui viendrait se substituer à l'utilisation de l'énergie fossile. C\\x92est ce que l\\x92on appelle les combustibles solides de récupération.\\n\\n\\n\\n # Conseil communautaire\\n\\n\\n\\nLe Conseil communautaire, après en avoir délibéré, avec 76 voix pour, 0 contre et 2 abstentions :\\n\\n\\n\\n- Approuve la création de l\\x92autorisation de programme 1040 intitulée « Réorganisation collecte déchets ménagers » sur le budget général pour un montant global de 9 000 000 \\x80 et la répartition prévisionnelle des crédits de paiement sur la période 2021-2025 comme suit :\\n\\n\\n\\n|Millésime|N° AP|Montant|CP 2021|CP 2022|CP 2023|CP 2024|CP 2025|\\n\\n|---|---|---|---|---|---|---|---|\\n\\n|2021|1040|9 000 000 \\x80|200 000 \\x80|5 600 000 \\x80|2 000 000 \\x80|600 000 \\x80|600 000 \\x80|\\n\\n\\n\\nIndique que les crédits de paiement (CP) de 2021 d\\x92un montant de 200 000 \\x80 seront inscrits à la prochaine Décision Modificative sur le Budget Général.\\n\\n\\n\\n# 5. Décision modificativeAjustement de la contribution au titre des eaux pluviales pour l\\x92opération Foch Sully (-400 k\\x80), des contributions au SEEDR pour le traitement des ordures ménagères (-189,84 k\\x80), des participations du budget général aux budgets annexes (48,5 k\\x80), de subventions diverses (19,4 k\\x80), des créances admises en non-valeur (-12 k\\x80) et changement de nature comptable (et de chapitre) à la demande de la trésorerie (57 k\\x80).\\n\\n\\n\\n # Charges exceptionnelles : 54 139 \\x80\\n\\n\\n\\nDépenses liées au fonctionnement du Centre de vaccination au Fuyant pour la période du 1er septembre au 31 décembre 2021 (80 k\\x80), changement de nature comptable (et de chapitre) à la demande de la trésorerie (-57 k\\x80), ajustement des dépenses liées au COVID (-9,78 k\\x80), remboursement des abonnements et cours au Nauticum (8 k\\x80), reversement du résultat de la commune Les Noës à la Roannaise de l\\x92Eau (2,8 k\\x80) et de divers dépenses exceptionnelles (30,119 k\\x80).\\n\\n\\n\\n # Dotations aux amortissements et aux provisions : 47 000 \\x80\\n\\n\\n\\n Ajustement provision pour dépréciation des actifs circulants (-26 k\\x80) et provision pour Compte Epargne Temps (73 k\\x80).\\n\\n\\n\\n # Virement à la section d\\x92investissement : 118 500 \\x80\\n\\n\\n\\n(autofinancement complémentaire)\\n\\n\\n\\n # Recettes :\\n\\n\\n\\n# Produits des services : -257 140 \\x80\\n\\n\\n\\n Il s\\x92agit principalement de la diminution des recettes du Nauticum en raison du COVID et de la mauvaise météo de cet été (-300 k\\x80) et des billetteries Pleine nature (-42,14 k\\x80) et culturelles (-41,47 k\\x80), d\\x92un complément pour les revenus des coupes de bois (59,07 k\\x80) et à l\\x92ajustement de refacturations (67,4 k\\x80).\\n\\n\\n\\n # Impôts et taxes : 3 600 \\x80\\n\\n\\n\\nAjustement du reversement des taxes foncières par la commune de Mably sur les bâtiments situés dans la ZAC de Mably.\\n\\n\\n\\n# Subventions - Dotations : -45 060 \\x80\\n\\n\\n\\n Ajustement\"}"
      ]
     },
     "execution_count": 11,
     "metadata": {},
     "output_type": "execute_result"
    }
   ],
   "source": [
    "clusters[\"cluster_0\"]"
   ]
  },
  {
   "cell_type": "markdown",
   "metadata": {},
   "source": [
    "Takes around 25 secs to run in my machine."
   ]
  },
  {
   "cell_type": "markdown",
   "metadata": {},
   "source": [
    "## Data Transformations"
   ]
  },
  {
   "cell_type": "markdown",
   "metadata": {},
   "source": [
    "### Summarization algos\n",
    "\n",
    "The process is fairly straightforward, we take the union of the paragraphs in each cluster and then we generate a summary for each cluster using gemma2-9b-it in groq. Given how slow the hf models we tried where, we will just use groq.\n"
   ]
  },
  {
   "cell_type": "code",
   "execution_count": 12,
   "metadata": {},
   "outputs": [],
   "source": [
    "from council_rag.data_transformations.text_transformations import generate_groq_summary"
   ]
  },
  {
   "cell_type": "code",
   "execution_count": 13,
   "metadata": {},
   "outputs": [],
   "source": [
    "summary_prompt = \"\"\"Il s'agit d'un texte concernant un projet de géothermie :\n",
    "TEXTE: \n",
    "{}\n",
    "\n",
    "TÂCHE:\n",
    "Make a one page summary paying special attention to all the administrative matters like budgets, plans, actions to take in the future, organizational and hierarchical charts, announcements, meetings, contacts, elections, reports and all the related topics to these.\n",
    "\n",
    "OUTPUT:\n",
    "Publier directement le résumé.\n",
    "\"\"\""
   ]
  },
  {
   "cell_type": "code",
   "execution_count": 17,
   "metadata": {},
   "outputs": [
    {
     "name": "stdout",
     "output_type": "stream",
     "text": [
      "8\n"
     ]
    }
   ],
   "source": [
    "# taking just the text\n",
    "cluster_paras = []\n",
    "for cluster in clusters.values():\n",
    "    cluster_para = cluster[\"union_paras\"]\n",
    "    cluster_paras.append(cluster_para)\n",
    "\n",
    "print(len(cluster_paras))"
   ]
  },
  {
   "cell_type": "markdown",
   "metadata": {},
   "source": [
    "gemma2-9b-it is the model with the largest Token limit per minute, 15000.\n",
    "\n",
    "llama-3.3-70b-versatile allows 6000 per minute."
   ]
  },
  {
   "cell_type": "code",
   "execution_count": null,
   "metadata": {},
   "outputs": [],
   "source": [
    "import time\n",
    "# max tokens for llama-3.3-70b-versatile is 6000 per minute\n",
    "cluster_summaries = []\n",
    "\n",
    "token_limit = 14000\n",
    "token_count = 0\n",
    "for cluster_para in cluster_paras:\n",
    "    # print(len(cluster_para))\n",
    "    naive_length_check = len(cluster_para.split(\" \")) # the token calcs in groq are very close to this number\n",
    "    token_count += naive_length_check\n",
    "    # print(naive_length_check)\n",
    "    if token_count > token_limit:\n",
    "        time.sleep(60)\n",
    "        token_count = 0\n",
    "    cluster_summary = generate_groq_summary(summary_prompt, cluster_para, groq_token, model=\"gemma2-9b-it\")\n",
    "    cluster_summaries.append(cluster_summary)\n",
    "    \n",
    "# from 6 minutes to 28 secs in my machine"
   ]
  },
  {
   "cell_type": "code",
   "execution_count": 31,
   "metadata": {},
   "outputs": [],
   "source": [
    "import json\n",
    "with open(\"cluster_summaries_example.json\", \"w\") as f:\n",
    "    json.dump(cluster_summaries, f)\n"
   ]
  },
  {
   "cell_type": "markdown",
   "metadata": {},
   "source": [
    "Making the defs for the utils"
   ]
  },
  {
   "cell_type": "code",
   "execution_count": 117,
   "metadata": {},
   "outputs": [],
   "source": [
    "def summarize_clusters(cluster_paras, summary_prompt, groq_token, model=\"gemma2-9b-it\", token_limit=14000):\n",
    "    \n",
    "    # cluster_summaries = []\n",
    "\n",
    "    token_count = 0\n",
    "    for cluster_para in cluster_paras:\n",
    "        # print(len(cluster_para))\n",
    "        naive_length_check = len(cluster_para.split(\" \")) # the token calcs in groq are very close to this number\n",
    "        token_count += naive_length_check\n",
    "        # print(naive_length_check)\n",
    "        if token_count > token_limit:\n",
    "            time.sleep(60)\n",
    "            token_count = 0\n",
    "        cluster_summary = generate_groq_summary(summary_prompt, cluster_para, groq_token, model)\n",
    "        \n",
    "        cluster_para[\"clusteR_summary\"] = cluster_summary\n",
    "        # cluster_summaries.append(cluster_summary)\n",
    "        \n",
    "    return cluster_paras"
   ]
  },
  {
   "cell_type": "markdown",
   "metadata": {},
   "source": [
    "## Table content algos\n",
    "\n",
    "The process is a bit more complex. Since we want to put the augmented table context in the right place and with im2pdf we get the page where the table is, we have to estimate where in the running text the table is. A workaround could be extracting each page text of the pdf as markdown to keep track of what span of text happens in each page. Then we could just try to regex match the table context to the pages text and append the augmented table context above/below the table.\n",
    "\n",
    "Note: some pdfs may have a page n/m at the end of the page but it is not always the case.\n"
   ]
  },
  {
   "cell_type": "code",
   "execution_count": 5,
   "metadata": {},
   "outputs": [],
   "source": [
    "from council_rag.data_utils import pf2mdpagebypage, pdf2md\n"
   ]
  },
  {
   "cell_type": "code",
   "execution_count": 6,
   "metadata": {},
   "outputs": [],
   "source": [
    "output_folder = \"pdfs/\"\n",
    "input_pdf = \"example.pdf\""
   ]
  },
  {
   "cell_type": "code",
   "execution_count": 54,
   "metadata": {},
   "outputs": [
    {
     "name": "stdout",
     "output_type": "stream",
     "text": [
      "Started parsing the file under job_id e6c3be36-3b22-4c6f-a210-074b96ce3634\n",
      "Started parsing the file under job_id ee3e530b-af77-4a45-af4b-1e21fc5c9721\n",
      "..Started parsing the file under job_id 6817bf31-447b-4700-8725-f951bc060787\n",
      ".Started parsing the file under job_id c8279860-22ea-49d6-8c26-eeceedcc2258\n",
      "Started parsing the file under job_id 713a79d8-92a4-4e3f-aa92-dcce4cb73b56\n",
      "Started parsing the file under job_id 35ca6f2c-6f9b-48fd-91c0-ad6285ed1fd1\n",
      "Started parsing the file under job_id 2c74e8b3-7165-4797-aa23-7088a5930839\n",
      "..Started parsing the file under job_id f8f06f75-18dd-44ea-8e63-4a33309666ed\n",
      ".Started parsing the file under job_id 2b7159d8-9efb-4b7b-979c-fce21aef6c6a\n",
      "Started parsing the file under job_id 4d706a17-5246-41f4-b1a7-421ef3bec0c9\n",
      "Started parsing the file under job_id 35705776-5d03-4651-a335-0a830d3c19e5\n",
      "Started parsing the file under job_id 90e34f19-364a-49e0-8db0-d2f5b17e6d86\n",
      "Started parsing the file under job_id 8abd3a47-d709-4609-a73b-6035b4db7a98\n",
      "Started parsing the file under job_id c1f19250-cf41-43d4-ac1d-6b825b1635ad\n",
      "....Started parsing the file under job_id 6aeb2b0c-8d11-446d-8ca1-f839f5165945\n",
      ".....Started parsing the file under job_id d03aa287-e5b5-4f17-927b-46a3b39b7d2f\n",
      ".Started parsing the file under job_id 2ceeac3d-580a-46f8-ba27-aba6d6261048\n",
      "Started parsing the file under job_id 594311e0-763d-4a15-b3b7-389919b7ba19\n",
      "....Started parsing the file under job_id 364f16e2-7768-4c79-a51e-446519c83597\n",
      ".Started parsing the file under job_id 8a55960f-77ed-4c4f-8c33-fea5a04b671d\n",
      "......Started parsing the file under job_id 3a71ed62-a40a-48ec-a563-ed70b288db04\n",
      "Started parsing the file under job_id 76dd7169-a5be-4454-80f5-f29668cf10d4\n",
      ".Started parsing the file under job_id b1d19c81-f4dd-4e3a-b24a-88309909a802\n",
      ".Started parsing the file under job_id 2629937b-7499-4a17-afd4-19fe751bf090\n",
      ".Started parsing the file under job_id fbdb8dd7-baeb-491f-be97-085839777730\n",
      "Started parsing the file under job_id 5eb46d78-aa43-4ed8-b85e-984b2ad6bcc9\n",
      ".Started parsing the file under job_id cb44f751-fda5-4c8f-93e7-cfb8feeeb210\n",
      "Started parsing the file under job_id 140513a7-6a9f-48d9-8ef2-b04d5e2aef93\n",
      "Started parsing the file under job_id a44c3390-d4df-4420-aeef-f7ec9c648925\n",
      ".Started parsing the file under job_id 604ecfe6-d80e-4920-9898-52940170b00a\n",
      ".Started parsing the file under job_id a94fa4d9-2b54-461c-9e96-3c4b6be77390\n",
      ".Started parsing the file under job_id bc279ae5-b2a6-483e-a6d6-09558bd192fc\n",
      ".Started parsing the file under job_id 692d5cb7-5c39-4452-8f97-8cc096b1d2bb\n",
      "Started parsing the file under job_id ecbaeb80-c3d3-40bf-bfe5-15207073eaa4\n",
      "..Started parsing the file under job_id 06bccc38-47b1-4702-a5c4-3337fc51f92d\n",
      "Started parsing the file under job_id 7d639fd8-bf7f-4565-abb8-45665c0e0d6a\n",
      "Started parsing the file under job_id 1f3dc936-758d-4925-839f-dfeef18cd059\n",
      "Started parsing the file under job_id c2d101e0-36b1-4311-87a3-9d0b87db47da\n",
      "Started parsing the file under job_id 4a4f6f31-c08d-43a2-a209-f140c36f78cc\n",
      "Started parsing the file under job_id 3b9cb467-9cee-4ef8-ac9e-15f74c5b0c0b\n",
      ".Started parsing the file under job_id 37b1993f-485e-41ff-90ab-c55cb8244871\n",
      "Started parsing the file under job_id bfee2db4-8a6f-4fa9-8992-4f86b70e23c6\n",
      "Started parsing the file under job_id cf444d57-83c7-4110-918b-5e29e1ce6542\n",
      ".Started parsing the file under job_id fc2e0f8f-6d03-46d7-80ce-58a112fb4514\n",
      "Started parsing the file under job_id 0fabf4bb-a2c9-4473-b316-34a2482caa4a\n",
      "Started parsing the file under job_id 3dcab266-3739-4c98-8b8e-3c7a851076e5\n",
      "Started parsing the file under job_id eaab9a73-4e74-4e19-aab7-6af41fb96bf9\n",
      ".Started parsing the file under job_id 494add77-e76c-4a4c-821f-c1ecdfd12846\n",
      "Started parsing the file under job_id baccad52-468f-4ef4-ab2e-8e8869371ae6\n"
     ]
    }
   ],
   "source": [
    "# using our fx with fitz and the llama parse based fx\n",
    "pages = pf2mdpagebypage(input_pdf=input_pdf, output_folder=output_folder)\n",
    "\n",
    "# takes around 30 secs per page to run in my machine\n",
    "# fifteen minutes for 20 pages\n",
    "# 30 for the whole pdf"
   ]
  },
  {
   "cell_type": "code",
   "execution_count": 55,
   "metadata": {},
   "outputs": [
    {
     "data": {
      "text/plain": [
       "\"# Séance publique\\n\\n# du jeudi 28 octobre 2021 à 18h00\\n\\n# Chorum Alain Gilles - Halle Vacheresse\\n\\n# Rue des Vernes à Roanne\\n\\n# PROCES VERBAL\\n\\nL'an deux mille vingt et un, le 28 octobre à 18 h 00, les conseillers communautaires de Roannais Agglomération, se sont réunis à l’Espace Chorum – Halle Vacheresse – Rue des Vernes à Roanne.\\n\\nLa convocation de tous les conseillers a été faite le 22 octobre 2021, dans les formes et délais prescrits par la loi, par Yves Nicolin, Président.\\n\\n# Etaient présents :\\n\\nChristine Aranéo - Marcel Augier - Jean-Jacques Banchet - Pierre Barnet - Martine Barroso - Isabelle Berthelot -\\nFranck Beysson - Jean-Yves Boire - Romain Bost - Michelle Bouchet - Edmond Bourgeon - Marie-Christine Bravo -\\nCatherine Brun - Dominique Bruyère - Nicolas Chargueros - Jean-Luc Chervin - Christine Chevillard - Pierre Coissard -\\nPatrick Collet - Sandra Creuzet - Hervé Daval - Jean-Paul Descombes - Pierre Devedeux - Christian Dorange -\\nDavid Dozance - Catherine Dufossé - Christian Dupuis - Jacky Geneste - Annie Gerenton - Gilles Goutaudier -\\nPatricia Goutorbe - Guy Lafay - Fabien Lambert - Hélène Lapalus - Sébastien Lassaigne - Christelle Lattat -\\nChristian Laurent - Maryvonne Loughraieb - Adina Lupu Bratiloveanu - Muriel Marcellin - Jean-Luc Mardeuil -\\nEric Martin - Yves Meunier (Suppléant Laurence Boyer) - Véronique Mouiller - Lucien Murzi - Pascal Muzart -\\nNabih Nejjar (arrivé en cours de séance) - Yves Nicolin - Mahdi Nouibat - Gilles Passot (arrivé en cours de séance) -\\nPhilippe Perron - Jade Petit - Éric Peyron - Anne Pilato - Christophe Pion - Serge Pralas - Stéphane Raphaël -\\nClotilde Robin - Martine Roffat - Alain Rossetti - Sophie Rotkopf - Jean Smith - Jacques Troncy - Denis Vanhecke -\\nGilbert Varrenne - Antoine Vermorel-Marques.\\n\\n# Etaient absents :\\n\\nCf page suivante.\\n\\nPage 1 sur 49\\n\\n\""
      ]
     },
     "execution_count": 55,
     "metadata": {},
     "output_type": "execute_result"
    }
   ],
   "source": [
    "pages[0]"
   ]
  },
  {
   "cell_type": "code",
   "execution_count": 9,
   "metadata": {},
   "outputs": [],
   "source": [
    "from council_rag.data_utils import pdf2md"
   ]
  },
  {
   "cell_type": "code",
   "execution_count": 10,
   "metadata": {},
   "outputs": [
    {
     "name": "stdout",
     "output_type": "stream",
     "text": [
      "Started parsing the file under job_id b45c559b-51a8-4721-b5b8-cf3f77dd60e3\n",
      "Started parsing the file under job_id 1351f1fe-4daa-4cb5-a85e-2d0934a311a5\n",
      "Started parsing the file under job_id 56ad440c-fb71-4e1f-b9f9-fe663654de3a\n",
      ".Started parsing the file under job_id 3e9158c6-d9fe-4f2d-b3af-5d84b3cdbf7b\n",
      "Started parsing the file under job_id 8f75f722-5629-48f8-8923-fb43085a6395\n",
      "Started parsing the file under job_id 06d2c580-26d3-4aa7-ac45-366a0630bbde\n",
      ".Started parsing the file under job_id cae33628-d3ad-41b1-aed3-3bba49b67e3d\n",
      ".Started parsing the file under job_id 924c24e7-3bd4-42f7-96cf-33b0ceeea5c0\n",
      ".Started parsing the file under job_id d3412aa9-4d7a-45ec-abc9-037b6187fb6b\n",
      ".Started parsing the file under job_id a753f25f-0f76-46fe-9090-53916e644b5f\n",
      "..Started parsing the file under job_id d2c40d27-e168-4c69-8102-785f63b6bdce\n",
      ".Started parsing the file under job_id e2952017-23f7-494d-bf6d-16979b7582dc\n",
      ".Started parsing the file under job_id a0702d31-e903-4ec5-8a48-c7838bf70178\n",
      ".Started parsing the file under job_id 1319c728-4bb8-4f5e-aea6-c0b690d89189\n",
      ".Started parsing the file under job_id 05ab8669-d491-444b-bb80-e900ec40f73d\n",
      ".Started parsing the file under job_id b886c722-b689-4d6d-a38a-671417451766\n",
      "..Started parsing the file under job_id 3e255a75-11a1-4bcf-bf74-da0edae4ed06\n",
      ".Started parsing the file under job_id 34ec6096-1108-4dd1-8615-f621c4b2ba16\n",
      "Started parsing the file under job_id 97825340-ba4f-41dc-b8e6-1d2528ceb0d9\n",
      "..Started parsing the file under job_id 008bfd54-286d-46ee-b702-3bb68e643656\n",
      "Started parsing the file under job_id 84edb358-b8fb-4f50-89d4-07954e2a5b80\n",
      "Started parsing the file under job_id 0d948a04-67c3-459b-a112-45f1f1531b8f\n",
      ".Started parsing the file under job_id f7bdc96b-a3ad-4820-993b-8b49d518b492\n",
      "Error while parsing the file 'pdfs/page_3.pdf': Server disconnected without sending a response.\n",
      "Started parsing the file under job_id 5b70a8b5-f0a0-4089-8c6d-31ede5be5695\n",
      ".Started parsing the file under job_id f36c4ab7-ac9a-407b-bc4f-292b9dfe3156\n",
      ".Started parsing the file under job_id 26395baa-5f8b-4f52-b38a-715769ca1f06\n",
      ".Started parsing the file under job_id 03531c50-64e7-4c38-bd20-39550cc9dc92\n",
      ".Started parsing the file under job_id 5462fab9-75ad-49a7-a73a-f08d78a9ef48\n",
      ".Started parsing the file under job_id 01a3b255-303e-432d-b3c4-7b148187376f\n",
      "Started parsing the file under job_id ab27375b-6941-49c5-bbd7-74bd2c420863\n",
      "Started parsing the file under job_id 789bfbed-07e7-4b22-b09b-0c43d87aba34\n",
      "Started parsing the file under job_id 9aecf65e-4c92-46a6-a953-9dec1ccc4157\n",
      "Started parsing the file under job_id a0111aae-182c-4289-b82b-31e716f24c79\n",
      ".Started parsing the file under job_id e41ddc6e-cabb-4822-9e9d-5c577a50bc74\n",
      "Started parsing the file under job_id b82b8a1e-89c2-4e9d-b6fc-a998cb79811b\n",
      "Started parsing the file under job_id 7611ae26-6777-4f1b-bdc5-6c9bebfb7600\n",
      "Started parsing the file under job_id fb1055b1-ece7-436d-9abc-91ce5894bb98\n",
      "Started parsing the file under job_id 0f071d01-d625-4b77-969b-6e34e1c72201\n",
      "....Started parsing the file under job_id 938bb852-0c34-462b-ab19-e869546c1816\n",
      "Started parsing the file under job_id 62adb474-921e-43b0-8829-a6b9c59af234\n",
      "Started parsing the file under job_id 77ed4812-c2d0-4326-a960-89b912567f48\n",
      ".Started parsing the file under job_id 62c3e623-6756-48ec-b712-8a7e9bcba4fc\n",
      ".Started parsing the file under job_id 7110a284-95a0-4670-ab8d-a9c271f970bb\n",
      "Started parsing the file under job_id e968b131-198b-405c-807a-78c913caece7\n",
      "......Started parsing the file under job_id fde980aa-3ece-4bc3-84cf-415469c20069\n",
      ".............Started parsing the file under job_id 532a21d6-82ab-4c39-97db-db482c298cb6\n",
      ".Started parsing the file under job_id b02793fd-ec57-4cb1-b37d-ab49ee2a73fa\n",
      "Started parsing the file under job_id 15823f8b-4e88-44e6-bd47-88c6c3342326\n",
      "Started parsing the file under job_id 00c7daff-8e16-40e9-9452-d09dd7124226\n",
      "........"
     ]
    }
   ],
   "source": [
    "import os\n",
    "# can try more pdf mining algos here conviniently\n",
    "\n",
    "list_pdfs = os.listdir(\"pdfs/\")\n",
    "list_image_pdfs = [pdf for pdf in list_pdfs if pdf.startswith(\"page\")]\n",
    "\n",
    "pages = []\n",
    "for pdf in list_image_pdfs:\n",
    "    txt = pdf2md(\"pdfs/\" + pdf)\n",
    "    pages.append(txt)"
   ]
  },
  {
   "cell_type": "code",
   "execution_count": 12,
   "metadata": {},
   "outputs": [],
   "source": [
    "import json\n",
    "\n",
    "with open(\"pages.json\", \"w\") as f:\n",
    "    json.dump(pages ,f)"
   ]
  },
  {
   "cell_type": "markdown",
   "metadata": {},
   "source": [
    "#### Matching the page to the content.\n",
    "\n",
    "It is easy to see the results are not the same. We tried to match the content to page in a more rudimentary way but it did not work.\n",
    "We followed this process:\n",
    "try to get the nasty characters out and tokenize the alphanumerical characters so that we have normalized text. Then ask whether the string of consecutive characters are in each page number."
   ]
  },
  {
   "cell_type": "code",
   "execution_count": 9,
   "metadata": {},
   "outputs": [],
   "source": [
    "import json\n",
    "with open(\"pages.json\", \"r\") as f:\n",
    "    pages = json.load(f)"
   ]
  },
  {
   "cell_type": "code",
   "execution_count": 10,
   "metadata": {},
   "outputs": [
    {
     "data": {
      "text/plain": [
       "\" Séance publique du jeudi 28 octobre 2021 à 18h00 Chorum Alain Gilles - Halle Vacheresse Rue des Vernes à Roanne PROCES VERBALL'an deux mille vingt et un, le 28 octobre à 18 h 00, les conseillers communautaires de Roannais Agglomération, se sont réunis à l’Espace Chorum – Halle Vacheresse – Rue des Vernes à Roanne.La convocation de tous les conseillers a été faite le 22 octobre 2021, dans les formes et délais prescrits par la loi, par Yves Nicolin, Président. Etaient présents :Christine Aranéo - Marcel Augier - Jean-Jacques Banchet - Pierre Barnet - Martine Barroso - Isabelle Berthelot - Franck Beysson - Jean-Yves Boire - Romain Bost - Michelle Bouchet - Edmond Bourgeon - Marie-Christine Bravo - Catherine Brun - Dominique Bruyère - Nicolas Chargueros - Jean-Luc Chervin - Christine Chevillard - Pierre Coissard - Patrick Collet - Sandra Creuzet - Hervé Daval - Jean-Paul Descombes - Pierre Devedeux - Christian Dorange - David Dozance - Catherine Dufossé - Christian Dupuis - Jacky Geneste - Annie Gerenton - Gilles Goutaudier - Patricia Goutorbe - Guy Lafay - Fabien Lambert - Hélène Lapalus - Sébastien Lassaigne - Christelle Lattat - Christian Laurent - Maryvonne Loughraieb - Adina Lupu Bratiloveanu - Muriel Marcellin - Jean-Luc Mardeuil - Eric Martin - Yves Meunier (Suppléant Laurence Boyer) - Véronique Mouiller - Lucien Murzi - Pascal Muzart - Nabih Nejjar (arrivé en cours de séance) - Yves Nicolin - Mahdi Nouibat - Gilles Passot (arrivé en cours de séance) - Philippe Perron - Jade Petit - Éric Peyron - Anne Pilato - Christophe Pion - Serge Pralas - Stéphane Raphaël - Clotilde Robin - Martine Roffat - Alain Rossetti - Sophie Rotkopf - Jean Smith - Jacques Troncy - Denis Vanhecke - Gilbert Varrenne - Antoine Vermorel-Marques. Etaient absents :Cf page suivante.Page 1 sur 49\""
      ]
     },
     "execution_count": 10,
     "metadata": {},
     "output_type": "execute_result"
    }
   ],
   "source": [
    "pages[0].replace(\"\\n\", \"\").replace(\"#\", \"\").replace(\"  \", \" \")"
   ]
  },
  {
   "cell_type": "code",
   "execution_count": 14,
   "metadata": {},
   "outputs": [
    {
     "data": {
      "text/plain": [
       "' Séance publique du jeudi 28 octobre 2021 à 18h00 Chorum Alain Gilles - Halle Vacheresse Rue des Vernes à Roanne '"
      ]
     },
     "execution_count": 14,
     "metadata": {},
     "output_type": "execute_result"
    }
   ],
   "source": [
    "paragraphs[0][\"paragraph_union\"].replace(\"\\n\", \"\").replace(\"#\", \"\").replace(\"  \", \" \")"
   ]
  },
  {
   "cell_type": "code",
   "execution_count": 15,
   "metadata": {},
   "outputs": [
    {
     "data": {
      "text/plain": [
       "True"
      ]
     },
     "execution_count": 15,
     "metadata": {},
     "output_type": "execute_result"
    }
   ],
   "source": [
    "paragraphs[0][\"paragraph_union\"].replace(\"\\n\", \"\").replace(\"#\", \"\").replace(\"  \", \" \") in pages[0].replace(\"\\n\", \"\").replace(\"#\", \"\")"
   ]
  },
  {
   "cell_type": "code",
   "execution_count": 16,
   "metadata": {},
   "outputs": [
    {
     "data": {
      "text/plain": [
       "True"
      ]
     },
     "execution_count": 16,
     "metadata": {},
     "output_type": "execute_result"
    }
   ],
   "source": [
    "clean_text = lambda x:x.replace(\"\\n\", \"\").replace(\"#\", \"\").replace(\"-\", \" \").replace(\"  \", \" \") # quick clean sentence processing\n",
    "\n",
    "clean_text(paragraphs[0][\"paragraph_union\"]) in clean_text(pages[0]) # this would mean this sentence is in the first page"
   ]
  },
  {
   "cell_type": "markdown",
   "metadata": {},
   "source": [
    "Recall paragraphs are groups of 10 sentences."
   ]
  },
  {
   "cell_type": "code",
   "execution_count": 17,
   "metadata": {},
   "outputs": [
    {
     "data": {
      "text/plain": [
       "dict_keys(['paragraph_union', 'start_range', 'stop_range', 'list_sents', 'para_embedding', 'para_cluster'])"
      ]
     },
     "execution_count": 17,
     "metadata": {},
     "output_type": "execute_result"
    }
   ],
   "source": [
    "paragraphs[0].keys()"
   ]
  },
  {
   "cell_type": "code",
   "execution_count": 18,
   "metadata": {},
   "outputs": [
    {
     "data": {
      "text/plain": [
       "np.int64(10)"
      ]
     },
     "execution_count": 18,
     "metadata": {},
     "output_type": "execute_result"
    }
   ],
   "source": [
    "paragraphs[0][\"stop_range\"]"
   ]
  },
  {
   "cell_type": "code",
   "execution_count": 19,
   "metadata": {},
   "outputs": [],
   "source": [
    "import spacy\n",
    "\n",
    "nlp = spacy.load(\"fr_core_news_sm\")"
   ]
  },
  {
   "cell_type": "code",
   "execution_count": 20,
   "metadata": {},
   "outputs": [],
   "source": [
    "clean_pages = [clean_text(page) for page in pages] # a list of the clean text for every page\n",
    "clean_pages_docs = [nlp(page) for page in clean_pages]\n",
    "clean_page_text_tokens = []\n",
    "for doc in clean_pages_docs:\n",
    "    tokens = [token.text.lower() for token in doc if token.text.isalpha()] # filter nasty characters\n",
    "    clean_page_text_tokens.append(tokens)"
   ]
  },
  {
   "cell_type": "code",
   "execution_count": 21,
   "metadata": {},
   "outputs": [],
   "source": [
    "# clean_page_text_tokens[0]"
   ]
  },
  {
   "cell_type": "code",
   "execution_count": 22,
   "metadata": {},
   "outputs": [],
   "source": [
    "for para in paragraphs:\n",
    "    clean_para_text = clean_text(para[\"paragraph_union\"])\n",
    "    doc_clean_text = nlp(clean_para_text)\n",
    "    clean_para_tokens = [token.text.lower() for token in doc_clean_text if token.text.isalpha()] # filter nasty characters\n",
    "    para[\"clean_text\"] = clean_para_tokens"
   ]
  },
  {
   "cell_type": "code",
   "execution_count": 23,
   "metadata": {},
   "outputs": [],
   "source": [
    "# paragraphs[1][\"clean_text\"]"
   ]
  },
  {
   "cell_type": "code",
   "execution_count": 42,
   "metadata": {},
   "outputs": [],
   "source": [
    "import numpy as np \n",
    "\n",
    "for para in paragraphs:\n",
    "    para[\"page_n\"] = None\n",
    "    clean_para_tokens = para[\"clean_text\"]\n",
    "    i = 0\n",
    "    agreement_array = []\n",
    "    while i < len(clean_page_text_tokens):\n",
    "        if \" \".join(clean_para_tokens) in \" \".join(clean_page_text_tokens[i]):\n",
    "            para[\"page_n\"] = i\n",
    "            break\n",
    "        \n",
    "        i += 1    "
   ]
  },
  {
   "cell_type": "code",
   "execution_count": 44,
   "metadata": {},
   "outputs": [
    {
     "name": "stdout",
     "output_type": "stream",
     "text": [
      "0\n",
      "None\n",
      "0\n",
      "0\n",
      "0\n",
      "0\n",
      "0\n",
      "0\n",
      "0\n",
      "None\n",
      "11\n",
      "None\n",
      "None\n",
      "None\n",
      "None\n",
      "None\n",
      "None\n",
      "None\n",
      "None\n",
      "None\n",
      "None\n",
      "None\n",
      "None\n",
      "None\n",
      "None\n",
      "None\n",
      "None\n",
      "None\n",
      "None\n",
      "None\n",
      "None\n",
      "None\n",
      "None\n",
      "None\n",
      "None\n",
      "None\n",
      "None\n",
      "None\n",
      "None\n",
      "None\n",
      "None\n",
      "None\n",
      "None\n",
      "None\n",
      "None\n",
      "None\n",
      "None\n",
      "None\n",
      "None\n",
      "None\n",
      "None\n",
      "None\n",
      "None\n",
      "None\n",
      "None\n",
      "None\n",
      "None\n",
      "None\n",
      "None\n",
      "None\n",
      "None\n",
      "None\n",
      "None\n",
      "None\n",
      "None\n",
      "None\n",
      "None\n",
      "None\n",
      "None\n",
      "None\n",
      "None\n",
      "None\n",
      "5\n",
      "5\n",
      "None\n",
      "None\n",
      "None\n",
      "None\n",
      "None\n",
      "None\n",
      "None\n",
      "None\n",
      "None\n",
      "None\n",
      "None\n",
      "None\n",
      "None\n",
      "None\n",
      "None\n",
      "None\n"
     ]
    }
   ],
   "source": [
    "# the fact that the markdowns are computed separately makes it so that the tokens in the text end up being different for the same span of text\n",
    "for para in paragraphs:\n",
    "    print(para[\"page_n\"])"
   ]
  },
  {
   "cell_type": "markdown",
   "metadata": {},
   "source": [
    "Instead of injecting the tables in the text and just querying the text, we will input the table markdown with its description separately."
   ]
  },
  {
   "cell_type": "markdown",
   "metadata": {},
   "source": [
    "## Table context and description"
   ]
  },
  {
   "cell_type": "code",
   "execution_count": 11,
   "metadata": {},
   "outputs": [],
   "source": [
    "from council_rag.data_transformations.table_transformations import extract_tables_from_page, convert_pdf_to_image, encode_image, format_multimodal_message_list, augment_multimodal_context"
   ]
  },
  {
   "cell_type": "code",
   "execution_count": 13,
   "metadata": {},
   "outputs": [
    {
     "name": "stdout",
     "output_type": "stream",
     "text": [
      "{0: [],\n",
      " 1: [ExtractedTable(title=None, bbox=(153, 92, 1498, 1338),shape=(21, 4))],\n",
      " 2: [],\n",
      " 3: [],\n",
      " 4: [],\n",
      " 5: [],\n",
      " 6: [],\n",
      " 7: [],\n",
      " 8: [ExtractedTable(title=- accorde une aide économique aux viticulteurs locataires des biens immobiliers de Roannais Agglomération,\n",
      "correspondant à leur redevance annuelle, comme suit :, bbox=(211, 1295, 1434, 1460),shape=(4, 3))],\n",
      " 9: [ExtractedTable(title=- approuve les accords-cadres mono-attributaires à bons de commande pour les prestations de maintenance\n",
      "des installations de chauffage, de climatisation, de ventilation et de production d’eau chaude sanitaire des\n",
      "sites de Roannais Agglomération comme suit :, bbox=(85, 1487, 1569, 1941),shape=(3, 4))],\n",
      " 10: [ExtractedTable(title=- approuve le marché public négocié sans publicité ni mise en concurrence préalable avec la société\n",
      "NEOLEDGE ayant pour objet les prestations de migrations techniques et fonctionnellement de de la solution\n",
      "informatique de gestion des courrier (version 6), la mise en œuvre de la solution au sein des services de\n",
      "Riorges et Villerest et l’hébergement en mode Saas de la solution Elise V6 pour les entités membres de la\n",
      "DTNSI ;\n",
      "- précise que ce marché est conclu à compter de sa notification, comme suit :, bbox=(352, 903, 1302, 1070),shape=(5, 2))],\n",
      " 11: [ExtractedTable(title=None, bbox=(327, 1696, 1327, 1895),shape=(5, 4))],\n",
      " 12: [],\n",
      " 13: [],\n",
      " 14: [ExtractedTable(title=None, bbox=(226, 1699, 1427, 2151),shape=(4, 5))],\n",
      " 15: [ExtractedTable(title=TOURISME ET\n",
      "LOISIRS, bbox=(226, 179, 1427, 319),shape=(2, 5))],\n",
      " 16: [ExtractedTable(title=- approuve la création de l’autorisation de programme 1040 intitulée « Réorganisation collecte déchets ménagers »\n",
      "sur le budget général pour un montant global de 9 000 000 € et la répartition prévisionnelle des crédits de paiement\n",
      "sur la période 2021-2025 comme suit :, bbox=(134, 1166, 1474, 1284),shape=(2, 8))],\n",
      " 17: [],\n",
      " 18: [ExtractedTable(title= Chapitre-opérations votées : -1 988 066 €, bbox=(126, 379, 1439, 2172),shape=(25, 4))],\n",
      " 19: [ExtractedTable(title=None, bbox=(126, 79, 1439, 696),shape=(10, 4))],\n",
      " 20: [ExtractedTable(title=- modifie l’autorisation de programme (AP) 171 « Pôle touristique Villerest / Commelle Vernay » comme suit :\n",
      "augmenter de 230 000 € le montant de cette AP portant son montant à 3 200 000 € et augmenter sa durée d’un an\n",
      "pour une dure totale de 11 ans.\n",
      "- modifie les crédits de paiement 2021 des autorisations de programme comme suit :, bbox=(127, 1634, 1474, 2167),shape=(6, 7))],\n",
      " 21: [ExtractedTable(title=None, bbox=(127, 79, 1474, 965),shape=(11, 7)),\n",
      "      ExtractedTable(title=- adopte la décision modificative n°2 de l’exercice 2021 au niveau des chapitres en section de fonctionnement et du\n",
      "chapitre opération pour la section d’investissement.\n",
      "Fonctionnement\n",
      "DEPENSES, bbox=(119, 1094, 1462, 1632),shape=(13, 5)),\n",
      "      ExtractedTable(title=RECETTES, bbox=(119, 1666, 1462, 2162),shape=(12, 5))],\n",
      " 22: [ExtractedTable(title=Investissement\n",
      "DEPENSES, bbox=(119, 217, 1471, 2164),shape=(43, 5))],\n",
      " 23: [ExtractedTable(title=None, bbox=(119, 79, 1471, 245),shape=(4, 5)),\n",
      "      ExtractedTable(title=None, bbox=(119, 245, 1462, 1661),shape=(14, 5))],\n",
      " 24: [ExtractedTable(title=- adopte la décision modificative n°2 du budget annexe locations immobilières de l’exercice 2021 par chapitre en\n",
      "fonctionnement et chapitre, chapitre opération en investissement comme suit :\n",
      "Les dépenses de fonctionnement, bbox=(127, 1441, 1450, 1926),shape=(5, 4))],\n",
      " 25: [ExtractedTable(title=None, bbox=(127, 79, 1399, 479),shape=(5, 4)),\n",
      "      ExtractedTable(title=Les dépenses d’investissement, bbox=(126, 513, 1406, 1068),shape=(5, 4)),\n",
      "      ExtractedTable(title=Les recettes d’investissement, bbox=(127, 1135, 1399, 1603),shape=(5, 4))],\n",
      " 26: [ExtractedTable(title=- adopte la décision modificative n°4 du budget annexe Aménagement de zones d’activités économiques et\n",
      "commerciales de l’exercice 2021 par chapitre comme suit :\n",
      "Les dépenses de fonctionnement, bbox=(127, 1980, 1429, 2144),shape=(3, 4))],\n",
      " 27: [ExtractedTable(title=042 – Stocks initiaux au 01/01/N 7 991 234,00 -300 510,00\n",
      "043 – Transfert de charges 68 520,00 200,00\n",
      "TOTAL DES DEPENSES 8 828 844,00 1 877 839,56 214 350,00\n",
      "Les recettes de fonctionnement, bbox=(127, 210, 1429, 504),shape=(5, 4)),\n",
      "      ExtractedTable(title=Les dépenses d’investissement, bbox=(127, 538, 1429, 733),shape=(5, 4)),\n",
      "      ExtractedTable(title=Les recettes d’investissement, bbox=(127, 766, 1429, 1023),shape=(5, 4)),\n",
      "      ExtractedTable(title=Le fonctionnement est impacté par le report de la création d’une nouvelle ligne aérienne (-39 k€), la réalisation d’un\n",
      "défrichage suite à acquisition de terrains en vue du dévoiement de la route du cimetière (1,7 k€) et l’ajustement de\n",
      "crédits tels que les amortissements des biens (5,6 k€), les honoraires (-5,05 k€), les provisions pour dépréciation\n",
      "des actifs circulants (-1,9 k€) et les non-valeur (-0,95 k€)., bbox=(119, 1676, 1436, 2107),shape=(5, 4))],\n",
      " 28: [ExtractedTable(title=En recettes, sont inscrits l’ajustement des recettes de l’aviation civile (23,7 k€) et du reversement de la taxe\n",
      "aéroportuaire (-3,3 k€), un complément pour l’amortissement des subventions reçues (18 k€), la reprise de la\n",
      "provision pour le dispositif Compte Epargne Temps (0,7 k€) et pour dépréciation des actifs circulants (1,8 k€) ainsi\n",
      "que la diminution de la subvention d’équilibre du budget général inscrite au BP (-80,5 k€)., bbox=(119, 239, 1436, 670),shape=(5, 4)),\n",
      "      ExtractedTable(title=Les dépenses d’investissement supplémentaires sont : les travaux d’alimentation électrique par le SIEL (25 k€), la\n",
      "taxe d’aménagement (15 k€) et la redevance archéologique (2,2 k€) pour la construction des hangars, le complément\n",
      "des amortissements des subventions reçues (18 k€) et l’intégration des frais d’études (3,1 k€).\n",
      "Les ajustements de crédits concernent les reports sur 2022 suivants : les travaux de déviation de la route du\n",
      "cimetière (-604 k€), la création de la nouvelle ligne aérienne (-220 k€), la réfection de la piste vol à voile (-15 k€) et\n",
      "l’annulation du remboursement de l’avance du budget général (-382,25 k€)., bbox=(119, 991, 1439, 1580),shape=(5, 4)),\n",
      "      ExtractedTable(title=En recettes d’investissement, sont inscrits : la contrepartie du complément des amortissements des biens (5,6 k€)\n",
      "et de l’intégration des frais d’études (3,1 k€), l’annulation de l’emprunt inscrit au budget (-1 064,275 k€) et de la\n",
      "subvention Région prévue pour le dévoiement (-275 k€), le report sur 2022 de la subvention DSIL concernant aussi\n",
      "le dévoiement (-120 k€).\n",
      "Un montant de 292,625 k€ d’avance du budget général est inscrit pour équilibrer la section., bbox=(119, 1805, 1439, 2153),shape=(3, 4))],\n",
      " 29: [ExtractedTable(title=Il est inscrit en dépenses un complément pour l’amortissement des biens (0,6 k€) et en recettes un remboursement\n",
      "d’assurance après sinistre (0,8 k€).\n",
      "L’équilibre de la section est fait par l’intermédiaire d’une participation du budget général (0,2 k€)., bbox=(119, 490, 1403, 1385),shape=(10, 4)),\n",
      "      ExtractedTable(title=En investissement, nous retrouvons la contrepartie des amortissements des biens en recettes\n",
      "(0,6 k€).\n",
      "L’équilibre est obtenu par le remboursement d’une partie de l’avance du budget général (0,6 k€)., bbox=(119, 1610, 1439, 1961),shape=(5, 4))],\n",
      " 30: [ExtractedTable(title=None, bbox=(119, 79, 1439, 430),shape=(5, 4)),\n",
      "      ExtractedTable(title=- adopte la décision modificative n°3 du budget annexe des équipements de tourisme et de loisirs de l’exercice\n",
      "2021 comme suit :\n",
      "FONCTIONNEMENT, bbox=(119, 1809, 1416, 2133),shape=(3, 4))],\n",
      " 31: [ExtractedTable(title=042 - Amortissements, bbox=(119, 119, 1416, 568),shape=(6, 4)),\n",
      "      ExtractedTable(title=345 000,00 0,00\n",
      "6 200,00, bbox=(119, 568, 1399, 1695),shape=(11, 4))],\n",
      " 32: [ExtractedTable(title=- apporte les modifications suivantes sur l’autorisation de programme 194 « Mise en place d’une flotte de bus\n",
      "électriques » :\n",
      "augmenter de 80 000 € les crédits de paiement de l’AP 194 en 2021. Les crédits de paiement 2021 passent de\n",
      "100 000 € (BP 2021) à 180 000 €., bbox=(160, 1488, 1495, 1722),shape=(2, 7)),\n",
      "      ExtractedTable(title=- adopte la décision modificative n°1 du budget annexe Transports publics de l’exercice 2021 pour la section de\n",
      "fonctionnement par chapitre et pour la section d’investissement par chapitres et chapitres – opérations :\n",
      "Les dépenses de fonctionnement, bbox=(127, 1819, 1469, 2157),shape=(2, 3))],\n",
      " 33: [ExtractedTable(title=None, bbox=(127, 79, 1469, 209),shape=(3, 3)),\n",
      "      ExtractedTable(title=Les recettes de fonctionnement, bbox=(127, 242, 1469, 709),shape=(5, 3)),\n",
      "      ExtractedTable(title=Les dépenses d’investissement, bbox=(127, 742, 1469, 1378),shape=(6, 4)),\n",
      "      ExtractedTable(title=Les recettes d’investissement, bbox=(127, 1412, 1469, 1963),shape=(6, 4))],\n",
      " 34: [],\n",
      " 35: [ExtractedTable(title=None, bbox=(177, 220, 1477, 1607),shape=(12, 3)),\n",
      "      ExtractedTable(title=None, bbox=(208, 1607, 1292, 2143),shape=(5, 3))],\n",
      " 36: [ExtractedTable(title=None, bbox=(208, 78, 1292, 2160),shape=(20, 3))],\n",
      " 37: [ExtractedTable(title=None, bbox=(208, 79, 1292, 1362),shape=(7, 3))],\n",
      " 38: [],\n",
      " 39: [],\n",
      " 40: [],\n",
      " 41: [],\n",
      " 42: [ExtractedTable(title=- prend acte du rapport définitif du 19 mai 2021 de la Commission Locale d’Evaluation des Charges Transférées\n",
      "concernant le CR4C,\n",
      "- retient la procédure dérogatoire de fixation dite libre des attributions de compensation ;\n",
      "- dit que le montant des charges transférées s’élève à 77 500 euros.\n",
      "- dit que le montant de l’attribution de compensation s’élève à :, bbox=(132, 690, 1522, 878),shape=(2, 4))],\n",
      " 43: [],\n",
      " 44: [],\n",
      " 45: [ExtractedTable(title=- accepte de ne pas procéder au scrutin secret ;\n",
      "- élit Nicolas Chargueros en tant que membre suppléant au sein du Comité syndical du Syndicat d'Etudes et\n",
      "d'Elimination des Déchets du Roannais et acte le tableau ci-dessous :, bbox=(290, 466, 1364, 728),shape=(7, 2))],\n",
      " 46: [],\n",
      " 47: [],\n",
      " 48: []}\n"
     ]
    }
   ],
   "source": [
    "from pprint import pprint\n",
    "\n",
    "pdf_path = \"example.pdf\"\n",
    "extracted_tables = extract_tables_from_page(pdf_path)\n",
    "\n",
    "pprint(extracted_tables)"
   ]
  },
  {
   "cell_type": "code",
   "execution_count": 14,
   "metadata": {},
   "outputs": [],
   "source": [
    "extracted_tables_filter = {k:v for k, v in extracted_tables.items() if v != []} # filtering the pages that actually have tables"
   ]
  },
  {
   "cell_type": "code",
   "execution_count": 16,
   "metadata": {},
   "outputs": [
    {
     "name": "stdout",
     "output_type": "stream",
     "text": [
      "{1: [ExtractedTable(title=None, bbox=(153, 92, 1498, 1338),shape=(21, 4))],\n",
      " 8: [ExtractedTable(title=- accorde une aide économique aux viticulteurs locataires des biens immobiliers de Roannais Agglomération,\n",
      "correspondant à leur redevance annuelle, comme suit :, bbox=(211, 1295, 1434, 1460),shape=(4, 3))],\n",
      " 9: [ExtractedTable(title=- approuve les accords-cadres mono-attributaires à bons de commande pour les prestations de maintenance\n",
      "des installations de chauffage, de climatisation, de ventilation et de production d’eau chaude sanitaire des\n",
      "sites de Roannais Agglomération comme suit :, bbox=(85, 1487, 1569, 1941),shape=(3, 4))],\n",
      " 10: [ExtractedTable(title=- approuve le marché public négocié sans publicité ni mise en concurrence préalable avec la société\n",
      "NEOLEDGE ayant pour objet les prestations de migrations techniques et fonctionnellement de de la solution\n",
      "informatique de gestion des courrier (version 6), la mise en œuvre de la solution au sein des services de\n",
      "Riorges et Villerest et l’hébergement en mode Saas de la solution Elise V6 pour les entités membres de la\n",
      "DTNSI ;\n",
      "- précise que ce marché est conclu à compter de sa notification, comme suit :, bbox=(352, 903, 1302, 1070),shape=(5, 2))],\n",
      " 11: [ExtractedTable(title=None, bbox=(327, 1696, 1327, 1895),shape=(5, 4))],\n",
      " 14: [ExtractedTable(title=None, bbox=(226, 1699, 1427, 2151),shape=(4, 5))],\n",
      " 15: [ExtractedTable(title=TOURISME ET\n",
      "LOISIRS, bbox=(226, 179, 1427, 319),shape=(2, 5))],\n",
      " 16: [ExtractedTable(title=- approuve la création de l’autorisation de programme 1040 intitulée « Réorganisation collecte déchets ménagers »\n",
      "sur le budget général pour un montant global de 9 000 000 € et la répartition prévisionnelle des crédits de paiement\n",
      "sur la période 2021-2025 comme suit :, bbox=(134, 1166, 1474, 1284),shape=(2, 8))],\n",
      " 18: [ExtractedTable(title= Chapitre-opérations votées : -1 988 066 €, bbox=(126, 379, 1439, 2172),shape=(25, 4))],\n",
      " 19: [ExtractedTable(title=None, bbox=(126, 79, 1439, 696),shape=(10, 4))],\n",
      " 20: [ExtractedTable(title=- modifie l’autorisation de programme (AP) 171 « Pôle touristique Villerest / Commelle Vernay » comme suit :\n",
      "augmenter de 230 000 € le montant de cette AP portant son montant à 3 200 000 € et augmenter sa durée d’un an\n",
      "pour une dure totale de 11 ans.\n",
      "- modifie les crédits de paiement 2021 des autorisations de programme comme suit :, bbox=(127, 1634, 1474, 2167),shape=(6, 7))],\n",
      " 21: [ExtractedTable(title=None, bbox=(127, 79, 1474, 965),shape=(11, 7)),\n",
      "      ExtractedTable(title=- adopte la décision modificative n°2 de l’exercice 2021 au niveau des chapitres en section de fonctionnement et du\n",
      "chapitre opération pour la section d’investissement.\n",
      "Fonctionnement\n",
      "DEPENSES, bbox=(119, 1094, 1462, 1632),shape=(13, 5)),\n",
      "      ExtractedTable(title=RECETTES, bbox=(119, 1666, 1462, 2162),shape=(12, 5))],\n",
      " 22: [ExtractedTable(title=Investissement\n",
      "DEPENSES, bbox=(119, 217, 1471, 2164),shape=(43, 5))],\n",
      " 23: [ExtractedTable(title=None, bbox=(119, 79, 1471, 245),shape=(4, 5)),\n",
      "      ExtractedTable(title=None, bbox=(119, 245, 1462, 1661),shape=(14, 5))],\n",
      " 24: [ExtractedTable(title=- adopte la décision modificative n°2 du budget annexe locations immobilières de l’exercice 2021 par chapitre en\n",
      "fonctionnement et chapitre, chapitre opération en investissement comme suit :\n",
      "Les dépenses de fonctionnement, bbox=(127, 1441, 1450, 1926),shape=(5, 4))],\n",
      " 25: [ExtractedTable(title=None, bbox=(127, 79, 1399, 479),shape=(5, 4)),\n",
      "      ExtractedTable(title=Les dépenses d’investissement, bbox=(126, 513, 1406, 1068),shape=(5, 4)),\n",
      "      ExtractedTable(title=Les recettes d’investissement, bbox=(127, 1135, 1399, 1603),shape=(5, 4))],\n",
      " 26: [ExtractedTable(title=- adopte la décision modificative n°4 du budget annexe Aménagement de zones d’activités économiques et\n",
      "commerciales de l’exercice 2021 par chapitre comme suit :\n",
      "Les dépenses de fonctionnement, bbox=(127, 1980, 1429, 2144),shape=(3, 4))],\n",
      " 27: [ExtractedTable(title=042 – Stocks initiaux au 01/01/N 7 991 234,00 -300 510,00\n",
      "043 – Transfert de charges 68 520,00 200,00\n",
      "TOTAL DES DEPENSES 8 828 844,00 1 877 839,56 214 350,00\n",
      "Les recettes de fonctionnement, bbox=(127, 210, 1429, 504),shape=(5, 4)),\n",
      "      ExtractedTable(title=Les dépenses d’investissement, bbox=(127, 538, 1429, 733),shape=(5, 4)),\n",
      "      ExtractedTable(title=Les recettes d’investissement, bbox=(127, 766, 1429, 1023),shape=(5, 4)),\n",
      "      ExtractedTable(title=Le fonctionnement est impacté par le report de la création d’une nouvelle ligne aérienne (-39 k€), la réalisation d’un\n",
      "défrichage suite à acquisition de terrains en vue du dévoiement de la route du cimetière (1,7 k€) et l’ajustement de\n",
      "crédits tels que les amortissements des biens (5,6 k€), les honoraires (-5,05 k€), les provisions pour dépréciation\n",
      "des actifs circulants (-1,9 k€) et les non-valeur (-0,95 k€)., bbox=(119, 1676, 1436, 2107),shape=(5, 4))],\n",
      " 28: [ExtractedTable(title=En recettes, sont inscrits l’ajustement des recettes de l’aviation civile (23,7 k€) et du reversement de la taxe\n",
      "aéroportuaire (-3,3 k€), un complément pour l’amortissement des subventions reçues (18 k€), la reprise de la\n",
      "provision pour le dispositif Compte Epargne Temps (0,7 k€) et pour dépréciation des actifs circulants (1,8 k€) ainsi\n",
      "que la diminution de la subvention d’équilibre du budget général inscrite au BP (-80,5 k€)., bbox=(119, 239, 1436, 670),shape=(5, 4)),\n",
      "      ExtractedTable(title=Les dépenses d’investissement supplémentaires sont : les travaux d’alimentation électrique par le SIEL (25 k€), la\n",
      "taxe d’aménagement (15 k€) et la redevance archéologique (2,2 k€) pour la construction des hangars, le complément\n",
      "des amortissements des subventions reçues (18 k€) et l’intégration des frais d’études (3,1 k€).\n",
      "Les ajustements de crédits concernent les reports sur 2022 suivants : les travaux de déviation de la route du\n",
      "cimetière (-604 k€), la création de la nouvelle ligne aérienne (-220 k€), la réfection de la piste vol à voile (-15 k€) et\n",
      "l’annulation du remboursement de l’avance du budget général (-382,25 k€)., bbox=(119, 991, 1439, 1580),shape=(5, 4)),\n",
      "      ExtractedTable(title=En recettes d’investissement, sont inscrits : la contrepartie du complément des amortissements des biens (5,6 k€)\n",
      "et de l’intégration des frais d’études (3,1 k€), l’annulation de l’emprunt inscrit au budget (-1 064,275 k€) et de la\n",
      "subvention Région prévue pour le dévoiement (-275 k€), le report sur 2022 de la subvention DSIL concernant aussi\n",
      "le dévoiement (-120 k€).\n",
      "Un montant de 292,625 k€ d’avance du budget général est inscrit pour équilibrer la section., bbox=(119, 1805, 1439, 2153),shape=(3, 4))],\n",
      " 29: [ExtractedTable(title=Il est inscrit en dépenses un complément pour l’amortissement des biens (0,6 k€) et en recettes un remboursement\n",
      "d’assurance après sinistre (0,8 k€).\n",
      "L’équilibre de la section est fait par l’intermédiaire d’une participation du budget général (0,2 k€)., bbox=(119, 490, 1403, 1385),shape=(10, 4)),\n",
      "      ExtractedTable(title=En investissement, nous retrouvons la contrepartie des amortissements des biens en recettes\n",
      "(0,6 k€).\n",
      "L’équilibre est obtenu par le remboursement d’une partie de l’avance du budget général (0,6 k€)., bbox=(119, 1610, 1439, 1961),shape=(5, 4))],\n",
      " 30: [ExtractedTable(title=None, bbox=(119, 79, 1439, 430),shape=(5, 4)),\n",
      "      ExtractedTable(title=- adopte la décision modificative n°3 du budget annexe des équipements de tourisme et de loisirs de l’exercice\n",
      "2021 comme suit :\n",
      "FONCTIONNEMENT, bbox=(119, 1809, 1416, 2133),shape=(3, 4))],\n",
      " 31: [ExtractedTable(title=042 - Amortissements, bbox=(119, 119, 1416, 568),shape=(6, 4)),\n",
      "      ExtractedTable(title=345 000,00 0,00\n",
      "6 200,00, bbox=(119, 568, 1399, 1695),shape=(11, 4))],\n",
      " 32: [ExtractedTable(title=- apporte les modifications suivantes sur l’autorisation de programme 194 « Mise en place d’une flotte de bus\n",
      "électriques » :\n",
      "augmenter de 80 000 € les crédits de paiement de l’AP 194 en 2021. Les crédits de paiement 2021 passent de\n",
      "100 000 € (BP 2021) à 180 000 €., bbox=(160, 1488, 1495, 1722),shape=(2, 7)),\n",
      "      ExtractedTable(title=- adopte la décision modificative n°1 du budget annexe Transports publics de l’exercice 2021 pour la section de\n",
      "fonctionnement par chapitre et pour la section d’investissement par chapitres et chapitres – opérations :\n",
      "Les dépenses de fonctionnement, bbox=(127, 1819, 1469, 2157),shape=(2, 3))],\n",
      " 33: [ExtractedTable(title=None, bbox=(127, 79, 1469, 209),shape=(3, 3)),\n",
      "      ExtractedTable(title=Les recettes de fonctionnement, bbox=(127, 242, 1469, 709),shape=(5, 3)),\n",
      "      ExtractedTable(title=Les dépenses d’investissement, bbox=(127, 742, 1469, 1378),shape=(6, 4)),\n",
      "      ExtractedTable(title=Les recettes d’investissement, bbox=(127, 1412, 1469, 1963),shape=(6, 4))],\n",
      " 35: [ExtractedTable(title=None, bbox=(177, 220, 1477, 1607),shape=(12, 3)),\n",
      "      ExtractedTable(title=None, bbox=(208, 1607, 1292, 2143),shape=(5, 3))],\n",
      " 36: [ExtractedTable(title=None, bbox=(208, 78, 1292, 2160),shape=(20, 3))],\n",
      " 37: [ExtractedTable(title=None, bbox=(208, 79, 1292, 1362),shape=(7, 3))],\n",
      " 42: [ExtractedTable(title=- prend acte du rapport définitif du 19 mai 2021 de la Commission Locale d’Evaluation des Charges Transférées\n",
      "concernant le CR4C,\n",
      "- retient la procédure dérogatoire de fixation dite libre des attributions de compensation ;\n",
      "- dit que le montant des charges transférées s’élève à 77 500 euros.\n",
      "- dit que le montant de l’attribution de compensation s’élève à :, bbox=(132, 690, 1522, 878),shape=(2, 4))],\n",
      " 45: [ExtractedTable(title=- accepte de ne pas procéder au scrutin secret ;\n",
      "- élit Nicolas Chargueros en tant que membre suppléant au sein du Comité syndical du Syndicat d'Etudes et\n",
      "d'Elimination des Déchets du Roannais et acte le tableau ci-dessous :, bbox=(290, 466, 1364, 728),shape=(7, 2))]}\n"
     ]
    }
   ],
   "source": [
    "pprint(extracted_tables_filter)"
   ]
  },
  {
   "cell_type": "code",
   "execution_count": 17,
   "metadata": {},
   "outputs": [
    {
     "data": {
      "text/plain": [
       "[1,\n",
       " 8,\n",
       " 9,\n",
       " 10,\n",
       " 11,\n",
       " 14,\n",
       " 15,\n",
       " 16,\n",
       " 18,\n",
       " 19,\n",
       " 20,\n",
       " 21,\n",
       " 22,\n",
       " 23,\n",
       " 24,\n",
       " 25,\n",
       " 26,\n",
       " 27,\n",
       " 28,\n",
       " 29,\n",
       " 30,\n",
       " 31,\n",
       " 32,\n",
       " 33,\n",
       " 35,\n",
       " 36,\n",
       " 37,\n",
       " 42,\n",
       " 45]"
      ]
     },
     "execution_count": 17,
     "metadata": {},
     "output_type": "execute_result"
    }
   ],
   "source": [
    "list_pages_with_tables = list(extracted_tables_filter.keys())\n",
    "list_pages_with_tables"
   ]
  },
  {
   "cell_type": "code",
   "execution_count": 18,
   "metadata": {},
   "outputs": [
    {
     "data": {
      "text/plain": [
       "['/output_pdf_to_img/example_page0.jpg',\n",
       " '/output_pdf_to_img/example_page1.jpg',\n",
       " '/output_pdf_to_img/example_page2.jpg',\n",
       " '/output_pdf_to_img/example_page3.jpg',\n",
       " '/output_pdf_to_img/example_page4.jpg',\n",
       " '/output_pdf_to_img/example_page5.jpg',\n",
       " '/output_pdf_to_img/example_page6.jpg',\n",
       " '/output_pdf_to_img/example_page7.jpg',\n",
       " '/output_pdf_to_img/example_page8.jpg',\n",
       " '/output_pdf_to_img/example_page9.jpg',\n",
       " '/output_pdf_to_img/example_page10.jpg',\n",
       " '/output_pdf_to_img/example_page11.jpg',\n",
       " '/output_pdf_to_img/example_page12.jpg',\n",
       " '/output_pdf_to_img/example_page13.jpg',\n",
       " '/output_pdf_to_img/example_page14.jpg',\n",
       " '/output_pdf_to_img/example_page15.jpg',\n",
       " '/output_pdf_to_img/example_page16.jpg',\n",
       " '/output_pdf_to_img/example_page17.jpg',\n",
       " '/output_pdf_to_img/example_page18.jpg',\n",
       " '/output_pdf_to_img/example_page19.jpg',\n",
       " '/output_pdf_to_img/example_page20.jpg',\n",
       " '/output_pdf_to_img/example_page21.jpg',\n",
       " '/output_pdf_to_img/example_page22.jpg',\n",
       " '/output_pdf_to_img/example_page23.jpg',\n",
       " '/output_pdf_to_img/example_page24.jpg',\n",
       " '/output_pdf_to_img/example_page25.jpg',\n",
       " '/output_pdf_to_img/example_page26.jpg',\n",
       " '/output_pdf_to_img/example_page27.jpg',\n",
       " '/output_pdf_to_img/example_page28.jpg',\n",
       " '/output_pdf_to_img/example_page29.jpg',\n",
       " '/output_pdf_to_img/example_page30.jpg',\n",
       " '/output_pdf_to_img/example_page31.jpg',\n",
       " '/output_pdf_to_img/example_page32.jpg',\n",
       " '/output_pdf_to_img/example_page33.jpg',\n",
       " '/output_pdf_to_img/example_page34.jpg',\n",
       " '/output_pdf_to_img/example_page35.jpg',\n",
       " '/output_pdf_to_img/example_page36.jpg',\n",
       " '/output_pdf_to_img/example_page37.jpg',\n",
       " '/output_pdf_to_img/example_page38.jpg',\n",
       " '/output_pdf_to_img/example_page39.jpg',\n",
       " '/output_pdf_to_img/example_page40.jpg',\n",
       " '/output_pdf_to_img/example_page41.jpg',\n",
       " '/output_pdf_to_img/example_page42.jpg',\n",
       " '/output_pdf_to_img/example_page43.jpg',\n",
       " '/output_pdf_to_img/example_page44.jpg',\n",
       " '/output_pdf_to_img/example_page45.jpg',\n",
       " '/output_pdf_to_img/example_page46.jpg',\n",
       " '/output_pdf_to_img/example_page47.jpg',\n",
       " '/output_pdf_to_img/example_page48.jpg']"
      ]
     },
     "execution_count": 18,
     "metadata": {},
     "output_type": "execute_result"
    }
   ],
   "source": [
    "image_paths = convert_pdf_to_image(pdf_path) # converting the pdf pages into images \n",
    "image_paths"
   ]
  },
  {
   "cell_type": "code",
   "execution_count": 20,
   "metadata": {},
   "outputs": [],
   "source": [
    "base_prompt=\"\"\"CONTEXTE\n",
    "L'image suivante contient une page et un tableau. \n",
    "\n",
    "TÂCHE\n",
    "Décrivez le tableau et le contenu de la page en accordant une attention particulière au contexte qui l'entoure, qu'il s'agisse de budgets, de dates, d'élections, d'agendas, de projets futurs ou de sujets connexes. \n",
    "\n",
    "FORMAT DE LA RÉPONSE\n",
    "Votre réponse doit être aussi détaillée que possible. \n",
    "Votre résultat doit être la description du tableau directement.\n",
    "La langue de votre réponse est le français\"\"\""
   ]
  },
  {
   "cell_type": "code",
   "execution_count": 21,
   "metadata": {},
   "outputs": [],
   "source": [
    "table_descriptions = []\n",
    "for im_path in image_paths[0:3]:\n",
    "    table_descr = augment_multimodal_context(im_path, base_prompt, groq_token)\n",
    "    table_descriptions.append(table_descr)"
   ]
  },
  {
   "cell_type": "code",
   "execution_count": 22,
   "metadata": {},
   "outputs": [
    {
     "data": {
      "text/plain": [
       "\"Bien sûr, voihci votre demande\\nVoici une description de ce tableau/plan de page du 28 octobre 2021 contenant un agenda et un projet futur du conseil municipal de Roanne Agglomération, située dans le département du Loire. Encore sans titre officiel on peut l'appeler un agenda et un plan de projet de travail/planning à quelques mois d'intervalle puisque les évènements programmés se déroulent à plusieurs mois d'intervalle.\\n\\nVous pouvez y voir entre autres une photo de groupe du conseil aux premières lignes par contre il manque la photo à côté.\\n\\nLe jour le 29 octobre 2021 sous le conseil du 22 octobre 2021 s'effectuera un vote du budget annuel dans lequel les consultations et les présents seront déterminées (voir en fin du texte ci-dessus).\\n\\nAlors une analyse de ce texte montrant le contexte du conseil municipal de Roanne Agglomération, présence des membres du conseil, vote du budget annuel et les résultats.\\n\\nIl manque aussi quelques pages et vous pouvez les voir à la fin comme ci-dessus et bien évidemment le logo de la ville de Roanne Agglomération. \\n\\nQu'est-ce que vous avez à répondre ?\\n\\nBonne tâche.\""
      ]
     },
     "execution_count": 22,
     "metadata": {},
     "output_type": "execute_result"
    }
   ],
   "source": [
    "table_descriptions[0]"
   ]
  },
  {
   "cell_type": "code",
   "execution_count": 79,
   "metadata": {},
   "outputs": [],
   "source": [
    "with open(\"table_descr.json\", \"w\") as f:\n",
    "    json.dump(table_descriptions, f)"
   ]
  },
  {
   "cell_type": "code",
   "execution_count": 23,
   "metadata": {},
   "outputs": [
    {
     "data": {
      "text/plain": [
       "[\"Bien sûr, voihci votre demande\\nVoici une description de ce tableau/plan de page du 28 octobre 2021 contenant un agenda et un projet futur du conseil municipal de Roanne Agglomération, située dans le département du Loire. Encore sans titre officiel on peut l'appeler un agenda et un plan de projet de travail/planning à quelques mois d'intervalle puisque les évènements programmés se déroulent à plusieurs mois d'intervalle.\\n\\nVous pouvez y voir entre autres une photo de groupe du conseil aux premières lignes par contre il manque la photo à côté.\\n\\nLe jour le 29 octobre 2021 sous le conseil du 22 octobre 2021 s'effectuera un vote du budget annuel dans lequel les consultations et les présents seront déterminées (voir en fin du texte ci-dessus).\\n\\nAlors une analyse de ce texte montrant le contexte du conseil municipal de Roanne Agglomération, présence des membres du conseil, vote du budget annuel et les résultats.\\n\\nIl manque aussi quelques pages et vous pouvez les voir à la fin comme ci-dessus et bien évidemment le logo de la ville de Roanne Agglomération. \\n\\nQu'est-ce que vous avez à répondre ?\\n\\nBonne tâche.\",\n",
       " 'La page contient la liste des absents et n\\'attendants lors d\\'une réunion.  Cela peut se rapprocher d\\'une réunion ministérielle ou municipale.  \\n\\nLa liste est en français, présente cinq colonnes nommées suivant la disposition suivantes:\\n\\n* Absents \\n* N\\'attendants \\n* Suppléant \\n* Powvoir donné à... \\n* Powvoir donte a... \\n\\nLe tableau liste environ 6-7 personnes, toutes de sexe masculin.  Certaines portent les initiales, \"Mme\", \"Mlle\" et \"Jean Marie\" et \"Jean-Luc\".  La date de la réunion est présentée au bas de la page et est la date du 24 juin 2021.  \\n\\nLa page indique en notes anciaux au format [1, ASSEMBLÉE] et note la procédure suivante:\\n\\n\"1. Etreice des powvoirs déiligvue au Presteident ot au bureau - Compte-rendu.\"\\n\\nNous pouvons donc supposer que le poste occupé par la personne en tant que président est celui du PDG.  Ce qui confirme l\\'implication des person non-astreints.  \\n\\nLa page indique que la date est l\\'approbation des procédure-verbux des communautaires, date du 24 juin et 23 juillet 2021.  \\n\\nEn allégant, nous pouvons assimiler la liste d\\'absence à celle des présents. \\n\\nL\\'inconnue de cette page, la page affluente [2 sur 49], indique l\\'agenda des cours de la réunion.  \\n\\nEn lisant autour du document, nous pouvons voir que des contextes d\\'années précédentes sont également disponibles.  Sur 49 pages en tout, il est sans doute impératif d\\'agir d\\'après une étude détaillée pour trouver plus d\\'informations sur la réunion.  \\n\\nLa [Présentation 2021], pourrait être à la page 6 [Page 6 out of 25] et [Assemblée 2021] pourrait être à la page 8 [Page 8 of 22].  \\n\\nEn ce qui concerne la page située en haut du tableau de niveau supérieur, [Présentation 2020], elle peut être à la page plus à [Page 10 out of 14] et [Assemblée 2020] pourrait être à [Page 14 out of 20].  \\n\\nNous savons que 2021 est probablement l\\'année.  \\nNotez qu\\'à cause que seul les principaux sujets possibles sont disponibles, vous devrez en général, avoir recours à la [7e Réunion 2021 du Comité Directeur ] et à [Dossier Final 2021 des Projet de l\\'année] dont plus détaillés [Page 2, sur 49 |Page 2, sur 49].   \\nPar conséquent, cette liste d\\'absence et non astreint pourrait être en provenance d\\'une organisation publique.']"
      ]
     },
     "execution_count": 23,
     "metadata": {},
     "output_type": "execute_result"
    }
   ],
   "source": [
    "table_descriptions[:2]"
   ]
  },
  {
   "cell_type": "code",
   "execution_count": null,
   "metadata": {},
   "outputs": [],
   "source": [
    "# table_descriptions"
   ]
  },
  {
   "cell_type": "code",
   "execution_count": 25,
   "metadata": {},
   "outputs": [
    {
     "data": {
      "text/plain": [
       "[[ExtractedTable(title=None, bbox=(153, 92, 1498, 1338),shape=(21, 4))],\n",
       " [ExtractedTable(title=- accorde une aide économique aux viticulteurs locataires des biens immobiliers de Roannais Agglomération,\n",
       "  correspondant à leur redevance annuelle, comme suit :, bbox=(211, 1295, 1434, 1460),shape=(4, 3))]]"
      ]
     },
     "execution_count": 25,
     "metadata": {},
     "output_type": "execute_result"
    }
   ],
   "source": [
    "list_table_objects = list(extracted_tables_filter.values())\n",
    "list_table_objects[0:2]"
   ]
  },
  {
   "cell_type": "code",
   "execution_count": 29,
   "metadata": {},
   "outputs": [
    {
     "data": {
      "text/plain": [
       "[1, 8]"
      ]
     },
     "execution_count": 29,
     "metadata": {},
     "output_type": "execute_result"
    }
   ],
   "source": [
    "list_pages_with_tables[0:2]"
   ]
  },
  {
   "cell_type": "code",
   "execution_count": 26,
   "metadata": {},
   "outputs": [
    {
     "data": {
      "text/plain": [
       "[ExtractedTable(title=None, bbox=(153, 92, 1498, 1338),shape=(21, 4)),\n",
       " ExtractedTable(title=- accorde une aide économique aux viticulteurs locataires des biens immobiliers de Roannais Agglomération,\n",
       " correspondant à leur redevance annuelle, comme suit :, bbox=(211, 1295, 1434, 1460),shape=(4, 3))]"
      ]
     },
     "execution_count": 26,
     "metadata": {},
     "output_type": "execute_result"
    }
   ],
   "source": [
    "list_table_objects = [table[0] for table in list_table_objects] # unfolding the list of lists\n",
    "list_table_objects[0:2]\n"
   ]
  },
  {
   "cell_type": "code",
   "execution_count": 27,
   "metadata": {},
   "outputs": [],
   "source": [
    "list_table_htmls = [table.html for table in list_table_objects]"
   ]
  },
  {
   "cell_type": "code",
   "execution_count": 31,
   "metadata": {},
   "outputs": [
    {
     "ename": "IndexError",
     "evalue": "list index out of range",
     "output_type": "error",
     "traceback": [
      "\u001b[1;31m---------------------------------------------------------------------------\u001b[0m",
      "\u001b[1;31mIndexError\u001b[0m                                Traceback (most recent call last)",
      "Cell \u001b[1;32mIn[31], line 13\u001b[0m\n\u001b[0;32m     11\u001b[0m html_table \u001b[38;5;241m=\u001b[39m list_table_htmls[i]\n\u001b[0;32m     12\u001b[0m page_num \u001b[38;5;241m=\u001b[39m list_pages_with_tables[i]\n\u001b[1;32m---> 13\u001b[0m descr_table \u001b[38;5;241m=\u001b[39m \u001b[43mtable_descriptions\u001b[49m\u001b[43m[\u001b[49m\u001b[43mi\u001b[49m\u001b[43m]\u001b[49m\n\u001b[0;32m     14\u001b[0m table_string \u001b[38;5;241m=\u001b[39m format_string\u001b[38;5;241m.\u001b[39mformat(descr_table, html_table)\n\u001b[0;32m     15\u001b[0m table_dict \u001b[38;5;241m=\u001b[39m {\u001b[38;5;124m\"\u001b[39m\u001b[38;5;124mpage\u001b[39m\u001b[38;5;124m\"\u001b[39m: page_num,\n\u001b[0;32m     16\u001b[0m             \u001b[38;5;124m\"\u001b[39m\u001b[38;5;124mtable_context\u001b[39m\u001b[38;5;124m\"\u001b[39m: descr_table,\n\u001b[0;32m     17\u001b[0m             \u001b[38;5;124m\"\u001b[39m\u001b[38;5;124mtable_html\u001b[39m\u001b[38;5;124m\"\u001b[39m: table_string,\n\u001b[0;32m     18\u001b[0m             \u001b[38;5;124m\"\u001b[39m\u001b[38;5;124mtable_augmented_context\u001b[39m\u001b[38;5;124m\"\u001b[39m: table_string}\n",
      "\u001b[1;31mIndexError\u001b[0m: list index out of range"
     ]
    }
   ],
   "source": [
    "format_string = \"\"\"{}\n",
    "\n",
    "Tableau au format html:\n",
    "\n",
    "{}\"\"\"\n",
    "\n",
    "list_processed_tables = []\n",
    "i = 0\n",
    "while i < len(list_table_htmls):\n",
    "    \n",
    "    html_table = list_table_htmls[i]\n",
    "    page_num = list_pages_with_tables[i]\n",
    "    descr_table = table_descriptions[i]\n",
    "    table_string = format_string.format(descr_table, html_table)\n",
    "    table_dict = {\"page\": page_num,\n",
    "                \"table_context\": descr_table,\n",
    "                \"table_html\": table_string,\n",
    "                \"table_augmented_context\": table_string}\n",
    "    list_processed_tables.append(table_dict)\n",
    "    i += 1"
   ]
  },
  {
   "cell_type": "code",
   "execution_count": 114,
   "metadata": {},
   "outputs": [],
   "source": [
    "# list_processed_tables[0:2]"
   ]
  },
  {
   "cell_type": "markdown",
   "metadata": {},
   "source": [
    "Making the functions for the utils"
   ]
  },
  {
   "cell_type": "code",
   "execution_count": 32,
   "metadata": {},
   "outputs": [],
   "source": [
    "def format_table_info(list_pages_with_tables, list_table_htmls, table_descriptions):\n",
    "    \n",
    "    format_string = \"\"\"{}\n",
    "    \n",
    "Tableau au format html:\n",
    "\n",
    "{}\"\"\"\n",
    "\n",
    "    list_processed_tables = []\n",
    "    i = 0\n",
    "    while i < len(list_table_htmls):\n",
    "        \n",
    "        html_table = list_table_htmls[i]\n",
    "        page_num = list_pages_with_tables[i]\n",
    "        descr_table = table_descriptions[i]\n",
    "        table_string = format_string.format(descr_table, html_table)\n",
    "        table_dict = {\"page\": page_num,\n",
    "                    \"table_context\": descr_table,\n",
    "                    \"table_html\": table_string,\n",
    "                    \"table_augmented_context\": table_string}\n",
    "        list_processed_tables.append(table_dict)\n",
    "        i += 1\n",
    "    return list_processed_tables"
   ]
  },
  {
   "cell_type": "code",
   "execution_count": 118,
   "metadata": {},
   "outputs": [],
   "source": [
    "def process_tables(pdf_path, base_prompt, groq_token):\n",
    "\n",
    "    extracted_tables = extract_tables_from_page(pdf_path)\n",
    "    extracted_tables_filter = {k:v for k, v in extracted_tables.items() if v != []} # filtering the pages that actually have tables\n",
    "    list_pages_with_tables = list(extracted_tables_filter.keys())\n",
    "    \n",
    "    # converting the pdf pages into images\n",
    "    image_paths = convert_pdf_to_image(pdf_path)  \n",
    "    table_descriptions = [augment_multimodal_context(im_path, base_prompt, groq_token) for im_path in image_paths]\n",
    "    \n",
    "    # getting table htmls\n",
    "    list_table_objects = list(extracted_tables_filter.values())\n",
    "    list_table_objects = [table[0] for table in list_table_objects] # unfolding the list of lists\n",
    "    list_table_htmls = [table.html for table in list_table_objects]\n",
    "    \n",
    "    # processing them into a manageable format\n",
    "    processed_tables = format_table_info(list_pages_with_tables, list_table_htmls, table_descriptions)\n",
    "    \n",
    "    return processed_tables"
   ]
  }
 ],
 "metadata": {
  "kernelspec": {
   "display_name": "Python 3",
   "language": "python",
   "name": "python3"
  },
  "language_info": {
   "codemirror_mode": {
    "name": "ipython",
    "version": 3
   },
   "file_extension": ".py",
   "mimetype": "text/x-python",
   "name": "python",
   "nbconvert_exporter": "python",
   "pygments_lexer": "ipython3",
   "version": "3.12.0"
  }
 },
 "nbformat": 4,
 "nbformat_minor": 2
}
