{
 "cells": [
  {
   "cell_type": "code",
   "execution_count": 60,
   "metadata": {},
   "outputs": [
    {
     "ename": "ImportError",
     "evalue": "cannot import name 'dir_of_downloaded_pdf_to_markdown' from 'council_utils' (c:\\Users\\alber\\Desktop\\Council-Minutes\\Council-Minutes\\Alberto Research\\Preprocessing Techniques\\council_utils.py)",
     "output_type": "error",
     "traceback": [
      "\u001b[1;31m---------------------------------------------------------------------------\u001b[0m",
      "\u001b[1;31mImportError\u001b[0m                               Traceback (most recent call last)",
      "Cell \u001b[1;32mIn[60], line 1\u001b[0m\n\u001b[1;32m----> 1\u001b[0m \u001b[38;5;28;01mfrom\u001b[39;00m \u001b[38;5;21;01mcouncil_utils\u001b[39;00m \u001b[38;5;28;01mimport\u001b[39;00m dir_of_downloaded_pdf_to_markdown\n",
      "\u001b[1;31mImportError\u001b[0m: cannot import name 'dir_of_downloaded_pdf_to_markdown' from 'council_utils' (c:\\Users\\alber\\Desktop\\Council-Minutes\\Council-Minutes\\Alberto Research\\Preprocessing Techniques\\council_utils.py)"
     ]
    }
   ],
   "source": [
    "from council_utils import dir_of_downloaded_pdf_to_markdown"
   ]
  },
  {
   "cell_type": "code",
   "execution_count": null,
   "metadata": {},
   "outputs": [],
   "source": [
    "with open(\"LlamaParseKey\", \"r\") as f:\n",
    "    llama_parse_key = f.read()\n",
    "    \n",
    "data_folder = r\"Data for Development\""
   ]
  },
  {
   "cell_type": "code",
   "execution_count": 58,
   "metadata": {},
   "outputs": [
    {
     "name": "stdout",
     "output_type": "stream",
     "text": [
      "Error while parsing the file 'Data for Development\\BP_2009_rapport_INDEX1765.pdf': Failed to parse the file: {\"detail\":\"You've exceeded the maximum number of pages you can parse in a day (1000). Please contact support to increase your limit.\"}\n",
      "Error while parsing the file 'Data for Development\\CA_2012_rapport_INDEX11530.pdf': Failed to parse the file: {\"detail\":\"You've exceeded the maximum number of pages you can parse in a day (1000). Please contact support to increase your limit.\"}\n",
      "Error while parsing the file 'Data for Development\\Reglement_PLU_Segre_Modif1_INDEX5759.pdf': Failed to parse the file: {\"detail\":\"You've exceeded the maximum number of pages you can parse in a day (1000). Please contact support to increase your limit.\"}\n",
      "Error while parsing the file 'Data for Development\\vi807_INDEX4099-NOT-A-PROJECT.pdf': Failed to parse the file: {\"detail\":\"You've exceeded the maximum number of pages you can parse in a day (1000). Please contact support to increase your limit.\"}\n"
     ]
    }
   ],
   "source": [
    "markdowns = dir_of_downloaded_pdf_to_markdown(data_folder, llama_parse_key)"
   ]
  },
  {
   "cell_type": "code",
   "execution_count": 54,
   "metadata": {},
   "outputs": [
    {
     "data": {
      "text/plain": [
       "Document(id_='3d9302b6-9b50-4adc-ac74-e91dfa930836', embedding=None, metadata={}, excluded_embed_metadata_keys=[], excluded_llm_metadata_keys=[], relationships={}, metadata_template='{key}: {value}', metadata_separator='\\n', text_resource=MediaResource(embeddings=None, data=None, text='# Région Centre\\n\\n# Le Président\\n\\n# BUDGET PRIMITIF 2009\\n\\n# LE CONTEXTE D’ELABORATION DU BUDGET 2009 :\\n\\nUn contexte économique, social et politique particulier.\\n\\nA l’heure où un nouvel ordre économique et social mondial est à dessiner pour relever les défis de la crise financière actuelle, qui a mené jusqu’à la faillite d’un Etat comme l’Islande…l’ensemble des acteurs économiques, institutionnels...imaginent l’année 2009.\\n\\nLes bases économiques sont durablement fragilisées. Aussi, au deuxième trimestre 2008, l’économie mondiale a de nouveau ralenti. La France connaît déjà une panne de croissance avec la perspective d’une très probable récession en 2009. Ce contexte pèse fortement sur l’économie réelle avec le ralentissement des activités. Il a des conséquences directes sur l’emploi et sur le pouvoir d’achat. Le chômage est en hausse depuis la rentrée, particulièrement chez les jeunes, et les prévisions sont pessimistes pour 2009. Il faut aussi craindre que la crise affecte durement la capacité d’investissement des entreprises.\\n\\nLes collectivités locales seront ainsi très sollicitées en 2009 en termes d’interventions économiques et sociales.\\n\\nParallèlement, celles-ci servent de « variable d’ajustement » du budget de l’Etat en 2009. La Région en particulier est prise dans un étau entre des transferts de compétences mal compensés, et des recettes de plus en plus contraintes. La fiscalité directe ne représente plus que le quart de ses recettes de fonctionnement, le simple plafonnement de la Taxe Professionnelle intervenu depuis 2006 faisant subir une perte cumulée de recettes de 24 millions € en 2009.\\n\\nPour 2009, le Gouvernement a décidé de réduire à nouveau les ressources des collectivités en remettant en cause le « pacte de stabilité ». Les dotations qui constituent plus de la moitié des recettes de fonctionnement n’augmenteront que de 1,2% dans la mesure où l’Etat a choisi d’y intégrer le fonds de compensation de la TVA qui constitue un remboursement d’une partie des taxes payées sur les investissements réalisés.\\n\\nEn n’accordant pas aux Régions les moyens financiers correspondant à leurs responsabilités, l’Etat organise leur asphyxie financière par l’accroissement du coût des transferts de charges décidés en 2004 et la perte de leur autonomie fiscale.', path=None, url=None, mimetype=None), image_resource=None, audio_resource=None, video_resource=None, text_template='{metadata_str}\\n\\n{content}')"
      ]
     },
     "execution_count": 54,
     "metadata": {},
     "output_type": "execute_result"
    }
   ],
   "source": [
    "markdowns[0]"
   ]
  }
 ],
 "metadata": {
  "kernelspec": {
   "display_name": ".deep-env",
   "language": "python",
   "name": "python3"
  },
  "language_info": {
   "codemirror_mode": {
    "name": "ipython",
    "version": 3
   },
   "file_extension": ".py",
   "mimetype": "text/x-python",
   "name": "python",
   "nbconvert_exporter": "python",
   "pygments_lexer": "ipython3",
   "version": "3.12.0"
  }
 },
 "nbformat": 4,
 "nbformat_minor": 2
}
